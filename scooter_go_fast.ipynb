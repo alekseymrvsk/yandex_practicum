{
 "cells": [
  {
   "cell_type": "markdown",
   "id": "3d415681",
   "metadata": {},
   "source": [
    "**Аренда самокатов GoFast**<br>\n",
    "Цель проекта: проанализировать данные и проверить гипотезы, которые могут помочь бизнесу вырасти.<br>\n",
    "Общая информация о проекте и данных:<br>\n",
    "Чтобы совершать поездки по городу, пользователи сервиса GoFast пользуются мобильным приложением. Сервисом можно пользоваться:\n",
    "* без подписки<br>\n",
    "    абонентская плата отсутствует;<br>\n",
    "    стоимость одной минуты поездки — 8 рублей;<br>\n",
    "    стоимость старта (начала поездки) — 50 рублей;<br>\n",
    "* с подпиской Ultra<br>\n",
    "    абонентская плата — 199 рублей в месяц;<br>\n",
    "    стоимость одной минуты поездки — 6 рублей;<br>\n",
    "    стоимость старта — бесплатно.<br><br>\n",
    "\n",
    "В основных данных есть информация о пользователях, их поездках и подписках.<br><br>\n",
    "Пути к файлам с соответствующими данными:<br>\n",
    "/datasets/users_go.csv<br>\n",
    "/datasets/rides_go.csv<br>\n",
    "/datasets/subscriptions_go.csv<br>\n",
    "\n",
    "План проекта:<br>\n",
    "1) Загрузка данных<br>\n",
    "2) Предобработка данных<br>\n",
    "3) Исследовательский анализ данных<br>\n",
    "4) Объединение данных<br>\n",
    "5) Подсчёт выручки<br>\n",
    "6) Проверка гипотез<br>\n",
    "7) Общий вывод о работе<br>"
   ]
  },
  {
   "cell_type": "code",
   "execution_count": 1,
   "id": "72576667",
   "metadata": {},
   "outputs": [],
   "source": [
    "import pandas as pd\n",
    "import numpy as np\n",
    "from scipy import stats as st"
   ]
  },
  {
   "cell_type": "markdown",
   "id": "c42cbe00",
   "metadata": {},
   "source": [
    "#### Шаг 1. Загрузка данных"
   ]
  },
  {
   "cell_type": "code",
   "execution_count": 2,
   "id": "eff9f206",
   "metadata": {},
   "outputs": [],
   "source": [
    "users = pd.read_csv('/datasets/users_go.csv')\n",
    "rides = pd.read_csv('/datasets/rides_go.csv')\n",
    "subs = pd.read_csv('/datasets/subscriptions_go.csv')"
   ]
  },
  {
   "cell_type": "code",
   "execution_count": 3,
   "id": "081503c9",
   "metadata": {},
   "outputs": [
    {
     "data": {
      "text/html": [
       "<div>\n",
       "<style scoped>\n",
       "    .dataframe tbody tr th:only-of-type {\n",
       "        vertical-align: middle;\n",
       "    }\n",
       "\n",
       "    .dataframe tbody tr th {\n",
       "        vertical-align: top;\n",
       "    }\n",
       "\n",
       "    .dataframe thead th {\n",
       "        text-align: right;\n",
       "    }\n",
       "</style>\n",
       "<table border=\"1\" class=\"dataframe\">\n",
       "  <thead>\n",
       "    <tr style=\"text-align: right;\">\n",
       "      <th></th>\n",
       "      <th>user_id</th>\n",
       "      <th>name</th>\n",
       "      <th>age</th>\n",
       "      <th>city</th>\n",
       "      <th>subscription_type</th>\n",
       "    </tr>\n",
       "  </thead>\n",
       "  <tbody>\n",
       "    <tr>\n",
       "      <th>0</th>\n",
       "      <td>1</td>\n",
       "      <td>Кира</td>\n",
       "      <td>22</td>\n",
       "      <td>Тюмень</td>\n",
       "      <td>ultra</td>\n",
       "    </tr>\n",
       "    <tr>\n",
       "      <th>1</th>\n",
       "      <td>2</td>\n",
       "      <td>Станислав</td>\n",
       "      <td>31</td>\n",
       "      <td>Омск</td>\n",
       "      <td>ultra</td>\n",
       "    </tr>\n",
       "    <tr>\n",
       "      <th>2</th>\n",
       "      <td>3</td>\n",
       "      <td>Алексей</td>\n",
       "      <td>20</td>\n",
       "      <td>Москва</td>\n",
       "      <td>ultra</td>\n",
       "    </tr>\n",
       "    <tr>\n",
       "      <th>3</th>\n",
       "      <td>4</td>\n",
       "      <td>Константин</td>\n",
       "      <td>26</td>\n",
       "      <td>Ростов-на-Дону</td>\n",
       "      <td>ultra</td>\n",
       "    </tr>\n",
       "    <tr>\n",
       "      <th>4</th>\n",
       "      <td>5</td>\n",
       "      <td>Адель</td>\n",
       "      <td>28</td>\n",
       "      <td>Омск</td>\n",
       "      <td>ultra</td>\n",
       "    </tr>\n",
       "  </tbody>\n",
       "</table>\n",
       "</div>"
      ],
      "text/plain": [
       "   user_id        name  age            city subscription_type\n",
       "0        1        Кира   22          Тюмень             ultra\n",
       "1        2   Станислав   31            Омск             ultra\n",
       "2        3     Алексей   20          Москва             ultra\n",
       "3        4  Константин   26  Ростов-на-Дону             ultra\n",
       "4        5       Адель   28            Омск             ultra"
      ]
     },
     "execution_count": 3,
     "metadata": {},
     "output_type": "execute_result"
    }
   ],
   "source": [
    "users.head()"
   ]
  },
  {
   "cell_type": "code",
   "execution_count": 4,
   "id": "1eb36224",
   "metadata": {},
   "outputs": [
    {
     "data": {
      "text/html": [
       "<div>\n",
       "<style scoped>\n",
       "    .dataframe tbody tr th:only-of-type {\n",
       "        vertical-align: middle;\n",
       "    }\n",
       "\n",
       "    .dataframe tbody tr th {\n",
       "        vertical-align: top;\n",
       "    }\n",
       "\n",
       "    .dataframe thead th {\n",
       "        text-align: right;\n",
       "    }\n",
       "</style>\n",
       "<table border=\"1\" class=\"dataframe\">\n",
       "  <thead>\n",
       "    <tr style=\"text-align: right;\">\n",
       "      <th></th>\n",
       "      <th>user_id</th>\n",
       "      <th>distance</th>\n",
       "      <th>duration</th>\n",
       "      <th>date</th>\n",
       "    </tr>\n",
       "  </thead>\n",
       "  <tbody>\n",
       "    <tr>\n",
       "      <th>0</th>\n",
       "      <td>1</td>\n",
       "      <td>4409.919140</td>\n",
       "      <td>25.599769</td>\n",
       "      <td>2021-01-01</td>\n",
       "    </tr>\n",
       "    <tr>\n",
       "      <th>1</th>\n",
       "      <td>1</td>\n",
       "      <td>2617.592153</td>\n",
       "      <td>15.816871</td>\n",
       "      <td>2021-01-18</td>\n",
       "    </tr>\n",
       "    <tr>\n",
       "      <th>2</th>\n",
       "      <td>1</td>\n",
       "      <td>754.159807</td>\n",
       "      <td>6.232113</td>\n",
       "      <td>2021-04-20</td>\n",
       "    </tr>\n",
       "    <tr>\n",
       "      <th>3</th>\n",
       "      <td>1</td>\n",
       "      <td>2694.783254</td>\n",
       "      <td>18.511000</td>\n",
       "      <td>2021-08-11</td>\n",
       "    </tr>\n",
       "    <tr>\n",
       "      <th>4</th>\n",
       "      <td>1</td>\n",
       "      <td>4028.687306</td>\n",
       "      <td>26.265803</td>\n",
       "      <td>2021-08-28</td>\n",
       "    </tr>\n",
       "  </tbody>\n",
       "</table>\n",
       "</div>"
      ],
      "text/plain": [
       "   user_id     distance   duration        date\n",
       "0        1  4409.919140  25.599769  2021-01-01\n",
       "1        1  2617.592153  15.816871  2021-01-18\n",
       "2        1   754.159807   6.232113  2021-04-20\n",
       "3        1  2694.783254  18.511000  2021-08-11\n",
       "4        1  4028.687306  26.265803  2021-08-28"
      ]
     },
     "execution_count": 4,
     "metadata": {},
     "output_type": "execute_result"
    }
   ],
   "source": [
    "rides.head()"
   ]
  },
  {
   "cell_type": "code",
   "execution_count": 5,
   "id": "b802e619",
   "metadata": {},
   "outputs": [
    {
     "data": {
      "text/html": [
       "<div>\n",
       "<style scoped>\n",
       "    .dataframe tbody tr th:only-of-type {\n",
       "        vertical-align: middle;\n",
       "    }\n",
       "\n",
       "    .dataframe tbody tr th {\n",
       "        vertical-align: top;\n",
       "    }\n",
       "\n",
       "    .dataframe thead th {\n",
       "        text-align: right;\n",
       "    }\n",
       "</style>\n",
       "<table border=\"1\" class=\"dataframe\">\n",
       "  <thead>\n",
       "    <tr style=\"text-align: right;\">\n",
       "      <th></th>\n",
       "      <th>subscription_type</th>\n",
       "      <th>minute_price</th>\n",
       "      <th>start_ride_price</th>\n",
       "      <th>subscription_fee</th>\n",
       "    </tr>\n",
       "  </thead>\n",
       "  <tbody>\n",
       "    <tr>\n",
       "      <th>0</th>\n",
       "      <td>free</td>\n",
       "      <td>8</td>\n",
       "      <td>50</td>\n",
       "      <td>0</td>\n",
       "    </tr>\n",
       "    <tr>\n",
       "      <th>1</th>\n",
       "      <td>ultra</td>\n",
       "      <td>6</td>\n",
       "      <td>0</td>\n",
       "      <td>199</td>\n",
       "    </tr>\n",
       "  </tbody>\n",
       "</table>\n",
       "</div>"
      ],
      "text/plain": [
       "  subscription_type  minute_price  start_ride_price  subscription_fee\n",
       "0              free             8                50                 0\n",
       "1             ultra             6                 0               199"
      ]
     },
     "execution_count": 5,
     "metadata": {},
     "output_type": "execute_result"
    }
   ],
   "source": [
    "subs.head()"
   ]
  },
  {
   "cell_type": "code",
   "execution_count": 6,
   "id": "24e53c8c",
   "metadata": {},
   "outputs": [
    {
     "name": "stdout",
     "output_type": "stream",
     "text": [
      "<class 'pandas.core.frame.DataFrame'>\n",
      "RangeIndex: 1565 entries, 0 to 1564\n",
      "Data columns (total 5 columns):\n",
      " #   Column             Non-Null Count  Dtype \n",
      "---  ------             --------------  ----- \n",
      " 0   user_id            1565 non-null   int64 \n",
      " 1   name               1565 non-null   object\n",
      " 2   age                1565 non-null   int64 \n",
      " 3   city               1565 non-null   object\n",
      " 4   subscription_type  1565 non-null   object\n",
      "dtypes: int64(2), object(3)\n",
      "memory usage: 61.3+ KB\n"
     ]
    }
   ],
   "source": [
    "users.info()"
   ]
  },
  {
   "cell_type": "code",
   "execution_count": 7,
   "id": "b68ed01b",
   "metadata": {
    "scrolled": true
   },
   "outputs": [
    {
     "name": "stdout",
     "output_type": "stream",
     "text": [
      "<class 'pandas.core.frame.DataFrame'>\n",
      "RangeIndex: 18068 entries, 0 to 18067\n",
      "Data columns (total 4 columns):\n",
      " #   Column    Non-Null Count  Dtype  \n",
      "---  ------    --------------  -----  \n",
      " 0   user_id   18068 non-null  int64  \n",
      " 1   distance  18068 non-null  float64\n",
      " 2   duration  18068 non-null  float64\n",
      " 3   date      18068 non-null  object \n",
      "dtypes: float64(2), int64(1), object(1)\n",
      "memory usage: 564.8+ KB\n"
     ]
    }
   ],
   "source": [
    "rides.info()"
   ]
  },
  {
   "cell_type": "code",
   "execution_count": 8,
   "id": "955f7ffe",
   "metadata": {},
   "outputs": [
    {
     "name": "stdout",
     "output_type": "stream",
     "text": [
      "<class 'pandas.core.frame.DataFrame'>\n",
      "RangeIndex: 2 entries, 0 to 1\n",
      "Data columns (total 4 columns):\n",
      " #   Column             Non-Null Count  Dtype \n",
      "---  ------             --------------  ----- \n",
      " 0   subscription_type  2 non-null      object\n",
      " 1   minute_price       2 non-null      int64 \n",
      " 2   start_ride_price   2 non-null      int64 \n",
      " 3   subscription_fee   2 non-null      int64 \n",
      "dtypes: int64(3), object(1)\n",
      "memory usage: 192.0+ bytes\n"
     ]
    }
   ],
   "source": [
    "subs.info()"
   ]
  },
  {
   "cell_type": "markdown",
   "id": "89b06fae",
   "metadata": {},
   "source": [
    "**Вывод:** <br>\n",
    "Пропусков нет, названия столбцов в норме. Следует обработать некорректный тип данных для даты в таблице с поездками."
   ]
  },
  {
   "cell_type": "markdown",
   "id": "e95ebca7",
   "metadata": {},
   "source": [
    "#### Шаг 2. Предобработка данных"
   ]
  },
  {
   "cell_type": "markdown",
   "id": "c20ab8b4",
   "metadata": {},
   "source": [
    "Приведем столбец с датой к соответствующему типу."
   ]
  },
  {
   "cell_type": "code",
   "execution_count": 9,
   "id": "1940497f",
   "metadata": {},
   "outputs": [
    {
     "name": "stdout",
     "output_type": "stream",
     "text": [
      "<class 'pandas.core.frame.DataFrame'>\n",
      "RangeIndex: 18068 entries, 0 to 18067\n",
      "Data columns (total 4 columns):\n",
      " #   Column    Non-Null Count  Dtype         \n",
      "---  ------    --------------  -----         \n",
      " 0   user_id   18068 non-null  int64         \n",
      " 1   distance  18068 non-null  float64       \n",
      " 2   duration  18068 non-null  float64       \n",
      " 3   date      18068 non-null  datetime64[ns]\n",
      "dtypes: datetime64[ns](1), float64(2), int64(1)\n",
      "memory usage: 564.8 KB\n"
     ]
    }
   ],
   "source": [
    "rides['date'] = pd.to_datetime(rides['date'], format='%Y-%m-%d')\n",
    "rides.info()"
   ]
  },
  {
   "cell_type": "markdown",
   "id": "784a0e8e",
   "metadata": {},
   "source": [
    "Проверим наличие явных дубликатов."
   ]
  },
  {
   "cell_type": "code",
   "execution_count": 10,
   "id": "af6d202c",
   "metadata": {},
   "outputs": [
    {
     "data": {
      "text/plain": [
       "31"
      ]
     },
     "execution_count": 10,
     "metadata": {},
     "output_type": "execute_result"
    }
   ],
   "source": [
    "users.duplicated().sum()"
   ]
  },
  {
   "cell_type": "code",
   "execution_count": 11,
   "id": "fa6e1313",
   "metadata": {},
   "outputs": [
    {
     "data": {
      "text/plain": [
       "0"
      ]
     },
     "execution_count": 11,
     "metadata": {},
     "output_type": "execute_result"
    }
   ],
   "source": [
    "rides.duplicated().sum()"
   ]
  },
  {
   "cell_type": "code",
   "execution_count": 12,
   "id": "a5ee9f49",
   "metadata": {},
   "outputs": [
    {
     "data": {
      "text/plain": [
       "0"
      ]
     },
     "execution_count": 12,
     "metadata": {},
     "output_type": "execute_result"
    }
   ],
   "source": [
    "subs.duplicated().sum()"
   ]
  },
  {
   "cell_type": "markdown",
   "id": "fe2bf662",
   "metadata": {},
   "source": [
    "В таблице с пользователями есть 31 явный дубликат. Удалим их."
   ]
  },
  {
   "cell_type": "code",
   "execution_count": 13,
   "id": "9a6f4395",
   "metadata": {},
   "outputs": [
    {
     "data": {
      "text/plain": [
       "0"
      ]
     },
     "execution_count": 13,
     "metadata": {},
     "output_type": "execute_result"
    }
   ],
   "source": [
    "users.drop_duplicates(inplace=True)\n",
    "users.duplicated().sum()"
   ]
  },
  {
   "cell_type": "markdown",
   "id": "157c5464",
   "metadata": {},
   "source": [
    "Проверим данные на неявные дубликаты и изучим уникальные значения столбцов."
   ]
  },
  {
   "cell_type": "code",
   "execution_count": 14,
   "id": "075899fc",
   "metadata": {},
   "outputs": [
    {
     "data": {
      "text/plain": [
       "0"
      ]
     },
     "execution_count": 14,
     "metadata": {},
     "output_type": "execute_result"
    }
   ],
   "source": [
    "users['user_id'].duplicated().sum()"
   ]
  },
  {
   "cell_type": "code",
   "execution_count": 15,
   "id": "ba6664e7",
   "metadata": {},
   "outputs": [
    {
     "data": {
      "text/plain": [
       "[12,\n",
       " 13,\n",
       " 14,\n",
       " 15,\n",
       " 16,\n",
       " 17,\n",
       " 18,\n",
       " 19,\n",
       " 20,\n",
       " 21,\n",
       " 22,\n",
       " 23,\n",
       " 24,\n",
       " 25,\n",
       " 26,\n",
       " 27,\n",
       " 28,\n",
       " 29,\n",
       " 30,\n",
       " 31,\n",
       " 32,\n",
       " 33,\n",
       " 34,\n",
       " 35,\n",
       " 36,\n",
       " 37,\n",
       " 38,\n",
       " 39,\n",
       " 43]"
      ]
     },
     "execution_count": 15,
     "metadata": {},
     "output_type": "execute_result"
    }
   ],
   "source": [
    "sorted(users['age'].unique())"
   ]
  },
  {
   "cell_type": "code",
   "execution_count": 16,
   "id": "cc345b4a",
   "metadata": {},
   "outputs": [
    {
     "data": {
      "text/plain": [
       "['Екатеринбург',\n",
       " 'Краснодар',\n",
       " 'Москва',\n",
       " 'Омск',\n",
       " 'Пятигорск',\n",
       " 'Ростов-на-Дону',\n",
       " 'Сочи',\n",
       " 'Тюмень']"
      ]
     },
     "execution_count": 16,
     "metadata": {},
     "output_type": "execute_result"
    }
   ],
   "source": [
    "sorted(users['city'].unique())"
   ]
  },
  {
   "cell_type": "code",
   "execution_count": 17,
   "id": "5eb8a649",
   "metadata": {},
   "outputs": [
    {
     "data": {
      "text/plain": [
       "['free', 'ultra']"
      ]
     },
     "execution_count": 17,
     "metadata": {},
     "output_type": "execute_result"
    }
   ],
   "source": [
    "sorted(users['subscription_type'].unique())"
   ]
  },
  {
   "cell_type": "markdown",
   "id": "0c007b01",
   "metadata": {},
   "source": [
    "Создам новый столбец с номером месяца"
   ]
  },
  {
   "cell_type": "code",
   "execution_count": 18,
   "id": "dbd32893",
   "metadata": {},
   "outputs": [
    {
     "data": {
      "text/plain": [
       "array([ 1,  4,  8, 10, 11, 12,  3,  6,  7,  2,  5,  9])"
      ]
     },
     "execution_count": 18,
     "metadata": {},
     "output_type": "execute_result"
    }
   ],
   "source": [
    "rides['month'] = rides['date'].dt.month\n",
    "rides['month'].unique()"
   ]
  },
  {
   "cell_type": "markdown",
   "id": "a0c87d25",
   "metadata": {},
   "source": [
    "**Вывод:** <br>\n",
    "Удалены явные дубликаты, типы данных приведены к подабающему виду.<br> \n",
    "Для удобства дальнейшей работы добавлен новый столбец с месяцем совершения поездки.<br>\n",
    "Считаю данные готовыми к анализу."
   ]
  },
  {
   "cell_type": "markdown",
   "id": "212593c7",
   "metadata": {},
   "source": [
    "#### Шаг 3. Исследовательский анализ данных"
   ]
  },
  {
   "cell_type": "markdown",
   "id": "a27f53cb",
   "metadata": {},
   "source": [
    "Опишем и визуализируем следующую информацию:"
   ]
  },
  {
   "cell_type": "markdown",
   "id": "638d9d79",
   "metadata": {},
   "source": [
    "*Частота встречаемости городов*"
   ]
  },
  {
   "cell_type": "code",
   "execution_count": 19,
   "id": "e3a4274c",
   "metadata": {},
   "outputs": [
    {
     "data": {
      "text/plain": [
       "Пятигорск         219\n",
       "Екатеринбург      204\n",
       "Ростов-на-Дону    198\n",
       "Краснодар         193\n",
       "Сочи              189\n",
       "Омск              183\n",
       "Тюмень            180\n",
       "Москва            168\n",
       "Name: city, dtype: int64"
      ]
     },
     "execution_count": 19,
     "metadata": {},
     "output_type": "execute_result"
    }
   ],
   "source": [
    "users['city'].value_counts()"
   ]
  },
  {
   "cell_type": "code",
   "execution_count": 20,
   "id": "f0d98dec",
   "metadata": {},
   "outputs": [
    {
     "data": {
      "text/plain": [
       "Пятигорск         14.276402\n",
       "Екатеринбург      13.298566\n",
       "Ростов-на-Дону    12.907432\n",
       "Краснодар         12.581486\n",
       "Сочи              12.320730\n",
       "Омск              11.929596\n",
       "Тюмень            11.734029\n",
       "Москва            10.951760\n",
       "Name: city, dtype: float64"
      ]
     },
     "execution_count": 20,
     "metadata": {},
     "output_type": "execute_result"
    }
   ],
   "source": [
    "city_rating = users['city'].value_counts() / len(users) * 100\n",
    "city_rating"
   ]
  },
  {
   "cell_type": "code",
   "execution_count": 21,
   "id": "da3b9d56",
   "metadata": {},
   "outputs": [
    {
     "data": {
      "image/png": "[encoded data removed]",
      "text/plain": [
       "<Figure size 576x576 with 1 Axes>"
      ]
     },
     "metadata": {
      "needs_background": "light"
     },
     "output_type": "display_data"
    }
   ],
   "source": [
    "city_rating.plot(kind='bar',\n",
    "                 figsize=(8,8),\n",
    "                 title='Частота встречаемости городов'\n",
    "                );"
   ]
  },
  {
   "cell_type": "markdown",
   "id": "cb242f8a",
   "metadata": {},
   "source": [
    "По параметру город данные распределены равномерно, без явного преобладания отдельных городов."
   ]
  },
  {
   "cell_type": "markdown",
   "id": "a73c1d50",
   "metadata": {},
   "source": [
    "*Соотношение пользователей с подпиской и без подписки*"
   ]
  },
  {
   "cell_type": "code",
   "execution_count": 22,
   "id": "6da206ae",
   "metadata": {},
   "outputs": [
    {
     "data": {
      "text/plain": [
       "free     54.432855\n",
       "ultra    45.567145\n",
       "Name: subscription_type, dtype: float64"
      ]
     },
     "execution_count": 22,
     "metadata": {},
     "output_type": "execute_result"
    }
   ],
   "source": [
    "subs_rating = users['subscription_type'].value_counts() / len(users) * 100\n",
    "subs_rating"
   ]
  },
  {
   "cell_type": "code",
   "execution_count": 23,
   "id": "83e743e1",
   "metadata": {},
   "outputs": [
    {
     "data": {
      "image/png": "[encoded data removed]",
      "text/plain": [
       "<Figure size 576x576 with 1 Axes>"
      ]
     },
     "metadata": {},
     "output_type": "display_data"
    }
   ],
   "source": [
    "subs_rating.plot(kind='pie',\n",
    "                 autopct='%1.0f%%',\n",
    "                 figsize=(8,8),\n",
    "                 title='Cоотношение пользователей с подпиской и без подписки'\n",
    "                );"
   ]
  },
  {
   "cell_type": "markdown",
   "id": "799c00b4",
   "metadata": {},
   "source": [
    "Пользователей с бесплатной подпиской незначительно больше, что вполне естественно."
   ]
  },
  {
   "cell_type": "code",
   "execution_count": 24,
   "id": "dc684d02",
   "metadata": {},
   "outputs": [
    {
     "data": {
      "text/plain": [
       "25    145\n",
       "24    132\n",
       "26    131\n",
       "23    129\n",
       "27    119\n",
       "22    119\n",
       "28    112\n",
       "21     93\n",
       "20     71\n",
       "30     68\n",
       "29     68\n",
       "31     48\n",
       "19     47\n",
       "18     46\n",
       "32     41\n",
       "33     39\n",
       "17     26\n",
       "34     19\n",
       "16     19\n",
       "35     15\n",
       "15     13\n",
       "14      9\n",
       "13      8\n",
       "36      6\n",
       "12      4\n",
       "38      3\n",
       "37      2\n",
       "39      1\n",
       "43      1\n",
       "Name: age, dtype: int64"
      ]
     },
     "execution_count": 24,
     "metadata": {},
     "output_type": "execute_result"
    }
   ],
   "source": [
    "users['age'].value_counts().sort_values(ascending=False)"
   ]
  },
  {
   "cell_type": "code",
   "execution_count": 25,
   "id": "1da977ea",
   "metadata": {},
   "outputs": [
    {
     "data": {
      "image/png": "[encoded data removed]",
      "text/plain": [
       "<Figure size 432x288 with 1 Axes>"
      ]
     },
     "metadata": {
      "needs_background": "light"
     },
     "output_type": "display_data"
    }
   ],
   "source": [
    "users['age'].plot(kind='hist',\n",
    "                  title='Распределение возраста пользователей');"
   ]
  },
  {
   "cell_type": "code",
   "execution_count": 26,
   "id": "9b35ebd7",
   "metadata": {},
   "outputs": [
    {
     "data": {
      "text/plain": [
       "25.0"
      ]
     },
     "execution_count": 26,
     "metadata": {},
     "output_type": "execute_result"
    }
   ],
   "source": [
    "users['age'].median()"
   ]
  },
  {
   "cell_type": "markdown",
   "id": "69d94bfc",
   "metadata": {},
   "source": [
    "Возраст пользователей распределен нормально с медианным значением 25 лет"
   ]
  },
  {
   "cell_type": "markdown",
   "id": "6285cee9",
   "metadata": {},
   "source": [
    "*Расстояние, которое пользователь преодолел за одну поездку*"
   ]
  },
  {
   "cell_type": "code",
   "execution_count": 27,
   "id": "a0e939ef",
   "metadata": {},
   "outputs": [
    {
     "data": {
      "text/plain": [
       "count    18068.000000\n",
       "mean      3070.659976\n",
       "std       1116.831209\n",
       "min          0.855683\n",
       "25%       2543.226360\n",
       "50%       3133.609994\n",
       "75%       3776.222735\n",
       "max       7211.007745\n",
       "Name: distance, dtype: float64"
      ]
     },
     "execution_count": 27,
     "metadata": {},
     "output_type": "execute_result"
    }
   ],
   "source": [
    "rides['distance'].describe()"
   ]
  },
  {
   "cell_type": "code",
   "execution_count": 28,
   "id": "bac77c87",
   "metadata": {},
   "outputs": [
    {
     "data": {
      "image/png": "[encoded data removed]",
      "text/plain": [
       "<Figure size 432x288 with 1 Axes>"
      ]
     },
     "metadata": {
      "needs_background": "light"
     },
     "output_type": "display_data"
    }
   ],
   "source": [
    "rides['distance'].plot.box(title='Диаграмма размаха расстояний в метрах, которые преодолел пользователь за одну поездку');"
   ]
  },
  {
   "cell_type": "markdown",
   "id": "f655f27f",
   "metadata": {},
   "source": [
    "Оставим только те значения, которые не превосходят значения 'среднее + 3 стандартных отклонения'"
   ]
  },
  {
   "cell_type": "code",
   "execution_count": 29,
   "id": "4cce9d53",
   "metadata": {},
   "outputs": [],
   "source": [
    "dis_std = rides['distance'].std()\n",
    "dis_mean = rides['distance'].mean()\n",
    "max_value_dis = dis_mean + 3 * dis_std\n"
   ]
  },
  {
   "cell_type": "markdown",
   "id": "fca3229c",
   "metadata": {},
   "source": [
    "*Продолжительность поездок*"
   ]
  },
  {
   "cell_type": "code",
   "execution_count": 30,
   "id": "9007177c",
   "metadata": {},
   "outputs": [
    {
     "data": {
      "text/plain": [
       "count    18068.000000\n",
       "mean        17.805011\n",
       "std          6.091051\n",
       "min          0.500000\n",
       "25%         13.597563\n",
       "50%         17.678395\n",
       "75%         21.724800\n",
       "max         40.823963\n",
       "Name: duration, dtype: float64"
      ]
     },
     "execution_count": 30,
     "metadata": {},
     "output_type": "execute_result"
    }
   ],
   "source": [
    "rides['duration'].describe()"
   ]
  },
  {
   "cell_type": "code",
   "execution_count": 31,
   "id": "d31aebfc",
   "metadata": {},
   "outputs": [
    {
     "data": {
      "image/png": "[encoded data removed]",
      "text/plain": [
       "<Figure size 432x288 with 1 Axes>"
      ]
     },
     "metadata": {
      "needs_background": "light"
     },
     "output_type": "display_data"
    }
   ],
   "source": [
    "rides['duration'].plot.box(title='Диаграмма размаха длительности поездки в минутах');"
   ]
  },
  {
   "cell_type": "markdown",
   "id": "8821f6e2",
   "metadata": {},
   "source": [
    "Оставим только те значения, которые не превосходят значения 'среднее + 3 стандартных отклонения'"
   ]
  },
  {
   "cell_type": "code",
   "execution_count": 32,
   "id": "4bf795ad",
   "metadata": {},
   "outputs": [],
   "source": [
    "dur_std = rides['duration'].std()\n",
    "dur_mean = rides['duration'].mean()\n",
    "max_value_dur = dur_mean + 3 * dur_std"
   ]
  },
  {
   "cell_type": "markdown",
   "id": "ee149ff8",
   "metadata": {},
   "source": [
    "**Вывод:**<br>\n",
    "По параметру город данные распределены равномерно, без явного преобладания отдельных городов.<br>\n",
    "Больше всего данных о Пятигорске - 14%, меньше всего о Москве - 11%.<br>\n",
    "Пользователей с бесплатной подпиской 54%, с платной - 46%.<br>\n",
    "Основная доля пользователей в возрасте от 22 до 28 лет с пиком в 25 лет.<br>\n",
    "Как правило, расстояние за одну поездку находится в диапазоне от 2500 до 3700 метров - из анализа были исключены наблюдения, в которых дистанция поездки превосходит значение 'среднее + 3 стандартных отклонения'.<br>\n",
    "В основном, поездки занимают от 13 до 22 минут, верхняя граница задана по аналогии с рассотянием за одну поездку."
   ]
  },
  {
   "cell_type": "markdown",
   "id": "4ef51331",
   "metadata": {},
   "source": [
    "#### Шаг 4. Объединение данных"
   ]
  },
  {
   "cell_type": "markdown",
   "id": "aa39adc8",
   "metadata": {},
   "source": [
    "Объединим все таблицы в одну"
   ]
  },
  {
   "cell_type": "code",
   "execution_count": 33,
   "id": "6bf288b5",
   "metadata": {},
   "outputs": [
    {
     "data": {
      "text/html": [
       "<div>\n",
       "<style scoped>\n",
       "    .dataframe tbody tr th:only-of-type {\n",
       "        vertical-align: middle;\n",
       "    }\n",
       "\n",
       "    .dataframe tbody tr th {\n",
       "        vertical-align: top;\n",
       "    }\n",
       "\n",
       "    .dataframe thead th {\n",
       "        text-align: right;\n",
       "    }\n",
       "</style>\n",
       "<table border=\"1\" class=\"dataframe\">\n",
       "  <thead>\n",
       "    <tr style=\"text-align: right;\">\n",
       "      <th></th>\n",
       "      <th>user_id</th>\n",
       "      <th>distance</th>\n",
       "      <th>duration</th>\n",
       "      <th>date</th>\n",
       "      <th>month</th>\n",
       "      <th>name</th>\n",
       "      <th>age</th>\n",
       "      <th>city</th>\n",
       "      <th>subscription_type</th>\n",
       "    </tr>\n",
       "  </thead>\n",
       "  <tbody>\n",
       "    <tr>\n",
       "      <th>0</th>\n",
       "      <td>1</td>\n",
       "      <td>4409.919140</td>\n",
       "      <td>25.599769</td>\n",
       "      <td>2021-01-01</td>\n",
       "      <td>1</td>\n",
       "      <td>Кира</td>\n",
       "      <td>22</td>\n",
       "      <td>Тюмень</td>\n",
       "      <td>ultra</td>\n",
       "    </tr>\n",
       "    <tr>\n",
       "      <th>1</th>\n",
       "      <td>1</td>\n",
       "      <td>2617.592153</td>\n",
       "      <td>15.816871</td>\n",
       "      <td>2021-01-18</td>\n",
       "      <td>1</td>\n",
       "      <td>Кира</td>\n",
       "      <td>22</td>\n",
       "      <td>Тюмень</td>\n",
       "      <td>ultra</td>\n",
       "    </tr>\n",
       "    <tr>\n",
       "      <th>2</th>\n",
       "      <td>1</td>\n",
       "      <td>754.159807</td>\n",
       "      <td>6.232113</td>\n",
       "      <td>2021-04-20</td>\n",
       "      <td>4</td>\n",
       "      <td>Кира</td>\n",
       "      <td>22</td>\n",
       "      <td>Тюмень</td>\n",
       "      <td>ultra</td>\n",
       "    </tr>\n",
       "    <tr>\n",
       "      <th>3</th>\n",
       "      <td>1</td>\n",
       "      <td>2694.783254</td>\n",
       "      <td>18.511000</td>\n",
       "      <td>2021-08-11</td>\n",
       "      <td>8</td>\n",
       "      <td>Кира</td>\n",
       "      <td>22</td>\n",
       "      <td>Тюмень</td>\n",
       "      <td>ultra</td>\n",
       "    </tr>\n",
       "    <tr>\n",
       "      <th>4</th>\n",
       "      <td>1</td>\n",
       "      <td>4028.687306</td>\n",
       "      <td>26.265803</td>\n",
       "      <td>2021-08-28</td>\n",
       "      <td>8</td>\n",
       "      <td>Кира</td>\n",
       "      <td>22</td>\n",
       "      <td>Тюмень</td>\n",
       "      <td>ultra</td>\n",
       "    </tr>\n",
       "  </tbody>\n",
       "</table>\n",
       "</div>"
      ],
      "text/plain": [
       "   user_id     distance   duration       date  month  name  age    city  \\\n",
       "0        1  4409.919140  25.599769 2021-01-01      1  Кира   22  Тюмень   \n",
       "1        1  2617.592153  15.816871 2021-01-18      1  Кира   22  Тюмень   \n",
       "2        1   754.159807   6.232113 2021-04-20      4  Кира   22  Тюмень   \n",
       "3        1  2694.783254  18.511000 2021-08-11      8  Кира   22  Тюмень   \n",
       "4        1  4028.687306  26.265803 2021-08-28      8  Кира   22  Тюмень   \n",
       "\n",
       "  subscription_type  \n",
       "0             ultra  \n",
       "1             ultra  \n",
       "2             ultra  \n",
       "3             ultra  \n",
       "4             ultra  "
      ]
     },
     "execution_count": 33,
     "metadata": {},
     "output_type": "execute_result"
    }
   ],
   "source": [
    "rides_users = rides.merge(users, on='user_id', how='left')\n",
    "rides_users.head()"
   ]
  },
  {
   "cell_type": "code",
   "execution_count": 34,
   "id": "b9834c59",
   "metadata": {},
   "outputs": [
    {
     "data": {
      "text/html": [
       "<div>\n",
       "<style scoped>\n",
       "    .dataframe tbody tr th:only-of-type {\n",
       "        vertical-align: middle;\n",
       "    }\n",
       "\n",
       "    .dataframe tbody tr th {\n",
       "        vertical-align: top;\n",
       "    }\n",
       "\n",
       "    .dataframe thead th {\n",
       "        text-align: right;\n",
       "    }\n",
       "</style>\n",
       "<table border=\"1\" class=\"dataframe\">\n",
       "  <thead>\n",
       "    <tr style=\"text-align: right;\">\n",
       "      <th></th>\n",
       "      <th>user_id</th>\n",
       "      <th>distance</th>\n",
       "      <th>duration</th>\n",
       "      <th>date</th>\n",
       "      <th>month</th>\n",
       "      <th>name</th>\n",
       "      <th>age</th>\n",
       "      <th>city</th>\n",
       "      <th>subscription_type</th>\n",
       "      <th>minute_price</th>\n",
       "      <th>start_ride_price</th>\n",
       "      <th>subscription_fee</th>\n",
       "    </tr>\n",
       "  </thead>\n",
       "  <tbody>\n",
       "    <tr>\n",
       "      <th>0</th>\n",
       "      <td>1</td>\n",
       "      <td>4409.919140</td>\n",
       "      <td>25.599769</td>\n",
       "      <td>2021-01-01</td>\n",
       "      <td>1</td>\n",
       "      <td>Кира</td>\n",
       "      <td>22</td>\n",
       "      <td>Тюмень</td>\n",
       "      <td>ultra</td>\n",
       "      <td>6</td>\n",
       "      <td>0</td>\n",
       "      <td>199</td>\n",
       "    </tr>\n",
       "    <tr>\n",
       "      <th>1</th>\n",
       "      <td>1</td>\n",
       "      <td>2617.592153</td>\n",
       "      <td>15.816871</td>\n",
       "      <td>2021-01-18</td>\n",
       "      <td>1</td>\n",
       "      <td>Кира</td>\n",
       "      <td>22</td>\n",
       "      <td>Тюмень</td>\n",
       "      <td>ultra</td>\n",
       "      <td>6</td>\n",
       "      <td>0</td>\n",
       "      <td>199</td>\n",
       "    </tr>\n",
       "    <tr>\n",
       "      <th>2</th>\n",
       "      <td>1</td>\n",
       "      <td>754.159807</td>\n",
       "      <td>6.232113</td>\n",
       "      <td>2021-04-20</td>\n",
       "      <td>4</td>\n",
       "      <td>Кира</td>\n",
       "      <td>22</td>\n",
       "      <td>Тюмень</td>\n",
       "      <td>ultra</td>\n",
       "      <td>6</td>\n",
       "      <td>0</td>\n",
       "      <td>199</td>\n",
       "    </tr>\n",
       "    <tr>\n",
       "      <th>3</th>\n",
       "      <td>1</td>\n",
       "      <td>2694.783254</td>\n",
       "      <td>18.511000</td>\n",
       "      <td>2021-08-11</td>\n",
       "      <td>8</td>\n",
       "      <td>Кира</td>\n",
       "      <td>22</td>\n",
       "      <td>Тюмень</td>\n",
       "      <td>ultra</td>\n",
       "      <td>6</td>\n",
       "      <td>0</td>\n",
       "      <td>199</td>\n",
       "    </tr>\n",
       "    <tr>\n",
       "      <th>4</th>\n",
       "      <td>1</td>\n",
       "      <td>4028.687306</td>\n",
       "      <td>26.265803</td>\n",
       "      <td>2021-08-28</td>\n",
       "      <td>8</td>\n",
       "      <td>Кира</td>\n",
       "      <td>22</td>\n",
       "      <td>Тюмень</td>\n",
       "      <td>ultra</td>\n",
       "      <td>6</td>\n",
       "      <td>0</td>\n",
       "      <td>199</td>\n",
       "    </tr>\n",
       "  </tbody>\n",
       "</table>\n",
       "</div>"
      ],
      "text/plain": [
       "   user_id     distance   duration       date  month  name  age    city  \\\n",
       "0        1  4409.919140  25.599769 2021-01-01      1  Кира   22  Тюмень   \n",
       "1        1  2617.592153  15.816871 2021-01-18      1  Кира   22  Тюмень   \n",
       "2        1   754.159807   6.232113 2021-04-20      4  Кира   22  Тюмень   \n",
       "3        1  2694.783254  18.511000 2021-08-11      8  Кира   22  Тюмень   \n",
       "4        1  4028.687306  26.265803 2021-08-28      8  Кира   22  Тюмень   \n",
       "\n",
       "  subscription_type  minute_price  start_ride_price  subscription_fee  \n",
       "0             ultra             6                 0               199  \n",
       "1             ultra             6                 0               199  \n",
       "2             ultra             6                 0               199  \n",
       "3             ultra             6                 0               199  \n",
       "4             ultra             6                 0               199  "
      ]
     },
     "execution_count": 34,
     "metadata": {},
     "output_type": "execute_result"
    }
   ],
   "source": [
    "data = rides_users.merge(subs, on='subscription_type', how='left')\n",
    "data.head()"
   ]
  },
  {
   "cell_type": "markdown",
   "id": "8b7d2869",
   "metadata": {},
   "source": [
    "Разделим данные по типу подписки"
   ]
  },
  {
   "cell_type": "code",
   "execution_count": 35,
   "id": "34c037cf",
   "metadata": {},
   "outputs": [
    {
     "data": {
      "text/html": [
       "<div>\n",
       "<style scoped>\n",
       "    .dataframe tbody tr th:only-of-type {\n",
       "        vertical-align: middle;\n",
       "    }\n",
       "\n",
       "    .dataframe tbody tr th {\n",
       "        vertical-align: top;\n",
       "    }\n",
       "\n",
       "    .dataframe thead th {\n",
       "        text-align: right;\n",
       "    }\n",
       "</style>\n",
       "<table border=\"1\" class=\"dataframe\">\n",
       "  <thead>\n",
       "    <tr style=\"text-align: right;\">\n",
       "      <th></th>\n",
       "      <th>user_id</th>\n",
       "      <th>distance</th>\n",
       "      <th>duration</th>\n",
       "      <th>date</th>\n",
       "      <th>month</th>\n",
       "      <th>name</th>\n",
       "      <th>age</th>\n",
       "      <th>city</th>\n",
       "      <th>subscription_type</th>\n",
       "      <th>minute_price</th>\n",
       "      <th>start_ride_price</th>\n",
       "      <th>subscription_fee</th>\n",
       "    </tr>\n",
       "  </thead>\n",
       "  <tbody>\n",
       "    <tr>\n",
       "      <th>0</th>\n",
       "      <td>1</td>\n",
       "      <td>4409.919140</td>\n",
       "      <td>25.599769</td>\n",
       "      <td>2021-01-01</td>\n",
       "      <td>1</td>\n",
       "      <td>Кира</td>\n",
       "      <td>22</td>\n",
       "      <td>Тюмень</td>\n",
       "      <td>ultra</td>\n",
       "      <td>6</td>\n",
       "      <td>0</td>\n",
       "      <td>199</td>\n",
       "    </tr>\n",
       "    <tr>\n",
       "      <th>1</th>\n",
       "      <td>1</td>\n",
       "      <td>2617.592153</td>\n",
       "      <td>15.816871</td>\n",
       "      <td>2021-01-18</td>\n",
       "      <td>1</td>\n",
       "      <td>Кира</td>\n",
       "      <td>22</td>\n",
       "      <td>Тюмень</td>\n",
       "      <td>ultra</td>\n",
       "      <td>6</td>\n",
       "      <td>0</td>\n",
       "      <td>199</td>\n",
       "    </tr>\n",
       "    <tr>\n",
       "      <th>2</th>\n",
       "      <td>1</td>\n",
       "      <td>754.159807</td>\n",
       "      <td>6.232113</td>\n",
       "      <td>2021-04-20</td>\n",
       "      <td>4</td>\n",
       "      <td>Кира</td>\n",
       "      <td>22</td>\n",
       "      <td>Тюмень</td>\n",
       "      <td>ultra</td>\n",
       "      <td>6</td>\n",
       "      <td>0</td>\n",
       "      <td>199</td>\n",
       "    </tr>\n",
       "    <tr>\n",
       "      <th>3</th>\n",
       "      <td>1</td>\n",
       "      <td>2694.783254</td>\n",
       "      <td>18.511000</td>\n",
       "      <td>2021-08-11</td>\n",
       "      <td>8</td>\n",
       "      <td>Кира</td>\n",
       "      <td>22</td>\n",
       "      <td>Тюмень</td>\n",
       "      <td>ultra</td>\n",
       "      <td>6</td>\n",
       "      <td>0</td>\n",
       "      <td>199</td>\n",
       "    </tr>\n",
       "    <tr>\n",
       "      <th>4</th>\n",
       "      <td>1</td>\n",
       "      <td>4028.687306</td>\n",
       "      <td>26.265803</td>\n",
       "      <td>2021-08-28</td>\n",
       "      <td>8</td>\n",
       "      <td>Кира</td>\n",
       "      <td>22</td>\n",
       "      <td>Тюмень</td>\n",
       "      <td>ultra</td>\n",
       "      <td>6</td>\n",
       "      <td>0</td>\n",
       "      <td>199</td>\n",
       "    </tr>\n",
       "  </tbody>\n",
       "</table>\n",
       "</div>"
      ],
      "text/plain": [
       "   user_id     distance   duration       date  month  name  age    city  \\\n",
       "0        1  4409.919140  25.599769 2021-01-01      1  Кира   22  Тюмень   \n",
       "1        1  2617.592153  15.816871 2021-01-18      1  Кира   22  Тюмень   \n",
       "2        1   754.159807   6.232113 2021-04-20      4  Кира   22  Тюмень   \n",
       "3        1  2694.783254  18.511000 2021-08-11      8  Кира   22  Тюмень   \n",
       "4        1  4028.687306  26.265803 2021-08-28      8  Кира   22  Тюмень   \n",
       "\n",
       "  subscription_type  minute_price  start_ride_price  subscription_fee  \n",
       "0             ultra             6                 0               199  \n",
       "1             ultra             6                 0               199  \n",
       "2             ultra             6                 0               199  \n",
       "3             ultra             6                 0               199  \n",
       "4             ultra             6                 0               199  "
      ]
     },
     "execution_count": 35,
     "metadata": {},
     "output_type": "execute_result"
    }
   ],
   "source": [
    "data_ultra = data[data['subscription_type']=='ultra']\n",
    "data_ultra.head()"
   ]
  },
  {
   "cell_type": "code",
   "execution_count": 36,
   "id": "873cd2d0",
   "metadata": {
    "scrolled": true
   },
   "outputs": [
    {
     "data": {
      "text/html": [
       "<div>\n",
       "<style scoped>\n",
       "    .dataframe tbody tr th:only-of-type {\n",
       "        vertical-align: middle;\n",
       "    }\n",
       "\n",
       "    .dataframe tbody tr th {\n",
       "        vertical-align: top;\n",
       "    }\n",
       "\n",
       "    .dataframe thead th {\n",
       "        text-align: right;\n",
       "    }\n",
       "</style>\n",
       "<table border=\"1\" class=\"dataframe\">\n",
       "  <thead>\n",
       "    <tr style=\"text-align: right;\">\n",
       "      <th></th>\n",
       "      <th>user_id</th>\n",
       "      <th>distance</th>\n",
       "      <th>duration</th>\n",
       "      <th>date</th>\n",
       "      <th>month</th>\n",
       "      <th>name</th>\n",
       "      <th>age</th>\n",
       "      <th>city</th>\n",
       "      <th>subscription_type</th>\n",
       "      <th>minute_price</th>\n",
       "      <th>start_ride_price</th>\n",
       "      <th>subscription_fee</th>\n",
       "    </tr>\n",
       "  </thead>\n",
       "  <tbody>\n",
       "    <tr>\n",
       "      <th>6500</th>\n",
       "      <td>700</td>\n",
       "      <td>2515.690719</td>\n",
       "      <td>14.944286</td>\n",
       "      <td>2021-01-02</td>\n",
       "      <td>1</td>\n",
       "      <td>Айдар</td>\n",
       "      <td>22</td>\n",
       "      <td>Омск</td>\n",
       "      <td>free</td>\n",
       "      <td>8</td>\n",
       "      <td>50</td>\n",
       "      <td>0</td>\n",
       "    </tr>\n",
       "    <tr>\n",
       "      <th>6501</th>\n",
       "      <td>700</td>\n",
       "      <td>846.932642</td>\n",
       "      <td>16.234663</td>\n",
       "      <td>2021-02-01</td>\n",
       "      <td>2</td>\n",
       "      <td>Айдар</td>\n",
       "      <td>22</td>\n",
       "      <td>Омск</td>\n",
       "      <td>free</td>\n",
       "      <td>8</td>\n",
       "      <td>50</td>\n",
       "      <td>0</td>\n",
       "    </tr>\n",
       "    <tr>\n",
       "      <th>6502</th>\n",
       "      <td>700</td>\n",
       "      <td>4004.434142</td>\n",
       "      <td>20.016628</td>\n",
       "      <td>2021-02-04</td>\n",
       "      <td>2</td>\n",
       "      <td>Айдар</td>\n",
       "      <td>22</td>\n",
       "      <td>Омск</td>\n",
       "      <td>free</td>\n",
       "      <td>8</td>\n",
       "      <td>50</td>\n",
       "      <td>0</td>\n",
       "    </tr>\n",
       "    <tr>\n",
       "      <th>6503</th>\n",
       "      <td>700</td>\n",
       "      <td>1205.911290</td>\n",
       "      <td>9.782872</td>\n",
       "      <td>2021-02-10</td>\n",
       "      <td>2</td>\n",
       "      <td>Айдар</td>\n",
       "      <td>22</td>\n",
       "      <td>Омск</td>\n",
       "      <td>free</td>\n",
       "      <td>8</td>\n",
       "      <td>50</td>\n",
       "      <td>0</td>\n",
       "    </tr>\n",
       "    <tr>\n",
       "      <th>6504</th>\n",
       "      <td>700</td>\n",
       "      <td>3047.379435</td>\n",
       "      <td>17.427673</td>\n",
       "      <td>2021-02-14</td>\n",
       "      <td>2</td>\n",
       "      <td>Айдар</td>\n",
       "      <td>22</td>\n",
       "      <td>Омск</td>\n",
       "      <td>free</td>\n",
       "      <td>8</td>\n",
       "      <td>50</td>\n",
       "      <td>0</td>\n",
       "    </tr>\n",
       "  </tbody>\n",
       "</table>\n",
       "</div>"
      ],
      "text/plain": [
       "      user_id     distance   duration       date  month   name  age  city  \\\n",
       "6500      700  2515.690719  14.944286 2021-01-02      1  Айдар   22  Омск   \n",
       "6501      700   846.932642  16.234663 2021-02-01      2  Айдар   22  Омск   \n",
       "6502      700  4004.434142  20.016628 2021-02-04      2  Айдар   22  Омск   \n",
       "6503      700  1205.911290   9.782872 2021-02-10      2  Айдар   22  Омск   \n",
       "6504      700  3047.379435  17.427673 2021-02-14      2  Айдар   22  Омск   \n",
       "\n",
       "     subscription_type  minute_price  start_ride_price  subscription_fee  \n",
       "6500              free             8                50                 0  \n",
       "6501              free             8                50                 0  \n",
       "6502              free             8                50                 0  \n",
       "6503              free             8                50                 0  \n",
       "6504              free             8                50                 0  "
      ]
     },
     "execution_count": 36,
     "metadata": {},
     "output_type": "execute_result"
    }
   ],
   "source": [
    "data_free = data[data['subscription_type']=='free']\n",
    "data_free.head()"
   ]
  },
  {
   "cell_type": "code",
   "execution_count": 37,
   "id": "79a5b074",
   "metadata": {},
   "outputs": [
    {
     "data": {
      "image/png": "[encoded data removed]",
      "text/plain": [
       "<Figure size 576x576 with 1 Axes>"
      ]
     },
     "metadata": {
      "needs_background": "light"
     },
     "output_type": "display_data"
    }
   ],
   "source": [
    "data_ultra['distance'].plot(kind='hist',\n",
    "                            bins=50,\n",
    "                            range=(0, 6500),\n",
    "                            title='Расстояние с платной подпиской',\n",
    "                            figsize=(8,8)\n",
    "                           );"
   ]
  },
  {
   "cell_type": "code",
   "execution_count": 38,
   "id": "63966069",
   "metadata": {},
   "outputs": [
    {
     "data": {
      "image/png": "[encoded data removed]",
      "text/plain": [
       "<Figure size 576x576 with 1 Axes>"
      ]
     },
     "metadata": {
      "needs_background": "light"
     },
     "output_type": "display_data"
    }
   ],
   "source": [
    "data_ultra['duration'].plot(kind='hist',\n",
    "                            bins=50,\n",
    "                            range=(0, 40),\n",
    "                            title='Длительность поездки с платной подпиской',\n",
    "                            figsize=(8,8)\n",
    "                           );"
   ]
  },
  {
   "cell_type": "code",
   "execution_count": 39,
   "id": "3dd4a40e",
   "metadata": {},
   "outputs": [
    {
     "data": {
      "image/png": "[encoded data removed]",
      "text/plain": [
       "<Figure size 576x576 with 1 Axes>"
      ]
     },
     "metadata": {
      "needs_background": "light"
     },
     "output_type": "display_data"
    }
   ],
   "source": [
    "data_free['distance'].plot(kind='hist',\n",
    "                            bins=50,\n",
    "                            range=(0, 6500),\n",
    "                            title='Расстояние без подписки',\n",
    "                            figsize=(8,8)\n",
    "                           );"
   ]
  },
  {
   "cell_type": "code",
   "execution_count": 40,
   "id": "75c1d078",
   "metadata": {},
   "outputs": [
    {
     "data": {
      "image/png": "[encoded data removed]",
      "text/plain": [
       "<Figure size 576x576 with 1 Axes>"
      ]
     },
     "metadata": {
      "needs_background": "light"
     },
     "output_type": "display_data"
    }
   ],
   "source": [
    "data_free['duration'].plot(kind='hist',\n",
    "                            bins=60,\n",
    "                            range=(0, 40),\n",
    "                            title='Длительность поездки без подписки',\n",
    "                            figsize=(8,8)\n",
    "                           );"
   ]
  },
  {
   "cell_type": "markdown",
   "id": "209bbcc5",
   "metadata": {},
   "source": [
    "**Вывод:**<br>\n",
    "Все три таблицы объединены в одну - 'data'. По двум таблицам 'data_free' и 'data_ultra' разделены пользователи с бесплатным тарифом и платной подпиской соответственно.<br><br>\n",
    "Для пользователей без подписки свойственно:\n",
    "* длительность поездки от 8 до 26 минут.<br>\n",
    "* расстояние за одну поездку от 2 до 4.5 км.<br><br>\n",
    "\n",
    "Для пользователей с платной подпиской:<br>\n",
    "* длительность поездки от 12 до 23 минут<br>\n",
    "* расстояние за одну поездку от 2.5 до 3.5 км<br>\n"
   ]
  },
  {
   "cell_type": "markdown",
   "id": "402d620f",
   "metadata": {},
   "source": [
    "#### Шаг 5. Подсчёт выручки"
   ]
  },
  {
   "cell_type": "markdown",
   "id": "eb5f0249",
   "metadata": {},
   "source": [
    "Продолжительность каждой поездки в каждой строке исходного датафрейма для подсчёта стоимости округлим до следующего целого числа."
   ]
  },
  {
   "cell_type": "code",
   "execution_count": 41,
   "id": "0daf5652",
   "metadata": {},
   "outputs": [
    {
     "data": {
      "text/html": [
       "<div>\n",
       "<style scoped>\n",
       "    .dataframe tbody tr th:only-of-type {\n",
       "        vertical-align: middle;\n",
       "    }\n",
       "\n",
       "    .dataframe tbody tr th {\n",
       "        vertical-align: top;\n",
       "    }\n",
       "\n",
       "    .dataframe thead th {\n",
       "        text-align: right;\n",
       "    }\n",
       "</style>\n",
       "<table border=\"1\" class=\"dataframe\">\n",
       "  <thead>\n",
       "    <tr style=\"text-align: right;\">\n",
       "      <th></th>\n",
       "      <th>user_id</th>\n",
       "      <th>distance</th>\n",
       "      <th>duration</th>\n",
       "      <th>date</th>\n",
       "      <th>month</th>\n",
       "      <th>name</th>\n",
       "      <th>age</th>\n",
       "      <th>city</th>\n",
       "      <th>subscription_type</th>\n",
       "      <th>minute_price</th>\n",
       "      <th>start_ride_price</th>\n",
       "      <th>subscription_fee</th>\n",
       "    </tr>\n",
       "  </thead>\n",
       "  <tbody>\n",
       "    <tr>\n",
       "      <th>0</th>\n",
       "      <td>1</td>\n",
       "      <td>4409.919140</td>\n",
       "      <td>26.0</td>\n",
       "      <td>2021-01-01</td>\n",
       "      <td>1</td>\n",
       "      <td>Кира</td>\n",
       "      <td>22</td>\n",
       "      <td>Тюмень</td>\n",
       "      <td>ultra</td>\n",
       "      <td>6</td>\n",
       "      <td>0</td>\n",
       "      <td>199</td>\n",
       "    </tr>\n",
       "    <tr>\n",
       "      <th>1</th>\n",
       "      <td>1</td>\n",
       "      <td>2617.592153</td>\n",
       "      <td>16.0</td>\n",
       "      <td>2021-01-18</td>\n",
       "      <td>1</td>\n",
       "      <td>Кира</td>\n",
       "      <td>22</td>\n",
       "      <td>Тюмень</td>\n",
       "      <td>ultra</td>\n",
       "      <td>6</td>\n",
       "      <td>0</td>\n",
       "      <td>199</td>\n",
       "    </tr>\n",
       "    <tr>\n",
       "      <th>2</th>\n",
       "      <td>1</td>\n",
       "      <td>754.159807</td>\n",
       "      <td>7.0</td>\n",
       "      <td>2021-04-20</td>\n",
       "      <td>4</td>\n",
       "      <td>Кира</td>\n",
       "      <td>22</td>\n",
       "      <td>Тюмень</td>\n",
       "      <td>ultra</td>\n",
       "      <td>6</td>\n",
       "      <td>0</td>\n",
       "      <td>199</td>\n",
       "    </tr>\n",
       "    <tr>\n",
       "      <th>3</th>\n",
       "      <td>1</td>\n",
       "      <td>2694.783254</td>\n",
       "      <td>19.0</td>\n",
       "      <td>2021-08-11</td>\n",
       "      <td>8</td>\n",
       "      <td>Кира</td>\n",
       "      <td>22</td>\n",
       "      <td>Тюмень</td>\n",
       "      <td>ultra</td>\n",
       "      <td>6</td>\n",
       "      <td>0</td>\n",
       "      <td>199</td>\n",
       "    </tr>\n",
       "    <tr>\n",
       "      <th>4</th>\n",
       "      <td>1</td>\n",
       "      <td>4028.687306</td>\n",
       "      <td>27.0</td>\n",
       "      <td>2021-08-28</td>\n",
       "      <td>8</td>\n",
       "      <td>Кира</td>\n",
       "      <td>22</td>\n",
       "      <td>Тюмень</td>\n",
       "      <td>ultra</td>\n",
       "      <td>6</td>\n",
       "      <td>0</td>\n",
       "      <td>199</td>\n",
       "    </tr>\n",
       "  </tbody>\n",
       "</table>\n",
       "</div>"
      ],
      "text/plain": [
       "   user_id     distance  duration       date  month  name  age    city  \\\n",
       "0        1  4409.919140      26.0 2021-01-01      1  Кира   22  Тюмень   \n",
       "1        1  2617.592153      16.0 2021-01-18      1  Кира   22  Тюмень   \n",
       "2        1   754.159807       7.0 2021-04-20      4  Кира   22  Тюмень   \n",
       "3        1  2694.783254      19.0 2021-08-11      8  Кира   22  Тюмень   \n",
       "4        1  4028.687306      27.0 2021-08-28      8  Кира   22  Тюмень   \n",
       "\n",
       "  subscription_type  minute_price  start_ride_price  subscription_fee  \n",
       "0             ultra             6                 0               199  \n",
       "1             ultra             6                 0               199  \n",
       "2             ultra             6                 0               199  \n",
       "3             ultra             6                 0               199  \n",
       "4             ultra             6                 0               199  "
      ]
     },
     "execution_count": 41,
     "metadata": {},
     "output_type": "execute_result"
    }
   ],
   "source": [
    "data['duration'] = data['duration'].apply(np.ceil)\n",
    "data.head()"
   ]
  },
  {
   "cell_type": "markdown",
   "id": "d94fa880",
   "metadata": {},
   "source": [
    "Создадим датафрейм с агрегированными данными о поездках с суммарным расстоянием, количеством поездок и суммарным временем для каждого пользователя за каждый месяц."
   ]
  },
  {
   "cell_type": "markdown",
   "id": "dd251c23",
   "metadata": {},
   "source": [
    "Для дальнейшего анализа добавлю тип подписки и средние значения стоимости одной минуты поездки, стоимости начала поездки, стоимости ежемесячного платежа."
   ]
  },
  {
   "cell_type": "code",
   "execution_count": 42,
   "id": "53049e0a",
   "metadata": {},
   "outputs": [
    {
     "data": {
      "text/html": [
       "<div>\n",
       "<style scoped>\n",
       "    .dataframe tbody tr th:only-of-type {\n",
       "        vertical-align: middle;\n",
       "    }\n",
       "\n",
       "    .dataframe tbody tr th {\n",
       "        vertical-align: top;\n",
       "    }\n",
       "\n",
       "    .dataframe thead th {\n",
       "        text-align: right;\n",
       "    }\n",
       "</style>\n",
       "<table border=\"1\" class=\"dataframe\">\n",
       "  <thead>\n",
       "    <tr style=\"text-align: right;\">\n",
       "      <th></th>\n",
       "      <th></th>\n",
       "      <th>distance</th>\n",
       "      <th>duration</th>\n",
       "      <th>minute_price</th>\n",
       "      <th>count</th>\n",
       "      <th>start_ride_price</th>\n",
       "      <th>subscription_fee</th>\n",
       "      <th>subscription_type</th>\n",
       "    </tr>\n",
       "    <tr>\n",
       "      <th>month</th>\n",
       "      <th>user_id</th>\n",
       "      <th></th>\n",
       "      <th></th>\n",
       "      <th></th>\n",
       "      <th></th>\n",
       "      <th></th>\n",
       "      <th></th>\n",
       "      <th></th>\n",
       "    </tr>\n",
       "  </thead>\n",
       "  <tbody>\n",
       "    <tr>\n",
       "      <th rowspan=\"5\" valign=\"top\">1</th>\n",
       "      <th>1</th>\n",
       "      <td>7027.511294</td>\n",
       "      <td>42.0</td>\n",
       "      <td>6</td>\n",
       "      <td>2</td>\n",
       "      <td>0</td>\n",
       "      <td>199</td>\n",
       "      <td>ultra</td>\n",
       "    </tr>\n",
       "    <tr>\n",
       "      <th>3</th>\n",
       "      <td>3061.777147</td>\n",
       "      <td>13.0</td>\n",
       "      <td>6</td>\n",
       "      <td>1</td>\n",
       "      <td>0</td>\n",
       "      <td>199</td>\n",
       "      <td>ultra</td>\n",
       "    </tr>\n",
       "    <tr>\n",
       "      <th>5</th>\n",
       "      <td>3914.646990</td>\n",
       "      <td>13.0</td>\n",
       "      <td>6</td>\n",
       "      <td>1</td>\n",
       "      <td>0</td>\n",
       "      <td>199</td>\n",
       "      <td>ultra</td>\n",
       "    </tr>\n",
       "    <tr>\n",
       "      <th>7</th>\n",
       "      <td>6478.080979</td>\n",
       "      <td>28.0</td>\n",
       "      <td>6</td>\n",
       "      <td>2</td>\n",
       "      <td>0</td>\n",
       "      <td>199</td>\n",
       "      <td>ultra</td>\n",
       "    </tr>\n",
       "    <tr>\n",
       "      <th>12</th>\n",
       "      <td>3577.151148</td>\n",
       "      <td>33.0</td>\n",
       "      <td>6</td>\n",
       "      <td>1</td>\n",
       "      <td>0</td>\n",
       "      <td>199</td>\n",
       "      <td>ultra</td>\n",
       "    </tr>\n",
       "  </tbody>\n",
       "</table>\n",
       "</div>"
      ],
      "text/plain": [
       "                  distance  duration  minute_price  count  start_ride_price  \\\n",
       "month user_id                                                                 \n",
       "1     1        7027.511294      42.0             6      2                 0   \n",
       "      3        3061.777147      13.0             6      1                 0   \n",
       "      5        3914.646990      13.0             6      1                 0   \n",
       "      7        6478.080979      28.0             6      2                 0   \n",
       "      12       3577.151148      33.0             6      1                 0   \n",
       "\n",
       "               subscription_fee subscription_type  \n",
       "month user_id                                      \n",
       "1     1                     199             ultra  \n",
       "      3                     199             ultra  \n",
       "      5                     199             ultra  \n",
       "      7                     199             ultra  \n",
       "      12                    199             ultra  "
      ]
     },
     "execution_count": 42,
     "metadata": {},
     "output_type": "execute_result"
    }
   ],
   "source": [
    "data_month_profit = (data\n",
    "                         .pivot_table(index=['month', 'user_id'], \n",
    "                                      values=['distance','name', 'duration', 'minute_price', \n",
    "                                              'start_ride_price', 'subscription_fee', 'subscription_type'], \n",
    "                                      aggfunc={'distance': 'sum', \n",
    "                                               'name': 'count', \n",
    "                                               'duration': 'sum',\n",
    "                                               'subscription_type': 'min',\n",
    "                                               'subscription_fee': 'mean',\n",
    "                                               'start_ride_price': 'mean',\n",
    "                                               'minute_price': 'mean',})\n",
    ")\n",
    "data_month_profit.rename(columns={'name': 'count'}, inplace=True)\n",
    "data_month_profit.head()"
   ]
  },
  {
   "cell_type": "code",
   "execution_count": 43,
   "id": "19122abc",
   "metadata": {},
   "outputs": [
    {
     "name": "stdout",
     "output_type": "stream",
     "text": [
      "<class 'pandas.core.frame.DataFrame'>\n",
      "MultiIndex: 11331 entries, (1, 1) to (12, 1534)\n",
      "Data columns (total 7 columns):\n",
      " #   Column             Non-Null Count  Dtype  \n",
      "---  ------             --------------  -----  \n",
      " 0   distance           11331 non-null  float64\n",
      " 1   duration           11331 non-null  float64\n",
      " 2   minute_price       11331 non-null  int64  \n",
      " 3   count              11331 non-null  int64  \n",
      " 4   start_ride_price   11331 non-null  int64  \n",
      " 5   subscription_fee   11331 non-null  int64  \n",
      " 6   subscription_type  11331 non-null  object \n",
      "dtypes: float64(2), int64(4), object(1)\n",
      "memory usage: 665.0+ KB\n"
     ]
    }
   ],
   "source": [
    "data_month_profit.info()"
   ]
  },
  {
   "cell_type": "code",
   "execution_count": 44,
   "id": "f333d0e5",
   "metadata": {},
   "outputs": [],
   "source": [
    "def month_profit(row):\n",
    "    return row['start_ride_price'] * row['count'] + row['minute_price'] * row['duration'] + row['subscription_fee']"
   ]
  },
  {
   "cell_type": "code",
   "execution_count": 45,
   "id": "1833916f",
   "metadata": {},
   "outputs": [
    {
     "data": {
      "text/html": [
       "<div>\n",
       "<style scoped>\n",
       "    .dataframe tbody tr th:only-of-type {\n",
       "        vertical-align: middle;\n",
       "    }\n",
       "\n",
       "    .dataframe tbody tr th {\n",
       "        vertical-align: top;\n",
       "    }\n",
       "\n",
       "    .dataframe thead th {\n",
       "        text-align: right;\n",
       "    }\n",
       "</style>\n",
       "<table border=\"1\" class=\"dataframe\">\n",
       "  <thead>\n",
       "    <tr style=\"text-align: right;\">\n",
       "      <th></th>\n",
       "      <th></th>\n",
       "      <th>distance</th>\n",
       "      <th>duration</th>\n",
       "      <th>minute_price</th>\n",
       "      <th>count</th>\n",
       "      <th>start_ride_price</th>\n",
       "      <th>subscription_fee</th>\n",
       "      <th>subscription_type</th>\n",
       "      <th>month_profit</th>\n",
       "    </tr>\n",
       "    <tr>\n",
       "      <th>month</th>\n",
       "      <th>user_id</th>\n",
       "      <th></th>\n",
       "      <th></th>\n",
       "      <th></th>\n",
       "      <th></th>\n",
       "      <th></th>\n",
       "      <th></th>\n",
       "      <th></th>\n",
       "      <th></th>\n",
       "    </tr>\n",
       "  </thead>\n",
       "  <tbody>\n",
       "    <tr>\n",
       "      <th rowspan=\"5\" valign=\"top\">1</th>\n",
       "      <th>1</th>\n",
       "      <td>7027.511294</td>\n",
       "      <td>42.0</td>\n",
       "      <td>6</td>\n",
       "      <td>2</td>\n",
       "      <td>0</td>\n",
       "      <td>199</td>\n",
       "      <td>ultra</td>\n",
       "      <td>451.0</td>\n",
       "    </tr>\n",
       "    <tr>\n",
       "      <th>3</th>\n",
       "      <td>3061.777147</td>\n",
       "      <td>13.0</td>\n",
       "      <td>6</td>\n",
       "      <td>1</td>\n",
       "      <td>0</td>\n",
       "      <td>199</td>\n",
       "      <td>ultra</td>\n",
       "      <td>277.0</td>\n",
       "    </tr>\n",
       "    <tr>\n",
       "      <th>5</th>\n",
       "      <td>3914.646990</td>\n",
       "      <td>13.0</td>\n",
       "      <td>6</td>\n",
       "      <td>1</td>\n",
       "      <td>0</td>\n",
       "      <td>199</td>\n",
       "      <td>ultra</td>\n",
       "      <td>277.0</td>\n",
       "    </tr>\n",
       "    <tr>\n",
       "      <th>7</th>\n",
       "      <td>6478.080979</td>\n",
       "      <td>28.0</td>\n",
       "      <td>6</td>\n",
       "      <td>2</td>\n",
       "      <td>0</td>\n",
       "      <td>199</td>\n",
       "      <td>ultra</td>\n",
       "      <td>367.0</td>\n",
       "    </tr>\n",
       "    <tr>\n",
       "      <th>12</th>\n",
       "      <td>3577.151148</td>\n",
       "      <td>33.0</td>\n",
       "      <td>6</td>\n",
       "      <td>1</td>\n",
       "      <td>0</td>\n",
       "      <td>199</td>\n",
       "      <td>ultra</td>\n",
       "      <td>397.0</td>\n",
       "    </tr>\n",
       "  </tbody>\n",
       "</table>\n",
       "</div>"
      ],
      "text/plain": [
       "                  distance  duration  minute_price  count  start_ride_price  \\\n",
       "month user_id                                                                 \n",
       "1     1        7027.511294      42.0             6      2                 0   \n",
       "      3        3061.777147      13.0             6      1                 0   \n",
       "      5        3914.646990      13.0             6      1                 0   \n",
       "      7        6478.080979      28.0             6      2                 0   \n",
       "      12       3577.151148      33.0             6      1                 0   \n",
       "\n",
       "               subscription_fee subscription_type  month_profit  \n",
       "month user_id                                                    \n",
       "1     1                     199             ultra         451.0  \n",
       "      3                     199             ultra         277.0  \n",
       "      5                     199             ultra         277.0  \n",
       "      7                     199             ultra         367.0  \n",
       "      12                    199             ultra         397.0  "
      ]
     },
     "execution_count": 45,
     "metadata": {},
     "output_type": "execute_result"
    }
   ],
   "source": [
    "data_month_profit['month_profit'] = data_month_profit.apply(month_profit, axis=1)\n",
    "data_month_profit.head()"
   ]
  },
  {
   "cell_type": "markdown",
   "id": "96a8eec8",
   "metadata": {},
   "source": [
    "**Вывод:**<br>\n",
    "Был создан датафрейм с агрегированными данными о поездках.<br>\n",
    "Датафрейм содержит суммарное расстояние, количество поездок и суммарное время для каждого пользователя за каждый месяц, а также средние значения стоимости одной минуты поездки, стоимости начала поездки, стоимости ежемесячного платежа.<br>\n",
    "В столбце month_profit содержится информация о помесячной выручке, которую принес каждый пользователь."
   ]
  },
  {
   "cell_type": "markdown",
   "id": "41545ac0",
   "metadata": {},
   "source": [
    "#### Шаг 6. Проверка гипотез"
   ]
  },
  {
   "cell_type": "markdown",
   "id": "06b60635",
   "metadata": {},
   "source": [
    "**Гипотеза**: Пользователи с подпиской тратят тратят на поездки времени больше, чем пользователи без подписки. "
   ]
  },
  {
   "cell_type": "markdown",
   "id": "c69d1013",
   "metadata": {},
   "source": [
    "Н0 = время пользователей с подпиской = время пользователей без подписки<br>\n",
    "Н1 = время пользователей с подпиской > время пользователей без подписки"
   ]
  },
  {
   "cell_type": "code",
   "execution_count": 46,
   "id": "4f4e8d62",
   "metadata": {},
   "outputs": [
    {
     "name": "stdout",
     "output_type": "stream",
     "text": [
      "1.2804098316645618e-34\n",
      "Отвергаем нулевую гипотезу\n"
     ]
    }
   ],
   "source": [
    "duration_ultra = data_ultra['duration'].values\n",
    "duration_free = data_free['duration'].values\n",
    "\n",
    "alpha = 0.05\n",
    "\n",
    "result = st.ttest_ind(duration_ultra, duration_free, alternative='greater')\n",
    "\n",
    "print(result.pvalue)\n",
    "\n",
    "if result.pvalue < alpha:\n",
    "    print('Отвергаем нулевую гипотезу')\n",
    "else:\n",
    "    print('Не удалось отвергнуть нулевую гипотезу')"
   ]
  },
  {
   "cell_type": "markdown",
   "id": "8c718d68",
   "metadata": {},
   "source": [
    "**Вывод:**<br>\n",
    "На данный момент время пользователей с подпиской действительно больше, чем у пользователей без подписки."
   ]
  },
  {
   "cell_type": "markdown",
   "id": "aef1162f",
   "metadata": {},
   "source": [
    "**Гипотеза**: Среднее расстояние, которое проезжают пользователи с подпиской за одну поездку, не превышает 3130 метров"
   ]
  },
  {
   "cell_type": "markdown",
   "id": "cb6af7f0",
   "metadata": {},
   "source": [
    "Н0 = среднее расстояние пользователей с подпиской = 3130<br>\n",
    "Н1 = среднее расстояние пользователей с подпиской > 3130"
   ]
  },
  {
   "cell_type": "code",
   "execution_count": 47,
   "id": "b8840fc8",
   "metadata": {},
   "outputs": [
    {
     "name": "stdout",
     "output_type": "stream",
     "text": [
      "Среднее выборки =  3115.4453880370247\n",
      "0.9195368847849785\n",
      "Не удалось отвергнуть нулевую гипотезу\n"
     ]
    }
   ],
   "source": [
    "distance_ultra = data_ultra['distance']\n",
    "\n",
    "print('Среднее выборки = ', distance_ultra.mean())\n",
    "\n",
    "value = 3130\n",
    "\n",
    "alpha = 0.05\n",
    "\n",
    "result = st.ttest_1samp(distance_ultra, value, alternative='greater')\n",
    "\n",
    "print(result.pvalue)\n",
    "\n",
    "if result.pvalue < alpha:\n",
    "    print('Отвергаем нулевую гипотезу')\n",
    "else:\n",
    "    print('Не удалось отвергнуть нулевую гипотезу')"
   ]
  },
  {
   "cell_type": "markdown",
   "id": "a2e18ab5",
   "metadata": {},
   "source": [
    "**Вывод:**<br>\n",
    "На данный момент гипотезу отвергнуть нельзя, поэтому полагаем, среднее рассотяние, которое пользователь с подпиской проезжает за одну поездку, не превышает 3130"
   ]
  },
  {
   "cell_type": "markdown",
   "id": "5ca4adc4",
   "metadata": {},
   "source": [
    "**Гипотеза**: Помесячная выручка от пользователей с подпиской по месяцам выше, чем выручка от пользователей без подписки"
   ]
  },
  {
   "cell_type": "markdown",
   "id": "488c8749",
   "metadata": {},
   "source": [
    "Н0 = помесячная выручка от пользователей с подпиской = помесячная выручка от пользователей без подписки<br>\n",
    "H1 = помесячная выручка от пользователей с подпиской > помесячная выручка от пользователей без подписки"
   ]
  },
  {
   "cell_type": "code",
   "execution_count": 48,
   "id": "9f6a795e",
   "metadata": {},
   "outputs": [
    {
     "name": "stdout",
     "output_type": "stream",
     "text": [
      "1.8850394384715216e-31\n",
      "Отвергаем нулевую гипотезу\n"
     ]
    }
   ],
   "source": [
    "month_ultra = data_month_profit.loc[data_month_profit['subscription_type']=='ultra', 'month_profit'].values.astype(int)\n",
    "month_free = data_month_profit.loc[data_month_profit['subscription_type']=='free', 'month_profit'].values.astype(int)\n",
    "\n",
    "alpha = 0.05\n",
    "\n",
    "result = st.ttest_ind(month_ultra, month_free, alternative='greater')\n",
    "\n",
    "print(result.pvalue)\n",
    "\n",
    "if result.pvalue < alpha:\n",
    "    print('Отвергаем нулевую гипотезу')\n",
    "else:\n",
    "    print('Не удалось отвергнуть нулевую гипотезу')\n"
   ]
  },
  {
   "cell_type": "markdown",
   "id": "5d41868a",
   "metadata": {},
   "source": [
    "**Вывод:**<br>\n",
    "Не получилось опровергнуть, что помесячная выручка от пользователей с подпиской по месяцам выше, чем выручка от пользователей без подписки "
   ]
  },
  {
   "cell_type": "markdown",
   "id": "ab2e103c",
   "metadata": {},
   "source": []
  },
  {
   "cell_type": "markdown",
   "id": "812942ee",
   "metadata": {},
   "source": [
    "Представьте такую ситуацию: техническая команда сервиса обновила сервера, с которыми взаимодействует мобильное приложение. Она надеется, что из-за этого количество обращений в техподдержку значимо снизилось. Некоторый файл содержит для каждого пользователя данные о количестве обращений до обновления и после него. Какой тест вам понадобился бы для проверки этой гипотезы?"
   ]
  },
  {
   "cell_type": "markdown",
   "id": "8a26e11d",
   "metadata": {},
   "source": [
    "Н0 = среднее значение кол-ва обращений в техподдержку до изменения = среднее значение кол-ва обращений в техподдержку после изменения<br>\n",
    "Н1 = среднее значение кол-ва обращений в техподдержку до изменения != среднее значение кол-ва обращений в техподдержку после изменения<br>"
   ]
  },
  {
   "cell_type": "markdown",
   "id": "7714c845",
   "metadata": {},
   "source": [
    "Проверить гипотезу можно методом ttest_rel()"
   ]
  },
  {
   "cell_type": "markdown",
   "id": "61213c5e",
   "metadata": {},
   "source": [
    "#### Шаг 7. Вывод"
   ]
  },
  {
   "cell_type": "markdown",
   "id": "028b7a13",
   "metadata": {},
   "source": [
    "Полученные данные были проверены на коррекность. Пропусков нет, названия столбцов в норме.<br>\n",
    "Удалены явные дубликаты, типы данных приведены к подабающему виду.<br>\n",
    "Для удобства дальнейшей работы добавлен новый столбец с месяцем совершения поездки.<br>\n",
    "\n",
    "По параметру город данные распределены равномерно, без явного преобладания отдельных городов.<br>\n",
    "Больше всего данных о Пятигорске - 14%, меньше всего о Москве - 11%.<br>\n",
    "Пользователей с бесплатной подпиской 54%, с платной - 46%.<br>\n",
    "Основная доля пользователей в возрасте от 22 до 28 лет с пиком в 25 лет.<br>\n",
    "Как правило, расстояние за одну поездку находится в диапазоне от 2500 до 3700 метров - из анализа были исключены наблюдения, в которых дистанция поездки превосходит значение 'среднее + 3 стандартных отклонения'.<br>\n",
    "В основном, поездки занимают от 13 до 22 минут, верхняя граница задана по аналогии с рассотянием за одну поездку.<br>\n",
    "\n",
    "Все три таблицы объединены в одну - 'data'. По двум таблицам 'data_free' и 'data_ultra' разделены пользователи с бесплатным тарифом и платной подпиской соответственно.<br><br>\n",
    "Для пользователей без подписки свойственно:\n",
    "* длительность поездки от 8 до 26 минут.<br>\n",
    "* расстояние за одну поездку от 2 до 4.5 км.<br><br>\n",
    "\n",
    "Для пользователей с платной подпиской:<br>\n",
    "* длительность поездки от 12 до 23 минут<br>\n",
    "* расстояние за одну поездку от 2.5 до 3.5 км<br>\n",
    "\n",
    "Был создан датафрейм с агрегированными данными о поездках.<br>\n",
    "Датафрейм содержит суммарное расстояние, количество поездок и суммарное время для каждого пользователя за каждый месяц, а также средние значения стоимости одной минуты поездки, стоимости начала поездки, стоимости ежемесячного платежа.<br>\n",
    "В столбце month_profit содержится информация о помесячной выручке, которую принес каждый пользователь.<br>\n",
    "\n",
    "Был проверен ряд гипотез и установлены следующие факты:<br>\n",
    "\n",
    "* На данный момент время пользователей с подпиской действительно больше, чем у пользователей без подписки.<br>\n",
    "* На данный момент гипотезу отвергнуть нельзя, поэтому полагаем, среднее рассотяние, которое пользователь с подпиской проезжает за одну поездку, не превышает 3130<br>\n",
    "* Не получилось опровергнуть, что помесячная выручка от пользователей с подпиской по месяцам выше, чем выручка от пользователей без подписки<br>"
   ]
  }
 ],
 "metadata": {
  "ExecuteTimeLog": [
   {
    "duration": 444,
    "start_time": "2024-06-06T08:39:41.531Z"
   },
   {
    "duration": 213,
    "start_time": "2024-06-06T08:39:42.770Z"
   },
   {
    "duration": 325,
    "start_time": "2024-06-10T06:55:41.819Z"
   },
   {
    "duration": 399,
    "start_time": "2024-06-10T06:55:42.498Z"
   },
   {
    "duration": 15,
    "start_time": "2024-06-10T06:55:42.928Z"
   },
   {
    "duration": 7,
    "start_time": "2024-06-10T06:55:54.320Z"
   },
   {
    "duration": 61,
    "start_time": "2024-06-10T06:56:35.822Z"
   },
   {
    "duration": 5,
    "start_time": "2024-06-10T06:56:41.544Z"
   },
   {
    "duration": 10,
    "start_time": "2024-06-10T07:21:10.365Z"
   },
   {
    "duration": 9,
    "start_time": "2024-06-10T07:21:25.300Z"
   },
   {
    "duration": 9,
    "start_time": "2024-06-10T07:21:52.388Z"
   },
   {
    "duration": 10,
    "start_time": "2024-06-10T08:30:27.644Z"
   },
   {
    "duration": 52,
    "start_time": "2024-06-10T08:30:39.705Z"
   },
   {
    "duration": 6,
    "start_time": "2024-06-10T08:32:03.570Z"
   },
   {
    "duration": 7,
    "start_time": "2024-06-10T08:32:30.138Z"
   },
   {
    "duration": 5,
    "start_time": "2024-06-10T08:32:48.297Z"
   },
   {
    "duration": 7,
    "start_time": "2024-06-10T08:37:45.688Z"
   },
   {
    "duration": 74,
    "start_time": "2024-06-10T08:56:58.517Z"
   },
   {
    "duration": 4,
    "start_time": "2024-06-10T08:57:08.110Z"
   },
   {
    "duration": 2,
    "start_time": "2024-06-10T08:57:14.773Z"
   },
   {
    "duration": 9,
    "start_time": "2024-06-10T08:57:31.852Z"
   },
   {
    "duration": 4,
    "start_time": "2024-06-10T08:58:22.508Z"
   },
   {
    "duration": 5,
    "start_time": "2024-06-10T09:00:00.885Z"
   },
   {
    "duration": 4,
    "start_time": "2024-06-10T09:00:44.765Z"
   },
   {
    "duration": 5,
    "start_time": "2024-06-10T11:34:25.404Z"
   },
   {
    "duration": 345,
    "start_time": "2024-06-10T11:37:13.220Z"
   },
   {
    "duration": 61,
    "start_time": "2024-06-10T11:37:13.567Z"
   },
   {
    "duration": 12,
    "start_time": "2024-06-10T11:37:13.629Z"
   },
   {
    "duration": 6,
    "start_time": "2024-06-10T11:37:13.643Z"
   },
   {
    "duration": 22,
    "start_time": "2024-06-10T11:37:13.651Z"
   },
   {
    "duration": 12,
    "start_time": "2024-06-10T11:37:13.675Z"
   },
   {
    "duration": 39,
    "start_time": "2024-06-10T11:37:13.689Z"
   },
   {
    "duration": 8,
    "start_time": "2024-06-10T11:37:13.730Z"
   },
   {
    "duration": 14,
    "start_time": "2024-06-10T11:37:13.739Z"
   },
   {
    "duration": 4,
    "start_time": "2024-06-10T11:37:13.755Z"
   },
   {
    "duration": 8,
    "start_time": "2024-06-10T11:37:13.760Z"
   },
   {
    "duration": 5,
    "start_time": "2024-06-10T11:37:13.770Z"
   },
   {
    "duration": 10,
    "start_time": "2024-06-10T11:37:13.776Z"
   },
   {
    "duration": 4,
    "start_time": "2024-06-10T11:37:13.787Z"
   },
   {
    "duration": 8,
    "start_time": "2024-06-10T11:37:13.792Z"
   },
   {
    "duration": 3,
    "start_time": "2024-06-10T11:37:13.801Z"
   },
   {
    "duration": 5,
    "start_time": "2024-06-10T11:37:13.806Z"
   },
   {
    "duration": 61,
    "start_time": "2024-06-10T11:45:12.735Z"
   },
   {
    "duration": 9,
    "start_time": "2024-06-10T11:45:22.447Z"
   },
   {
    "duration": 5,
    "start_time": "2024-06-10T11:45:27.853Z"
   },
   {
    "duration": 14,
    "start_time": "2024-06-10T11:53:27.724Z"
   },
   {
    "duration": 6,
    "start_time": "2024-06-10T11:53:47.419Z"
   },
   {
    "duration": 467,
    "start_time": "2024-06-10T11:55:42.666Z"
   },
   {
    "duration": 138,
    "start_time": "2024-06-10T11:56:49.066Z"
   },
   {
    "duration": 116,
    "start_time": "2024-06-10T11:58:18.154Z"
   },
   {
    "duration": 128,
    "start_time": "2024-06-10T11:58:24.443Z"
   },
   {
    "duration": 5,
    "start_time": "2024-06-10T12:02:24.186Z"
   },
   {
    "duration": 122,
    "start_time": "2024-06-10T12:03:28.146Z"
   },
   {
    "duration": 87,
    "start_time": "2024-06-10T12:03:55.458Z"
   },
   {
    "duration": 87,
    "start_time": "2024-06-10T12:04:09.555Z"
   },
   {
    "duration": 125,
    "start_time": "2024-06-10T12:04:16.707Z"
   },
   {
    "duration": 4,
    "start_time": "2024-06-10T12:05:31.498Z"
   },
   {
    "duration": 7,
    "start_time": "2024-06-10T12:24:30.624Z"
   },
   {
    "duration": 196,
    "start_time": "2024-06-10T12:24:55.046Z"
   },
   {
    "duration": 8,
    "start_time": "2024-06-10T12:25:33.734Z"
   },
   {
    "duration": 9,
    "start_time": "2024-06-10T12:25:41.766Z"
   },
   {
    "duration": 5,
    "start_time": "2024-06-10T12:26:08.806Z"
   },
   {
    "duration": 8,
    "start_time": "2024-06-10T12:26:14.598Z"
   },
   {
    "duration": 9,
    "start_time": "2024-06-10T12:26:25.270Z"
   },
   {
    "duration": 7,
    "start_time": "2024-06-10T12:27:15.590Z"
   },
   {
    "duration": 7,
    "start_time": "2024-06-10T12:27:23.702Z"
   },
   {
    "duration": 5,
    "start_time": "2024-06-10T12:27:31.830Z"
   },
   {
    "duration": 6,
    "start_time": "2024-06-10T12:27:50.301Z"
   },
   {
    "duration": 6,
    "start_time": "2024-06-10T12:28:46.549Z"
   },
   {
    "duration": 95,
    "start_time": "2024-06-10T12:28:52.326Z"
   },
   {
    "duration": 118,
    "start_time": "2024-06-10T12:29:16.398Z"
   },
   {
    "duration": 4,
    "start_time": "2024-06-10T12:29:33.525Z"
   },
   {
    "duration": 4,
    "start_time": "2024-06-10T12:29:58.149Z"
   },
   {
    "duration": 5,
    "start_time": "2024-06-10T12:30:16.869Z"
   },
   {
    "duration": 7,
    "start_time": "2024-06-10T12:30:22.213Z"
   },
   {
    "duration": 5,
    "start_time": "2024-06-10T12:31:17.925Z"
   },
   {
    "duration": 4,
    "start_time": "2024-06-10T12:33:10.870Z"
   },
   {
    "duration": 4,
    "start_time": "2024-06-10T12:33:25.804Z"
   },
   {
    "duration": 5,
    "start_time": "2024-06-10T12:34:03.070Z"
   },
   {
    "duration": 746,
    "start_time": "2024-06-10T12:39:22.822Z"
   },
   {
    "duration": 9,
    "start_time": "2024-06-10T12:39:38.837Z"
   },
   {
    "duration": 4,
    "start_time": "2024-06-10T12:40:08.933Z"
   },
   {
    "duration": 7,
    "start_time": "2024-06-10T13:20:08.421Z"
   },
   {
    "duration": 98,
    "start_time": "2024-06-10T13:24:16.923Z"
   },
   {
    "duration": 128,
    "start_time": "2024-06-10T13:25:13.873Z"
   },
   {
    "duration": 4,
    "start_time": "2024-06-10T13:30:09.209Z"
   },
   {
    "duration": 4,
    "start_time": "2024-06-10T13:30:25.672Z"
   },
   {
    "duration": 4,
    "start_time": "2024-06-10T13:31:51.760Z"
   },
   {
    "duration": 5,
    "start_time": "2024-06-10T13:31:58.552Z"
   },
   {
    "duration": 4,
    "start_time": "2024-06-10T13:33:26.761Z"
   },
   {
    "duration": 10,
    "start_time": "2024-06-10T13:33:46.823Z"
   },
   {
    "duration": 7,
    "start_time": "2024-06-10T13:36:52.222Z"
   },
   {
    "duration": 95,
    "start_time": "2024-06-10T13:37:50.854Z"
   },
   {
    "duration": 103,
    "start_time": "2024-06-10T13:38:16.853Z"
   },
   {
    "duration": 378,
    "start_time": "2024-06-10T13:38:24.889Z"
   },
   {
    "duration": 61,
    "start_time": "2024-06-10T13:38:25.269Z"
   },
   {
    "duration": 12,
    "start_time": "2024-06-10T13:38:25.332Z"
   },
   {
    "duration": 9,
    "start_time": "2024-06-10T13:38:25.346Z"
   },
   {
    "duration": 7,
    "start_time": "2024-06-10T13:38:25.356Z"
   },
   {
    "duration": 9,
    "start_time": "2024-06-10T13:38:25.365Z"
   },
   {
    "duration": 9,
    "start_time": "2024-06-10T13:38:25.375Z"
   },
   {
    "duration": 8,
    "start_time": "2024-06-10T13:38:25.385Z"
   },
   {
    "duration": 12,
    "start_time": "2024-06-10T13:38:25.394Z"
   },
   {
    "duration": 4,
    "start_time": "2024-06-10T13:38:25.409Z"
   },
   {
    "duration": 10,
    "start_time": "2024-06-10T13:38:25.414Z"
   },
   {
    "duration": 4,
    "start_time": "2024-06-10T13:38:25.425Z"
   },
   {
    "duration": 6,
    "start_time": "2024-06-10T13:38:25.430Z"
   },
   {
    "duration": 3,
    "start_time": "2024-06-10T13:38:25.437Z"
   },
   {
    "duration": 29,
    "start_time": "2024-06-10T13:38:25.442Z"
   },
   {
    "duration": 3,
    "start_time": "2024-06-10T13:38:25.473Z"
   },
   {
    "duration": 7,
    "start_time": "2024-06-10T13:38:25.477Z"
   },
   {
    "duration": 10,
    "start_time": "2024-06-10T13:38:25.485Z"
   },
   {
    "duration": 5,
    "start_time": "2024-06-10T13:38:25.496Z"
   },
   {
    "duration": 10,
    "start_time": "2024-06-10T13:38:25.502Z"
   },
   {
    "duration": 341,
    "start_time": "2024-06-10T13:38:25.513Z"
   },
   {
    "duration": 5,
    "start_time": "2024-06-10T13:38:25.856Z"
   },
   {
    "duration": 95,
    "start_time": "2024-06-10T13:38:25.870Z"
   },
   {
    "duration": 5,
    "start_time": "2024-06-10T13:38:25.966Z"
   },
   {
    "duration": 117,
    "start_time": "2024-06-10T13:38:25.972Z"
   },
   {
    "duration": 3,
    "start_time": "2024-06-10T13:38:26.091Z"
   },
   {
    "duration": 8,
    "start_time": "2024-06-10T13:38:26.095Z"
   },
   {
    "duration": 116,
    "start_time": "2024-06-10T13:38:26.106Z"
   },
   {
    "duration": 3,
    "start_time": "2024-06-10T13:38:26.223Z"
   },
   {
    "duration": 14,
    "start_time": "2024-06-10T13:38:26.227Z"
   },
   {
    "duration": 6,
    "start_time": "2024-06-10T13:38:26.242Z"
   },
   {
    "duration": 115,
    "start_time": "2024-06-10T13:38:26.249Z"
   },
   {
    "duration": 3,
    "start_time": "2024-06-10T13:40:48.534Z"
   },
   {
    "duration": 9,
    "start_time": "2024-06-10T13:40:48.910Z"
   },
   {
    "duration": 131,
    "start_time": "2024-06-10T13:40:56.533Z"
   },
   {
    "duration": 413,
    "start_time": "2024-06-10T13:41:05.946Z"
   },
   {
    "duration": 65,
    "start_time": "2024-06-10T13:41:06.361Z"
   },
   {
    "duration": 14,
    "start_time": "2024-06-10T13:41:06.428Z"
   },
   {
    "duration": 7,
    "start_time": "2024-06-10T13:41:06.444Z"
   },
   {
    "duration": 7,
    "start_time": "2024-06-10T13:41:06.452Z"
   },
   {
    "duration": 9,
    "start_time": "2024-06-10T13:41:06.460Z"
   },
   {
    "duration": 16,
    "start_time": "2024-06-10T13:41:06.470Z"
   },
   {
    "duration": 11,
    "start_time": "2024-06-10T13:41:06.488Z"
   },
   {
    "duration": 13,
    "start_time": "2024-06-10T13:41:06.501Z"
   },
   {
    "duration": 5,
    "start_time": "2024-06-10T13:41:06.518Z"
   },
   {
    "duration": 7,
    "start_time": "2024-06-10T13:41:06.524Z"
   },
   {
    "duration": 4,
    "start_time": "2024-06-10T13:41:06.533Z"
   },
   {
    "duration": 33,
    "start_time": "2024-06-10T13:41:06.538Z"
   },
   {
    "duration": 5,
    "start_time": "2024-06-10T13:41:06.573Z"
   },
   {
    "duration": 6,
    "start_time": "2024-06-10T13:41:06.580Z"
   },
   {
    "duration": 5,
    "start_time": "2024-06-10T13:41:06.588Z"
   },
   {
    "duration": 6,
    "start_time": "2024-06-10T13:41:06.594Z"
   },
   {
    "duration": 7,
    "start_time": "2024-06-10T13:41:06.602Z"
   },
   {
    "duration": 4,
    "start_time": "2024-06-10T13:41:06.610Z"
   },
   {
    "duration": 8,
    "start_time": "2024-06-10T13:41:06.615Z"
   },
   {
    "duration": 440,
    "start_time": "2024-06-10T13:41:06.624Z"
   },
   {
    "duration": 7,
    "start_time": "2024-06-10T13:41:07.066Z"
   },
   {
    "duration": 113,
    "start_time": "2024-06-10T13:41:07.074Z"
   },
   {
    "duration": 7,
    "start_time": "2024-06-10T13:41:07.189Z"
   },
   {
    "duration": 140,
    "start_time": "2024-06-10T13:41:07.198Z"
   },
   {
    "duration": 4,
    "start_time": "2024-06-10T13:41:07.339Z"
   },
   {
    "duration": 8,
    "start_time": "2024-06-10T13:41:07.344Z"
   },
   {
    "duration": 123,
    "start_time": "2024-06-10T13:41:07.354Z"
   },
   {
    "duration": 5,
    "start_time": "2024-06-10T13:41:07.478Z"
   },
   {
    "duration": 15,
    "start_time": "2024-06-10T13:41:07.484Z"
   },
   {
    "duration": 8,
    "start_time": "2024-06-10T13:41:07.501Z"
   },
   {
    "duration": 128,
    "start_time": "2024-06-10T13:41:07.510Z"
   },
   {
    "duration": 3,
    "start_time": "2024-06-10T13:41:07.640Z"
   },
   {
    "duration": 10,
    "start_time": "2024-06-10T13:41:07.644Z"
   },
   {
    "duration": 387,
    "start_time": "2024-06-11T07:12:03.499Z"
   },
   {
    "duration": 308,
    "start_time": "2024-06-11T07:12:03.888Z"
   },
   {
    "duration": 15,
    "start_time": "2024-06-11T07:12:04.198Z"
   },
   {
    "duration": 8,
    "start_time": "2024-06-11T07:12:04.215Z"
   },
   {
    "duration": 32,
    "start_time": "2024-06-11T07:12:04.225Z"
   },
   {
    "duration": 29,
    "start_time": "2024-06-11T07:12:04.259Z"
   },
   {
    "duration": 16,
    "start_time": "2024-06-11T07:12:04.290Z"
   },
   {
    "duration": 15,
    "start_time": "2024-06-11T07:12:04.308Z"
   },
   {
    "duration": 30,
    "start_time": "2024-06-11T07:12:04.325Z"
   },
   {
    "duration": 7,
    "start_time": "2024-06-11T07:12:04.361Z"
   },
   {
    "duration": 11,
    "start_time": "2024-06-11T07:12:04.370Z"
   },
   {
    "duration": 5,
    "start_time": "2024-06-11T07:12:04.383Z"
   },
   {
    "duration": 9,
    "start_time": "2024-06-11T07:12:04.390Z"
   },
   {
    "duration": 6,
    "start_time": "2024-06-11T07:12:04.400Z"
   },
   {
    "duration": 5,
    "start_time": "2024-06-11T07:12:04.408Z"
   },
   {
    "duration": 6,
    "start_time": "2024-06-11T07:12:04.456Z"
   },
   {
    "duration": 6,
    "start_time": "2024-06-11T07:12:04.464Z"
   },
   {
    "duration": 9,
    "start_time": "2024-06-11T07:12:04.472Z"
   },
   {
    "duration": 5,
    "start_time": "2024-06-11T07:12:04.482Z"
   },
   {
    "duration": 19,
    "start_time": "2024-06-11T07:12:04.489Z"
   },
   {
    "duration": 733,
    "start_time": "2024-06-11T07:12:04.510Z"
   },
   {
    "duration": 12,
    "start_time": "2024-06-11T07:12:05.245Z"
   },
   {
    "duration": 121,
    "start_time": "2024-06-11T07:12:05.259Z"
   },
   {
    "duration": 6,
    "start_time": "2024-06-11T07:12:05.382Z"
   },
   {
    "duration": 153,
    "start_time": "2024-06-11T07:12:05.389Z"
   },
   {
    "duration": 5,
    "start_time": "2024-06-11T07:12:05.543Z"
   },
   {
    "duration": 32,
    "start_time": "2024-06-11T07:12:05.556Z"
   },
   {
    "duration": 134,
    "start_time": "2024-06-11T07:12:05.591Z"
   },
   {
    "duration": 4,
    "start_time": "2024-06-11T07:12:05.726Z"
   },
   {
    "duration": 15,
    "start_time": "2024-06-11T07:12:05.732Z"
   },
   {
    "duration": 13,
    "start_time": "2024-06-11T07:12:05.749Z"
   },
   {
    "duration": 218,
    "start_time": "2024-06-11T07:12:05.764Z"
   },
   {
    "duration": 4,
    "start_time": "2024-06-11T07:12:05.984Z"
   },
   {
    "duration": 21,
    "start_time": "2024-06-11T07:12:05.990Z"
   },
   {
    "duration": 83,
    "start_time": "2024-06-11T07:14:03.243Z"
   },
   {
    "duration": 19,
    "start_time": "2024-06-11T07:14:25.715Z"
   },
   {
    "duration": 18,
    "start_time": "2024-06-11T07:16:29.170Z"
   },
   {
    "duration": 18,
    "start_time": "2024-06-11T07:23:07.750Z"
   },
   {
    "duration": 17,
    "start_time": "2024-06-11T07:23:53.205Z"
   },
   {
    "duration": 52,
    "start_time": "2024-06-11T10:57:18.141Z"
   },
   {
    "duration": 399,
    "start_time": "2024-06-11T10:57:26.023Z"
   },
   {
    "duration": 219,
    "start_time": "2024-06-11T10:57:26.424Z"
   },
   {
    "duration": 14,
    "start_time": "2024-06-11T10:57:26.645Z"
   },
   {
    "duration": 8,
    "start_time": "2024-06-11T10:57:26.661Z"
   },
   {
    "duration": 10,
    "start_time": "2024-06-11T10:57:26.671Z"
   },
   {
    "duration": 20,
    "start_time": "2024-06-11T10:57:26.683Z"
   },
   {
    "duration": 32,
    "start_time": "2024-06-11T10:57:26.704Z"
   },
   {
    "duration": 11,
    "start_time": "2024-06-11T10:57:26.738Z"
   },
   {
    "duration": 21,
    "start_time": "2024-06-11T10:57:26.751Z"
   },
   {
    "duration": 6,
    "start_time": "2024-06-11T10:57:26.776Z"
   },
   {
    "duration": 16,
    "start_time": "2024-06-11T10:57:26.784Z"
   },
   {
    "duration": 5,
    "start_time": "2024-06-11T10:57:26.802Z"
   },
   {
    "duration": 25,
    "start_time": "2024-06-11T10:57:26.808Z"
   },
   {
    "duration": 12,
    "start_time": "2024-06-11T10:57:26.834Z"
   },
   {
    "duration": 9,
    "start_time": "2024-06-11T10:57:26.847Z"
   },
   {
    "duration": 5,
    "start_time": "2024-06-11T10:57:26.858Z"
   },
   {
    "duration": 28,
    "start_time": "2024-06-11T10:57:26.865Z"
   },
   {
    "duration": 13,
    "start_time": "2024-06-11T10:57:26.895Z"
   },
   {
    "duration": 7,
    "start_time": "2024-06-11T10:57:26.910Z"
   },
   {
    "duration": 27,
    "start_time": "2024-06-11T10:57:26.918Z"
   },
   {
    "duration": 604,
    "start_time": "2024-06-11T10:57:26.947Z"
   },
   {
    "duration": 7,
    "start_time": "2024-06-11T10:57:27.553Z"
   },
   {
    "duration": 121,
    "start_time": "2024-06-11T10:57:27.562Z"
   },
   {
    "duration": 6,
    "start_time": "2024-06-11T10:57:27.685Z"
   },
   {
    "duration": 171,
    "start_time": "2024-06-11T10:57:27.692Z"
   },
   {
    "duration": 5,
    "start_time": "2024-06-11T10:57:27.865Z"
   },
   {
    "duration": 18,
    "start_time": "2024-06-11T10:57:27.871Z"
   },
   {
    "duration": 156,
    "start_time": "2024-06-11T10:57:27.894Z"
   },
   {
    "duration": 4,
    "start_time": "2024-06-11T10:57:28.052Z"
   },
   {
    "duration": 27,
    "start_time": "2024-06-11T10:57:28.058Z"
   },
   {
    "duration": 9,
    "start_time": "2024-06-11T10:57:28.087Z"
   },
   {
    "duration": 202,
    "start_time": "2024-06-11T10:57:28.097Z"
   },
   {
    "duration": 4,
    "start_time": "2024-06-11T10:57:28.301Z"
   },
   {
    "duration": 12,
    "start_time": "2024-06-11T10:57:28.307Z"
   },
   {
    "duration": 20,
    "start_time": "2024-06-11T10:57:28.321Z"
   },
   {
    "duration": 47,
    "start_time": "2024-06-11T10:57:28.342Z"
   },
   {
    "duration": 18,
    "start_time": "2024-06-11T10:57:28.391Z"
   },
   {
    "duration": 17,
    "start_time": "2024-06-11T10:57:28.410Z"
   },
   {
    "duration": 158,
    "start_time": "2024-06-11T10:57:28.429Z"
   },
   {
    "duration": 214,
    "start_time": "2024-06-11T10:58:50.392Z"
   },
   {
    "duration": 214,
    "start_time": "2024-06-11T10:59:00.808Z"
   },
   {
    "duration": 199,
    "start_time": "2024-06-11T10:59:05.776Z"
   },
   {
    "duration": 215,
    "start_time": "2024-06-11T10:59:50.793Z"
   },
   {
    "duration": 11,
    "start_time": "2024-06-11T11:00:43.123Z"
   },
   {
    "duration": 250,
    "start_time": "2024-06-11T11:00:50.706Z"
   },
   {
    "duration": 415,
    "start_time": "2024-06-11T11:01:02.837Z"
   },
   {
    "duration": 72,
    "start_time": "2024-06-11T11:01:03.254Z"
   },
   {
    "duration": 14,
    "start_time": "2024-06-11T11:01:03.328Z"
   },
   {
    "duration": 8,
    "start_time": "2024-06-11T11:01:03.344Z"
   },
   {
    "duration": 21,
    "start_time": "2024-06-11T11:01:03.354Z"
   },
   {
    "duration": 21,
    "start_time": "2024-06-11T11:01:03.376Z"
   },
   {
    "duration": 15,
    "start_time": "2024-06-11T11:01:03.399Z"
   },
   {
    "duration": 13,
    "start_time": "2024-06-11T11:01:03.416Z"
   },
   {
    "duration": 16,
    "start_time": "2024-06-11T11:01:03.431Z"
   },
   {
    "duration": 7,
    "start_time": "2024-06-11T11:01:03.451Z"
   },
   {
    "duration": 29,
    "start_time": "2024-06-11T11:01:03.459Z"
   },
   {
    "duration": 6,
    "start_time": "2024-06-11T11:01:03.490Z"
   },
   {
    "duration": 13,
    "start_time": "2024-06-11T11:01:03.498Z"
   },
   {
    "duration": 5,
    "start_time": "2024-06-11T11:01:03.512Z"
   },
   {
    "duration": 9,
    "start_time": "2024-06-11T11:01:03.518Z"
   },
   {
    "duration": 7,
    "start_time": "2024-06-11T11:01:03.529Z"
   },
   {
    "duration": 7,
    "start_time": "2024-06-11T11:01:03.538Z"
   },
   {
    "duration": 42,
    "start_time": "2024-06-11T11:01:03.546Z"
   },
   {
    "duration": 5,
    "start_time": "2024-06-11T11:01:03.590Z"
   },
   {
    "duration": 8,
    "start_time": "2024-06-11T11:01:03.597Z"
   },
   {
    "duration": 440,
    "start_time": "2024-06-11T11:01:03.607Z"
   },
   {
    "duration": 6,
    "start_time": "2024-06-11T11:01:04.049Z"
   },
   {
    "duration": 114,
    "start_time": "2024-06-11T11:01:04.057Z"
   },
   {
    "duration": 13,
    "start_time": "2024-06-11T11:01:04.172Z"
   },
   {
    "duration": 154,
    "start_time": "2024-06-11T11:01:04.187Z"
   },
   {
    "duration": 4,
    "start_time": "2024-06-11T11:01:04.343Z"
   },
   {
    "duration": 11,
    "start_time": "2024-06-11T11:01:04.349Z"
   },
   {
    "duration": 145,
    "start_time": "2024-06-11T11:01:04.364Z"
   },
   {
    "duration": 4,
    "start_time": "2024-06-11T11:01:04.511Z"
   },
   {
    "duration": 15,
    "start_time": "2024-06-11T11:01:04.516Z"
   },
   {
    "duration": 8,
    "start_time": "2024-06-11T11:01:04.532Z"
   },
   {
    "duration": 143,
    "start_time": "2024-06-11T11:01:04.541Z"
   },
   {
    "duration": 4,
    "start_time": "2024-06-11T11:01:04.685Z"
   },
   {
    "duration": 16,
    "start_time": "2024-06-11T11:01:04.691Z"
   },
   {
    "duration": 19,
    "start_time": "2024-06-11T11:01:04.708Z"
   },
   {
    "duration": 22,
    "start_time": "2024-06-11T11:01:04.728Z"
   },
   {
    "duration": 39,
    "start_time": "2024-06-11T11:01:04.751Z"
   },
   {
    "duration": 15,
    "start_time": "2024-06-11T11:01:04.792Z"
   },
   {
    "duration": 310,
    "start_time": "2024-06-11T11:01:04.808Z"
   },
   {
    "duration": 204,
    "start_time": "2024-06-11T11:01:56.299Z"
   },
   {
    "duration": 210,
    "start_time": "2024-06-11T11:02:41.020Z"
   },
   {
    "duration": 200,
    "start_time": "2024-06-11T11:03:05.524Z"
   },
   {
    "duration": 222,
    "start_time": "2024-06-11T11:03:11.445Z"
   },
   {
    "duration": 205,
    "start_time": "2024-06-11T11:04:04.374Z"
   },
   {
    "duration": 203,
    "start_time": "2024-06-11T11:04:48.062Z"
   },
   {
    "duration": 203,
    "start_time": "2024-06-11T11:04:54.926Z"
   },
   {
    "duration": 211,
    "start_time": "2024-06-11T11:05:05.358Z"
   },
   {
    "duration": 224,
    "start_time": "2024-06-11T11:05:10.350Z"
   },
   {
    "duration": 14,
    "start_time": "2024-06-11T12:48:27.760Z"
   },
   {
    "duration": 436,
    "start_time": "2024-06-11T12:48:46.279Z"
   },
   {
    "duration": 73,
    "start_time": "2024-06-11T12:48:46.717Z"
   },
   {
    "duration": 17,
    "start_time": "2024-06-11T12:48:46.792Z"
   },
   {
    "duration": 10,
    "start_time": "2024-06-11T12:48:46.811Z"
   },
   {
    "duration": 22,
    "start_time": "2024-06-11T12:48:46.823Z"
   },
   {
    "duration": 19,
    "start_time": "2024-06-11T12:48:46.846Z"
   },
   {
    "duration": 25,
    "start_time": "2024-06-11T12:48:46.868Z"
   },
   {
    "duration": 16,
    "start_time": "2024-06-11T12:48:46.895Z"
   },
   {
    "duration": 30,
    "start_time": "2024-06-11T12:48:46.913Z"
   },
   {
    "duration": 9,
    "start_time": "2024-06-11T12:48:46.948Z"
   },
   {
    "duration": 11,
    "start_time": "2024-06-11T12:48:46.983Z"
   },
   {
    "duration": 7,
    "start_time": "2024-06-11T12:48:46.996Z"
   },
   {
    "duration": 15,
    "start_time": "2024-06-11T12:48:47.006Z"
   },
   {
    "duration": 5,
    "start_time": "2024-06-11T12:48:47.023Z"
   },
   {
    "duration": 7,
    "start_time": "2024-06-11T12:48:47.031Z"
   },
   {
    "duration": 46,
    "start_time": "2024-06-11T12:48:47.039Z"
   },
   {
    "duration": 8,
    "start_time": "2024-06-11T12:48:47.087Z"
   },
   {
    "duration": 14,
    "start_time": "2024-06-11T12:48:47.096Z"
   },
   {
    "duration": 6,
    "start_time": "2024-06-11T12:48:47.111Z"
   },
   {
    "duration": 13,
    "start_time": "2024-06-11T12:48:47.119Z"
   },
   {
    "duration": 544,
    "start_time": "2024-06-11T12:48:47.134Z"
   },
   {
    "duration": 8,
    "start_time": "2024-06-11T12:48:47.681Z"
   },
   {
    "duration": 123,
    "start_time": "2024-06-11T12:48:47.690Z"
   },
   {
    "duration": 6,
    "start_time": "2024-06-11T12:48:47.815Z"
   },
   {
    "duration": 160,
    "start_time": "2024-06-11T12:48:47.822Z"
   },
   {
    "duration": 5,
    "start_time": "2024-06-11T12:48:47.984Z"
   },
   {
    "duration": 15,
    "start_time": "2024-06-11T12:48:47.990Z"
   },
   {
    "duration": 155,
    "start_time": "2024-06-11T12:48:48.009Z"
   },
   {
    "duration": 4,
    "start_time": "2024-06-11T12:48:48.165Z"
   },
   {
    "duration": 35,
    "start_time": "2024-06-11T12:48:48.170Z"
   },
   {
    "duration": 9,
    "start_time": "2024-06-11T12:48:48.206Z"
   },
   {
    "duration": 120,
    "start_time": "2024-06-11T12:48:48.216Z"
   },
   {
    "duration": 4,
    "start_time": "2024-06-11T12:48:48.338Z"
   },
   {
    "duration": 30,
    "start_time": "2024-06-11T12:48:48.343Z"
   },
   {
    "duration": 20,
    "start_time": "2024-06-11T12:48:48.375Z"
   },
   {
    "duration": 18,
    "start_time": "2024-06-11T12:48:48.397Z"
   },
   {
    "duration": 15,
    "start_time": "2024-06-11T12:48:48.417Z"
   },
   {
    "duration": 14,
    "start_time": "2024-06-11T12:48:48.434Z"
   },
   {
    "duration": 315,
    "start_time": "2024-06-11T12:48:48.450Z"
   },
   {
    "duration": 237,
    "start_time": "2024-06-11T12:48:48.767Z"
   },
   {
    "duration": 226,
    "start_time": "2024-06-11T12:48:49.006Z"
   },
   {
    "duration": 238,
    "start_time": "2024-06-11T12:48:49.234Z"
   },
   {
    "duration": 218,
    "start_time": "2024-06-11T13:00:04.597Z"
   },
   {
    "duration": 428,
    "start_time": "2024-06-11T13:02:30.592Z"
   },
   {
    "duration": 72,
    "start_time": "2024-06-11T13:02:31.023Z"
   },
   {
    "duration": 28,
    "start_time": "2024-06-11T13:02:31.097Z"
   },
   {
    "duration": 100,
    "start_time": "2024-06-11T13:02:31.127Z"
   },
   {
    "duration": 161,
    "start_time": "2024-06-11T13:02:31.228Z"
   },
   {
    "duration": 79,
    "start_time": "2024-06-11T13:02:31.391Z"
   },
   {
    "duration": 34,
    "start_time": "2024-06-11T13:02:31.472Z"
   },
   {
    "duration": 36,
    "start_time": "2024-06-11T13:02:31.508Z"
   },
   {
    "duration": 59,
    "start_time": "2024-06-11T13:02:31.545Z"
   },
   {
    "duration": 44,
    "start_time": "2024-06-11T13:02:31.608Z"
   },
   {
    "duration": 62,
    "start_time": "2024-06-11T13:02:31.653Z"
   },
   {
    "duration": 91,
    "start_time": "2024-06-11T13:02:31.717Z"
   },
   {
    "duration": 39,
    "start_time": "2024-06-11T13:02:31.810Z"
   },
   {
    "duration": 48,
    "start_time": "2024-06-11T13:02:31.851Z"
   },
   {
    "duration": 60,
    "start_time": "2024-06-11T13:02:31.900Z"
   },
   {
    "duration": 36,
    "start_time": "2024-06-11T13:02:31.961Z"
   },
   {
    "duration": 33,
    "start_time": "2024-06-11T13:02:31.999Z"
   },
   {
    "duration": 17,
    "start_time": "2024-06-11T13:02:32.034Z"
   },
   {
    "duration": 29,
    "start_time": "2024-06-11T13:02:32.052Z"
   },
   {
    "duration": 38,
    "start_time": "2024-06-11T13:02:32.082Z"
   },
   {
    "duration": 414,
    "start_time": "2024-06-11T13:02:32.121Z"
   },
   {
    "duration": 7,
    "start_time": "2024-06-11T13:02:32.537Z"
   },
   {
    "duration": 123,
    "start_time": "2024-06-11T13:02:32.545Z"
   },
   {
    "duration": 16,
    "start_time": "2024-06-11T13:02:32.670Z"
   },
   {
    "duration": 162,
    "start_time": "2024-06-11T13:02:32.688Z"
   },
   {
    "duration": 5,
    "start_time": "2024-06-11T13:02:32.852Z"
   },
   {
    "duration": 25,
    "start_time": "2024-06-11T13:02:32.858Z"
   },
   {
    "duration": 135,
    "start_time": "2024-06-11T13:02:32.887Z"
   },
   {
    "duration": 4,
    "start_time": "2024-06-11T13:02:33.024Z"
   },
   {
    "duration": 13,
    "start_time": "2024-06-11T13:02:33.029Z"
   },
   {
    "duration": 9,
    "start_time": "2024-06-11T13:02:33.044Z"
   },
   {
    "duration": 149,
    "start_time": "2024-06-11T13:02:33.055Z"
   },
   {
    "duration": 4,
    "start_time": "2024-06-11T13:02:33.206Z"
   },
   {
    "duration": 12,
    "start_time": "2024-06-11T13:02:33.211Z"
   },
   {
    "duration": 18,
    "start_time": "2024-06-11T13:02:33.224Z"
   },
   {
    "duration": 45,
    "start_time": "2024-06-11T13:02:33.244Z"
   },
   {
    "duration": 16,
    "start_time": "2024-06-11T13:02:33.290Z"
   },
   {
    "duration": 20,
    "start_time": "2024-06-11T13:02:33.308Z"
   },
   {
    "duration": 272,
    "start_time": "2024-06-11T13:02:33.330Z"
   },
   {
    "duration": 218,
    "start_time": "2024-06-11T13:02:33.604Z"
   },
   {
    "duration": 230,
    "start_time": "2024-06-11T13:02:33.824Z"
   },
   {
    "duration": 229,
    "start_time": "2024-06-11T13:02:34.056Z"
   },
   {
    "duration": 329,
    "start_time": "2024-06-12T11:21:05.525Z"
   },
   {
    "duration": 282,
    "start_time": "2024-06-12T11:21:05.855Z"
   },
   {
    "duration": 13,
    "start_time": "2024-06-12T11:21:06.138Z"
   },
   {
    "duration": 6,
    "start_time": "2024-06-12T11:21:06.153Z"
   },
   {
    "duration": 9,
    "start_time": "2024-06-12T11:21:06.161Z"
   },
   {
    "duration": 15,
    "start_time": "2024-06-12T11:21:06.171Z"
   },
   {
    "duration": 9,
    "start_time": "2024-06-12T11:21:06.187Z"
   },
   {
    "duration": 8,
    "start_time": "2024-06-12T11:21:06.197Z"
   },
   {
    "duration": 11,
    "start_time": "2024-06-12T11:21:06.207Z"
   },
   {
    "duration": 4,
    "start_time": "2024-06-12T11:21:06.222Z"
   },
   {
    "duration": 8,
    "start_time": "2024-06-12T11:21:06.227Z"
   },
   {
    "duration": 3,
    "start_time": "2024-06-12T11:21:06.236Z"
   },
   {
    "duration": 6,
    "start_time": "2024-06-12T11:21:06.240Z"
   },
   {
    "duration": 3,
    "start_time": "2024-06-12T11:21:06.247Z"
   },
   {
    "duration": 4,
    "start_time": "2024-06-12T11:21:06.251Z"
   },
   {
    "duration": 3,
    "start_time": "2024-06-12T11:21:06.289Z"
   },
   {
    "duration": 13,
    "start_time": "2024-06-12T11:21:06.293Z"
   },
   {
    "duration": 5,
    "start_time": "2024-06-12T11:21:06.308Z"
   },
   {
    "duration": 8,
    "start_time": "2024-06-12T11:21:06.314Z"
   },
   {
    "duration": 11,
    "start_time": "2024-06-12T11:21:06.323Z"
   },
   {
    "duration": 450,
    "start_time": "2024-06-12T11:21:06.335Z"
   },
   {
    "duration": 6,
    "start_time": "2024-06-12T11:21:06.787Z"
   },
   {
    "duration": 85,
    "start_time": "2024-06-12T11:21:06.794Z"
   },
   {
    "duration": 4,
    "start_time": "2024-06-12T11:21:06.881Z"
   },
   {
    "duration": 99,
    "start_time": "2024-06-12T11:21:06.888Z"
   },
   {
    "duration": 4,
    "start_time": "2024-06-12T11:21:06.989Z"
   },
   {
    "duration": 34,
    "start_time": "2024-06-12T11:21:06.994Z"
   },
   {
    "duration": 94,
    "start_time": "2024-06-12T11:21:07.030Z"
   },
   {
    "duration": 3,
    "start_time": "2024-06-12T11:21:07.125Z"
   },
   {
    "duration": 33,
    "start_time": "2024-06-12T11:21:07.129Z"
   },
   {
    "duration": 8,
    "start_time": "2024-06-12T11:21:07.163Z"
   },
   {
    "duration": 148,
    "start_time": "2024-06-12T11:21:07.172Z"
   },
   {
    "duration": 4,
    "start_time": "2024-06-12T11:21:07.321Z"
   },
   {
    "duration": 10,
    "start_time": "2024-06-12T11:21:07.326Z"
   },
   {
    "duration": 13,
    "start_time": "2024-06-12T11:21:07.337Z"
   },
   {
    "duration": 14,
    "start_time": "2024-06-12T11:21:07.351Z"
   },
   {
    "duration": 32,
    "start_time": "2024-06-12T11:21:07.366Z"
   },
   {
    "duration": 10,
    "start_time": "2024-06-12T11:21:07.399Z"
   },
   {
    "duration": 166,
    "start_time": "2024-06-12T11:21:07.410Z"
   },
   {
    "duration": 197,
    "start_time": "2024-06-12T11:21:07.578Z"
   },
   {
    "duration": 157,
    "start_time": "2024-06-12T11:21:07.777Z"
   },
   {
    "duration": 161,
    "start_time": "2024-06-12T11:21:07.935Z"
   },
   {
    "duration": 71,
    "start_time": "2024-06-12T11:21:08.098Z"
   },
   {
    "duration": 6,
    "start_time": "2024-06-12T11:21:49.488Z"
   },
   {
    "duration": 11,
    "start_time": "2024-06-12T11:21:53.378Z"
   },
   {
    "duration": 124,
    "start_time": "2024-06-12T11:22:26.367Z"
   },
   {
    "duration": 128,
    "start_time": "2024-06-12T11:22:36.417Z"
   },
   {
    "duration": 131,
    "start_time": "2024-06-12T11:22:40.121Z"
   },
   {
    "duration": 115,
    "start_time": "2024-06-12T11:22:45.632Z"
   },
   {
    "duration": 7,
    "start_time": "2024-06-12T11:30:02.909Z"
   },
   {
    "duration": 167,
    "start_time": "2024-06-12T11:30:16.693Z"
   },
   {
    "duration": 12,
    "start_time": "2024-06-12T11:30:31.454Z"
   },
   {
    "duration": 18,
    "start_time": "2024-06-12T11:30:34.174Z"
   },
   {
    "duration": 6,
    "start_time": "2024-06-12T11:30:40.935Z"
   },
   {
    "duration": 21,
    "start_time": "2024-06-12T11:30:53.311Z"
   },
   {
    "duration": 28,
    "start_time": "2024-06-12T11:30:59.909Z"
   },
   {
    "duration": 2,
    "start_time": "2024-06-12T11:34:15.542Z"
   },
   {
    "duration": 5,
    "start_time": "2024-06-12T11:36:20.086Z"
   },
   {
    "duration": 13,
    "start_time": "2024-06-12T11:36:29.981Z"
   },
   {
    "duration": 24,
    "start_time": "2024-06-12T11:45:10.371Z"
   },
   {
    "duration": 18,
    "start_time": "2024-06-12T11:45:47.308Z"
   },
   {
    "duration": 17,
    "start_time": "2024-06-12T11:46:34.928Z"
   },
   {
    "duration": 49,
    "start_time": "2024-06-12T11:46:54.576Z"
   },
   {
    "duration": 18,
    "start_time": "2024-06-12T11:47:09.192Z"
   },
   {
    "duration": 17,
    "start_time": "2024-06-12T11:47:26.505Z"
   },
   {
    "duration": 669,
    "start_time": "2024-06-12T11:49:36.728Z"
   },
   {
    "duration": 19,
    "start_time": "2024-06-12T11:49:54.278Z"
   },
   {
    "duration": 18,
    "start_time": "2024-06-12T11:52:37.520Z"
   },
   {
    "duration": 21,
    "start_time": "2024-06-12T11:52:45.168Z"
   },
   {
    "duration": 18,
    "start_time": "2024-06-12T11:52:59.640Z"
   },
   {
    "duration": 17,
    "start_time": "2024-06-12T11:53:08.911Z"
   },
   {
    "duration": 8,
    "start_time": "2024-06-12T11:54:22.357Z"
   },
   {
    "duration": 24,
    "start_time": "2024-06-12T12:00:09.468Z"
   },
   {
    "duration": 3,
    "start_time": "2024-06-12T12:03:20.570Z"
   },
   {
    "duration": 571,
    "start_time": "2024-06-12T12:04:48.205Z"
   },
   {
    "duration": 23,
    "start_time": "2024-06-12T12:05:08.657Z"
   },
   {
    "duration": 9,
    "start_time": "2024-06-12T12:05:10.041Z"
   },
   {
    "duration": 2,
    "start_time": "2024-06-12T12:05:13.081Z"
   },
   {
    "duration": 545,
    "start_time": "2024-06-12T12:05:13.575Z"
   },
   {
    "duration": 325,
    "start_time": "2024-06-12T12:05:37.920Z"
   },
   {
    "duration": 58,
    "start_time": "2024-06-12T12:05:38.247Z"
   },
   {
    "duration": 11,
    "start_time": "2024-06-12T12:05:38.307Z"
   },
   {
    "duration": 6,
    "start_time": "2024-06-12T12:05:38.319Z"
   },
   {
    "duration": 11,
    "start_time": "2024-06-12T12:05:38.326Z"
   },
   {
    "duration": 14,
    "start_time": "2024-06-12T12:05:38.338Z"
   },
   {
    "duration": 7,
    "start_time": "2024-06-12T12:05:38.353Z"
   },
   {
    "duration": 7,
    "start_time": "2024-06-12T12:05:38.361Z"
   },
   {
    "duration": 22,
    "start_time": "2024-06-12T12:05:38.369Z"
   },
   {
    "duration": 4,
    "start_time": "2024-06-12T12:05:38.394Z"
   },
   {
    "duration": 6,
    "start_time": "2024-06-12T12:05:38.399Z"
   },
   {
    "duration": 3,
    "start_time": "2024-06-12T12:05:38.407Z"
   },
   {
    "duration": 11,
    "start_time": "2024-06-12T12:05:38.411Z"
   },
   {
    "duration": 3,
    "start_time": "2024-06-12T12:05:38.423Z"
   },
   {
    "duration": 5,
    "start_time": "2024-06-12T12:05:38.427Z"
   },
   {
    "duration": 4,
    "start_time": "2024-06-12T12:05:38.434Z"
   },
   {
    "duration": 4,
    "start_time": "2024-06-12T12:05:38.439Z"
   },
   {
    "duration": 46,
    "start_time": "2024-06-12T12:05:38.444Z"
   },
   {
    "duration": 5,
    "start_time": "2024-06-12T12:05:38.491Z"
   },
   {
    "duration": 13,
    "start_time": "2024-06-12T12:05:38.497Z"
   },
   {
    "duration": 309,
    "start_time": "2024-06-12T12:05:38.512Z"
   },
   {
    "duration": 5,
    "start_time": "2024-06-12T12:05:38.822Z"
   },
   {
    "duration": 98,
    "start_time": "2024-06-12T12:05:38.828Z"
   },
   {
    "duration": 4,
    "start_time": "2024-06-12T12:05:38.928Z"
   },
   {
    "duration": 123,
    "start_time": "2024-06-12T12:05:38.934Z"
   },
   {
    "duration": 4,
    "start_time": "2024-06-12T12:05:39.058Z"
   },
   {
    "duration": 8,
    "start_time": "2024-06-12T12:05:39.063Z"
   },
   {
    "duration": 101,
    "start_time": "2024-06-12T12:05:39.074Z"
   },
   {
    "duration": 3,
    "start_time": "2024-06-12T12:05:39.176Z"
   },
   {
    "duration": 16,
    "start_time": "2024-06-12T12:05:39.180Z"
   },
   {
    "duration": 6,
    "start_time": "2024-06-12T12:05:39.197Z"
   },
   {
    "duration": 105,
    "start_time": "2024-06-12T12:05:39.204Z"
   },
   {
    "duration": 4,
    "start_time": "2024-06-12T12:05:39.310Z"
   },
   {
    "duration": 10,
    "start_time": "2024-06-12T12:05:39.315Z"
   },
   {
    "duration": 15,
    "start_time": "2024-06-12T12:05:39.326Z"
   },
   {
    "duration": 48,
    "start_time": "2024-06-12T12:05:39.342Z"
   },
   {
    "duration": 13,
    "start_time": "2024-06-12T12:05:39.391Z"
   },
   {
    "duration": 11,
    "start_time": "2024-06-12T12:05:39.406Z"
   },
   {
    "duration": 180,
    "start_time": "2024-06-12T12:05:39.419Z"
   },
   {
    "duration": 158,
    "start_time": "2024-06-12T12:05:39.601Z"
   },
   {
    "duration": 147,
    "start_time": "2024-06-12T12:05:39.760Z"
   },
   {
    "duration": 155,
    "start_time": "2024-06-12T12:05:39.908Z"
   },
   {
    "duration": 9,
    "start_time": "2024-06-12T12:05:40.065Z"
   },
   {
    "duration": 51,
    "start_time": "2024-06-12T12:05:40.075Z"
   },
   {
    "duration": 14,
    "start_time": "2024-06-12T12:05:40.127Z"
   },
   {
    "duration": 10,
    "start_time": "2024-06-12T12:05:40.142Z"
   },
   {
    "duration": 662,
    "start_time": "2024-06-12T12:05:40.153Z"
   },
   {
    "duration": 117,
    "start_time": "2024-06-12T12:07:10.732Z"
   },
   {
    "duration": 899,
    "start_time": "2024-06-13T06:47:08.003Z"
   },
   {
    "duration": 90,
    "start_time": "2024-06-13T06:49:11.999Z"
   },
   {
    "duration": 868,
    "start_time": "2024-06-13T06:49:23.835Z"
   },
   {
    "duration": 216,
    "start_time": "2024-06-13T06:49:24.704Z"
   },
   {
    "duration": 15,
    "start_time": "2024-06-13T06:49:24.921Z"
   },
   {
    "duration": 11,
    "start_time": "2024-06-13T06:49:24.938Z"
   },
   {
    "duration": 13,
    "start_time": "2024-06-13T06:49:24.950Z"
   },
   {
    "duration": 79,
    "start_time": "2024-06-13T06:49:24.965Z"
   },
   {
    "duration": 14,
    "start_time": "2024-06-13T06:49:25.046Z"
   },
   {
    "duration": 10,
    "start_time": "2024-06-13T06:49:25.061Z"
   },
   {
    "duration": 14,
    "start_time": "2024-06-13T06:49:25.073Z"
   },
   {
    "duration": 5,
    "start_time": "2024-06-13T06:49:25.089Z"
   },
   {
    "duration": 7,
    "start_time": "2024-06-13T06:49:25.096Z"
   },
   {
    "duration": 5,
    "start_time": "2024-06-13T06:49:25.104Z"
   },
   {
    "duration": 36,
    "start_time": "2024-06-13T06:49:25.110Z"
   },
   {
    "duration": 4,
    "start_time": "2024-06-13T06:49:25.148Z"
   },
   {
    "duration": 5,
    "start_time": "2024-06-13T06:49:25.154Z"
   },
   {
    "duration": 5,
    "start_time": "2024-06-13T06:49:25.161Z"
   },
   {
    "duration": 10,
    "start_time": "2024-06-13T06:49:25.167Z"
   },
   {
    "duration": 10,
    "start_time": "2024-06-13T06:49:25.179Z"
   },
   {
    "duration": 8,
    "start_time": "2024-06-13T06:49:25.191Z"
   },
   {
    "duration": 10,
    "start_time": "2024-06-13T06:49:25.201Z"
   },
   {
    "duration": 632,
    "start_time": "2024-06-13T06:49:25.213Z"
   },
   {
    "duration": 9,
    "start_time": "2024-06-13T06:49:25.847Z"
   },
   {
    "duration": 118,
    "start_time": "2024-06-13T06:49:25.857Z"
   },
   {
    "duration": 7,
    "start_time": "2024-06-13T06:49:25.976Z"
   },
   {
    "duration": 162,
    "start_time": "2024-06-13T06:49:25.984Z"
   },
   {
    "duration": 6,
    "start_time": "2024-06-13T06:49:26.147Z"
   },
   {
    "duration": 17,
    "start_time": "2024-06-13T06:49:26.154Z"
   },
   {
    "duration": 134,
    "start_time": "2024-06-13T06:49:26.175Z"
   },
   {
    "duration": 4,
    "start_time": "2024-06-13T06:49:26.310Z"
   },
   {
    "duration": 15,
    "start_time": "2024-06-13T06:49:26.316Z"
   },
   {
    "duration": 20,
    "start_time": "2024-06-13T06:49:26.333Z"
   },
   {
    "duration": 127,
    "start_time": "2024-06-13T06:49:26.355Z"
   },
   {
    "duration": 4,
    "start_time": "2024-06-13T06:49:26.484Z"
   },
   {
    "duration": 13,
    "start_time": "2024-06-13T06:49:26.490Z"
   },
   {
    "duration": 18,
    "start_time": "2024-06-13T06:49:26.505Z"
   },
   {
    "duration": 45,
    "start_time": "2024-06-13T06:49:26.525Z"
   },
   {
    "duration": 19,
    "start_time": "2024-06-13T06:49:26.572Z"
   },
   {
    "duration": 15,
    "start_time": "2024-06-13T06:49:26.592Z"
   },
   {
    "duration": 236,
    "start_time": "2024-06-13T06:49:26.609Z"
   },
   {
    "duration": 233,
    "start_time": "2024-06-13T06:49:26.847Z"
   },
   {
    "duration": 209,
    "start_time": "2024-06-13T06:49:27.081Z"
   },
   {
    "duration": 337,
    "start_time": "2024-06-13T06:49:27.292Z"
   },
   {
    "duration": 19,
    "start_time": "2024-06-13T06:49:27.631Z"
   },
   {
    "duration": 30,
    "start_time": "2024-06-13T06:49:27.652Z"
   },
   {
    "duration": 11,
    "start_time": "2024-06-13T06:49:27.684Z"
   },
   {
    "duration": 4,
    "start_time": "2024-06-13T06:49:27.696Z"
   },
   {
    "duration": 171,
    "start_time": "2024-06-13T06:49:27.702Z"
   },
   {
    "duration": 6,
    "start_time": "2024-06-13T06:49:27.875Z"
   },
   {
    "duration": 68,
    "start_time": "2024-06-13T06:57:25.421Z"
   },
   {
    "duration": 6,
    "start_time": "2024-06-13T06:57:32.867Z"
   },
   {
    "duration": 6,
    "start_time": "2024-06-13T06:59:11.940Z"
   },
   {
    "duration": 6,
    "start_time": "2024-06-13T07:01:50.347Z"
   },
   {
    "duration": 6,
    "start_time": "2024-06-13T07:02:23.625Z"
   },
   {
    "duration": 105,
    "start_time": "2024-06-13T07:02:30.737Z"
   },
   {
    "duration": 6,
    "start_time": "2024-06-13T07:02:39.361Z"
   },
   {
    "duration": 27,
    "start_time": "2024-06-13T11:08:11.519Z"
   },
   {
    "duration": 934,
    "start_time": "2024-06-13T11:08:37.885Z"
   },
   {
    "duration": 72,
    "start_time": "2024-06-13T11:08:38.821Z"
   },
   {
    "duration": 18,
    "start_time": "2024-06-13T11:08:38.894Z"
   },
   {
    "duration": 15,
    "start_time": "2024-06-13T11:08:38.914Z"
   },
   {
    "duration": 10,
    "start_time": "2024-06-13T11:08:38.931Z"
   },
   {
    "duration": 20,
    "start_time": "2024-06-13T11:08:38.943Z"
   },
   {
    "duration": 49,
    "start_time": "2024-06-13T11:08:38.965Z"
   },
   {
    "duration": 10,
    "start_time": "2024-06-13T11:08:39.016Z"
   },
   {
    "duration": 16,
    "start_time": "2024-06-13T11:08:39.027Z"
   },
   {
    "duration": 6,
    "start_time": "2024-06-13T11:08:39.045Z"
   },
   {
    "duration": 7,
    "start_time": "2024-06-13T11:08:39.052Z"
   },
   {
    "duration": 6,
    "start_time": "2024-06-13T11:08:39.060Z"
   },
   {
    "duration": 19,
    "start_time": "2024-06-13T11:08:39.068Z"
   },
   {
    "duration": 4,
    "start_time": "2024-06-13T11:08:39.088Z"
   },
   {
    "duration": 9,
    "start_time": "2024-06-13T11:08:39.094Z"
   },
   {
    "duration": 6,
    "start_time": "2024-06-13T11:08:39.104Z"
   },
   {
    "duration": 7,
    "start_time": "2024-06-13T11:08:39.111Z"
   },
   {
    "duration": 7,
    "start_time": "2024-06-13T11:08:39.146Z"
   },
   {
    "duration": 5,
    "start_time": "2024-06-13T11:08:39.155Z"
   },
   {
    "duration": 9,
    "start_time": "2024-06-13T11:08:39.161Z"
   },
   {
    "duration": 440,
    "start_time": "2024-06-13T11:08:39.172Z"
   },
   {
    "duration": 7,
    "start_time": "2024-06-13T11:08:39.614Z"
   },
   {
    "duration": 118,
    "start_time": "2024-06-13T11:08:39.623Z"
   },
   {
    "duration": 6,
    "start_time": "2024-06-13T11:08:39.746Z"
   },
   {
    "duration": 248,
    "start_time": "2024-06-13T11:08:39.754Z"
   },
   {
    "duration": 5,
    "start_time": "2024-06-13T11:08:40.004Z"
   },
   {
    "duration": 23,
    "start_time": "2024-06-13T11:08:40.010Z"
   },
   {
    "duration": 138,
    "start_time": "2024-06-13T11:08:40.036Z"
   },
   {
    "duration": 5,
    "start_time": "2024-06-13T11:08:40.176Z"
   },
   {
    "duration": 13,
    "start_time": "2024-06-13T11:08:40.183Z"
   },
   {
    "duration": 11,
    "start_time": "2024-06-13T11:08:40.198Z"
   },
   {
    "duration": 159,
    "start_time": "2024-06-13T11:08:40.212Z"
   },
   {
    "duration": 5,
    "start_time": "2024-06-13T11:08:40.373Z"
   },
   {
    "duration": 13,
    "start_time": "2024-06-13T11:08:40.379Z"
   },
   {
    "duration": 20,
    "start_time": "2024-06-13T11:08:40.394Z"
   },
   {
    "duration": 38,
    "start_time": "2024-06-13T11:08:40.415Z"
   },
   {
    "duration": 16,
    "start_time": "2024-06-13T11:08:40.455Z"
   },
   {
    "duration": 15,
    "start_time": "2024-06-13T11:08:40.473Z"
   },
   {
    "duration": 243,
    "start_time": "2024-06-13T11:08:40.490Z"
   },
   {
    "duration": 237,
    "start_time": "2024-06-13T11:08:40.735Z"
   },
   {
    "duration": 220,
    "start_time": "2024-06-13T11:08:40.973Z"
   },
   {
    "duration": 235,
    "start_time": "2024-06-13T11:08:41.195Z"
   },
   {
    "duration": 30,
    "start_time": "2024-06-13T11:08:41.432Z"
   },
   {
    "duration": 119,
    "start_time": "2024-06-13T11:08:41.464Z"
   },
   {
    "duration": 0,
    "start_time": "2024-06-13T11:08:41.585Z"
   },
   {
    "duration": 0,
    "start_time": "2024-06-13T11:08:41.586Z"
   },
   {
    "duration": 0,
    "start_time": "2024-06-13T11:08:41.587Z"
   },
   {
    "duration": 0,
    "start_time": "2024-06-13T11:08:41.589Z"
   },
   {
    "duration": 0,
    "start_time": "2024-06-13T11:08:41.590Z"
   },
   {
    "duration": 857,
    "start_time": "2024-06-13T11:09:16.503Z"
   },
   {
    "duration": 948,
    "start_time": "2024-06-13T11:09:21.782Z"
   },
   {
    "duration": 13,
    "start_time": "2024-06-13T11:09:23.636Z"
   },
   {
    "duration": 3,
    "start_time": "2024-06-13T11:09:24.349Z"
   },
   {
    "duration": 136,
    "start_time": "2024-06-13T11:09:24.797Z"
   },
   {
    "duration": 6,
    "start_time": "2024-06-13T11:09:26.492Z"
   },
   {
    "duration": 6,
    "start_time": "2024-06-13T11:09:27.323Z"
   },
   {
    "duration": 914,
    "start_time": "2024-06-13T11:09:36.403Z"
   },
   {
    "duration": 72,
    "start_time": "2024-06-13T11:09:37.319Z"
   },
   {
    "duration": 15,
    "start_time": "2024-06-13T11:09:37.392Z"
   },
   {
    "duration": 18,
    "start_time": "2024-06-13T11:09:37.409Z"
   },
   {
    "duration": 42,
    "start_time": "2024-06-13T11:09:37.428Z"
   },
   {
    "duration": 28,
    "start_time": "2024-06-13T11:09:37.471Z"
   },
   {
    "duration": 42,
    "start_time": "2024-06-13T11:09:37.501Z"
   },
   {
    "duration": 20,
    "start_time": "2024-06-13T11:09:37.545Z"
   },
   {
    "duration": 63,
    "start_time": "2024-06-13T11:09:37.566Z"
   },
   {
    "duration": 28,
    "start_time": "2024-06-13T11:09:37.631Z"
   },
   {
    "duration": 13,
    "start_time": "2024-06-13T11:09:37.661Z"
   },
   {
    "duration": 25,
    "start_time": "2024-06-13T11:09:37.676Z"
   },
   {
    "duration": 15,
    "start_time": "2024-06-13T11:09:37.702Z"
   },
   {
    "duration": 10,
    "start_time": "2024-06-13T11:09:37.718Z"
   },
   {
    "duration": 45,
    "start_time": "2024-06-13T11:09:37.729Z"
   },
   {
    "duration": 50,
    "start_time": "2024-06-13T11:09:37.776Z"
   },
   {
    "duration": 26,
    "start_time": "2024-06-13T11:09:37.827Z"
   },
   {
    "duration": 14,
    "start_time": "2024-06-13T11:09:37.855Z"
   },
   {
    "duration": 26,
    "start_time": "2024-06-13T11:09:37.870Z"
   },
   {
    "duration": 26,
    "start_time": "2024-06-13T11:09:37.898Z"
   },
   {
    "duration": 459,
    "start_time": "2024-06-13T11:09:37.926Z"
   },
   {
    "duration": 6,
    "start_time": "2024-06-13T11:09:38.387Z"
   },
   {
    "duration": 123,
    "start_time": "2024-06-13T11:09:38.395Z"
   },
   {
    "duration": 6,
    "start_time": "2024-06-13T11:09:38.520Z"
   },
   {
    "duration": 192,
    "start_time": "2024-06-13T11:09:38.528Z"
   },
   {
    "duration": 5,
    "start_time": "2024-06-13T11:09:38.721Z"
   },
   {
    "duration": 26,
    "start_time": "2024-06-13T11:09:38.727Z"
   },
   {
    "duration": 155,
    "start_time": "2024-06-13T11:09:38.756Z"
   },
   {
    "duration": 4,
    "start_time": "2024-06-13T11:09:38.913Z"
   },
   {
    "duration": 66,
    "start_time": "2024-06-13T11:09:38.918Z"
   },
   {
    "duration": 22,
    "start_time": "2024-06-13T11:09:38.985Z"
   },
   {
    "duration": 127,
    "start_time": "2024-06-13T11:09:39.009Z"
   },
   {
    "duration": 4,
    "start_time": "2024-06-13T11:09:39.138Z"
   },
   {
    "duration": 39,
    "start_time": "2024-06-13T11:09:39.145Z"
   },
   {
    "duration": 31,
    "start_time": "2024-06-13T11:09:39.186Z"
   },
   {
    "duration": 17,
    "start_time": "2024-06-13T11:09:39.219Z"
   },
   {
    "duration": 43,
    "start_time": "2024-06-13T11:09:39.238Z"
   },
   {
    "duration": 15,
    "start_time": "2024-06-13T11:09:39.283Z"
   },
   {
    "duration": 208,
    "start_time": "2024-06-13T11:09:39.300Z"
   },
   {
    "duration": 223,
    "start_time": "2024-06-13T11:09:39.510Z"
   },
   {
    "duration": 211,
    "start_time": "2024-06-13T11:09:39.735Z"
   },
   {
    "duration": 226,
    "start_time": "2024-06-13T11:09:39.947Z"
   },
   {
    "duration": 14,
    "start_time": "2024-06-13T11:09:40.175Z"
   },
   {
    "duration": 942,
    "start_time": "2024-06-13T11:09:40.190Z"
   },
   {
    "duration": 19,
    "start_time": "2024-06-13T11:09:41.133Z"
   },
   {
    "duration": 12,
    "start_time": "2024-06-13T11:09:41.153Z"
   },
   {
    "duration": 149,
    "start_time": "2024-06-13T11:09:41.166Z"
   },
   {
    "duration": 6,
    "start_time": "2024-06-13T11:09:41.317Z"
   },
   {
    "duration": 22,
    "start_time": "2024-06-13T11:09:41.325Z"
   },
   {
    "duration": 662,
    "start_time": "2024-06-13T11:14:55.565Z"
   },
   {
    "duration": 1256,
    "start_time": "2024-06-13T11:15:11.548Z"
   },
   {
    "duration": 14,
    "start_time": "2024-06-13T11:15:23.565Z"
   },
   {
    "duration": 16,
    "start_time": "2024-06-13T11:15:35.708Z"
   },
   {
    "duration": 19,
    "start_time": "2024-06-13T11:15:49.014Z"
   },
   {
    "duration": 8,
    "start_time": "2024-06-13T11:15:58.908Z"
   },
   {
    "duration": 8,
    "start_time": "2024-06-13T11:16:26.124Z"
   },
   {
    "duration": 15,
    "start_time": "2024-06-13T11:18:05.596Z"
   },
   {
    "duration": 559,
    "start_time": "2024-06-13T11:18:52.323Z"
   },
   {
    "duration": 15,
    "start_time": "2024-06-13T11:20:14.402Z"
   },
   {
    "duration": 15,
    "start_time": "2024-06-13T11:20:42.188Z"
   },
   {
    "duration": 8,
    "start_time": "2024-06-13T11:21:25.003Z"
   },
   {
    "duration": 10,
    "start_time": "2024-06-13T11:21:52.307Z"
   },
   {
    "duration": 12,
    "start_time": "2024-06-13T11:23:04.028Z"
   },
   {
    "duration": 8,
    "start_time": "2024-06-13T11:23:09.410Z"
   },
   {
    "duration": 16,
    "start_time": "2024-06-13T11:23:23.313Z"
   },
   {
    "duration": 13,
    "start_time": "2024-06-13T11:23:37.552Z"
   },
   {
    "duration": 14,
    "start_time": "2024-06-13T11:26:44.616Z"
   },
   {
    "duration": 9,
    "start_time": "2024-06-13T11:26:53.384Z"
   },
   {
    "duration": 904,
    "start_time": "2024-06-13T11:27:08.460Z"
   },
   {
    "duration": 73,
    "start_time": "2024-06-13T11:27:09.366Z"
   },
   {
    "duration": 16,
    "start_time": "2024-06-13T11:27:09.441Z"
   },
   {
    "duration": 15,
    "start_time": "2024-06-13T11:27:09.459Z"
   },
   {
    "duration": 35,
    "start_time": "2024-06-13T11:27:09.476Z"
   },
   {
    "duration": 23,
    "start_time": "2024-06-13T11:27:09.513Z"
   },
   {
    "duration": 20,
    "start_time": "2024-06-13T11:27:09.538Z"
   },
   {
    "duration": 17,
    "start_time": "2024-06-13T11:27:09.559Z"
   },
   {
    "duration": 31,
    "start_time": "2024-06-13T11:27:09.578Z"
   },
   {
    "duration": 6,
    "start_time": "2024-06-13T11:27:09.612Z"
   },
   {
    "duration": 19,
    "start_time": "2024-06-13T11:27:09.619Z"
   },
   {
    "duration": 10,
    "start_time": "2024-06-13T11:27:09.639Z"
   },
   {
    "duration": 17,
    "start_time": "2024-06-13T11:27:09.651Z"
   },
   {
    "duration": 16,
    "start_time": "2024-06-13T11:27:09.670Z"
   },
   {
    "duration": 14,
    "start_time": "2024-06-13T11:27:09.687Z"
   },
   {
    "duration": 12,
    "start_time": "2024-06-13T11:27:09.702Z"
   },
   {
    "duration": 33,
    "start_time": "2024-06-13T11:27:09.716Z"
   },
   {
    "duration": 8,
    "start_time": "2024-06-13T11:27:09.750Z"
   },
   {
    "duration": 7,
    "start_time": "2024-06-13T11:27:09.760Z"
   },
   {
    "duration": 9,
    "start_time": "2024-06-13T11:27:09.769Z"
   },
   {
    "duration": 425,
    "start_time": "2024-06-13T11:27:09.780Z"
   },
   {
    "duration": 6,
    "start_time": "2024-06-13T11:27:10.207Z"
   },
   {
    "duration": 114,
    "start_time": "2024-06-13T11:27:10.215Z"
   },
   {
    "duration": 7,
    "start_time": "2024-06-13T11:27:10.331Z"
   },
   {
    "duration": 152,
    "start_time": "2024-06-13T11:27:10.346Z"
   },
   {
    "duration": 5,
    "start_time": "2024-06-13T11:27:10.500Z"
   },
   {
    "duration": 24,
    "start_time": "2024-06-13T11:27:10.507Z"
   },
   {
    "duration": 148,
    "start_time": "2024-06-13T11:27:10.536Z"
   },
   {
    "duration": 4,
    "start_time": "2024-06-13T11:27:10.686Z"
   },
   {
    "duration": 43,
    "start_time": "2024-06-13T11:27:10.692Z"
   },
   {
    "duration": 22,
    "start_time": "2024-06-13T11:27:10.737Z"
   },
   {
    "duration": 163,
    "start_time": "2024-06-13T11:27:10.761Z"
   },
   {
    "duration": 4,
    "start_time": "2024-06-13T11:27:10.925Z"
   },
   {
    "duration": 25,
    "start_time": "2024-06-13T11:27:10.931Z"
   },
   {
    "duration": 21,
    "start_time": "2024-06-13T11:27:10.959Z"
   },
   {
    "duration": 19,
    "start_time": "2024-06-13T11:27:10.982Z"
   },
   {
    "duration": 17,
    "start_time": "2024-06-13T11:27:11.003Z"
   },
   {
    "duration": 38,
    "start_time": "2024-06-13T11:27:11.021Z"
   },
   {
    "duration": 230,
    "start_time": "2024-06-13T11:27:11.060Z"
   },
   {
    "duration": 233,
    "start_time": "2024-06-13T11:27:11.292Z"
   },
   {
    "duration": 205,
    "start_time": "2024-06-13T11:27:11.527Z"
   },
   {
    "duration": 237,
    "start_time": "2024-06-13T11:27:11.734Z"
   },
   {
    "duration": 14,
    "start_time": "2024-06-13T11:27:11.973Z"
   },
   {
    "duration": 984,
    "start_time": "2024-06-13T11:27:11.988Z"
   },
   {
    "duration": 12,
    "start_time": "2024-06-13T11:27:12.973Z"
   },
   {
    "duration": 21,
    "start_time": "2024-06-13T11:27:12.986Z"
   },
   {
    "duration": 155,
    "start_time": "2024-06-13T11:27:13.009Z"
   },
   {
    "duration": 6,
    "start_time": "2024-06-13T11:27:13.166Z"
   },
   {
    "duration": 24,
    "start_time": "2024-06-13T11:27:13.173Z"
   },
   {
    "duration": 21,
    "start_time": "2024-06-13T11:27:13.199Z"
   },
   {
    "duration": 972,
    "start_time": "2024-06-13T15:59:21.745Z"
   },
   {
    "duration": 72,
    "start_time": "2024-06-13T15:59:22.719Z"
   },
   {
    "duration": 17,
    "start_time": "2024-06-13T15:59:22.792Z"
   },
   {
    "duration": 22,
    "start_time": "2024-06-13T15:59:22.812Z"
   },
   {
    "duration": 8,
    "start_time": "2024-06-13T15:59:22.837Z"
   },
   {
    "duration": 12,
    "start_time": "2024-06-13T15:59:22.847Z"
   },
   {
    "duration": 14,
    "start_time": "2024-06-13T15:59:22.861Z"
   },
   {
    "duration": 11,
    "start_time": "2024-06-13T15:59:22.877Z"
   },
   {
    "duration": 15,
    "start_time": "2024-06-13T15:59:22.890Z"
   },
   {
    "duration": 38,
    "start_time": "2024-06-13T15:59:22.909Z"
   },
   {
    "duration": 8,
    "start_time": "2024-06-13T15:59:22.950Z"
   },
   {
    "duration": 5,
    "start_time": "2024-06-13T15:59:22.959Z"
   },
   {
    "duration": 26,
    "start_time": "2024-06-13T15:59:22.965Z"
   },
   {
    "duration": 5,
    "start_time": "2024-06-13T15:59:22.993Z"
   },
   {
    "duration": 19,
    "start_time": "2024-06-13T15:59:23.000Z"
   },
   {
    "duration": 18,
    "start_time": "2024-06-13T15:59:23.021Z"
   },
   {
    "duration": 10,
    "start_time": "2024-06-13T15:59:23.041Z"
   },
   {
    "duration": 12,
    "start_time": "2024-06-13T15:59:23.053Z"
   },
   {
    "duration": 5,
    "start_time": "2024-06-13T15:59:23.066Z"
   },
   {
    "duration": 18,
    "start_time": "2024-06-13T15:59:23.073Z"
   },
   {
    "duration": 449,
    "start_time": "2024-06-13T15:59:23.092Z"
   },
   {
    "duration": 6,
    "start_time": "2024-06-13T15:59:23.543Z"
   },
   {
    "duration": 119,
    "start_time": "2024-06-13T15:59:23.551Z"
   },
   {
    "duration": 6,
    "start_time": "2024-06-13T15:59:23.672Z"
   },
   {
    "duration": 156,
    "start_time": "2024-06-13T15:59:23.679Z"
   },
   {
    "duration": 11,
    "start_time": "2024-06-13T15:59:23.837Z"
   },
   {
    "duration": 26,
    "start_time": "2024-06-13T15:59:23.850Z"
   },
   {
    "duration": 127,
    "start_time": "2024-06-13T15:59:23.880Z"
   },
   {
    "duration": 4,
    "start_time": "2024-06-13T15:59:24.009Z"
   },
   {
    "duration": 14,
    "start_time": "2024-06-13T15:59:24.014Z"
   },
   {
    "duration": 24,
    "start_time": "2024-06-13T15:59:24.029Z"
   },
   {
    "duration": 130,
    "start_time": "2024-06-13T15:59:24.054Z"
   },
   {
    "duration": 4,
    "start_time": "2024-06-13T15:59:24.186Z"
   },
   {
    "duration": 15,
    "start_time": "2024-06-13T15:59:24.192Z"
   },
   {
    "duration": 24,
    "start_time": "2024-06-13T15:59:24.208Z"
   },
   {
    "duration": 30,
    "start_time": "2024-06-13T15:59:24.234Z"
   },
   {
    "duration": 21,
    "start_time": "2024-06-13T15:59:24.265Z"
   },
   {
    "duration": 15,
    "start_time": "2024-06-13T15:59:24.288Z"
   },
   {
    "duration": 240,
    "start_time": "2024-06-13T15:59:24.305Z"
   },
   {
    "duration": 240,
    "start_time": "2024-06-13T15:59:24.546Z"
   },
   {
    "duration": 215,
    "start_time": "2024-06-13T15:59:24.788Z"
   },
   {
    "duration": 242,
    "start_time": "2024-06-13T15:59:25.005Z"
   },
   {
    "duration": 13,
    "start_time": "2024-06-13T15:59:25.249Z"
   },
   {
    "duration": 955,
    "start_time": "2024-06-13T15:59:25.264Z"
   },
   {
    "duration": 11,
    "start_time": "2024-06-13T15:59:26.221Z"
   },
   {
    "duration": 14,
    "start_time": "2024-06-13T15:59:26.233Z"
   },
   {
    "duration": 148,
    "start_time": "2024-06-13T15:59:26.249Z"
   },
   {
    "duration": 5,
    "start_time": "2024-06-13T15:59:26.398Z"
   },
   {
    "duration": 11,
    "start_time": "2024-06-13T15:59:26.405Z"
   },
   {
    "duration": 10,
    "start_time": "2024-06-13T15:59:26.418Z"
   },
   {
    "duration": 906,
    "start_time": "2024-06-13T16:01:34.778Z"
   },
   {
    "duration": 70,
    "start_time": "2024-06-13T16:01:35.686Z"
   },
   {
    "duration": 15,
    "start_time": "2024-06-13T16:01:35.758Z"
   },
   {
    "duration": 80,
    "start_time": "2024-06-13T16:01:35.774Z"
   },
   {
    "duration": 97,
    "start_time": "2024-06-13T16:01:35.857Z"
   },
   {
    "duration": 92,
    "start_time": "2024-06-13T16:01:35.955Z"
   },
   {
    "duration": 38,
    "start_time": "2024-06-13T16:01:36.048Z"
   },
   {
    "duration": 14,
    "start_time": "2024-06-13T16:01:36.087Z"
   },
   {
    "duration": 18,
    "start_time": "2024-06-13T16:01:36.103Z"
   },
   {
    "duration": 6,
    "start_time": "2024-06-13T16:01:36.122Z"
   },
   {
    "duration": 9,
    "start_time": "2024-06-13T16:01:36.129Z"
   },
   {
    "duration": 20,
    "start_time": "2024-06-13T16:01:36.139Z"
   },
   {
    "duration": 38,
    "start_time": "2024-06-13T16:01:36.162Z"
   },
   {
    "duration": 39,
    "start_time": "2024-06-13T16:01:36.205Z"
   },
   {
    "duration": 33,
    "start_time": "2024-06-13T16:01:36.246Z"
   },
   {
    "duration": 27,
    "start_time": "2024-06-13T16:01:36.281Z"
   },
   {
    "duration": 17,
    "start_time": "2024-06-13T16:01:36.309Z"
   },
   {
    "duration": 23,
    "start_time": "2024-06-13T16:01:36.328Z"
   },
   {
    "duration": 14,
    "start_time": "2024-06-13T16:01:36.353Z"
   },
   {
    "duration": 64,
    "start_time": "2024-06-13T16:01:36.369Z"
   },
   {
    "duration": 446,
    "start_time": "2024-06-13T16:01:36.434Z"
   },
   {
    "duration": 9,
    "start_time": "2024-06-13T16:01:36.882Z"
   },
   {
    "duration": 128,
    "start_time": "2024-06-13T16:01:36.893Z"
   },
   {
    "duration": 6,
    "start_time": "2024-06-13T16:01:37.022Z"
   },
   {
    "duration": 154,
    "start_time": "2024-06-13T16:01:37.030Z"
   },
   {
    "duration": 5,
    "start_time": "2024-06-13T16:01:37.185Z"
   },
   {
    "duration": 26,
    "start_time": "2024-06-13T16:01:37.192Z"
   },
   {
    "duration": 126,
    "start_time": "2024-06-13T16:01:37.220Z"
   },
   {
    "duration": 4,
    "start_time": "2024-06-13T16:01:37.347Z"
   },
   {
    "duration": 38,
    "start_time": "2024-06-13T16:01:37.353Z"
   },
   {
    "duration": 9,
    "start_time": "2024-06-13T16:01:37.392Z"
   },
   {
    "duration": 114,
    "start_time": "2024-06-13T16:01:37.402Z"
   },
   {
    "duration": 3,
    "start_time": "2024-06-13T16:01:37.518Z"
   },
   {
    "duration": 18,
    "start_time": "2024-06-13T16:01:37.523Z"
   },
   {
    "duration": 19,
    "start_time": "2024-06-13T16:01:37.543Z"
   },
   {
    "duration": 19,
    "start_time": "2024-06-13T16:01:37.564Z"
   },
   {
    "duration": 17,
    "start_time": "2024-06-13T16:01:37.585Z"
   },
   {
    "duration": 47,
    "start_time": "2024-06-13T16:01:37.604Z"
   },
   {
    "duration": 203,
    "start_time": "2024-06-13T16:01:37.653Z"
   },
   {
    "duration": 227,
    "start_time": "2024-06-13T16:01:37.858Z"
   },
   {
    "duration": 217,
    "start_time": "2024-06-13T16:01:38.088Z"
   },
   {
    "duration": 243,
    "start_time": "2024-06-13T16:01:38.307Z"
   },
   {
    "duration": 13,
    "start_time": "2024-06-13T16:01:38.552Z"
   },
   {
    "duration": 910,
    "start_time": "2024-06-13T16:01:38.567Z"
   },
   {
    "duration": 11,
    "start_time": "2024-06-13T16:01:39.478Z"
   },
   {
    "duration": 9,
    "start_time": "2024-06-13T16:01:39.491Z"
   },
   {
    "duration": 170,
    "start_time": "2024-06-13T16:01:39.501Z"
   },
   {
    "duration": 6,
    "start_time": "2024-06-13T16:01:39.673Z"
   },
   {
    "duration": 49,
    "start_time": "2024-06-13T16:01:39.680Z"
   },
   {
    "duration": 14,
    "start_time": "2024-06-13T16:01:39.731Z"
   },
   {
    "duration": 862,
    "start_time": "2024-06-13T16:01:56.280Z"
   },
   {
    "duration": 71,
    "start_time": "2024-06-13T16:01:57.145Z"
   },
   {
    "duration": 18,
    "start_time": "2024-06-13T16:01:57.219Z"
   },
   {
    "duration": 13,
    "start_time": "2024-06-13T16:01:57.239Z"
   },
   {
    "duration": 14,
    "start_time": "2024-06-13T16:01:57.255Z"
   },
   {
    "duration": 14,
    "start_time": "2024-06-13T16:01:57.270Z"
   },
   {
    "duration": 14,
    "start_time": "2024-06-13T16:01:57.286Z"
   },
   {
    "duration": 14,
    "start_time": "2024-06-13T16:01:57.302Z"
   },
   {
    "duration": 36,
    "start_time": "2024-06-13T16:01:57.318Z"
   },
   {
    "duration": 6,
    "start_time": "2024-06-13T16:01:57.355Z"
   },
   {
    "duration": 11,
    "start_time": "2024-06-13T16:01:57.363Z"
   },
   {
    "duration": 10,
    "start_time": "2024-06-13T16:01:57.376Z"
   },
   {
    "duration": 23,
    "start_time": "2024-06-13T16:01:57.388Z"
   },
   {
    "duration": 4,
    "start_time": "2024-06-13T16:01:57.415Z"
   },
   {
    "duration": 7,
    "start_time": "2024-06-13T16:01:57.420Z"
   },
   {
    "duration": 5,
    "start_time": "2024-06-13T16:01:57.446Z"
   },
   {
    "duration": 22,
    "start_time": "2024-06-13T16:01:57.452Z"
   },
   {
    "duration": 8,
    "start_time": "2024-06-13T16:01:57.475Z"
   },
   {
    "duration": 7,
    "start_time": "2024-06-13T16:01:57.484Z"
   },
   {
    "duration": 9,
    "start_time": "2024-06-13T16:01:57.492Z"
   },
   {
    "duration": 459,
    "start_time": "2024-06-13T16:01:57.503Z"
   },
   {
    "duration": 7,
    "start_time": "2024-06-13T16:01:57.964Z"
   },
   {
    "duration": 121,
    "start_time": "2024-06-13T16:01:57.973Z"
   },
   {
    "duration": 6,
    "start_time": "2024-06-13T16:01:58.096Z"
   },
   {
    "duration": 155,
    "start_time": "2024-06-13T16:01:58.104Z"
   },
   {
    "duration": 5,
    "start_time": "2024-06-13T16:01:58.261Z"
   },
   {
    "duration": 20,
    "start_time": "2024-06-13T16:01:58.267Z"
   },
   {
    "duration": 133,
    "start_time": "2024-06-13T16:01:58.288Z"
   },
   {
    "duration": 4,
    "start_time": "2024-06-13T16:01:58.423Z"
   },
   {
    "duration": 25,
    "start_time": "2024-06-13T16:01:58.428Z"
   },
   {
    "duration": 9,
    "start_time": "2024-06-13T16:01:58.454Z"
   },
   {
    "duration": 130,
    "start_time": "2024-06-13T16:01:58.464Z"
   },
   {
    "duration": 4,
    "start_time": "2024-06-13T16:01:58.596Z"
   },
   {
    "duration": 13,
    "start_time": "2024-06-13T16:01:58.601Z"
   },
   {
    "duration": 34,
    "start_time": "2024-06-13T16:01:58.615Z"
   },
   {
    "duration": 18,
    "start_time": "2024-06-13T16:01:58.651Z"
   },
   {
    "duration": 67,
    "start_time": "2024-06-13T16:01:58.670Z"
   },
   {
    "duration": 15,
    "start_time": "2024-06-13T16:01:58.738Z"
   },
   {
    "duration": 204,
    "start_time": "2024-06-13T16:01:58.755Z"
   },
   {
    "duration": 223,
    "start_time": "2024-06-13T16:01:58.961Z"
   },
   {
    "duration": 217,
    "start_time": "2024-06-13T16:01:59.188Z"
   },
   {
    "duration": 223,
    "start_time": "2024-06-13T16:01:59.406Z"
   },
   {
    "duration": 16,
    "start_time": "2024-06-13T16:01:59.630Z"
   },
   {
    "duration": 920,
    "start_time": "2024-06-13T16:01:59.648Z"
   },
   {
    "duration": 11,
    "start_time": "2024-06-13T16:02:00.570Z"
   },
   {
    "duration": 34,
    "start_time": "2024-06-13T16:02:00.583Z"
   },
   {
    "duration": 413,
    "start_time": "2024-06-13T16:02:00.619Z"
   },
   {
    "duration": 13,
    "start_time": "2024-06-13T16:02:01.034Z"
   },
   {
    "duration": 12,
    "start_time": "2024-06-13T16:02:01.049Z"
   },
   {
    "duration": 40,
    "start_time": "2024-06-13T16:02:01.063Z"
   },
   {
    "duration": 7,
    "start_time": "2024-06-13T16:04:19.035Z"
   },
   {
    "duration": 8,
    "start_time": "2024-06-13T16:04:25.144Z"
   },
   {
    "duration": 17,
    "start_time": "2024-06-13T16:05:06.360Z"
   },
   {
    "duration": 48,
    "start_time": "2024-06-13T16:18:15.504Z"
   },
   {
    "duration": 833,
    "start_time": "2024-06-13T16:18:24.100Z"
   },
   {
    "duration": 307,
    "start_time": "2024-06-13T16:18:24.935Z"
   },
   {
    "duration": 16,
    "start_time": "2024-06-13T16:18:25.244Z"
   },
   {
    "duration": 19,
    "start_time": "2024-06-13T16:18:25.263Z"
   },
   {
    "duration": 11,
    "start_time": "2024-06-13T16:18:25.283Z"
   },
   {
    "duration": 11,
    "start_time": "2024-06-13T16:18:25.295Z"
   },
   {
    "duration": 48,
    "start_time": "2024-06-13T16:18:25.308Z"
   },
   {
    "duration": 12,
    "start_time": "2024-06-13T16:18:25.357Z"
   },
   {
    "duration": 25,
    "start_time": "2024-06-13T16:18:25.370Z"
   },
   {
    "duration": 5,
    "start_time": "2024-06-13T16:18:25.398Z"
   },
   {
    "duration": 8,
    "start_time": "2024-06-13T16:18:25.405Z"
   },
   {
    "duration": 5,
    "start_time": "2024-06-13T16:18:25.414Z"
   },
   {
    "duration": 10,
    "start_time": "2024-06-13T16:18:25.420Z"
   },
   {
    "duration": 23,
    "start_time": "2024-06-13T16:18:25.431Z"
   },
   {
    "duration": 16,
    "start_time": "2024-06-13T16:18:25.455Z"
   },
   {
    "duration": 17,
    "start_time": "2024-06-13T16:18:25.473Z"
   },
   {
    "duration": 8,
    "start_time": "2024-06-13T16:18:25.492Z"
   },
   {
    "duration": 9,
    "start_time": "2024-06-13T16:18:25.501Z"
   },
   {
    "duration": 17,
    "start_time": "2024-06-13T16:18:25.511Z"
   },
   {
    "duration": 10,
    "start_time": "2024-06-13T16:18:25.529Z"
   },
   {
    "duration": 681,
    "start_time": "2024-06-13T16:18:25.541Z"
   },
   {
    "duration": 0,
    "start_time": "2024-06-13T16:18:26.224Z"
   },
   {
    "duration": 0,
    "start_time": "2024-06-13T16:18:26.226Z"
   },
   {
    "duration": 0,
    "start_time": "2024-06-13T16:18:26.227Z"
   },
   {
    "duration": 0,
    "start_time": "2024-06-13T16:18:26.228Z"
   },
   {
    "duration": 0,
    "start_time": "2024-06-13T16:18:26.229Z"
   },
   {
    "duration": 0,
    "start_time": "2024-06-13T16:18:26.229Z"
   },
   {
    "duration": 0,
    "start_time": "2024-06-13T16:18:26.230Z"
   },
   {
    "duration": 0,
    "start_time": "2024-06-13T16:18:26.231Z"
   },
   {
    "duration": 0,
    "start_time": "2024-06-13T16:18:26.232Z"
   },
   {
    "duration": 0,
    "start_time": "2024-06-13T16:18:26.233Z"
   },
   {
    "duration": 0,
    "start_time": "2024-06-13T16:18:26.234Z"
   },
   {
    "duration": 0,
    "start_time": "2024-06-13T16:18:26.235Z"
   },
   {
    "duration": 0,
    "start_time": "2024-06-13T16:18:26.235Z"
   },
   {
    "duration": 0,
    "start_time": "2024-06-13T16:18:26.237Z"
   },
   {
    "duration": 0,
    "start_time": "2024-06-13T16:18:26.237Z"
   },
   {
    "duration": 0,
    "start_time": "2024-06-13T16:18:26.238Z"
   },
   {
    "duration": 0,
    "start_time": "2024-06-13T16:18:26.239Z"
   },
   {
    "duration": 0,
    "start_time": "2024-06-13T16:18:26.240Z"
   },
   {
    "duration": 0,
    "start_time": "2024-06-13T16:18:26.242Z"
   },
   {
    "duration": 0,
    "start_time": "2024-06-13T16:18:26.242Z"
   },
   {
    "duration": 0,
    "start_time": "2024-06-13T16:18:26.243Z"
   },
   {
    "duration": 0,
    "start_time": "2024-06-13T16:18:26.245Z"
   },
   {
    "duration": 0,
    "start_time": "2024-06-13T16:18:26.290Z"
   },
   {
    "duration": 0,
    "start_time": "2024-06-13T16:18:26.291Z"
   },
   {
    "duration": 0,
    "start_time": "2024-06-13T16:18:26.292Z"
   },
   {
    "duration": 0,
    "start_time": "2024-06-13T16:18:26.293Z"
   },
   {
    "duration": 0,
    "start_time": "2024-06-13T16:18:26.295Z"
   },
   {
    "duration": 0,
    "start_time": "2024-06-13T16:18:26.296Z"
   },
   {
    "duration": 0,
    "start_time": "2024-06-13T16:18:26.297Z"
   },
   {
    "duration": 149,
    "start_time": "2024-06-13T16:18:49.965Z"
   },
   {
    "duration": 873,
    "start_time": "2024-06-13T16:19:35.873Z"
   },
   {
    "duration": 68,
    "start_time": "2024-06-13T16:19:36.747Z"
   },
   {
    "duration": 14,
    "start_time": "2024-06-13T16:19:36.816Z"
   },
   {
    "duration": 11,
    "start_time": "2024-06-13T16:19:36.832Z"
   },
   {
    "duration": 15,
    "start_time": "2024-06-13T16:19:36.844Z"
   },
   {
    "duration": 18,
    "start_time": "2024-06-13T16:19:36.861Z"
   },
   {
    "duration": 20,
    "start_time": "2024-06-13T16:19:36.880Z"
   },
   {
    "duration": 9,
    "start_time": "2024-06-13T16:19:36.902Z"
   },
   {
    "duration": 14,
    "start_time": "2024-06-13T16:19:36.913Z"
   },
   {
    "duration": 5,
    "start_time": "2024-06-13T16:19:36.930Z"
   },
   {
    "duration": 7,
    "start_time": "2024-06-13T16:19:36.937Z"
   },
   {
    "duration": 27,
    "start_time": "2024-06-13T16:19:36.946Z"
   },
   {
    "duration": 19,
    "start_time": "2024-06-13T16:19:36.974Z"
   },
   {
    "duration": 5,
    "start_time": "2024-06-13T16:19:36.994Z"
   },
   {
    "duration": 5,
    "start_time": "2024-06-13T16:19:37.000Z"
   },
   {
    "duration": 4,
    "start_time": "2024-06-13T16:19:37.007Z"
   },
   {
    "duration": 5,
    "start_time": "2024-06-13T16:19:37.013Z"
   },
   {
    "duration": 14,
    "start_time": "2024-06-13T16:19:37.020Z"
   },
   {
    "duration": 6,
    "start_time": "2024-06-13T16:19:37.036Z"
   },
   {
    "duration": 19,
    "start_time": "2024-06-13T16:19:37.044Z"
   },
   {
    "duration": 415,
    "start_time": "2024-06-13T16:19:37.065Z"
   },
   {
    "duration": 9,
    "start_time": "2024-06-13T16:19:37.481Z"
   },
   {
    "duration": 99,
    "start_time": "2024-06-13T16:19:37.492Z"
   },
   {
    "duration": 5,
    "start_time": "2024-06-13T16:19:37.593Z"
   },
   {
    "duration": 144,
    "start_time": "2024-06-13T16:19:37.599Z"
   },
   {
    "duration": 4,
    "start_time": "2024-06-13T16:19:37.744Z"
   },
   {
    "duration": 8,
    "start_time": "2024-06-13T16:19:37.750Z"
   },
   {
    "duration": 147,
    "start_time": "2024-06-13T16:19:37.762Z"
   },
   {
    "duration": 4,
    "start_time": "2024-06-13T16:19:37.910Z"
   },
   {
    "duration": 13,
    "start_time": "2024-06-13T16:19:37.915Z"
   },
   {
    "duration": 8,
    "start_time": "2024-06-13T16:19:37.930Z"
   },
   {
    "duration": 135,
    "start_time": "2024-06-13T16:19:37.939Z"
   },
   {
    "duration": 3,
    "start_time": "2024-06-13T16:19:38.076Z"
   },
   {
    "duration": 20,
    "start_time": "2024-06-13T16:19:38.081Z"
   },
   {
    "duration": 18,
    "start_time": "2024-06-13T16:19:38.102Z"
   },
   {
    "duration": 19,
    "start_time": "2024-06-13T16:19:38.122Z"
   },
   {
    "duration": 16,
    "start_time": "2024-06-13T16:19:38.142Z"
   },
   {
    "duration": 34,
    "start_time": "2024-06-13T16:19:38.159Z"
   },
   {
    "duration": 187,
    "start_time": "2024-06-13T16:19:38.194Z"
   },
   {
    "duration": 196,
    "start_time": "2024-06-13T16:19:38.383Z"
   },
   {
    "duration": 188,
    "start_time": "2024-06-13T16:19:38.581Z"
   },
   {
    "duration": 199,
    "start_time": "2024-06-13T16:19:38.771Z"
   },
   {
    "duration": 22,
    "start_time": "2024-06-13T16:19:38.972Z"
   },
   {
    "duration": 969,
    "start_time": "2024-06-13T16:19:38.996Z"
   },
   {
    "duration": 11,
    "start_time": "2024-06-13T16:19:39.967Z"
   },
   {
    "duration": 3,
    "start_time": "2024-06-13T16:19:39.989Z"
   },
   {
    "duration": 165,
    "start_time": "2024-06-13T16:19:39.994Z"
   },
   {
    "duration": 5,
    "start_time": "2024-06-13T16:19:40.161Z"
   },
   {
    "duration": 29,
    "start_time": "2024-06-13T16:19:40.168Z"
   },
   {
    "duration": 12,
    "start_time": "2024-06-13T16:19:40.199Z"
   },
   {
    "duration": 11,
    "start_time": "2024-06-13T16:20:52.885Z"
   },
   {
    "duration": 5,
    "start_time": "2024-06-13T16:21:36.175Z"
   },
   {
    "duration": 43,
    "start_time": "2024-06-13T16:23:29.025Z"
   },
   {
    "duration": 8,
    "start_time": "2024-06-13T16:23:35.726Z"
   },
   {
    "duration": 5,
    "start_time": "2024-06-13T16:23:37.611Z"
   },
   {
    "duration": 10,
    "start_time": "2024-06-13T16:23:51.247Z"
   },
   {
    "duration": 4,
    "start_time": "2024-06-13T16:23:53.228Z"
   },
   {
    "duration": 101,
    "start_time": "2024-06-13T16:27:41.754Z"
   },
   {
    "duration": 7,
    "start_time": "2024-06-13T16:30:02.348Z"
   },
   {
    "duration": 3,
    "start_time": "2024-06-13T16:30:03.132Z"
   },
   {
    "duration": 5,
    "start_time": "2024-06-13T16:30:20.409Z"
   },
   {
    "duration": 4,
    "start_time": "2024-06-13T16:30:36.198Z"
   },
   {
    "duration": 5,
    "start_time": "2024-06-13T16:30:41.776Z"
   },
   {
    "duration": 3,
    "start_time": "2024-06-13T16:30:48.123Z"
   },
   {
    "duration": 5,
    "start_time": "2024-06-13T16:30:53.718Z"
   },
   {
    "duration": 4,
    "start_time": "2024-06-13T16:30:56.807Z"
   },
   {
    "duration": 736,
    "start_time": "2024-06-13T16:31:21.116Z"
   },
   {
    "duration": 58,
    "start_time": "2024-06-13T16:31:21.853Z"
   },
   {
    "duration": 11,
    "start_time": "2024-06-13T16:31:21.912Z"
   },
   {
    "duration": 16,
    "start_time": "2024-06-13T16:31:21.925Z"
   },
   {
    "duration": 13,
    "start_time": "2024-06-13T16:31:21.942Z"
   },
   {
    "duration": 12,
    "start_time": "2024-06-13T16:31:21.956Z"
   },
   {
    "duration": 10,
    "start_time": "2024-06-13T16:31:21.969Z"
   },
   {
    "duration": 13,
    "start_time": "2024-06-13T16:31:21.980Z"
   },
   {
    "duration": 13,
    "start_time": "2024-06-13T16:31:21.995Z"
   },
   {
    "duration": 5,
    "start_time": "2024-06-13T16:31:22.010Z"
   },
   {
    "duration": 9,
    "start_time": "2024-06-13T16:31:22.016Z"
   },
   {
    "duration": 4,
    "start_time": "2024-06-13T16:31:22.026Z"
   },
   {
    "duration": 12,
    "start_time": "2024-06-13T16:31:22.030Z"
   },
   {
    "duration": 8,
    "start_time": "2024-06-13T16:31:22.044Z"
   },
   {
    "duration": 5,
    "start_time": "2024-06-13T16:31:22.053Z"
   },
   {
    "duration": 5,
    "start_time": "2024-06-13T16:31:22.059Z"
   },
   {
    "duration": 4,
    "start_time": "2024-06-13T16:31:22.065Z"
   },
   {
    "duration": 4,
    "start_time": "2024-06-13T16:31:22.089Z"
   },
   {
    "duration": 5,
    "start_time": "2024-06-13T16:31:22.095Z"
   },
   {
    "duration": 9,
    "start_time": "2024-06-13T16:31:22.101Z"
   },
   {
    "duration": 331,
    "start_time": "2024-06-13T16:31:22.111Z"
   },
   {
    "duration": 4,
    "start_time": "2024-06-13T16:31:22.443Z"
   },
   {
    "duration": 85,
    "start_time": "2024-06-13T16:31:22.449Z"
   },
   {
    "duration": 4,
    "start_time": "2024-06-13T16:31:22.535Z"
   },
   {
    "duration": 115,
    "start_time": "2024-06-13T16:31:22.540Z"
   },
   {
    "duration": 4,
    "start_time": "2024-06-13T16:31:22.656Z"
   },
   {
    "duration": 7,
    "start_time": "2024-06-13T16:31:22.661Z"
   },
   {
    "duration": 102,
    "start_time": "2024-06-13T16:31:22.670Z"
   },
   {
    "duration": 3,
    "start_time": "2024-06-13T16:31:22.774Z"
   },
   {
    "duration": 28,
    "start_time": "2024-06-13T16:31:22.777Z"
   },
   {
    "duration": 88,
    "start_time": "2024-06-13T16:31:22.806Z"
   },
   {
    "duration": 3,
    "start_time": "2024-06-13T16:31:22.895Z"
   },
   {
    "duration": 24,
    "start_time": "2024-06-13T16:31:22.899Z"
   },
   {
    "duration": 16,
    "start_time": "2024-06-13T16:31:22.924Z"
   },
   {
    "duration": 24,
    "start_time": "2024-06-13T16:31:22.941Z"
   },
   {
    "duration": 11,
    "start_time": "2024-06-13T16:31:22.966Z"
   },
   {
    "duration": 147,
    "start_time": "2024-06-13T16:31:22.979Z"
   },
   {
    "duration": 158,
    "start_time": "2024-06-13T16:31:23.128Z"
   },
   {
    "duration": 154,
    "start_time": "2024-06-13T16:31:23.287Z"
   },
   {
    "duration": 169,
    "start_time": "2024-06-13T16:31:23.442Z"
   },
   {
    "duration": 10,
    "start_time": "2024-06-13T16:31:23.612Z"
   },
   {
    "duration": 796,
    "start_time": "2024-06-13T16:31:23.623Z"
   },
   {
    "duration": 11,
    "start_time": "2024-06-13T16:31:24.420Z"
   },
   {
    "duration": 2,
    "start_time": "2024-06-13T16:31:24.432Z"
   },
   {
    "duration": 127,
    "start_time": "2024-06-13T16:31:24.435Z"
   },
   {
    "duration": 5,
    "start_time": "2024-06-13T16:31:24.563Z"
   },
   {
    "duration": 4,
    "start_time": "2024-06-13T16:31:24.569Z"
   },
   {
    "duration": 16,
    "start_time": "2024-06-13T16:31:24.574Z"
   },
   {
    "duration": 3,
    "start_time": "2024-06-13T16:31:24.591Z"
   },
   {
    "duration": 7,
    "start_time": "2024-06-13T16:32:09.500Z"
   },
   {
    "duration": 7,
    "start_time": "2024-06-13T16:32:27.961Z"
   },
   {
    "duration": 8,
    "start_time": "2024-06-13T16:32:36.429Z"
   },
   {
    "duration": 8,
    "start_time": "2024-06-13T16:33:10.156Z"
   },
   {
    "duration": 3,
    "start_time": "2024-06-13T16:33:11.337Z"
   },
   {
    "duration": 2,
    "start_time": "2024-06-13T16:33:35.104Z"
   },
   {
    "duration": 7,
    "start_time": "2024-06-13T16:33:54.749Z"
   },
   {
    "duration": 7,
    "start_time": "2024-06-13T16:34:04.628Z"
   },
   {
    "duration": 7,
    "start_time": "2024-06-13T16:34:23.416Z"
   },
   {
    "duration": 3,
    "start_time": "2024-06-13T16:35:12.958Z"
   },
   {
    "duration": 715,
    "start_time": "2024-06-13T16:41:15.371Z"
   },
   {
    "duration": 58,
    "start_time": "2024-06-13T16:41:16.090Z"
   },
   {
    "duration": 11,
    "start_time": "2024-06-13T16:41:16.149Z"
   },
   {
    "duration": 15,
    "start_time": "2024-06-13T16:41:16.161Z"
   },
   {
    "duration": 5,
    "start_time": "2024-06-13T16:41:16.177Z"
   },
   {
    "duration": 10,
    "start_time": "2024-06-13T16:41:16.184Z"
   },
   {
    "duration": 8,
    "start_time": "2024-06-13T16:41:16.195Z"
   },
   {
    "duration": 7,
    "start_time": "2024-06-13T16:41:16.204Z"
   },
   {
    "duration": 10,
    "start_time": "2024-06-13T16:41:16.212Z"
   },
   {
    "duration": 4,
    "start_time": "2024-06-13T16:41:16.224Z"
   },
   {
    "duration": 11,
    "start_time": "2024-06-13T16:41:16.229Z"
   },
   {
    "duration": 14,
    "start_time": "2024-06-13T16:41:16.241Z"
   },
   {
    "duration": 6,
    "start_time": "2024-06-13T16:41:16.257Z"
   },
   {
    "duration": 26,
    "start_time": "2024-06-13T16:41:16.264Z"
   },
   {
    "duration": 4,
    "start_time": "2024-06-13T16:41:16.291Z"
   },
   {
    "duration": 3,
    "start_time": "2024-06-13T16:41:16.296Z"
   },
   {
    "duration": 7,
    "start_time": "2024-06-13T16:41:16.300Z"
   },
   {
    "duration": 5,
    "start_time": "2024-06-13T16:41:16.308Z"
   },
   {
    "duration": 3,
    "start_time": "2024-06-13T16:41:16.314Z"
   },
   {
    "duration": 9,
    "start_time": "2024-06-13T16:41:16.318Z"
   },
   {
    "duration": 338,
    "start_time": "2024-06-13T16:41:16.328Z"
   },
   {
    "duration": 5,
    "start_time": "2024-06-13T16:41:16.667Z"
   },
   {
    "duration": 87,
    "start_time": "2024-06-13T16:41:16.673Z"
   },
   {
    "duration": 4,
    "start_time": "2024-06-13T16:41:16.761Z"
   },
   {
    "duration": 112,
    "start_time": "2024-06-13T16:41:16.766Z"
   },
   {
    "duration": 11,
    "start_time": "2024-06-13T16:41:16.880Z"
   },
   {
    "duration": 16,
    "start_time": "2024-06-13T16:41:16.892Z"
   },
   {
    "duration": 98,
    "start_time": "2024-06-13T16:41:16.910Z"
   },
   {
    "duration": 3,
    "start_time": "2024-06-13T16:41:17.009Z"
   },
   {
    "duration": 6,
    "start_time": "2024-06-13T16:41:17.013Z"
   },
   {
    "duration": 99,
    "start_time": "2024-06-13T16:41:17.020Z"
   },
   {
    "duration": 3,
    "start_time": "2024-06-13T16:41:17.120Z"
   },
   {
    "duration": 15,
    "start_time": "2024-06-13T16:41:17.124Z"
   },
   {
    "duration": 13,
    "start_time": "2024-06-13T16:41:17.141Z"
   },
   {
    "duration": 35,
    "start_time": "2024-06-13T16:41:17.155Z"
   },
   {
    "duration": 12,
    "start_time": "2024-06-13T16:41:17.191Z"
   },
   {
    "duration": 169,
    "start_time": "2024-06-13T16:41:17.204Z"
   },
   {
    "duration": 185,
    "start_time": "2024-06-13T16:41:17.375Z"
   },
   {
    "duration": 152,
    "start_time": "2024-06-13T16:41:17.562Z"
   },
   {
    "duration": 155,
    "start_time": "2024-06-13T16:41:17.716Z"
   },
   {
    "duration": 17,
    "start_time": "2024-06-13T16:41:17.873Z"
   },
   {
    "duration": 781,
    "start_time": "2024-06-13T16:41:17.891Z"
   },
   {
    "duration": 8,
    "start_time": "2024-06-13T16:41:18.673Z"
   },
   {
    "duration": 2,
    "start_time": "2024-06-13T16:41:18.689Z"
   },
   {
    "duration": 135,
    "start_time": "2024-06-13T16:41:18.692Z"
   },
   {
    "duration": 11,
    "start_time": "2024-06-13T16:41:18.829Z"
   },
   {
    "duration": 4,
    "start_time": "2024-06-13T16:41:18.842Z"
   },
   {
    "duration": 8,
    "start_time": "2024-06-13T16:41:18.848Z"
   },
   {
    "duration": 3,
    "start_time": "2024-06-13T16:41:18.858Z"
   },
   {
    "duration": 91,
    "start_time": "2024-06-13T16:42:44.228Z"
   },
   {
    "duration": 717,
    "start_time": "2024-06-13T16:44:06.347Z"
   },
   {
    "duration": 701,
    "start_time": "2024-06-13T16:44:45.669Z"
   },
   {
    "duration": 757,
    "start_time": "2024-06-13T16:44:57.633Z"
   },
   {
    "duration": 23,
    "start_time": "2024-06-13T16:46:50.832Z"
   },
   {
    "duration": 23,
    "start_time": "2024-06-13T16:47:00.082Z"
   },
   {
    "duration": 723,
    "start_time": "2024-06-13T16:47:57.807Z"
   },
   {
    "duration": 754,
    "start_time": "2024-06-13T16:49:59.757Z"
   },
   {
    "duration": 783,
    "start_time": "2024-06-13T16:50:08.140Z"
   },
   {
    "duration": 710,
    "start_time": "2024-06-13T16:50:21.031Z"
   },
   {
    "duration": 733,
    "start_time": "2024-06-13T16:51:08.898Z"
   },
   {
    "duration": 2,
    "start_time": "2024-06-13T16:56:55.434Z"
   },
   {
    "duration": 161,
    "start_time": "2024-06-13T16:56:57.899Z"
   },
   {
    "duration": 4,
    "start_time": "2024-06-13T16:57:15.238Z"
   },
   {
    "duration": 5,
    "start_time": "2024-06-13T16:57:25.519Z"
   },
   {
    "duration": 8,
    "start_time": "2024-06-13T16:57:29.561Z"
   },
   {
    "duration": 55,
    "start_time": "2024-06-13T16:59:39.649Z"
   },
   {
    "duration": 42,
    "start_time": "2024-06-13T16:59:48.866Z"
   },
   {
    "duration": 866,
    "start_time": "2024-06-13T18:46:08.455Z"
   },
   {
    "duration": 70,
    "start_time": "2024-06-13T18:46:09.323Z"
   },
   {
    "duration": 16,
    "start_time": "2024-06-13T18:46:09.394Z"
   },
   {
    "duration": 14,
    "start_time": "2024-06-13T18:46:09.412Z"
   },
   {
    "duration": 9,
    "start_time": "2024-06-13T18:46:09.428Z"
   },
   {
    "duration": 55,
    "start_time": "2024-06-13T18:46:09.439Z"
   },
   {
    "duration": 16,
    "start_time": "2024-06-13T18:46:09.496Z"
   },
   {
    "duration": 11,
    "start_time": "2024-06-13T18:46:09.513Z"
   },
   {
    "duration": 18,
    "start_time": "2024-06-13T18:46:09.525Z"
   },
   {
    "duration": 6,
    "start_time": "2024-06-13T18:46:09.545Z"
   },
   {
    "duration": 12,
    "start_time": "2024-06-13T18:46:09.552Z"
   },
   {
    "duration": 6,
    "start_time": "2024-06-13T18:46:09.565Z"
   },
   {
    "duration": 18,
    "start_time": "2024-06-13T18:46:09.572Z"
   },
   {
    "duration": 5,
    "start_time": "2024-06-13T18:46:09.595Z"
   },
   {
    "duration": 9,
    "start_time": "2024-06-13T18:46:09.602Z"
   },
   {
    "duration": 6,
    "start_time": "2024-06-13T18:46:09.612Z"
   },
   {
    "duration": 28,
    "start_time": "2024-06-13T18:46:09.620Z"
   },
   {
    "duration": 14,
    "start_time": "2024-06-13T18:46:09.650Z"
   },
   {
    "duration": 15,
    "start_time": "2024-06-13T18:46:09.665Z"
   },
   {
    "duration": 18,
    "start_time": "2024-06-13T18:46:09.682Z"
   },
   {
    "duration": 448,
    "start_time": "2024-06-13T18:46:09.701Z"
   },
   {
    "duration": 7,
    "start_time": "2024-06-13T18:46:10.150Z"
   },
   {
    "duration": 124,
    "start_time": "2024-06-13T18:46:10.158Z"
   },
   {
    "duration": 6,
    "start_time": "2024-06-13T18:46:10.284Z"
   },
   {
    "duration": 175,
    "start_time": "2024-06-13T18:46:10.292Z"
   },
   {
    "duration": 5,
    "start_time": "2024-06-13T18:46:10.469Z"
   },
   {
    "duration": 11,
    "start_time": "2024-06-13T18:46:10.476Z"
   },
   {
    "duration": 177,
    "start_time": "2024-06-13T18:46:10.489Z"
   },
   {
    "duration": 5,
    "start_time": "2024-06-13T18:46:10.668Z"
   },
   {
    "duration": 9,
    "start_time": "2024-06-13T18:46:10.675Z"
   },
   {
    "duration": 152,
    "start_time": "2024-06-13T18:46:10.686Z"
   },
   {
    "duration": 8,
    "start_time": "2024-06-13T18:46:10.840Z"
   },
   {
    "duration": 36,
    "start_time": "2024-06-13T18:46:10.850Z"
   },
   {
    "duration": 30,
    "start_time": "2024-06-13T18:46:10.888Z"
   },
   {
    "duration": 36,
    "start_time": "2024-06-13T18:46:10.920Z"
   },
   {
    "duration": 24,
    "start_time": "2024-06-13T18:46:10.958Z"
   },
   {
    "duration": 238,
    "start_time": "2024-06-13T18:46:10.984Z"
   },
   {
    "duration": 236,
    "start_time": "2024-06-13T18:46:11.224Z"
   },
   {
    "duration": 214,
    "start_time": "2024-06-13T18:46:11.461Z"
   },
   {
    "duration": 245,
    "start_time": "2024-06-13T18:46:11.677Z"
   },
   {
    "duration": 21,
    "start_time": "2024-06-13T18:46:11.926Z"
   },
   {
    "duration": 1070,
    "start_time": "2024-06-13T18:46:11.949Z"
   },
   {
    "duration": 14,
    "start_time": "2024-06-13T18:46:13.020Z"
   },
   {
    "duration": 49,
    "start_time": "2024-06-13T18:46:13.046Z"
   },
   {
    "duration": 298,
    "start_time": "2024-06-13T18:46:13.097Z"
   },
   {
    "duration": 6,
    "start_time": "2024-06-13T18:46:13.398Z"
   },
   {
    "duration": 43,
    "start_time": "2024-06-13T18:46:13.406Z"
   },
   {
    "duration": 69,
    "start_time": "2024-06-13T18:46:13.451Z"
   }
  ],
  "kernelspec": {
   "display_name": "Python 3 (ipykernel)",
   "language": "python",
   "name": "python3"
  },
  "language_info": {
   "codemirror_mode": {
    "name": "ipython",
    "version": 3
   },
   "file_extension": ".py",
   "mimetype": "text/x-python",
   "name": "python",
   "nbconvert_exporter": "python",
   "pygments_lexer": "ipython3",
   "version": "3.9.5"
  },
  "toc": {
   "base_numbering": 1,
   "nav_menu": {},
   "number_sections": true,
   "sideBar": true,
   "skip_h1_title": true,
   "title_cell": "Table of Contents",
   "title_sidebar": "Contents",
   "toc_cell": false,
   "toc_position": {},
   "toc_section_display": true,
   "toc_window_display": false
  }
 },
 "nbformat": 4,
 "nbformat_minor": 5
}
