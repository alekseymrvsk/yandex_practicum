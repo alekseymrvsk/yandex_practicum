{
 "cells": [
  {
   "cell_type": "markdown",
   "metadata": {
    "id": "-VFbjcb3Awb7"
   },
   "source": [
    "# Исследование объявлений о продаже квартир\n",
    "\n",
    "В вашем распоряжении данные сервиса Яндекс Недвижимость — архив объявлений о продаже квартир в Санкт-Петербурге и соседних населённых пунктах за несколько лет. Вам нужно научиться определять рыночную стоимость объектов недвижимости. Для этого проведите исследовательский анализ данных и установите параметры, влияющие на цену объектов. Это позволит построить автоматизированную систему: она отследит аномалии и мошенническую деятельность.\n",
    "\n",
    "По каждой квартире на продажу доступны два вида данных. Первые вписаны пользователем, вторые — получены автоматически на основе картографических данных. Например, расстояние до центра, аэропорта и других объектов — эти данные автоматически получены из геосервисов. Количество парков и водоёмов также заполняется без участия пользователя."
   ]
  },
  {
   "cell_type": "markdown",
   "metadata": {
    "id": "aeFLH07FAwb9"
   },
   "source": [
    "### Откройте файл с данными и изучите общую информацию"
   ]
  },
  {
   "cell_type": "code",
   "execution_count": 1,
   "metadata": {
    "id": "7MZxY65pAwb9"
   },
   "outputs": [],
   "source": [
    "import pandas as pd\n",
    "import numpy as np\n",
    "\n",
    "df = pd.read_csv('/datasets/real_estate_data.csv', sep='\\t')\n",
    "df_backup = df # в части исследовательского анализа данных мне потребовалось обратиться к оригинальным данным :)"
   ]
  },
  {
   "cell_type": "code",
   "execution_count": 2,
   "metadata": {},
   "outputs": [
    {
     "data": {
      "text/html": [
       "<div>\n",
       "<style scoped>\n",
       "    .dataframe tbody tr th:only-of-type {\n",
       "        vertical-align: middle;\n",
       "    }\n",
       "\n",
       "    .dataframe tbody tr th {\n",
       "        vertical-align: top;\n",
       "    }\n",
       "\n",
       "    .dataframe thead th {\n",
       "        text-align: right;\n",
       "    }\n",
       "</style>\n",
       "<table border=\"1\" class=\"dataframe\">\n",
       "  <thead>\n",
       "    <tr style=\"text-align: right;\">\n",
       "      <th></th>\n",
       "      <th>total_images</th>\n",
       "      <th>last_price</th>\n",
       "      <th>total_area</th>\n",
       "      <th>first_day_exposition</th>\n",
       "      <th>rooms</th>\n",
       "      <th>ceiling_height</th>\n",
       "      <th>floors_total</th>\n",
       "      <th>living_area</th>\n",
       "      <th>floor</th>\n",
       "      <th>is_apartment</th>\n",
       "      <th>...</th>\n",
       "      <th>kitchen_area</th>\n",
       "      <th>balcony</th>\n",
       "      <th>locality_name</th>\n",
       "      <th>airports_nearest</th>\n",
       "      <th>cityCenters_nearest</th>\n",
       "      <th>parks_around3000</th>\n",
       "      <th>parks_nearest</th>\n",
       "      <th>ponds_around3000</th>\n",
       "      <th>ponds_nearest</th>\n",
       "      <th>days_exposition</th>\n",
       "    </tr>\n",
       "  </thead>\n",
       "  <tbody>\n",
       "    <tr>\n",
       "      <th>0</th>\n",
       "      <td>20</td>\n",
       "      <td>13000000.0</td>\n",
       "      <td>108.0</td>\n",
       "      <td>2019-03-07T00:00:00</td>\n",
       "      <td>3</td>\n",
       "      <td>2.70</td>\n",
       "      <td>16.0</td>\n",
       "      <td>51.0</td>\n",
       "      <td>8</td>\n",
       "      <td>NaN</td>\n",
       "      <td>...</td>\n",
       "      <td>25.0</td>\n",
       "      <td>NaN</td>\n",
       "      <td>Санкт-Петербург</td>\n",
       "      <td>18863.0</td>\n",
       "      <td>16028.0</td>\n",
       "      <td>1.0</td>\n",
       "      <td>482.0</td>\n",
       "      <td>2.0</td>\n",
       "      <td>755.0</td>\n",
       "      <td>NaN</td>\n",
       "    </tr>\n",
       "    <tr>\n",
       "      <th>1</th>\n",
       "      <td>7</td>\n",
       "      <td>3350000.0</td>\n",
       "      <td>40.4</td>\n",
       "      <td>2018-12-04T00:00:00</td>\n",
       "      <td>1</td>\n",
       "      <td>NaN</td>\n",
       "      <td>11.0</td>\n",
       "      <td>18.6</td>\n",
       "      <td>1</td>\n",
       "      <td>NaN</td>\n",
       "      <td>...</td>\n",
       "      <td>11.0</td>\n",
       "      <td>2.0</td>\n",
       "      <td>посёлок Шушары</td>\n",
       "      <td>12817.0</td>\n",
       "      <td>18603.0</td>\n",
       "      <td>0.0</td>\n",
       "      <td>NaN</td>\n",
       "      <td>0.0</td>\n",
       "      <td>NaN</td>\n",
       "      <td>81.0</td>\n",
       "    </tr>\n",
       "    <tr>\n",
       "      <th>2</th>\n",
       "      <td>10</td>\n",
       "      <td>5196000.0</td>\n",
       "      <td>56.0</td>\n",
       "      <td>2015-08-20T00:00:00</td>\n",
       "      <td>2</td>\n",
       "      <td>NaN</td>\n",
       "      <td>5.0</td>\n",
       "      <td>34.3</td>\n",
       "      <td>4</td>\n",
       "      <td>NaN</td>\n",
       "      <td>...</td>\n",
       "      <td>8.3</td>\n",
       "      <td>0.0</td>\n",
       "      <td>Санкт-Петербург</td>\n",
       "      <td>21741.0</td>\n",
       "      <td>13933.0</td>\n",
       "      <td>1.0</td>\n",
       "      <td>90.0</td>\n",
       "      <td>2.0</td>\n",
       "      <td>574.0</td>\n",
       "      <td>558.0</td>\n",
       "    </tr>\n",
       "    <tr>\n",
       "      <th>3</th>\n",
       "      <td>0</td>\n",
       "      <td>64900000.0</td>\n",
       "      <td>159.0</td>\n",
       "      <td>2015-07-24T00:00:00</td>\n",
       "      <td>3</td>\n",
       "      <td>NaN</td>\n",
       "      <td>14.0</td>\n",
       "      <td>NaN</td>\n",
       "      <td>9</td>\n",
       "      <td>NaN</td>\n",
       "      <td>...</td>\n",
       "      <td>NaN</td>\n",
       "      <td>0.0</td>\n",
       "      <td>Санкт-Петербург</td>\n",
       "      <td>28098.0</td>\n",
       "      <td>6800.0</td>\n",
       "      <td>2.0</td>\n",
       "      <td>84.0</td>\n",
       "      <td>3.0</td>\n",
       "      <td>234.0</td>\n",
       "      <td>424.0</td>\n",
       "    </tr>\n",
       "    <tr>\n",
       "      <th>4</th>\n",
       "      <td>2</td>\n",
       "      <td>10000000.0</td>\n",
       "      <td>100.0</td>\n",
       "      <td>2018-06-19T00:00:00</td>\n",
       "      <td>2</td>\n",
       "      <td>3.03</td>\n",
       "      <td>14.0</td>\n",
       "      <td>32.0</td>\n",
       "      <td>13</td>\n",
       "      <td>NaN</td>\n",
       "      <td>...</td>\n",
       "      <td>41.0</td>\n",
       "      <td>NaN</td>\n",
       "      <td>Санкт-Петербург</td>\n",
       "      <td>31856.0</td>\n",
       "      <td>8098.0</td>\n",
       "      <td>2.0</td>\n",
       "      <td>112.0</td>\n",
       "      <td>1.0</td>\n",
       "      <td>48.0</td>\n",
       "      <td>121.0</td>\n",
       "    </tr>\n",
       "  </tbody>\n",
       "</table>\n",
       "<p>5 rows × 22 columns</p>\n",
       "</div>"
      ],
      "text/plain": [
       "   total_images  last_price  total_area first_day_exposition  rooms  \\\n",
       "0            20  13000000.0       108.0  2019-03-07T00:00:00      3   \n",
       "1             7   3350000.0        40.4  2018-12-04T00:00:00      1   \n",
       "2            10   5196000.0        56.0  2015-08-20T00:00:00      2   \n",
       "3             0  64900000.0       159.0  2015-07-24T00:00:00      3   \n",
       "4             2  10000000.0       100.0  2018-06-19T00:00:00      2   \n",
       "\n",
       "   ceiling_height  floors_total  living_area  floor is_apartment  ...  \\\n",
       "0            2.70          16.0         51.0      8          NaN  ...   \n",
       "1             NaN          11.0         18.6      1          NaN  ...   \n",
       "2             NaN           5.0         34.3      4          NaN  ...   \n",
       "3             NaN          14.0          NaN      9          NaN  ...   \n",
       "4            3.03          14.0         32.0     13          NaN  ...   \n",
       "\n",
       "   kitchen_area  balcony    locality_name  airports_nearest  \\\n",
       "0          25.0      NaN  Санкт-Петербург           18863.0   \n",
       "1          11.0      2.0   посёлок Шушары           12817.0   \n",
       "2           8.3      0.0  Санкт-Петербург           21741.0   \n",
       "3           NaN      0.0  Санкт-Петербург           28098.0   \n",
       "4          41.0      NaN  Санкт-Петербург           31856.0   \n",
       "\n",
       "  cityCenters_nearest  parks_around3000  parks_nearest  ponds_around3000  \\\n",
       "0             16028.0               1.0          482.0               2.0   \n",
       "1             18603.0               0.0            NaN               0.0   \n",
       "2             13933.0               1.0           90.0               2.0   \n",
       "3              6800.0               2.0           84.0               3.0   \n",
       "4              8098.0               2.0          112.0               1.0   \n",
       "\n",
       "   ponds_nearest  days_exposition  \n",
       "0          755.0              NaN  \n",
       "1            NaN             81.0  \n",
       "2          574.0            558.0  \n",
       "3          234.0            424.0  \n",
       "4           48.0            121.0  \n",
       "\n",
       "[5 rows x 22 columns]"
      ]
     },
     "execution_count": 2,
     "metadata": {},
     "output_type": "execute_result"
    }
   ],
   "source": [
    "df.head()"
   ]
  },
  {
   "cell_type": "code",
   "execution_count": 3,
   "metadata": {},
   "outputs": [
    {
     "name": "stdout",
     "output_type": "stream",
     "text": [
      "<class 'pandas.core.frame.DataFrame'>\n",
      "RangeIndex: 23699 entries, 0 to 23698\n",
      "Data columns (total 22 columns):\n",
      " #   Column                Non-Null Count  Dtype  \n",
      "---  ------                --------------  -----  \n",
      " 0   total_images          23699 non-null  int64  \n",
      " 1   last_price            23699 non-null  float64\n",
      " 2   total_area            23699 non-null  float64\n",
      " 3   first_day_exposition  23699 non-null  object \n",
      " 4   rooms                 23699 non-null  int64  \n",
      " 5   ceiling_height        14504 non-null  float64\n",
      " 6   floors_total          23613 non-null  float64\n",
      " 7   living_area           21796 non-null  float64\n",
      " 8   floor                 23699 non-null  int64  \n",
      " 9   is_apartment          2775 non-null   object \n",
      " 10  studio                23699 non-null  bool   \n",
      " 11  open_plan             23699 non-null  bool   \n",
      " 12  kitchen_area          21421 non-null  float64\n",
      " 13  balcony               12180 non-null  float64\n",
      " 14  locality_name         23650 non-null  object \n",
      " 15  airports_nearest      18157 non-null  float64\n",
      " 16  cityCenters_nearest   18180 non-null  float64\n",
      " 17  parks_around3000      18181 non-null  float64\n",
      " 18  parks_nearest         8079 non-null   float64\n",
      " 19  ponds_around3000      18181 non-null  float64\n",
      " 20  ponds_nearest         9110 non-null   float64\n",
      " 21  days_exposition       20518 non-null  float64\n",
      "dtypes: bool(2), float64(14), int64(3), object(3)\n",
      "memory usage: 3.7+ MB\n"
     ]
    }
   ],
   "source": [
    "df.info()"
   ]
  },
  {
   "cell_type": "code",
   "execution_count": 4,
   "metadata": {},
   "outputs": [
    {
     "data": {
      "text/plain": [
       "array([[<AxesSubplot:title={'center':'total_images'}>,\n",
       "        <AxesSubplot:title={'center':'last_price'}>,\n",
       "        <AxesSubplot:title={'center':'total_area'}>,\n",
       "        <AxesSubplot:title={'center':'rooms'}>],\n",
       "       [<AxesSubplot:title={'center':'ceiling_height'}>,\n",
       "        <AxesSubplot:title={'center':'floors_total'}>,\n",
       "        <AxesSubplot:title={'center':'living_area'}>,\n",
       "        <AxesSubplot:title={'center':'floor'}>],\n",
       "       [<AxesSubplot:title={'center':'kitchen_area'}>,\n",
       "        <AxesSubplot:title={'center':'balcony'}>,\n",
       "        <AxesSubplot:title={'center':'airports_nearest'}>,\n",
       "        <AxesSubplot:title={'center':'cityCenters_nearest'}>],\n",
       "       [<AxesSubplot:title={'center':'parks_around3000'}>,\n",
       "        <AxesSubplot:title={'center':'parks_nearest'}>,\n",
       "        <AxesSubplot:title={'center':'ponds_around3000'}>,\n",
       "        <AxesSubplot:title={'center':'ponds_nearest'}>],\n",
       "       [<AxesSubplot:title={'center':'days_exposition'}>, <AxesSubplot:>,\n",
       "        <AxesSubplot:>, <AxesSubplot:>]], dtype=object)"
      ]
     },
     "execution_count": 4,
     "metadata": {},
     "output_type": "execute_result"
    },
    {
     "data": {
      "image/png": "[encoded data removed]",
      "text/plain": [
       "<Figure size 1080x1440 with 20 Axes>"
      ]
     },
     "metadata": {
      "needs_background": "light"
     },
     "output_type": "display_data"
    }
   ],
   "source": [
    "df.hist(figsize=(15, 20))"
   ]
  },
  {
   "cell_type": "markdown",
   "metadata": {},
   "source": [
    "**Вывод**<br>\n",
    "После изучения общей информации о данных видно, что в датасете 23699 записей, есть пропуски, некорректные типы данных и выбросы значений"
   ]
  },
  {
   "cell_type": "markdown",
   "metadata": {
    "id": "-O5NtivEAwb9"
   },
   "source": [
    "### Выполните предобработку данных"
   ]
  },
  {
   "cell_type": "code",
   "execution_count": 5,
   "metadata": {},
   "outputs": [],
   "source": [
    "df.rename(columns={'cityCenters_nearest': 'city_centers_nearest'}, inplace=True)"
   ]
  },
  {
   "cell_type": "code",
   "execution_count": 6,
   "metadata": {
    "id": "7v3vAeTuAwb-"
   },
   "outputs": [
    {
     "data": {
      "text/plain": [
       "total_images                0\n",
       "last_price                  0\n",
       "total_area                  0\n",
       "first_day_exposition        0\n",
       "rooms                       0\n",
       "ceiling_height           9195\n",
       "floors_total               86\n",
       "living_area              1903\n",
       "floor                       0\n",
       "is_apartment            20924\n",
       "studio                      0\n",
       "open_plan                   0\n",
       "kitchen_area             2278\n",
       "balcony                 11519\n",
       "locality_name              49\n",
       "airports_nearest         5542\n",
       "city_centers_nearest     5519\n",
       "parks_around3000         5518\n",
       "parks_nearest           15620\n",
       "ponds_around3000         5518\n",
       "ponds_nearest           14589\n",
       "days_exposition          3181\n",
       "dtype: int64"
      ]
     },
     "execution_count": 6,
     "metadata": {},
     "output_type": "execute_result"
    }
   ],
   "source": [
    "df.isna().sum()"
   ]
  },
  {
   "cell_type": "code",
   "execution_count": 7,
   "metadata": {},
   "outputs": [
    {
     "data": {
      "text/plain": [
       "array([20,  7, 10,  0,  2,  6,  5, 18,  9,  1, 16, 11,  8, 12, 13,  3, 15,\n",
       "       17, 14, 19, 32,  4, 35, 39, 23, 21, 27, 30, 24, 25, 28, 31, 22, 29,\n",
       "       26, 50, 42, 37])"
      ]
     },
     "execution_count": 7,
     "metadata": {},
     "output_type": "execute_result"
    }
   ],
   "source": [
    "df['total_images'].unique()"
   ]
  },
  {
   "cell_type": "markdown",
   "metadata": {},
   "source": [
    "Значения от 0 до 50. Верхняя граница 50 выглядит как ограничение сервиса. Проблем не вижу."
   ]
  },
  {
   "cell_type": "code",
   "execution_count": 8,
   "metadata": {},
   "outputs": [
    {
     "data": {
      "text/plain": [
       "array([13000000.,  3350000.,  5196000., ...,  6151120., 21400000.,\n",
       "       11475000.])"
      ]
     },
     "execution_count": 8,
     "metadata": {},
     "output_type": "execute_result"
    }
   ],
   "source": [
    "df['last_price'].unique()"
   ]
  },
  {
   "cell_type": "code",
   "execution_count": 9,
   "metadata": {},
   "outputs": [],
   "source": [
    "df['last_price'] = df['last_price'].astype('int')"
   ]
  },
  {
   "cell_type": "code",
   "execution_count": 10,
   "metadata": {},
   "outputs": [
    {
     "data": {
      "text/plain": [
       "array([108.  ,  40.4 ,  56.  , ...,  66.86, 133.81,  76.75])"
      ]
     },
     "execution_count": 10,
     "metadata": {},
     "output_type": "execute_result"
    }
   ],
   "source": [
    "df['total_area'].unique()"
   ]
  },
  {
   "cell_type": "markdown",
   "metadata": {},
   "source": [
    "Округлим значения общей площади до целого."
   ]
  },
  {
   "cell_type": "code",
   "execution_count": 11,
   "metadata": {},
   "outputs": [],
   "source": [
    "df['total_area'] = df['total_area'].round().astype('int')"
   ]
  },
  {
   "cell_type": "code",
   "execution_count": 12,
   "metadata": {},
   "outputs": [
    {
     "data": {
      "text/plain": [
       "array(['2019-03-07T00:00:00', '2018-12-04T00:00:00',\n",
       "       '2015-08-20T00:00:00', ..., '2014-12-29T00:00:00',\n",
       "       '2016-09-12T00:00:00', '2015-07-19T00:00:00'], dtype=object)"
      ]
     },
     "execution_count": 12,
     "metadata": {},
     "output_type": "execute_result"
    }
   ],
   "source": [
    "df['first_day_exposition'].unique()"
   ]
  },
  {
   "cell_type": "markdown",
   "metadata": {},
   "source": [
    "Преобразуем тип данных в datetime."
   ]
  },
  {
   "cell_type": "code",
   "execution_count": 13,
   "metadata": {},
   "outputs": [
    {
     "data": {
      "text/plain": [
       "array(['2019-03-07T00:00:00.000000000', '2018-12-04T00:00:00.000000000',\n",
       "       '2015-08-20T00:00:00.000000000', ...,\n",
       "       '2014-12-29T00:00:00.000000000', '2016-09-12T00:00:00.000000000',\n",
       "       '2015-07-19T00:00:00.000000000'], dtype='datetime64[ns]')"
      ]
     },
     "execution_count": 13,
     "metadata": {},
     "output_type": "execute_result"
    }
   ],
   "source": [
    "df['first_day_exposition'] = pd.to_datetime(df['first_day_exposition'], format='%Y-%m-%dT%H:%M:%S')\n",
    "df['first_day_exposition'].unique()"
   ]
  },
  {
   "cell_type": "code",
   "execution_count": 14,
   "metadata": {},
   "outputs": [
    {
     "data": {
      "text/plain": [
       "array([ 3,  1,  2,  4,  5,  6,  0,  7, 11,  8, 14, 10, 15,  9, 19, 16, 12])"
      ]
     },
     "execution_count": 14,
     "metadata": {},
     "output_type": "execute_result"
    }
   ],
   "source": [
    "df['rooms'].unique()"
   ]
  },
  {
   "cell_type": "code",
   "execution_count": 15,
   "metadata": {},
   "outputs": [
    {
     "data": {
      "text/plain": [
       "array([  2.7 ,    nan,   3.03,   2.5 ,   2.67,   2.56,   3.05,   2.75,\n",
       "         2.6 ,   2.9 ,   2.8 ,   2.55,   3.  ,   2.65,   3.2 ,   2.61,\n",
       "         3.25,   3.45,   2.77,   2.85,   2.64,   2.57,   4.15,   3.5 ,\n",
       "         3.3 ,   2.71,   4.  ,   2.47,   2.73,   2.84,   3.1 ,   2.34,\n",
       "         3.4 ,   3.06,   2.72,   2.54,   2.51,   2.78,   2.76,  25.  ,\n",
       "         2.58,   3.7 ,   2.52,   5.2 ,   2.87,   2.66,   2.59,   2.  ,\n",
       "         2.45,   3.6 ,   2.92,   3.11,   3.13,   3.8 ,   3.15,   3.55,\n",
       "         3.16,   3.62,   3.12,   2.53,   2.74,   2.96,   2.46,   5.3 ,\n",
       "         5.  ,   2.79,   2.95,   4.06,   2.94,   3.82,   3.54,   3.53,\n",
       "         2.83,   4.7 ,   2.4 ,   3.38,   3.01,   5.6 ,   3.65,   3.9 ,\n",
       "         3.18,   3.35,   2.3 ,   3.57,   2.48,   2.62,   2.82,   3.98,\n",
       "         2.63,   3.83,   3.52,   3.95,   3.75,   2.88,   3.67,   3.87,\n",
       "         3.66,   3.85,   3.86,   4.19,   3.24,   4.8 ,   4.5 ,   4.2 ,\n",
       "         3.36,  32.  ,   3.08,   3.68,   3.07,   3.37,   3.09,   8.  ,\n",
       "         3.26,   3.34,   2.81,   3.44,   2.97,   3.14,   4.37,   2.68,\n",
       "         3.22,   3.27,  27.  ,   4.1 ,   2.93,   3.46,  24.  ,   3.47,\n",
       "         3.33,   3.63,   3.32,  26.  ,   1.2 ,   8.3 ,   2.98,   2.86,\n",
       "         3.17,   4.4 ,   3.28,   3.04,   4.45,   5.5 ,   3.84,   3.23,\n",
       "         3.02,   3.21,   3.43,   3.78,   4.3 ,   3.39,   2.69,   3.31,\n",
       "         4.65,   3.56,   2.2 ,   3.51,   3.93,   3.42,   2.99,   3.49,\n",
       "        14.  ,   4.14,   2.91,   3.88,   1.75,   4.25,   3.29,  20.  ,\n",
       "         2.25,   3.76,   3.69,   6.  ,  22.6 ,   2.89,   3.58,   5.8 ,\n",
       "        27.5 ,   2.49,   4.9 ,   3.48,  10.3 ,   1.  , 100.  ,   3.59])"
      ]
     },
     "execution_count": 15,
     "metadata": {},
     "output_type": "execute_result"
    }
   ],
   "source": [
    "df['ceiling_height'].unique()"
   ]
  },
  {
   "cell_type": "markdown",
   "metadata": {},
   "source": [
    "В столбце с высотой потолков есть пропуски. Можно удалить строки с пропущенным значением или заменить пропуски медианным значением.<br>\n",
    "Удаление строк приведет к петере около 40% данных, поэтому лучше заполнить пропуски медианами.<br>\n",
    "Наличие очевидной зависимости между высотой потолка и другими данными датасета для расчета медианного значения высоты потолка в соответствующей категории квартир я не увидел. Поэтому заполнять пропуски буду медианой по всему датасету. Для большей объективности, данный вопрос лучше уточнить у специалистов Яндекс.Недвижимость или соответствующего эксперта.<br>\n",
    "Также в данных присутствуют аномальные показатели - значения больше 20.0 выглядят странно. Обычно высота потолка состовляет 2.5-3 метра, в случае пентхауса умножаем эти значения на 2, но даже так получить 20 метров сложно.<br>\n",
    "Подозреваю, при вводе значений, пользователи неправильно поставили точку/запятую, отделяющую дробную часть от целой.<br>\n",
    "Сначала разделим аномальные значения на 10, а затем расчитаем медиану для замены пропусков."
   ]
  },
  {
   "cell_type": "code",
   "execution_count": 16,
   "metadata": {},
   "outputs": [],
   "source": [
    "df.loc[df['ceiling_height']>=20.0, 'ceiling_height'] = df['ceiling_height'] / 10"
   ]
  },
  {
   "cell_type": "code",
   "execution_count": 17,
   "metadata": {},
   "outputs": [],
   "source": [
    "df['ceiling_height'] = df['ceiling_height'].fillna(df['ceiling_height'].median())\n",
    "#df.loc[df['ceiling_height']>=20.0].sort_values(by='ceiling_height')"
   ]
  },
  {
   "cell_type": "markdown",
   "metadata": {},
   "source": [
    "В датасете есть незначительное количество пропусков в столбце с количеством этажей в доме. Посмотрим на связь данного значения с ценой."
   ]
  },
  {
   "cell_type": "code",
   "execution_count": 18,
   "metadata": {},
   "outputs": [
    {
     "data": {
      "text/plain": [
       "-0.006983534007227371"
      ]
     },
     "execution_count": 18,
     "metadata": {},
     "output_type": "execute_result"
    }
   ],
   "source": [
    "df['floors_total'].corr(df['last_price'])"
   ]
  },
  {
   "cell_type": "markdown",
   "metadata": {},
   "source": [
    "Связь незначительная (почти полностью отсутствует). <br>\n",
    "Ввиду малого кол-ва строк с пропусками, их можно удалить."
   ]
  },
  {
   "cell_type": "code",
   "execution_count": 19,
   "metadata": {},
   "outputs": [
    {
     "data": {
      "text/plain": [
       "total_images                0\n",
       "last_price                  0\n",
       "total_area                  0\n",
       "first_day_exposition        0\n",
       "rooms                       0\n",
       "ceiling_height              0\n",
       "floors_total                0\n",
       "living_area              1870\n",
       "floor                       0\n",
       "is_apartment            20838\n",
       "studio                      0\n",
       "open_plan                   0\n",
       "kitchen_area             2231\n",
       "balcony                 11480\n",
       "locality_name              48\n",
       "airports_nearest         5532\n",
       "city_centers_nearest     5509\n",
       "parks_around3000         5508\n",
       "parks_nearest           15568\n",
       "ponds_around3000         5508\n",
       "ponds_nearest           14552\n",
       "days_exposition          3172\n",
       "dtype: int64"
      ]
     },
     "execution_count": 19,
     "metadata": {},
     "output_type": "execute_result"
    }
   ],
   "source": [
    "df = df.dropna(subset = ['floors_total'])\n",
    "df.isna().sum()"
   ]
  },
  {
   "cell_type": "markdown",
   "metadata": {},
   "source": [
    "Пропуски в столбцах living_area заменить средним не получится, т.к. это один из основных параметров квартиры, который напрямую влияет на ее стоимость. Чтобы убедиться в этом предположении, посмотрим на коэффициент корреляции."
   ]
  },
  {
   "cell_type": "code",
   "execution_count": 20,
   "metadata": {},
   "outputs": [
    {
     "data": {
      "text/plain": [
       "0.5663955721081748"
      ]
     },
     "execution_count": 20,
     "metadata": {},
     "output_type": "execute_result"
    }
   ],
   "source": [
    "df['living_area'].corr(df['last_price'])"
   ]
  },
  {
   "cell_type": "markdown",
   "metadata": {},
   "source": [
    "Связь есть, но не сильная, т.к. на цену квартиры влияют и другие показатели."
   ]
  },
  {
   "cell_type": "code",
   "execution_count": 21,
   "metadata": {},
   "outputs": [
    {
     "name": "stdout",
     "output_type": "stream",
     "text": [
      "[ 8  1  4  9 13  5  6 22 26  7  3  2 11 15 18 10 19 16 20 27 25 17 14 12\n",
      " 21 28 24 23 30 29 32 33 31]\n"
     ]
    },
    {
     "data": {
      "text/plain": [
       "count    23613.000000\n",
       "mean         5.877313\n",
       "std          4.873539\n",
       "min          1.000000\n",
       "25%          2.000000\n",
       "50%          4.000000\n",
       "75%          8.000000\n",
       "max         33.000000\n",
       "Name: floor, dtype: float64"
      ]
     },
     "execution_count": 21,
     "metadata": {},
     "output_type": "execute_result"
    }
   ],
   "source": [
    "print(df['floor'].unique())\n",
    "df['floor'].describe()"
   ]
  },
  {
   "cell_type": "markdown",
   "metadata": {},
   "source": [
    "Пропусков и аномальных значений не вижу, проблем нет."
   ]
  },
  {
   "cell_type": "code",
   "execution_count": 22,
   "metadata": {},
   "outputs": [
    {
     "data": {
      "text/plain": [
       "array([nan, False, True], dtype=object)"
      ]
     },
     "execution_count": 22,
     "metadata": {},
     "output_type": "execute_result"
    }
   ],
   "source": [
    "df['is_apartment'].unique()"
   ]
  },
  {
   "cell_type": "markdown",
   "metadata": {},
   "source": [
    "Вероятно, пропущенные значения связаны с тем, что пользователи не заполняли данное поле, если квартира НЕ является апартаментами."
   ]
  },
  {
   "cell_type": "code",
   "execution_count": 23,
   "metadata": {},
   "outputs": [
    {
     "name": "stderr",
     "output_type": "stream",
     "text": [
      "/tmp/ipykernel_87/2012338393.py:1: SettingWithCopyWarning: \n",
      "A value is trying to be set on a copy of a slice from a DataFrame.\n",
      "Try using .loc[row_indexer,col_indexer] = value instead\n",
      "\n",
      "See the caveats in the documentation: https://pandas.pydata.org/pandas-docs/stable/user_guide/indexing.html#returning-a-view-versus-a-copy\n",
      "  df['is_apartment'] = df['is_apartment'].fillna(False)\n"
     ]
    },
    {
     "data": {
      "text/plain": [
       "array([False,  True])"
      ]
     },
     "execution_count": 23,
     "metadata": {},
     "output_type": "execute_result"
    }
   ],
   "source": [
    "df['is_apartment'] = df['is_apartment'].fillna(False)\n",
    "df['is_apartment'].unique()"
   ]
  },
  {
   "cell_type": "code",
   "execution_count": 24,
   "metadata": {},
   "outputs": [
    {
     "data": {
      "text/plain": [
       "0.5769230769230769"
      ]
     },
     "execution_count": 24,
     "metadata": {},
     "output_type": "execute_result"
    }
   ],
   "source": [
    "living_area_coef = df['living_area'].median() / df['total_area'].median()\n",
    "living_area_coef"
   ]
  },
  {
   "cell_type": "code",
   "execution_count": 25,
   "metadata": {},
   "outputs": [
    {
     "name": "stderr",
     "output_type": "stream",
     "text": [
      "/tmp/ipykernel_87/2508399345.py:1: SettingWithCopyWarning: \n",
      "A value is trying to be set on a copy of a slice from a DataFrame.\n",
      "Try using .loc[row_indexer,col_indexer] = value instead\n",
      "\n",
      "See the caveats in the documentation: https://pandas.pydata.org/pandas-docs/stable/user_guide/indexing.html#returning-a-view-versus-a-copy\n",
      "  df['living_area'] = df['living_area'].fillna(df['total_area'] * living_area_coef)\n"
     ]
    },
    {
     "data": {
      "text/plain": [
       "0"
      ]
     },
     "execution_count": 25,
     "metadata": {},
     "output_type": "execute_result"
    }
   ],
   "source": [
    "df['living_area'] = df['living_area'].fillna(df['total_area'] * living_area_coef)\n",
    "df['living_area'].isna().sum()"
   ]
  },
  {
   "cell_type": "code",
   "execution_count": 26,
   "metadata": {},
   "outputs": [
    {
     "data": {
      "text/plain": [
       "0.175"
      ]
     },
     "execution_count": 26,
     "metadata": {},
     "output_type": "execute_result"
    }
   ],
   "source": [
    "kitchen_area_coef = df['kitchen_area'].median() / df['total_area'].median()\n",
    "kitchen_area_coef"
   ]
  },
  {
   "cell_type": "code",
   "execution_count": 27,
   "metadata": {},
   "outputs": [
    {
     "name": "stderr",
     "output_type": "stream",
     "text": [
      "/tmp/ipykernel_87/1546530285.py:1: SettingWithCopyWarning: \n",
      "A value is trying to be set on a copy of a slice from a DataFrame.\n",
      "Try using .loc[row_indexer,col_indexer] = value instead\n",
      "\n",
      "See the caveats in the documentation: https://pandas.pydata.org/pandas-docs/stable/user_guide/indexing.html#returning-a-view-versus-a-copy\n",
      "  df['kitchen_area'] = df['kitchen_area'].fillna(df['total_area'] * kitchen_area_coef)\n"
     ]
    },
    {
     "data": {
      "text/plain": [
       "0"
      ]
     },
     "execution_count": 27,
     "metadata": {},
     "output_type": "execute_result"
    }
   ],
   "source": [
    "df['kitchen_area'] = df['kitchen_area'].fillna(df['total_area'] * kitchen_area_coef)\n",
    "df['kitchen_area'].isna().sum()"
   ]
  },
  {
   "cell_type": "code",
   "execution_count": null,
   "metadata": {},
   "outputs": [],
   "source": []
  },
  {
   "cell_type": "code",
   "execution_count": 28,
   "metadata": {},
   "outputs": [
    {
     "data": {
      "text/plain": [
       "array([nan,  2.,  0.,  1.,  5.,  4.,  3.])"
      ]
     },
     "execution_count": 28,
     "metadata": {},
     "output_type": "execute_result"
    }
   ],
   "source": [
    "df['balcony'].unique()"
   ]
  },
  {
   "cell_type": "code",
   "execution_count": 29,
   "metadata": {},
   "outputs": [
    {
     "name": "stderr",
     "output_type": "stream",
     "text": [
      "/tmp/ipykernel_87/3714471029.py:1: SettingWithCopyWarning: \n",
      "A value is trying to be set on a copy of a slice from a DataFrame.\n",
      "Try using .loc[row_indexer,col_indexer] = value instead\n",
      "\n",
      "See the caveats in the documentation: https://pandas.pydata.org/pandas-docs/stable/user_guide/indexing.html#returning-a-view-versus-a-copy\n",
      "  df['balcony'] = df['balcony'].fillna(0)\n",
      "/tmp/ipykernel_87/3714471029.py:2: SettingWithCopyWarning: \n",
      "A value is trying to be set on a copy of a slice from a DataFrame.\n",
      "Try using .loc[row_indexer,col_indexer] = value instead\n",
      "\n",
      "See the caveats in the documentation: https://pandas.pydata.org/pandas-docs/stable/user_guide/indexing.html#returning-a-view-versus-a-copy\n",
      "  df['balcony'] = df['balcony'].astype('int')\n"
     ]
    },
    {
     "data": {
      "text/plain": [
       "count    23613.000000\n",
       "mean         0.593063\n",
       "std          0.960307\n",
       "min          0.000000\n",
       "25%          0.000000\n",
       "50%          0.000000\n",
       "75%          1.000000\n",
       "max          5.000000\n",
       "Name: balcony, dtype: float64"
      ]
     },
     "execution_count": 29,
     "metadata": {},
     "output_type": "execute_result"
    }
   ],
   "source": [
    "df['balcony'] = df['balcony'].fillna(0)\n",
    "df['balcony'] = df['balcony'].astype('int')\n",
    "df['balcony'].describe()"
   ]
  },
  {
   "cell_type": "code",
   "execution_count": 30,
   "metadata": {},
   "outputs": [
    {
     "data": {
      "text/plain": [
       "array(['Санкт-Петербург', 'посёлок Шушары', 'городской посёлок Янино-1',\n",
       "       'посёлок Парголово', 'посёлок Мурино', 'Ломоносов', 'Сертолово',\n",
       "       'Петергоф', 'Пушкин', 'деревня Кудрово', 'Коммунар', 'Колпино',\n",
       "       'поселок городского типа Красный Бор', 'Гатчина', 'поселок Мурино',\n",
       "       'деревня Фёдоровское', 'Выборг', 'Кронштадт', 'Кировск',\n",
       "       'деревня Новое Девяткино', 'посёлок Металлострой',\n",
       "       'посёлок городского типа Лебяжье',\n",
       "       'посёлок городского типа Сиверский', 'поселок Молодцово',\n",
       "       'поселок городского типа Кузьмоловский',\n",
       "       'садовое товарищество Новая Ропша', 'Павловск',\n",
       "       'деревня Пикколово', 'Всеволожск', 'Волхов', 'Кингисепп',\n",
       "       'Приозерск', 'Сестрорецк', 'деревня Куттузи', 'посёлок Аннино',\n",
       "       'поселок городского типа Ефимовский', 'посёлок Плодовое',\n",
       "       'деревня Заклинье', 'поселок Торковичи', 'поселок Первомайское',\n",
       "       'Красное Село', 'посёлок Понтонный', 'Сясьстрой', 'деревня Старая',\n",
       "       'деревня Лесколово', 'посёлок Новый Свет', 'Сланцы',\n",
       "       'село Путилово', 'Ивангород', 'Мурино', 'Шлиссельбург',\n",
       "       'Никольское', 'Зеленогорск', 'Сосновый Бор', 'поселок Новый Свет',\n",
       "       'деревня Оржицы', 'деревня Кальтино', 'Кудрово',\n",
       "       'поселок Романовка', 'посёлок Бугры', 'поселок Бугры',\n",
       "       'поселок городского типа Рощино', 'Кириши', 'Луга', 'Волосово',\n",
       "       'Отрадное', 'село Павлово', 'поселок Оредеж', 'село Копорье',\n",
       "       'посёлок городского типа Красный Бор', 'посёлок Молодёжное',\n",
       "       'Тихвин', 'посёлок Победа', 'деревня Нурма',\n",
       "       'поселок городского типа Синявино', 'Тосно',\n",
       "       'посёлок городского типа Кузьмоловский', 'посёлок Стрельна',\n",
       "       'Бокситогорск', 'посёлок Александровская', 'деревня Лопухинка',\n",
       "       'Пикалёво', 'поселок Терволово',\n",
       "       'поселок городского типа Советский', 'Подпорожье',\n",
       "       'посёлок Петровское', 'посёлок городского типа Токсово',\n",
       "       'поселок Сельцо', 'посёлок городского типа Вырица',\n",
       "       'деревня Кипень', 'деревня Келози', 'деревня Вартемяги',\n",
       "       'посёлок Тельмана', 'поселок Севастьяново',\n",
       "       'городской поселок Большая Ижора', nan,\n",
       "       'городской посёлок Павлово', 'деревня Агалатово',\n",
       "       'посёлок Новогорелово', 'городской посёлок Лесогорский',\n",
       "       'деревня Лаголово', 'поселок Цвелодубово',\n",
       "       'поселок городского типа Рахья', 'поселок городского типа Вырица',\n",
       "       'деревня Белогорка', 'поселок Заводской',\n",
       "       'городской посёлок Новоселье', 'деревня Большие Колпаны',\n",
       "       'деревня Горбунки', 'деревня Батово', 'деревня Заневка',\n",
       "       'деревня Иссад', 'Приморск', 'городской посёлок Фёдоровское',\n",
       "       'деревня Мистолово', 'Новая Ладога', 'поселок Зимитицы',\n",
       "       'поселок Барышево', 'деревня Разметелево',\n",
       "       'поселок городского типа имени Свердлова', 'деревня Пеники',\n",
       "       'поселок Рябово', 'деревня Пудомяги', 'поселок станции Корнево',\n",
       "       'деревня Низино', 'деревня Бегуницы', 'посёлок Поляны',\n",
       "       'городской посёлок Мга', 'поселок Елизаветино',\n",
       "       'посёлок городского типа Кузнечное', 'деревня Колтуши',\n",
       "       'поселок Запорожское', 'посёлок городского типа Рощино',\n",
       "       'деревня Гостилицы', 'деревня Малое Карлино',\n",
       "       'посёлок Мичуринское', 'посёлок городского типа имени Морозова',\n",
       "       'посёлок Песочный', 'посёлок Сосново', 'деревня Аро',\n",
       "       'поселок Ильичёво', 'посёлок городского типа Тайцы',\n",
       "       'деревня Малое Верево', 'деревня Извара', 'поселок станции Вещево',\n",
       "       'село Паша', 'деревня Калитино',\n",
       "       'посёлок городского типа Ульяновка', 'деревня Чудской Бор',\n",
       "       'поселок городского типа Дубровка', 'деревня Мины',\n",
       "       'поселок Войсковицы', 'посёлок городского типа имени Свердлова',\n",
       "       'деревня Коркино', 'посёлок Ропша',\n",
       "       'поселок городского типа Приладожский', 'посёлок Щеглово',\n",
       "       'посёлок Гаврилово', 'Лодейное Поле', 'деревня Рабитицы',\n",
       "       'поселок городского типа Никольский', 'деревня Кузьмолово',\n",
       "       'деревня Малые Колпаны', 'поселок Тельмана',\n",
       "       'посёлок Петро-Славянка', 'городской посёлок Назия',\n",
       "       'посёлок Репино', 'посёлок Ильичёво', 'поселок Углово',\n",
       "       'поселок Старая Малукса', 'садовое товарищество Рахья',\n",
       "       'поселок Аннино', 'поселок Победа', 'деревня Меньково',\n",
       "       'деревня Старые Бегуницы', 'посёлок Сапёрный', 'поселок Семрино',\n",
       "       'поселок Гаврилово', 'поселок Глажево', 'поселок Кобринское',\n",
       "       'деревня Гарболово', 'деревня Юкки',\n",
       "       'поселок станции Приветнинское', 'деревня Мануйлово',\n",
       "       'деревня Пчева', 'поселок Поляны', 'поселок Цвылёво',\n",
       "       'поселок Мельниково', 'посёлок Пудость', 'посёлок Усть-Луга',\n",
       "       'Светогорск', 'Любань', 'поселок Селезнёво',\n",
       "       'поселок городского типа Рябово', 'Каменногорск', 'деревня Кривко',\n",
       "       'поселок Глебычево', 'деревня Парицы', 'поселок Жилпосёлок',\n",
       "       'посёлок городского типа Мга', 'городской поселок Янино-1',\n",
       "       'посёлок Войскорово', 'село Никольское', 'посёлок Терволово',\n",
       "       'поселок Стеклянный', 'посёлок городского типа Важины',\n",
       "       'посёлок Мыза-Ивановка', 'село Русско-Высоцкое',\n",
       "       'поселок городского типа Лебяжье',\n",
       "       'поселок городского типа Форносово', 'село Старая Ладога',\n",
       "       'поселок Житково', 'городской посёлок Виллози', 'деревня Лампово',\n",
       "       'деревня Шпаньково', 'деревня Лаврики', 'посёлок Сумино',\n",
       "       'посёлок Возрождение', 'деревня Старосиверская',\n",
       "       'посёлок Кикерино', 'поселок Возрождение',\n",
       "       'деревня Старое Хинколово', 'посёлок Пригородный',\n",
       "       'посёлок Торфяное', 'городской посёлок Будогощь',\n",
       "       'поселок Суходолье', 'поселок Красная Долина', 'деревня Хапо-Ое',\n",
       "       'поселок городского типа Дружная Горка', 'поселок Лисий Нос',\n",
       "       'деревня Яльгелево', 'посёлок Стеклянный', 'село Рождествено',\n",
       "       'деревня Старополье', 'посёлок Левашово', 'деревня Сяськелево',\n",
       "       'деревня Камышовка',\n",
       "       'садоводческое некоммерческое товарищество Лесная Поляна',\n",
       "       'деревня Хязельки', 'поселок Жилгородок',\n",
       "       'посёлок городского типа Павлово', 'деревня Ялгино',\n",
       "       'поселок Новый Учхоз', 'городской посёлок Рощино',\n",
       "       'поселок Гончарово', 'поселок Почап', 'посёлок Сапёрное',\n",
       "       'посёлок Платформа 69-й километр', 'поселок Каложицы',\n",
       "       'деревня Фалилеево', 'деревня Пельгора',\n",
       "       'поселок городского типа Лесогорский', 'деревня Торошковичи',\n",
       "       'посёлок Белоостров', 'посёлок Алексеевка', 'поселок Серебрянский',\n",
       "       'поселок Лукаши', 'поселок Петровское', 'деревня Щеглово',\n",
       "       'поселок Мичуринское', 'деревня Тарасово', 'поселок Кингисеппский',\n",
       "       'посёлок при железнодорожной станции Вещево', 'поселок Ушаки',\n",
       "       'деревня Котлы', 'деревня Сижно', 'деревня Торосово',\n",
       "       'посёлок Форт Красная Горка', 'деревня Новолисино',\n",
       "       'посёлок станции Громово', 'деревня Глинка', 'посёлок Мельниково',\n",
       "       'поселок городского типа Назия', 'деревня Старая Пустошь',\n",
       "       'поселок Коммунары', 'поселок Починок',\n",
       "       'посёлок городского типа Вознесенье', 'деревня Разбегаево',\n",
       "       'посёлок городского типа Рябово', 'поселок Гладкое',\n",
       "       'посёлок при железнодорожной станции Приветнинское',\n",
       "       'поселок Тёсово-4', 'посёлок Жилгородок', 'деревня Бор',\n",
       "       'посёлок Коробицыно', 'деревня Большая Вруда', 'деревня Курковицы',\n",
       "       'посёлок Лисий Нос', 'городской посёлок Советский',\n",
       "       'посёлок Кобралово', 'деревня Суоранда', 'поселок Кобралово',\n",
       "       'поселок городского типа Кондратьево',\n",
       "       'коттеджный поселок Счастье', 'поселок Любань', 'деревня Реброво',\n",
       "       'деревня Зимитицы', 'деревня Тойворово', 'поселок Семиозерье',\n",
       "       'поселок Лесное', 'поселок Совхозный', 'поселок Усть-Луга',\n",
       "       'посёлок Ленинское', 'посёлок Суйда',\n",
       "       'посёлок городского типа Форносово', 'деревня Нижние Осельки',\n",
       "       'посёлок станции Свирь', 'поселок Перово', 'Высоцк',\n",
       "       'поселок Гарболово', 'село Шум', 'поселок Котельский',\n",
       "       'поселок станции Лужайка', 'деревня Большая Пустомержа',\n",
       "       'поселок Красносельское', 'деревня Вахнова Кара', 'деревня Пижма',\n",
       "       'коттеджный поселок Кивеннапа Север', 'поселок Коробицыно',\n",
       "       'поселок Ромашки', 'посёлок Перово', 'деревня Каськово',\n",
       "       'деревня Куровицы', 'посёлок Плоское', 'поселок Сумино',\n",
       "       'поселок городского типа Большая Ижора', 'поселок Кирпичное',\n",
       "       'деревня Ям-Тесово', 'деревня Раздолье', 'деревня Терпилицы',\n",
       "       'поселок городского типа Токсово', 'посёлок Шугозеро',\n",
       "       'деревня Ваганово', 'поселок Пушное', 'садовое товарищество Садко',\n",
       "       'посёлок Усть-Ижора', 'деревня Выскатка',\n",
       "       'городской посёлок Свирьстрой', 'поселок Громово',\n",
       "       'деревня Кисельня', 'посёлок Старая Малукса',\n",
       "       'деревня Трубников Бор', 'поселок Калитино',\n",
       "       'посёлок Высокоключевой', 'садовое товарищество Приладожский',\n",
       "       'посёлок Пансионат Зелёный Бор', 'деревня Ненимяки',\n",
       "       'поселок Пансионат Зелёный Бор', 'деревня Снегирёвка',\n",
       "       'деревня Рапполово', 'деревня Пустынка', 'поселок Рабитицы',\n",
       "       'деревня Большой Сабск', 'деревня Русско', 'деревня Лупполово',\n",
       "       'деревня Большое Рейзино', 'деревня Малая Романовка',\n",
       "       'поселок Дружноселье', 'поселок Пчевжа', 'поселок Володарское',\n",
       "       'деревня Нижняя', 'коттеджный посёлок Лесное', 'деревня Тихковицы',\n",
       "       'деревня Борисова Грива', 'посёлок Дзержинского'], dtype=object)"
      ]
     },
     "execution_count": 30,
     "metadata": {},
     "output_type": "execute_result"
    }
   ],
   "source": [
    "df['locality_name'].unique()"
   ]
  },
  {
   "cell_type": "code",
   "execution_count": 31,
   "metadata": {},
   "outputs": [
    {
     "name": "stderr",
     "output_type": "stream",
     "text": [
      "/tmp/ipykernel_87/3531314875.py:1: SettingWithCopyWarning: \n",
      "A value is trying to be set on a copy of a slice from a DataFrame.\n",
      "Try using .loc[row_indexer,col_indexer] = value instead\n",
      "\n",
      "See the caveats in the documentation: https://pandas.pydata.org/pandas-docs/stable/user_guide/indexing.html#returning-a-view-versus-a-copy\n",
      "  df['locality_name'] = df['locality_name'].str.lower()\n",
      "/tmp/ipykernel_87/3531314875.py:2: SettingWithCopyWarning: \n",
      "A value is trying to be set on a copy of a slice from a DataFrame.\n",
      "Try using .loc[row_indexer,col_indexer] = value instead\n",
      "\n",
      "See the caveats in the documentation: https://pandas.pydata.org/pandas-docs/stable/user_guide/indexing.html#returning-a-view-versus-a-copy\n",
      "  df['locality_name'] = df['locality_name'].str.replace('ё', 'е')\n",
      "/tmp/ipykernel_87/3531314875.py:3: SettingWithCopyWarning: \n",
      "A value is trying to be set on a copy of a slice from a DataFrame.\n",
      "Try using .loc[row_indexer,col_indexer] = value instead\n",
      "\n",
      "See the caveats in the documentation: https://pandas.pydata.org/pandas-docs/stable/user_guide/indexing.html#returning-a-view-versus-a-copy\n",
      "  df['locality_name'] = df['locality_name'].replace(['садоводческое некоммерческое товарищество ', 'поселок городского типа ',\n"
     ]
    }
   ],
   "source": [
    "df['locality_name'] = df['locality_name'].str.lower()\n",
    "df['locality_name'] = df['locality_name'].str.replace('ё', 'е')\n",
    "df['locality_name'] = df['locality_name'].replace(['садоводческое некоммерческое товарищество ', 'поселок городского типа ',\n",
    "                                                   'городской поселок ', 'садовое товарищество ', 'коттеджный поселок ', 'поселок ', \n",
    "                                                   'деревня ', 'село ', 'пансионат ', 'имени'], '', regex=True)"
   ]
  },
  {
   "cell_type": "code",
   "execution_count": 32,
   "metadata": {},
   "outputs": [
    {
     "data": {
      "text/plain": [
       "total_images                0\n",
       "last_price                  0\n",
       "total_area                  0\n",
       "first_day_exposition        0\n",
       "rooms                       0\n",
       "ceiling_height              0\n",
       "floors_total                0\n",
       "living_area                 0\n",
       "floor                       0\n",
       "is_apartment                0\n",
       "studio                      0\n",
       "open_plan                   0\n",
       "kitchen_area                0\n",
       "balcony                     0\n",
       "locality_name               0\n",
       "airports_nearest         5524\n",
       "city_centers_nearest     5501\n",
       "parks_around3000         5500\n",
       "parks_nearest           15535\n",
       "ponds_around3000         5500\n",
       "ponds_nearest           14529\n",
       "days_exposition          3171\n",
       "dtype: int64"
      ]
     },
     "execution_count": 32,
     "metadata": {},
     "output_type": "execute_result"
    }
   ],
   "source": [
    "df = df.dropna(subset = ['locality_name'])\n",
    "df.isna().sum()"
   ]
  },
  {
   "cell_type": "code",
   "execution_count": 33,
   "metadata": {},
   "outputs": [
    {
     "data": {
      "text/plain": [
       "0"
      ]
     },
     "execution_count": 33,
     "metadata": {},
     "output_type": "execute_result"
    }
   ],
   "source": [
    "df['locality_name'].isna().sum()"
   ]
  },
  {
   "cell_type": "markdown",
   "metadata": {},
   "source": [
    "Ситуация с airports_nearest, city_centers_nearest, parks_nearest, parks_around3000, ponds_nearest, ponds_around3000 схожая - если не указано, значит, соответствующих объектов рядом нет. Пропущенные значения в переменных, определяющих количесвто, заменю нулями, а расстояние оставлю без изменений.<br>\n",
    "parks_around3000, ponds_around3000 приведу к целочисленному типу."
   ]
  },
  {
   "cell_type": "code",
   "execution_count": 34,
   "metadata": {},
   "outputs": [
    {
     "data": {
      "text/plain": [
       "count    20394.000000\n",
       "mean       180.741395\n",
       "std        219.732782\n",
       "min          1.000000\n",
       "25%         45.000000\n",
       "50%         95.000000\n",
       "75%        231.000000\n",
       "max       1580.000000\n",
       "Name: days_exposition, dtype: float64"
      ]
     },
     "execution_count": 34,
     "metadata": {},
     "output_type": "execute_result"
    }
   ],
   "source": [
    "df['days_exposition'].describe()"
   ]
  },
  {
   "cell_type": "markdown",
   "metadata": {},
   "source": [
    "Пропуски могут быть связаны с тем, что недвижимость еще не снята с продажи. Но лучше этот момент уточнить у специалистов Яндекс.Недвижимость. Оставляю столбец без изменений."
   ]
  },
  {
   "cell_type": "markdown",
   "metadata": {},
   "source": [
    "**Вывод**<br>\n",
    "В результате, на этапе предобработки были заполнены пропуски в данных там, где это возможно; исправлены некорректные типы данных; названия столбцов приведены к одному стилю."
   ]
  },
  {
   "cell_type": "markdown",
   "metadata": {
    "id": "QCcvyY6YAwb-"
   },
   "source": [
    "### Добавьте в таблицу новые столбцы"
   ]
  },
  {
   "cell_type": "code",
   "execution_count": 35,
   "metadata": {
    "id": "Z8eJek3IAwb-"
   },
   "outputs": [
    {
     "data": {
      "text/html": [
       "<div>\n",
       "<style scoped>\n",
       "    .dataframe tbody tr th:only-of-type {\n",
       "        vertical-align: middle;\n",
       "    }\n",
       "\n",
       "    .dataframe tbody tr th {\n",
       "        vertical-align: top;\n",
       "    }\n",
       "\n",
       "    .dataframe thead th {\n",
       "        text-align: right;\n",
       "    }\n",
       "</style>\n",
       "<table border=\"1\" class=\"dataframe\">\n",
       "  <thead>\n",
       "    <tr style=\"text-align: right;\">\n",
       "      <th></th>\n",
       "      <th>total_images</th>\n",
       "      <th>last_price</th>\n",
       "      <th>total_area</th>\n",
       "      <th>first_day_exposition</th>\n",
       "      <th>rooms</th>\n",
       "      <th>ceiling_height</th>\n",
       "      <th>floors_total</th>\n",
       "      <th>living_area</th>\n",
       "      <th>floor</th>\n",
       "      <th>is_apartment</th>\n",
       "      <th>...</th>\n",
       "      <th>balcony</th>\n",
       "      <th>locality_name</th>\n",
       "      <th>airports_nearest</th>\n",
       "      <th>city_centers_nearest</th>\n",
       "      <th>parks_around3000</th>\n",
       "      <th>parks_nearest</th>\n",
       "      <th>ponds_around3000</th>\n",
       "      <th>ponds_nearest</th>\n",
       "      <th>days_exposition</th>\n",
       "      <th>price_meter</th>\n",
       "    </tr>\n",
       "  </thead>\n",
       "  <tbody>\n",
       "    <tr>\n",
       "      <th>0</th>\n",
       "      <td>20</td>\n",
       "      <td>13000000</td>\n",
       "      <td>108</td>\n",
       "      <td>2019-03-07</td>\n",
       "      <td>3</td>\n",
       "      <td>2.70</td>\n",
       "      <td>16.0</td>\n",
       "      <td>51.000000</td>\n",
       "      <td>8</td>\n",
       "      <td>False</td>\n",
       "      <td>...</td>\n",
       "      <td>0</td>\n",
       "      <td>санкт-петербург</td>\n",
       "      <td>18863.0</td>\n",
       "      <td>16028.0</td>\n",
       "      <td>1.0</td>\n",
       "      <td>482.0</td>\n",
       "      <td>2.0</td>\n",
       "      <td>755.0</td>\n",
       "      <td>NaN</td>\n",
       "      <td>120370.37</td>\n",
       "    </tr>\n",
       "    <tr>\n",
       "      <th>1</th>\n",
       "      <td>7</td>\n",
       "      <td>3350000</td>\n",
       "      <td>40</td>\n",
       "      <td>2018-12-04</td>\n",
       "      <td>1</td>\n",
       "      <td>2.65</td>\n",
       "      <td>11.0</td>\n",
       "      <td>18.600000</td>\n",
       "      <td>1</td>\n",
       "      <td>False</td>\n",
       "      <td>...</td>\n",
       "      <td>2</td>\n",
       "      <td>шушары</td>\n",
       "      <td>12817.0</td>\n",
       "      <td>18603.0</td>\n",
       "      <td>0.0</td>\n",
       "      <td>NaN</td>\n",
       "      <td>0.0</td>\n",
       "      <td>NaN</td>\n",
       "      <td>81.0</td>\n",
       "      <td>83750.00</td>\n",
       "    </tr>\n",
       "    <tr>\n",
       "      <th>2</th>\n",
       "      <td>10</td>\n",
       "      <td>5196000</td>\n",
       "      <td>56</td>\n",
       "      <td>2015-08-20</td>\n",
       "      <td>2</td>\n",
       "      <td>2.65</td>\n",
       "      <td>5.0</td>\n",
       "      <td>34.300000</td>\n",
       "      <td>4</td>\n",
       "      <td>False</td>\n",
       "      <td>...</td>\n",
       "      <td>0</td>\n",
       "      <td>санкт-петербург</td>\n",
       "      <td>21741.0</td>\n",
       "      <td>13933.0</td>\n",
       "      <td>1.0</td>\n",
       "      <td>90.0</td>\n",
       "      <td>2.0</td>\n",
       "      <td>574.0</td>\n",
       "      <td>558.0</td>\n",
       "      <td>92785.71</td>\n",
       "    </tr>\n",
       "    <tr>\n",
       "      <th>3</th>\n",
       "      <td>0</td>\n",
       "      <td>64900000</td>\n",
       "      <td>159</td>\n",
       "      <td>2015-07-24</td>\n",
       "      <td>3</td>\n",
       "      <td>2.65</td>\n",
       "      <td>14.0</td>\n",
       "      <td>91.730769</td>\n",
       "      <td>9</td>\n",
       "      <td>False</td>\n",
       "      <td>...</td>\n",
       "      <td>0</td>\n",
       "      <td>санкт-петербург</td>\n",
       "      <td>28098.0</td>\n",
       "      <td>6800.0</td>\n",
       "      <td>2.0</td>\n",
       "      <td>84.0</td>\n",
       "      <td>3.0</td>\n",
       "      <td>234.0</td>\n",
       "      <td>424.0</td>\n",
       "      <td>408176.10</td>\n",
       "    </tr>\n",
       "    <tr>\n",
       "      <th>4</th>\n",
       "      <td>2</td>\n",
       "      <td>10000000</td>\n",
       "      <td>100</td>\n",
       "      <td>2018-06-19</td>\n",
       "      <td>2</td>\n",
       "      <td>3.03</td>\n",
       "      <td>14.0</td>\n",
       "      <td>32.000000</td>\n",
       "      <td>13</td>\n",
       "      <td>False</td>\n",
       "      <td>...</td>\n",
       "      <td>0</td>\n",
       "      <td>санкт-петербург</td>\n",
       "      <td>31856.0</td>\n",
       "      <td>8098.0</td>\n",
       "      <td>2.0</td>\n",
       "      <td>112.0</td>\n",
       "      <td>1.0</td>\n",
       "      <td>48.0</td>\n",
       "      <td>121.0</td>\n",
       "      <td>100000.00</td>\n",
       "    </tr>\n",
       "  </tbody>\n",
       "</table>\n",
       "<p>5 rows × 23 columns</p>\n",
       "</div>"
      ],
      "text/plain": [
       "   total_images  last_price  total_area first_day_exposition  rooms  \\\n",
       "0            20    13000000         108           2019-03-07      3   \n",
       "1             7     3350000          40           2018-12-04      1   \n",
       "2            10     5196000          56           2015-08-20      2   \n",
       "3             0    64900000         159           2015-07-24      3   \n",
       "4             2    10000000         100           2018-06-19      2   \n",
       "\n",
       "   ceiling_height  floors_total  living_area  floor  is_apartment  ...  \\\n",
       "0            2.70          16.0    51.000000      8         False  ...   \n",
       "1            2.65          11.0    18.600000      1         False  ...   \n",
       "2            2.65           5.0    34.300000      4         False  ...   \n",
       "3            2.65          14.0    91.730769      9         False  ...   \n",
       "4            3.03          14.0    32.000000     13         False  ...   \n",
       "\n",
       "   balcony    locality_name  airports_nearest  city_centers_nearest  \\\n",
       "0        0  санкт-петербург           18863.0               16028.0   \n",
       "1        2           шушары           12817.0               18603.0   \n",
       "2        0  санкт-петербург           21741.0               13933.0   \n",
       "3        0  санкт-петербург           28098.0                6800.0   \n",
       "4        0  санкт-петербург           31856.0                8098.0   \n",
       "\n",
       "  parks_around3000  parks_nearest  ponds_around3000  ponds_nearest  \\\n",
       "0              1.0          482.0               2.0          755.0   \n",
       "1              0.0            NaN               0.0            NaN   \n",
       "2              1.0           90.0               2.0          574.0   \n",
       "3              2.0           84.0               3.0          234.0   \n",
       "4              2.0          112.0               1.0           48.0   \n",
       "\n",
       "   days_exposition  price_meter  \n",
       "0              NaN    120370.37  \n",
       "1             81.0     83750.00  \n",
       "2            558.0     92785.71  \n",
       "3            424.0    408176.10  \n",
       "4            121.0    100000.00  \n",
       "\n",
       "[5 rows x 23 columns]"
      ]
     },
     "execution_count": 35,
     "metadata": {},
     "output_type": "execute_result"
    }
   ],
   "source": [
    "# цена за квадратный метр\n",
    "df['price_meter'] = df['last_price'] / df['total_area']\n",
    "df['price_meter'] = df['price_meter'].round(2)\n",
    "df.head()"
   ]
  },
  {
   "cell_type": "code",
   "execution_count": 36,
   "metadata": {},
   "outputs": [
    {
     "data": {
      "text/plain": [
       "array([3, 1, 4, 0, 2, 6, 5])"
      ]
     },
     "execution_count": 36,
     "metadata": {},
     "output_type": "execute_result"
    }
   ],
   "source": [
    "# день недели публикации \n",
    "df['weekday_publish'] = df['first_day_exposition'].dt.weekday\n",
    "df['weekday_publish'].unique()"
   ]
  },
  {
   "cell_type": "code",
   "execution_count": 37,
   "metadata": {},
   "outputs": [
    {
     "data": {
      "text/plain": [
       "array([ 3, 12,  8,  7,  6,  9, 11,  4,  5,  2,  1, 10])"
      ]
     },
     "execution_count": 37,
     "metadata": {},
     "output_type": "execute_result"
    }
   ],
   "source": [
    "# месяц публикации \n",
    "df['month_publish'] = df['first_day_exposition'].dt.month\n",
    "df['month_publish'].unique()"
   ]
  },
  {
   "cell_type": "code",
   "execution_count": 38,
   "metadata": {},
   "outputs": [
    {
     "data": {
      "text/plain": [
       "array([2019, 2018, 2015, 2017, 2016, 2014])"
      ]
     },
     "execution_count": 38,
     "metadata": {},
     "output_type": "execute_result"
    }
   ],
   "source": [
    "# год публикации \n",
    "df['year_publish'] = df['first_day_exposition'].dt.year\n",
    "df['year_publish'].unique()"
   ]
  },
  {
   "cell_type": "code",
   "execution_count": 39,
   "metadata": {},
   "outputs": [],
   "source": [
    "# тип этажа\n",
    "def check_floor(row):\n",
    "    if row['floor'] == 1:\n",
    "        return 'первый'\n",
    "    if row['floor'] == row['floors_total']:\n",
    "        return 'последний'\n",
    "    return 'другой'"
   ]
  },
  {
   "cell_type": "code",
   "execution_count": 40,
   "metadata": {},
   "outputs": [
    {
     "data": {
      "text/plain": [
       "array(['другой', 'первый', 'последний'], dtype=object)"
      ]
     },
     "execution_count": 40,
     "metadata": {},
     "output_type": "execute_result"
    }
   ],
   "source": [
    "df['floor_type'] = df.apply(check_floor, axis=1)\n",
    "df['floor_type'].unique()"
   ]
  },
  {
   "cell_type": "code",
   "execution_count": 41,
   "metadata": {},
   "outputs": [
    {
     "data": {
      "text/plain": [
       "array([16., 19., 14.,  7.,  8., nan, 12., 15., 52., 33., 31., 11., 13.,\n",
       "       10.,  2., 32.,  4., 17., 30.,  5., 51., 50., 24., 18.,  9., 28.,\n",
       "        3.,  6., 27., 21., 49., 35., 36., 34.,  1., 29., 26., 53., 22.,\n",
       "       55., 20., 23., 25.,  0., 66., 47., 40., 57., 37., 41., 43., 48.,\n",
       "       62., 60., 39., 42., 65., 54., 59., 45., 61., 63.])"
      ]
     },
     "execution_count": 41,
     "metadata": {},
     "output_type": "execute_result"
    }
   ],
   "source": [
    "# расстояние до центра в км\n",
    "df['city_centers_nearest_km'] = (df['city_centers_nearest'] / 1000).round()\n",
    "df['city_centers_nearest_km'].unique()"
   ]
  },
  {
   "cell_type": "markdown",
   "metadata": {
    "id": "pPyxrKWTAwb-"
   },
   "source": [
    "### Проведите исследовательский анализ данных"
   ]
  },
  {
   "cell_type": "code",
   "execution_count": 42,
   "metadata": {
    "id": "V2f0D3kLAwb-"
   },
   "outputs": [
    {
     "data": {
      "text/plain": [
       "count    23565.000000\n",
       "mean        60.315595\n",
       "std         35.660572\n",
       "min         12.000000\n",
       "25%         40.000000\n",
       "50%         52.000000\n",
       "75%         70.000000\n",
       "max        900.000000\n",
       "Name: total_area, dtype: float64"
      ]
     },
     "execution_count": 42,
     "metadata": {},
     "output_type": "execute_result"
    }
   ],
   "source": [
    "df['total_area'].describe()"
   ]
  },
  {
   "cell_type": "code",
   "execution_count": 43,
   "metadata": {},
   "outputs": [
    {
     "data": {
      "text/plain": [
       "<AxesSubplot:title={'center':'Распределение квартир по общей площади'}, ylabel='Frequency'>"
      ]
     },
     "execution_count": 43,
     "metadata": {},
     "output_type": "execute_result"
    },
    {
     "data": {
      "image/png": "[encoded data removed]",
      "text/plain": [
       "<Figure size 576x360 with 1 Axes>"
      ]
     },
     "metadata": {
      "needs_background": "light"
     },
     "output_type": "display_data"
    }
   ],
   "source": [
    "df['total_area'].plot(kind='hist', \n",
    "                      bins=50, \n",
    "                      title='Распределение квартир по общей площади',\n",
    "                      figsize=(8, 5))"
   ]
  },
  {
   "cell_type": "markdown",
   "metadata": {},
   "source": [
    "Значения больше 200 похожи на выбросы, проверим, что будет, если их отбросить"
   ]
  },
  {
   "cell_type": "code",
   "execution_count": 44,
   "metadata": {},
   "outputs": [
    {
     "data": {
      "text/plain": [
       "<AxesSubplot:title={'center':'Распределение квартир по общей площади'}, ylabel='Frequency'>"
      ]
     },
     "execution_count": 44,
     "metadata": {},
     "output_type": "execute_result"
    },
    {
     "data": {
      "image/png": "[encoded data removed]",
      "text/plain": [
       "<Figure size 576x360 with 1 Axes>"
      ]
     },
     "metadata": {
      "needs_background": "light"
     },
     "output_type": "display_data"
    }
   ],
   "source": [
    "df['total_area'].plot(kind='hist',\n",
    "                      range=(0, 200),\n",
    "                      bins=50, \n",
    "                      title='Распределение квартир по общей площади',\n",
    "                      figsize=(8, 5))"
   ]
  },
  {
   "cell_type": "markdown",
   "metadata": {},
   "source": [
    "Оставим значения от 12 до 130"
   ]
  },
  {
   "cell_type": "code",
   "execution_count": 45,
   "metadata": {},
   "outputs": [
    {
     "data": {
      "text/plain": [
       "<AxesSubplot:title={'center':'Распределение квартир по общей площади'}, ylabel='Frequency'>"
      ]
     },
     "execution_count": 45,
     "metadata": {},
     "output_type": "execute_result"
    },
    {
     "data": {
      "image/png": "[encoded data removed]",
      "text/plain": [
       "<Figure size 576x360 with 1 Axes>"
      ]
     },
     "metadata": {
      "needs_background": "light"
     },
     "output_type": "display_data"
    }
   ],
   "source": [
    "df['total_area'].plot(kind='hist',\n",
    "                      range=(12, 130),\n",
    "                      bins=50, \n",
    "                      title='Распределение квартир по общей площади',\n",
    "                      figsize=(8, 5))\n"
   ]
  },
  {
   "cell_type": "code",
   "execution_count": 46,
   "metadata": {},
   "outputs": [],
   "source": [
    "df = df.query('12 <= total_area <= 130')"
   ]
  },
  {
   "cell_type": "markdown",
   "metadata": {},
   "source": [
    "**Ввод**<br>\n",
    "Больше всего квартир площадью от 30 до 70 квадратных метров. Пик приходится примерно на 39 кв.м."
   ]
  },
  {
   "cell_type": "code",
   "execution_count": 47,
   "metadata": {},
   "outputs": [
    {
     "data": {
      "text/plain": [
       "count    22733.000000\n",
       "mean        31.779363\n",
       "std         14.273917\n",
       "min          2.000000\n",
       "25%         18.700000\n",
       "50%         30.000000\n",
       "75%         40.900000\n",
       "max        101.000000\n",
       "Name: living_area, dtype: float64"
      ]
     },
     "execution_count": 47,
     "metadata": {},
     "output_type": "execute_result"
    }
   ],
   "source": [
    "df['living_area'].describe()"
   ]
  },
  {
   "cell_type": "code",
   "execution_count": 48,
   "metadata": {},
   "outputs": [
    {
     "data": {
      "text/plain": [
       "<AxesSubplot:title={'center':'Распределение квартир по жилой площади'}, ylabel='Frequency'>"
      ]
     },
     "execution_count": 48,
     "metadata": {},
     "output_type": "execute_result"
    },
    {
     "data": {
      "image/png": "[encoded data removed]",
      "text/plain": [
       "<Figure size 576x360 with 1 Axes>"
      ]
     },
     "metadata": {
      "needs_background": "light"
     },
     "output_type": "display_data"
    }
   ],
   "source": [
    "df['living_area'].plot(kind='hist',\n",
    "                       range=(10, 70),\n",
    "                       bins=50, \n",
    "                       title='Распределение квартир по жилой площади',\n",
    "                       figsize=(8, 5))"
   ]
  },
  {
   "cell_type": "markdown",
   "metadata": {},
   "source": [
    "Данные имеют бимодальное распределение с пиками в 18 и 30 кв.м. с просадкой в зоне 20-25 кв.м.<br>\n",
    "Интересно посмотреть, как относится жилая площадь к общей."
   ]
  },
  {
   "cell_type": "code",
   "execution_count": 49,
   "metadata": {},
   "outputs": [
    {
     "data": {
      "text/plain": [
       "count    22733.000000\n",
       "mean         0.565189\n",
       "std          0.100517\n",
       "min          0.038462\n",
       "25%          0.500000\n",
       "50%          0.576923\n",
       "75%          0.630435\n",
       "max          1.008333\n",
       "dtype: float64"
      ]
     },
     "execution_count": 49,
     "metadata": {},
     "output_type": "execute_result"
    }
   ],
   "source": [
    "(df['living_area'] / df['total_area']).describe()"
   ]
  },
  {
   "cell_type": "code",
   "execution_count": 50,
   "metadata": {},
   "outputs": [
    {
     "data": {
      "text/html": [
       "<div>\n",
       "<style scoped>\n",
       "    .dataframe tbody tr th:only-of-type {\n",
       "        vertical-align: middle;\n",
       "    }\n",
       "\n",
       "    .dataframe tbody tr th {\n",
       "        vertical-align: top;\n",
       "    }\n",
       "\n",
       "    .dataframe thead th {\n",
       "        text-align: right;\n",
       "    }\n",
       "</style>\n",
       "<table border=\"1\" class=\"dataframe\">\n",
       "  <thead>\n",
       "    <tr style=\"text-align: right;\">\n",
       "      <th></th>\n",
       "      <th>total_images</th>\n",
       "      <th>last_price</th>\n",
       "      <th>total_area</th>\n",
       "      <th>first_day_exposition</th>\n",
       "      <th>rooms</th>\n",
       "      <th>ceiling_height</th>\n",
       "      <th>floors_total</th>\n",
       "      <th>living_area</th>\n",
       "      <th>floor</th>\n",
       "      <th>is_apartment</th>\n",
       "      <th>...</th>\n",
       "      <th>parks_nearest</th>\n",
       "      <th>ponds_around3000</th>\n",
       "      <th>ponds_nearest</th>\n",
       "      <th>days_exposition</th>\n",
       "      <th>price_meter</th>\n",
       "      <th>weekday_publish</th>\n",
       "      <th>month_publish</th>\n",
       "      <th>year_publish</th>\n",
       "      <th>floor_type</th>\n",
       "      <th>city_centers_nearest_km</th>\n",
       "    </tr>\n",
       "  </thead>\n",
       "  <tbody>\n",
       "    <tr>\n",
       "      <th>12691</th>\n",
       "      <td>1</td>\n",
       "      <td>3700000</td>\n",
       "      <td>24</td>\n",
       "      <td>2017-11-10</td>\n",
       "      <td>0</td>\n",
       "      <td>2.65</td>\n",
       "      <td>19.0</td>\n",
       "      <td>24.2</td>\n",
       "      <td>13</td>\n",
       "      <td>False</td>\n",
       "      <td>...</td>\n",
       "      <td>NaN</td>\n",
       "      <td>2.0</td>\n",
       "      <td>210.0</td>\n",
       "      <td>74.0</td>\n",
       "      <td>154166.67</td>\n",
       "      <td>4</td>\n",
       "      <td>11</td>\n",
       "      <td>2017</td>\n",
       "      <td>другой</td>\n",
       "      <td>17.0</td>\n",
       "    </tr>\n",
       "  </tbody>\n",
       "</table>\n",
       "<p>1 rows × 28 columns</p>\n",
       "</div>"
      ],
      "text/plain": [
       "       total_images  last_price  total_area first_day_exposition  rooms  \\\n",
       "12691             1     3700000          24           2017-11-10      0   \n",
       "\n",
       "       ceiling_height  floors_total  living_area  floor  is_apartment  ...  \\\n",
       "12691            2.65          19.0         24.2     13         False  ...   \n",
       "\n",
       "       parks_nearest  ponds_around3000  ponds_nearest  days_exposition  \\\n",
       "12691            NaN               2.0          210.0             74.0   \n",
       "\n",
       "      price_meter  weekday_publish  month_publish  year_publish  floor_type  \\\n",
       "12691   154166.67                4             11          2017      другой   \n",
       "\n",
       "       city_centers_nearest_km  \n",
       "12691                     17.0  \n",
       "\n",
       "[1 rows x 28 columns]"
      ]
     },
     "execution_count": 50,
     "metadata": {},
     "output_type": "execute_result"
    }
   ],
   "source": [
    "df.loc[df['living_area'] > df['total_area']]"
   ]
  },
  {
   "cell_type": "markdown",
   "metadata": {},
   "source": [
    "Возможно, причина кроется в моих преобразованиях."
   ]
  },
  {
   "cell_type": "code",
   "execution_count": 51,
   "metadata": {},
   "outputs": [
    {
     "data": {
      "text/html": [
       "<div>\n",
       "<style scoped>\n",
       "    .dataframe tbody tr th:only-of-type {\n",
       "        vertical-align: middle;\n",
       "    }\n",
       "\n",
       "    .dataframe tbody tr th {\n",
       "        vertical-align: top;\n",
       "    }\n",
       "\n",
       "    .dataframe thead th {\n",
       "        text-align: right;\n",
       "    }\n",
       "</style>\n",
       "<table border=\"1\" class=\"dataframe\">\n",
       "  <thead>\n",
       "    <tr style=\"text-align: right;\">\n",
       "      <th></th>\n",
       "      <th>total_images</th>\n",
       "      <th>last_price</th>\n",
       "      <th>total_area</th>\n",
       "      <th>first_day_exposition</th>\n",
       "      <th>rooms</th>\n",
       "      <th>ceiling_height</th>\n",
       "      <th>floors_total</th>\n",
       "      <th>living_area</th>\n",
       "      <th>floor</th>\n",
       "      <th>is_apartment</th>\n",
       "      <th>...</th>\n",
       "      <th>kitchen_area</th>\n",
       "      <th>balcony</th>\n",
       "      <th>locality_name</th>\n",
       "      <th>airports_nearest</th>\n",
       "      <th>city_centers_nearest</th>\n",
       "      <th>parks_around3000</th>\n",
       "      <th>parks_nearest</th>\n",
       "      <th>ponds_around3000</th>\n",
       "      <th>ponds_nearest</th>\n",
       "      <th>days_exposition</th>\n",
       "    </tr>\n",
       "  </thead>\n",
       "  <tbody>\n",
       "    <tr>\n",
       "      <th>12691</th>\n",
       "      <td>1</td>\n",
       "      <td>3700000</td>\n",
       "      <td>24</td>\n",
       "      <td>2017-11-10</td>\n",
       "      <td>0</td>\n",
       "      <td>2.65</td>\n",
       "      <td>19.0</td>\n",
       "      <td>24.2</td>\n",
       "      <td>13</td>\n",
       "      <td>NaN</td>\n",
       "      <td>...</td>\n",
       "      <td>NaN</td>\n",
       "      <td>1.0</td>\n",
       "      <td>Санкт-Петербург</td>\n",
       "      <td>17837.0</td>\n",
       "      <td>16840.0</td>\n",
       "      <td>0.0</td>\n",
       "      <td>NaN</td>\n",
       "      <td>2.0</td>\n",
       "      <td>210.0</td>\n",
       "      <td>74.0</td>\n",
       "    </tr>\n",
       "  </tbody>\n",
       "</table>\n",
       "<p>1 rows × 22 columns</p>\n",
       "</div>"
      ],
      "text/plain": [
       "       total_images  last_price  total_area first_day_exposition  rooms  \\\n",
       "12691             1     3700000          24           2017-11-10      0   \n",
       "\n",
       "       ceiling_height  floors_total  living_area  floor is_apartment  ...  \\\n",
       "12691            2.65          19.0         24.2     13          NaN  ...   \n",
       "\n",
       "       kitchen_area  balcony    locality_name  airports_nearest  \\\n",
       "12691           NaN      1.0  Санкт-Петербург           17837.0   \n",
       "\n",
       "      city_centers_nearest  parks_around3000  parks_nearest  ponds_around3000  \\\n",
       "12691              16840.0               0.0            NaN               2.0   \n",
       "\n",
       "       ponds_nearest  days_exposition  \n",
       "12691          210.0             74.0  \n",
       "\n",
       "[1 rows x 22 columns]"
      ]
     },
     "execution_count": 51,
     "metadata": {},
     "output_type": "execute_result"
    }
   ],
   "source": [
    "df_backup.loc[df_backup['living_area'] > df_backup['total_area']]"
   ]
  },
  {
   "cell_type": "markdown",
   "metadata": {},
   "source": [
    "В большинстве случаев жилая площадь составляет 50-60% от общей площади. Есть единичный случай, когда жилая площадь незначительно больше общей. "
   ]
  },
  {
   "cell_type": "code",
   "execution_count": 52,
   "metadata": {},
   "outputs": [],
   "source": [
    "df = df.query('10 <= living_area <= 70')"
   ]
  },
  {
   "cell_type": "code",
   "execution_count": 53,
   "metadata": {},
   "outputs": [
    {
     "data": {
      "text/plain": [
       "count    22327.000000\n",
       "mean         9.877325\n",
       "std          4.560826\n",
       "min          1.300000\n",
       "25%          7.000000\n",
       "50%          9.000000\n",
       "75%         11.275000\n",
       "max         64.000000\n",
       "Name: kitchen_area, dtype: float64"
      ]
     },
     "execution_count": 53,
     "metadata": {},
     "output_type": "execute_result"
    }
   ],
   "source": [
    "df['kitchen_area'].describe()"
   ]
  },
  {
   "cell_type": "code",
   "execution_count": 54,
   "metadata": {},
   "outputs": [
    {
     "data": {
      "text/plain": [
       "<AxesSubplot:title={'center':'Распределение квартир по площади кухни'}, ylabel='Frequency'>"
      ]
     },
     "execution_count": 54,
     "metadata": {},
     "output_type": "execute_result"
    },
    {
     "data": {
      "image/png": "[encoded data removed]",
      "text/plain": [
       "<Figure size 576x360 with 1 Axes>"
      ]
     },
     "metadata": {
      "needs_background": "light"
     },
     "output_type": "display_data"
    }
   ],
   "source": [
    "df['kitchen_area'].plot(kind='hist',\n",
    "                       range=(0, 20),\n",
    "                       bins=50, \n",
    "                       title='Распределение квартир по площади кухни',\n",
    "                       figsize=(8, 5))"
   ]
  },
  {
   "cell_type": "code",
   "execution_count": 55,
   "metadata": {},
   "outputs": [
    {
     "data": {
      "text/plain": [
       "<AxesSubplot:title={'center':'Распределение квартир по площади кухни'}, ylabel='Frequency'>"
      ]
     },
     "execution_count": 55,
     "metadata": {},
     "output_type": "execute_result"
    },
    {
     "data": {
      "image/png": "[encoded data removed]",
      "text/plain": [
       "<Figure size 576x360 with 1 Axes>"
      ]
     },
     "metadata": {
      "needs_background": "light"
     },
     "output_type": "display_data"
    }
   ],
   "source": [
    "df['kitchen_area'].plot(kind='hist',\n",
    "                       range=(5, 25),\n",
    "                       bins=50, \n",
    "                       title='Распределение квартир по площади кухни',\n",
    "                       figsize=(8, 5))"
   ]
  },
  {
   "cell_type": "markdown",
   "metadata": {},
   "source": [
    "Больше всего квартир без кухни. В остальных случаях больше всего значений в диапазоне от 5 до 12 кв.м.<br>\n",
    "Интересный факт: пики приходятся на целые значения; либо это педантичные застройщики, либо люди указывают площадь кухни не из паспорта объекта, а берут значения по памяти."
   ]
  },
  {
   "cell_type": "code",
   "execution_count": 56,
   "metadata": {},
   "outputs": [],
   "source": [
    "df = df.query('5 <= kitchen_area <= 25')"
   ]
  },
  {
   "cell_type": "code",
   "execution_count": 57,
   "metadata": {},
   "outputs": [
    {
     "data": {
      "text/plain": [
       "count    2.160500e+04\n",
       "mean     5.291430e+06\n",
       "std      3.432368e+06\n",
       "min      4.300000e+05\n",
       "25%      3.400000e+06\n",
       "50%      4.500000e+06\n",
       "75%      6.250000e+06\n",
       "max      1.240000e+08\n",
       "Name: last_price, dtype: float64"
      ]
     },
     "execution_count": 57,
     "metadata": {},
     "output_type": "execute_result"
    }
   ],
   "source": [
    "df['last_price'].describe()"
   ]
  },
  {
   "cell_type": "code",
   "execution_count": 58,
   "metadata": {},
   "outputs": [
    {
     "data": {
      "text/plain": [
       "<AxesSubplot:title={'center':'Распределение квартир по последней цене (млн. руб)'}, ylabel='Frequency'>"
      ]
     },
     "execution_count": 58,
     "metadata": {},
     "output_type": "execute_result"
    },
    {
     "data": {
      "image/png": "[encoded data removed]",
      "text/plain": [
       "<Figure size 576x360 with 1 Axes>"
      ]
     },
     "metadata": {
      "needs_background": "light"
     },
     "output_type": "display_data"
    }
   ],
   "source": [
    "df['last_price'].plot(kind='hist',\n",
    "                      range=(0, 18e+06),\n",
    "                      bins=100, \n",
    "                      title='Распределение квартир по последней цене (млн. руб)',\n",
    "                      figsize=(8, 5))"
   ]
  },
  {
   "cell_type": "markdown",
   "metadata": {},
   "source": [
    "Распределение нормальное, больше всего предложений от 3.5 до 5 млн. рублей."
   ]
  },
  {
   "cell_type": "code",
   "execution_count": 59,
   "metadata": {},
   "outputs": [],
   "source": [
    "df = df.query('last_price <= 18e+06')"
   ]
  },
  {
   "cell_type": "code",
   "execution_count": 60,
   "metadata": {},
   "outputs": [
    {
     "data": {
      "text/plain": [
       "count    21418.000000\n",
       "mean         1.954011\n",
       "std          0.878629\n",
       "min          0.000000\n",
       "25%          1.000000\n",
       "50%          2.000000\n",
       "75%          3.000000\n",
       "max          7.000000\n",
       "Name: rooms, dtype: float64"
      ]
     },
     "execution_count": 60,
     "metadata": {},
     "output_type": "execute_result"
    }
   ],
   "source": [
    "df['rooms'].describe()"
   ]
  },
  {
   "cell_type": "code",
   "execution_count": 61,
   "metadata": {},
   "outputs": [
    {
     "data": {
      "text/plain": [
       "<AxesSubplot:title={'center':'Распределение квартир по кол-ву комнат'}, ylabel='Frequency'>"
      ]
     },
     "execution_count": 61,
     "metadata": {},
     "output_type": "execute_result"
    },
    {
     "data": {
      "image/png": "[encoded data removed]",
      "text/plain": [
       "<Figure size 576x360 with 1 Axes>"
      ]
     },
     "metadata": {
      "needs_background": "light"
     },
     "output_type": "display_data"
    }
   ],
   "source": [
    "df['rooms'].plot(kind='hist',\n",
    "                      range=(0, 10),\n",
    "                      bins=10, \n",
    "                      title='Распределение квартир по кол-ву комнат',\n",
    "                      figsize=(8, 5))"
   ]
  },
  {
   "cell_type": "markdown",
   "metadata": {},
   "source": [
    "Наблюдается обратная линейная зависимость: чем больше комнат, тем меньше предложений."
   ]
  },
  {
   "cell_type": "code",
   "execution_count": 62,
   "metadata": {},
   "outputs": [],
   "source": [
    "df = df.query('0 <= rooms <= 10')"
   ]
  },
  {
   "cell_type": "code",
   "execution_count": 63,
   "metadata": {},
   "outputs": [
    {
     "data": {
      "text/plain": [
       "count    21418.000000\n",
       "mean         2.677393\n",
       "std          0.227676\n",
       "min          1.000000\n",
       "25%          2.600000\n",
       "50%          2.650000\n",
       "75%          2.700000\n",
       "max         14.000000\n",
       "Name: ceiling_height, dtype: float64"
      ]
     },
     "execution_count": 63,
     "metadata": {},
     "output_type": "execute_result"
    }
   ],
   "source": [
    "df['ceiling_height'].describe()"
   ]
  },
  {
   "cell_type": "code",
   "execution_count": 64,
   "metadata": {},
   "outputs": [
    {
     "data": {
      "text/plain": [
       "<AxesSubplot:title={'center':'Распределение квартир по высоте потолков'}, ylabel='Frequency'>"
      ]
     },
     "execution_count": 64,
     "metadata": {},
     "output_type": "execute_result"
    },
    {
     "data": {
      "image/png": "[encoded data removed]",
      "text/plain": [
       "<Figure size 576x360 with 1 Axes>"
      ]
     },
     "metadata": {
      "needs_background": "light"
     },
     "output_type": "display_data"
    }
   ],
   "source": [
    "df['ceiling_height'].plot(kind='hist',\n",
    "                       range=(2, 4),\n",
    "                       bins=70, \n",
    "                       title='Распределение квартир по высоте потолков',\n",
    "                       figsize=(8, 5))"
   ]
  },
  {
   "cell_type": "markdown",
   "metadata": {},
   "source": [
    "Больше всего квартир с высотой потолка 2.6 метра."
   ]
  },
  {
   "cell_type": "code",
   "execution_count": 65,
   "metadata": {},
   "outputs": [],
   "source": [
    "df = df.query('2 <= ceiling_height <= 4')"
   ]
  },
  {
   "cell_type": "code",
   "execution_count": 66,
   "metadata": {},
   "outputs": [
    {
     "data": {
      "text/plain": [
       "<AxesSubplot:title={'center':'Распределение квартир в зависимости от этажа'}>"
      ]
     },
     "execution_count": 66,
     "metadata": {},
     "output_type": "execute_result"
    },
    {
     "data": {
      "image/png": "[encoded data removed]",
      "text/plain": [
       "<Figure size 720x720 with 1 Axes>"
      ]
     },
     "metadata": {},
     "output_type": "display_data"
    }
   ],
   "source": [
    "(df\n",
    "  .pivot_table(index='floor_type',values='ceiling_height',aggfunc='count')\n",
    "  .plot(kind='pie', y='ceiling_height',label='', figsize=(10, 10), title='Распределение квартир в зависимости от этажа')\n",
    ")\n"
   ]
  },
  {
   "cell_type": "markdown",
   "metadata": {},
   "source": [
    "Больше всего квартир ни на первом, ни на последнем этаже. Что логично, ведь первый и последний этаж - это крайности."
   ]
  },
  {
   "cell_type": "code",
   "execution_count": 67,
   "metadata": {},
   "outputs": [
    {
     "data": {
      "text/plain": [
       "count    21383.000000\n",
       "mean        10.766310\n",
       "std          6.594114\n",
       "min          1.000000\n",
       "25%          5.000000\n",
       "50%          9.000000\n",
       "75%         16.000000\n",
       "max         60.000000\n",
       "Name: floors_total, dtype: float64"
      ]
     },
     "execution_count": 67,
     "metadata": {},
     "output_type": "execute_result"
    }
   ],
   "source": [
    "df['floors_total'].describe()"
   ]
  },
  {
   "cell_type": "code",
   "execution_count": 68,
   "metadata": {},
   "outputs": [
    {
     "data": {
      "text/plain": [
       "<AxesSubplot:title={'center':'Распределение квартир по кол-ву этажей в доме'}, ylabel='Frequency'>"
      ]
     },
     "execution_count": 68,
     "metadata": {},
     "output_type": "execute_result"
    },
    {
     "data": {
      "image/png": "[encoded data removed]",
      "text/plain": [
       "<Figure size 576x360 with 1 Axes>"
      ]
     },
     "metadata": {
      "needs_background": "light"
     },
     "output_type": "display_data"
    }
   ],
   "source": [
    "df['floors_total'].plot(kind='hist',\n",
    "                       range=(0, 30),\n",
    "                       bins=70, \n",
    "                       title='Распределение квартир по кол-ву этажей в доме',\n",
    "                       figsize=(8, 5))"
   ]
  },
  {
   "cell_type": "markdown",
   "metadata": {},
   "source": [
    "В данных наблюдается два пика: на 5 и 9 этажах с преобладанием пятиэтажных зданий."
   ]
  },
  {
   "cell_type": "code",
   "execution_count": 69,
   "metadata": {},
   "outputs": [
    {
     "data": {
      "text/plain": [
       "count    16155.000000\n",
       "mean     14827.071557\n",
       "std       8484.356005\n",
       "min        208.000000\n",
       "25%      10428.000000\n",
       "50%      13495.000000\n",
       "75%      16596.000000\n",
       "max      65968.000000\n",
       "Name: city_centers_nearest, dtype: float64"
      ]
     },
     "execution_count": 69,
     "metadata": {},
     "output_type": "execute_result"
    }
   ],
   "source": [
    "df['city_centers_nearest'].describe()"
   ]
  },
  {
   "cell_type": "code",
   "execution_count": 70,
   "metadata": {},
   "outputs": [
    {
     "data": {
      "text/plain": [
       "<AxesSubplot:title={'center':'Распределение квартир по расстоянию до центра города'}, ylabel='Frequency'>"
      ]
     },
     "execution_count": 70,
     "metadata": {},
     "output_type": "execute_result"
    },
    {
     "data": {
      "image/png": "[encoded data removed]",
      "text/plain": [
       "<Figure size 576x360 with 1 Axes>"
      ]
     },
     "metadata": {
      "needs_background": "light"
     },
     "output_type": "display_data"
    }
   ],
   "source": [
    "df['city_centers_nearest'].plot(kind='hist',\n",
    "                       range=(0, 22000),\n",
    "                       bins=70, \n",
    "                       title='Распределение квартир по расстоянию до центра города',\n",
    "                       figsize=(8, 5))"
   ]
  },
  {
   "cell_type": "markdown",
   "metadata": {},
   "source": [
    "Основная масса квартир сконцентрирована в 10-18 км от центра, в центральных квартирах наблюдается локальный максимум в 5 км."
   ]
  },
  {
   "cell_type": "code",
   "execution_count": 71,
   "metadata": {},
   "outputs": [
    {
     "data": {
      "text/plain": [
       "count    6870.000000\n",
       "mean      492.426783\n",
       "std       335.983971\n",
       "min         1.000000\n",
       "25%       289.000000\n",
       "50%       458.000000\n",
       "75%       615.750000\n",
       "max      3190.000000\n",
       "Name: parks_nearest, dtype: float64"
      ]
     },
     "execution_count": 71,
     "metadata": {},
     "output_type": "execute_result"
    }
   ],
   "source": [
    "df['parks_nearest'].describe()"
   ]
  },
  {
   "cell_type": "code",
   "execution_count": 72,
   "metadata": {},
   "outputs": [
    {
     "data": {
      "text/plain": [
       "<AxesSubplot:title={'center':'Распределение квартир по расстоянию до ближайшего парка'}, ylabel='Frequency'>"
      ]
     },
     "execution_count": 72,
     "metadata": {},
     "output_type": "execute_result"
    },
    {
     "data": {
      "image/png": "[encoded data removed]",
      "text/plain": [
       "<Figure size 576x360 with 1 Axes>"
      ]
     },
     "metadata": {
      "needs_background": "light"
     },
     "output_type": "display_data"
    }
   ],
   "source": [
    "df['parks_nearest'].plot(kind='hist',\n",
    "                       range=(0, 1000),\n",
    "                       bins=70, \n",
    "                       title='Распределение квартир по расстоянию до ближайшего парка',\n",
    "                       figsize=(8, 5))"
   ]
  },
  {
   "cell_type": "markdown",
   "metadata": {},
   "source": [
    "Основная масса квартир находится на расстоянии 150-750 метров от парка (экологи должны быть в восторге)."
   ]
  },
  {
   "cell_type": "code",
   "execution_count": 73,
   "metadata": {},
   "outputs": [
    {
     "data": {
      "text/plain": [
       "0.9022743575678299"
      ]
     },
     "execution_count": 73,
     "metadata": {},
     "output_type": "execute_result"
    }
   ],
   "source": [
    "df.shape[0] / df_backup.shape[0]"
   ]
  },
  {
   "cell_type": "code",
   "execution_count": 74,
   "metadata": {},
   "outputs": [
    {
     "data": {
      "text/plain": [
       "count    18689.000000\n",
       "mean       174.301942\n",
       "std        212.069340\n",
       "min          1.000000\n",
       "25%         44.000000\n",
       "50%         92.000000\n",
       "75%        221.000000\n",
       "max       1580.000000\n",
       "Name: days_exposition, dtype: float64"
      ]
     },
     "execution_count": 74,
     "metadata": {},
     "output_type": "execute_result"
    }
   ],
   "source": [
    "# Как быстро продавались квартиры\n",
    "df['days_exposition'].describe()"
   ]
  },
  {
   "cell_type": "code",
   "execution_count": 75,
   "metadata": {},
   "outputs": [
    {
     "data": {
      "text/plain": [
       "<AxesSubplot:title={'center':'Как быстро продавались квартиры'}, ylabel='Frequency'>"
      ]
     },
     "execution_count": 75,
     "metadata": {},
     "output_type": "execute_result"
    },
    {
     "data": {
      "image/png": "[encoded data removed]",
      "text/plain": [
       "<Figure size 576x360 with 1 Axes>"
      ]
     },
     "metadata": {
      "needs_background": "light"
     },
     "output_type": "display_data"
    }
   ],
   "source": [
    "df['days_exposition'].plot(kind='hist',\n",
    "                       range=(0, 240),\n",
    "                       bins=150, \n",
    "                       title='Как быстро продавались квартиры',\n",
    "                       figsize=(8, 5))"
   ]
  },
  {
   "cell_type": "markdown",
   "metadata": {},
   "source": [
    "На графике пиковые значения являются следствием изменения правил Яндекс.Недвижимость.<br>\n",
    "Судя по квартилям, быстрыми продажами можно назвать продажи быстрее 44 дней, а долгими - дольше 221 дня.<br>\n",
    "Рекомендовано добавить в данные метку, кто снял обхявление: человек или система."
   ]
  },
  {
   "cell_type": "code",
   "execution_count": 77,
   "metadata": {},
   "outputs": [
    {
     "data": {
      "text/plain": [
       "floor              0.410013\n",
       "kitchen_area       0.703351\n",
       "last_price         1.000000\n",
       "living_area        0.535732\n",
       "month_publish      0.060774\n",
       "rooms              0.553206\n",
       "total_area         0.764871\n",
       "weekday_publish    0.154586\n",
       "year_publish       0.163826\n",
       "Name: last_price, dtype: float64"
      ]
     },
     "execution_count": 77,
     "metadata": {},
     "output_type": "execute_result"
    }
   ],
   "source": [
    "# факторы, которые больше всего влияют на общую (полную) стоимость объекта\n",
    "# ['total_area', 'living_area', 'kitchen_area', 'rooms', 'floor', 'weekday_publish', 'month_publish', 'year_publish']\n",
    "df.pivot_table(index='total_images', \n",
    "               values=['last_price', 'total_area', 'living_area', 'kitchen_area', 'rooms', \n",
    "                       'floor', 'weekday_publish', 'month_publish', 'year_publish']\n",
    "              ).corr()['last_price']\n"
   ]
  },
  {
   "cell_type": "code",
   "execution_count": null,
   "metadata": {},
   "outputs": [],
   "source": [
    "(\n",
    "    df\n",
    "    .pivot_table(index='floor_type', values='last_price', aggfunc='median')\n",
    "    .plot(kind='bar', grid=True, figsize=(8, 5))\n",
    ")"
   ]
  },
  {
   "cell_type": "markdown",
   "metadata": {},
   "source": [
    "'Другой' превосходит остальные типы этажа, за ним следует 'последний' и самым дешевым считается 'первый'"
   ]
  },
  {
   "cell_type": "code",
   "execution_count": null,
   "metadata": {},
   "outputs": [],
   "source": [
    "(\n",
    "    df\n",
    "    .pivot_table(index='weekday_publish', values='last_price', aggfunc='median')\n",
    "    .plot(kind='bar', grid=True, figsize=(8, 5))\n",
    ")"
   ]
  },
  {
   "cell_type": "markdown",
   "metadata": {},
   "source": [
    "Заметной связи нет"
   ]
  },
  {
   "cell_type": "code",
   "execution_count": null,
   "metadata": {},
   "outputs": [],
   "source": [
    "(\n",
    "    df\n",
    "    .pivot_table(index='month_publish', values='last_price', aggfunc='median')\n",
    "    .plot(kind='bar', grid=True, figsize=(8, 5))\n",
    ")"
   ]
  },
  {
   "cell_type": "markdown",
   "metadata": {},
   "source": [
    "Выгоднее всего размещать объявление в апреле, а самые дешевые квартиры приходятся на июнь. Остальные месяцы равны между собой."
   ]
  },
  {
   "cell_type": "code",
   "execution_count": null,
   "metadata": {},
   "outputs": [],
   "source": [
    "(\n",
    "    df\n",
    "    .pivot_table(index='year_publish', values='last_price', aggfunc='median')\n",
    "    .plot(kind='bar', grid=True, figsize=(8, 5))\n",
    ")"
   ]
  },
  {
   "cell_type": "markdown",
   "metadata": {},
   "source": [
    "Цены опускались до 2017 года, затем начали подниматься. Вероятно, это связано с кризисом 2016-2017 года (https://tass.ru/ekonomika/3983262)"
   ]
  },
  {
   "cell_type": "code",
   "execution_count": null,
   "metadata": {},
   "outputs": [],
   "source": [
    "import seaborn as sns"
   ]
  },
  {
   "cell_type": "code",
   "execution_count": null,
   "metadata": {},
   "outputs": [],
   "source": [
    "sns.pairplot(df,\n",
    "            x_vars=['total_area', 'living_area', 'kitchen_area'],\n",
    "            y_vars='last_price',\n",
    "            dropna=True,\n",
    "            height=5,\n",
    "            aspect=1.5,\n",
    "            )"
   ]
  },
  {
   "cell_type": "markdown",
   "metadata": {},
   "source": [
    "Во всех случаях наблюдается прямая линейная зависимость. Цена квартиры больше зависит от общей площади квартиры. С жилой площадью и площадью кухни связь слабее, но есть."
   ]
  },
  {
   "cell_type": "code",
   "execution_count": null,
   "metadata": {},
   "outputs": [],
   "source": [
    "# средняя цена одного квадратного метра в 10 населённых пунктах с наибольшим числом объявлений\n",
    "(df\n",
    " .pivot_table(index='locality_name', values='price_meter', aggfunc={'count', 'mean'})\n",
    " .sort_values(by='count', ascending=False)\n",
    " .head(10)\n",
    ")"
   ]
  },
  {
   "cell_type": "code",
   "execution_count": null,
   "metadata": {},
   "outputs": [],
   "source": [
    "# средняя стоимость квартиры в Санкт-Петербурге в зависимости от расстояния до центра\n",
    "(df\n",
    " .query('locality_name == \"санкт-петербург\"')\n",
    " .pivot_table(index='city_centers_nearest_km',\n",
    "              values='last_price',\n",
    "              aggfunc={'mean', 'median'})\n",
    ")"
   ]
  },
  {
   "cell_type": "code",
   "execution_count": null,
   "metadata": {},
   "outputs": [],
   "source": [
    "\n",
    "(df\n",
    " .query('locality_name == \"санкт-петербург\"')\n",
    " .pivot_table(index='city_centers_nearest_km', \n",
    "              values='last_price', \n",
    "              aggfunc={'mean', 'median'})\n",
    " .plot(style='o-', \n",
    "       grid=True, \n",
    "       figsize=(8, 5), \n",
    "       title='Зависимость стоимости квартиры от расстояния до центра',\n",
    "       ylabel='Цена, 10 млн руб',\n",
    "       xlabel='Расстояние до центра, км')\n",
    ")"
   ]
  },
  {
   "cell_type": "markdown",
   "metadata": {},
   "source": [
    "**Вывод**<br>\n",
    "Чем дальше от центра, тем дешевле квартиры"
   ]
  },
  {
   "cell_type": "markdown",
   "metadata": {},
   "source": [
    "**Вывод**<br>\n",
    "Опираясь на результаты исследовательского анализа, можно делать следующие выводы:\n",
    "1) Больше всего квартир с площадью от 30 до 70 квадратных метров (с пиком в 39 кв.м.)<br>\n",
    "2) Пиковые объемы предложений приходятся на квартиры с жилой площадью около 18 и 30 кв.м. В среднем, жилая площадь составляет 50-60% от общей.<br>\n",
    "3) Сравнивая количество предложений по площади кухни, имеем следующую ситуацию: самая большая группа - квартиры без кухни; если кухня есть, в большинстве случаев ее площадь составляет от 5 до 12 кв.м. Так же у пользователей наблюдается тенденция указывать целые значения в графе площадь кухни - возможно, они указывают примерные значения, опираясь на свою память, а не из документов на квартиру.<br>\n",
    "4) Большинство квартир стоят от 3 до 5 млн. рублей.<br>\n",
    "5) Выявлена обратная линейная зависимость между количеством комнат в квартире и количеством предложений: чем больше комнат, тем меньше предложений.<br>\n",
    "6) \"Нормальным\" значением высоты потолка можно считать 2.6 метра.<br>\n",
    "7) Больше всего квартир ни на первом, ни на последнем этаже.<br>\n",
    "8) В сервисе преобладают квартиры в девяти- и пятиэтажных зданиях.<br>\n",
    "9) Основная масса квартир сконцентрирована в 10-18 км от центра, в центральных квартирах наблюдается локальный максимум в 5 км.<br>\n",
    "10) Основная масса квартир находится на расстоянии 150-750 метров от парка.<br>\n",
    "11) Большинство квартир было продано за 1-2 месяца. Медиана составляет 3 месяца<br>\n",
    "12) Цена квартиры линейно зависит от общей площади. Лучше всего размещать объявления в апреле, хуже - в июне. На цены квартир значительно повлял кризис 2016-2017 года, в данный период наблюдалась сильная просадка с дальнейшим плавным ростом.<br>\n",
    "13) В Санкт-Петербурге больше всего предложений и самые дорогие квартиры по сравнению с областью.<br>\n",
    "\n"
   ]
  },
  {
   "cell_type": "markdown",
   "metadata": {
    "id": "h7VpzkIDAwb-"
   },
   "source": [
    "### Напишите общий вывод"
   ]
  },
  {
   "cell_type": "markdown",
   "metadata": {
    "id": "3H4lnp_KAwb-"
   },
   "source": [
    "В предоставленном наборе данных было 23699 записей. Устранены пропуски в столбцах, где это было возможно, замечены и отсеяны аномальные значения, переименованы столбцы, столбцам присвоены типы данных.<br>\n",
    "Для проведения анализа в датасет были добавлены новые столбцы:<br>\n",
    "1) price_meter - цена за квадратный метр <br>\n",
    "2) weekday_publish - день недели публикации объявления<br>\n",
    "3) month_publish - месяц публикации объявления<br>\n",
    "4) year_publish - год публикации объявления<br>\n",
    "5) floor_type - тип этажа (первый, последний, другой)<br>\n",
    "6) city_centers_nearest_km - расстояние до центра в км<br>\n",
    "<br>\n",
    "В результате исследовательского анализа были выявлены следующие закономерности: <br>\n",
    "1) Больше всего квартир с площадью от 30 до 70 квадратных метров (с пиком в 39 кв.м.)<br>\n",
    "2) Пиковые объемы предложений приходятся на квартиры с жилой площадью около 18 и 30 кв.м. В среднем, жилая площадь составляет 50-60% от общей.<br>\n",
    "3) Сравнивая количество предложений по площади кухни, имеем следующую ситуацию: самая большая группа - квартиры без кухни; если кухня есть, в большинстве случаев ее площадь составляет от 5 до 12 кв.м. Так же у пользователей наблюдается тенденция указывать целые значения в графе площадь кухни - возможно, они указывают примерные значения, опираясь на свою память, а не из документов на квартиру.<br>\n",
    "4) Большинство квартир стоят от 3 до 5 млн. рублей.<br>\n",
    "5) Выявлена обратная линейная зависимость между количеством комнат в квартире и количеством предложений: чем больше комнат, тем меньше предложений.<br>\n",
    "6) \"Нормальным\" значением высоты потолка можно считать 2.6 метра.<br>\n",
    "7) Больше всего квартир ни на первом, ни на последнем этаже.<br>\n",
    "8) В сервисе преобладают квартиры в девяти- и пятиэтажных зданиях.<br>\n",
    "9) Основная масса квартир сконцентрирована в 10-18 км от центра, в центральных квартирах наблюдается локальный максимум в 5 км.<br>\n",
    "10) Основная масса квартир находится на расстоянии 150-750 метров от парка.<br>\n",
    "11) Большинство квартир было продано за 1-2 месяца. Медиана составляет 3 месяца<br>\n",
    "12) Цена квартиры линейно зависит от общей площади. Лучше всего размещать объявления в апреле, хуже - в июне. На цены квартир значительно повлял кризис 2016-2017 года, в данный период наблюдалась сильная просадка с дальнейшим плавным ростом.<br>\n",
    "13) В Санкт-Петербурге больше всего предложений и самые дорогие квартиры по сравнению с областью.<br>"
   ]
  },
  {
   "cell_type": "markdown",
   "metadata": {
    "id": "A90mc0BgAwb-"
   },
   "source": [
    "**Чек-лист готовности проекта**\n",
    "\n",
    "Поставьте 'x' в выполненных пунктах. Далее нажмите Shift+Enter."
   ]
  },
  {
   "cell_type": "markdown",
   "metadata": {
    "id": "ME3sTWm6Awb-"
   },
   "source": [
    "- [x]  Файл с данными открыт.\n",
    "- [x]  Файл с данными изучен: выведены первые строки, использован метод `info()`, построены гистограммы.\n",
    "- [x]  Найдены пропущенные значения.\n",
    "- [x]  Пропущенные значения заполнены там, где это возможно.\n",
    "- [x]  Объяснено, какие пропущенные значения обнаружены.\n",
    "- [x]  В каждом столбце установлен корректный тип данных.\n",
    "- [x]  Объяснено, в каких столбцах изменён тип данных и почему.\n",
    "- [x]  Устранены неявные дубликаты в названиях населённых пунктов.\n",
    "- [x]  Обработаны редкие и выбивающиеся значения (аномалии).\n",
    "- [x]  В таблицу добавлены новые параметры:\n",
    "       – цена одного квадратного метра;\n",
    "       – день публикации объявления (0 - понедельник, 1 - вторник и т. д.);\n",
    "       – месяц публикации объявления;\n",
    "       – год публикации объявления;\n",
    "       – тип этажа квартиры (значения — «первый», «последний», «другой»);\n",
    "       – расстояние до центра города в километрах.\n",
    "- [x]  Изучены и описаны параметры:\n",
    "        - общая площадь;\n",
    "        - жилая площадь;\n",
    "        - площадь кухни;\n",
    "        - цена объекта;\n",
    "        - количество комнат;\n",
    "        - высота потолков;\n",
    "        - тип этажа квартиры («первый», «последний», «другой»);\n",
    "        - общее количество этажей в доме;\n",
    "        - расстояние до центра города в метрах;\n",
    "        - расстояние до ближайшего парка.\n",
    "- [x]  Выполнено задание «Изучите, как быстро продавались квартиры (столбец `days_exposition`)»:\n",
    "    - построена гистограмма;\n",
    "    - рассчитаны среднее и медиана;\n",
    "    - описано, сколько обычно занимает продажа и указано, какие продажи можно считать быстрыми, а какие — необычно долгими.\n",
    "- [x]  Выполнено задание «Определите факторы, которые больше всего влияют на общую (полную) стоимость объекта». Построены графики, которые показывают зависимость цены от параметров:\n",
    "        - общая площадь;\n",
    "        - жилая площадь;\n",
    "        - площадь кухни;\n",
    "        - количество комнат;\n",
    "        - тип этажа, на котором расположена квартира (первый, последний, другой);\n",
    "        - дата размещения (день недели, месяц, год).\n",
    "- [x]  Выполнено задание «Посчитайте среднюю цену одного квадратного метра в 10 населённых пунктах с наибольшим числом объявлений»:\n",
    "    - выделены населённые пункты с самой высокой и низкой стоимостью квадратного метра.\n",
    "- [x]  Выполнено задание «Выделите квартиры в Санкт-Петербурге с помощью столбца `locality_name` и вычислите их среднюю стоимость на разном удалении от центра»:\n",
    "    -  учтён каждый километр расстояния, известны средние цены квартир в одном километре от центра, в двух и так далее;\n",
    "    -  описано, как стоимость объекта зависит от расстояния до центра города;\n",
    "    -  построен график изменения средней цены для каждого километра от центра Петербурга.\n",
    "- [x]  На каждом этапе сделаны промежуточные выводы.\n",
    "- [x]  В конце проекта сделан общий вывод."
   ]
  },
  {
   "cell_type": "code",
   "execution_count": null,
   "metadata": {},
   "outputs": [],
   "source": []
  },
  {
   "cell_type": "code",
   "execution_count": null,
   "metadata": {},
   "outputs": [],
   "source": []
  }
 ],
 "metadata": {
  "ExecuteTimeLog": [
   {
    "duration": 613,
    "start_time": "2024-04-23T12:21:39.334Z"
   },
   {
    "duration": 13,
    "start_time": "2024-04-23T12:21:57.293Z"
   },
   {
    "duration": 114,
    "start_time": "2024-04-23T12:22:27.267Z"
   },
   {
    "duration": 103,
    "start_time": "2024-04-23T12:22:29.253Z"
   },
   {
    "duration": 19,
    "start_time": "2024-04-23T12:22:30.596Z"
   },
   {
    "duration": 2256,
    "start_time": "2024-04-23T12:22:59.521Z"
   },
   {
    "duration": 0,
    "start_time": "2024-04-23T12:23:01.779Z"
   },
   {
    "duration": 97,
    "start_time": "2024-04-23T12:24:05.838Z"
   },
   {
    "duration": 13,
    "start_time": "2024-04-23T12:24:06.917Z"
   },
   {
    "duration": 38,
    "start_time": "2024-04-23T12:24:43.517Z"
   },
   {
    "duration": 85,
    "start_time": "2024-04-23T12:24:55.196Z"
   },
   {
    "duration": 6,
    "start_time": "2024-04-23T12:24:55.955Z"
   },
   {
    "duration": 88,
    "start_time": "2024-04-23T12:25:04.228Z"
   },
   {
    "duration": 24,
    "start_time": "2024-04-23T12:25:04.924Z"
   },
   {
    "duration": 26,
    "start_time": "2024-04-23T12:25:32.132Z"
   },
   {
    "duration": 20,
    "start_time": "2024-04-23T12:25:41.148Z"
   },
   {
    "duration": 2342,
    "start_time": "2024-04-23T12:26:21.709Z"
   },
   {
    "duration": 47,
    "start_time": "2024-04-24T06:13:23.254Z"
   },
   {
    "duration": 672,
    "start_time": "2024-04-24T06:13:27.901Z"
   },
   {
    "duration": 30,
    "start_time": "2024-04-24T06:13:28.575Z"
   },
   {
    "duration": 14,
    "start_time": "2024-04-24T06:13:30.349Z"
   },
   {
    "duration": 2264,
    "start_time": "2024-04-24T06:13:32.947Z"
   },
   {
    "duration": 12,
    "start_time": "2024-04-24T06:33:55.023Z"
   },
   {
    "duration": 3,
    "start_time": "2024-04-24T06:39:51.579Z"
   },
   {
    "duration": 10,
    "start_time": "2024-04-24T06:39:54.025Z"
   },
   {
    "duration": 5,
    "start_time": "2024-04-24T06:49:31.184Z"
   },
   {
    "duration": 33,
    "start_time": "2024-04-24T06:49:48.208Z"
   },
   {
    "duration": 7,
    "start_time": "2024-04-24T06:50:03.657Z"
   },
   {
    "duration": 7,
    "start_time": "2024-04-24T06:50:56.793Z"
   },
   {
    "duration": 3,
    "start_time": "2024-04-24T06:51:29.568Z"
   },
   {
    "duration": 2,
    "start_time": "2024-04-24T06:51:32.952Z"
   },
   {
    "duration": 3,
    "start_time": "2024-04-24T06:51:43.808Z"
   },
   {
    "duration": 4,
    "start_time": "2024-04-24T06:51:51.429Z"
   },
   {
    "duration": 3,
    "start_time": "2024-04-24T07:26:31.847Z"
   },
   {
    "duration": 103,
    "start_time": "2024-04-24T07:28:45.581Z"
   },
   {
    "duration": 4,
    "start_time": "2024-04-24T07:28:51.036Z"
   },
   {
    "duration": 9,
    "start_time": "2024-04-24T07:29:35.172Z"
   },
   {
    "duration": 12,
    "start_time": "2024-04-24T07:29:39.012Z"
   },
   {
    "duration": 86,
    "start_time": "2024-04-24T07:30:52.885Z"
   },
   {
    "duration": 5,
    "start_time": "2024-04-24T07:30:54.995Z"
   },
   {
    "duration": 5,
    "start_time": "2024-04-24T07:32:46.883Z"
   },
   {
    "duration": 4,
    "start_time": "2024-04-24T07:33:46.819Z"
   },
   {
    "duration": 4,
    "start_time": "2024-04-24T07:35:54.017Z"
   },
   {
    "duration": 5,
    "start_time": "2024-04-24T07:41:34.584Z"
   },
   {
    "duration": 5,
    "start_time": "2024-04-24T07:42:00.191Z"
   },
   {
    "duration": 12,
    "start_time": "2024-04-24T07:42:28.103Z"
   },
   {
    "duration": 5,
    "start_time": "2024-04-24T07:42:33.119Z"
   },
   {
    "duration": 6,
    "start_time": "2024-04-24T07:42:45.054Z"
   },
   {
    "duration": 8,
    "start_time": "2024-04-24T07:43:00.406Z"
   },
   {
    "duration": 5,
    "start_time": "2024-04-24T07:43:09.517Z"
   },
   {
    "duration": 5,
    "start_time": "2024-04-24T07:43:23.591Z"
   },
   {
    "duration": 7,
    "start_time": "2024-04-24T07:43:28.397Z"
   },
   {
    "duration": 4,
    "start_time": "2024-04-24T07:43:34.488Z"
   },
   {
    "duration": 6,
    "start_time": "2024-04-24T07:44:00.518Z"
   },
   {
    "duration": 5,
    "start_time": "2024-04-24T07:44:15.644Z"
   },
   {
    "duration": 6,
    "start_time": "2024-04-24T07:44:23.770Z"
   },
   {
    "duration": 5,
    "start_time": "2024-04-24T07:48:19.639Z"
   },
   {
    "duration": 12,
    "start_time": "2024-04-24T07:50:10.836Z"
   },
   {
    "duration": 20,
    "start_time": "2024-04-24T07:51:12.235Z"
   },
   {
    "duration": 6,
    "start_time": "2024-04-24T07:58:43.353Z"
   },
   {
    "duration": 6,
    "start_time": "2024-04-24T07:59:50.160Z"
   },
   {
    "duration": 4,
    "start_time": "2024-04-24T08:48:01.555Z"
   },
   {
    "duration": 4,
    "start_time": "2024-04-24T08:48:22.208Z"
   },
   {
    "duration": 6,
    "start_time": "2024-04-24T08:48:46.928Z"
   },
   {
    "duration": 9,
    "start_time": "2024-04-24T08:56:50.926Z"
   },
   {
    "duration": 4,
    "start_time": "2024-04-24T08:57:13.230Z"
   },
   {
    "duration": 7,
    "start_time": "2024-04-24T08:57:27.342Z"
   },
   {
    "duration": 6,
    "start_time": "2024-04-24T09:39:11.049Z"
   },
   {
    "duration": 10,
    "start_time": "2024-04-24T09:42:18.928Z"
   },
   {
    "duration": 18,
    "start_time": "2024-04-24T09:42:51.071Z"
   },
   {
    "duration": 21,
    "start_time": "2024-04-24T09:43:29.586Z"
   },
   {
    "duration": 38,
    "start_time": "2024-04-24T09:44:21.320Z"
   },
   {
    "duration": 38,
    "start_time": "2024-04-24T11:08:16.406Z"
   },
   {
    "duration": 22,
    "start_time": "2024-04-24T11:08:24.868Z"
   },
   {
    "duration": 28,
    "start_time": "2024-04-24T11:08:32.614Z"
   },
   {
    "duration": 34,
    "start_time": "2024-04-24T11:08:36.603Z"
   },
   {
    "duration": 35,
    "start_time": "2024-04-24T11:09:40.875Z"
   },
   {
    "duration": 37,
    "start_time": "2024-04-24T11:09:46.228Z"
   },
   {
    "duration": 54,
    "start_time": "2024-04-24T11:09:53.107Z"
   },
   {
    "duration": 43,
    "start_time": "2024-04-24T11:09:59.704Z"
   },
   {
    "duration": 46,
    "start_time": "2024-04-24T11:10:06.187Z"
   },
   {
    "duration": 37,
    "start_time": "2024-04-24T11:11:14.164Z"
   },
   {
    "duration": 5,
    "start_time": "2024-04-24T11:12:00.661Z"
   },
   {
    "duration": 38,
    "start_time": "2024-04-24T11:25:28.773Z"
   },
   {
    "duration": 39,
    "start_time": "2024-04-24T11:25:56.534Z"
   },
   {
    "duration": 39,
    "start_time": "2024-04-24T11:26:07.777Z"
   },
   {
    "duration": 522,
    "start_time": "2024-04-24T11:32:17.049Z"
   },
   {
    "duration": 31,
    "start_time": "2024-04-24T11:32:17.573Z"
   },
   {
    "duration": 17,
    "start_time": "2024-04-24T11:32:17.605Z"
   },
   {
    "duration": 2111,
    "start_time": "2024-04-24T11:32:17.624Z"
   },
   {
    "duration": 4,
    "start_time": "2024-04-24T11:32:19.736Z"
   },
   {
    "duration": 38,
    "start_time": "2024-04-24T11:32:19.741Z"
   },
   {
    "duration": 46,
    "start_time": "2024-04-24T11:32:19.780Z"
   },
   {
    "duration": 37,
    "start_time": "2024-04-24T11:32:19.827Z"
   },
   {
    "duration": 40,
    "start_time": "2024-04-24T11:32:19.865Z"
   },
   {
    "duration": 80,
    "start_time": "2024-04-24T11:32:19.907Z"
   },
   {
    "duration": 137,
    "start_time": "2024-04-24T11:32:19.989Z"
   },
   {
    "duration": 62,
    "start_time": "2024-04-24T11:32:20.127Z"
   },
   {
    "duration": 44,
    "start_time": "2024-04-24T11:32:20.190Z"
   },
   {
    "duration": 61,
    "start_time": "2024-04-24T11:32:20.236Z"
   },
   {
    "duration": 132,
    "start_time": "2024-04-24T11:32:20.299Z"
   },
   {
    "duration": 141,
    "start_time": "2024-04-24T11:32:20.433Z"
   },
   {
    "duration": 0,
    "start_time": "2024-04-24T11:32:20.576Z"
   },
   {
    "duration": 5,
    "start_time": "2024-04-24T11:32:56.282Z"
   },
   {
    "duration": 16,
    "start_time": "2024-04-24T11:32:58.618Z"
   },
   {
    "duration": 515,
    "start_time": "2024-04-24T11:33:05.158Z"
   },
   {
    "duration": 29,
    "start_time": "2024-04-24T11:33:05.674Z"
   },
   {
    "duration": 13,
    "start_time": "2024-04-24T11:33:05.705Z"
   },
   {
    "duration": 2195,
    "start_time": "2024-04-24T11:33:05.720Z"
   },
   {
    "duration": 4,
    "start_time": "2024-04-24T11:33:07.916Z"
   },
   {
    "duration": 44,
    "start_time": "2024-04-24T11:33:07.921Z"
   },
   {
    "duration": 16,
    "start_time": "2024-04-24T11:33:07.967Z"
   },
   {
    "duration": 6,
    "start_time": "2024-04-24T11:33:07.985Z"
   },
   {
    "duration": 29,
    "start_time": "2024-04-24T11:33:07.993Z"
   },
   {
    "duration": 53,
    "start_time": "2024-04-24T11:33:08.025Z"
   },
   {
    "duration": 20,
    "start_time": "2024-04-24T11:33:08.080Z"
   },
   {
    "duration": 24,
    "start_time": "2024-04-24T11:33:08.102Z"
   },
   {
    "duration": 23,
    "start_time": "2024-04-24T11:33:08.128Z"
   },
   {
    "duration": 18,
    "start_time": "2024-04-24T11:33:08.153Z"
   },
   {
    "duration": 14,
    "start_time": "2024-04-24T11:33:08.173Z"
   },
   {
    "duration": 6,
    "start_time": "2024-04-24T11:33:08.188Z"
   },
   {
    "duration": 24,
    "start_time": "2024-04-24T11:33:08.195Z"
   },
   {
    "duration": 4,
    "start_time": "2024-04-24T11:33:35.611Z"
   },
   {
    "duration": 19,
    "start_time": "2024-04-24T11:55:50.292Z"
   },
   {
    "duration": 7,
    "start_time": "2024-04-24T11:56:00.187Z"
   },
   {
    "duration": 50,
    "start_time": "2024-04-24T12:35:06.509Z"
   },
   {
    "duration": 28,
    "start_time": "2024-04-24T12:35:32.910Z"
   },
   {
    "duration": 94,
    "start_time": "2024-04-24T12:36:16.861Z"
   },
   {
    "duration": 30,
    "start_time": "2024-04-24T12:36:33.500Z"
   },
   {
    "duration": 29,
    "start_time": "2024-04-24T12:36:46.948Z"
   },
   {
    "duration": 33,
    "start_time": "2024-04-24T12:37:50.356Z"
   },
   {
    "duration": 33,
    "start_time": "2024-04-24T12:38:13.683Z"
   },
   {
    "duration": 29,
    "start_time": "2024-04-24T12:38:56.444Z"
   },
   {
    "duration": 28,
    "start_time": "2024-04-24T12:39:50.667Z"
   },
   {
    "duration": 13,
    "start_time": "2024-04-24T12:41:41.906Z"
   },
   {
    "duration": 4,
    "start_time": "2024-04-24T12:41:56.283Z"
   },
   {
    "duration": 5,
    "start_time": "2024-04-24T12:52:29.904Z"
   },
   {
    "duration": 88,
    "start_time": "2024-04-24T12:54:18.447Z"
   },
   {
    "duration": 8,
    "start_time": "2024-04-24T13:06:13.186Z"
   },
   {
    "duration": 5,
    "start_time": "2024-04-24T13:06:27.522Z"
   },
   {
    "duration": 40,
    "start_time": "2024-04-24T13:06:54.275Z"
   },
   {
    "duration": 5,
    "start_time": "2024-04-24T13:09:09.819Z"
   },
   {
    "duration": 29,
    "start_time": "2024-04-24T13:11:28.448Z"
   },
   {
    "duration": 5,
    "start_time": "2024-04-24T13:13:41.608Z"
   },
   {
    "duration": 9,
    "start_time": "2024-04-24T13:14:19.960Z"
   },
   {
    "duration": 1213,
    "start_time": "2024-04-24T13:16:16.448Z"
   },
   {
    "duration": 5,
    "start_time": "2024-04-24T13:16:46.746Z"
   },
   {
    "duration": 8,
    "start_time": "2024-04-24T13:18:23.151Z"
   },
   {
    "duration": 10,
    "start_time": "2024-04-24T13:19:28.118Z"
   },
   {
    "duration": 33,
    "start_time": "2024-04-24T13:20:07.430Z"
   },
   {
    "duration": 3,
    "start_time": "2024-04-24T13:23:19.854Z"
   },
   {
    "duration": 6,
    "start_time": "2024-04-24T13:23:47.999Z"
   },
   {
    "duration": 5,
    "start_time": "2024-04-24T13:24:37.757Z"
   },
   {
    "duration": 13,
    "start_time": "2024-04-24T13:25:40.398Z"
   },
   {
    "duration": 9,
    "start_time": "2024-04-24T13:25:59.718Z"
   },
   {
    "duration": 7,
    "start_time": "2024-04-24T13:26:14.381Z"
   },
   {
    "duration": 9,
    "start_time": "2024-04-24T13:26:20.469Z"
   },
   {
    "duration": 493,
    "start_time": "2024-04-24T13:26:29.135Z"
   },
   {
    "duration": 30,
    "start_time": "2024-04-24T13:26:29.630Z"
   },
   {
    "duration": 28,
    "start_time": "2024-04-24T13:26:29.661Z"
   },
   {
    "duration": 2192,
    "start_time": "2024-04-24T13:26:29.691Z"
   },
   {
    "duration": 4,
    "start_time": "2024-04-24T13:26:31.884Z"
   },
   {
    "duration": 181,
    "start_time": "2024-04-24T13:26:31.890Z"
   },
   {
    "duration": 99,
    "start_time": "2024-04-24T13:26:32.073Z"
   },
   {
    "duration": 273,
    "start_time": "2024-04-24T13:26:32.174Z"
   },
   {
    "duration": 94,
    "start_time": "2024-04-24T13:26:32.449Z"
   },
   {
    "duration": 85,
    "start_time": "2024-04-24T13:26:32.545Z"
   },
   {
    "duration": 27,
    "start_time": "2024-04-24T13:26:32.632Z"
   },
   {
    "duration": 27,
    "start_time": "2024-04-24T13:26:32.660Z"
   },
   {
    "duration": 26,
    "start_time": "2024-04-24T13:26:32.689Z"
   },
   {
    "duration": 29,
    "start_time": "2024-04-24T13:26:32.716Z"
   },
   {
    "duration": 49,
    "start_time": "2024-04-24T13:26:32.747Z"
   },
   {
    "duration": 19,
    "start_time": "2024-04-24T13:26:32.797Z"
   },
   {
    "duration": 23,
    "start_time": "2024-04-24T13:26:32.817Z"
   },
   {
    "duration": 20,
    "start_time": "2024-04-24T13:26:32.841Z"
   },
   {
    "duration": 51,
    "start_time": "2024-04-24T13:26:32.863Z"
   },
   {
    "duration": 5,
    "start_time": "2024-04-24T13:26:32.915Z"
   },
   {
    "duration": 16,
    "start_time": "2024-04-24T13:26:32.921Z"
   },
   {
    "duration": 5,
    "start_time": "2024-04-24T13:26:32.939Z"
   },
   {
    "duration": 14,
    "start_time": "2024-04-24T13:26:32.946Z"
   },
   {
    "duration": 48,
    "start_time": "2024-04-24T13:26:32.961Z"
   },
   {
    "duration": 5,
    "start_time": "2024-04-24T13:26:33.011Z"
   },
   {
    "duration": 8,
    "start_time": "2024-04-24T13:26:33.017Z"
   },
   {
    "duration": 11,
    "start_time": "2024-04-24T13:26:33.027Z"
   },
   {
    "duration": 7,
    "start_time": "2024-04-24T13:26:59.364Z"
   },
   {
    "duration": 65,
    "start_time": "2024-04-25T07:06:05.553Z"
   },
   {
    "duration": 630,
    "start_time": "2024-04-25T07:06:11.643Z"
   },
   {
    "duration": 33,
    "start_time": "2024-04-25T07:06:12.275Z"
   },
   {
    "duration": 15,
    "start_time": "2024-04-25T07:06:12.309Z"
   },
   {
    "duration": 2526,
    "start_time": "2024-04-25T07:06:12.326Z"
   },
   {
    "duration": 4,
    "start_time": "2024-04-25T07:06:14.854Z"
   },
   {
    "duration": 16,
    "start_time": "2024-04-25T07:06:14.860Z"
   },
   {
    "duration": 4,
    "start_time": "2024-04-25T07:06:14.878Z"
   },
   {
    "duration": 8,
    "start_time": "2024-04-25T07:06:14.883Z"
   },
   {
    "duration": 5,
    "start_time": "2024-04-25T07:06:14.892Z"
   },
   {
    "duration": 9,
    "start_time": "2024-04-25T07:06:14.899Z"
   },
   {
    "duration": 6,
    "start_time": "2024-04-25T07:06:14.909Z"
   },
   {
    "duration": 5,
    "start_time": "2024-04-25T07:06:14.916Z"
   },
   {
    "duration": 11,
    "start_time": "2024-04-25T07:06:14.923Z"
   },
   {
    "duration": 11,
    "start_time": "2024-04-25T07:06:14.935Z"
   },
   {
    "duration": 34,
    "start_time": "2024-04-25T07:06:14.948Z"
   },
   {
    "duration": 5,
    "start_time": "2024-04-25T07:06:14.984Z"
   },
   {
    "duration": 4,
    "start_time": "2024-04-25T07:06:14.991Z"
   },
   {
    "duration": 5,
    "start_time": "2024-04-25T07:06:14.997Z"
   },
   {
    "duration": 34,
    "start_time": "2024-04-25T07:06:15.003Z"
   },
   {
    "duration": 5,
    "start_time": "2024-04-25T07:06:15.039Z"
   },
   {
    "duration": 43,
    "start_time": "2024-04-25T07:06:15.046Z"
   },
   {
    "duration": 17,
    "start_time": "2024-04-25T07:06:15.090Z"
   },
   {
    "duration": 22,
    "start_time": "2024-04-25T07:06:15.108Z"
   },
   {
    "duration": 47,
    "start_time": "2024-04-25T07:06:15.131Z"
   },
   {
    "duration": 5,
    "start_time": "2024-04-25T07:06:15.179Z"
   },
   {
    "duration": 14,
    "start_time": "2024-04-25T07:06:15.185Z"
   },
   {
    "duration": 11,
    "start_time": "2024-04-25T07:06:15.201Z"
   },
   {
    "duration": 7,
    "start_time": "2024-04-25T07:06:15.215Z"
   },
   {
    "duration": 77,
    "start_time": "2024-04-25T07:07:02.684Z"
   },
   {
    "duration": 10,
    "start_time": "2024-04-25T07:07:15.844Z"
   },
   {
    "duration": 15,
    "start_time": "2024-04-25T07:07:38.443Z"
   },
   {
    "duration": 20,
    "start_time": "2024-04-25T07:07:50.193Z"
   },
   {
    "duration": 53,
    "start_time": "2024-04-25T08:29:12.833Z"
   },
   {
    "duration": 40,
    "start_time": "2024-04-25T08:29:55.317Z"
   },
   {
    "duration": 244,
    "start_time": "2024-04-25T08:30:25.773Z"
   },
   {
    "duration": 485,
    "start_time": "2024-04-25T08:33:06.332Z"
   },
   {
    "duration": 33,
    "start_time": "2024-04-25T08:33:06.819Z"
   },
   {
    "duration": 14,
    "start_time": "2024-04-25T08:33:06.854Z"
   },
   {
    "duration": 2334,
    "start_time": "2024-04-25T08:33:06.870Z"
   },
   {
    "duration": 4,
    "start_time": "2024-04-25T08:33:09.207Z"
   },
   {
    "duration": 20,
    "start_time": "2024-04-25T08:33:09.212Z"
   },
   {
    "duration": 4,
    "start_time": "2024-04-25T08:33:09.234Z"
   },
   {
    "duration": 8,
    "start_time": "2024-04-25T08:33:09.239Z"
   },
   {
    "duration": 6,
    "start_time": "2024-04-25T08:33:09.248Z"
   },
   {
    "duration": 8,
    "start_time": "2024-04-25T08:33:09.256Z"
   },
   {
    "duration": 6,
    "start_time": "2024-04-25T08:33:09.265Z"
   },
   {
    "duration": 10,
    "start_time": "2024-04-25T08:33:09.273Z"
   },
   {
    "duration": 12,
    "start_time": "2024-04-25T08:33:09.284Z"
   },
   {
    "duration": 7,
    "start_time": "2024-04-25T08:33:09.297Z"
   },
   {
    "duration": 14,
    "start_time": "2024-04-25T08:33:09.305Z"
   },
   {
    "duration": 5,
    "start_time": "2024-04-25T08:33:09.321Z"
   },
   {
    "duration": 5,
    "start_time": "2024-04-25T08:33:09.328Z"
   },
   {
    "duration": 5,
    "start_time": "2024-04-25T08:33:09.334Z"
   },
   {
    "duration": 65,
    "start_time": "2024-04-25T08:33:09.340Z"
   },
   {
    "duration": 5,
    "start_time": "2024-04-25T08:33:09.407Z"
   },
   {
    "duration": 21,
    "start_time": "2024-04-25T08:33:09.414Z"
   },
   {
    "duration": 8,
    "start_time": "2024-04-25T08:33:09.436Z"
   },
   {
    "duration": 14,
    "start_time": "2024-04-25T08:33:09.445Z"
   },
   {
    "duration": 45,
    "start_time": "2024-04-25T08:33:09.460Z"
   },
   {
    "duration": 5,
    "start_time": "2024-04-25T08:33:09.506Z"
   },
   {
    "duration": 5,
    "start_time": "2024-04-25T08:33:09.513Z"
   },
   {
    "duration": 21,
    "start_time": "2024-04-25T08:33:09.519Z"
   },
   {
    "duration": 7,
    "start_time": "2024-04-25T08:33:09.543Z"
   },
   {
    "duration": 240,
    "start_time": "2024-04-25T08:33:09.551Z"
   },
   {
    "duration": 297,
    "start_time": "2024-04-25T08:36:07.388Z"
   },
   {
    "duration": 231,
    "start_time": "2024-04-25T08:37:19.236Z"
   },
   {
    "duration": 231,
    "start_time": "2024-04-25T08:38:15.707Z"
   },
   {
    "duration": 7,
    "start_time": "2024-04-25T08:39:08.666Z"
   },
   {
    "duration": 6,
    "start_time": "2024-04-25T08:39:27.282Z"
   },
   {
    "duration": 18,
    "start_time": "2024-04-25T08:54:46.735Z"
   },
   {
    "duration": 194,
    "start_time": "2024-04-25T08:59:01.198Z"
   },
   {
    "duration": 505,
    "start_time": "2024-04-25T08:59:11.307Z"
   },
   {
    "duration": 34,
    "start_time": "2024-04-25T08:59:11.813Z"
   },
   {
    "duration": 17,
    "start_time": "2024-04-25T08:59:11.849Z"
   },
   {
    "duration": 2342,
    "start_time": "2024-04-25T08:59:11.883Z"
   },
   {
    "duration": 4,
    "start_time": "2024-04-25T08:59:14.226Z"
   },
   {
    "duration": 17,
    "start_time": "2024-04-25T08:59:14.231Z"
   },
   {
    "duration": 4,
    "start_time": "2024-04-25T08:59:14.250Z"
   },
   {
    "duration": 6,
    "start_time": "2024-04-25T08:59:14.255Z"
   },
   {
    "duration": 8,
    "start_time": "2024-04-25T08:59:14.262Z"
   },
   {
    "duration": 13,
    "start_time": "2024-04-25T08:59:14.273Z"
   },
   {
    "duration": 5,
    "start_time": "2024-04-25T08:59:14.288Z"
   },
   {
    "duration": 6,
    "start_time": "2024-04-25T08:59:14.295Z"
   },
   {
    "duration": 11,
    "start_time": "2024-04-25T08:59:14.302Z"
   },
   {
    "duration": 4,
    "start_time": "2024-04-25T08:59:14.315Z"
   },
   {
    "duration": 9,
    "start_time": "2024-04-25T08:59:14.321Z"
   },
   {
    "duration": 53,
    "start_time": "2024-04-25T08:59:14.331Z"
   },
   {
    "duration": 5,
    "start_time": "2024-04-25T08:59:14.386Z"
   },
   {
    "duration": 13,
    "start_time": "2024-04-25T08:59:14.392Z"
   },
   {
    "duration": 35,
    "start_time": "2024-04-25T08:59:14.406Z"
   },
   {
    "duration": 5,
    "start_time": "2024-04-25T08:59:14.443Z"
   },
   {
    "duration": 10,
    "start_time": "2024-04-25T08:59:14.450Z"
   },
   {
    "duration": 5,
    "start_time": "2024-04-25T08:59:14.483Z"
   },
   {
    "duration": 15,
    "start_time": "2024-04-25T08:59:14.489Z"
   },
   {
    "duration": 54,
    "start_time": "2024-04-25T08:59:14.505Z"
   },
   {
    "duration": 5,
    "start_time": "2024-04-25T08:59:14.561Z"
   },
   {
    "duration": 14,
    "start_time": "2024-04-25T08:59:14.568Z"
   },
   {
    "duration": 10,
    "start_time": "2024-04-25T08:59:14.583Z"
   },
   {
    "duration": 18,
    "start_time": "2024-04-25T08:59:14.596Z"
   },
   {
    "duration": 234,
    "start_time": "2024-04-25T08:59:14.616Z"
   },
   {
    "duration": 6,
    "start_time": "2024-04-25T08:59:14.851Z"
   },
   {
    "duration": 6,
    "start_time": "2024-04-25T08:59:14.859Z"
   },
   {
    "duration": 310,
    "start_time": "2024-04-25T08:59:14.867Z"
   },
   {
    "duration": 490,
    "start_time": "2024-04-25T08:59:48.517Z"
   },
   {
    "duration": 36,
    "start_time": "2024-04-25T08:59:49.010Z"
   },
   {
    "duration": 17,
    "start_time": "2024-04-25T08:59:49.048Z"
   },
   {
    "duration": 2407,
    "start_time": "2024-04-25T08:59:49.082Z"
   },
   {
    "duration": 4,
    "start_time": "2024-04-25T08:59:51.490Z"
   },
   {
    "duration": 52,
    "start_time": "2024-04-25T08:59:51.496Z"
   },
   {
    "duration": 11,
    "start_time": "2024-04-25T08:59:51.550Z"
   },
   {
    "duration": 38,
    "start_time": "2024-04-25T08:59:51.563Z"
   },
   {
    "duration": 64,
    "start_time": "2024-04-25T08:59:51.603Z"
   },
   {
    "duration": 46,
    "start_time": "2024-04-25T08:59:51.669Z"
   },
   {
    "duration": 52,
    "start_time": "2024-04-25T08:59:51.717Z"
   },
   {
    "duration": 24,
    "start_time": "2024-04-25T08:59:51.770Z"
   },
   {
    "duration": 74,
    "start_time": "2024-04-25T08:59:51.796Z"
   },
   {
    "duration": 80,
    "start_time": "2024-04-25T08:59:51.872Z"
   },
   {
    "duration": 37,
    "start_time": "2024-04-25T08:59:51.953Z"
   },
   {
    "duration": 54,
    "start_time": "2024-04-25T08:59:51.992Z"
   },
   {
    "duration": 26,
    "start_time": "2024-04-25T08:59:52.048Z"
   },
   {
    "duration": 24,
    "start_time": "2024-04-25T08:59:52.075Z"
   },
   {
    "duration": 62,
    "start_time": "2024-04-25T08:59:52.101Z"
   },
   {
    "duration": 6,
    "start_time": "2024-04-25T08:59:52.164Z"
   },
   {
    "duration": 23,
    "start_time": "2024-04-25T08:59:52.171Z"
   },
   {
    "duration": 8,
    "start_time": "2024-04-25T08:59:52.196Z"
   },
   {
    "duration": 37,
    "start_time": "2024-04-25T08:59:52.206Z"
   },
   {
    "duration": 77,
    "start_time": "2024-04-25T08:59:52.245Z"
   },
   {
    "duration": 6,
    "start_time": "2024-04-25T08:59:52.324Z"
   },
   {
    "duration": 12,
    "start_time": "2024-04-25T08:59:52.332Z"
   },
   {
    "duration": 34,
    "start_time": "2024-04-25T08:59:52.345Z"
   },
   {
    "duration": 26,
    "start_time": "2024-04-25T08:59:52.383Z"
   },
   {
    "duration": 278,
    "start_time": "2024-04-25T08:59:52.411Z"
   },
   {
    "duration": 5,
    "start_time": "2024-04-25T08:59:52.691Z"
   },
   {
    "duration": 9,
    "start_time": "2024-04-25T08:59:52.697Z"
   },
   {
    "duration": 30,
    "start_time": "2024-04-25T08:59:52.708Z"
   },
   {
    "duration": 20,
    "start_time": "2024-04-25T09:00:10.357Z"
   },
   {
    "duration": 540,
    "start_time": "2024-04-25T09:00:41.465Z"
   },
   {
    "duration": 33,
    "start_time": "2024-04-25T09:00:42.007Z"
   },
   {
    "duration": 17,
    "start_time": "2024-04-25T09:00:42.042Z"
   },
   {
    "duration": 2315,
    "start_time": "2024-04-25T09:00:42.061Z"
   },
   {
    "duration": 6,
    "start_time": "2024-04-25T09:00:44.378Z"
   },
   {
    "duration": 22,
    "start_time": "2024-04-25T09:00:44.386Z"
   },
   {
    "duration": 13,
    "start_time": "2024-04-25T09:00:44.411Z"
   },
   {
    "duration": 9,
    "start_time": "2024-04-25T09:00:44.425Z"
   },
   {
    "duration": 10,
    "start_time": "2024-04-25T09:00:44.435Z"
   },
   {
    "duration": 15,
    "start_time": "2024-04-25T09:00:44.447Z"
   },
   {
    "duration": 5,
    "start_time": "2024-04-25T09:00:44.464Z"
   },
   {
    "duration": 30,
    "start_time": "2024-04-25T09:00:44.471Z"
   },
   {
    "duration": 20,
    "start_time": "2024-04-25T09:00:44.502Z"
   },
   {
    "duration": 6,
    "start_time": "2024-04-25T09:00:44.523Z"
   },
   {
    "duration": 6,
    "start_time": "2024-04-25T09:00:44.531Z"
   },
   {
    "duration": 6,
    "start_time": "2024-04-25T09:00:44.538Z"
   },
   {
    "duration": 6,
    "start_time": "2024-04-25T09:00:44.545Z"
   },
   {
    "duration": 5,
    "start_time": "2024-04-25T09:00:44.552Z"
   },
   {
    "duration": 45,
    "start_time": "2024-04-25T09:00:44.558Z"
   },
   {
    "duration": 5,
    "start_time": "2024-04-25T09:00:44.605Z"
   },
   {
    "duration": 11,
    "start_time": "2024-04-25T09:00:44.611Z"
   },
   {
    "duration": 5,
    "start_time": "2024-04-25T09:00:44.623Z"
   },
   {
    "duration": 7,
    "start_time": "2024-04-25T09:00:44.630Z"
   },
   {
    "duration": 61,
    "start_time": "2024-04-25T09:00:44.638Z"
   },
   {
    "duration": 6,
    "start_time": "2024-04-25T09:00:44.700Z"
   },
   {
    "duration": 7,
    "start_time": "2024-04-25T09:00:44.708Z"
   },
   {
    "duration": 25,
    "start_time": "2024-04-25T09:00:44.716Z"
   },
   {
    "duration": 27,
    "start_time": "2024-04-25T09:00:44.744Z"
   },
   {
    "duration": 237,
    "start_time": "2024-04-25T09:00:44.773Z"
   },
   {
    "duration": 5,
    "start_time": "2024-04-25T09:00:45.012Z"
   },
   {
    "duration": 46,
    "start_time": "2024-04-25T09:00:45.019Z"
   },
   {
    "duration": 70,
    "start_time": "2024-04-25T09:00:45.067Z"
   },
   {
    "duration": 19,
    "start_time": "2024-04-25T09:00:45.139Z"
   },
   {
    "duration": 26,
    "start_time": "2024-04-25T09:01:43.718Z"
   },
   {
    "duration": 11,
    "start_time": "2024-04-25T09:01:49.837Z"
   },
   {
    "duration": 15,
    "start_time": "2024-04-25T09:01:50.501Z"
   },
   {
    "duration": 484,
    "start_time": "2024-04-25T09:01:56.437Z"
   },
   {
    "duration": 35,
    "start_time": "2024-04-25T09:01:56.922Z"
   },
   {
    "duration": 27,
    "start_time": "2024-04-25T09:01:56.958Z"
   },
   {
    "duration": 2413,
    "start_time": "2024-04-25T09:01:56.987Z"
   },
   {
    "duration": 4,
    "start_time": "2024-04-25T09:01:59.402Z"
   },
   {
    "duration": 24,
    "start_time": "2024-04-25T09:01:59.407Z"
   },
   {
    "duration": 6,
    "start_time": "2024-04-25T09:01:59.433Z"
   },
   {
    "duration": 14,
    "start_time": "2024-04-25T09:01:59.440Z"
   },
   {
    "duration": 6,
    "start_time": "2024-04-25T09:01:59.456Z"
   },
   {
    "duration": 5,
    "start_time": "2024-04-25T09:01:59.465Z"
   },
   {
    "duration": 14,
    "start_time": "2024-04-25T09:01:59.471Z"
   },
   {
    "duration": 6,
    "start_time": "2024-04-25T09:01:59.487Z"
   },
   {
    "duration": 14,
    "start_time": "2024-04-25T09:01:59.494Z"
   },
   {
    "duration": 5,
    "start_time": "2024-04-25T09:01:59.510Z"
   },
   {
    "duration": 11,
    "start_time": "2024-04-25T09:01:59.517Z"
   },
   {
    "duration": 6,
    "start_time": "2024-04-25T09:01:59.530Z"
   },
   {
    "duration": 6,
    "start_time": "2024-04-25T09:01:59.537Z"
   },
   {
    "duration": 42,
    "start_time": "2024-04-25T09:01:59.544Z"
   },
   {
    "duration": 35,
    "start_time": "2024-04-25T09:01:59.587Z"
   },
   {
    "duration": 5,
    "start_time": "2024-04-25T09:01:59.624Z"
   },
   {
    "duration": 36,
    "start_time": "2024-04-25T09:01:59.630Z"
   },
   {
    "duration": 5,
    "start_time": "2024-04-25T09:01:59.668Z"
   },
   {
    "duration": 12,
    "start_time": "2024-04-25T09:01:59.675Z"
   },
   {
    "duration": 41,
    "start_time": "2024-04-25T09:01:59.689Z"
   },
   {
    "duration": 6,
    "start_time": "2024-04-25T09:01:59.731Z"
   },
   {
    "duration": 9,
    "start_time": "2024-04-25T09:01:59.739Z"
   },
   {
    "duration": 32,
    "start_time": "2024-04-25T09:01:59.750Z"
   },
   {
    "duration": 7,
    "start_time": "2024-04-25T09:01:59.785Z"
   },
   {
    "duration": 242,
    "start_time": "2024-04-25T09:01:59.794Z"
   },
   {
    "duration": 6,
    "start_time": "2024-04-25T09:02:00.038Z"
   },
   {
    "duration": 61,
    "start_time": "2024-04-25T09:02:00.045Z"
   },
   {
    "duration": 83,
    "start_time": "2024-04-25T09:02:00.108Z"
   },
   {
    "duration": 20,
    "start_time": "2024-04-25T09:02:00.192Z"
   },
   {
    "duration": 10,
    "start_time": "2024-04-25T09:02:28.171Z"
   },
   {
    "duration": 13,
    "start_time": "2024-04-25T09:03:13.162Z"
   },
   {
    "duration": 6,
    "start_time": "2024-04-25T09:22:10.360Z"
   },
   {
    "duration": 27,
    "start_time": "2024-04-25T09:22:19.351Z"
   },
   {
    "duration": 9,
    "start_time": "2024-04-25T09:24:42.550Z"
   },
   {
    "duration": 9,
    "start_time": "2024-04-25T11:25:28.924Z"
   },
   {
    "duration": 7,
    "start_time": "2024-04-25T11:26:21.163Z"
   },
   {
    "duration": 4,
    "start_time": "2024-04-25T11:31:48.339Z"
   },
   {
    "duration": 341,
    "start_time": "2024-04-25T11:32:50.244Z"
   },
   {
    "duration": 8,
    "start_time": "2024-04-25T11:35:57.956Z"
   },
   {
    "duration": 8,
    "start_time": "2024-04-25T11:36:16.518Z"
   },
   {
    "duration": 10,
    "start_time": "2024-04-25T11:36:24.220Z"
   },
   {
    "duration": 6,
    "start_time": "2024-04-25T11:36:29.915Z"
   },
   {
    "duration": 536,
    "start_time": "2024-04-25T11:37:49.968Z"
   },
   {
    "duration": 32,
    "start_time": "2024-04-25T11:37:50.506Z"
   },
   {
    "duration": 15,
    "start_time": "2024-04-25T11:37:50.540Z"
   },
   {
    "duration": 2415,
    "start_time": "2024-04-25T11:37:50.557Z"
   },
   {
    "duration": 4,
    "start_time": "2024-04-25T11:37:52.974Z"
   },
   {
    "duration": 12,
    "start_time": "2024-04-25T11:37:52.980Z"
   },
   {
    "duration": 4,
    "start_time": "2024-04-25T11:37:52.994Z"
   },
   {
    "duration": 6,
    "start_time": "2024-04-25T11:37:53.000Z"
   },
   {
    "duration": 13,
    "start_time": "2024-04-25T11:37:53.008Z"
   },
   {
    "duration": 5,
    "start_time": "2024-04-25T11:37:53.024Z"
   },
   {
    "duration": 6,
    "start_time": "2024-04-25T11:37:53.030Z"
   },
   {
    "duration": 5,
    "start_time": "2024-04-25T11:37:53.037Z"
   },
   {
    "duration": 41,
    "start_time": "2024-04-25T11:37:53.043Z"
   },
   {
    "duration": 5,
    "start_time": "2024-04-25T11:37:53.086Z"
   },
   {
    "duration": 12,
    "start_time": "2024-04-25T11:37:53.093Z"
   },
   {
    "duration": 12,
    "start_time": "2024-04-25T11:37:53.107Z"
   },
   {
    "duration": 9,
    "start_time": "2024-04-25T11:37:53.120Z"
   },
   {
    "duration": 12,
    "start_time": "2024-04-25T11:37:53.131Z"
   },
   {
    "duration": 53,
    "start_time": "2024-04-25T11:37:53.145Z"
   },
   {
    "duration": 5,
    "start_time": "2024-04-25T11:37:53.200Z"
   },
   {
    "duration": 11,
    "start_time": "2024-04-25T11:37:53.206Z"
   },
   {
    "duration": 5,
    "start_time": "2024-04-25T11:37:53.218Z"
   },
   {
    "duration": 8,
    "start_time": "2024-04-25T11:37:53.225Z"
   },
   {
    "duration": 63,
    "start_time": "2024-04-25T11:37:53.234Z"
   },
   {
    "duration": 6,
    "start_time": "2024-04-25T11:37:53.298Z"
   },
   {
    "duration": 6,
    "start_time": "2024-04-25T11:37:53.305Z"
   },
   {
    "duration": 18,
    "start_time": "2024-04-25T11:37:53.312Z"
   },
   {
    "duration": 6,
    "start_time": "2024-04-25T11:37:53.333Z"
   },
   {
    "duration": 257,
    "start_time": "2024-04-25T11:37:53.341Z"
   },
   {
    "duration": 6,
    "start_time": "2024-04-25T11:37:53.599Z"
   },
   {
    "duration": 9,
    "start_time": "2024-04-25T11:37:53.606Z"
   },
   {
    "duration": 18,
    "start_time": "2024-04-25T11:37:53.616Z"
   },
   {
    "duration": 13,
    "start_time": "2024-04-25T11:37:53.636Z"
   },
   {
    "duration": 32,
    "start_time": "2024-04-25T11:37:53.651Z"
   },
   {
    "duration": 10,
    "start_time": "2024-04-25T11:37:53.685Z"
   },
   {
    "duration": 25,
    "start_time": "2024-04-25T11:37:53.697Z"
   },
   {
    "duration": 7,
    "start_time": "2024-04-25T11:37:53.724Z"
   },
   {
    "duration": 7,
    "start_time": "2024-04-25T11:37:53.732Z"
   },
   {
    "duration": 8,
    "start_time": "2024-04-25T11:37:53.740Z"
   },
   {
    "duration": 34,
    "start_time": "2024-04-25T11:37:53.749Z"
   },
   {
    "duration": 376,
    "start_time": "2024-04-25T11:37:53.785Z"
   },
   {
    "duration": 8,
    "start_time": "2024-04-25T11:37:54.163Z"
   },
   {
    "duration": 9,
    "start_time": "2024-04-25T11:40:36.699Z"
   },
   {
    "duration": 170,
    "start_time": "2024-04-25T11:43:41.220Z"
   },
   {
    "duration": 235,
    "start_time": "2024-04-25T11:43:47.358Z"
   },
   {
    "duration": 239,
    "start_time": "2024-04-25T11:43:52.732Z"
   },
   {
    "duration": 15,
    "start_time": "2024-04-25T11:46:26.130Z"
   },
   {
    "duration": 6,
    "start_time": "2024-04-25T11:46:42.100Z"
   },
   {
    "duration": 5,
    "start_time": "2024-04-25T11:47:18.252Z"
   },
   {
    "duration": 5,
    "start_time": "2024-04-25T11:47:26.404Z"
   },
   {
    "duration": 7,
    "start_time": "2024-04-25T11:47:32.955Z"
   },
   {
    "duration": 5,
    "start_time": "2024-04-25T11:47:36.548Z"
   },
   {
    "duration": 6,
    "start_time": "2024-04-25T11:47:45.787Z"
   },
   {
    "duration": 235,
    "start_time": "2024-04-25T11:52:17.604Z"
   },
   {
    "duration": 150,
    "start_time": "2024-04-25T11:54:40.033Z"
   },
   {
    "duration": 165,
    "start_time": "2024-04-25T11:55:45.032Z"
   },
   {
    "duration": 160,
    "start_time": "2024-04-25T11:55:55.008Z"
   },
   {
    "duration": 178,
    "start_time": "2024-04-25T11:56:19.327Z"
   },
   {
    "duration": 165,
    "start_time": "2024-04-25T11:56:24.023Z"
   },
   {
    "duration": 170,
    "start_time": "2024-04-25T12:00:20.394Z"
   },
   {
    "duration": 204,
    "start_time": "2024-04-25T12:00:52.986Z"
   },
   {
    "duration": 55,
    "start_time": "2024-04-25T12:01:37.769Z"
   },
   {
    "duration": 196,
    "start_time": "2024-04-25T12:01:43.225Z"
   },
   {
    "duration": 209,
    "start_time": "2024-04-25T12:02:44.960Z"
   },
   {
    "duration": 269,
    "start_time": "2024-04-25T12:04:03.408Z"
   },
   {
    "duration": 169,
    "start_time": "2024-04-25T12:04:47.626Z"
   },
   {
    "duration": 168,
    "start_time": "2024-04-25T12:05:28.680Z"
   },
   {
    "duration": 187,
    "start_time": "2024-04-25T12:06:14.726Z"
   },
   {
    "duration": 210,
    "start_time": "2024-04-25T12:06:20.278Z"
   },
   {
    "duration": 204,
    "start_time": "2024-04-25T12:06:24.678Z"
   },
   {
    "duration": 257,
    "start_time": "2024-04-25T12:07:55.813Z"
   },
   {
    "duration": 210,
    "start_time": "2024-04-25T12:08:02.605Z"
   },
   {
    "duration": 9,
    "start_time": "2024-04-25T12:13:19.074Z"
   },
   {
    "duration": 208,
    "start_time": "2024-04-25T12:13:58.185Z"
   },
   {
    "duration": 75,
    "start_time": "2024-04-25T12:14:49.218Z"
   },
   {
    "duration": 214,
    "start_time": "2024-04-25T12:14:53.665Z"
   },
   {
    "duration": 390,
    "start_time": "2024-04-25T12:15:00.673Z"
   },
   {
    "duration": 264,
    "start_time": "2024-04-25T12:15:08.161Z"
   },
   {
    "duration": 260,
    "start_time": "2024-04-25T12:15:20.073Z"
   },
   {
    "duration": 279,
    "start_time": "2024-04-25T12:15:27.873Z"
   },
   {
    "duration": 272,
    "start_time": "2024-04-25T12:15:36.816Z"
   },
   {
    "duration": 264,
    "start_time": "2024-04-25T12:15:44.857Z"
   },
   {
    "duration": 387,
    "start_time": "2024-04-25T12:15:49.337Z"
   },
   {
    "duration": 259,
    "start_time": "2024-04-25T12:16:21.616Z"
   },
   {
    "duration": 202,
    "start_time": "2024-04-25T12:16:31.928Z"
   },
   {
    "duration": 210,
    "start_time": "2024-04-25T12:23:53.966Z"
   },
   {
    "duration": 6,
    "start_time": "2024-04-25T12:26:05.452Z"
   },
   {
    "duration": 5,
    "start_time": "2024-04-25T12:26:20.764Z"
   },
   {
    "duration": 10,
    "start_time": "2024-04-25T12:26:31.708Z"
   },
   {
    "duration": 21,
    "start_time": "2024-04-25T12:27:53.859Z"
   },
   {
    "duration": 510,
    "start_time": "2024-04-25T12:30:16.306Z"
   },
   {
    "duration": 33,
    "start_time": "2024-04-25T12:30:16.818Z"
   },
   {
    "duration": 14,
    "start_time": "2024-04-25T12:30:16.853Z"
   },
   {
    "duration": 2369,
    "start_time": "2024-04-25T12:30:16.883Z"
   },
   {
    "duration": 4,
    "start_time": "2024-04-25T12:30:19.254Z"
   },
   {
    "duration": 18,
    "start_time": "2024-04-25T12:30:19.259Z"
   },
   {
    "duration": 6,
    "start_time": "2024-04-25T12:30:19.279Z"
   },
   {
    "duration": 6,
    "start_time": "2024-04-25T12:30:19.287Z"
   },
   {
    "duration": 6,
    "start_time": "2024-04-25T12:30:19.295Z"
   },
   {
    "duration": 6,
    "start_time": "2024-04-25T12:30:19.304Z"
   },
   {
    "duration": 10,
    "start_time": "2024-04-25T12:30:19.312Z"
   },
   {
    "duration": 12,
    "start_time": "2024-04-25T12:30:19.324Z"
   },
   {
    "duration": 19,
    "start_time": "2024-04-25T12:30:19.338Z"
   },
   {
    "duration": 5,
    "start_time": "2024-04-25T12:30:19.382Z"
   },
   {
    "duration": 24,
    "start_time": "2024-04-25T12:30:19.388Z"
   },
   {
    "duration": 6,
    "start_time": "2024-04-25T12:30:19.414Z"
   },
   {
    "duration": 8,
    "start_time": "2024-04-25T12:30:19.421Z"
   },
   {
    "duration": 6,
    "start_time": "2024-04-25T12:30:19.430Z"
   },
   {
    "duration": 49,
    "start_time": "2024-04-25T12:30:19.438Z"
   },
   {
    "duration": 5,
    "start_time": "2024-04-25T12:30:19.489Z"
   },
   {
    "duration": 15,
    "start_time": "2024-04-25T12:30:19.496Z"
   },
   {
    "duration": 5,
    "start_time": "2024-04-25T12:30:19.513Z"
   },
   {
    "duration": 10,
    "start_time": "2024-04-25T12:30:19.519Z"
   },
   {
    "duration": 56,
    "start_time": "2024-04-25T12:30:19.531Z"
   },
   {
    "duration": 6,
    "start_time": "2024-04-25T12:30:19.589Z"
   },
   {
    "duration": 16,
    "start_time": "2024-04-25T12:30:19.597Z"
   },
   {
    "duration": 10,
    "start_time": "2024-04-25T12:30:19.614Z"
   },
   {
    "duration": 6,
    "start_time": "2024-04-25T12:30:19.627Z"
   },
   {
    "duration": 270,
    "start_time": "2024-04-25T12:30:19.635Z"
   },
   {
    "duration": 6,
    "start_time": "2024-04-25T12:30:19.907Z"
   },
   {
    "duration": 7,
    "start_time": "2024-04-25T12:30:19.915Z"
   },
   {
    "duration": 20,
    "start_time": "2024-04-25T12:30:19.924Z"
   },
   {
    "duration": 38,
    "start_time": "2024-04-25T12:30:19.945Z"
   },
   {
    "duration": 9,
    "start_time": "2024-04-25T12:30:19.984Z"
   },
   {
    "duration": 10,
    "start_time": "2024-04-25T12:30:19.995Z"
   },
   {
    "duration": 44,
    "start_time": "2024-04-25T12:30:20.006Z"
   },
   {
    "duration": 8,
    "start_time": "2024-04-25T12:30:20.052Z"
   },
   {
    "duration": 22,
    "start_time": "2024-04-25T12:30:20.062Z"
   },
   {
    "duration": 9,
    "start_time": "2024-04-25T12:30:20.086Z"
   },
   {
    "duration": 10,
    "start_time": "2024-04-25T12:30:20.096Z"
   },
   {
    "duration": 371,
    "start_time": "2024-04-25T12:30:20.107Z"
   },
   {
    "duration": 8,
    "start_time": "2024-04-25T12:30:20.479Z"
   },
   {
    "duration": 19,
    "start_time": "2024-04-25T12:30:20.489Z"
   },
   {
    "duration": 215,
    "start_time": "2024-04-25T12:30:20.510Z"
   },
   {
    "duration": 227,
    "start_time": "2024-04-25T12:30:20.727Z"
   },
   {
    "duration": 282,
    "start_time": "2024-04-25T12:30:20.956Z"
   },
   {
    "duration": 10,
    "start_time": "2024-04-25T12:30:21.239Z"
   },
   {
    "duration": 221,
    "start_time": "2024-04-25T12:30:21.250Z"
   },
   {
    "duration": 11,
    "start_time": "2024-04-25T12:30:21.472Z"
   },
   {
    "duration": 22,
    "start_time": "2024-04-25T12:30:21.485Z"
   },
   {
    "duration": 30,
    "start_time": "2024-04-25T12:30:52.086Z"
   },
   {
    "duration": 10,
    "start_time": "2024-04-25T12:39:55.624Z"
   },
   {
    "duration": 190,
    "start_time": "2024-04-25T12:40:38.520Z"
   },
   {
    "duration": 208,
    "start_time": "2024-04-25T12:40:45.864Z"
   },
   {
    "duration": 204,
    "start_time": "2024-04-25T12:40:59.938Z"
   },
   {
    "duration": 220,
    "start_time": "2024-04-25T12:41:11.864Z"
   },
   {
    "duration": 274,
    "start_time": "2024-04-25T12:41:54.984Z"
   },
   {
    "duration": 210,
    "start_time": "2024-04-25T12:42:19.984Z"
   },
   {
    "duration": 346,
    "start_time": "2024-04-25T12:55:50.464Z"
   },
   {
    "duration": 442,
    "start_time": "2024-04-25T12:56:05.432Z"
   },
   {
    "duration": 216,
    "start_time": "2024-04-25T12:56:15.112Z"
   },
   {
    "duration": 204,
    "start_time": "2024-04-25T12:56:44.831Z"
   },
   {
    "duration": 12,
    "start_time": "2024-04-25T12:59:25.998Z"
   },
   {
    "duration": 208,
    "start_time": "2024-04-25T13:01:11.494Z"
   },
   {
    "duration": 208,
    "start_time": "2024-04-25T13:02:16.447Z"
   },
   {
    "duration": 218,
    "start_time": "2024-04-25T13:02:28.749Z"
   },
   {
    "duration": 253,
    "start_time": "2024-04-25T13:02:33.989Z"
   },
   {
    "duration": 214,
    "start_time": "2024-04-25T13:04:33.221Z"
   },
   {
    "duration": 273,
    "start_time": "2024-04-25T13:05:13.870Z"
   },
   {
    "duration": 375,
    "start_time": "2024-04-25T13:05:16.509Z"
   },
   {
    "duration": 261,
    "start_time": "2024-04-25T13:05:26.572Z"
   },
   {
    "duration": 260,
    "start_time": "2024-04-25T13:05:52.101Z"
   },
   {
    "duration": 250,
    "start_time": "2024-04-25T13:06:06.829Z"
   },
   {
    "duration": 278,
    "start_time": "2024-04-25T13:06:30.900Z"
   },
   {
    "duration": 251,
    "start_time": "2024-04-25T13:06:39.436Z"
   },
   {
    "duration": 8,
    "start_time": "2024-04-25T13:08:44.916Z"
   },
   {
    "duration": 211,
    "start_time": "2024-04-25T13:09:31.236Z"
   },
   {
    "duration": 298,
    "start_time": "2024-04-25T13:09:37.203Z"
   },
   {
    "duration": 183,
    "start_time": "2024-04-25T13:09:41.051Z"
   },
   {
    "duration": 148,
    "start_time": "2024-04-25T13:09:44.348Z"
   },
   {
    "duration": 188,
    "start_time": "2024-04-25T13:09:48.723Z"
   },
   {
    "duration": 171,
    "start_time": "2024-04-25T13:09:56.954Z"
   },
   {
    "duration": 175,
    "start_time": "2024-04-25T13:10:04.099Z"
   },
   {
    "duration": 167,
    "start_time": "2024-04-25T13:10:11.234Z"
   },
   {
    "duration": 158,
    "start_time": "2024-04-25T13:10:27.818Z"
   },
   {
    "duration": 10,
    "start_time": "2024-04-25T13:13:23.066Z"
   },
   {
    "duration": 203,
    "start_time": "2024-04-25T13:15:28.842Z"
   },
   {
    "duration": 55,
    "start_time": "2024-04-25T13:15:52.561Z"
   },
   {
    "duration": 223,
    "start_time": "2024-04-25T13:15:55.802Z"
   },
   {
    "duration": 215,
    "start_time": "2024-04-25T13:16:19.009Z"
   },
   {
    "duration": 232,
    "start_time": "2024-04-25T13:16:23.633Z"
   },
   {
    "duration": 221,
    "start_time": "2024-04-25T13:16:36.658Z"
   },
   {
    "duration": 226,
    "start_time": "2024-04-25T13:16:40.786Z"
   },
   {
    "duration": 238,
    "start_time": "2024-04-25T13:16:45.050Z"
   },
   {
    "duration": 9,
    "start_time": "2024-04-25T13:17:15.472Z"
   },
   {
    "duration": 83,
    "start_time": "2024-04-25T13:19:19.905Z"
   },
   {
    "duration": 12,
    "start_time": "2024-04-25T13:21:43.457Z"
   },
   {
    "duration": 29,
    "start_time": "2024-04-25T13:22:55.857Z"
   },
   {
    "duration": 157,
    "start_time": "2024-04-25T13:23:38.225Z"
   },
   {
    "duration": 51,
    "start_time": "2024-04-25T13:25:37.303Z"
   },
   {
    "duration": 163,
    "start_time": "2024-04-25T13:26:03.151Z"
   },
   {
    "duration": 374,
    "start_time": "2024-04-25T13:26:31.135Z"
   },
   {
    "duration": 191,
    "start_time": "2024-04-25T13:26:49.455Z"
   },
   {
    "duration": 185,
    "start_time": "2024-04-25T13:27:02.031Z"
   },
   {
    "duration": 9,
    "start_time": "2024-04-25T13:33:35.165Z"
   },
   {
    "duration": 249,
    "start_time": "2024-04-25T13:34:31.932Z"
   },
   {
    "duration": 228,
    "start_time": "2024-04-25T13:34:46.646Z"
   },
   {
    "duration": 13,
    "start_time": "2024-04-25T13:51:05.160Z"
   },
   {
    "duration": 222,
    "start_time": "2024-04-25T13:51:54.582Z"
   },
   {
    "duration": 239,
    "start_time": "2024-04-25T13:52:06.662Z"
   },
   {
    "duration": 224,
    "start_time": "2024-04-25T13:52:24.950Z"
   },
   {
    "duration": 210,
    "start_time": "2024-04-25T13:52:40.574Z"
   },
   {
    "duration": 12,
    "start_time": "2024-04-25T13:55:52.261Z"
   },
   {
    "duration": 228,
    "start_time": "2024-04-25T13:56:24.501Z"
   },
   {
    "duration": 245,
    "start_time": "2024-04-25T13:56:33.069Z"
   },
   {
    "duration": 215,
    "start_time": "2024-04-25T13:56:41.653Z"
   },
   {
    "duration": 10,
    "start_time": "2024-04-25T14:03:14.822Z"
   },
   {
    "duration": 246,
    "start_time": "2024-04-25T14:04:12.599Z"
   },
   {
    "duration": 247,
    "start_time": "2024-04-25T14:04:25.124Z"
   },
   {
    "duration": 482,
    "start_time": "2024-04-25T14:04:34.363Z"
   },
   {
    "duration": 255,
    "start_time": "2024-04-25T14:04:43.995Z"
   },
   {
    "duration": 349,
    "start_time": "2024-04-25T14:05:07.337Z"
   },
   {
    "duration": 355,
    "start_time": "2024-04-25T14:05:16.222Z"
   },
   {
    "duration": 324,
    "start_time": "2024-04-25T14:07:28.427Z"
   },
   {
    "duration": 13,
    "start_time": "2024-04-25T14:16:05.368Z"
   },
   {
    "duration": 822,
    "start_time": "2024-04-25T14:16:49.685Z"
   },
   {
    "duration": 74,
    "start_time": "2024-04-25T14:17:08.444Z"
   },
   {
    "duration": 10,
    "start_time": "2024-04-25T14:17:42.633Z"
   },
   {
    "duration": 47,
    "start_time": "2024-04-25T14:17:52.725Z"
   },
   {
    "duration": 55,
    "start_time": "2024-04-25T14:18:04.099Z"
   },
   {
    "duration": 46,
    "start_time": "2024-04-25T14:18:13.283Z"
   },
   {
    "duration": 34,
    "start_time": "2024-04-25T14:19:51.987Z"
   },
   {
    "duration": 782,
    "start_time": "2024-04-25T14:20:44.640Z"
   },
   {
    "duration": 30,
    "start_time": "2024-04-25T14:20:54.171Z"
   },
   {
    "duration": 29,
    "start_time": "2024-04-25T14:21:30.005Z"
   },
   {
    "duration": 29,
    "start_time": "2024-04-25T14:21:42.707Z"
   },
   {
    "duration": 28,
    "start_time": "2024-04-25T14:22:31.400Z"
   },
   {
    "duration": 27,
    "start_time": "2024-04-25T14:22:44.803Z"
   },
   {
    "duration": 54,
    "start_time": "2024-04-26T06:22:32.747Z"
   },
   {
    "duration": 772,
    "start_time": "2024-04-26T06:22:37.757Z"
   },
   {
    "duration": 39,
    "start_time": "2024-04-26T06:22:38.531Z"
   },
   {
    "duration": 15,
    "start_time": "2024-04-26T06:22:38.572Z"
   },
   {
    "duration": 2681,
    "start_time": "2024-04-26T06:22:38.589Z"
   },
   {
    "duration": 4,
    "start_time": "2024-04-26T06:22:41.271Z"
   },
   {
    "duration": 14,
    "start_time": "2024-04-26T06:22:41.277Z"
   },
   {
    "duration": 4,
    "start_time": "2024-04-26T06:22:41.293Z"
   },
   {
    "duration": 30,
    "start_time": "2024-04-26T06:22:41.299Z"
   },
   {
    "duration": 12,
    "start_time": "2024-04-26T06:22:41.331Z"
   },
   {
    "duration": 6,
    "start_time": "2024-04-26T06:22:41.346Z"
   },
   {
    "duration": 8,
    "start_time": "2024-04-26T06:22:41.354Z"
   },
   {
    "duration": 11,
    "start_time": "2024-04-26T06:22:41.364Z"
   },
   {
    "duration": 13,
    "start_time": "2024-04-26T06:22:41.377Z"
   },
   {
    "duration": 8,
    "start_time": "2024-04-26T06:22:41.391Z"
   },
   {
    "duration": 6,
    "start_time": "2024-04-26T06:22:41.401Z"
   },
   {
    "duration": 8,
    "start_time": "2024-04-26T06:22:41.408Z"
   },
   {
    "duration": 6,
    "start_time": "2024-04-26T06:22:41.417Z"
   },
   {
    "duration": 6,
    "start_time": "2024-04-26T06:22:41.425Z"
   },
   {
    "duration": 77,
    "start_time": "2024-04-26T06:22:41.433Z"
   },
   {
    "duration": 6,
    "start_time": "2024-04-26T06:22:41.512Z"
   },
   {
    "duration": 9,
    "start_time": "2024-04-26T06:22:41.519Z"
   },
   {
    "duration": 5,
    "start_time": "2024-04-26T06:22:41.530Z"
   },
   {
    "duration": 39,
    "start_time": "2024-04-26T06:22:41.536Z"
   },
   {
    "duration": 36,
    "start_time": "2024-04-26T06:22:41.576Z"
   },
   {
    "duration": 5,
    "start_time": "2024-04-26T06:22:41.614Z"
   },
   {
    "duration": 11,
    "start_time": "2024-04-26T06:22:41.620Z"
   },
   {
    "duration": 17,
    "start_time": "2024-04-26T06:22:41.632Z"
   },
   {
    "duration": 24,
    "start_time": "2024-04-26T06:22:41.653Z"
   },
   {
    "duration": 252,
    "start_time": "2024-04-26T06:22:41.678Z"
   },
   {
    "duration": 5,
    "start_time": "2024-04-26T06:22:41.932Z"
   },
   {
    "duration": 16,
    "start_time": "2024-04-26T06:22:41.939Z"
   },
   {
    "duration": 26,
    "start_time": "2024-04-26T06:22:41.956Z"
   },
   {
    "duration": 15,
    "start_time": "2024-04-26T06:22:41.984Z"
   },
   {
    "duration": 9,
    "start_time": "2024-04-26T06:22:42.000Z"
   },
   {
    "duration": 13,
    "start_time": "2024-04-26T06:22:42.011Z"
   },
   {
    "duration": 52,
    "start_time": "2024-04-26T06:22:42.026Z"
   },
   {
    "duration": 7,
    "start_time": "2024-04-26T06:22:42.080Z"
   },
   {
    "duration": 7,
    "start_time": "2024-04-26T06:22:42.089Z"
   },
   {
    "duration": 8,
    "start_time": "2024-04-26T06:22:42.098Z"
   },
   {
    "duration": 3,
    "start_time": "2024-04-26T06:22:42.107Z"
   },
   {
    "duration": 391,
    "start_time": "2024-04-26T06:22:42.112Z"
   },
   {
    "duration": 7,
    "start_time": "2024-04-26T06:22:42.505Z"
   },
   {
    "duration": 10,
    "start_time": "2024-04-26T06:22:42.513Z"
   },
   {
    "duration": 212,
    "start_time": "2024-04-26T06:22:42.525Z"
   },
   {
    "duration": 296,
    "start_time": "2024-04-26T06:22:42.739Z"
   },
   {
    "duration": 219,
    "start_time": "2024-04-26T06:22:43.036Z"
   },
   {
    "duration": 17,
    "start_time": "2024-04-26T06:22:43.257Z"
   },
   {
    "duration": 260,
    "start_time": "2024-04-26T06:22:43.276Z"
   },
   {
    "duration": 10,
    "start_time": "2024-04-26T06:22:43.538Z"
   },
   {
    "duration": 39,
    "start_time": "2024-04-26T06:22:43.549Z"
   },
   {
    "duration": 22,
    "start_time": "2024-04-26T06:22:43.590Z"
   },
   {
    "duration": 15,
    "start_time": "2024-04-26T06:22:43.613Z"
   },
   {
    "duration": 232,
    "start_time": "2024-04-26T06:22:43.630Z"
   },
   {
    "duration": 252,
    "start_time": "2024-04-26T06:22:43.864Z"
   },
   {
    "duration": 12,
    "start_time": "2024-04-26T06:22:44.118Z"
   },
   {
    "duration": 313,
    "start_time": "2024-04-26T06:22:44.133Z"
   },
   {
    "duration": 8,
    "start_time": "2024-04-26T06:22:44.449Z"
   },
   {
    "duration": 178,
    "start_time": "2024-04-26T06:22:44.459Z"
   },
   {
    "duration": 9,
    "start_time": "2024-04-26T06:22:44.639Z"
   },
   {
    "duration": 246,
    "start_time": "2024-04-26T06:22:44.649Z"
   },
   {
    "duration": 194,
    "start_time": "2024-04-26T06:22:44.897Z"
   },
   {
    "duration": 9,
    "start_time": "2024-04-26T06:22:45.093Z"
   },
   {
    "duration": 360,
    "start_time": "2024-04-26T06:22:45.103Z"
   },
   {
    "duration": 17,
    "start_time": "2024-04-26T06:22:45.464Z"
   },
   {
    "duration": 236,
    "start_time": "2024-04-26T06:22:45.483Z"
   },
   {
    "duration": 12,
    "start_time": "2024-04-26T06:22:45.721Z"
   },
   {
    "duration": 246,
    "start_time": "2024-04-26T06:22:45.735Z"
   },
   {
    "duration": 9,
    "start_time": "2024-04-26T06:22:45.983Z"
   },
   {
    "duration": 351,
    "start_time": "2024-04-26T06:22:45.994Z"
   },
   {
    "duration": 31,
    "start_time": "2024-04-26T06:22:46.346Z"
   },
   {
    "duration": 43,
    "start_time": "2024-04-26T06:22:46.378Z"
   },
   {
    "duration": 25,
    "start_time": "2024-04-26T06:23:46.410Z"
   },
   {
    "duration": 33,
    "start_time": "2024-04-26T06:23:59.370Z"
   },
   {
    "duration": 30,
    "start_time": "2024-04-26T06:24:11.769Z"
   },
   {
    "duration": 31,
    "start_time": "2024-04-26T06:26:45.682Z"
   },
   {
    "duration": 108,
    "start_time": "2024-04-26T06:31:33.271Z"
   },
   {
    "duration": 46,
    "start_time": "2024-04-26T06:31:49.817Z"
   },
   {
    "duration": 183,
    "start_time": "2024-04-26T06:34:41.982Z"
   },
   {
    "duration": 179,
    "start_time": "2024-04-26T06:35:02.239Z"
   },
   {
    "duration": 180,
    "start_time": "2024-04-26T06:37:28.721Z"
   },
   {
    "duration": 314,
    "start_time": "2024-04-26T06:38:01.134Z"
   },
   {
    "duration": 185,
    "start_time": "2024-04-26T06:39:40.792Z"
   },
   {
    "duration": 183,
    "start_time": "2024-04-26T06:39:55.046Z"
   },
   {
    "duration": 178,
    "start_time": "2024-04-26T06:40:34.935Z"
   },
   {
    "duration": 72,
    "start_time": "2024-04-26T06:43:54.484Z"
   },
   {
    "duration": 180,
    "start_time": "2024-04-26T06:44:22.533Z"
   },
   {
    "duration": 180,
    "start_time": "2024-04-26T06:44:50.931Z"
   },
   {
    "duration": 179,
    "start_time": "2024-04-26T06:45:15.804Z"
   },
   {
    "duration": 179,
    "start_time": "2024-04-26T06:45:21.300Z"
   },
   {
    "duration": 21,
    "start_time": "2024-04-26T06:47:14.130Z"
   },
   {
    "duration": 23,
    "start_time": "2024-04-26T06:47:29.843Z"
   },
   {
    "duration": 23,
    "start_time": "2024-04-26T06:48:10.226Z"
   },
   {
    "duration": 23,
    "start_time": "2024-04-26T06:50:21.474Z"
   },
   {
    "duration": 204,
    "start_time": "2024-04-26T06:50:31.689Z"
   },
   {
    "duration": 211,
    "start_time": "2024-04-26T06:51:04.625Z"
   },
   {
    "duration": 33,
    "start_time": "2024-04-26T06:51:39.505Z"
   },
   {
    "duration": 569,
    "start_time": "2024-04-26T08:41:09.642Z"
   },
   {
    "duration": 34,
    "start_time": "2024-04-26T08:41:10.213Z"
   },
   {
    "duration": 27,
    "start_time": "2024-04-26T08:41:10.250Z"
   },
   {
    "duration": 2418,
    "start_time": "2024-04-26T08:41:10.280Z"
   },
   {
    "duration": 4,
    "start_time": "2024-04-26T08:41:12.699Z"
   },
   {
    "duration": 26,
    "start_time": "2024-04-26T08:41:12.705Z"
   },
   {
    "duration": 6,
    "start_time": "2024-04-26T08:41:12.733Z"
   },
   {
    "duration": 11,
    "start_time": "2024-04-26T08:41:12.741Z"
   },
   {
    "duration": 5,
    "start_time": "2024-04-26T08:41:12.754Z"
   },
   {
    "duration": 5,
    "start_time": "2024-04-26T08:41:12.762Z"
   },
   {
    "duration": 13,
    "start_time": "2024-04-26T08:41:12.768Z"
   },
   {
    "duration": 35,
    "start_time": "2024-04-26T08:41:12.783Z"
   },
   {
    "duration": 32,
    "start_time": "2024-04-26T08:41:12.820Z"
   },
   {
    "duration": 5,
    "start_time": "2024-04-26T08:41:12.853Z"
   },
   {
    "duration": 7,
    "start_time": "2024-04-26T08:41:12.860Z"
   },
   {
    "duration": 8,
    "start_time": "2024-04-26T08:41:12.868Z"
   },
   {
    "duration": 6,
    "start_time": "2024-04-26T08:41:12.878Z"
   },
   {
    "duration": 10,
    "start_time": "2024-04-26T08:41:12.886Z"
   },
   {
    "duration": 37,
    "start_time": "2024-04-26T08:41:12.897Z"
   },
   {
    "duration": 6,
    "start_time": "2024-04-26T08:41:12.935Z"
   },
   {
    "duration": 32,
    "start_time": "2024-04-26T08:41:12.943Z"
   },
   {
    "duration": 6,
    "start_time": "2024-04-26T08:41:12.977Z"
   },
   {
    "duration": 12,
    "start_time": "2024-04-26T08:41:12.984Z"
   },
   {
    "duration": 38,
    "start_time": "2024-04-26T08:41:12.998Z"
   },
   {
    "duration": 6,
    "start_time": "2024-04-26T08:41:13.037Z"
   },
   {
    "duration": 5,
    "start_time": "2024-04-26T08:41:13.073Z"
   },
   {
    "duration": 19,
    "start_time": "2024-04-26T08:41:13.080Z"
   },
   {
    "duration": 7,
    "start_time": "2024-04-26T08:41:13.104Z"
   },
   {
    "duration": 263,
    "start_time": "2024-04-26T08:41:13.112Z"
   },
   {
    "duration": 5,
    "start_time": "2024-04-26T08:41:13.377Z"
   },
   {
    "duration": 38,
    "start_time": "2024-04-26T08:41:13.383Z"
   },
   {
    "duration": 23,
    "start_time": "2024-04-26T08:41:13.423Z"
   },
   {
    "duration": 10,
    "start_time": "2024-04-26T08:41:13.448Z"
   },
   {
    "duration": 28,
    "start_time": "2024-04-26T08:41:13.460Z"
   },
   {
    "duration": 8,
    "start_time": "2024-04-26T08:41:13.490Z"
   },
   {
    "duration": 9,
    "start_time": "2024-04-26T08:41:13.500Z"
   },
   {
    "duration": 11,
    "start_time": "2024-04-26T08:41:13.510Z"
   },
   {
    "duration": 4,
    "start_time": "2024-04-26T08:41:13.523Z"
   },
   {
    "duration": 463,
    "start_time": "2024-04-26T08:41:13.529Z"
   },
   {
    "duration": 7,
    "start_time": "2024-04-26T08:41:13.994Z"
   },
   {
    "duration": 13,
    "start_time": "2024-04-26T08:41:14.002Z"
   },
   {
    "duration": 250,
    "start_time": "2024-04-26T08:41:14.017Z"
   },
   {
    "duration": 233,
    "start_time": "2024-04-26T08:41:14.273Z"
   },
   {
    "duration": 295,
    "start_time": "2024-04-26T08:41:14.508Z"
   },
   {
    "duration": 11,
    "start_time": "2024-04-26T08:41:14.805Z"
   },
   {
    "duration": 226,
    "start_time": "2024-04-26T08:41:14.817Z"
   },
   {
    "duration": 10,
    "start_time": "2024-04-26T08:41:15.045Z"
   },
   {
    "duration": 62,
    "start_time": "2024-04-26T08:41:15.057Z"
   },
   {
    "duration": 30,
    "start_time": "2024-04-26T08:41:15.120Z"
   },
   {
    "duration": 44,
    "start_time": "2024-04-26T08:41:15.151Z"
   },
   {
    "duration": 210,
    "start_time": "2024-04-26T08:41:15.198Z"
   },
   {
    "duration": 237,
    "start_time": "2024-04-26T08:41:15.410Z"
   },
   {
    "duration": 9,
    "start_time": "2024-04-26T08:41:15.648Z"
   },
   {
    "duration": 282,
    "start_time": "2024-04-26T08:41:15.658Z"
   },
   {
    "duration": 9,
    "start_time": "2024-04-26T08:41:15.942Z"
   },
   {
    "duration": 190,
    "start_time": "2024-04-26T08:41:15.952Z"
   },
   {
    "duration": 9,
    "start_time": "2024-04-26T08:41:16.145Z"
   },
   {
    "duration": 270,
    "start_time": "2024-04-26T08:41:16.156Z"
   },
   {
    "duration": 204,
    "start_time": "2024-04-26T08:41:16.428Z"
   },
   {
    "duration": 10,
    "start_time": "2024-04-26T08:41:16.633Z"
   },
   {
    "duration": 351,
    "start_time": "2024-04-26T08:41:16.644Z"
   },
   {
    "duration": 11,
    "start_time": "2024-04-26T08:41:16.998Z"
   },
   {
    "duration": 253,
    "start_time": "2024-04-26T08:41:17.010Z"
   },
   {
    "duration": 11,
    "start_time": "2024-04-26T08:41:17.273Z"
   },
   {
    "duration": 240,
    "start_time": "2024-04-26T08:41:17.286Z"
   },
   {
    "duration": 9,
    "start_time": "2024-04-26T08:41:17.528Z"
   },
   {
    "duration": 348,
    "start_time": "2024-04-26T08:41:17.539Z"
   },
   {
    "duration": 23,
    "start_time": "2024-04-26T08:41:17.888Z"
   },
   {
    "duration": 25,
    "start_time": "2024-04-26T08:41:17.912Z"
   },
   {
    "duration": 59,
    "start_time": "2024-04-26T08:41:17.938Z"
   },
   {
    "duration": 224,
    "start_time": "2024-04-26T08:41:17.998Z"
   },
   {
    "duration": 656,
    "start_time": "2024-04-26T12:32:47.815Z"
   },
   {
    "duration": 33,
    "start_time": "2024-04-26T12:32:48.473Z"
   },
   {
    "duration": 16,
    "start_time": "2024-04-26T12:32:48.507Z"
   },
   {
    "duration": 2318,
    "start_time": "2024-04-26T12:32:48.525Z"
   },
   {
    "duration": 3,
    "start_time": "2024-04-26T12:32:50.845Z"
   },
   {
    "duration": 23,
    "start_time": "2024-04-26T12:32:50.850Z"
   },
   {
    "duration": 5,
    "start_time": "2024-04-26T12:32:50.875Z"
   },
   {
    "duration": 22,
    "start_time": "2024-04-26T12:32:50.882Z"
   },
   {
    "duration": 14,
    "start_time": "2024-04-26T12:32:50.905Z"
   },
   {
    "duration": 9,
    "start_time": "2024-04-26T12:32:50.922Z"
   },
   {
    "duration": 9,
    "start_time": "2024-04-26T12:32:50.932Z"
   },
   {
    "duration": 5,
    "start_time": "2024-04-26T12:32:50.943Z"
   },
   {
    "duration": 10,
    "start_time": "2024-04-26T12:32:50.950Z"
   },
   {
    "duration": 21,
    "start_time": "2024-04-26T12:32:50.962Z"
   },
   {
    "duration": 9,
    "start_time": "2024-04-26T12:32:50.985Z"
   },
   {
    "duration": 8,
    "start_time": "2024-04-26T12:32:50.995Z"
   },
   {
    "duration": 14,
    "start_time": "2024-04-26T12:32:51.005Z"
   },
   {
    "duration": 14,
    "start_time": "2024-04-26T12:32:51.020Z"
   },
   {
    "duration": 49,
    "start_time": "2024-04-26T12:32:51.035Z"
   },
   {
    "duration": 5,
    "start_time": "2024-04-26T12:32:51.086Z"
   },
   {
    "duration": 33,
    "start_time": "2024-04-26T12:32:51.092Z"
   },
   {
    "duration": 14,
    "start_time": "2024-04-26T12:32:51.126Z"
   },
   {
    "duration": 34,
    "start_time": "2024-04-26T12:32:51.142Z"
   },
   {
    "duration": 63,
    "start_time": "2024-04-26T12:32:51.178Z"
   },
   {
    "duration": 18,
    "start_time": "2024-04-26T12:32:51.243Z"
   },
   {
    "duration": 46,
    "start_time": "2024-04-26T12:32:51.263Z"
   },
   {
    "duration": 24,
    "start_time": "2024-04-26T12:32:51.311Z"
   },
   {
    "duration": 21,
    "start_time": "2024-04-26T12:32:51.339Z"
   },
   {
    "duration": 260,
    "start_time": "2024-04-26T12:32:51.362Z"
   },
   {
    "duration": 5,
    "start_time": "2024-04-26T12:32:51.624Z"
   },
   {
    "duration": 11,
    "start_time": "2024-04-26T12:32:51.630Z"
   },
   {
    "duration": 33,
    "start_time": "2024-04-26T12:32:51.643Z"
   },
   {
    "duration": 8,
    "start_time": "2024-04-26T12:32:51.677Z"
   },
   {
    "duration": 34,
    "start_time": "2024-04-26T12:32:51.687Z"
   },
   {
    "duration": 6,
    "start_time": "2024-04-26T12:32:51.723Z"
   },
   {
    "duration": 17,
    "start_time": "2024-04-26T12:32:51.731Z"
   },
   {
    "duration": 23,
    "start_time": "2024-04-26T12:32:51.749Z"
   },
   {
    "duration": 33,
    "start_time": "2024-04-26T12:32:51.773Z"
   },
   {
    "duration": 357,
    "start_time": "2024-04-26T12:32:51.808Z"
   },
   {
    "duration": 6,
    "start_time": "2024-04-26T12:32:52.167Z"
   },
   {
    "duration": 50,
    "start_time": "2024-04-26T12:32:52.174Z"
   },
   {
    "duration": 219,
    "start_time": "2024-04-26T12:32:52.226Z"
   },
   {
    "duration": 259,
    "start_time": "2024-04-26T12:32:52.446Z"
   },
   {
    "duration": 207,
    "start_time": "2024-04-26T12:32:52.708Z"
   },
   {
    "duration": 10,
    "start_time": "2024-04-26T12:32:52.916Z"
   },
   {
    "duration": 244,
    "start_time": "2024-04-26T12:32:52.927Z"
   },
   {
    "duration": 10,
    "start_time": "2024-04-26T12:32:53.172Z"
   },
   {
    "duration": 31,
    "start_time": "2024-04-26T12:32:53.184Z"
   },
   {
    "duration": 53,
    "start_time": "2024-04-26T12:32:53.217Z"
   },
   {
    "duration": 33,
    "start_time": "2024-04-26T12:32:53.271Z"
   },
   {
    "duration": 213,
    "start_time": "2024-04-26T12:32:53.306Z"
   },
   {
    "duration": 206,
    "start_time": "2024-04-26T12:32:53.520Z"
   },
   {
    "duration": 9,
    "start_time": "2024-04-26T12:32:53.727Z"
   },
   {
    "duration": 283,
    "start_time": "2024-04-26T12:32:53.737Z"
   },
   {
    "duration": 8,
    "start_time": "2024-04-26T12:32:54.021Z"
   },
   {
    "duration": 205,
    "start_time": "2024-04-26T12:32:54.030Z"
   },
   {
    "duration": 10,
    "start_time": "2024-04-26T12:32:54.236Z"
   },
   {
    "duration": 261,
    "start_time": "2024-04-26T12:32:54.248Z"
   },
   {
    "duration": 185,
    "start_time": "2024-04-26T12:32:54.510Z"
   },
   {
    "duration": 17,
    "start_time": "2024-04-26T12:32:54.697Z"
   },
   {
    "duration": 346,
    "start_time": "2024-04-26T12:32:54.716Z"
   },
   {
    "duration": 9,
    "start_time": "2024-04-26T12:32:55.064Z"
   },
   {
    "duration": 230,
    "start_time": "2024-04-26T12:32:55.075Z"
   },
   {
    "duration": 14,
    "start_time": "2024-04-26T12:32:55.306Z"
   },
   {
    "duration": 239,
    "start_time": "2024-04-26T12:32:55.321Z"
   },
   {
    "duration": 9,
    "start_time": "2024-04-26T12:32:55.561Z"
   },
   {
    "duration": 384,
    "start_time": "2024-04-26T12:32:55.572Z"
   },
   {
    "duration": 21,
    "start_time": "2024-04-26T12:32:55.958Z"
   },
   {
    "duration": 63,
    "start_time": "2024-04-26T12:32:55.981Z"
   },
   {
    "duration": 41,
    "start_time": "2024-04-26T12:32:56.046Z"
   },
   {
    "duration": 206,
    "start_time": "2024-04-26T12:32:56.089Z"
   },
   {
    "duration": 50,
    "start_time": "2024-04-26T13:43:17.646Z"
   },
   {
    "duration": 645,
    "start_time": "2024-04-26T13:43:22.572Z"
   },
   {
    "duration": 34,
    "start_time": "2024-04-26T13:43:23.219Z"
   },
   {
    "duration": 15,
    "start_time": "2024-04-26T13:43:23.255Z"
   },
   {
    "duration": 2524,
    "start_time": "2024-04-26T13:43:23.272Z"
   },
   {
    "duration": 3,
    "start_time": "2024-04-26T13:43:25.798Z"
   },
   {
    "duration": 22,
    "start_time": "2024-04-26T13:43:25.803Z"
   },
   {
    "duration": 5,
    "start_time": "2024-04-26T13:43:25.827Z"
   },
   {
    "duration": 11,
    "start_time": "2024-04-26T13:43:25.833Z"
   },
   {
    "duration": 37,
    "start_time": "2024-04-26T13:43:25.845Z"
   },
   {
    "duration": 15,
    "start_time": "2024-04-26T13:43:25.885Z"
   },
   {
    "duration": 11,
    "start_time": "2024-04-26T13:43:25.901Z"
   },
   {
    "duration": 16,
    "start_time": "2024-04-26T13:43:25.913Z"
   },
   {
    "duration": 18,
    "start_time": "2024-04-26T13:43:25.931Z"
   },
   {
    "duration": 8,
    "start_time": "2024-04-26T13:43:25.950Z"
   },
   {
    "duration": 9,
    "start_time": "2024-04-26T13:43:25.960Z"
   },
   {
    "duration": 7,
    "start_time": "2024-04-26T13:43:25.971Z"
   },
   {
    "duration": 8,
    "start_time": "2024-04-26T13:43:25.980Z"
   },
   {
    "duration": 21,
    "start_time": "2024-04-26T13:43:25.989Z"
   },
   {
    "duration": 45,
    "start_time": "2024-04-26T13:43:26.011Z"
   },
   {
    "duration": 5,
    "start_time": "2024-04-26T13:43:26.057Z"
   },
   {
    "duration": 22,
    "start_time": "2024-04-26T13:43:26.063Z"
   },
   {
    "duration": 15,
    "start_time": "2024-04-26T13:43:26.087Z"
   },
   {
    "duration": 19,
    "start_time": "2024-04-26T13:43:26.104Z"
   },
   {
    "duration": 16,
    "start_time": "2024-04-26T13:43:26.124Z"
   },
   {
    "duration": 50,
    "start_time": "2024-04-26T13:43:26.141Z"
   },
   {
    "duration": 5,
    "start_time": "2024-04-26T13:43:26.193Z"
   },
   {
    "duration": 32,
    "start_time": "2024-04-26T13:43:26.199Z"
   },
   {
    "duration": 17,
    "start_time": "2024-04-26T13:43:26.235Z"
   },
   {
    "duration": 16,
    "start_time": "2024-04-26T13:43:26.254Z"
   },
   {
    "duration": 232,
    "start_time": "2024-04-26T13:43:26.271Z"
   },
   {
    "duration": 5,
    "start_time": "2024-04-26T13:43:26.504Z"
   },
   {
    "duration": 20,
    "start_time": "2024-04-26T13:43:26.511Z"
   },
   {
    "duration": 88,
    "start_time": "2024-04-26T13:43:26.533Z"
   },
   {
    "duration": 0,
    "start_time": "2024-04-26T13:43:26.622Z"
   },
   {
    "duration": 0,
    "start_time": "2024-04-26T13:43:26.623Z"
   },
   {
    "duration": 0,
    "start_time": "2024-04-26T13:43:26.625Z"
   },
   {
    "duration": 0,
    "start_time": "2024-04-26T13:43:26.628Z"
   },
   {
    "duration": 0,
    "start_time": "2024-04-26T13:43:26.630Z"
   },
   {
    "duration": 0,
    "start_time": "2024-04-26T13:43:26.631Z"
   },
   {
    "duration": 0,
    "start_time": "2024-04-26T13:43:26.632Z"
   },
   {
    "duration": 0,
    "start_time": "2024-04-26T13:43:26.633Z"
   },
   {
    "duration": 0,
    "start_time": "2024-04-26T13:43:26.634Z"
   },
   {
    "duration": 0,
    "start_time": "2024-04-26T13:43:26.635Z"
   },
   {
    "duration": 0,
    "start_time": "2024-04-26T13:43:26.636Z"
   },
   {
    "duration": 0,
    "start_time": "2024-04-26T13:43:26.636Z"
   },
   {
    "duration": 0,
    "start_time": "2024-04-26T13:43:26.637Z"
   },
   {
    "duration": 0,
    "start_time": "2024-04-26T13:43:26.638Z"
   },
   {
    "duration": 0,
    "start_time": "2024-04-26T13:43:26.639Z"
   },
   {
    "duration": 0,
    "start_time": "2024-04-26T13:43:26.640Z"
   },
   {
    "duration": 0,
    "start_time": "2024-04-26T13:43:26.641Z"
   },
   {
    "duration": 0,
    "start_time": "2024-04-26T13:43:26.642Z"
   },
   {
    "duration": 0,
    "start_time": "2024-04-26T13:43:26.643Z"
   },
   {
    "duration": 0,
    "start_time": "2024-04-26T13:43:26.644Z"
   },
   {
    "duration": 0,
    "start_time": "2024-04-26T13:43:26.645Z"
   },
   {
    "duration": 0,
    "start_time": "2024-04-26T13:43:26.646Z"
   },
   {
    "duration": 0,
    "start_time": "2024-04-26T13:43:26.647Z"
   },
   {
    "duration": 0,
    "start_time": "2024-04-26T13:43:26.648Z"
   },
   {
    "duration": 0,
    "start_time": "2024-04-26T13:43:26.649Z"
   },
   {
    "duration": 0,
    "start_time": "2024-04-26T13:43:26.650Z"
   },
   {
    "duration": 0,
    "start_time": "2024-04-26T13:43:26.651Z"
   },
   {
    "duration": 0,
    "start_time": "2024-04-26T13:43:26.652Z"
   },
   {
    "duration": 0,
    "start_time": "2024-04-26T13:43:26.653Z"
   },
   {
    "duration": 0,
    "start_time": "2024-04-26T13:43:26.654Z"
   },
   {
    "duration": 0,
    "start_time": "2024-04-26T13:43:26.655Z"
   },
   {
    "duration": 0,
    "start_time": "2024-04-26T13:43:26.656Z"
   },
   {
    "duration": 0,
    "start_time": "2024-04-26T13:43:26.657Z"
   },
   {
    "duration": 0,
    "start_time": "2024-04-26T13:43:26.658Z"
   },
   {
    "duration": 1,
    "start_time": "2024-04-26T13:43:26.658Z"
   },
   {
    "duration": 0,
    "start_time": "2024-04-26T13:43:26.660Z"
   },
   {
    "duration": 0,
    "start_time": "2024-04-26T13:43:26.661Z"
   },
   {
    "duration": 0,
    "start_time": "2024-04-26T13:43:26.662Z"
   },
   {
    "duration": 0,
    "start_time": "2024-04-26T13:43:26.663Z"
   },
   {
    "duration": 7,
    "start_time": "2024-04-26T13:46:24.683Z"
   },
   {
    "duration": 11,
    "start_time": "2024-04-26T13:48:37.476Z"
   },
   {
    "duration": 5,
    "start_time": "2024-04-26T13:48:45.252Z"
   },
   {
    "duration": 6,
    "start_time": "2024-04-26T13:50:16.426Z"
   },
   {
    "duration": 6,
    "start_time": "2024-04-26T13:50:57.467Z"
   },
   {
    "duration": 515,
    "start_time": "2024-04-26T13:51:04.480Z"
   },
   {
    "duration": 41,
    "start_time": "2024-04-26T13:51:04.996Z"
   },
   {
    "duration": 16,
    "start_time": "2024-04-26T13:51:05.039Z"
   },
   {
    "duration": 2415,
    "start_time": "2024-04-26T13:51:05.057Z"
   },
   {
    "duration": 5,
    "start_time": "2024-04-26T13:51:07.474Z"
   },
   {
    "duration": 24,
    "start_time": "2024-04-26T13:51:07.480Z"
   },
   {
    "duration": 6,
    "start_time": "2024-04-26T13:51:07.507Z"
   },
   {
    "duration": 25,
    "start_time": "2024-04-26T13:51:07.515Z"
   },
   {
    "duration": 9,
    "start_time": "2024-04-26T13:51:07.542Z"
   },
   {
    "duration": 5,
    "start_time": "2024-04-26T13:51:07.555Z"
   },
   {
    "duration": 17,
    "start_time": "2024-04-26T13:51:07.561Z"
   },
   {
    "duration": 9,
    "start_time": "2024-04-26T13:51:07.580Z"
   },
   {
    "duration": 17,
    "start_time": "2024-04-26T13:51:07.591Z"
   },
   {
    "duration": 19,
    "start_time": "2024-04-26T13:51:07.610Z"
   },
   {
    "duration": 8,
    "start_time": "2024-04-26T13:51:07.631Z"
   },
   {
    "duration": 12,
    "start_time": "2024-04-26T13:51:07.641Z"
   },
   {
    "duration": 5,
    "start_time": "2024-04-26T13:51:07.654Z"
   },
   {
    "duration": 31,
    "start_time": "2024-04-26T13:51:07.661Z"
   },
   {
    "duration": 43,
    "start_time": "2024-04-26T13:51:07.693Z"
   },
   {
    "duration": 5,
    "start_time": "2024-04-26T13:51:07.738Z"
   },
   {
    "duration": 17,
    "start_time": "2024-04-26T13:51:07.745Z"
   },
   {
    "duration": 8,
    "start_time": "2024-04-26T13:51:07.764Z"
   },
   {
    "duration": 38,
    "start_time": "2024-04-26T13:51:07.773Z"
   },
   {
    "duration": 13,
    "start_time": "2024-04-26T13:51:07.813Z"
   },
   {
    "duration": 13,
    "start_time": "2024-04-26T13:51:07.827Z"
   },
   {
    "duration": 10,
    "start_time": "2024-04-26T13:51:07.842Z"
   },
   {
    "duration": 5,
    "start_time": "2024-04-26T13:51:07.854Z"
   },
   {
    "duration": 24,
    "start_time": "2024-04-26T13:51:07.863Z"
   },
   {
    "duration": 29,
    "start_time": "2024-04-26T13:51:07.889Z"
   },
   {
    "duration": 16,
    "start_time": "2024-04-26T13:51:07.919Z"
   },
   {
    "duration": 233,
    "start_time": "2024-04-26T13:51:07.936Z"
   },
   {
    "duration": 6,
    "start_time": "2024-04-26T13:51:08.170Z"
   },
   {
    "duration": 8,
    "start_time": "2024-04-26T13:51:08.177Z"
   },
   {
    "duration": 91,
    "start_time": "2024-04-26T13:51:08.187Z"
   },
   {
    "duration": 0,
    "start_time": "2024-04-26T13:51:08.280Z"
   },
   {
    "duration": 0,
    "start_time": "2024-04-26T13:51:08.281Z"
   },
   {
    "duration": 0,
    "start_time": "2024-04-26T13:51:08.282Z"
   },
   {
    "duration": 0,
    "start_time": "2024-04-26T13:51:08.283Z"
   },
   {
    "duration": 0,
    "start_time": "2024-04-26T13:51:08.284Z"
   },
   {
    "duration": 0,
    "start_time": "2024-04-26T13:51:08.285Z"
   },
   {
    "duration": 0,
    "start_time": "2024-04-26T13:51:08.287Z"
   },
   {
    "duration": 0,
    "start_time": "2024-04-26T13:51:08.288Z"
   },
   {
    "duration": 0,
    "start_time": "2024-04-26T13:51:08.288Z"
   },
   {
    "duration": 0,
    "start_time": "2024-04-26T13:51:08.289Z"
   },
   {
    "duration": 0,
    "start_time": "2024-04-26T13:51:08.291Z"
   },
   {
    "duration": 0,
    "start_time": "2024-04-26T13:51:08.291Z"
   },
   {
    "duration": 0,
    "start_time": "2024-04-26T13:51:08.293Z"
   },
   {
    "duration": 0,
    "start_time": "2024-04-26T13:51:08.294Z"
   },
   {
    "duration": 0,
    "start_time": "2024-04-26T13:51:08.295Z"
   },
   {
    "duration": 0,
    "start_time": "2024-04-26T13:51:08.297Z"
   },
   {
    "duration": 0,
    "start_time": "2024-04-26T13:51:08.298Z"
   },
   {
    "duration": 0,
    "start_time": "2024-04-26T13:51:08.330Z"
   },
   {
    "duration": 0,
    "start_time": "2024-04-26T13:51:08.331Z"
   },
   {
    "duration": 0,
    "start_time": "2024-04-26T13:51:08.332Z"
   },
   {
    "duration": 0,
    "start_time": "2024-04-26T13:51:08.333Z"
   },
   {
    "duration": 0,
    "start_time": "2024-04-26T13:51:08.335Z"
   },
   {
    "duration": 0,
    "start_time": "2024-04-26T13:51:08.336Z"
   },
   {
    "duration": 0,
    "start_time": "2024-04-26T13:51:08.337Z"
   },
   {
    "duration": 0,
    "start_time": "2024-04-26T13:51:08.338Z"
   },
   {
    "duration": 0,
    "start_time": "2024-04-26T13:51:08.339Z"
   },
   {
    "duration": 0,
    "start_time": "2024-04-26T13:51:08.340Z"
   },
   {
    "duration": 0,
    "start_time": "2024-04-26T13:51:08.341Z"
   },
   {
    "duration": 0,
    "start_time": "2024-04-26T13:51:08.342Z"
   },
   {
    "duration": 0,
    "start_time": "2024-04-26T13:51:08.343Z"
   },
   {
    "duration": 0,
    "start_time": "2024-04-26T13:51:08.344Z"
   },
   {
    "duration": 0,
    "start_time": "2024-04-26T13:51:08.345Z"
   },
   {
    "duration": 0,
    "start_time": "2024-04-26T13:51:08.346Z"
   },
   {
    "duration": 0,
    "start_time": "2024-04-26T13:51:08.347Z"
   },
   {
    "duration": 0,
    "start_time": "2024-04-26T13:51:08.348Z"
   },
   {
    "duration": 0,
    "start_time": "2024-04-26T13:51:08.349Z"
   },
   {
    "duration": 0,
    "start_time": "2024-04-26T13:51:08.350Z"
   },
   {
    "duration": 0,
    "start_time": "2024-04-26T13:51:08.351Z"
   },
   {
    "duration": 0,
    "start_time": "2024-04-26T13:51:08.353Z"
   },
   {
    "duration": 16,
    "start_time": "2024-04-26T13:56:00.081Z"
   },
   {
    "duration": 18,
    "start_time": "2024-04-26T13:58:32.767Z"
   },
   {
    "duration": 541,
    "start_time": "2024-04-26T14:00:25.852Z"
   },
   {
    "duration": 36,
    "start_time": "2024-04-26T14:00:26.395Z"
   },
   {
    "duration": 14,
    "start_time": "2024-04-26T14:00:26.433Z"
   },
   {
    "duration": 2235,
    "start_time": "2024-04-26T14:00:26.449Z"
   },
   {
    "duration": 4,
    "start_time": "2024-04-26T14:00:28.686Z"
   },
   {
    "duration": 19,
    "start_time": "2024-04-26T14:00:28.691Z"
   },
   {
    "duration": 4,
    "start_time": "2024-04-26T14:00:28.712Z"
   },
   {
    "duration": 38,
    "start_time": "2024-04-26T14:00:28.718Z"
   },
   {
    "duration": 6,
    "start_time": "2024-04-26T14:00:28.757Z"
   },
   {
    "duration": 8,
    "start_time": "2024-04-26T14:00:28.765Z"
   },
   {
    "duration": 6,
    "start_time": "2024-04-26T14:00:28.775Z"
   },
   {
    "duration": 10,
    "start_time": "2024-04-26T14:00:28.782Z"
   },
   {
    "duration": 26,
    "start_time": "2024-04-26T14:00:28.794Z"
   },
   {
    "duration": 8,
    "start_time": "2024-04-26T14:00:28.822Z"
   },
   {
    "duration": 18,
    "start_time": "2024-04-26T14:00:28.831Z"
   },
   {
    "duration": 18,
    "start_time": "2024-04-26T14:00:28.850Z"
   },
   {
    "duration": 14,
    "start_time": "2024-04-26T14:00:28.869Z"
   },
   {
    "duration": 15,
    "start_time": "2024-04-26T14:00:28.885Z"
   },
   {
    "duration": 25,
    "start_time": "2024-04-26T14:00:28.902Z"
   },
   {
    "duration": 5,
    "start_time": "2024-04-26T14:00:28.928Z"
   },
   {
    "duration": 15,
    "start_time": "2024-04-26T14:00:28.935Z"
   },
   {
    "duration": 7,
    "start_time": "2024-04-26T14:00:28.951Z"
   },
   {
    "duration": 10,
    "start_time": "2024-04-26T14:00:28.959Z"
   },
   {
    "duration": 6,
    "start_time": "2024-04-26T14:00:28.971Z"
   },
   {
    "duration": 16,
    "start_time": "2024-04-26T14:00:28.978Z"
   },
   {
    "duration": 10,
    "start_time": "2024-04-26T14:00:28.996Z"
   },
   {
    "duration": 25,
    "start_time": "2024-04-26T14:00:29.008Z"
   },
   {
    "duration": 4,
    "start_time": "2024-04-26T14:00:29.037Z"
   },
   {
    "duration": 21,
    "start_time": "2024-04-26T14:00:29.043Z"
   },
   {
    "duration": 6,
    "start_time": "2024-04-26T14:00:29.065Z"
   },
   {
    "duration": 275,
    "start_time": "2024-04-26T14:00:29.073Z"
   },
   {
    "duration": 16,
    "start_time": "2024-04-26T14:00:29.350Z"
   },
   {
    "duration": 11,
    "start_time": "2024-04-26T14:00:29.368Z"
   },
   {
    "duration": 22,
    "start_time": "2024-04-26T14:00:29.380Z"
   },
   {
    "duration": 42,
    "start_time": "2024-04-26T14:00:29.404Z"
   },
   {
    "duration": 7,
    "start_time": "2024-04-26T14:00:29.448Z"
   },
   {
    "duration": 18,
    "start_time": "2024-04-26T14:00:29.457Z"
   },
   {
    "duration": 9,
    "start_time": "2024-04-26T14:00:29.476Z"
   },
   {
    "duration": 7,
    "start_time": "2024-04-26T14:00:29.486Z"
   },
   {
    "duration": 386,
    "start_time": "2024-04-26T14:00:29.495Z"
   },
   {
    "duration": 7,
    "start_time": "2024-04-26T14:00:29.882Z"
   },
   {
    "duration": 16,
    "start_time": "2024-04-26T14:00:29.890Z"
   },
   {
    "duration": 199,
    "start_time": "2024-04-26T14:00:29.908Z"
   },
   {
    "duration": 220,
    "start_time": "2024-04-26T14:00:30.109Z"
   },
   {
    "duration": 279,
    "start_time": "2024-04-26T14:00:30.331Z"
   },
   {
    "duration": 9,
    "start_time": "2024-04-26T14:00:30.611Z"
   },
   {
    "duration": 304,
    "start_time": "2024-04-26T14:00:30.628Z"
   },
   {
    "duration": 9,
    "start_time": "2024-04-26T14:00:30.934Z"
   },
   {
    "duration": 85,
    "start_time": "2024-04-26T14:00:30.945Z"
   },
   {
    "duration": 55,
    "start_time": "2024-04-26T14:00:31.032Z"
   },
   {
    "duration": 51,
    "start_time": "2024-04-26T14:00:31.088Z"
   },
   {
    "duration": 265,
    "start_time": "2024-04-26T14:00:31.141Z"
   },
   {
    "duration": 237,
    "start_time": "2024-04-26T14:00:31.408Z"
   },
   {
    "duration": 8,
    "start_time": "2024-04-26T14:00:31.647Z"
   },
   {
    "duration": 287,
    "start_time": "2024-04-26T14:00:31.657Z"
   },
   {
    "duration": 8,
    "start_time": "2024-04-26T14:00:31.946Z"
   },
   {
    "duration": 297,
    "start_time": "2024-04-26T14:00:31.956Z"
   },
   {
    "duration": 8,
    "start_time": "2024-04-26T14:00:32.255Z"
   },
   {
    "duration": 255,
    "start_time": "2024-04-26T14:00:32.265Z"
   },
   {
    "duration": 217,
    "start_time": "2024-04-26T14:00:32.522Z"
   },
   {
    "duration": 9,
    "start_time": "2024-04-26T14:00:32.741Z"
   },
   {
    "duration": 340,
    "start_time": "2024-04-26T14:00:32.752Z"
   },
   {
    "duration": 9,
    "start_time": "2024-04-26T14:00:33.094Z"
   },
   {
    "duration": 224,
    "start_time": "2024-04-26T14:00:33.105Z"
   },
   {
    "duration": 9,
    "start_time": "2024-04-26T14:00:33.330Z"
   },
   {
    "duration": 239,
    "start_time": "2024-04-26T14:00:33.341Z"
   },
   {
    "duration": 10,
    "start_time": "2024-04-26T14:00:33.582Z"
   },
   {
    "duration": 327,
    "start_time": "2024-04-26T14:00:33.593Z"
   },
   {
    "duration": 24,
    "start_time": "2024-04-26T14:00:33.922Z"
   },
   {
    "duration": 25,
    "start_time": "2024-04-26T14:00:33.948Z"
   },
   {
    "duration": 58,
    "start_time": "2024-04-26T14:00:33.974Z"
   },
   {
    "duration": 206,
    "start_time": "2024-04-26T14:00:34.035Z"
   },
   {
    "duration": 569,
    "start_time": "2024-04-26T14:01:39.218Z"
   },
   {
    "duration": 33,
    "start_time": "2024-04-26T14:01:39.788Z"
   },
   {
    "duration": 19,
    "start_time": "2024-04-26T14:01:39.822Z"
   },
   {
    "duration": 2433,
    "start_time": "2024-04-26T14:01:39.843Z"
   },
   {
    "duration": 3,
    "start_time": "2024-04-26T14:01:42.278Z"
   },
   {
    "duration": 35,
    "start_time": "2024-04-26T14:01:42.283Z"
   },
   {
    "duration": 17,
    "start_time": "2024-04-26T14:01:42.320Z"
   },
   {
    "duration": 16,
    "start_time": "2024-04-26T14:01:42.338Z"
   },
   {
    "duration": 38,
    "start_time": "2024-04-26T14:01:42.356Z"
   },
   {
    "duration": 21,
    "start_time": "2024-04-26T14:01:42.397Z"
   },
   {
    "duration": 53,
    "start_time": "2024-04-26T14:01:42.420Z"
   },
   {
    "duration": 21,
    "start_time": "2024-04-26T14:01:42.475Z"
   },
   {
    "duration": 21,
    "start_time": "2024-04-26T14:01:42.498Z"
   },
   {
    "duration": 4,
    "start_time": "2024-04-26T14:01:42.520Z"
   },
   {
    "duration": 10,
    "start_time": "2024-04-26T14:01:42.526Z"
   },
   {
    "duration": 10,
    "start_time": "2024-04-26T14:01:42.538Z"
   },
   {
    "duration": 5,
    "start_time": "2024-04-26T14:01:42.550Z"
   },
   {
    "duration": 9,
    "start_time": "2024-04-26T14:01:42.557Z"
   },
   {
    "duration": 16,
    "start_time": "2024-04-26T14:01:42.567Z"
   },
   {
    "duration": 6,
    "start_time": "2024-04-26T14:01:42.584Z"
   },
   {
    "duration": 39,
    "start_time": "2024-04-26T14:01:42.591Z"
   },
   {
    "duration": 5,
    "start_time": "2024-04-26T14:01:42.632Z"
   },
   {
    "duration": 11,
    "start_time": "2024-04-26T14:01:42.639Z"
   },
   {
    "duration": 21,
    "start_time": "2024-04-26T14:01:42.651Z"
   },
   {
    "duration": 11,
    "start_time": "2024-04-26T14:01:42.674Z"
   },
   {
    "duration": 21,
    "start_time": "2024-04-26T14:01:42.686Z"
   },
   {
    "duration": 10,
    "start_time": "2024-04-26T14:01:42.709Z"
   },
   {
    "duration": 6,
    "start_time": "2024-04-26T14:01:42.728Z"
   },
   {
    "duration": 49,
    "start_time": "2024-04-26T14:01:42.736Z"
   },
   {
    "duration": 42,
    "start_time": "2024-04-26T14:01:42.787Z"
   },
   {
    "duration": 238,
    "start_time": "2024-04-26T14:01:42.831Z"
   },
   {
    "duration": 15,
    "start_time": "2024-04-26T14:01:43.071Z"
   },
   {
    "duration": 12,
    "start_time": "2024-04-26T14:01:43.088Z"
   },
   {
    "duration": 16,
    "start_time": "2024-04-26T14:01:43.102Z"
   },
   {
    "duration": 32,
    "start_time": "2024-04-26T14:01:43.119Z"
   },
   {
    "duration": 8,
    "start_time": "2024-04-26T14:01:43.153Z"
   },
   {
    "duration": 9,
    "start_time": "2024-04-26T14:01:43.162Z"
   },
   {
    "duration": 10,
    "start_time": "2024-04-26T14:01:43.172Z"
   },
   {
    "duration": 3,
    "start_time": "2024-04-26T14:01:43.183Z"
   },
   {
    "duration": 419,
    "start_time": "2024-04-26T14:01:43.188Z"
   },
   {
    "duration": 7,
    "start_time": "2024-04-26T14:01:43.609Z"
   },
   {
    "duration": 20,
    "start_time": "2024-04-26T14:01:43.618Z"
   },
   {
    "duration": 204,
    "start_time": "2024-04-26T14:01:43.639Z"
   },
   {
    "duration": 219,
    "start_time": "2024-04-26T14:01:43.845Z"
   },
   {
    "duration": 296,
    "start_time": "2024-04-26T14:01:44.065Z"
   },
   {
    "duration": 8,
    "start_time": "2024-04-26T14:01:44.363Z"
   },
   {
    "duration": 221,
    "start_time": "2024-04-26T14:01:44.372Z"
   },
   {
    "duration": 11,
    "start_time": "2024-04-26T14:01:44.595Z"
   },
   {
    "duration": 36,
    "start_time": "2024-04-26T14:01:44.609Z"
   },
   {
    "duration": 22,
    "start_time": "2024-04-26T14:01:44.648Z"
   },
   {
    "duration": 9,
    "start_time": "2024-04-26T14:01:44.672Z"
   },
   {
    "duration": 296,
    "start_time": "2024-04-26T14:01:44.683Z"
   },
   {
    "duration": 224,
    "start_time": "2024-04-26T14:01:44.982Z"
   },
   {
    "duration": 9,
    "start_time": "2024-04-26T14:01:45.208Z"
   },
   {
    "duration": 274,
    "start_time": "2024-04-26T14:01:45.218Z"
   },
   {
    "duration": 9,
    "start_time": "2024-04-26T14:01:45.494Z"
   },
   {
    "duration": 188,
    "start_time": "2024-04-26T14:01:45.504Z"
   },
   {
    "duration": 10,
    "start_time": "2024-04-26T14:01:45.694Z"
   },
   {
    "duration": 252,
    "start_time": "2024-04-26T14:01:45.706Z"
   },
   {
    "duration": 203,
    "start_time": "2024-04-26T14:01:45.960Z"
   },
   {
    "duration": 9,
    "start_time": "2024-04-26T14:01:46.165Z"
   },
   {
    "duration": 335,
    "start_time": "2024-04-26T14:01:46.176Z"
   },
   {
    "duration": 17,
    "start_time": "2024-04-26T14:01:46.513Z"
   },
   {
    "duration": 248,
    "start_time": "2024-04-26T14:01:46.533Z"
   },
   {
    "duration": 9,
    "start_time": "2024-04-26T14:01:46.783Z"
   },
   {
    "duration": 251,
    "start_time": "2024-04-26T14:01:46.794Z"
   },
   {
    "duration": 10,
    "start_time": "2024-04-26T14:01:47.047Z"
   },
   {
    "duration": 341,
    "start_time": "2024-04-26T14:01:47.059Z"
   },
   {
    "duration": 29,
    "start_time": "2024-04-26T14:01:47.402Z"
   },
   {
    "duration": 25,
    "start_time": "2024-04-26T14:01:47.433Z"
   },
   {
    "duration": 35,
    "start_time": "2024-04-26T14:01:47.460Z"
   },
   {
    "duration": 256,
    "start_time": "2024-04-26T14:01:47.497Z"
   },
   {
    "duration": 5,
    "start_time": "2024-04-26T14:03:52.512Z"
   },
   {
    "duration": 8,
    "start_time": "2024-04-26T14:04:02.244Z"
   },
   {
    "duration": 7,
    "start_time": "2024-04-26T14:04:03.688Z"
   },
   {
    "duration": 106,
    "start_time": "2024-04-26T14:04:17.244Z"
   },
   {
    "duration": 28,
    "start_time": "2024-04-26T14:04:18.197Z"
   },
   {
    "duration": 15,
    "start_time": "2024-04-26T14:04:20.504Z"
   },
   {
    "duration": 2071,
    "start_time": "2024-04-26T14:04:21.852Z"
   },
   {
    "duration": 4,
    "start_time": "2024-04-26T14:04:27.227Z"
   },
   {
    "duration": 10,
    "start_time": "2024-04-26T14:04:28.024Z"
   },
   {
    "duration": 5,
    "start_time": "2024-04-26T14:04:30.925Z"
   },
   {
    "duration": 6,
    "start_time": "2024-04-26T14:04:32.082Z"
   },
   {
    "duration": 5,
    "start_time": "2024-04-26T14:04:32.567Z"
   },
   {
    "duration": 5,
    "start_time": "2024-04-26T14:04:33.000Z"
   },
   {
    "duration": 4,
    "start_time": "2024-04-26T14:04:34.212Z"
   },
   {
    "duration": 7,
    "start_time": "2024-04-26T14:04:34.788Z"
   },
   {
    "duration": 10,
    "start_time": "2024-04-26T14:04:37.885Z"
   },
   {
    "duration": 5,
    "start_time": "2024-04-26T14:04:38.660Z"
   },
   {
    "duration": 6,
    "start_time": "2024-04-26T14:04:39.316Z"
   },
   {
    "duration": 5,
    "start_time": "2024-04-26T14:04:44.723Z"
   },
   {
    "duration": 5,
    "start_time": "2024-04-26T14:04:46.572Z"
   },
   {
    "duration": 7,
    "start_time": "2024-04-26T14:04:47.967Z"
   },
   {
    "duration": 13,
    "start_time": "2024-04-26T14:04:50.732Z"
   },
   {
    "duration": 8,
    "start_time": "2024-04-26T14:04:53.170Z"
   },
   {
    "duration": 10,
    "start_time": "2024-04-26T14:04:55.274Z"
   },
   {
    "duration": 6,
    "start_time": "2024-04-26T14:04:58.054Z"
   },
   {
    "duration": 8,
    "start_time": "2024-04-26T14:04:59.799Z"
   },
   {
    "duration": 6,
    "start_time": "2024-04-26T14:05:03.292Z"
   },
   {
    "duration": 6,
    "start_time": "2024-04-26T14:05:10.962Z"
   },
   {
    "duration": 6,
    "start_time": "2024-04-26T14:07:14.243Z"
   },
   {
    "duration": 10,
    "start_time": "2024-04-26T14:13:50.872Z"
   },
   {
    "duration": 8,
    "start_time": "2024-04-26T14:15:13.433Z"
   },
   {
    "duration": 9,
    "start_time": "2024-04-26T14:16:03.595Z"
   },
   {
    "duration": 7,
    "start_time": "2024-04-26T14:16:49.151Z"
   },
   {
    "duration": 8,
    "start_time": "2024-04-26T14:17:48.931Z"
   },
   {
    "duration": 8,
    "start_time": "2024-04-26T14:18:39.264Z"
   },
   {
    "duration": 515,
    "start_time": "2024-04-26T14:19:08.883Z"
   },
   {
    "duration": 33,
    "start_time": "2024-04-26T14:19:09.400Z"
   },
   {
    "duration": 14,
    "start_time": "2024-04-26T14:19:09.435Z"
   },
   {
    "duration": 2313,
    "start_time": "2024-04-26T14:19:09.451Z"
   },
   {
    "duration": 3,
    "start_time": "2024-04-26T14:19:11.766Z"
   },
   {
    "duration": 24,
    "start_time": "2024-04-26T14:19:11.771Z"
   },
   {
    "duration": 5,
    "start_time": "2024-04-26T14:19:11.797Z"
   },
   {
    "duration": 6,
    "start_time": "2024-04-26T14:19:11.803Z"
   },
   {
    "duration": 17,
    "start_time": "2024-04-26T14:19:11.811Z"
   },
   {
    "duration": 11,
    "start_time": "2024-04-26T14:19:11.830Z"
   },
   {
    "duration": 20,
    "start_time": "2024-04-26T14:19:11.843Z"
   },
   {
    "duration": 5,
    "start_time": "2024-04-26T14:19:11.864Z"
   },
   {
    "duration": 11,
    "start_time": "2024-04-26T14:19:11.871Z"
   },
   {
    "duration": 11,
    "start_time": "2024-04-26T14:19:11.884Z"
   },
   {
    "duration": 16,
    "start_time": "2024-04-26T14:19:11.896Z"
   },
   {
    "duration": 6,
    "start_time": "2024-04-26T14:19:11.913Z"
   },
   {
    "duration": 17,
    "start_time": "2024-04-26T14:19:11.920Z"
   },
   {
    "duration": 9,
    "start_time": "2024-04-26T14:19:11.939Z"
   },
   {
    "duration": 20,
    "start_time": "2024-04-26T14:19:11.949Z"
   },
   {
    "duration": 5,
    "start_time": "2024-04-26T14:19:11.971Z"
   },
   {
    "duration": 9,
    "start_time": "2024-04-26T14:19:11.978Z"
   },
   {
    "duration": 6,
    "start_time": "2024-04-26T14:19:11.989Z"
   },
   {
    "duration": 36,
    "start_time": "2024-04-26T14:19:11.996Z"
   },
   {
    "duration": 6,
    "start_time": "2024-04-26T14:19:12.034Z"
   },
   {
    "duration": 7,
    "start_time": "2024-04-26T14:19:12.041Z"
   },
   {
    "duration": 17,
    "start_time": "2024-04-26T14:19:12.049Z"
   },
   {
    "duration": 27,
    "start_time": "2024-04-26T14:19:12.067Z"
   },
   {
    "duration": 19,
    "start_time": "2024-04-26T14:19:12.100Z"
   },
   {
    "duration": 29,
    "start_time": "2024-04-26T14:19:12.121Z"
   },
   {
    "duration": 21,
    "start_time": "2024-04-26T14:19:12.152Z"
   },
   {
    "duration": 255,
    "start_time": "2024-04-26T14:19:12.174Z"
   },
   {
    "duration": 16,
    "start_time": "2024-04-26T14:19:12.431Z"
   },
   {
    "duration": 21,
    "start_time": "2024-04-26T14:19:12.448Z"
   },
   {
    "duration": 31,
    "start_time": "2024-04-26T14:19:12.470Z"
   },
   {
    "duration": 32,
    "start_time": "2024-04-26T14:19:12.503Z"
   },
   {
    "duration": 9,
    "start_time": "2024-04-26T14:19:12.537Z"
   },
   {
    "duration": 23,
    "start_time": "2024-04-26T14:19:12.547Z"
   },
   {
    "duration": 39,
    "start_time": "2024-04-26T14:19:12.572Z"
   },
   {
    "duration": 13,
    "start_time": "2024-04-26T14:19:12.612Z"
   },
   {
    "duration": 402,
    "start_time": "2024-04-26T14:19:12.627Z"
   },
   {
    "duration": 13,
    "start_time": "2024-04-26T14:19:13.031Z"
   },
   {
    "duration": 19,
    "start_time": "2024-04-26T14:19:13.047Z"
   },
   {
    "duration": 204,
    "start_time": "2024-04-26T14:19:13.068Z"
   },
   {
    "duration": 213,
    "start_time": "2024-04-26T14:19:13.274Z"
   },
   {
    "duration": 285,
    "start_time": "2024-04-26T14:19:13.489Z"
   },
   {
    "duration": 11,
    "start_time": "2024-04-26T14:19:13.775Z"
   },
   {
    "duration": 17,
    "start_time": "2024-04-26T14:19:13.788Z"
   },
   {
    "duration": 225,
    "start_time": "2024-04-26T14:19:13.807Z"
   },
   {
    "duration": 9,
    "start_time": "2024-04-26T14:19:14.034Z"
   },
   {
    "duration": 34,
    "start_time": "2024-04-26T14:19:14.045Z"
   },
   {
    "duration": 41,
    "start_time": "2024-04-26T14:19:14.081Z"
   },
   {
    "duration": 12,
    "start_time": "2024-04-26T14:19:14.125Z"
   },
   {
    "duration": 35,
    "start_time": "2024-04-26T14:19:14.139Z"
   },
   {
    "duration": 248,
    "start_time": "2024-04-26T14:19:14.176Z"
   },
   {
    "duration": 254,
    "start_time": "2024-04-26T14:19:14.426Z"
   },
   {
    "duration": 11,
    "start_time": "2024-04-26T14:19:14.682Z"
   },
   {
    "duration": 8,
    "start_time": "2024-04-26T14:19:14.694Z"
   },
   {
    "duration": 293,
    "start_time": "2024-04-26T14:19:14.704Z"
   },
   {
    "duration": 12,
    "start_time": "2024-04-26T14:19:14.998Z"
   },
   {
    "duration": 93,
    "start_time": "2024-04-26T14:19:15.012Z"
   },
   {
    "duration": 195,
    "start_time": "2024-04-26T14:19:15.107Z"
   },
   {
    "duration": 12,
    "start_time": "2024-04-26T14:19:15.303Z"
   },
   {
    "duration": 23,
    "start_time": "2024-04-26T14:19:15.316Z"
   },
   {
    "duration": 279,
    "start_time": "2024-04-26T14:19:15.341Z"
   },
   {
    "duration": 16,
    "start_time": "2024-04-26T14:19:15.622Z"
   },
   {
    "duration": 295,
    "start_time": "2024-04-26T14:19:15.641Z"
   },
   {
    "duration": 11,
    "start_time": "2024-04-26T14:19:15.938Z"
   },
   {
    "duration": 267,
    "start_time": "2024-04-26T14:19:15.950Z"
   },
   {
    "duration": 12,
    "start_time": "2024-04-26T14:19:16.218Z"
   },
   {
    "duration": 241,
    "start_time": "2024-04-26T14:19:16.231Z"
   },
   {
    "duration": 10,
    "start_time": "2024-04-26T14:19:16.474Z"
   },
   {
    "duration": 256,
    "start_time": "2024-04-26T14:19:16.486Z"
   },
   {
    "duration": 9,
    "start_time": "2024-04-26T14:19:16.744Z"
   },
   {
    "duration": 322,
    "start_time": "2024-04-26T14:19:16.755Z"
   },
   {
    "duration": 20,
    "start_time": "2024-04-26T14:19:17.079Z"
   },
   {
    "duration": 41,
    "start_time": "2024-04-26T14:19:17.100Z"
   },
   {
    "duration": 32,
    "start_time": "2024-04-26T14:19:17.143Z"
   },
   {
    "duration": 228,
    "start_time": "2024-04-26T14:19:17.177Z"
   },
   {
    "duration": 4,
    "start_time": "2024-04-26T14:20:29.881Z"
   },
   {
    "duration": 3,
    "start_time": "2024-04-26T14:20:35.034Z"
   },
   {
    "duration": 4,
    "start_time": "2024-04-26T14:20:48.276Z"
   },
   {
    "duration": 5,
    "start_time": "2024-04-26T14:21:00.795Z"
   },
   {
    "duration": 402,
    "start_time": "2024-04-26T14:22:35.385Z"
   },
   {
    "duration": 569,
    "start_time": "2024-04-26T14:23:04.016Z"
   },
   {
    "duration": 34,
    "start_time": "2024-04-26T14:23:04.587Z"
   },
   {
    "duration": 15,
    "start_time": "2024-04-26T14:23:04.628Z"
   },
   {
    "duration": 2507,
    "start_time": "2024-04-26T14:23:04.645Z"
   },
   {
    "duration": 3,
    "start_time": "2024-04-26T14:23:07.154Z"
   },
   {
    "duration": 31,
    "start_time": "2024-04-26T14:23:07.159Z"
   },
   {
    "duration": 7,
    "start_time": "2024-04-26T14:23:07.192Z"
   },
   {
    "duration": 43,
    "start_time": "2024-04-26T14:23:07.200Z"
   },
   {
    "duration": 14,
    "start_time": "2024-04-26T14:23:07.245Z"
   },
   {
    "duration": 15,
    "start_time": "2024-04-26T14:23:07.262Z"
   },
   {
    "duration": 47,
    "start_time": "2024-04-26T14:23:07.278Z"
   },
   {
    "duration": 12,
    "start_time": "2024-04-26T14:23:07.327Z"
   },
   {
    "duration": 28,
    "start_time": "2024-04-26T14:23:07.340Z"
   },
   {
    "duration": 5,
    "start_time": "2024-04-26T14:23:07.369Z"
   },
   {
    "duration": 8,
    "start_time": "2024-04-26T14:23:07.376Z"
   },
   {
    "duration": 33,
    "start_time": "2024-04-26T14:23:07.386Z"
   },
   {
    "duration": 8,
    "start_time": "2024-04-26T14:23:07.420Z"
   },
   {
    "duration": 25,
    "start_time": "2024-04-26T14:23:07.429Z"
   },
   {
    "duration": 16,
    "start_time": "2024-04-26T14:23:07.455Z"
   },
   {
    "duration": 10,
    "start_time": "2024-04-26T14:23:07.473Z"
   },
   {
    "duration": 21,
    "start_time": "2024-04-26T14:23:07.485Z"
   },
   {
    "duration": 50,
    "start_time": "2024-04-26T14:23:07.508Z"
   },
   {
    "duration": 17,
    "start_time": "2024-04-26T14:23:07.560Z"
   },
   {
    "duration": 12,
    "start_time": "2024-04-26T14:23:07.579Z"
   },
   {
    "duration": 8,
    "start_time": "2024-04-26T14:23:07.593Z"
   },
   {
    "duration": 20,
    "start_time": "2024-04-26T14:23:07.603Z"
   },
   {
    "duration": 8,
    "start_time": "2024-04-26T14:23:07.624Z"
   },
   {
    "duration": 5,
    "start_time": "2024-04-26T14:23:07.638Z"
   },
   {
    "duration": 13,
    "start_time": "2024-04-26T14:23:07.645Z"
   },
   {
    "duration": 23,
    "start_time": "2024-04-26T14:23:07.660Z"
   },
   {
    "duration": 269,
    "start_time": "2024-04-26T14:23:07.685Z"
   },
   {
    "duration": 16,
    "start_time": "2024-04-26T14:23:07.957Z"
   },
   {
    "duration": 6,
    "start_time": "2024-04-26T14:23:07.975Z"
   },
   {
    "duration": 15,
    "start_time": "2024-04-26T14:23:07.983Z"
   },
   {
    "duration": 47,
    "start_time": "2024-04-26T14:23:08.000Z"
   },
   {
    "duration": 9,
    "start_time": "2024-04-26T14:23:08.049Z"
   },
   {
    "duration": 9,
    "start_time": "2024-04-26T14:23:08.059Z"
   },
   {
    "duration": 8,
    "start_time": "2024-04-26T14:23:08.069Z"
   },
   {
    "duration": 4,
    "start_time": "2024-04-26T14:23:08.079Z"
   },
   {
    "duration": 393,
    "start_time": "2024-04-26T14:23:08.085Z"
   },
   {
    "duration": 8,
    "start_time": "2024-04-26T14:23:08.480Z"
   },
   {
    "duration": 20,
    "start_time": "2024-04-26T14:23:08.489Z"
   },
   {
    "duration": 207,
    "start_time": "2024-04-26T14:23:08.511Z"
   },
   {
    "duration": 222,
    "start_time": "2024-04-26T14:23:08.720Z"
   },
   {
    "duration": 280,
    "start_time": "2024-04-26T14:23:08.944Z"
   },
   {
    "duration": 13,
    "start_time": "2024-04-26T14:23:09.226Z"
   },
   {
    "duration": 18,
    "start_time": "2024-04-26T14:23:09.240Z"
   },
   {
    "duration": 223,
    "start_time": "2024-04-26T14:23:09.260Z"
   },
   {
    "duration": 10,
    "start_time": "2024-04-26T14:23:09.486Z"
   },
   {
    "duration": 41,
    "start_time": "2024-04-26T14:23:09.497Z"
   },
   {
    "duration": 22,
    "start_time": "2024-04-26T14:23:09.540Z"
   },
   {
    "duration": 17,
    "start_time": "2024-04-26T14:23:09.564Z"
   },
   {
    "duration": 18,
    "start_time": "2024-04-26T14:23:09.582Z"
   },
   {
    "duration": 263,
    "start_time": "2024-04-26T14:23:09.601Z"
   },
   {
    "duration": 223,
    "start_time": "2024-04-26T14:23:09.866Z"
   },
   {
    "duration": 12,
    "start_time": "2024-04-26T14:23:10.091Z"
   },
   {
    "duration": 25,
    "start_time": "2024-04-26T14:23:10.105Z"
   },
   {
    "duration": 270,
    "start_time": "2024-04-26T14:23:10.131Z"
   },
   {
    "duration": 10,
    "start_time": "2024-04-26T14:23:10.403Z"
   },
   {
    "duration": 26,
    "start_time": "2024-04-26T14:23:10.415Z"
   },
   {
    "duration": 169,
    "start_time": "2024-04-26T14:23:10.443Z"
   },
   {
    "duration": 18,
    "start_time": "2024-04-26T14:23:10.614Z"
   },
   {
    "duration": 14,
    "start_time": "2024-04-26T14:23:10.633Z"
   },
   {
    "duration": 366,
    "start_time": "2024-04-26T14:23:10.649Z"
   },
   {
    "duration": 16,
    "start_time": "2024-04-26T14:23:11.016Z"
   },
   {
    "duration": 206,
    "start_time": "2024-04-26T14:23:11.035Z"
   },
   {
    "duration": 10,
    "start_time": "2024-04-26T14:23:11.243Z"
   },
   {
    "duration": 238,
    "start_time": "2024-04-26T14:23:11.254Z"
   },
   {
    "duration": 9,
    "start_time": "2024-04-26T14:23:11.494Z"
   },
   {
    "duration": 238,
    "start_time": "2024-04-26T14:23:11.506Z"
   },
   {
    "duration": 9,
    "start_time": "2024-04-26T14:23:11.746Z"
   },
   {
    "duration": 253,
    "start_time": "2024-04-26T14:23:11.757Z"
   },
   {
    "duration": 3,
    "start_time": "2024-04-26T14:23:12.012Z"
   },
   {
    "duration": 20,
    "start_time": "2024-04-26T14:23:12.029Z"
   },
   {
    "duration": 321,
    "start_time": "2024-04-26T14:23:12.051Z"
   },
   {
    "duration": 21,
    "start_time": "2024-04-26T14:23:12.375Z"
   },
   {
    "duration": 35,
    "start_time": "2024-04-26T14:23:12.398Z"
   },
   {
    "duration": 32,
    "start_time": "2024-04-26T14:23:12.435Z"
   },
   {
    "duration": 237,
    "start_time": "2024-04-26T14:23:12.468Z"
   },
   {
    "duration": 319,
    "start_time": "2024-04-26T14:23:47.637Z"
   },
   {
    "duration": 232,
    "start_time": "2024-04-26T14:23:51.560Z"
   },
   {
    "duration": 9,
    "start_time": "2024-04-26T14:24:02.637Z"
   },
   {
    "duration": 308,
    "start_time": "2024-04-26T14:24:11.751Z"
   },
   {
    "duration": 553,
    "start_time": "2024-04-26T14:24:21.636Z"
   },
   {
    "duration": 31,
    "start_time": "2024-04-26T14:24:22.191Z"
   },
   {
    "duration": 19,
    "start_time": "2024-04-26T14:24:22.223Z"
   },
   {
    "duration": 2268,
    "start_time": "2024-04-26T14:24:22.244Z"
   },
   {
    "duration": 3,
    "start_time": "2024-04-26T14:24:24.514Z"
   },
   {
    "duration": 19,
    "start_time": "2024-04-26T14:24:24.519Z"
   },
   {
    "duration": 9,
    "start_time": "2024-04-26T14:24:24.540Z"
   },
   {
    "duration": 5,
    "start_time": "2024-04-26T14:24:24.551Z"
   },
   {
    "duration": 15,
    "start_time": "2024-04-26T14:24:24.558Z"
   },
   {
    "duration": 5,
    "start_time": "2024-04-26T14:24:24.576Z"
   },
   {
    "duration": 17,
    "start_time": "2024-04-26T14:24:24.582Z"
   },
   {
    "duration": 18,
    "start_time": "2024-04-26T14:24:24.601Z"
   },
   {
    "duration": 41,
    "start_time": "2024-04-26T14:24:24.620Z"
   },
   {
    "duration": 7,
    "start_time": "2024-04-26T14:24:24.662Z"
   },
   {
    "duration": 12,
    "start_time": "2024-04-26T14:24:24.671Z"
   },
   {
    "duration": 18,
    "start_time": "2024-04-26T14:24:24.685Z"
   },
   {
    "duration": 5,
    "start_time": "2024-04-26T14:24:24.704Z"
   },
   {
    "duration": 6,
    "start_time": "2024-04-26T14:24:24.710Z"
   },
   {
    "duration": 16,
    "start_time": "2024-04-26T14:24:24.717Z"
   },
   {
    "duration": 5,
    "start_time": "2024-04-26T14:24:24.734Z"
   },
   {
    "duration": 12,
    "start_time": "2024-04-26T14:24:24.741Z"
   },
   {
    "duration": 9,
    "start_time": "2024-04-26T14:24:24.755Z"
   },
   {
    "duration": 20,
    "start_time": "2024-04-26T14:24:24.766Z"
   },
   {
    "duration": 7,
    "start_time": "2024-04-26T14:24:24.788Z"
   },
   {
    "duration": 7,
    "start_time": "2024-04-26T14:24:24.797Z"
   },
   {
    "duration": 6,
    "start_time": "2024-04-26T14:24:24.830Z"
   },
   {
    "duration": 6,
    "start_time": "2024-04-26T14:24:24.838Z"
   },
   {
    "duration": 7,
    "start_time": "2024-04-26T14:24:24.849Z"
   },
   {
    "duration": 15,
    "start_time": "2024-04-26T14:24:24.857Z"
   },
   {
    "duration": 8,
    "start_time": "2024-04-26T14:24:24.873Z"
   },
   {
    "duration": 286,
    "start_time": "2024-04-26T14:24:24.883Z"
   },
   {
    "duration": 17,
    "start_time": "2024-04-26T14:24:25.171Z"
   },
   {
    "duration": 6,
    "start_time": "2024-04-26T14:24:25.190Z"
   },
   {
    "duration": 16,
    "start_time": "2024-04-26T14:24:25.198Z"
   },
   {
    "duration": 26,
    "start_time": "2024-04-26T14:24:25.230Z"
   },
   {
    "duration": 8,
    "start_time": "2024-04-26T14:24:25.257Z"
   },
   {
    "duration": 11,
    "start_time": "2024-04-26T14:24:25.267Z"
   },
   {
    "duration": 15,
    "start_time": "2024-04-26T14:24:25.279Z"
   },
   {
    "duration": 16,
    "start_time": "2024-04-26T14:24:25.296Z"
   },
   {
    "duration": 361,
    "start_time": "2024-04-26T14:24:25.314Z"
   },
   {
    "duration": 8,
    "start_time": "2024-04-26T14:24:25.677Z"
   },
   {
    "duration": 12,
    "start_time": "2024-04-26T14:24:25.686Z"
   },
   {
    "duration": 200,
    "start_time": "2024-04-26T14:24:25.699Z"
   },
   {
    "duration": 208,
    "start_time": "2024-04-26T14:24:25.901Z"
   },
   {
    "duration": 276,
    "start_time": "2024-04-26T14:24:26.111Z"
   },
   {
    "duration": 12,
    "start_time": "2024-04-26T14:24:26.389Z"
   },
   {
    "duration": 27,
    "start_time": "2024-04-26T14:24:26.403Z"
   },
   {
    "duration": 246,
    "start_time": "2024-04-26T14:24:26.432Z"
   },
   {
    "duration": 9,
    "start_time": "2024-04-26T14:24:26.680Z"
   },
   {
    "duration": 39,
    "start_time": "2024-04-26T14:24:26.691Z"
   },
   {
    "duration": 22,
    "start_time": "2024-04-26T14:24:26.731Z"
   },
   {
    "duration": 10,
    "start_time": "2024-04-26T14:24:26.754Z"
   },
   {
    "duration": 9,
    "start_time": "2024-04-26T14:24:26.765Z"
   },
   {
    "duration": 262,
    "start_time": "2024-04-26T14:24:26.776Z"
   },
   {
    "duration": 233,
    "start_time": "2024-04-26T14:24:27.040Z"
   },
   {
    "duration": 11,
    "start_time": "2024-04-26T14:24:27.275Z"
   },
   {
    "duration": 9,
    "start_time": "2024-04-26T14:24:27.288Z"
   },
   {
    "duration": 311,
    "start_time": "2024-04-26T14:24:27.299Z"
   },
   {
    "duration": 17,
    "start_time": "2024-04-26T14:24:27.612Z"
   },
   {
    "duration": 15,
    "start_time": "2024-04-26T14:24:27.630Z"
   },
   {
    "duration": 155,
    "start_time": "2024-04-26T14:24:27.646Z"
   },
   {
    "duration": 10,
    "start_time": "2024-04-26T14:24:27.803Z"
   },
   {
    "duration": 19,
    "start_time": "2024-04-26T14:24:27.815Z"
   },
   {
    "duration": 219,
    "start_time": "2024-04-26T14:24:27.836Z"
   },
   {
    "duration": 10,
    "start_time": "2024-04-26T14:24:28.057Z"
   },
   {
    "duration": 329,
    "start_time": "2024-04-26T14:24:28.069Z"
   },
   {
    "duration": 11,
    "start_time": "2024-04-26T14:24:28.400Z"
   },
   {
    "duration": 234,
    "start_time": "2024-04-26T14:24:28.413Z"
   },
   {
    "duration": 9,
    "start_time": "2024-04-26T14:24:28.649Z"
   },
   {
    "duration": 220,
    "start_time": "2024-04-26T14:24:28.659Z"
   },
   {
    "duration": 9,
    "start_time": "2024-04-26T14:24:28.881Z"
   },
   {
    "duration": 239,
    "start_time": "2024-04-26T14:24:28.891Z"
   },
   {
    "duration": 4,
    "start_time": "2024-04-26T14:24:29.132Z"
   },
   {
    "duration": 17,
    "start_time": "2024-04-26T14:24:29.138Z"
   },
   {
    "duration": 341,
    "start_time": "2024-04-26T14:24:29.157Z"
   },
   {
    "duration": 45,
    "start_time": "2024-04-26T14:24:29.501Z"
   },
   {
    "duration": 27,
    "start_time": "2024-04-26T14:24:29.549Z"
   },
   {
    "duration": 31,
    "start_time": "2024-04-26T14:24:29.578Z"
   },
   {
    "duration": 211,
    "start_time": "2024-04-26T14:24:29.610Z"
   },
   {
    "duration": 576,
    "start_time": "2024-04-26T14:26:13.260Z"
   },
   {
    "duration": 34,
    "start_time": "2024-04-26T14:26:13.838Z"
   },
   {
    "duration": 16,
    "start_time": "2024-04-26T14:26:13.873Z"
   },
   {
    "duration": 2409,
    "start_time": "2024-04-26T14:26:13.891Z"
   },
   {
    "duration": 3,
    "start_time": "2024-04-26T14:26:16.302Z"
   },
   {
    "duration": 26,
    "start_time": "2024-04-26T14:26:16.307Z"
   },
   {
    "duration": 13,
    "start_time": "2024-04-26T14:26:16.334Z"
   },
   {
    "duration": 16,
    "start_time": "2024-04-26T14:26:16.349Z"
   },
   {
    "duration": 30,
    "start_time": "2024-04-26T14:26:16.367Z"
   },
   {
    "duration": 13,
    "start_time": "2024-04-26T14:26:16.400Z"
   },
   {
    "duration": 29,
    "start_time": "2024-04-26T14:26:16.415Z"
   },
   {
    "duration": 32,
    "start_time": "2024-04-26T14:26:16.446Z"
   },
   {
    "duration": 47,
    "start_time": "2024-04-26T14:26:16.480Z"
   },
   {
    "duration": 24,
    "start_time": "2024-04-26T14:26:16.529Z"
   },
   {
    "duration": 33,
    "start_time": "2024-04-26T14:26:16.555Z"
   },
   {
    "duration": 14,
    "start_time": "2024-04-26T14:26:16.590Z"
   },
   {
    "duration": 18,
    "start_time": "2024-04-26T14:26:16.606Z"
   },
   {
    "duration": 24,
    "start_time": "2024-04-26T14:26:16.625Z"
   },
   {
    "duration": 24,
    "start_time": "2024-04-26T14:26:16.651Z"
   },
   {
    "duration": 8,
    "start_time": "2024-04-26T14:26:16.677Z"
   },
   {
    "duration": 33,
    "start_time": "2024-04-26T14:26:16.687Z"
   },
   {
    "duration": 21,
    "start_time": "2024-04-26T14:26:16.721Z"
   },
   {
    "duration": 48,
    "start_time": "2024-04-26T14:26:16.744Z"
   },
   {
    "duration": 15,
    "start_time": "2024-04-26T14:26:16.794Z"
   },
   {
    "duration": 28,
    "start_time": "2024-04-26T14:26:16.811Z"
   },
   {
    "duration": 20,
    "start_time": "2024-04-26T14:26:16.841Z"
   },
   {
    "duration": 21,
    "start_time": "2024-04-26T14:26:16.863Z"
   },
   {
    "duration": 13,
    "start_time": "2024-04-26T14:26:16.888Z"
   },
   {
    "duration": 30,
    "start_time": "2024-04-26T14:26:16.903Z"
   },
   {
    "duration": 15,
    "start_time": "2024-04-26T14:26:16.934Z"
   },
   {
    "duration": 275,
    "start_time": "2024-04-26T14:26:16.951Z"
   },
   {
    "duration": 16,
    "start_time": "2024-04-26T14:26:17.228Z"
   },
   {
    "duration": 39,
    "start_time": "2024-04-26T14:26:17.246Z"
   },
   {
    "duration": 34,
    "start_time": "2024-04-26T14:26:17.286Z"
   },
   {
    "duration": 44,
    "start_time": "2024-04-26T14:26:17.322Z"
   },
   {
    "duration": 9,
    "start_time": "2024-04-26T14:26:17.367Z"
   },
   {
    "duration": 24,
    "start_time": "2024-04-26T14:26:17.377Z"
   },
   {
    "duration": 33,
    "start_time": "2024-04-26T14:26:17.402Z"
   },
   {
    "duration": 5,
    "start_time": "2024-04-26T14:26:17.437Z"
   },
   {
    "duration": 398,
    "start_time": "2024-04-26T14:26:17.444Z"
   },
   {
    "duration": 7,
    "start_time": "2024-04-26T14:26:17.844Z"
   },
   {
    "duration": 35,
    "start_time": "2024-04-26T14:26:17.852Z"
   },
   {
    "duration": 212,
    "start_time": "2024-04-26T14:26:17.889Z"
   },
   {
    "duration": 218,
    "start_time": "2024-04-26T14:26:18.103Z"
   },
   {
    "duration": 287,
    "start_time": "2024-04-26T14:26:18.322Z"
   },
   {
    "duration": 19,
    "start_time": "2024-04-26T14:26:18.610Z"
   },
   {
    "duration": 13,
    "start_time": "2024-04-26T14:26:18.631Z"
   },
   {
    "duration": 208,
    "start_time": "2024-04-26T14:26:18.646Z"
   },
   {
    "duration": 8,
    "start_time": "2024-04-26T14:26:18.856Z"
   },
   {
    "duration": 33,
    "start_time": "2024-04-26T14:26:18.866Z"
   },
   {
    "duration": 28,
    "start_time": "2024-04-26T14:26:18.901Z"
   },
   {
    "duration": 10,
    "start_time": "2024-04-26T14:26:18.931Z"
   },
   {
    "duration": 14,
    "start_time": "2024-04-26T14:26:18.942Z"
   },
   {
    "duration": 243,
    "start_time": "2024-04-26T14:26:18.958Z"
   },
   {
    "duration": 236,
    "start_time": "2024-04-26T14:26:19.203Z"
   },
   {
    "duration": 11,
    "start_time": "2024-04-26T14:26:19.441Z"
   },
   {
    "duration": 29,
    "start_time": "2024-04-26T14:26:19.454Z"
   },
   {
    "duration": 308,
    "start_time": "2024-04-26T14:26:19.485Z"
   },
   {
    "duration": 11,
    "start_time": "2024-04-26T14:26:19.795Z"
   },
   {
    "duration": 21,
    "start_time": "2024-04-26T14:26:19.808Z"
   },
   {
    "duration": 162,
    "start_time": "2024-04-26T14:26:19.831Z"
   },
   {
    "duration": 12,
    "start_time": "2024-04-26T14:26:19.995Z"
   },
   {
    "duration": 34,
    "start_time": "2024-04-26T14:26:20.008Z"
   },
   {
    "duration": 248,
    "start_time": "2024-04-26T14:26:20.044Z"
   },
   {
    "duration": 10,
    "start_time": "2024-04-26T14:26:20.294Z"
   },
   {
    "duration": 278,
    "start_time": "2024-04-26T14:26:20.306Z"
   },
   {
    "duration": 10,
    "start_time": "2024-04-26T14:26:20.585Z"
   },
   {
    "duration": 252,
    "start_time": "2024-04-26T14:26:20.596Z"
   },
   {
    "duration": 9,
    "start_time": "2024-04-26T14:26:20.849Z"
   },
   {
    "duration": 242,
    "start_time": "2024-04-26T14:26:20.860Z"
   },
   {
    "duration": 9,
    "start_time": "2024-04-26T14:26:21.104Z"
   },
   {
    "duration": 255,
    "start_time": "2024-04-26T14:26:21.114Z"
   },
   {
    "duration": 5,
    "start_time": "2024-04-26T14:26:21.371Z"
   },
   {
    "duration": 26,
    "start_time": "2024-04-26T14:26:21.377Z"
   },
   {
    "duration": 328,
    "start_time": "2024-04-26T14:26:21.405Z"
   },
   {
    "duration": 20,
    "start_time": "2024-04-26T14:26:21.735Z"
   },
   {
    "duration": 24,
    "start_time": "2024-04-26T14:26:21.757Z"
   },
   {
    "duration": 52,
    "start_time": "2024-04-26T14:26:21.783Z"
   },
   {
    "duration": 206,
    "start_time": "2024-04-26T14:26:21.838Z"
   },
   {
    "duration": 556,
    "start_time": "2024-04-26T14:29:53.250Z"
   },
   {
    "duration": 40,
    "start_time": "2024-04-26T14:29:53.809Z"
   },
   {
    "duration": 17,
    "start_time": "2024-04-26T14:29:53.851Z"
   },
   {
    "duration": 2333,
    "start_time": "2024-04-26T14:29:53.871Z"
   },
   {
    "duration": 3,
    "start_time": "2024-04-26T14:29:56.206Z"
   },
   {
    "duration": 25,
    "start_time": "2024-04-26T14:29:56.211Z"
   },
   {
    "duration": 12,
    "start_time": "2024-04-26T14:29:56.238Z"
   },
   {
    "duration": 19,
    "start_time": "2024-04-26T14:29:56.252Z"
   },
   {
    "duration": 12,
    "start_time": "2024-04-26T14:29:56.272Z"
   },
   {
    "duration": 7,
    "start_time": "2024-04-26T14:29:56.287Z"
   },
   {
    "duration": 6,
    "start_time": "2024-04-26T14:29:56.296Z"
   },
   {
    "duration": 18,
    "start_time": "2024-04-26T14:29:56.304Z"
   },
   {
    "duration": 13,
    "start_time": "2024-04-26T14:29:56.324Z"
   },
   {
    "duration": 13,
    "start_time": "2024-04-26T14:29:56.339Z"
   },
   {
    "duration": 33,
    "start_time": "2024-04-26T14:29:56.354Z"
   },
   {
    "duration": 7,
    "start_time": "2024-04-26T14:29:56.389Z"
   },
   {
    "duration": 18,
    "start_time": "2024-04-26T14:29:56.398Z"
   },
   {
    "duration": 6,
    "start_time": "2024-04-26T14:29:56.418Z"
   },
   {
    "duration": 25,
    "start_time": "2024-04-26T14:29:56.425Z"
   },
   {
    "duration": 7,
    "start_time": "2024-04-26T14:29:56.453Z"
   },
   {
    "duration": 11,
    "start_time": "2024-04-26T14:29:56.463Z"
   },
   {
    "duration": 7,
    "start_time": "2024-04-26T14:29:56.476Z"
   },
   {
    "duration": 17,
    "start_time": "2024-04-26T14:29:56.485Z"
   },
   {
    "duration": 25,
    "start_time": "2024-04-26T14:29:56.504Z"
   },
   {
    "duration": 7,
    "start_time": "2024-04-26T14:29:56.531Z"
   },
   {
    "duration": 7,
    "start_time": "2024-04-26T14:29:56.539Z"
   },
   {
    "duration": 16,
    "start_time": "2024-04-26T14:29:56.547Z"
   },
   {
    "duration": 8,
    "start_time": "2024-04-26T14:29:56.568Z"
   },
   {
    "duration": 15,
    "start_time": "2024-04-26T14:29:56.578Z"
   },
   {
    "duration": 6,
    "start_time": "2024-04-26T14:29:56.595Z"
   },
   {
    "duration": 271,
    "start_time": "2024-04-26T14:29:56.603Z"
   },
   {
    "duration": 17,
    "start_time": "2024-04-26T14:29:56.875Z"
   },
   {
    "duration": 5,
    "start_time": "2024-04-26T14:29:56.894Z"
   },
   {
    "duration": 29,
    "start_time": "2024-04-26T14:29:56.901Z"
   },
   {
    "duration": 28,
    "start_time": "2024-04-26T14:29:56.932Z"
   },
   {
    "duration": 8,
    "start_time": "2024-04-26T14:29:56.961Z"
   },
   {
    "duration": 11,
    "start_time": "2024-04-26T14:29:56.970Z"
   },
   {
    "duration": 12,
    "start_time": "2024-04-26T14:29:56.983Z"
   },
   {
    "duration": 20,
    "start_time": "2024-04-26T14:29:56.997Z"
   },
   {
    "duration": 350,
    "start_time": "2024-04-26T14:29:57.030Z"
   },
   {
    "duration": 7,
    "start_time": "2024-04-26T14:29:57.382Z"
   },
   {
    "duration": 9,
    "start_time": "2024-04-26T14:29:57.390Z"
   },
   {
    "duration": 238,
    "start_time": "2024-04-26T14:29:57.400Z"
   },
   {
    "duration": 209,
    "start_time": "2024-04-26T14:29:57.640Z"
   },
   {
    "duration": 293,
    "start_time": "2024-04-26T14:29:57.851Z"
   },
   {
    "duration": 11,
    "start_time": "2024-04-26T14:29:58.146Z"
   },
   {
    "duration": 9,
    "start_time": "2024-04-26T14:29:58.159Z"
   },
   {
    "duration": 229,
    "start_time": "2024-04-26T14:29:58.169Z"
   },
   {
    "duration": 9,
    "start_time": "2024-04-26T14:29:58.400Z"
   },
   {
    "duration": 34,
    "start_time": "2024-04-26T14:29:58.411Z"
   },
   {
    "duration": 22,
    "start_time": "2024-04-26T14:29:58.447Z"
   },
   {
    "duration": 11,
    "start_time": "2024-04-26T14:29:58.470Z"
   },
   {
    "duration": 14,
    "start_time": "2024-04-26T14:29:58.483Z"
   },
   {
    "duration": 238,
    "start_time": "2024-04-26T14:29:58.499Z"
   },
   {
    "duration": 222,
    "start_time": "2024-04-26T14:29:58.739Z"
   },
   {
    "duration": 12,
    "start_time": "2024-04-26T14:29:58.963Z"
   },
   {
    "duration": 14,
    "start_time": "2024-04-26T14:29:58.977Z"
   },
   {
    "duration": 281,
    "start_time": "2024-04-26T14:29:58.992Z"
   },
   {
    "duration": 11,
    "start_time": "2024-04-26T14:29:59.275Z"
   },
   {
    "duration": 9,
    "start_time": "2024-04-26T14:29:59.288Z"
   },
   {
    "duration": 186,
    "start_time": "2024-04-26T14:29:59.299Z"
   },
   {
    "duration": 11,
    "start_time": "2024-04-26T14:29:59.487Z"
   },
   {
    "duration": 18,
    "start_time": "2024-04-26T14:29:59.499Z"
   },
   {
    "duration": 232,
    "start_time": "2024-04-26T14:29:59.519Z"
   },
   {
    "duration": 11,
    "start_time": "2024-04-26T14:29:59.752Z"
   },
   {
    "duration": 274,
    "start_time": "2024-04-26T14:29:59.764Z"
   },
   {
    "duration": 9,
    "start_time": "2024-04-26T14:30:00.040Z"
   },
   {
    "duration": 256,
    "start_time": "2024-04-26T14:30:00.051Z"
   },
   {
    "duration": 25,
    "start_time": "2024-04-26T14:30:00.309Z"
   },
   {
    "duration": 323,
    "start_time": "2024-04-26T14:30:00.336Z"
   },
   {
    "duration": 10,
    "start_time": "2024-04-26T14:30:00.661Z"
   },
   {
    "duration": 359,
    "start_time": "2024-04-26T14:30:00.673Z"
   },
   {
    "duration": 5,
    "start_time": "2024-04-26T14:30:01.034Z"
   },
   {
    "duration": 50,
    "start_time": "2024-04-26T14:30:01.040Z"
   },
   {
    "duration": 360,
    "start_time": "2024-04-26T14:30:01.092Z"
   },
   {
    "duration": 21,
    "start_time": "2024-04-26T14:30:01.453Z"
   },
   {
    "duration": 44,
    "start_time": "2024-04-26T14:30:01.475Z"
   },
   {
    "duration": 55,
    "start_time": "2024-04-26T14:30:01.521Z"
   },
   {
    "duration": 217,
    "start_time": "2024-04-26T14:30:01.577Z"
   },
   {
    "duration": 44,
    "start_time": "2024-04-27T13:57:58.668Z"
   },
   {
    "duration": 593,
    "start_time": "2024-04-27T13:58:04.473Z"
   },
   {
    "duration": 28,
    "start_time": "2024-04-27T13:58:05.068Z"
   },
   {
    "duration": 24,
    "start_time": "2024-04-27T13:58:05.098Z"
   },
   {
    "duration": 2423,
    "start_time": "2024-04-27T13:58:05.123Z"
   },
   {
    "duration": 3,
    "start_time": "2024-04-27T13:58:07.548Z"
   },
   {
    "duration": 12,
    "start_time": "2024-04-27T13:58:07.553Z"
   },
   {
    "duration": 4,
    "start_time": "2024-04-27T13:58:07.566Z"
   },
   {
    "duration": 5,
    "start_time": "2024-04-27T13:58:07.571Z"
   },
   {
    "duration": 12,
    "start_time": "2024-04-27T13:58:07.577Z"
   },
   {
    "duration": 4,
    "start_time": "2024-04-27T13:58:07.591Z"
   },
   {
    "duration": 5,
    "start_time": "2024-04-27T13:58:07.597Z"
   },
   {
    "duration": 13,
    "start_time": "2024-04-27T13:58:07.603Z"
   },
   {
    "duration": 36,
    "start_time": "2024-04-27T13:58:07.617Z"
   },
   {
    "duration": 13,
    "start_time": "2024-04-27T13:58:07.656Z"
   },
   {
    "duration": 9,
    "start_time": "2024-04-27T13:58:07.671Z"
   },
   {
    "duration": 17,
    "start_time": "2024-04-27T13:58:07.681Z"
   },
   {
    "duration": 6,
    "start_time": "2024-04-27T13:58:07.699Z"
   },
   {
    "duration": 8,
    "start_time": "2024-04-27T13:58:07.707Z"
   },
   {
    "duration": 17,
    "start_time": "2024-04-27T13:58:07.717Z"
   },
   {
    "duration": 14,
    "start_time": "2024-04-27T13:58:07.736Z"
   },
   {
    "duration": 9,
    "start_time": "2024-04-27T13:58:07.752Z"
   },
   {
    "duration": 5,
    "start_time": "2024-04-27T13:58:07.762Z"
   },
   {
    "duration": 8,
    "start_time": "2024-04-27T13:58:07.768Z"
   },
   {
    "duration": 6,
    "start_time": "2024-04-27T13:58:07.777Z"
   },
   {
    "duration": 6,
    "start_time": "2024-04-27T13:58:07.785Z"
   },
   {
    "duration": 54,
    "start_time": "2024-04-27T13:58:07.792Z"
   },
   {
    "duration": 6,
    "start_time": "2024-04-27T13:58:07.848Z"
   },
   {
    "duration": 9,
    "start_time": "2024-04-27T13:58:07.856Z"
   },
   {
    "duration": 11,
    "start_time": "2024-04-27T13:58:07.867Z"
   },
   {
    "duration": 6,
    "start_time": "2024-04-27T13:58:07.879Z"
   },
   {
    "duration": 246,
    "start_time": "2024-04-27T13:58:07.886Z"
   },
   {
    "duration": 22,
    "start_time": "2024-04-27T13:58:08.133Z"
   },
   {
    "duration": 6,
    "start_time": "2024-04-27T13:58:08.156Z"
   },
   {
    "duration": 9,
    "start_time": "2024-04-27T13:58:08.164Z"
   },
   {
    "duration": 23,
    "start_time": "2024-04-27T13:58:08.174Z"
   },
   {
    "duration": 9,
    "start_time": "2024-04-27T13:58:08.199Z"
   },
   {
    "duration": 41,
    "start_time": "2024-04-27T13:58:08.209Z"
   },
   {
    "duration": 9,
    "start_time": "2024-04-27T13:58:08.252Z"
   },
   {
    "duration": 4,
    "start_time": "2024-04-27T13:58:08.262Z"
   },
   {
    "duration": 336,
    "start_time": "2024-04-27T13:58:08.269Z"
   },
   {
    "duration": 7,
    "start_time": "2024-04-27T13:58:08.609Z"
   },
   {
    "duration": 19,
    "start_time": "2024-04-27T13:58:08.617Z"
   },
   {
    "duration": 168,
    "start_time": "2024-04-27T13:58:08.638Z"
   },
   {
    "duration": 243,
    "start_time": "2024-04-27T13:58:08.807Z"
   },
   {
    "duration": 186,
    "start_time": "2024-04-27T13:58:09.052Z"
   },
   {
    "duration": 10,
    "start_time": "2024-04-27T13:58:09.239Z"
   },
   {
    "duration": 7,
    "start_time": "2024-04-27T13:58:09.251Z"
   },
   {
    "duration": 214,
    "start_time": "2024-04-27T13:58:09.259Z"
   },
   {
    "duration": 20,
    "start_time": "2024-04-27T13:58:09.475Z"
   },
   {
    "duration": 25,
    "start_time": "2024-04-27T13:58:09.497Z"
   },
   {
    "duration": 38,
    "start_time": "2024-04-27T13:58:09.524Z"
   },
   {
    "duration": 17,
    "start_time": "2024-04-27T13:58:09.563Z"
   },
   {
    "duration": 10,
    "start_time": "2024-04-27T13:58:09.582Z"
   },
   {
    "duration": 227,
    "start_time": "2024-04-27T13:58:09.593Z"
   },
   {
    "duration": 194,
    "start_time": "2024-04-27T13:58:09.822Z"
   },
   {
    "duration": 10,
    "start_time": "2024-04-27T13:58:10.018Z"
   },
   {
    "duration": 34,
    "start_time": "2024-04-27T13:58:10.029Z"
   },
   {
    "duration": 241,
    "start_time": "2024-04-27T13:58:10.064Z"
   },
   {
    "duration": 9,
    "start_time": "2024-04-27T13:58:10.306Z"
   },
   {
    "duration": 19,
    "start_time": "2024-04-27T13:58:10.317Z"
   },
   {
    "duration": 147,
    "start_time": "2024-04-27T13:58:10.338Z"
   },
   {
    "duration": 10,
    "start_time": "2024-04-27T13:58:10.487Z"
   },
   {
    "duration": 17,
    "start_time": "2024-04-27T13:58:10.499Z"
   },
   {
    "duration": 308,
    "start_time": "2024-04-27T13:58:10.517Z"
   },
   {
    "duration": 19,
    "start_time": "2024-04-27T13:58:10.826Z"
   },
   {
    "duration": 170,
    "start_time": "2024-04-27T13:58:10.846Z"
   },
   {
    "duration": 9,
    "start_time": "2024-04-27T13:58:11.017Z"
   },
   {
    "duration": 219,
    "start_time": "2024-04-27T13:58:11.027Z"
   },
   {
    "duration": 8,
    "start_time": "2024-04-27T13:58:11.248Z"
   },
   {
    "duration": 203,
    "start_time": "2024-04-27T13:58:11.257Z"
   },
   {
    "duration": 9,
    "start_time": "2024-04-27T13:58:11.461Z"
   },
   {
    "duration": 222,
    "start_time": "2024-04-27T13:58:11.472Z"
   },
   {
    "duration": 3,
    "start_time": "2024-04-27T13:58:11.696Z"
   },
   {
    "duration": 9,
    "start_time": "2024-04-27T13:58:11.701Z"
   },
   {
    "duration": 300,
    "start_time": "2024-04-27T13:58:11.712Z"
   },
   {
    "duration": 17,
    "start_time": "2024-04-27T13:58:12.014Z"
   },
   {
    "duration": 501,
    "start_time": "2024-04-27T14:00:04.210Z"
   },
   {
    "duration": 37,
    "start_time": "2024-04-27T14:00:04.713Z"
   },
   {
    "duration": 15,
    "start_time": "2024-04-27T14:00:04.751Z"
   },
   {
    "duration": 2010,
    "start_time": "2024-04-27T14:00:04.768Z"
   },
   {
    "duration": 4,
    "start_time": "2024-04-27T14:00:06.780Z"
   },
   {
    "duration": 11,
    "start_time": "2024-04-27T14:00:06.785Z"
   },
   {
    "duration": 4,
    "start_time": "2024-04-27T14:00:06.798Z"
   },
   {
    "duration": 5,
    "start_time": "2024-04-27T14:00:06.803Z"
   },
   {
    "duration": 5,
    "start_time": "2024-04-27T14:00:06.809Z"
   },
   {
    "duration": 15,
    "start_time": "2024-04-27T14:00:06.816Z"
   },
   {
    "duration": 16,
    "start_time": "2024-04-27T14:00:06.833Z"
   },
   {
    "duration": 15,
    "start_time": "2024-04-27T14:00:06.850Z"
   },
   {
    "duration": 20,
    "start_time": "2024-04-27T14:00:06.867Z"
   },
   {
    "duration": 6,
    "start_time": "2024-04-27T14:00:06.888Z"
   },
   {
    "duration": 11,
    "start_time": "2024-04-27T14:00:06.896Z"
   },
   {
    "duration": 15,
    "start_time": "2024-04-27T14:00:06.908Z"
   },
   {
    "duration": 6,
    "start_time": "2024-04-27T14:00:06.925Z"
   },
   {
    "duration": 24,
    "start_time": "2024-04-27T14:00:06.932Z"
   },
   {
    "duration": 17,
    "start_time": "2024-04-27T14:00:06.957Z"
   },
   {
    "duration": 6,
    "start_time": "2024-04-27T14:00:06.975Z"
   },
   {
    "duration": 9,
    "start_time": "2024-04-27T14:00:06.983Z"
   },
   {
    "duration": 7,
    "start_time": "2024-04-27T14:00:06.994Z"
   },
   {
    "duration": 13,
    "start_time": "2024-04-27T14:00:07.003Z"
   },
   {
    "duration": 11,
    "start_time": "2024-04-27T14:00:07.017Z"
   },
   {
    "duration": 6,
    "start_time": "2024-04-27T14:00:07.045Z"
   },
   {
    "duration": 13,
    "start_time": "2024-04-27T14:00:07.053Z"
   },
   {
    "duration": 9,
    "start_time": "2024-04-27T14:00:07.067Z"
   },
   {
    "duration": 4,
    "start_time": "2024-04-27T14:00:07.081Z"
   },
   {
    "duration": 15,
    "start_time": "2024-04-27T14:00:07.086Z"
   },
   {
    "duration": 6,
    "start_time": "2024-04-27T14:00:07.102Z"
   },
   {
    "duration": 258,
    "start_time": "2024-04-27T14:00:07.109Z"
   },
   {
    "duration": 14,
    "start_time": "2024-04-27T14:00:07.369Z"
   },
   {
    "duration": 5,
    "start_time": "2024-04-27T14:00:07.385Z"
   },
   {
    "duration": 8,
    "start_time": "2024-04-27T14:00:07.391Z"
   },
   {
    "duration": 45,
    "start_time": "2024-04-27T14:00:07.400Z"
   },
   {
    "duration": 7,
    "start_time": "2024-04-27T14:00:07.447Z"
   },
   {
    "duration": 11,
    "start_time": "2024-04-27T14:00:07.456Z"
   },
   {
    "duration": 8,
    "start_time": "2024-04-27T14:00:07.468Z"
   },
   {
    "duration": 3,
    "start_time": "2024-04-27T14:00:07.478Z"
   },
   {
    "duration": 351,
    "start_time": "2024-04-27T14:00:07.482Z"
   },
   {
    "duration": 11,
    "start_time": "2024-04-27T14:00:07.834Z"
   },
   {
    "duration": 7,
    "start_time": "2024-04-27T14:00:07.847Z"
   },
   {
    "duration": 177,
    "start_time": "2024-04-27T14:00:07.855Z"
   },
   {
    "duration": 183,
    "start_time": "2024-04-27T14:00:08.034Z"
   },
   {
    "duration": 254,
    "start_time": "2024-04-27T14:00:08.219Z"
   },
   {
    "duration": 9,
    "start_time": "2024-04-27T14:00:08.475Z"
   },
   {
    "duration": 8,
    "start_time": "2024-04-27T14:00:08.486Z"
   },
   {
    "duration": 213,
    "start_time": "2024-04-27T14:00:08.495Z"
   },
   {
    "duration": 8,
    "start_time": "2024-04-27T14:00:08.709Z"
   },
   {
    "duration": 30,
    "start_time": "2024-04-27T14:00:08.718Z"
   },
   {
    "duration": 19,
    "start_time": "2024-04-27T14:00:08.749Z"
   },
   {
    "duration": 11,
    "start_time": "2024-04-27T14:00:08.769Z"
   },
   {
    "duration": 8,
    "start_time": "2024-04-27T14:00:08.781Z"
   },
   {
    "duration": 211,
    "start_time": "2024-04-27T14:00:08.790Z"
   },
   {
    "duration": 199,
    "start_time": "2024-04-27T14:00:09.002Z"
   },
   {
    "duration": 10,
    "start_time": "2024-04-27T14:00:09.202Z"
   },
   {
    "duration": 7,
    "start_time": "2024-04-27T14:00:09.214Z"
   },
   {
    "duration": 258,
    "start_time": "2024-04-27T14:00:09.222Z"
   },
   {
    "duration": 13,
    "start_time": "2024-04-27T14:00:09.481Z"
   },
   {
    "duration": 9,
    "start_time": "2024-04-27T14:00:09.496Z"
   },
   {
    "duration": 154,
    "start_time": "2024-04-27T14:00:09.506Z"
   },
   {
    "duration": 11,
    "start_time": "2024-04-27T14:00:09.661Z"
   },
   {
    "duration": 13,
    "start_time": "2024-04-27T14:00:09.673Z"
   },
   {
    "duration": 296,
    "start_time": "2024-04-27T14:00:09.687Z"
   },
   {
    "duration": 9,
    "start_time": "2024-04-27T14:00:09.984Z"
   },
   {
    "duration": 179,
    "start_time": "2024-04-27T14:00:09.995Z"
   },
   {
    "duration": 8,
    "start_time": "2024-04-27T14:00:10.176Z"
   },
   {
    "duration": 205,
    "start_time": "2024-04-27T14:00:10.185Z"
   },
   {
    "duration": 9,
    "start_time": "2024-04-27T14:00:10.391Z"
   },
   {
    "duration": 202,
    "start_time": "2024-04-27T14:00:10.401Z"
   },
   {
    "duration": 8,
    "start_time": "2024-04-27T14:00:10.605Z"
   },
   {
    "duration": 205,
    "start_time": "2024-04-27T14:00:10.614Z"
   },
   {
    "duration": 4,
    "start_time": "2024-04-27T14:00:10.821Z"
   },
   {
    "duration": 22,
    "start_time": "2024-04-27T14:00:10.826Z"
   },
   {
    "duration": 278,
    "start_time": "2024-04-27T14:00:10.850Z"
   },
   {
    "duration": 29,
    "start_time": "2024-04-27T14:00:11.129Z"
   },
   {
    "duration": 476,
    "start_time": "2024-04-27T14:02:44.506Z"
   },
   {
    "duration": 27,
    "start_time": "2024-04-27T14:02:44.984Z"
   },
   {
    "duration": 27,
    "start_time": "2024-04-27T14:02:45.013Z"
   },
   {
    "duration": 1945,
    "start_time": "2024-04-27T14:02:45.041Z"
   },
   {
    "duration": 3,
    "start_time": "2024-04-27T14:02:46.988Z"
   },
   {
    "duration": 37,
    "start_time": "2024-04-27T14:02:46.993Z"
   },
   {
    "duration": 22,
    "start_time": "2024-04-27T14:02:47.031Z"
   },
   {
    "duration": 30,
    "start_time": "2024-04-27T14:02:47.054Z"
   },
   {
    "duration": 14,
    "start_time": "2024-04-27T14:02:47.085Z"
   },
   {
    "duration": 19,
    "start_time": "2024-04-27T14:02:47.102Z"
   },
   {
    "duration": 18,
    "start_time": "2024-04-27T14:02:47.123Z"
   },
   {
    "duration": 12,
    "start_time": "2024-04-27T14:02:47.143Z"
   },
   {
    "duration": 33,
    "start_time": "2024-04-27T14:02:47.156Z"
   },
   {
    "duration": 60,
    "start_time": "2024-04-27T14:02:47.191Z"
   },
   {
    "duration": 50,
    "start_time": "2024-04-27T14:02:47.253Z"
   },
   {
    "duration": 30,
    "start_time": "2024-04-27T14:02:47.305Z"
   },
   {
    "duration": 24,
    "start_time": "2024-04-27T14:02:47.336Z"
   },
   {
    "duration": 28,
    "start_time": "2024-04-27T14:02:47.362Z"
   },
   {
    "duration": 46,
    "start_time": "2024-04-27T14:02:47.392Z"
   },
   {
    "duration": 23,
    "start_time": "2024-04-27T14:02:47.439Z"
   },
   {
    "duration": 28,
    "start_time": "2024-04-27T14:02:47.463Z"
   },
   {
    "duration": 26,
    "start_time": "2024-04-27T14:02:47.492Z"
   },
   {
    "duration": 30,
    "start_time": "2024-04-27T14:02:47.519Z"
   },
   {
    "duration": 38,
    "start_time": "2024-04-27T14:02:47.550Z"
   },
   {
    "duration": 21,
    "start_time": "2024-04-27T14:02:47.590Z"
   },
   {
    "duration": 24,
    "start_time": "2024-04-27T14:02:47.612Z"
   },
   {
    "duration": 24,
    "start_time": "2024-04-27T14:02:47.637Z"
   },
   {
    "duration": 24,
    "start_time": "2024-04-27T14:02:47.665Z"
   },
   {
    "duration": 52,
    "start_time": "2024-04-27T14:02:47.690Z"
   },
   {
    "duration": 25,
    "start_time": "2024-04-27T14:02:47.744Z"
   },
   {
    "duration": 228,
    "start_time": "2024-04-27T14:02:47.771Z"
   },
   {
    "duration": 15,
    "start_time": "2024-04-27T14:02:48.001Z"
   },
   {
    "duration": 18,
    "start_time": "2024-04-27T14:02:48.017Z"
   },
   {
    "duration": 33,
    "start_time": "2024-04-27T14:02:48.036Z"
   },
   {
    "duration": 44,
    "start_time": "2024-04-27T14:02:48.071Z"
   },
   {
    "duration": 17,
    "start_time": "2024-04-27T14:02:48.117Z"
   },
   {
    "duration": 24,
    "start_time": "2024-04-27T14:02:48.136Z"
   },
   {
    "duration": 47,
    "start_time": "2024-04-27T14:02:48.161Z"
   },
   {
    "duration": 18,
    "start_time": "2024-04-27T14:02:48.210Z"
   },
   {
    "duration": 344,
    "start_time": "2024-04-27T14:02:48.230Z"
   },
   {
    "duration": 5,
    "start_time": "2024-04-27T14:02:48.576Z"
   },
   {
    "duration": 14,
    "start_time": "2024-04-27T14:02:48.582Z"
   },
   {
    "duration": 205,
    "start_time": "2024-04-27T14:02:48.598Z"
   },
   {
    "duration": 195,
    "start_time": "2024-04-27T14:02:48.804Z"
   },
   {
    "duration": 240,
    "start_time": "2024-04-27T14:02:49.001Z"
   },
   {
    "duration": 10,
    "start_time": "2024-04-27T14:02:49.245Z"
   },
   {
    "duration": 20,
    "start_time": "2024-04-27T14:02:49.257Z"
   },
   {
    "duration": 198,
    "start_time": "2024-04-27T14:02:49.278Z"
   },
   {
    "duration": 8,
    "start_time": "2024-04-27T14:02:49.477Z"
   },
   {
    "duration": 23,
    "start_time": "2024-04-27T14:02:49.486Z"
   },
   {
    "duration": 18,
    "start_time": "2024-04-27T14:02:49.510Z"
   },
   {
    "duration": 19,
    "start_time": "2024-04-27T14:02:49.530Z"
   },
   {
    "duration": 22,
    "start_time": "2024-04-27T14:02:49.550Z"
   },
   {
    "duration": 215,
    "start_time": "2024-04-27T14:02:49.573Z"
   },
   {
    "duration": 200,
    "start_time": "2024-04-27T14:02:49.789Z"
   },
   {
    "duration": 10,
    "start_time": "2024-04-27T14:02:49.991Z"
   },
   {
    "duration": 29,
    "start_time": "2024-04-27T14:02:50.003Z"
   },
   {
    "duration": 245,
    "start_time": "2024-04-27T14:02:50.033Z"
   },
   {
    "duration": 12,
    "start_time": "2024-04-27T14:02:50.281Z"
   },
   {
    "duration": 20,
    "start_time": "2024-04-27T14:02:50.295Z"
   },
   {
    "duration": 145,
    "start_time": "2024-04-27T14:02:50.317Z"
   },
   {
    "duration": 11,
    "start_time": "2024-04-27T14:02:50.463Z"
   },
   {
    "duration": 17,
    "start_time": "2024-04-27T14:02:50.475Z"
   },
   {
    "duration": 286,
    "start_time": "2024-04-27T14:02:50.493Z"
   },
   {
    "duration": 8,
    "start_time": "2024-04-27T14:02:50.781Z"
   },
   {
    "duration": 169,
    "start_time": "2024-04-27T14:02:50.790Z"
   },
   {
    "duration": 8,
    "start_time": "2024-04-27T14:02:50.960Z"
   },
   {
    "duration": 214,
    "start_time": "2024-04-27T14:02:50.969Z"
   },
   {
    "duration": 8,
    "start_time": "2024-04-27T14:02:51.185Z"
   },
   {
    "duration": 202,
    "start_time": "2024-04-27T14:02:51.194Z"
   },
   {
    "duration": 8,
    "start_time": "2024-04-27T14:02:51.397Z"
   },
   {
    "duration": 254,
    "start_time": "2024-04-27T14:02:51.407Z"
   },
   {
    "duration": 3,
    "start_time": "2024-04-27T14:02:51.663Z"
   },
   {
    "duration": 18,
    "start_time": "2024-04-27T14:02:51.667Z"
   },
   {
    "duration": 278,
    "start_time": "2024-04-27T14:02:51.686Z"
   },
   {
    "duration": 18,
    "start_time": "2024-04-27T14:02:51.965Z"
   },
   {
    "duration": 283166,
    "start_time": "2024-04-27T14:02:51.984Z"
   },
   {
    "duration": 22,
    "start_time": "2024-04-27T14:07:35.152Z"
   },
   {
    "duration": 44,
    "start_time": "2024-04-27T14:07:35.176Z"
   },
   {
    "duration": 170,
    "start_time": "2024-04-27T14:07:35.221Z"
   },
   {
    "duration": 116,
    "start_time": "2024-04-27T14:22:35.899Z"
   },
   {
    "duration": 119,
    "start_time": "2024-04-27T14:23:07.811Z"
   },
   {
    "duration": 133,
    "start_time": "2024-04-27T14:23:59.925Z"
   },
   {
    "duration": 160,
    "start_time": "2024-04-27T14:24:20.291Z"
   },
   {
    "duration": 139,
    "start_time": "2024-04-27T14:24:36.387Z"
   },
   {
    "duration": 450,
    "start_time": "2024-04-27T14:26:04.353Z"
   },
   {
    "duration": 2,
    "start_time": "2024-04-27T14:26:47.142Z"
   },
   {
    "duration": 1048,
    "start_time": "2024-04-27T14:28:05.366Z"
   },
   {
    "duration": 557,
    "start_time": "2024-04-27T14:29:44.216Z"
   },
   {
    "duration": 10,
    "start_time": "2024-04-27T14:30:31.356Z"
   },
   {
    "duration": 507,
    "start_time": "2024-04-27T14:30:50.543Z"
   },
   {
    "duration": 881,
    "start_time": "2024-04-27T14:30:55.625Z"
   },
   {
    "duration": 546,
    "start_time": "2024-04-27T14:31:20.919Z"
   },
   {
    "duration": 15,
    "start_time": "2024-04-27T14:34:01.874Z"
   },
   {
    "duration": 13,
    "start_time": "2024-04-27T14:34:13.972Z"
   },
   {
    "duration": 679,
    "start_time": "2024-04-27T14:34:34.836Z"
   },
   {
    "duration": 676,
    "start_time": "2024-04-27T14:34:46.271Z"
   },
   {
    "duration": 1035,
    "start_time": "2024-04-27T14:35:42.987Z"
   },
   {
    "duration": 909,
    "start_time": "2024-04-27T14:36:10.951Z"
   },
   {
    "duration": 3,
    "start_time": "2024-04-27T14:36:53.029Z"
   },
   {
    "duration": 131,
    "start_time": "2024-04-27T14:37:17.664Z"
   },
   {
    "duration": 1062,
    "start_time": "2024-04-27T14:37:36.079Z"
   },
   {
    "duration": 982,
    "start_time": "2024-04-27T14:45:37.298Z"
   },
   {
    "duration": 899,
    "start_time": "2024-04-27T14:47:43.343Z"
   },
   {
    "duration": 917,
    "start_time": "2024-04-27T14:48:16.624Z"
   },
   {
    "duration": 920,
    "start_time": "2024-04-27T14:48:31.279Z"
   },
   {
    "duration": 556,
    "start_time": "2024-04-28T07:37:29.865Z"
   },
   {
    "duration": 35,
    "start_time": "2024-04-28T07:37:30.423Z"
   },
   {
    "duration": 81,
    "start_time": "2024-04-28T07:37:30.459Z"
   },
   {
    "duration": 2443,
    "start_time": "2024-04-28T07:37:30.542Z"
   },
   {
    "duration": 4,
    "start_time": "2024-04-28T07:37:32.987Z"
   },
   {
    "duration": 31,
    "start_time": "2024-04-28T07:37:32.992Z"
   },
   {
    "duration": 22,
    "start_time": "2024-04-28T07:37:33.024Z"
   },
   {
    "duration": 12,
    "start_time": "2024-04-28T07:37:33.047Z"
   },
   {
    "duration": 17,
    "start_time": "2024-04-28T07:37:33.061Z"
   },
   {
    "duration": 39,
    "start_time": "2024-04-28T07:37:33.081Z"
   },
   {
    "duration": 29,
    "start_time": "2024-04-28T07:37:33.122Z"
   },
   {
    "duration": 32,
    "start_time": "2024-04-28T07:37:33.152Z"
   },
   {
    "duration": 22,
    "start_time": "2024-04-28T07:37:33.186Z"
   },
   {
    "duration": 22,
    "start_time": "2024-04-28T07:37:33.210Z"
   },
   {
    "duration": 26,
    "start_time": "2024-04-28T07:37:33.234Z"
   },
   {
    "duration": 15,
    "start_time": "2024-04-28T07:37:33.261Z"
   },
   {
    "duration": 15,
    "start_time": "2024-04-28T07:37:33.278Z"
   },
   {
    "duration": 13,
    "start_time": "2024-04-28T07:37:33.295Z"
   },
   {
    "duration": 29,
    "start_time": "2024-04-28T07:37:33.310Z"
   },
   {
    "duration": 5,
    "start_time": "2024-04-28T07:37:33.341Z"
   },
   {
    "duration": 11,
    "start_time": "2024-04-28T07:37:33.348Z"
   },
   {
    "duration": 5,
    "start_time": "2024-04-28T07:37:33.360Z"
   },
   {
    "duration": 18,
    "start_time": "2024-04-28T07:37:33.366Z"
   },
   {
    "duration": 12,
    "start_time": "2024-04-28T07:37:33.386Z"
   },
   {
    "duration": 5,
    "start_time": "2024-04-28T07:37:33.400Z"
   },
   {
    "duration": 13,
    "start_time": "2024-04-28T07:37:33.407Z"
   },
   {
    "duration": 16,
    "start_time": "2024-04-28T07:37:33.421Z"
   },
   {
    "duration": 4,
    "start_time": "2024-04-28T07:37:33.442Z"
   },
   {
    "duration": 13,
    "start_time": "2024-04-28T07:37:33.447Z"
   },
   {
    "duration": 22,
    "start_time": "2024-04-28T07:37:33.461Z"
   },
   {
    "duration": 249,
    "start_time": "2024-04-28T07:37:33.484Z"
   },
   {
    "duration": 15,
    "start_time": "2024-04-28T07:37:33.735Z"
   },
   {
    "duration": 6,
    "start_time": "2024-04-28T07:37:33.752Z"
   },
   {
    "duration": 31,
    "start_time": "2024-04-28T07:37:33.760Z"
   },
   {
    "duration": 26,
    "start_time": "2024-04-28T07:37:33.792Z"
   },
   {
    "duration": 7,
    "start_time": "2024-04-28T07:37:33.819Z"
   },
   {
    "duration": 8,
    "start_time": "2024-04-28T07:37:33.827Z"
   },
   {
    "duration": 7,
    "start_time": "2024-04-28T07:37:33.836Z"
   },
   {
    "duration": 3,
    "start_time": "2024-04-28T07:37:33.845Z"
   },
   {
    "duration": 373,
    "start_time": "2024-04-28T07:37:33.849Z"
   },
   {
    "duration": 9,
    "start_time": "2024-04-28T07:37:34.224Z"
   },
   {
    "duration": 10,
    "start_time": "2024-04-28T07:37:34.234Z"
   },
   {
    "duration": 206,
    "start_time": "2024-04-28T07:37:34.245Z"
   },
   {
    "duration": 217,
    "start_time": "2024-04-28T07:37:34.452Z"
   },
   {
    "duration": 282,
    "start_time": "2024-04-28T07:37:34.671Z"
   },
   {
    "duration": 12,
    "start_time": "2024-04-28T07:37:34.955Z"
   },
   {
    "duration": 10,
    "start_time": "2024-04-28T07:37:34.979Z"
   },
   {
    "duration": 215,
    "start_time": "2024-04-28T07:37:34.991Z"
   },
   {
    "duration": 8,
    "start_time": "2024-04-28T07:37:35.208Z"
   },
   {
    "duration": 21,
    "start_time": "2024-04-28T07:37:35.218Z"
   },
   {
    "duration": 21,
    "start_time": "2024-04-28T07:37:35.240Z"
   },
   {
    "duration": 9,
    "start_time": "2024-04-28T07:37:35.281Z"
   },
   {
    "duration": 11,
    "start_time": "2024-04-28T07:37:35.291Z"
   },
   {
    "duration": 224,
    "start_time": "2024-04-28T07:37:35.304Z"
   },
   {
    "duration": 223,
    "start_time": "2024-04-28T07:37:35.530Z"
   },
   {
    "duration": 11,
    "start_time": "2024-04-28T07:37:35.755Z"
   },
   {
    "duration": 36,
    "start_time": "2024-04-28T07:37:35.767Z"
   },
   {
    "duration": 267,
    "start_time": "2024-04-28T07:37:35.805Z"
   },
   {
    "duration": 10,
    "start_time": "2024-04-28T07:37:36.080Z"
   },
   {
    "duration": 28,
    "start_time": "2024-04-28T07:37:36.091Z"
   },
   {
    "duration": 149,
    "start_time": "2024-04-28T07:37:36.121Z"
   },
   {
    "duration": 14,
    "start_time": "2024-04-28T07:37:36.272Z"
   },
   {
    "duration": 12,
    "start_time": "2024-04-28T07:37:36.288Z"
   },
   {
    "duration": 225,
    "start_time": "2024-04-28T07:37:36.301Z"
   },
   {
    "duration": 11,
    "start_time": "2024-04-28T07:37:36.528Z"
   },
   {
    "duration": 277,
    "start_time": "2024-04-28T07:37:36.540Z"
   },
   {
    "duration": 9,
    "start_time": "2024-04-28T07:37:36.819Z"
   },
   {
    "duration": 241,
    "start_time": "2024-04-28T07:37:36.829Z"
   },
   {
    "duration": 17,
    "start_time": "2024-04-28T07:37:37.071Z"
   },
   {
    "duration": 238,
    "start_time": "2024-04-28T07:37:37.090Z"
   },
   {
    "duration": 9,
    "start_time": "2024-04-28T07:37:37.329Z"
   },
   {
    "duration": 250,
    "start_time": "2024-04-28T07:37:37.340Z"
   },
   {
    "duration": 5,
    "start_time": "2024-04-28T07:37:37.591Z"
   },
   {
    "duration": 10,
    "start_time": "2024-04-28T07:37:37.597Z"
   },
   {
    "duration": 313,
    "start_time": "2024-04-28T07:37:37.608Z"
   },
   {
    "duration": 20,
    "start_time": "2024-04-28T07:37:37.922Z"
   },
   {
    "duration": 143,
    "start_time": "2024-04-28T07:37:37.944Z"
   },
   {
    "duration": 157,
    "start_time": "2024-04-28T07:37:38.089Z"
   },
   {
    "duration": 280,
    "start_time": "2024-04-28T07:37:38.248Z"
   },
   {
    "duration": 175,
    "start_time": "2024-04-28T07:37:38.530Z"
   },
   {
    "duration": 531,
    "start_time": "2024-04-28T07:37:38.707Z"
   },
   {
    "duration": 810,
    "start_time": "2024-04-28T07:37:39.243Z"
   },
   {
    "duration": 37,
    "start_time": "2024-04-28T07:37:40.054Z"
   },
   {
    "duration": 30,
    "start_time": "2024-04-28T07:37:40.093Z"
   },
   {
    "duration": 213,
    "start_time": "2024-04-28T07:37:40.125Z"
   },
   {
    "duration": 48,
    "start_time": "2024-05-07T11:46:24.229Z"
   },
   {
    "duration": 672,
    "start_time": "2024-05-07T11:46:28.470Z"
   },
   {
    "duration": 33,
    "start_time": "2024-05-07T11:46:29.144Z"
   },
   {
    "duration": 15,
    "start_time": "2024-05-07T11:46:29.178Z"
   },
   {
    "duration": 2267,
    "start_time": "2024-05-07T11:46:29.195Z"
   },
   {
    "duration": 4,
    "start_time": "2024-05-07T11:46:31.465Z"
   },
   {
    "duration": 42,
    "start_time": "2024-05-07T11:46:31.470Z"
   },
   {
    "duration": 18,
    "start_time": "2024-05-07T11:46:31.514Z"
   },
   {
    "duration": 23,
    "start_time": "2024-05-07T11:46:31.534Z"
   },
   {
    "duration": 34,
    "start_time": "2024-05-07T11:46:31.559Z"
   },
   {
    "duration": 23,
    "start_time": "2024-05-07T11:46:31.595Z"
   },
   {
    "duration": 43,
    "start_time": "2024-05-07T11:46:31.620Z"
   },
   {
    "duration": 31,
    "start_time": "2024-05-07T11:46:31.665Z"
   },
   {
    "duration": 30,
    "start_time": "2024-05-07T11:46:31.698Z"
   },
   {
    "duration": 24,
    "start_time": "2024-05-07T11:46:31.732Z"
   },
   {
    "duration": 26,
    "start_time": "2024-05-07T11:46:31.759Z"
   },
   {
    "duration": 41,
    "start_time": "2024-05-07T11:46:31.787Z"
   },
   {
    "duration": 12,
    "start_time": "2024-05-07T11:46:31.830Z"
   },
   {
    "duration": 17,
    "start_time": "2024-05-07T11:46:31.844Z"
   },
   {
    "duration": 31,
    "start_time": "2024-05-07T11:46:31.863Z"
   },
   {
    "duration": 15,
    "start_time": "2024-05-07T11:46:31.896Z"
   },
   {
    "duration": 13,
    "start_time": "2024-05-07T11:46:31.913Z"
   },
   {
    "duration": 6,
    "start_time": "2024-05-07T11:46:31.928Z"
   },
   {
    "duration": 21,
    "start_time": "2024-05-07T11:46:31.935Z"
   },
   {
    "duration": 37,
    "start_time": "2024-05-07T11:46:31.957Z"
   },
   {
    "duration": 17,
    "start_time": "2024-05-07T11:46:31.996Z"
   },
   {
    "duration": 16,
    "start_time": "2024-05-07T11:46:32.015Z"
   },
   {
    "duration": 13,
    "start_time": "2024-05-07T11:46:32.032Z"
   },
   {
    "duration": 9,
    "start_time": "2024-05-07T11:46:32.049Z"
   },
   {
    "duration": 18,
    "start_time": "2024-05-07T11:46:32.060Z"
   },
   {
    "duration": 7,
    "start_time": "2024-05-07T11:46:32.079Z"
   },
   {
    "duration": 240,
    "start_time": "2024-05-07T11:46:32.087Z"
   },
   {
    "duration": 16,
    "start_time": "2024-05-07T11:46:32.329Z"
   },
   {
    "duration": 20,
    "start_time": "2024-05-07T11:46:32.346Z"
   },
   {
    "duration": 20,
    "start_time": "2024-05-07T11:46:32.368Z"
   },
   {
    "duration": 24,
    "start_time": "2024-05-07T11:46:32.390Z"
   },
   {
    "duration": 8,
    "start_time": "2024-05-07T11:46:32.417Z"
   },
   {
    "duration": 8,
    "start_time": "2024-05-07T11:46:32.426Z"
   },
   {
    "duration": 8,
    "start_time": "2024-05-07T11:46:32.460Z"
   },
   {
    "duration": 2,
    "start_time": "2024-05-07T11:46:32.470Z"
   },
   {
    "duration": 349,
    "start_time": "2024-05-07T11:46:32.474Z"
   },
   {
    "duration": 6,
    "start_time": "2024-05-07T11:46:32.825Z"
   },
   {
    "duration": 14,
    "start_time": "2024-05-07T11:46:32.833Z"
   },
   {
    "duration": 208,
    "start_time": "2024-05-07T11:46:32.849Z"
   },
   {
    "duration": 210,
    "start_time": "2024-05-07T11:46:33.060Z"
   },
   {
    "duration": 292,
    "start_time": "2024-05-07T11:46:33.273Z"
   },
   {
    "duration": 11,
    "start_time": "2024-05-07T11:46:33.566Z"
   },
   {
    "duration": 22,
    "start_time": "2024-05-07T11:46:33.579Z"
   },
   {
    "duration": 210,
    "start_time": "2024-05-07T11:46:33.603Z"
   },
   {
    "duration": 9,
    "start_time": "2024-05-07T11:46:33.814Z"
   },
   {
    "duration": 77,
    "start_time": "2024-05-07T11:46:33.825Z"
   },
   {
    "duration": 43,
    "start_time": "2024-05-07T11:46:33.904Z"
   },
   {
    "duration": 37,
    "start_time": "2024-05-07T11:46:33.949Z"
   },
   {
    "duration": 16,
    "start_time": "2024-05-07T11:46:33.988Z"
   },
   {
    "duration": 228,
    "start_time": "2024-05-07T11:46:34.005Z"
   },
   {
    "duration": 231,
    "start_time": "2024-05-07T11:46:34.235Z"
   },
   {
    "duration": 12,
    "start_time": "2024-05-07T11:46:34.469Z"
   },
   {
    "duration": 10,
    "start_time": "2024-05-07T11:46:34.483Z"
   },
   {
    "duration": 298,
    "start_time": "2024-05-07T11:46:34.495Z"
   },
   {
    "duration": 12,
    "start_time": "2024-05-07T11:46:34.795Z"
   },
   {
    "duration": 16,
    "start_time": "2024-05-07T11:46:34.809Z"
   },
   {
    "duration": 183,
    "start_time": "2024-05-07T11:46:34.826Z"
   },
   {
    "duration": 15,
    "start_time": "2024-05-07T11:46:35.011Z"
   },
   {
    "duration": 10,
    "start_time": "2024-05-07T11:46:35.028Z"
   },
   {
    "duration": 234,
    "start_time": "2024-05-07T11:46:35.039Z"
   },
   {
    "duration": 11,
    "start_time": "2024-05-07T11:46:35.274Z"
   },
   {
    "duration": 281,
    "start_time": "2024-05-07T11:46:35.287Z"
   },
   {
    "duration": 9,
    "start_time": "2024-05-07T11:46:35.569Z"
   },
   {
    "duration": 256,
    "start_time": "2024-05-07T11:46:35.579Z"
   },
   {
    "duration": 10,
    "start_time": "2024-05-07T11:46:35.836Z"
   },
   {
    "duration": 263,
    "start_time": "2024-05-07T11:46:35.847Z"
   },
   {
    "duration": 10,
    "start_time": "2024-05-07T11:46:36.112Z"
   },
   {
    "duration": 246,
    "start_time": "2024-05-07T11:46:36.124Z"
   },
   {
    "duration": 5,
    "start_time": "2024-05-07T11:46:36.372Z"
   },
   {
    "duration": 35,
    "start_time": "2024-05-07T11:46:36.378Z"
   },
   {
    "duration": 347,
    "start_time": "2024-05-07T11:46:36.414Z"
   },
   {
    "duration": 819,
    "start_time": "2024-05-07T11:46:36.762Z"
   },
   {
    "duration": 0,
    "start_time": "2024-05-07T11:46:37.583Z"
   },
   {
    "duration": 0,
    "start_time": "2024-05-07T11:46:37.584Z"
   },
   {
    "duration": 0,
    "start_time": "2024-05-07T11:46:37.585Z"
   },
   {
    "duration": 0,
    "start_time": "2024-05-07T11:46:37.586Z"
   },
   {
    "duration": 0,
    "start_time": "2024-05-07T11:46:37.587Z"
   },
   {
    "duration": 0,
    "start_time": "2024-05-07T11:46:37.588Z"
   },
   {
    "duration": 0,
    "start_time": "2024-05-07T11:46:37.589Z"
   },
   {
    "duration": 0,
    "start_time": "2024-05-07T11:46:37.590Z"
   },
   {
    "duration": 0,
    "start_time": "2024-05-07T11:46:37.591Z"
   },
   {
    "duration": 20,
    "start_time": "2024-05-07T11:46:53.867Z"
   }
  ],
  "colab": {
   "provenance": []
  },
  "kernelspec": {
   "display_name": "Python 3 (ipykernel)",
   "language": "python",
   "name": "python3"
  },
  "language_info": {
   "codemirror_mode": {
    "name": "ipython",
    "version": 3
   },
   "file_extension": ".py",
   "mimetype": "text/x-python",
   "name": "python",
   "nbconvert_exporter": "python",
   "pygments_lexer": "ipython3",
   "version": "3.9.5"
  },
  "toc": {
   "base_numbering": 1,
   "nav_menu": {},
   "number_sections": true,
   "sideBar": true,
   "skip_h1_title": true,
   "title_cell": "Table of Contents",
   "title_sidebar": "Contents",
   "toc_cell": false,
   "toc_position": {},
   "toc_section_display": true,
   "toc_window_display": false
  }
 },
 "nbformat": 4,
 "nbformat_minor": 1
}
