{
 "cells": [
  {
   "cell_type": "markdown",
   "metadata": {
    "id": "sIfNaMOxgFyK"
   },
   "source": [
    "## Исследование данных о российском кинопрокате\n",
    "\n"
   ]
  },
  {
   "cell_type": "markdown",
   "metadata": {},
   "source": [
    "**Анализ российского кинопроката** <br>\n",
    "Будет исследован набор данных, содержащий информацию о прокатных удостоверениях, сборах и государственной поддержке фильмов, а также информацию с сайта КиноПоиск. <br>\n",
    "**Цель проекта**: изучить рынок российского кинопроката и выявить текущие тренды.<br><br>\n",
    "/datasets/mkrf_movies.csv — данные о прокатных удостоверениях. <br>\n",
    "\n",
    "/datasets/mkrf_shows.csv — данные о прокате в российских кинотеатрах. <br> <br>\n",
    "**План исследования:**<br>\n",
    "1) Проверить набор данных на целостность и корректность. Обработать пропуски, аномалии и другие ошибки в данных<br>\n",
    "2) Найти общие тренды и закономерности в данных<br>\n",
    "3) Исследовать фильмы с гос поддержкой<br>\n",
    "4) Написать общий вывод о проделанной работе<br>"
   ]
  },
  {
   "cell_type": "markdown",
   "metadata": {
    "id": "3bSlkCsbgFyL"
   },
   "source": [
    "### Шаг 1. Откройте файлы с данными и объедините их в один датафрейм. \n",
    "\n",
    "Объедините данные таким образом, чтобы все объекты из датасета `mkrf_movies` обязательно вошли в получившийся датафрейм. \n",
    "\n",
    "<div id=\"accordion\">\n",
    "    <div class=\"card\">\n",
    "        <div class=\"card-header\" id=\"headingThree\">\n",
    "            <button class=\"btn btn-link collapsed\" data-toggle=\"collapse\" data-target=\"#collapseHint_0\" aria-expanded=\"false\" aria-controls=\"collapseHint_0\">Подсказка</button>\n",
    "        </div>\n",
    "        <div id=\"collapseHint_0\" class=\"collapse\" aria-labelledby=\"headingThree\" data-parent=\"#accordion\">\n",
    "            <div class=\"card-body\">\n",
    "Обратите внимание на тип данных столбца, по которому будете соединять датафреймы. Тип данных этих столбцов должен быть одинаковым в обоих датафреймах.\n",
    "            </div>\n",
    "        </div>\n",
    "    </div>\n",
    "</div>"
   ]
  },
  {
   "cell_type": "code",
   "execution_count": 1,
   "metadata": {
    "id": "dw87FlzMgFyM"
   },
   "outputs": [],
   "source": [
    "import pandas as pd\n",
    "import matplotlib.pyplot as plt"
   ]
  },
  {
   "cell_type": "code",
   "execution_count": 2,
   "metadata": {},
   "outputs": [],
   "source": [
    "pd.options.display.float_format = '{:,.2f}'.format\n",
    "pd.options.display.max_rows = 7000"
   ]
  },
  {
   "cell_type": "code",
   "execution_count": 3,
   "metadata": {},
   "outputs": [],
   "source": [
    "df = pd.read_csv('/datasets/mkrf_movies.csv')\n",
    "mkrf_shows = pd.read_csv('/datasets/mkrf_shows.csv')"
   ]
  },
  {
   "cell_type": "code",
   "execution_count": 4,
   "metadata": {},
   "outputs": [
    {
     "data": {
      "text/plain": [
       "7486"
      ]
     },
     "execution_count": 4,
     "metadata": {},
     "output_type": "execute_result"
    }
   ],
   "source": [
    "df_size_start = df.shape[0] # сохраняю размер датасета, чтобы потом посчитать, сколько останется от изначального размера\n",
    "df_size_start"
   ]
  },
  {
   "cell_type": "code",
   "execution_count": 5,
   "metadata": {},
   "outputs": [
    {
     "name": "stdout",
     "output_type": "stream",
     "text": [
      "<class 'pandas.core.frame.DataFrame'>\n",
      "RangeIndex: 7486 entries, 0 to 7485\n",
      "Data columns (total 15 columns):\n",
      " #   Column                 Non-Null Count  Dtype  \n",
      "---  ------                 --------------  -----  \n",
      " 0   title                  7486 non-null   object \n",
      " 1   puNumber               7486 non-null   object \n",
      " 2   show_start_date        7486 non-null   object \n",
      " 3   type                   7486 non-null   object \n",
      " 4   film_studio            7468 non-null   object \n",
      " 5   production_country     7484 non-null   object \n",
      " 6   director               7477 non-null   object \n",
      " 7   producer               6918 non-null   object \n",
      " 8   age_restriction        7486 non-null   object \n",
      " 9   refundable_support     332 non-null    float64\n",
      " 10  nonrefundable_support  332 non-null    float64\n",
      " 11  budget                 332 non-null    float64\n",
      " 12  financing_source       332 non-null    object \n",
      " 13  ratings                6519 non-null   object \n",
      " 14  genres                 6510 non-null   object \n",
      "dtypes: float64(3), object(12)\n",
      "memory usage: 877.4+ KB\n"
     ]
    }
   ],
   "source": [
    "df.info()"
   ]
  },
  {
   "cell_type": "code",
   "execution_count": 6,
   "metadata": {},
   "outputs": [
    {
     "data": {
      "text/html": [
       "<div>\n",
       "<style scoped>\n",
       "    .dataframe tbody tr th:only-of-type {\n",
       "        vertical-align: middle;\n",
       "    }\n",
       "\n",
       "    .dataframe tbody tr th {\n",
       "        vertical-align: top;\n",
       "    }\n",
       "\n",
       "    .dataframe thead th {\n",
       "        text-align: right;\n",
       "    }\n",
       "</style>\n",
       "<table border=\"1\" class=\"dataframe\">\n",
       "  <thead>\n",
       "    <tr style=\"text-align: right;\">\n",
       "      <th></th>\n",
       "      <th>title</th>\n",
       "      <th>puNumber</th>\n",
       "      <th>show_start_date</th>\n",
       "      <th>type</th>\n",
       "      <th>film_studio</th>\n",
       "      <th>production_country</th>\n",
       "      <th>director</th>\n",
       "      <th>producer</th>\n",
       "      <th>age_restriction</th>\n",
       "      <th>refundable_support</th>\n",
       "      <th>nonrefundable_support</th>\n",
       "      <th>budget</th>\n",
       "      <th>financing_source</th>\n",
       "      <th>ratings</th>\n",
       "      <th>genres</th>\n",
       "    </tr>\n",
       "  </thead>\n",
       "  <tbody>\n",
       "    <tr>\n",
       "      <th>0</th>\n",
       "      <td>Открытый простор</td>\n",
       "      <td>221048915</td>\n",
       "      <td>2015-11-27T12:00:00.000Z</td>\n",
       "      <td>Художественный</td>\n",
       "      <td>Тачстоун Пикчерз, Кобальт Пикчерз, Бикон Пикче...</td>\n",
       "      <td>США</td>\n",
       "      <td>Кевин Костнер</td>\n",
       "      <td>Дэвид Валдес, Кевин Костнер, Джейк Эбертс</td>\n",
       "      <td>«18+» - запрещено для детей</td>\n",
       "      <td>NaN</td>\n",
       "      <td>NaN</td>\n",
       "      <td>NaN</td>\n",
       "      <td>NaN</td>\n",
       "      <td>7.2</td>\n",
       "      <td>боевик,драма,мелодрама</td>\n",
       "    </tr>\n",
       "    <tr>\n",
       "      <th>1</th>\n",
       "      <td>Особо важное задание</td>\n",
       "      <td>111013716</td>\n",
       "      <td>2016-09-13T12:00:00.000Z</td>\n",
       "      <td>Художественный</td>\n",
       "      <td>Киностудия \"Мосфильм\"</td>\n",
       "      <td>СССР</td>\n",
       "      <td>Е.Матвеев</td>\n",
       "      <td>NaN</td>\n",
       "      <td>«6+» - для детей старше 6 лет</td>\n",
       "      <td>NaN</td>\n",
       "      <td>NaN</td>\n",
       "      <td>NaN</td>\n",
       "      <td>NaN</td>\n",
       "      <td>6.6</td>\n",
       "      <td>драма,военный</td>\n",
       "    </tr>\n",
       "    <tr>\n",
       "      <th>2</th>\n",
       "      <td>Особо опасен</td>\n",
       "      <td>221038416</td>\n",
       "      <td>2016-10-10T12:00:00.000Z</td>\n",
       "      <td>Художественный</td>\n",
       "      <td>Юниверсал Пикчерз, Кикстарт Продакшнз, Марк Пл...</td>\n",
       "      <td>США</td>\n",
       "      <td>Тимур Бекмамбетов</td>\n",
       "      <td>Джим Лемли, Джейсон Нетер, Марк Е.Платт, Яйн Смит</td>\n",
       "      <td>«18+» - запрещено для детей</td>\n",
       "      <td>NaN</td>\n",
       "      <td>NaN</td>\n",
       "      <td>NaN</td>\n",
       "      <td>NaN</td>\n",
       "      <td>6.8</td>\n",
       "      <td>фантастика,боевик,триллер</td>\n",
       "    </tr>\n",
       "    <tr>\n",
       "      <th>3</th>\n",
       "      <td>Особо опасен</td>\n",
       "      <td>221026916</td>\n",
       "      <td>2016-06-10T12:00:00.000Z</td>\n",
       "      <td>Художественный</td>\n",
       "      <td>Юниверсал Пикчерз, Кикстарт Продакшнз, Марк Пл...</td>\n",
       "      <td>США</td>\n",
       "      <td>Тимур Бекмамбетов</td>\n",
       "      <td>Джим Лемли, Джейсон Нетер, Марк Е.Платт, Яйн Смит</td>\n",
       "      <td>«18+» - запрещено для детей</td>\n",
       "      <td>NaN</td>\n",
       "      <td>NaN</td>\n",
       "      <td>NaN</td>\n",
       "      <td>NaN</td>\n",
       "      <td>6.8</td>\n",
       "      <td>фантастика,боевик,триллер</td>\n",
       "    </tr>\n",
       "    <tr>\n",
       "      <th>4</th>\n",
       "      <td>Особо опасен</td>\n",
       "      <td>221030815</td>\n",
       "      <td>2015-07-29T12:00:00.000Z</td>\n",
       "      <td>Художественный</td>\n",
       "      <td>Юниверсал Пикчерз, Кикстарт Продакшнз, Марк Пл...</td>\n",
       "      <td>США</td>\n",
       "      <td>Тимур Бекмамбетов</td>\n",
       "      <td>Джим Лемли, Джейсон Нетер, Марк Е.Платт, Яйн Смит</td>\n",
       "      <td>«18+» - запрещено для детей</td>\n",
       "      <td>NaN</td>\n",
       "      <td>NaN</td>\n",
       "      <td>NaN</td>\n",
       "      <td>NaN</td>\n",
       "      <td>6.8</td>\n",
       "      <td>фантастика,боевик,триллер</td>\n",
       "    </tr>\n",
       "  </tbody>\n",
       "</table>\n",
       "</div>"
      ],
      "text/plain": [
       "                  title   puNumber           show_start_date            type  \\\n",
       "0      Открытый простор  221048915  2015-11-27T12:00:00.000Z  Художественный   \n",
       "1  Особо важное задание  111013716  2016-09-13T12:00:00.000Z  Художественный   \n",
       "2          Особо опасен  221038416  2016-10-10T12:00:00.000Z  Художественный   \n",
       "3          Особо опасен  221026916  2016-06-10T12:00:00.000Z  Художественный   \n",
       "4          Особо опасен  221030815  2015-07-29T12:00:00.000Z  Художественный   \n",
       "\n",
       "                                         film_studio production_country  \\\n",
       "0  Тачстоун Пикчерз, Кобальт Пикчерз, Бикон Пикче...                США   \n",
       "1                              Киностудия \"Мосфильм\"               СССР   \n",
       "2  Юниверсал Пикчерз, Кикстарт Продакшнз, Марк Пл...                США   \n",
       "3  Юниверсал Пикчерз, Кикстарт Продакшнз, Марк Пл...                США   \n",
       "4  Юниверсал Пикчерз, Кикстарт Продакшнз, Марк Пл...                США   \n",
       "\n",
       "            director                                           producer  \\\n",
       "0      Кевин Костнер          Дэвид Валдес, Кевин Костнер, Джейк Эбертс   \n",
       "1          Е.Матвеев                                                NaN   \n",
       "2  Тимур Бекмамбетов  Джим Лемли, Джейсон Нетер, Марк Е.Платт, Яйн Смит   \n",
       "3  Тимур Бекмамбетов  Джим Лемли, Джейсон Нетер, Марк Е.Платт, Яйн Смит   \n",
       "4  Тимур Бекмамбетов  Джим Лемли, Джейсон Нетер, Марк Е.Платт, Яйн Смит   \n",
       "\n",
       "                 age_restriction  refundable_support  nonrefundable_support  \\\n",
       "0    «18+» - запрещено для детей                 NaN                    NaN   \n",
       "1  «6+» - для детей старше 6 лет                 NaN                    NaN   \n",
       "2    «18+» - запрещено для детей                 NaN                    NaN   \n",
       "3    «18+» - запрещено для детей                 NaN                    NaN   \n",
       "4    «18+» - запрещено для детей                 NaN                    NaN   \n",
       "\n",
       "   budget financing_source ratings                     genres  \n",
       "0     NaN              NaN     7.2     боевик,драма,мелодрама  \n",
       "1     NaN              NaN     6.6              драма,военный  \n",
       "2     NaN              NaN     6.8  фантастика,боевик,триллер  \n",
       "3     NaN              NaN     6.8  фантастика,боевик,триллер  \n",
       "4     NaN              NaN     6.8  фантастика,боевик,триллер  "
      ]
     },
     "execution_count": 6,
     "metadata": {},
     "output_type": "execute_result"
    }
   ],
   "source": [
    "df.head()"
   ]
  },
  {
   "cell_type": "code",
   "execution_count": 7,
   "metadata": {},
   "outputs": [
    {
     "name": "stdout",
     "output_type": "stream",
     "text": [
      "<class 'pandas.core.frame.DataFrame'>\n",
      "RangeIndex: 3158 entries, 0 to 3157\n",
      "Data columns (total 2 columns):\n",
      " #   Column      Non-Null Count  Dtype  \n",
      "---  ------      --------------  -----  \n",
      " 0   puNumber    3158 non-null   int64  \n",
      " 1   box_office  3158 non-null   float64\n",
      "dtypes: float64(1), int64(1)\n",
      "memory usage: 49.5 KB\n"
     ]
    }
   ],
   "source": [
    "mkrf_shows.info()"
   ]
  },
  {
   "cell_type": "code",
   "execution_count": 8,
   "metadata": {},
   "outputs": [
    {
     "data": {
      "text/html": [
       "<div>\n",
       "<style scoped>\n",
       "    .dataframe tbody tr th:only-of-type {\n",
       "        vertical-align: middle;\n",
       "    }\n",
       "\n",
       "    .dataframe tbody tr th {\n",
       "        vertical-align: top;\n",
       "    }\n",
       "\n",
       "    .dataframe thead th {\n",
       "        text-align: right;\n",
       "    }\n",
       "</style>\n",
       "<table border=\"1\" class=\"dataframe\">\n",
       "  <thead>\n",
       "    <tr style=\"text-align: right;\">\n",
       "      <th></th>\n",
       "      <th>puNumber</th>\n",
       "      <th>box_office</th>\n",
       "    </tr>\n",
       "  </thead>\n",
       "  <tbody>\n",
       "    <tr>\n",
       "      <th>0</th>\n",
       "      <td>111000113</td>\n",
       "      <td>2,450.00</td>\n",
       "    </tr>\n",
       "    <tr>\n",
       "      <th>1</th>\n",
       "      <td>111000115</td>\n",
       "      <td>61,040.00</td>\n",
       "    </tr>\n",
       "    <tr>\n",
       "      <th>2</th>\n",
       "      <td>111000116</td>\n",
       "      <td>153,030,013.40</td>\n",
       "    </tr>\n",
       "    <tr>\n",
       "      <th>3</th>\n",
       "      <td>111000117</td>\n",
       "      <td>12,260,956.00</td>\n",
       "    </tr>\n",
       "    <tr>\n",
       "      <th>4</th>\n",
       "      <td>111000118</td>\n",
       "      <td>163,684,057.79</td>\n",
       "    </tr>\n",
       "  </tbody>\n",
       "</table>\n",
       "</div>"
      ],
      "text/plain": [
       "    puNumber     box_office\n",
       "0  111000113       2,450.00\n",
       "1  111000115      61,040.00\n",
       "2  111000116 153,030,013.40\n",
       "3  111000117  12,260,956.00\n",
       "4  111000118 163,684,057.79"
      ]
     },
     "execution_count": 8,
     "metadata": {},
     "output_type": "execute_result"
    }
   ],
   "source": [
    "mkrf_shows.head()"
   ]
  },
  {
   "cell_type": "markdown",
   "metadata": {},
   "source": [
    "Объединять таблицы нужно по столбцу puNumber, но в таблицах он разного типа. Сначала нужно привести к одному типу. Сразу это сделать не получилось, т.к. в данном столбце таблицы есть нечисловые значения, сперва найду их."
   ]
  },
  {
   "cell_type": "code",
   "execution_count": 9,
   "metadata": {},
   "outputs": [
    {
     "data": {
      "text/html": [
       "<div>\n",
       "<style scoped>\n",
       "    .dataframe tbody tr th:only-of-type {\n",
       "        vertical-align: middle;\n",
       "    }\n",
       "\n",
       "    .dataframe tbody tr th {\n",
       "        vertical-align: top;\n",
       "    }\n",
       "\n",
       "    .dataframe thead th {\n",
       "        text-align: right;\n",
       "    }\n",
       "</style>\n",
       "<table border=\"1\" class=\"dataframe\">\n",
       "  <thead>\n",
       "    <tr style=\"text-align: right;\">\n",
       "      <th></th>\n",
       "      <th>title</th>\n",
       "      <th>puNumber</th>\n",
       "      <th>show_start_date</th>\n",
       "      <th>type</th>\n",
       "      <th>film_studio</th>\n",
       "      <th>production_country</th>\n",
       "      <th>director</th>\n",
       "      <th>producer</th>\n",
       "      <th>age_restriction</th>\n",
       "      <th>refundable_support</th>\n",
       "      <th>nonrefundable_support</th>\n",
       "      <th>budget</th>\n",
       "      <th>financing_source</th>\n",
       "      <th>ratings</th>\n",
       "      <th>genres</th>\n",
       "    </tr>\n",
       "  </thead>\n",
       "  <tbody>\n",
       "    <tr>\n",
       "      <th>1797</th>\n",
       "      <td>Курбан-роман. (История с жертвой)</td>\n",
       "      <td>нет</td>\n",
       "      <td>2014-05-15T12:00:00.000Z</td>\n",
       "      <td>Художественный</td>\n",
       "      <td>ФОНД \"ИННОВАЦИЯ\"</td>\n",
       "      <td>Россия</td>\n",
       "      <td>С.Юзеев</td>\n",
       "      <td>М.Галицкая</td>\n",
       "      <td>«12+» - для детей старше 12 лет</td>\n",
       "      <td>NaN</td>\n",
       "      <td>NaN</td>\n",
       "      <td>NaN</td>\n",
       "      <td>NaN</td>\n",
       "      <td>NaN</td>\n",
       "      <td>NaN</td>\n",
       "    </tr>\n",
       "  </tbody>\n",
       "</table>\n",
       "</div>"
      ],
      "text/plain": [
       "                                  title puNumber           show_start_date  \\\n",
       "1797  Курбан-роман. (История с жертвой)      нет  2014-05-15T12:00:00.000Z   \n",
       "\n",
       "                type       film_studio production_country director  \\\n",
       "1797  Художественный  ФОНД \"ИННОВАЦИЯ\"             Россия  С.Юзеев   \n",
       "\n",
       "        producer                  age_restriction  refundable_support  \\\n",
       "1797  М.Галицкая  «12+» - для детей старше 12 лет                 NaN   \n",
       "\n",
       "      nonrefundable_support  budget financing_source ratings genres  \n",
       "1797                    NaN     NaN              NaN     NaN    NaN  "
      ]
     },
     "execution_count": 9,
     "metadata": {},
     "output_type": "execute_result"
    }
   ],
   "source": [
    "df[~df.puNumber.str.contains(r'[0-9]')] # решение взял на stackoverflow, сначала обращаюсь к столбцу таблицы,\n",
    "                                        # используя его имя как атрибут, а затем через регулярное выражение ищу значения, \n",
    "                                        # содержащие только цифры.\n",
    "                                        # т.к. на все выражение стоит отрицание, получаю только не цифры"
   ]
  },
  {
   "cell_type": "markdown",
   "metadata": {},
   "source": [
    "Такая строчка всего одна, удалю ее"
   ]
  },
  {
   "cell_type": "code",
   "execution_count": 10,
   "metadata": {},
   "outputs": [
    {
     "data": {
      "text/html": [
       "<div>\n",
       "<style scoped>\n",
       "    .dataframe tbody tr th:only-of-type {\n",
       "        vertical-align: middle;\n",
       "    }\n",
       "\n",
       "    .dataframe tbody tr th {\n",
       "        vertical-align: top;\n",
       "    }\n",
       "\n",
       "    .dataframe thead th {\n",
       "        text-align: right;\n",
       "    }\n",
       "</style>\n",
       "<table border=\"1\" class=\"dataframe\">\n",
       "  <thead>\n",
       "    <tr style=\"text-align: right;\">\n",
       "      <th></th>\n",
       "      <th>title</th>\n",
       "      <th>puNumber</th>\n",
       "      <th>show_start_date</th>\n",
       "      <th>type</th>\n",
       "      <th>film_studio</th>\n",
       "      <th>production_country</th>\n",
       "      <th>director</th>\n",
       "      <th>producer</th>\n",
       "      <th>age_restriction</th>\n",
       "      <th>refundable_support</th>\n",
       "      <th>nonrefundable_support</th>\n",
       "      <th>budget</th>\n",
       "      <th>financing_source</th>\n",
       "      <th>ratings</th>\n",
       "      <th>genres</th>\n",
       "    </tr>\n",
       "  </thead>\n",
       "  <tbody>\n",
       "    <tr>\n",
       "      <th>1795</th>\n",
       "      <td>Гаэтано Доницетти. Лукреция Борджиа /По мотива...</td>\n",
       "      <td>126001614</td>\n",
       "      <td>2014-05-05T12:00:00.000Z</td>\n",
       "      <td>Прочие</td>\n",
       "      <td>Ризинг Альтернатин</td>\n",
       "      <td>Италия</td>\n",
       "      <td>Джон Паско</td>\n",
       "      <td>Джессика Коплос, Мэттью Шилвок</td>\n",
       "      <td>«0+» - для любой зрительской аудитории</td>\n",
       "      <td>NaN</td>\n",
       "      <td>NaN</td>\n",
       "      <td>NaN</td>\n",
       "      <td>NaN</td>\n",
       "      <td>NaN</td>\n",
       "      <td>NaN</td>\n",
       "    </tr>\n",
       "    <tr>\n",
       "      <th>1796</th>\n",
       "      <td>Букашки. Приключение в Долине Муравьев</td>\n",
       "      <td>124001414</td>\n",
       "      <td>2014-04-29T12:00:00.000Z</td>\n",
       "      <td>Анимационный</td>\n",
       "      <td>Антре Шьен э Лу, Футурикон, Нозон</td>\n",
       "      <td>Франция</td>\n",
       "      <td>Хелен Жиро, Томас Забо</td>\n",
       "      <td>Филипп Делару, Себастьен Деллуа</td>\n",
       "      <td>«0+» - для любой зрительской аудитории</td>\n",
       "      <td>NaN</td>\n",
       "      <td>NaN</td>\n",
       "      <td>NaN</td>\n",
       "      <td>NaN</td>\n",
       "      <td>7.1</td>\n",
       "      <td>мультфильм,приключения,семейный</td>\n",
       "    </tr>\n",
       "    <tr>\n",
       "      <th>1797</th>\n",
       "      <td>12 месяцев</td>\n",
       "      <td>111003613</td>\n",
       "      <td>2013-08-23T12:00:00.000Z</td>\n",
       "      <td>Художественный</td>\n",
       "      <td>ООО Производственная компания \"ГофроПак\", ООО ...</td>\n",
       "      <td>Россия</td>\n",
       "      <td>А.Баршак</td>\n",
       "      <td>М.Боев, Л.Могилевский, А.Калинкин, В.Пономаренко</td>\n",
       "      <td>«12+» - для детей старше 12 лет</td>\n",
       "      <td>NaN</td>\n",
       "      <td>NaN</td>\n",
       "      <td>NaN</td>\n",
       "      <td>NaN</td>\n",
       "      <td>4.9</td>\n",
       "      <td>комедия</td>\n",
       "    </tr>\n",
       "    <tr>\n",
       "      <th>1798</th>\n",
       "      <td>ИУДА</td>\n",
       "      <td>111004013</td>\n",
       "      <td>2013-09-09T12:00:00.000Z</td>\n",
       "      <td>Художественный</td>\n",
       "      <td>ООО \"АБС\"</td>\n",
       "      <td>Россия</td>\n",
       "      <td>А.Богатырев</td>\n",
       "      <td>Е.Белова</td>\n",
       "      <td>«12+» - для детей старше 12 лет</td>\n",
       "      <td>NaN</td>\n",
       "      <td>NaN</td>\n",
       "      <td>NaN</td>\n",
       "      <td>NaN</td>\n",
       "      <td>6.3</td>\n",
       "      <td>биография,драма,история</td>\n",
       "    </tr>\n",
       "    <tr>\n",
       "      <th>1799</th>\n",
       "      <td>Опасная иллюзия</td>\n",
       "      <td>121000414</td>\n",
       "      <td>2014-01-17T12:00:00.000Z</td>\n",
       "      <td>Художественный</td>\n",
       "      <td>МедиаПро Пикчерз, Бона Файд Продакшнз</td>\n",
       "      <td>Румыния-США</td>\n",
       "      <td>Фредерик Бонд</td>\n",
       "      <td>Альберт Бергер, Крэйг Дж. Флорес, Уильям Хорберг</td>\n",
       "      <td>«18+» - запрещено для детей</td>\n",
       "      <td>NaN</td>\n",
       "      <td>NaN</td>\n",
       "      <td>NaN</td>\n",
       "      <td>NaN</td>\n",
       "      <td>6.6</td>\n",
       "      <td>триллер,криминал,боевик</td>\n",
       "    </tr>\n",
       "  </tbody>\n",
       "</table>\n",
       "</div>"
      ],
      "text/plain": [
       "                                                  title   puNumber  \\\n",
       "1795  Гаэтано Доницетти. Лукреция Борджиа /По мотива...  126001614   \n",
       "1796             Букашки. Приключение в Долине Муравьев  124001414   \n",
       "1797                                         12 месяцев  111003613   \n",
       "1798                                               ИУДА  111004013   \n",
       "1799                                    Опасная иллюзия  121000414   \n",
       "\n",
       "               show_start_date            type  \\\n",
       "1795  2014-05-05T12:00:00.000Z          Прочие   \n",
       "1796  2014-04-29T12:00:00.000Z    Анимационный   \n",
       "1797  2013-08-23T12:00:00.000Z  Художественный   \n",
       "1798  2013-09-09T12:00:00.000Z  Художественный   \n",
       "1799  2014-01-17T12:00:00.000Z  Художественный   \n",
       "\n",
       "                                            film_studio production_country  \\\n",
       "1795                                 Ризинг Альтернатин             Италия   \n",
       "1796                  Антре Шьен э Лу, Футурикон, Нозон           Франция    \n",
       "1797  ООО Производственная компания \"ГофроПак\", ООО ...             Россия   \n",
       "1798                                          ООО \"АБС\"             Россия   \n",
       "1799              МедиаПро Пикчерз, Бона Файд Продакшнз        Румыния-США   \n",
       "\n",
       "                    director  \\\n",
       "1795              Джон Паско   \n",
       "1796  Хелен Жиро, Томас Забо   \n",
       "1797                А.Баршак   \n",
       "1798             А.Богатырев   \n",
       "1799           Фредерик Бонд   \n",
       "\n",
       "                                              producer  \\\n",
       "1795                    Джессика Коплос, Мэттью Шилвок   \n",
       "1796                  Филипп Делару, Себастьен Деллуа    \n",
       "1797  М.Боев, Л.Могилевский, А.Калинкин, В.Пономаренко   \n",
       "1798                                          Е.Белова   \n",
       "1799  Альберт Бергер, Крэйг Дж. Флорес, Уильям Хорберг   \n",
       "\n",
       "                             age_restriction  refundable_support  \\\n",
       "1795  «0+» - для любой зрительской аудитории                 NaN   \n",
       "1796  «0+» - для любой зрительской аудитории                 NaN   \n",
       "1797         «12+» - для детей старше 12 лет                 NaN   \n",
       "1798         «12+» - для детей старше 12 лет                 NaN   \n",
       "1799             «18+» - запрещено для детей                 NaN   \n",
       "\n",
       "      nonrefundable_support  budget financing_source ratings  \\\n",
       "1795                    NaN     NaN              NaN     NaN   \n",
       "1796                    NaN     NaN              NaN     7.1   \n",
       "1797                    NaN     NaN              NaN     4.9   \n",
       "1798                    NaN     NaN              NaN     6.3   \n",
       "1799                    NaN     NaN              NaN     6.6   \n",
       "\n",
       "                               genres  \n",
       "1795                              NaN  \n",
       "1796  мультфильм,приключения,семейный  \n",
       "1797                          комедия  \n",
       "1798          биография,драма,история  \n",
       "1799          триллер,криминал,боевик  "
      ]
     },
     "execution_count": 10,
     "metadata": {},
     "output_type": "execute_result"
    }
   ],
   "source": [
    "df = df.loc[df['puNumber'] != 'нет'].reset_index(drop=True)\n",
    "df[1795:1800]"
   ]
  },
  {
   "cell_type": "code",
   "execution_count": 11,
   "metadata": {},
   "outputs": [],
   "source": [
    "df['puNumber'] = df['puNumber'].astype('int')"
   ]
  },
  {
   "cell_type": "code",
   "execution_count": 12,
   "metadata": {},
   "outputs": [
    {
     "name": "stdout",
     "output_type": "stream",
     "text": [
      "<class 'pandas.core.frame.DataFrame'>\n",
      "RangeIndex: 7485 entries, 0 to 7484\n",
      "Data columns (total 15 columns):\n",
      " #   Column                 Non-Null Count  Dtype  \n",
      "---  ------                 --------------  -----  \n",
      " 0   title                  7485 non-null   object \n",
      " 1   puNumber               7485 non-null   int64  \n",
      " 2   show_start_date        7485 non-null   object \n",
      " 3   type                   7485 non-null   object \n",
      " 4   film_studio            7467 non-null   object \n",
      " 5   production_country     7483 non-null   object \n",
      " 6   director               7476 non-null   object \n",
      " 7   producer               6917 non-null   object \n",
      " 8   age_restriction        7485 non-null   object \n",
      " 9   refundable_support     332 non-null    float64\n",
      " 10  nonrefundable_support  332 non-null    float64\n",
      " 11  budget                 332 non-null    float64\n",
      " 12  financing_source       332 non-null    object \n",
      " 13  ratings                6519 non-null   object \n",
      " 14  genres                 6510 non-null   object \n",
      "dtypes: float64(3), int64(1), object(11)\n",
      "memory usage: 877.3+ KB\n"
     ]
    }
   ],
   "source": [
    "df.info()"
   ]
  },
  {
   "cell_type": "code",
   "execution_count": 13,
   "metadata": {},
   "outputs": [
    {
     "name": "stdout",
     "output_type": "stream",
     "text": [
      "<class 'pandas.core.frame.DataFrame'>\n",
      "Int64Index: 7485 entries, 0 to 7484\n",
      "Data columns (total 16 columns):\n",
      " #   Column                 Non-Null Count  Dtype  \n",
      "---  ------                 --------------  -----  \n",
      " 0   title                  7485 non-null   object \n",
      " 1   puNumber               7485 non-null   int64  \n",
      " 2   show_start_date        7485 non-null   object \n",
      " 3   type                   7485 non-null   object \n",
      " 4   film_studio            7467 non-null   object \n",
      " 5   production_country     7483 non-null   object \n",
      " 6   director               7476 non-null   object \n",
      " 7   producer               6917 non-null   object \n",
      " 8   age_restriction        7485 non-null   object \n",
      " 9   refundable_support     332 non-null    float64\n",
      " 10  nonrefundable_support  332 non-null    float64\n",
      " 11  budget                 332 non-null    float64\n",
      " 12  financing_source       332 non-null    object \n",
      " 13  ratings                6519 non-null   object \n",
      " 14  genres                 6510 non-null   object \n",
      " 15  box_office             3158 non-null   float64\n",
      "dtypes: float64(4), int64(1), object(11)\n",
      "memory usage: 994.1+ KB\n"
     ]
    }
   ],
   "source": [
    "df = df.merge(mkrf_shows, left_on='puNumber', right_on='puNumber', how='left')\n",
    "df.info()"
   ]
  },
  {
   "cell_type": "markdown",
   "metadata": {
    "id": "KLDGpPG0gFyM"
   },
   "source": [
    "### Шаг 2. Предобработка данных"
   ]
  },
  {
   "cell_type": "markdown",
   "metadata": {},
   "source": [
    "Переименую столбец puNumber"
   ]
  },
  {
   "cell_type": "code",
   "execution_count": 14,
   "metadata": {},
   "outputs": [],
   "source": [
    "df = df.rename(columns={'puNumber': 'pu_number'})"
   ]
  },
  {
   "cell_type": "markdown",
   "metadata": {},
   "source": [
    "Для удобной работы со столбцом возрастных ограничений переведу текстовые значения в соответствующие числовые"
   ]
  },
  {
   "cell_type": "code",
   "execution_count": 15,
   "metadata": {},
   "outputs": [],
   "source": [
    "df['age_restriction'] = df['age_restriction'].replace({'«0+» - для любой зрительской аудитории': 0,\n",
    "                                                       '«6+» - для детей старше 6 лет': 6,\n",
    "                                                       '«12+» - для детей старше 12 лет': 12,\n",
    "                                                       '«16+» - для детей старше 16 лет': 16,\n",
    "                                                       '«18+» - запрещено для детей': 18})"
   ]
  },
  {
   "cell_type": "markdown",
   "metadata": {
    "id": "ssWwKXsxgFyO"
   },
   "source": [
    "#### Шаг 2.1. Проверьте типы данных\n",
    "\n",
    "- Проверьте типы данных в датафрейме и преобразуйте их там, где это необходимо."
   ]
  },
  {
   "cell_type": "code",
   "execution_count": 16,
   "metadata": {
    "id": "kVGSplJOgFyO"
   },
   "outputs": [
    {
     "name": "stdout",
     "output_type": "stream",
     "text": [
      "<class 'pandas.core.frame.DataFrame'>\n",
      "Int64Index: 7485 entries, 0 to 7484\n",
      "Data columns (total 16 columns):\n",
      " #   Column                 Non-Null Count  Dtype  \n",
      "---  ------                 --------------  -----  \n",
      " 0   title                  7485 non-null   object \n",
      " 1   pu_number              7485 non-null   int64  \n",
      " 2   show_start_date        7485 non-null   object \n",
      " 3   type                   7485 non-null   object \n",
      " 4   film_studio            7467 non-null   object \n",
      " 5   production_country     7483 non-null   object \n",
      " 6   director               7476 non-null   object \n",
      " 7   producer               6917 non-null   object \n",
      " 8   age_restriction        7485 non-null   int64  \n",
      " 9   refundable_support     332 non-null    float64\n",
      " 10  nonrefundable_support  332 non-null    float64\n",
      " 11  budget                 332 non-null    float64\n",
      " 12  financing_source       332 non-null    object \n",
      " 13  ratings                6519 non-null   object \n",
      " 14  genres                 6510 non-null   object \n",
      " 15  box_office             3158 non-null   float64\n",
      "dtypes: float64(4), int64(2), object(10)\n",
      "memory usage: 994.1+ KB\n"
     ]
    }
   ],
   "source": [
    "df.info()"
   ]
  },
  {
   "cell_type": "markdown",
   "metadata": {},
   "source": [
    "Приведу данные к соответствующим типам"
   ]
  },
  {
   "cell_type": "code",
   "execution_count": 17,
   "metadata": {},
   "outputs": [
    {
     "name": "stdout",
     "output_type": "stream",
     "text": [
      "<class 'pandas.core.frame.DataFrame'>\n",
      "Int64Index: 7485 entries, 0 to 7484\n",
      "Data columns (total 16 columns):\n",
      " #   Column                 Non-Null Count  Dtype         \n",
      "---  ------                 --------------  -----         \n",
      " 0   title                  7485 non-null   object        \n",
      " 1   pu_number              7485 non-null   int64         \n",
      " 2   show_start_date        7485 non-null   datetime64[ns]\n",
      " 3   type                   7485 non-null   object        \n",
      " 4   film_studio            7467 non-null   object        \n",
      " 5   production_country     7483 non-null   object        \n",
      " 6   director               7476 non-null   object        \n",
      " 7   producer               6917 non-null   object        \n",
      " 8   age_restriction        7485 non-null   int64         \n",
      " 9   refundable_support     332 non-null    float64       \n",
      " 10  nonrefundable_support  332 non-null    float64       \n",
      " 11  budget                 332 non-null    float64       \n",
      " 12  financing_source       332 non-null    object        \n",
      " 13  ratings                6519 non-null   object        \n",
      " 14  genres                 6510 non-null   object        \n",
      " 15  box_office             3158 non-null   float64       \n",
      "dtypes: datetime64[ns](1), float64(4), int64(2), object(9)\n",
      "memory usage: 994.1+ KB\n"
     ]
    }
   ],
   "source": [
    "df['show_start_date'] = pd.to_datetime(df['show_start_date'], format='%Y-%m-%dT%H:%M%S', exact = False)\n",
    "df.info()"
   ]
  },
  {
   "cell_type": "markdown",
   "metadata": {},
   "source": [
    "В некоторых строках рейтинг представлен в процентах, приведем их к типу float"
   ]
  },
  {
   "cell_type": "code",
   "execution_count": 18,
   "metadata": {},
   "outputs": [
    {
     "data": {
      "text/html": [
       "<div>\n",
       "<style scoped>\n",
       "    .dataframe tbody tr th:only-of-type {\n",
       "        vertical-align: middle;\n",
       "    }\n",
       "\n",
       "    .dataframe tbody tr th {\n",
       "        vertical-align: top;\n",
       "    }\n",
       "\n",
       "    .dataframe thead th {\n",
       "        text-align: right;\n",
       "    }\n",
       "</style>\n",
       "<table border=\"1\" class=\"dataframe\">\n",
       "  <thead>\n",
       "    <tr style=\"text-align: right;\">\n",
       "      <th></th>\n",
       "      <th>title</th>\n",
       "      <th>pu_number</th>\n",
       "      <th>show_start_date</th>\n",
       "      <th>type</th>\n",
       "      <th>film_studio</th>\n",
       "      <th>production_country</th>\n",
       "      <th>director</th>\n",
       "      <th>producer</th>\n",
       "      <th>age_restriction</th>\n",
       "      <th>refundable_support</th>\n",
       "      <th>nonrefundable_support</th>\n",
       "      <th>budget</th>\n",
       "      <th>financing_source</th>\n",
       "      <th>ratings</th>\n",
       "      <th>genres</th>\n",
       "      <th>box_office</th>\n",
       "    </tr>\n",
       "  </thead>\n",
       "  <tbody>\n",
       "    <tr>\n",
       "      <th>259</th>\n",
       "      <td>Прошлое</td>\n",
       "      <td>221030715</td>\n",
       "      <td>2015-07-29 12:00:00</td>\n",
       "      <td>Художественный</td>\n",
       "      <td>20 Сенчюри Фокс де Архентина, Чемо, ЭйчБи Филм...</td>\n",
       "      <td>Аргентина - Бразилия</td>\n",
       "      <td>Эктор Бабенко</td>\n",
       "      <td>Эктор Бабенко, Оскар Крамер, Хуго Сидмэн</td>\n",
       "      <td>16</td>\n",
       "      <td>NaN</td>\n",
       "      <td>NaN</td>\n",
       "      <td>NaN</td>\n",
       "      <td>NaN</td>\n",
       "      <td>99%</td>\n",
       "      <td>ужасы,триллер,драма</td>\n",
       "      <td>NaN</td>\n",
       "    </tr>\n",
       "    <tr>\n",
       "      <th>811</th>\n",
       "      <td>От винта!</td>\n",
       "      <td>114000212</td>\n",
       "      <td>2012-08-06 12:00:00</td>\n",
       "      <td>Анимационный</td>\n",
       "      <td>ЗАО \"Продюсерский центр \"Парадиз\"</td>\n",
       "      <td>Россия</td>\n",
       "      <td>О.Лопато</td>\n",
       "      <td>Г.Нерсисян, А.Манасарян, А.Нерсесян</td>\n",
       "      <td>12</td>\n",
       "      <td>NaN</td>\n",
       "      <td>NaN</td>\n",
       "      <td>NaN</td>\n",
       "      <td>NaN</td>\n",
       "      <td>28%</td>\n",
       "      <td>детский,приключения,комедия</td>\n",
       "      <td>1,740.00</td>\n",
       "    </tr>\n",
       "    <tr>\n",
       "      <th>1053</th>\n",
       "      <td>Песочный человек</td>\n",
       "      <td>121029212</td>\n",
       "      <td>2012-11-29 12:00:00</td>\n",
       "      <td>Художественный</td>\n",
       "      <td>Спотлайт Медиа Продакшн</td>\n",
       "      <td>Швейцария</td>\n",
       "      <td>Питер Луизи</td>\n",
       "      <td>Дэвид Луизи, Питер Луизи</td>\n",
       "      <td>16</td>\n",
       "      <td>NaN</td>\n",
       "      <td>NaN</td>\n",
       "      <td>NaN</td>\n",
       "      <td>NaN</td>\n",
       "      <td>97%</td>\n",
       "      <td>ужасы,фантастика,фэнтези</td>\n",
       "      <td>NaN</td>\n",
       "    </tr>\n",
       "    <tr>\n",
       "      <th>1341</th>\n",
       "      <td>Сказка о добре и Вре</td>\n",
       "      <td>111008913</td>\n",
       "      <td>2013-11-15 12:00:00</td>\n",
       "      <td>Художественный</td>\n",
       "      <td>НП \"Студия игрового кино \"Лик\"</td>\n",
       "      <td>Россия</td>\n",
       "      <td>Е.Шиляева</td>\n",
       "      <td>К.Терещенко</td>\n",
       "      <td>6</td>\n",
       "      <td>NaN</td>\n",
       "      <td>NaN</td>\n",
       "      <td>NaN</td>\n",
       "      <td>NaN</td>\n",
       "      <td>99%</td>\n",
       "      <td>триллер,драма,детектив</td>\n",
       "      <td>NaN</td>\n",
       "    </tr>\n",
       "    <tr>\n",
       "      <th>1804</th>\n",
       "      <td>Спираль.</td>\n",
       "      <td>111001014</td>\n",
       "      <td>2014-01-30 12:00:00</td>\n",
       "      <td>Художественный</td>\n",
       "      <td>ООО \"Компания Питон\"</td>\n",
       "      <td>Россия</td>\n",
       "      <td>А.Волгин</td>\n",
       "      <td>Е.Ковалева</td>\n",
       "      <td>12</td>\n",
       "      <td>NaN</td>\n",
       "      <td>NaN</td>\n",
       "      <td>NaN</td>\n",
       "      <td>NaN</td>\n",
       "      <td>99%</td>\n",
       "      <td>аниме,мультфильм,ужасы</td>\n",
       "      <td>4,295.00</td>\n",
       "    </tr>\n",
       "    <tr>\n",
       "      <th>1873</th>\n",
       "      <td>Короткие истории о любви 2</td>\n",
       "      <td>121002615</td>\n",
       "      <td>2015-02-13 12:00:00</td>\n",
       "      <td>Художественный</td>\n",
       "      <td>Кавиар, Курт 13, СтритЛайт Филмз, Нэйер Дойче ...</td>\n",
       "      <td>Нидерланды - США - Германия - Канада - Франция...</td>\n",
       "      <td>Мэтью Аувро, Лео Брайдл, Бен Бренд, Ден Кларк,...</td>\n",
       "      <td>Мэри Пэт Бентел, Бен Бренд, Сиара Гиллан, Джор...</td>\n",
       "      <td>18</td>\n",
       "      <td>NaN</td>\n",
       "      <td>NaN</td>\n",
       "      <td>NaN</td>\n",
       "      <td>NaN</td>\n",
       "      <td>83%</td>\n",
       "      <td>NaN</td>\n",
       "      <td>1,429,859.00</td>\n",
       "    </tr>\n",
       "    <tr>\n",
       "      <th>1898</th>\n",
       "      <td>Золушка /По сказке Шарля Перро/. Холодное торж...</td>\n",
       "      <td>121003615</td>\n",
       "      <td>2015-02-27 12:00:00</td>\n",
       "      <td>Художественный</td>\n",
       "      <td>Женр Филмз, Уолт Дисней Пикчерз</td>\n",
       "      <td>США</td>\n",
       "      <td>Кеннет Брана</td>\n",
       "      <td>Дэвид Бэррон, Саймон Кинберг, Эллисон Ширмур</td>\n",
       "      <td>6</td>\n",
       "      <td>NaN</td>\n",
       "      <td>NaN</td>\n",
       "      <td>NaN</td>\n",
       "      <td>NaN</td>\n",
       "      <td>64%</td>\n",
       "      <td>мюзикл,фэнтези,мелодрама</td>\n",
       "      <td>528,732,557.70</td>\n",
       "    </tr>\n",
       "    <tr>\n",
       "      <th>2125</th>\n",
       "      <td>Поездка к матери</td>\n",
       "      <td>111002015</td>\n",
       "      <td>2015-03-02 12:00:00</td>\n",
       "      <td>Художественный</td>\n",
       "      <td>ЗАО \"Киностудия \"М\"-Фильм\"</td>\n",
       "      <td>Россия</td>\n",
       "      <td>М.Косырев-Нестеров</td>\n",
       "      <td>М.Косырев-Нестеров</td>\n",
       "      <td>16</td>\n",
       "      <td>NaN</td>\n",
       "      <td>NaN</td>\n",
       "      <td>NaN</td>\n",
       "      <td>NaN</td>\n",
       "      <td>91%</td>\n",
       "      <td>драма,семейный</td>\n",
       "      <td>0.00</td>\n",
       "    </tr>\n",
       "    <tr>\n",
       "      <th>2145</th>\n",
       "      <td>Главный</td>\n",
       "      <td>111003415</td>\n",
       "      <td>2015-03-27 12:00:00</td>\n",
       "      <td>Художественный</td>\n",
       "      <td>ООО \"Киностудия \"МАСТЕР\"</td>\n",
       "      <td>Россия</td>\n",
       "      <td>Ю.Кара</td>\n",
       "      <td>Ю.Кара</td>\n",
       "      <td>6</td>\n",
       "      <td>0.00</td>\n",
       "      <td>10,000,000.00</td>\n",
       "      <td>40,000,000.00</td>\n",
       "      <td>Министерство культуры</td>\n",
       "      <td>94%</td>\n",
       "      <td>фантастика,боевик,комедия</td>\n",
       "      <td>334,750.00</td>\n",
       "    </tr>\n",
       "    <tr>\n",
       "      <th>2437</th>\n",
       "      <td>Самый рыжий Лис</td>\n",
       "      <td>111012715</td>\n",
       "      <td>2015-07-30 12:00:00</td>\n",
       "      <td>Художественный</td>\n",
       "      <td>ООО \"Продюсерский центр \"Ленфильм\"</td>\n",
       "      <td>Россия</td>\n",
       "      <td>А.Стреляная</td>\n",
       "      <td>А.Котелевский, Э.Пичугин</td>\n",
       "      <td>6</td>\n",
       "      <td>NaN</td>\n",
       "      <td>NaN</td>\n",
       "      <td>NaN</td>\n",
       "      <td>NaN</td>\n",
       "      <td>62%</td>\n",
       "      <td>фэнтези,семейный</td>\n",
       "      <td>NaN</td>\n",
       "    </tr>\n",
       "    <tr>\n",
       "      <th>2679</th>\n",
       "      <td>Год Белого Слона</td>\n",
       "      <td>111003915</td>\n",
       "      <td>2015-04-08 12:00:00</td>\n",
       "      <td>Художественный</td>\n",
       "      <td>ООО \"Творческое объединение ЮГ\"</td>\n",
       "      <td>Россия</td>\n",
       "      <td>Ю.Грымов</td>\n",
       "      <td>П.Поляков</td>\n",
       "      <td>6</td>\n",
       "      <td>NaN</td>\n",
       "      <td>NaN</td>\n",
       "      <td>NaN</td>\n",
       "      <td>NaN</td>\n",
       "      <td>79%</td>\n",
       "      <td>семейный</td>\n",
       "      <td>NaN</td>\n",
       "    </tr>\n",
       "    <tr>\n",
       "      <th>3138</th>\n",
       "      <td>Я умею вязать</td>\n",
       "      <td>111019615</td>\n",
       "      <td>2015-11-27 12:00:00</td>\n",
       "      <td>Художественный</td>\n",
       "      <td>ООО \"Белое Зеркало\"</td>\n",
       "      <td>Россия</td>\n",
       "      <td>Н.Степанова при участии С.Иванова</td>\n",
       "      <td>С.Кикнавелидзе, Д.Улюкаев</td>\n",
       "      <td>16</td>\n",
       "      <td>0.00</td>\n",
       "      <td>4,700,000.00</td>\n",
       "      <td>14,462,464.00</td>\n",
       "      <td>Министерство культуры</td>\n",
       "      <td>90%</td>\n",
       "      <td>драма</td>\n",
       "      <td>801,370.00</td>\n",
       "    </tr>\n",
       "    <tr>\n",
       "      <th>3430</th>\n",
       "      <td>Наурыз</td>\n",
       "      <td>131000217</td>\n",
       "      <td>2017-03-09 12:00:00</td>\n",
       "      <td>Художественный</td>\n",
       "      <td>Эс Джи</td>\n",
       "      <td>Республика Казахстан</td>\n",
       "      <td>Аскар Бисембин</td>\n",
       "      <td>Олег Головашкин, Алмас Султангазин</td>\n",
       "      <td>12</td>\n",
       "      <td>NaN</td>\n",
       "      <td>NaN</td>\n",
       "      <td>NaN</td>\n",
       "      <td>NaN</td>\n",
       "      <td>19%</td>\n",
       "      <td>комедия</td>\n",
       "      <td>37,960.00</td>\n",
       "    </tr>\n",
       "    <tr>\n",
       "      <th>3438</th>\n",
       "      <td>Семь диких историй</td>\n",
       "      <td>126005916</td>\n",
       "      <td>2016-11-28 12:00:00</td>\n",
       "      <td>Прочие</td>\n",
       "      <td>Макс Бэйкер, Джон Е.Брайан, Пьер-Луи Гарнон,  ...</td>\n",
       "      <td>США - Пуэрто-Рико - Франция</td>\n",
       "      <td>М.Бэйкер, Д.Е.Брайант, Д.Рондот, Я.Серсар, Д.С...</td>\n",
       "      <td>М.Бэйкер, Д.Е.Брайан, П.-Л.Гарнон, М.Х.Дельгад...</td>\n",
       "      <td>18</td>\n",
       "      <td>NaN</td>\n",
       "      <td>NaN</td>\n",
       "      <td>NaN</td>\n",
       "      <td>NaN</td>\n",
       "      <td>88%</td>\n",
       "      <td>NaN</td>\n",
       "      <td>1,025,937.00</td>\n",
       "    </tr>\n",
       "    <tr>\n",
       "      <th>3445</th>\n",
       "      <td>Короткие истории о любви - 4</td>\n",
       "      <td>126006316</td>\n",
       "      <td>2016-12-30 12:00:00</td>\n",
       "      <td>Прочие</td>\n",
       "      <td>Нетворг Айлэнд Телевижн, Магнетфильм, Шорткатс...</td>\n",
       "      <td>Великобритания - Аргентина - США - Франция - Р...</td>\n",
       "      <td>Д.Адар, П.Антохин, М.Биасин, А.Бурунова, К.Кол...</td>\n",
       "      <td>Д.Адар, Д.Амсон, П.Антохин, А.Армстронг, С.Бил...</td>\n",
       "      <td>18</td>\n",
       "      <td>NaN</td>\n",
       "      <td>NaN</td>\n",
       "      <td>NaN</td>\n",
       "      <td>NaN</td>\n",
       "      <td>83%</td>\n",
       "      <td>NaN</td>\n",
       "      <td>2,266,408.00</td>\n",
       "    </tr>\n",
       "    <tr>\n",
       "      <th>3513</th>\n",
       "      <td>Чужой дом</td>\n",
       "      <td>111015516</td>\n",
       "      <td>2016-09-14 12:00:00</td>\n",
       "      <td>Художественный</td>\n",
       "      <td>ООО \"Лига Продакшн\"</td>\n",
       "      <td>Россия, Грузия, Хорватия, Испания</td>\n",
       "      <td>Р.Глурджидзе</td>\n",
       "      <td>З.Магалашвили, К.Гечмен-Вальдек, Н.Горшкова</td>\n",
       "      <td>12</td>\n",
       "      <td>NaN</td>\n",
       "      <td>NaN</td>\n",
       "      <td>NaN</td>\n",
       "      <td>NaN</td>\n",
       "      <td>91%</td>\n",
       "      <td>драма</td>\n",
       "      <td>NaN</td>\n",
       "    </tr>\n",
       "    <tr>\n",
       "      <th>3584</th>\n",
       "      <td>Машины Страшилки. Серия \"Жутчайшая повесть о п...</td>\n",
       "      <td>114003916</td>\n",
       "      <td>2016-12-09 12:00:00</td>\n",
       "      <td>Анимационный</td>\n",
       "      <td>ООО Студия \"АНИМАККОРД\", АНИМАККОРД ЛТД.</td>\n",
       "      <td>Россия, Республика Кипр</td>\n",
       "      <td>Д.Червяцов</td>\n",
       "      <td>Д.Ловейко, О.Кузовков</td>\n",
       "      <td>0</td>\n",
       "      <td>NaN</td>\n",
       "      <td>NaN</td>\n",
       "      <td>NaN</td>\n",
       "      <td>NaN</td>\n",
       "      <td>97%</td>\n",
       "      <td>мультфильм,ужасы,фэнтези</td>\n",
       "      <td>NaN</td>\n",
       "    </tr>\n",
       "    <tr>\n",
       "      <th>3785</th>\n",
       "      <td>Охотники</td>\n",
       "      <td>111017816</td>\n",
       "      <td>2016-02-06 12:00:00</td>\n",
       "      <td>Художественный</td>\n",
       "      <td>Селиверстов Александр Александрович</td>\n",
       "      <td>Россия</td>\n",
       "      <td>А.Селиверстов</td>\n",
       "      <td>Е.Тарковская, Т.Лагода, Д.Степанян</td>\n",
       "      <td>16</td>\n",
       "      <td>NaN</td>\n",
       "      <td>NaN</td>\n",
       "      <td>NaN</td>\n",
       "      <td>NaN</td>\n",
       "      <td>89%</td>\n",
       "      <td>фантастика,комедия,боевик</td>\n",
       "      <td>82,840.00</td>\n",
       "    </tr>\n",
       "    <tr>\n",
       "      <th>3947</th>\n",
       "      <td>Круиз.</td>\n",
       "      <td>211038210</td>\n",
       "      <td>2010-09-03 12:00:00</td>\n",
       "      <td>Художественный</td>\n",
       "      <td>ООО \"ЮНАЙТЕД МУЛЬТИМЕДИА ПРОДЖЕКТС\"</td>\n",
       "      <td>Россия</td>\n",
       "      <td>И.Ромащенко</td>\n",
       "      <td>Р.Атамалибеков</td>\n",
       "      <td>16</td>\n",
       "      <td>NaN</td>\n",
       "      <td>NaN</td>\n",
       "      <td>NaN</td>\n",
       "      <td>NaN</td>\n",
       "      <td>97%</td>\n",
       "      <td>приключения,комедия,фэнтези</td>\n",
       "      <td>NaN</td>\n",
       "    </tr>\n",
       "    <tr>\n",
       "      <th>5331</th>\n",
       "      <td>Добыча.</td>\n",
       "      <td>121009411</td>\n",
       "      <td>2011-06-15 12:00:00</td>\n",
       "      <td>Художественный</td>\n",
       "      <td>Афтер Дарк Филмз</td>\n",
       "      <td>США</td>\n",
       "      <td>Патрик Сиверсен</td>\n",
       "      <td>Закари Ти Брайан, Кристофер</td>\n",
       "      <td>18</td>\n",
       "      <td>NaN</td>\n",
       "      <td>NaN</td>\n",
       "      <td>NaN</td>\n",
       "      <td>NaN</td>\n",
       "      <td>88%</td>\n",
       "      <td>фантастика,боевик,триллер</td>\n",
       "      <td>NaN</td>\n",
       "    </tr>\n",
       "    <tr>\n",
       "      <th>5454</th>\n",
       "      <td>Вечный холод</td>\n",
       "      <td>111006417</td>\n",
       "      <td>2017-08-28 12:00:00</td>\n",
       "      <td>Художественный</td>\n",
       "      <td>ЗАО \"Производственный комплекс \"ГЛАВКИНО\", ООО...</td>\n",
       "      <td>Россия</td>\n",
       "      <td>А.Мигачев</td>\n",
       "      <td>И.Бачурин</td>\n",
       "      <td>18</td>\n",
       "      <td>NaN</td>\n",
       "      <td>NaN</td>\n",
       "      <td>NaN</td>\n",
       "      <td>NaN</td>\n",
       "      <td>83%</td>\n",
       "      <td>фэнтези,боевик,триллер</td>\n",
       "      <td>NaN</td>\n",
       "    </tr>\n",
       "    <tr>\n",
       "      <th>5820</th>\n",
       "      <td>Свинья</td>\n",
       "      <td>121007018</td>\n",
       "      <td>2018-04-11 12:00:00</td>\n",
       "      <td>Художественный</td>\n",
       "      <td>Дарк Прекёрсор Продакшен, Филмиран, Хедейт Филм</td>\n",
       "      <td>Иран</td>\n",
       "      <td>Мани Хагиги</td>\n",
       "      <td>Мани Хагиги</td>\n",
       "      <td>18</td>\n",
       "      <td>NaN</td>\n",
       "      <td>NaN</td>\n",
       "      <td>NaN</td>\n",
       "      <td>NaN</td>\n",
       "      <td>94%</td>\n",
       "      <td>триллер,драма</td>\n",
       "      <td>1,587,221.51</td>\n",
       "    </tr>\n",
       "    <tr>\n",
       "      <th>5909</th>\n",
       "      <td>Мира</td>\n",
       "      <td>112000118</td>\n",
       "      <td>2018-06-04 12:00:00</td>\n",
       "      <td>Документальный</td>\n",
       "      <td>ООО \"Компания \"Новые люди\"</td>\n",
       "      <td>Россия</td>\n",
       "      <td>Д.Шабаев</td>\n",
       "      <td>Н.Мокрицкая</td>\n",
       "      <td>18</td>\n",
       "      <td>NaN</td>\n",
       "      <td>NaN</td>\n",
       "      <td>NaN</td>\n",
       "      <td>NaN</td>\n",
       "      <td>94%</td>\n",
       "      <td>драма</td>\n",
       "      <td>NaN</td>\n",
       "    </tr>\n",
       "    <tr>\n",
       "      <th>6425</th>\n",
       "      <td>Памятные даты России. Партизаны и подпольщики</td>\n",
       "      <td>112013018</td>\n",
       "      <td>2018-11-28 12:00:00</td>\n",
       "      <td>Документальный</td>\n",
       "      <td>ООО Кинокомпания \"Вектор\"</td>\n",
       "      <td>Россия</td>\n",
       "      <td>Н.Иванова, А.Кузнецова</td>\n",
       "      <td>В.Коханович</td>\n",
       "      <td>12</td>\n",
       "      <td>NaN</td>\n",
       "      <td>NaN</td>\n",
       "      <td>NaN</td>\n",
       "      <td>NaN</td>\n",
       "      <td>91%</td>\n",
       "      <td>драма,биография</td>\n",
       "      <td>NaN</td>\n",
       "    </tr>\n",
       "    <tr>\n",
       "      <th>6615</th>\n",
       "      <td>ОТ ВОЙНЫ ДО НАШИХ ДНЕЙ</td>\n",
       "      <td>111026518</td>\n",
       "      <td>2019-01-21 12:00:00</td>\n",
       "      <td>Художественный</td>\n",
       "      <td>ИП Вайсман Анатолий Александрович</td>\n",
       "      <td>Россия</td>\n",
       "      <td>А.Сазонов, Е.Климович, А.Коломеец, С.Черникова...</td>\n",
       "      <td>Д.Руюежин, Л.Пятницкая, Д.Колеров, Э.Ким, А.Хомич</td>\n",
       "      <td>12</td>\n",
       "      <td>NaN</td>\n",
       "      <td>NaN</td>\n",
       "      <td>NaN</td>\n",
       "      <td>NaN</td>\n",
       "      <td>98%</td>\n",
       "      <td>фантастика,боевик</td>\n",
       "      <td>NaN</td>\n",
       "    </tr>\n",
       "    <tr>\n",
       "      <th>6736</th>\n",
       "      <td>Колесо времени</td>\n",
       "      <td>111003219</td>\n",
       "      <td>2019-03-01 12:00:00</td>\n",
       "      <td>Художественный</td>\n",
       "      <td>ООО \"БестМедиа\"</td>\n",
       "      <td>Россия</td>\n",
       "      <td>Б.Куломзин</td>\n",
       "      <td>Б.Куломзин</td>\n",
       "      <td>6</td>\n",
       "      <td>NaN</td>\n",
       "      <td>NaN</td>\n",
       "      <td>NaN</td>\n",
       "      <td>NaN</td>\n",
       "      <td>98%</td>\n",
       "      <td>фэнтези,приключения</td>\n",
       "      <td>34,992.00</td>\n",
       "    </tr>\n",
       "    <tr>\n",
       "      <th>6881</th>\n",
       "      <td>Животные рядом со Святыми</td>\n",
       "      <td>112003719</td>\n",
       "      <td>2019-05-03 12:00:00</td>\n",
       "      <td>Документальный</td>\n",
       "      <td>ООО \"Кинопрограмма \"XXI век\"</td>\n",
       "      <td>Россия</td>\n",
       "      <td>Т.Мирошник</td>\n",
       "      <td>В.Есинов, Е.Калинина</td>\n",
       "      <td>0</td>\n",
       "      <td>NaN</td>\n",
       "      <td>NaN</td>\n",
       "      <td>NaN</td>\n",
       "      <td>NaN</td>\n",
       "      <td>99%</td>\n",
       "      <td>криминал,драма</td>\n",
       "      <td>NaN</td>\n",
       "    </tr>\n",
       "    <tr>\n",
       "      <th>7158</th>\n",
       "      <td>Анна Каренина. Интимный дневник</td>\n",
       "      <td>111013919</td>\n",
       "      <td>2019-10-23 12:00:00</td>\n",
       "      <td>Художественный</td>\n",
       "      <td>ООО \"РТВ\"</td>\n",
       "      <td>Россия</td>\n",
       "      <td>Ю.Грымов</td>\n",
       "      <td>Ю.Грымов</td>\n",
       "      <td>16</td>\n",
       "      <td>NaN</td>\n",
       "      <td>NaN</td>\n",
       "      <td>NaN</td>\n",
       "      <td>NaN</td>\n",
       "      <td>79%</td>\n",
       "      <td>драма</td>\n",
       "      <td>182,882.50</td>\n",
       "    </tr>\n",
       "    <tr>\n",
       "      <th>7276</th>\n",
       "      <td>Добыча</td>\n",
       "      <td>121028319</td>\n",
       "      <td>2019-10-03 12:00:00</td>\n",
       "      <td>Художественный</td>\n",
       "      <td>Блумхаус Продакшнз, Хайд Парк Интертейнмент, Т...</td>\n",
       "      <td>США</td>\n",
       "      <td>Франк Халфун</td>\n",
       "      <td>Ашок Амритрадж, Джейсон Блум, Трэвис Клафф</td>\n",
       "      <td>16</td>\n",
       "      <td>NaN</td>\n",
       "      <td>NaN</td>\n",
       "      <td>NaN</td>\n",
       "      <td>NaN</td>\n",
       "      <td>88%</td>\n",
       "      <td>фантастика,боевик,триллер</td>\n",
       "      <td>4,416,590.45</td>\n",
       "    </tr>\n",
       "  </tbody>\n",
       "</table>\n",
       "</div>"
      ],
      "text/plain": [
       "                                                  title  pu_number  \\\n",
       "259                                             Прошлое  221030715   \n",
       "811                                           От винта!  114000212   \n",
       "1053                                   Песочный человек  121029212   \n",
       "1341                               Сказка о добре и Вре  111008913   \n",
       "1804                                           Спираль.  111001014   \n",
       "1873                         Короткие истории о любви 2  121002615   \n",
       "1898  Золушка /По сказке Шарля Перро/. Холодное торж...  121003615   \n",
       "2125                                   Поездка к матери  111002015   \n",
       "2145                                            Главный  111003415   \n",
       "2437                                    Самый рыжий Лис  111012715   \n",
       "2679                                   Год Белого Слона  111003915   \n",
       "3138                                      Я умею вязать  111019615   \n",
       "3430                                             Наурыз  131000217   \n",
       "3438                                 Семь диких историй  126005916   \n",
       "3445                       Короткие истории о любви - 4  126006316   \n",
       "3513                                          Чужой дом  111015516   \n",
       "3584  Машины Страшилки. Серия \"Жутчайшая повесть о п...  114003916   \n",
       "3785                                           Охотники  111017816   \n",
       "3947                                             Круиз.  211038210   \n",
       "5331                                            Добыча.  121009411   \n",
       "5454                                       Вечный холод  111006417   \n",
       "5820                                             Свинья  121007018   \n",
       "5909                                               Мира  112000118   \n",
       "6425      Памятные даты России. Партизаны и подпольщики  112013018   \n",
       "6615                             ОТ ВОЙНЫ ДО НАШИХ ДНЕЙ  111026518   \n",
       "6736                                     Колесо времени  111003219   \n",
       "6881                          Животные рядом со Святыми  112003719   \n",
       "7158                    Анна Каренина. Интимный дневник  111013919   \n",
       "7276                                             Добыча  121028319   \n",
       "\n",
       "         show_start_date             type  \\\n",
       "259  2015-07-29 12:00:00   Художественный   \n",
       "811  2012-08-06 12:00:00     Анимационный   \n",
       "1053 2012-11-29 12:00:00   Художественный   \n",
       "1341 2013-11-15 12:00:00   Художественный   \n",
       "1804 2014-01-30 12:00:00   Художественный   \n",
       "1873 2015-02-13 12:00:00   Художественный   \n",
       "1898 2015-02-27 12:00:00   Художественный   \n",
       "2125 2015-03-02 12:00:00   Художественный   \n",
       "2145 2015-03-27 12:00:00   Художественный   \n",
       "2437 2015-07-30 12:00:00   Художественный   \n",
       "2679 2015-04-08 12:00:00   Художественный   \n",
       "3138 2015-11-27 12:00:00   Художественный   \n",
       "3430 2017-03-09 12:00:00   Художественный   \n",
       "3438 2016-11-28 12:00:00           Прочие   \n",
       "3445 2016-12-30 12:00:00           Прочие   \n",
       "3513 2016-09-14 12:00:00   Художественный   \n",
       "3584 2016-12-09 12:00:00     Анимационный   \n",
       "3785 2016-02-06 12:00:00   Художественный   \n",
       "3947 2010-09-03 12:00:00   Художественный   \n",
       "5331 2011-06-15 12:00:00   Художественный   \n",
       "5454 2017-08-28 12:00:00   Художественный   \n",
       "5820 2018-04-11 12:00:00   Художественный   \n",
       "5909 2018-06-04 12:00:00   Документальный   \n",
       "6425 2018-11-28 12:00:00   Документальный   \n",
       "6615 2019-01-21 12:00:00   Художественный   \n",
       "6736 2019-03-01 12:00:00   Художественный   \n",
       "6881 2019-05-03 12:00:00   Документальный   \n",
       "7158 2019-10-23 12:00:00   Художественный   \n",
       "7276 2019-10-03 12:00:00   Художественный   \n",
       "\n",
       "                                            film_studio  \\\n",
       "259   20 Сенчюри Фокс де Архентина, Чемо, ЭйчБи Филм...   \n",
       "811                   ЗАО \"Продюсерский центр \"Парадиз\"   \n",
       "1053                            Спотлайт Медиа Продакшн   \n",
       "1341                     НП \"Студия игрового кино \"Лик\"   \n",
       "1804                               ООО \"Компания Питон\"   \n",
       "1873  Кавиар, Курт 13, СтритЛайт Филмз, Нэйер Дойче ...   \n",
       "1898                    Женр Филмз, Уолт Дисней Пикчерз   \n",
       "2125                         ЗАО \"Киностудия \"М\"-Фильм\"   \n",
       "2145                           ООО \"Киностудия \"МАСТЕР\"   \n",
       "2437                 ООО \"Продюсерский центр \"Ленфильм\"   \n",
       "2679                    ООО \"Творческое объединение ЮГ\"   \n",
       "3138                                ООО \"Белое Зеркало\"   \n",
       "3430                                             Эс Джи   \n",
       "3438  Макс Бэйкер, Джон Е.Брайан, Пьер-Луи Гарнон,  ...   \n",
       "3445  Нетворг Айлэнд Телевижн, Магнетфильм, Шорткатс...   \n",
       "3513                                ООО \"Лига Продакшн\"   \n",
       "3584           ООО Студия \"АНИМАККОРД\", АНИМАККОРД ЛТД.   \n",
       "3785                Селиверстов Александр Александрович   \n",
       "3947                ООО \"ЮНАЙТЕД МУЛЬТИМЕДИА ПРОДЖЕКТС\"   \n",
       "5331                                   Афтер Дарк Филмз   \n",
       "5454  ЗАО \"Производственный комплекс \"ГЛАВКИНО\", ООО...   \n",
       "5820    Дарк Прекёрсор Продакшен, Филмиран, Хедейт Филм   \n",
       "5909                         ООО \"Компания \"Новые люди\"   \n",
       "6425                          ООО Кинокомпания \"Вектор\"   \n",
       "6615                  ИП Вайсман Анатолий Александрович   \n",
       "6736                                    ООО \"БестМедиа\"   \n",
       "6881                       ООО \"Кинопрограмма \"XXI век\"   \n",
       "7158                                          ООО \"РТВ\"   \n",
       "7276  Блумхаус Продакшнз, Хайд Парк Интертейнмент, Т...   \n",
       "\n",
       "                                     production_country  \\\n",
       "259                                Аргентина - Бразилия   \n",
       "811                                              Россия   \n",
       "1053                                          Швейцария   \n",
       "1341                                             Россия   \n",
       "1804                                             Россия   \n",
       "1873  Нидерланды - США - Германия - Канада - Франция...   \n",
       "1898                                                США   \n",
       "2125                                             Россия   \n",
       "2145                                             Россия   \n",
       "2437                                             Россия   \n",
       "2679                                             Россия   \n",
       "3138                                             Россия   \n",
       "3430                               Республика Казахстан   \n",
       "3438                       США - Пуэрто-Рико - Франция    \n",
       "3445  Великобритания - Аргентина - США - Франция - Р...   \n",
       "3513                  Россия, Грузия, Хорватия, Испания   \n",
       "3584                            Россия, Республика Кипр   \n",
       "3785                                             Россия   \n",
       "3947                                             Россия   \n",
       "5331                                                США   \n",
       "5454                                             Россия   \n",
       "5820                                               Иран   \n",
       "5909                                             Россия   \n",
       "6425                                             Россия   \n",
       "6615                                             Россия   \n",
       "6736                                             Россия   \n",
       "6881                                             Россия   \n",
       "7158                                             Россия   \n",
       "7276                                                США   \n",
       "\n",
       "                                               director  \\\n",
       "259                                       Эктор Бабенко   \n",
       "811                                            О.Лопато   \n",
       "1053                                        Питер Луизи   \n",
       "1341                                          Е.Шиляева   \n",
       "1804                                           А.Волгин   \n",
       "1873  Мэтью Аувро, Лео Брайдл, Бен Бренд, Ден Кларк,...   \n",
       "1898                                       Кеннет Брана   \n",
       "2125                                 М.Косырев-Нестеров   \n",
       "2145                                             Ю.Кара   \n",
       "2437                                        А.Стреляная   \n",
       "2679                                           Ю.Грымов   \n",
       "3138                  Н.Степанова при участии С.Иванова   \n",
       "3430                                     Аскар Бисембин   \n",
       "3438  М.Бэйкер, Д.Е.Брайант, Д.Рондот, Я.Серсар, Д.С...   \n",
       "3445  Д.Адар, П.Антохин, М.Биасин, А.Бурунова, К.Кол...   \n",
       "3513                                       Р.Глурджидзе   \n",
       "3584                                         Д.Червяцов   \n",
       "3785                                      А.Селиверстов   \n",
       "3947                                        И.Ромащенко   \n",
       "5331                                    Патрик Сиверсен   \n",
       "5454                                          А.Мигачев   \n",
       "5820                                        Мани Хагиги   \n",
       "5909                                           Д.Шабаев   \n",
       "6425                             Н.Иванова, А.Кузнецова   \n",
       "6615  А.Сазонов, Е.Климович, А.Коломеец, С.Черникова...   \n",
       "6736                                         Б.Куломзин   \n",
       "6881                                         Т.Мирошник   \n",
       "7158                                           Ю.Грымов   \n",
       "7276                                       Франк Халфун   \n",
       "\n",
       "                                               producer  age_restriction  \\\n",
       "259            Эктор Бабенко, Оскар Крамер, Хуго Сидмэн               16   \n",
       "811                 Г.Нерсисян, А.Манасарян, А.Нерсесян               12   \n",
       "1053                           Дэвид Луизи, Питер Луизи               16   \n",
       "1341                                        К.Терещенко                6   \n",
       "1804                                         Е.Ковалева               12   \n",
       "1873  Мэри Пэт Бентел, Бен Бренд, Сиара Гиллан, Джор...               18   \n",
       "1898       Дэвид Бэррон, Саймон Кинберг, Эллисон Ширмур                6   \n",
       "2125                                 М.Косырев-Нестеров               16   \n",
       "2145                                             Ю.Кара                6   \n",
       "2437                           А.Котелевский, Э.Пичугин                6   \n",
       "2679                                          П.Поляков                6   \n",
       "3138                          С.Кикнавелидзе, Д.Улюкаев               16   \n",
       "3430                 Олег Головашкин, Алмас Султангазин               12   \n",
       "3438  М.Бэйкер, Д.Е.Брайан, П.-Л.Гарнон, М.Х.Дельгад...               18   \n",
       "3445  Д.Адар, Д.Амсон, П.Антохин, А.Армстронг, С.Бил...               18   \n",
       "3513        З.Магалашвили, К.Гечмен-Вальдек, Н.Горшкова               12   \n",
       "3584                              Д.Ловейко, О.Кузовков                0   \n",
       "3785                 Е.Тарковская, Т.Лагода, Д.Степанян               16   \n",
       "3947                                     Р.Атамалибеков               16   \n",
       "5331                        Закари Ти Брайан, Кристофер               18   \n",
       "5454                                          И.Бачурин               18   \n",
       "5820                                        Мани Хагиги               18   \n",
       "5909                                        Н.Мокрицкая               18   \n",
       "6425                                        В.Коханович               12   \n",
       "6615  Д.Руюежин, Л.Пятницкая, Д.Колеров, Э.Ким, А.Хомич               12   \n",
       "6736                                         Б.Куломзин                6   \n",
       "6881                               В.Есинов, Е.Калинина                0   \n",
       "7158                                           Ю.Грымов               16   \n",
       "7276         Ашок Амритрадж, Джейсон Блум, Трэвис Клафф               16   \n",
       "\n",
       "      refundable_support  nonrefundable_support        budget  \\\n",
       "259                  NaN                    NaN           NaN   \n",
       "811                  NaN                    NaN           NaN   \n",
       "1053                 NaN                    NaN           NaN   \n",
       "1341                 NaN                    NaN           NaN   \n",
       "1804                 NaN                    NaN           NaN   \n",
       "1873                 NaN                    NaN           NaN   \n",
       "1898                 NaN                    NaN           NaN   \n",
       "2125                 NaN                    NaN           NaN   \n",
       "2145                0.00          10,000,000.00 40,000,000.00   \n",
       "2437                 NaN                    NaN           NaN   \n",
       "2679                 NaN                    NaN           NaN   \n",
       "3138                0.00           4,700,000.00 14,462,464.00   \n",
       "3430                 NaN                    NaN           NaN   \n",
       "3438                 NaN                    NaN           NaN   \n",
       "3445                 NaN                    NaN           NaN   \n",
       "3513                 NaN                    NaN           NaN   \n",
       "3584                 NaN                    NaN           NaN   \n",
       "3785                 NaN                    NaN           NaN   \n",
       "3947                 NaN                    NaN           NaN   \n",
       "5331                 NaN                    NaN           NaN   \n",
       "5454                 NaN                    NaN           NaN   \n",
       "5820                 NaN                    NaN           NaN   \n",
       "5909                 NaN                    NaN           NaN   \n",
       "6425                 NaN                    NaN           NaN   \n",
       "6615                 NaN                    NaN           NaN   \n",
       "6736                 NaN                    NaN           NaN   \n",
       "6881                 NaN                    NaN           NaN   \n",
       "7158                 NaN                    NaN           NaN   \n",
       "7276                 NaN                    NaN           NaN   \n",
       "\n",
       "           financing_source ratings                       genres  \\\n",
       "259                     NaN     99%          ужасы,триллер,драма   \n",
       "811                     NaN     28%  детский,приключения,комедия   \n",
       "1053                    NaN     97%     ужасы,фантастика,фэнтези   \n",
       "1341                    NaN     99%       триллер,драма,детектив   \n",
       "1804                    NaN     99%       аниме,мультфильм,ужасы   \n",
       "1873                    NaN     83%                          NaN   \n",
       "1898                    NaN     64%     мюзикл,фэнтези,мелодрама   \n",
       "2125                    NaN     91%               драма,семейный   \n",
       "2145  Министерство культуры     94%    фантастика,боевик,комедия   \n",
       "2437                    NaN     62%             фэнтези,семейный   \n",
       "2679                    NaN     79%                     семейный   \n",
       "3138  Министерство культуры     90%                        драма   \n",
       "3430                    NaN     19%                      комедия   \n",
       "3438                    NaN     88%                          NaN   \n",
       "3445                    NaN     83%                          NaN   \n",
       "3513                    NaN     91%                        драма   \n",
       "3584                    NaN     97%     мультфильм,ужасы,фэнтези   \n",
       "3785                    NaN     89%    фантастика,комедия,боевик   \n",
       "3947                    NaN     97%  приключения,комедия,фэнтези   \n",
       "5331                    NaN     88%    фантастика,боевик,триллер   \n",
       "5454                    NaN     83%       фэнтези,боевик,триллер   \n",
       "5820                    NaN     94%                триллер,драма   \n",
       "5909                    NaN     94%                        драма   \n",
       "6425                    NaN     91%              драма,биография   \n",
       "6615                    NaN     98%            фантастика,боевик   \n",
       "6736                    NaN     98%          фэнтези,приключения   \n",
       "6881                    NaN     99%               криминал,драма   \n",
       "7158                    NaN     79%                        драма   \n",
       "7276                    NaN     88%    фантастика,боевик,триллер   \n",
       "\n",
       "         box_office  \n",
       "259             NaN  \n",
       "811        1,740.00  \n",
       "1053            NaN  \n",
       "1341            NaN  \n",
       "1804       4,295.00  \n",
       "1873   1,429,859.00  \n",
       "1898 528,732,557.70  \n",
       "2125           0.00  \n",
       "2145     334,750.00  \n",
       "2437            NaN  \n",
       "2679            NaN  \n",
       "3138     801,370.00  \n",
       "3430      37,960.00  \n",
       "3438   1,025,937.00  \n",
       "3445   2,266,408.00  \n",
       "3513            NaN  \n",
       "3584            NaN  \n",
       "3785      82,840.00  \n",
       "3947            NaN  \n",
       "5331            NaN  \n",
       "5454            NaN  \n",
       "5820   1,587,221.51  \n",
       "5909            NaN  \n",
       "6425            NaN  \n",
       "6615            NaN  \n",
       "6736      34,992.00  \n",
       "6881            NaN  \n",
       "7158     182,882.50  \n",
       "7276   4,416,590.45  "
      ]
     },
     "execution_count": 18,
     "metadata": {},
     "output_type": "execute_result"
    }
   ],
   "source": [
    "df[df.ratings.str.contains('%', na=False, regex=False)]"
   ]
  },
  {
   "cell_type": "code",
   "execution_count": 19,
   "metadata": {},
   "outputs": [],
   "source": [
    "df.loc[df.ratings.str.contains('%', na=False, regex=False), 'ratings'] = df[df.ratings.str.contains('%', na=False, regex=False)]['ratings'].str.rstrip('%').astype('float') / 10.0"
   ]
  },
  {
   "cell_type": "code",
   "execution_count": 20,
   "metadata": {},
   "outputs": [],
   "source": [
    "df['ratings'] = df['ratings'].astype('float')"
   ]
  },
  {
   "cell_type": "code",
   "execution_count": 21,
   "metadata": {},
   "outputs": [
    {
     "name": "stdout",
     "output_type": "stream",
     "text": [
      "<class 'pandas.core.frame.DataFrame'>\n",
      "Int64Index: 7485 entries, 0 to 7484\n",
      "Data columns (total 16 columns):\n",
      " #   Column                 Non-Null Count  Dtype         \n",
      "---  ------                 --------------  -----         \n",
      " 0   title                  7485 non-null   object        \n",
      " 1   pu_number              7485 non-null   int64         \n",
      " 2   show_start_date        7485 non-null   datetime64[ns]\n",
      " 3   type                   7485 non-null   object        \n",
      " 4   film_studio            7467 non-null   object        \n",
      " 5   production_country     7483 non-null   object        \n",
      " 6   director               7476 non-null   object        \n",
      " 7   producer               6917 non-null   object        \n",
      " 8   age_restriction        7485 non-null   int64         \n",
      " 9   refundable_support     332 non-null    float64       \n",
      " 10  nonrefundable_support  332 non-null    float64       \n",
      " 11  budget                 332 non-null    float64       \n",
      " 12  financing_source       332 non-null    object        \n",
      " 13  ratings                6519 non-null   float64       \n",
      " 14  genres                 6510 non-null   object        \n",
      " 15  box_office             3158 non-null   float64       \n",
      "dtypes: datetime64[ns](1), float64(5), int64(2), object(8)\n",
      "memory usage: 994.1+ KB\n"
     ]
    }
   ],
   "source": [
    "df.info()"
   ]
  },
  {
   "cell_type": "markdown",
   "metadata": {
    "id": "i0MOLbF-gFyP"
   },
   "source": [
    "#### Шаг 2.2. Изучите пропуски в датафрейме\n",
    "\n",
    "- Объясните, почему заполнили пропуски определённым образом или почему не стали этого делать."
   ]
  },
  {
   "cell_type": "code",
   "execution_count": 22,
   "metadata": {
    "id": "8MJD_lkngFyP"
   },
   "outputs": [
    {
     "data": {
      "text/plain": [
       "18"
      ]
     },
     "execution_count": 22,
     "metadata": {},
     "output_type": "execute_result"
    }
   ],
   "source": [
    "df['film_studio'].isna().sum()"
   ]
  },
  {
   "cell_type": "code",
   "execution_count": 23,
   "metadata": {},
   "outputs": [
    {
     "data": {
      "text/plain": [
       "2"
      ]
     },
     "execution_count": 23,
     "metadata": {},
     "output_type": "execute_result"
    }
   ],
   "source": [
    "df['production_country'].isna().sum()"
   ]
  },
  {
   "cell_type": "code",
   "execution_count": 24,
   "metadata": {},
   "outputs": [
    {
     "data": {
      "text/plain": [
       "9"
      ]
     },
     "execution_count": 24,
     "metadata": {},
     "output_type": "execute_result"
    }
   ],
   "source": [
    "df['director'].isna().sum()"
   ]
  },
  {
   "cell_type": "code",
   "execution_count": 25,
   "metadata": {},
   "outputs": [
    {
     "data": {
      "text/plain": [
       "568"
      ]
     },
     "execution_count": 25,
     "metadata": {},
     "output_type": "execute_result"
    }
   ],
   "source": [
    "df['producer'].isna().sum()"
   ]
  },
  {
   "cell_type": "markdown",
   "metadata": {},
   "source": [
    "Пропусков мало, это пропуски в категориальных данных - на мой взгляд, статистическими методами заполнять категориальные данные некорректно, можно их удалить."
   ]
  },
  {
   "cell_type": "code",
   "execution_count": 26,
   "metadata": {},
   "outputs": [
    {
     "name": "stdout",
     "output_type": "stream",
     "text": [
      "<class 'pandas.core.frame.DataFrame'>\n",
      "RangeIndex: 6894 entries, 0 to 6893\n",
      "Data columns (total 16 columns):\n",
      " #   Column                 Non-Null Count  Dtype         \n",
      "---  ------                 --------------  -----         \n",
      " 0   title                  6894 non-null   object        \n",
      " 1   pu_number              6894 non-null   int64         \n",
      " 2   show_start_date        6894 non-null   datetime64[ns]\n",
      " 3   type                   6894 non-null   object        \n",
      " 4   film_studio            6894 non-null   object        \n",
      " 5   production_country     6894 non-null   object        \n",
      " 6   director               6894 non-null   object        \n",
      " 7   producer               6894 non-null   object        \n",
      " 8   age_restriction        6894 non-null   int64         \n",
      " 9   refundable_support     330 non-null    float64       \n",
      " 10  nonrefundable_support  330 non-null    float64       \n",
      " 11  budget                 330 non-null    float64       \n",
      " 12  financing_source       330 non-null    object        \n",
      " 13  ratings                6034 non-null   float64       \n",
      " 14  genres                 6025 non-null   object        \n",
      " 15  box_office             3039 non-null   float64       \n",
      "dtypes: datetime64[ns](1), float64(5), int64(2), object(8)\n",
      "memory usage: 861.9+ KB\n"
     ]
    }
   ],
   "source": [
    "df = df[~df['film_studio'].isna()].reset_index(drop=True)\n",
    "df = df[~df['production_country'].isna()].reset_index(drop=True)\n",
    "df = df[~df['director'].isna()].reset_index(drop=True)\n",
    "df = df[~df['producer'].isna()].reset_index(drop=True)\n",
    "df.info()"
   ]
  },
  {
   "cell_type": "markdown",
   "metadata": {},
   "source": [
    "Данных в столбцах  refundable_support, nonrefundable_support, budget недостаточно, чтобы на их основе заполнять пропуски. Оставлю данные столбцы без изменений."
   ]
  },
  {
   "cell_type": "markdown",
   "metadata": {},
   "source": [
    "Пропуски в столбцах genres и financing_source заполню 'unknown'"
   ]
  },
  {
   "cell_type": "code",
   "execution_count": 27,
   "metadata": {},
   "outputs": [],
   "source": [
    "df['genres'] = df['genres'].fillna('unknown')\n",
    "df['financing_source'] = df['financing_source'].fillna('unknown')"
   ]
  },
  {
   "cell_type": "markdown",
   "metadata": {},
   "source": [
    "Столбцы ratings и box_office являются целевыми в данной выборке - по ним определяется, на сколько фильм успешный.<br><br>\n",
    "Считаю правильным решением оставить их без изменений."
   ]
  },
  {
   "cell_type": "code",
   "execution_count": 28,
   "metadata": {},
   "outputs": [
    {
     "data": {
      "text/plain": [
       "title                       0\n",
       "pu_number                   0\n",
       "show_start_date             0\n",
       "type                        0\n",
       "film_studio                 0\n",
       "production_country          0\n",
       "director                    0\n",
       "producer                    0\n",
       "age_restriction             0\n",
       "refundable_support       6564\n",
       "nonrefundable_support    6564\n",
       "budget                   6564\n",
       "financing_source            0\n",
       "ratings                   860\n",
       "genres                      0\n",
       "box_office               3855\n",
       "dtype: int64"
      ]
     },
     "execution_count": 28,
     "metadata": {},
     "output_type": "execute_result"
    }
   ],
   "source": [
    "df.isna().sum()"
   ]
  },
  {
   "cell_type": "markdown",
   "metadata": {},
   "source": [
    "Выясню, какой процент от первоначального размера датасета остался после обработки пропусков"
   ]
  },
  {
   "cell_type": "code",
   "execution_count": 29,
   "metadata": {},
   "outputs": [
    {
     "data": {
      "text/plain": [
       "92.09190488912637"
      ]
     },
     "execution_count": 29,
     "metadata": {},
     "output_type": "execute_result"
    }
   ],
   "source": [
    "df.shape[0] / df_size_start * 100"
   ]
  },
  {
   "cell_type": "markdown",
   "metadata": {},
   "source": [
    "Осталось 92%, данных достаточно для анализа"
   ]
  },
  {
   "cell_type": "markdown",
   "metadata": {
    "id": "4c6k1t9ygFyQ"
   },
   "source": [
    "#### Шаг 2.3. Изучите дубликаты в датафрейме\n",
    "- Проверьте, есть ли в данных дубликаты. Опишите причины, которые могли повлиять на появление дублей."
   ]
  },
  {
   "cell_type": "code",
   "execution_count": 30,
   "metadata": {
    "id": "aKck8RIdgFyQ"
   },
   "outputs": [
    {
     "data": {
      "text/plain": [
       "0"
      ]
     },
     "execution_count": 30,
     "metadata": {},
     "output_type": "execute_result"
    }
   ],
   "source": [
    "df.duplicated().sum()"
   ]
  },
  {
   "cell_type": "markdown",
   "metadata": {},
   "source": [
    "Явных дубликатов нет, проверю на неявные"
   ]
  },
  {
   "cell_type": "code",
   "execution_count": 31,
   "metadata": {},
   "outputs": [
    {
     "data": {
      "text/plain": [
       "4474"
      ]
     },
     "execution_count": 31,
     "metadata": {},
     "output_type": "execute_result"
    }
   ],
   "source": [
    "len(df['director'].unique())"
   ]
  },
  {
   "cell_type": "code",
   "execution_count": 32,
   "metadata": {},
   "outputs": [
    {
     "data": {
      "text/plain": [
       "6195"
      ]
     },
     "execution_count": 32,
     "metadata": {},
     "output_type": "execute_result"
    }
   ],
   "source": [
    "len(df['title'].unique())"
   ]
  },
  {
   "cell_type": "raw",
   "metadata": {},
   "source": [
    "Уникальных значений слишком много, чтобы отфильтровать неявные дубликаты. Приведу строки к нижнему регистру."
   ]
  },
  {
   "cell_type": "code",
   "execution_count": 33,
   "metadata": {},
   "outputs": [],
   "source": [
    "df['director'] = df['director'].str.lower()\n",
    "df['producer'] = df['producer'].str.lower()\n",
    "df['film_studio'] = df['film_studio'].str.lower()"
   ]
  },
  {
   "cell_type": "code",
   "execution_count": 34,
   "metadata": {},
   "outputs": [
    {
     "data": {
      "text/plain": [
       "4470"
      ]
     },
     "execution_count": 34,
     "metadata": {},
     "output_type": "execute_result"
    }
   ],
   "source": [
    "len(df['director'].unique())"
   ]
  },
  {
   "cell_type": "code",
   "execution_count": 35,
   "metadata": {},
   "outputs": [
    {
     "data": {
      "text/plain": [
       "6195"
      ]
     },
     "execution_count": 35,
     "metadata": {},
     "output_type": "execute_result"
    }
   ],
   "source": [
    "len(df['title'].unique())"
   ]
  },
  {
   "cell_type": "code",
   "execution_count": 36,
   "metadata": {},
   "outputs": [
    {
     "data": {
      "text/plain": [
       "674"
      ]
     },
     "execution_count": 36,
     "metadata": {},
     "output_type": "execute_result"
    }
   ],
   "source": [
    "df.duplicated(subset=['director', 'title']).sum()"
   ]
  },
  {
   "cell_type": "markdown",
   "metadata": {},
   "source": [
    "Наличие дубликатов по названию фильма и режиссера ни о чем не говорит. Один и тот же фильм мог несколько раз выходить в прокат. Нужно добавить соответствие по дате начала показа."
   ]
  },
  {
   "cell_type": "code",
   "execution_count": 38,
   "metadata": {},
   "outputs": [
    {
     "data": {
      "text/html": [
       "<div>\n",
       "<style scoped>\n",
       "    .dataframe tbody tr th:only-of-type {\n",
       "        vertical-align: middle;\n",
       "    }\n",
       "\n",
       "    .dataframe tbody tr th {\n",
       "        vertical-align: top;\n",
       "    }\n",
       "\n",
       "    .dataframe thead th {\n",
       "        text-align: right;\n",
       "    }\n",
       "</style>\n",
       "<table border=\"1\" class=\"dataframe\">\n",
       "  <thead>\n",
       "    <tr style=\"text-align: right;\">\n",
       "      <th></th>\n",
       "      <th>title</th>\n",
       "      <th>pu_number</th>\n",
       "      <th>show_start_date</th>\n",
       "      <th>type</th>\n",
       "      <th>film_studio</th>\n",
       "      <th>production_country</th>\n",
       "      <th>director</th>\n",
       "      <th>producer</th>\n",
       "      <th>age_restriction</th>\n",
       "      <th>refundable_support</th>\n",
       "      <th>nonrefundable_support</th>\n",
       "      <th>budget</th>\n",
       "      <th>financing_source</th>\n",
       "      <th>ratings</th>\n",
       "      <th>genres</th>\n",
       "      <th>box_office</th>\n",
       "    </tr>\n",
       "  </thead>\n",
       "  <tbody>\n",
       "    <tr>\n",
       "      <th>1059</th>\n",
       "      <td>Эпидемия_</td>\n",
       "      <td>221035513</td>\n",
       "      <td>2013-10-07 12:00:00</td>\n",
       "      <td>Художественный</td>\n",
       "      <td>морена фильм, ребелион террестр, а 3 медиа гру...</td>\n",
       "      <td>Испания - Франция</td>\n",
       "      <td>алекс пастор, давид пастор</td>\n",
       "      <td>мерседес гамеро, альберто марини, педро уриоль</td>\n",
       "      <td>16</td>\n",
       "      <td>NaN</td>\n",
       "      <td>NaN</td>\n",
       "      <td>NaN</td>\n",
       "      <td>unknown</td>\n",
       "      <td>7.20</td>\n",
       "      <td>драма,фантастика,триллер</td>\n",
       "      <td>NaN</td>\n",
       "    </tr>\n",
       "    <tr>\n",
       "      <th>1228</th>\n",
       "      <td>Оторвы</td>\n",
       "      <td>221013214</td>\n",
       "      <td>2014-04-07 12:00:00</td>\n",
       "      <td>Художественный</td>\n",
       "      <td>проминент пикчерз, ворлдвью интертейнмент, инд...</td>\n",
       "      <td>США</td>\n",
       "      <td>кристофер нельсон</td>\n",
       "      <td>молли коннерс, хезер рэй</td>\n",
       "      <td>16</td>\n",
       "      <td>NaN</td>\n",
       "      <td>NaN</td>\n",
       "      <td>NaN</td>\n",
       "      <td>unknown</td>\n",
       "      <td>3.50</td>\n",
       "      <td>комедия,приключения</td>\n",
       "      <td>NaN</td>\n",
       "    </tr>\n",
       "    <tr>\n",
       "      <th>1870</th>\n",
       "      <td>Последние пять лет.</td>\n",
       "      <td>121005715</td>\n",
       "      <td>2015-03-25 12:00:00</td>\n",
       "      <td>Художественный</td>\n",
       "      <td>гранд пикс интертейнмент, лаки манки пикчерз, ...</td>\n",
       "      <td>США</td>\n",
       "      <td>ричард лагравенес</td>\n",
       "      <td>джанет бреннер, лорен версель, курт дойтч, рич...</td>\n",
       "      <td>16</td>\n",
       "      <td>NaN</td>\n",
       "      <td>NaN</td>\n",
       "      <td>NaN</td>\n",
       "      <td>unknown</td>\n",
       "      <td>5.70</td>\n",
       "      <td>мюзикл,драма,мелодрама</td>\n",
       "      <td>52,495.00</td>\n",
       "    </tr>\n",
       "    <tr>\n",
       "      <th>2347</th>\n",
       "      <td>Пингвиненок Пороро: Большие гонки</td>\n",
       "      <td>124001915</td>\n",
       "      <td>2015-04-15 12:00:00</td>\n",
       "      <td>Анимационный</td>\n",
       "      <td>окон студиос, чина филм, симка интертейнмент, ...</td>\n",
       "      <td>Южная Корея - КНР</td>\n",
       "      <td>юнг куюн парк</td>\n",
       "      <td>иль хо ким, михал симка</td>\n",
       "      <td>0</td>\n",
       "      <td>NaN</td>\n",
       "      <td>NaN</td>\n",
       "      <td>NaN</td>\n",
       "      <td>unknown</td>\n",
       "      <td>5.20</td>\n",
       "      <td>мультфильм,семейный,спорт</td>\n",
       "      <td>14,152,495.90</td>\n",
       "    </tr>\n",
       "    <tr>\n",
       "      <th>2680</th>\n",
       "      <td>Анархисты</td>\n",
       "      <td>121002316</td>\n",
       "      <td>2016-02-03 12:00:00</td>\n",
       "      <td>Художественный</td>\n",
       "      <td>24 май продюксьон, франс 2 синема</td>\n",
       "      <td>Франция</td>\n",
       "      <td>эли важеман</td>\n",
       "      <td>лола гэнс</td>\n",
       "      <td>16</td>\n",
       "      <td>NaN</td>\n",
       "      <td>NaN</td>\n",
       "      <td>NaN</td>\n",
       "      <td>unknown</td>\n",
       "      <td>5.70</td>\n",
       "      <td>драма</td>\n",
       "      <td>332,371.00</td>\n",
       "    </tr>\n",
       "    <tr>\n",
       "      <th>3591</th>\n",
       "      <td>Бугай</td>\n",
       "      <td>124001210</td>\n",
       "      <td>2010-09-24 12:00:00</td>\n",
       "      <td>Анимационный</td>\n",
       "      <td>иллюзион студиос, процесо</td>\n",
       "      <td>Мексика-Аргентина</td>\n",
       "      <td>густаво кова</td>\n",
       "      <td>хуго е. лаура, хосе луис масса</td>\n",
       "      <td>16</td>\n",
       "      <td>NaN</td>\n",
       "      <td>NaN</td>\n",
       "      <td>NaN</td>\n",
       "      <td>unknown</td>\n",
       "      <td>6.60</td>\n",
       "      <td>мультфильм,боевик,триллер</td>\n",
       "      <td>NaN</td>\n",
       "    </tr>\n",
       "    <tr>\n",
       "      <th>5880</th>\n",
       "      <td>Зоя</td>\n",
       "      <td>111022718</td>\n",
       "      <td>2018-11-25 12:00:00</td>\n",
       "      <td>Художественный</td>\n",
       "      <td>тарханова юлия олеговна</td>\n",
       "      <td>Россия</td>\n",
       "      <td>о.товма</td>\n",
       "      <td>ю.тарханова</td>\n",
       "      <td>16</td>\n",
       "      <td>NaN</td>\n",
       "      <td>NaN</td>\n",
       "      <td>NaN</td>\n",
       "      <td>unknown</td>\n",
       "      <td>3.90</td>\n",
       "      <td>история,биография,военный</td>\n",
       "      <td>NaN</td>\n",
       "    </tr>\n",
       "  </tbody>\n",
       "</table>\n",
       "</div>"
      ],
      "text/plain": [
       "                                  title  pu_number     show_start_date  \\\n",
       "1059                          Эпидемия_  221035513 2013-10-07 12:00:00   \n",
       "1228                             Оторвы  221013214 2014-04-07 12:00:00   \n",
       "1870                Последние пять лет.  121005715 2015-03-25 12:00:00   \n",
       "2347  Пингвиненок Пороро: Большие гонки  124001915 2015-04-15 12:00:00   \n",
       "2680                          Анархисты  121002316 2016-02-03 12:00:00   \n",
       "3591                              Бугай  124001210 2010-09-24 12:00:00   \n",
       "5880                                Зоя  111022718 2018-11-25 12:00:00   \n",
       "\n",
       "                 type                                        film_studio  \\\n",
       "1059   Художественный  морена фильм, ребелион террестр, а 3 медиа гру...   \n",
       "1228   Художественный  проминент пикчерз, ворлдвью интертейнмент, инд...   \n",
       "1870   Художественный  гранд пикс интертейнмент, лаки манки пикчерз, ...   \n",
       "2347     Анимационный  окон студиос, чина филм, симка интертейнмент, ...   \n",
       "2680   Художественный                  24 май продюксьон, франс 2 синема   \n",
       "3591     Анимационный                          иллюзион студиос, процесо   \n",
       "5880   Художественный                            тарханова юлия олеговна   \n",
       "\n",
       "     production_country                    director  \\\n",
       "1059  Испания - Франция  алекс пастор, давид пастор   \n",
       "1228                США           кристофер нельсон   \n",
       "1870                США           ричард лагравенес   \n",
       "2347  Южная Корея - КНР               юнг куюн парк   \n",
       "2680            Франция                 эли важеман   \n",
       "3591  Мексика-Аргентина                густаво кова   \n",
       "5880             Россия                     о.товма   \n",
       "\n",
       "                                               producer  age_restriction  \\\n",
       "1059     мерседес гамеро, альберто марини, педро уриоль               16   \n",
       "1228                           молли коннерс, хезер рэй               16   \n",
       "1870  джанет бреннер, лорен версель, курт дойтч, рич...               16   \n",
       "2347                            иль хо ким, михал симка                0   \n",
       "2680                                          лола гэнс               16   \n",
       "3591                     хуго е. лаура, хосе луис масса               16   \n",
       "5880                                        ю.тарханова               16   \n",
       "\n",
       "      refundable_support  nonrefundable_support  budget financing_source  \\\n",
       "1059                 NaN                    NaN     NaN          unknown   \n",
       "1228                 NaN                    NaN     NaN          unknown   \n",
       "1870                 NaN                    NaN     NaN          unknown   \n",
       "2347                 NaN                    NaN     NaN          unknown   \n",
       "2680                 NaN                    NaN     NaN          unknown   \n",
       "3591                 NaN                    NaN     NaN          unknown   \n",
       "5880                 NaN                    NaN     NaN          unknown   \n",
       "\n",
       "      ratings                     genres    box_office  \n",
       "1059     7.20   драма,фантастика,триллер           NaN  \n",
       "1228     3.50        комедия,приключения           NaN  \n",
       "1870     5.70     мюзикл,драма,мелодрама     52,495.00  \n",
       "2347     5.20  мультфильм,семейный,спорт 14,152,495.90  \n",
       "2680     5.70                      драма    332,371.00  \n",
       "3591     6.60  мультфильм,боевик,триллер           NaN  \n",
       "5880     3.90  история,биография,военный           NaN  "
      ]
     },
     "execution_count": 38,
     "metadata": {},
     "output_type": "execute_result"
    }
   ],
   "source": [
    "df[df.duplicated(subset=['director', 'title', 'show_start_date'])]"
   ]
  },
  {
   "cell_type": "markdown",
   "metadata": {},
   "source": [
    "Удалю данные строки"
   ]
  },
  {
   "cell_type": "code",
   "execution_count": 39,
   "metadata": {},
   "outputs": [
    {
     "data": {
      "text/plain": [
       "(6887, 16)"
      ]
     },
     "execution_count": 39,
     "metadata": {},
     "output_type": "execute_result"
    }
   ],
   "source": [
    "df = df[~df.duplicated(subset=['director', 'title', 'show_start_date'])]\n",
    "df.shape"
   ]
  },
  {
   "cell_type": "markdown",
   "metadata": {
    "id": "52fOPrEBgFyQ"
   },
   "source": [
    "\n",
    "#### Шаг 2.4. Изучите категориальные значения\n",
    "\n",
    "- Посмотрите, какая общая проблема встречается почти во всех категориальных столбцах;\n",
    "- Исправьте проблемные значения в поле `type`.\n",
    "\n",
    "<div id=\"accordion\">\n",
    "    <div class=\"card\">\n",
    "        <div class=\"card-header\" id=\"headingThree\">\n",
    "            <button class=\"btn btn-link collapsed\" data-toggle=\"collapse\" data-target=\"#collapseHint_1\" aria-expanded=\"false\" aria-controls=\"collapseHint_1\">Подсказка</button>\n",
    "        </div>\n",
    "        <div id=\"collapseHint_1\" class=\"collapse\" aria-labelledby=\"headingThree\" data-parent=\"#accordion\">\n",
    "            <div class=\"card-body\">\n",
    "В поле <code>type</code> есть несколько значений, у которых появился пробел в начале строки. Самый простой способ их «починить» -- использовать метод <a href=\"https://pandas.pydata.org/docs/reference/api/pandas.Series.str.strip.html#pandas.Series.str.strip\">.str.strip</a>. Этот метод удаляет все пробелы, которые встречаются в начале и в конце строки. Применяют его таким образом:<br>\n",
    "<code>df['type'].str.strip()</code>\n",
    "            </div>\n",
    "        </div>\n",
    "    </div>\n",
    "</div>"
   ]
  },
  {
   "cell_type": "code",
   "execution_count": 40,
   "metadata": {
    "id": "PnXKIVdFgFyR"
   },
   "outputs": [
    {
     "data": {
      "text/plain": [
       "array(['Художественный', 'Анимационный', 'Прочие', 'Документальный',\n",
       "       'Научно-популярный', ' Художественный', ' Анимационный',\n",
       "       'Музыкально-развлекательный'], dtype=object)"
      ]
     },
     "execution_count": 40,
     "metadata": {},
     "output_type": "execute_result"
    }
   ],
   "source": [
    "df['type'].unique()"
   ]
  },
  {
   "cell_type": "markdown",
   "metadata": {},
   "source": [
    "В столбце есть неявные дубликаты, избавимся от них"
   ]
  },
  {
   "cell_type": "code",
   "execution_count": 41,
   "metadata": {},
   "outputs": [
    {
     "data": {
      "text/plain": [
       "array(['Художественный', 'Анимационный', 'Прочие', 'Документальный',\n",
       "       'Научно-популярный', 'Музыкально-развлекательный'], dtype=object)"
      ]
     },
     "execution_count": 41,
     "metadata": {},
     "output_type": "execute_result"
    }
   ],
   "source": [
    "df['type'] = df['type'].str.strip()\n",
    "df['type'].unique()"
   ]
  },
  {
   "cell_type": "code",
   "execution_count": 42,
   "metadata": {},
   "outputs": [
    {
     "data": {
      "text/plain": [
       "array([18, 16, 12,  0,  6])"
      ]
     },
     "execution_count": 42,
     "metadata": {},
     "output_type": "execute_result"
    }
   ],
   "source": [
    "df['age_restriction'].unique()"
   ]
  },
  {
   "cell_type": "markdown",
   "metadata": {},
   "source": [
    "С возрастными категориями все в порядке."
   ]
  },
  {
   "cell_type": "code",
   "execution_count": 43,
   "metadata": {},
   "outputs": [
    {
     "data": {
      "text/plain": [
       "array(['unknown', 'министерство культуры', 'фонд кино',\n",
       "       'министерство культуры, фонд кино'], dtype=object)"
      ]
     },
     "execution_count": 43,
     "metadata": {},
     "output_type": "execute_result"
    }
   ],
   "source": [
    "df['financing_source'] = df['financing_source'].str.lower()\n",
    "df['financing_source'].unique()"
   ]
  },
  {
   "cell_type": "markdown",
   "metadata": {},
   "source": [
    "Данные об источнике гос. финансирования корректные."
   ]
  },
  {
   "cell_type": "code",
   "execution_count": 44,
   "metadata": {},
   "outputs": [
    {
     "data": {
      "text/plain": [
       "array(['боевик,драма,мелодрама', 'фантастика,боевик,триллер',\n",
       "       'мюзикл,мелодрама,комедия', 'комедия,криминал',\n",
       "       'боевик,триллер,детектив', 'драма,спорт',\n",
       "       'триллер,драма,мелодрама', 'комедия,мелодрама',\n",
       "       'драма,мелодрама,семейный', 'боевик,драма,криминал',\n",
       "       'ужасы,фантастика,комедия', 'мультфильм,фантастика,фэнтези',\n",
       "       'триллер,драма,криминал', 'драма,мелодрама,биография',\n",
       "       'драма,комедия,военный', 'фантастика,драма,детектив',\n",
       "       'мелодрама,комедия', 'драма,мелодрама,комедия', 'unknown',\n",
       "       'боевик,триллер,драма', 'боевик,комедия,криминал',\n",
       "       'комедия,мелодрама,драма', 'мультфильм,фэнтези,комедия',\n",
       "       'драма,мелодрама,военный', 'мультфильм,приключения,семейный',\n",
       "       'мультфильм,драма,комедия', 'драма,мелодрама', 'триллер,криминал',\n",
       "       'военный,биография,драма', 'драма,семейный,биография',\n",
       "       'фэнтези,приключения,семейный', 'драма,криминал,биография',\n",
       "       'боевик,история,драма', 'драма,биография,история',\n",
       "       'ужасы,триллер,драма', 'драма,криминал,спорт',\n",
       "       'документальный,короткометражка', 'триллер,драма', 'ужасы,триллер',\n",
       "       'драма', 'драма,мелодрама,детектив', 'фэнтези,мелодрама,драма',\n",
       "       'фэнтези,драма,мелодрама', 'драма,комедия',\n",
       "       'мультфильм,короткометражка,ужасы', 'фантастика,триллер,драма',\n",
       "       'фэнтези,мелодрама,комедия', 'ужасы,фантастика,боевик',\n",
       "       'боевик,триллер,приключения', 'комедия', 'драма,музыка',\n",
       "       'драма,биография', 'триллер,драма,приключения',\n",
       "       'триллер,драма,детектив', 'драма,криминал',\n",
       "       'триллер,детектив,драма', 'боевик,триллер,мелодрама',\n",
       "       'драма,комедия,приключения', 'фэнтези,комедия,приключения',\n",
       "       'драма,вестерн', 'триллер,криминал,детектив', 'ужасы',\n",
       "       'боевик,комедия,приключения', 'мультфильм,фэнтези,боевик',\n",
       "       'боевик,фэнтези,драма', 'фэнтези,боевик,комедия', 'документальный',\n",
       "       'боевик,триллер,комедия', 'мелодрама,комедия,криминал',\n",
       "       'драма,детектив', 'мюзикл,ужасы,триллер', 'детектив,триллер,ужасы',\n",
       "       'боевик,триллер,криминал', 'ужасы,фэнтези',\n",
       "       'ужасы,фэнтези,триллер', 'мультфильм,драма',\n",
       "       'ужасы,боевик,фантастика', 'фантастика,боевик',\n",
       "       'мелодрама,комедия,приключения', 'триллер,детектив',\n",
       "       'мюзикл,мелодрама,фэнтези', 'триллер,комедия,криминал',\n",
       "       'ужасы,триллер,детектив', 'боевик,драма,приключения',\n",
       "       'боевик,приключения,триллер', 'триллер,драма,военный',\n",
       "       'комедия,семейный,музыка', 'фантастика,триллер,криминал',\n",
       "       'ужасы,фантастика,триллер', 'фантастика,драма,мелодрама',\n",
       "       'фэнтези,драма,детектив', 'боевик,триллер', 'боевик,драма,история',\n",
       "       'мультфильм,мюзикл,фэнтези', 'для взрослых,драма,мелодрама',\n",
       "       'мультфильм,боевик,детектив', 'фантастика,мелодрама,боевик',\n",
       "       'ужасы,фантастика,детектив', 'фантастика,боевик,приключения',\n",
       "       'аниме,мультфильм,фэнтези', 'мелодрама,комедия,спорт',\n",
       "       'комедия,боевик,приключения', 'документальный,приключения',\n",
       "       'драма,комедия,криминал', 'мультфильм,короткометражка,детский',\n",
       "       'фэнтези,драма', 'комедия,приключения', 'ужасы,драма',\n",
       "       'ужасы,фэнтези,боевик', 'мультфильм,фэнтези,детский',\n",
       "       'мюзикл,боевик,драма', 'семейный,комедия,драма', 'концерт,музыка',\n",
       "       'фэнтези,боевик,драма', 'драма,комедия,музыка',\n",
       "       'фантастика,фэнтези,боевик', 'драма,военный',\n",
       "       'фэнтези,комедия,семейный', 'фэнтези,драма,комедия',\n",
       "       'мультфильм,мюзикл,драма', 'триллер', 'боевик,драма',\n",
       "       'комедия,семейный', 'боевик,криминал,триллер',\n",
       "       'мультфильм,приключения,драма', 'мелодрама,музыка',\n",
       "       'боевик,драма,военный', 'мультфильм,семейный',\n",
       "       'мультфильм,комедия,приключения', 'мультфильм,комедия,семейный',\n",
       "       'фантастика,драма', 'фэнтези,боевик,приключения',\n",
       "       'мультфильм,приключения', 'драма,военный,история',\n",
       "       'драма,мелодрама,история', 'история', 'драма,приключения,военный',\n",
       "       'документальный,короткометражка,семейный',\n",
       "       'мелодрама,история,триллер', 'ужасы,детектив',\n",
       "       'мюзикл,комедия,приключения', 'драма,спорт,биография',\n",
       "       'фантастика,боевик,комедия', 'фантастика,приключения,детектив',\n",
       "       'короткометражка,драма,военный', 'мюзикл,драма,мелодрама',\n",
       "       'драма,военный,биография', 'драма,мультфильм',\n",
       "       'приключения,семейный', 'детектив', 'триллер,приключения',\n",
       "       'аниме,мультфильм,боевик', 'драма,комедия,биография',\n",
       "       'драма,комедия,спорт', 'боевик,мелодрама,комедия',\n",
       "       'семейный,комедия', 'фэнтези,боевик,триллер',\n",
       "       'документальный,фэнтези,семейный', 'фантастика,фэнтези,драма',\n",
       "       'ужасы,комедия,фэнтези', 'документальный,биография,музыка',\n",
       "       'фантастика,боевик,фэнтези', 'ужасы,боевик,триллер',\n",
       "       'комедия,криминал,семейный', 'приключения,драма',\n",
       "       'криминал,драма,триллер', 'драма,детектив,криминал', 'мелодрама',\n",
       "       'фэнтези,приключения,комедия', 'комедия,спорт',\n",
       "       'мюзикл,фэнтези,мелодрама', 'мультфильм,фэнтези,приключения',\n",
       "       'фантастика,фэнтези,приключения', 'фэнтези',\n",
       "       'фэнтези,приключения,боевик', 'фантастика,боевик,драма',\n",
       "       'криминал,драма', 'криминал,триллер,драма',\n",
       "       'документальный,музыка', 'приключения',\n",
       "       'драма,мелодрама,приключения', 'детский,комедия',\n",
       "       'фантастика,драма,боевик', 'концерт,музыка,документальный',\n",
       "       'ужасы,комедия,приключения', 'драма,мелодрама,криминал',\n",
       "       'ужасы,фантастика,фэнтези', 'боевик,приключения', 'боевик,комедия',\n",
       "       'мультфильм,фантастика,комедия', 'триллер,ужасы',\n",
       "       'мультфильм,мюзикл,комедия', 'мелодрама,фэнтези,триллер',\n",
       "       'детский,приключения,комедия', 'комедия,детектив',\n",
       "       'аниме,мультфильм,мелодрама', 'документальный,драма,семейный',\n",
       "       'документальный,биография,история', 'военный,боевик,драма',\n",
       "       'ужасы,комедия', 'комедия,драма', 'комедия,приключения,семейный',\n",
       "       'приключения,биография,история', 'детский,приключения,семейный',\n",
       "       'спорт,драма,биография', 'аниме,мультфильм,ужасы',\n",
       "       'фантастика,боевик,криминал', 'мюзикл,драма',\n",
       "       'драма,криминал,детектив', 'мелодрама,драма',\n",
       "       'аниме,мультфильм,драма', 'драма,история',\n",
       "       'драма,триллер,приключения', 'триллер,криминал,драма',\n",
       "       'фэнтези,комедия,драма', 'мультфильм,комедия',\n",
       "       'драма,комедия,история', 'комедия,биография,история',\n",
       "       'мультфильм,фантастика,приключения', 'аниме,мультфильм,фантастика',\n",
       "       'документальный,драма', 'мультфильм,фэнтези,семейный',\n",
       "       'мультфильм,боевик,комедия', 'комедия,криминал,спорт',\n",
       "       'документальный,мюзикл', 'мелодрама,комедия,музыка', 'биография',\n",
       "       'триллер,криминал,комедия', 'фантастика,драма,комедия',\n",
       "       'комедия,драма,мелодрама', 'фантастика,приключения,боевик',\n",
       "       'мультфильм,фэнтези,драма', 'триллер,комедия',\n",
       "       'драма,приключения,биография', 'фантастика,комедия',\n",
       "       'мелодрама,драма,комедия', 'боевик,криминал',\n",
       "       'драма,криминал,боевик', 'мультфильм,мюзикл,детский',\n",
       "       'драма,фэнтези', 'документальный,семейный',\n",
       "       'фэнтези,драма,приключения', 'ужасы,комедия,фантастика',\n",
       "       'драма,мелодрама,музыка', 'фэнтези,драма,семейный',\n",
       "       'триллер,мелодрама,драма', 'вестерн,боевик,драма',\n",
       "       'мультфильм,короткометражка,комедия', 'триллер,драма,история',\n",
       "       'ужасы,фантастика', 'мультфильм,короткометражка,мелодрама',\n",
       "       'ужасы,мелодрама,комедия', 'фэнтези,приключения',\n",
       "       'фантастика,триллер', 'ужасы,боевик,фэнтези',\n",
       "       'мультфильм,комедия,детский', 'триллер,драма,биография',\n",
       "       'мультфильм,ужасы,фэнтези', 'мультфильм,ужасы,фантастика',\n",
       "       'ужасы,боевик,комедия', 'драма,боевик', 'драма,биография,спорт',\n",
       "       'мультфильм', 'мелодрама,комедия,драма',\n",
       "       'приключения,фантастика,семейный', 'комедия,криминал,детектив',\n",
       "       'ужасы,триллер,комедия', 'криминал,комедия,триллер',\n",
       "       'семейный,приключения,комедия', 'мультфильм,драма,приключения',\n",
       "       'ужасы,драма,детектив', 'драма,приключения,фэнтези',\n",
       "       'фантастика,мультфильм,драма', 'драма,триллер,детектив', 'детский',\n",
       "       'триллер,боевик,криминал', 'драма,фантастика',\n",
       "       'комедия,драма,семейный', 'боевик,драма,комедия', 'комедия,ужасы',\n",
       "       'драма,фантастика,триллер', 'фантастика,драма,триллер',\n",
       "       'история,спорт,драма', 'документальный,биография',\n",
       "       'биография,история', 'спорт,драма', 'боевик,фэнтези',\n",
       "       'мультфильм,фэнтези', 'документальный,комедия,история',\n",
       "       'фантастика,комедия,приключения', 'криминал,комедия,боевик',\n",
       "       'фэнтези,приключения,драма', 'музыка,концерт',\n",
       "       'триллер,драма,боевик', 'комедия,криминал,боевик',\n",
       "       'комедия,фантастика,боевик', 'вестерн,приключения,боевик',\n",
       "       'аниме,мультфильм,комедия', 'детектив,криминал,триллер',\n",
       "       'мультфильм,комедия,криминал', 'комедия,приключения,детектив',\n",
       "       'мелодрама,фантастика,драма', 'драма,комедия,семейный',\n",
       "       'приключения,фантастика', 'триллер,детектив,ужасы',\n",
       "       'комедия,приключения,фэнтези', 'фэнтези,триллер,драма',\n",
       "       'мелодрама,приключения,боевик', 'детектив,триллер,криминал',\n",
       "       'фэнтези,семейный,мелодрама', 'военный,драма',\n",
       "       'документальный,приключения,семейный', 'криминал,комедия,драма',\n",
       "       'комедия,фантастика', 'история,биография,драма',\n",
       "       'мелодрама,драма,музыка', 'боевик,мелодрама', 'военный',\n",
       "       'комедия,криминал,триллер', 'детектив,триллер,боевик',\n",
       "       'комедия,боевик,криминал', 'комедия,вестерн',\n",
       "       'детский,мелодрама,семейный', 'короткометражка,мультфильм',\n",
       "       'комедия,фэнтези', 'фантастика,драма,ужасы', 'триллер,драма,ужасы',\n",
       "       'драма,фэнтези,история', 'комедия,драма,короткометражка',\n",
       "       'семейный', 'комедия,криминал,драма', 'комедия,фэнтези,ужасы',\n",
       "       'фэнтези,триллер,приключения', 'триллер,ужасы,драма',\n",
       "       'мелодрама,драма,фэнтези', 'фантастика,приключения,драма',\n",
       "       'боевик,детектив', 'военный,драма,боевик',\n",
       "       'комедия,мелодрама,фэнтези', 'вестерн,криминал,триллер',\n",
       "       'драма,история,триллер', 'мультфильм,фантастика,боевик',\n",
       "       'детектив,драма,криминал', 'приключения,история,драма',\n",
       "       'мультфильм,семейный,детский', 'биография,драма,история',\n",
       "       'триллер,криминал,боевик', 'история,мелодрама',\n",
       "       'приключения,боевик', 'приключения,детский',\n",
       "       'музыка,приключения,концерт', 'военный,драма,комедия',\n",
       "       'фэнтези,боевик,военный', 'фантастика,детектив,боевик',\n",
       "       'мультфильм,фэнтези,история', 'биография,мелодрама,драма',\n",
       "       'драма,биография,музыка', 'документальный,биография,спорт',\n",
       "       'фантастика,комедия,детектив', 'музыка,концерт,документальный',\n",
       "       'триллер,боевик,приключения', 'драма,семейный',\n",
       "       'триллер,драма,комедия', 'детектив,криминал',\n",
       "       'мультфильм,приключения,фэнтези', 'комедия,музыка',\n",
       "       'мелодрама,комедия,ужасы', 'драма,криминал,фантастика',\n",
       "       'фэнтези,драма,биография', 'документальный,военный,история',\n",
       "       'фантастика', 'детектив,фантастика,криминал',\n",
       "       'триллер,драма,фантастика', 'ужасы,комедия,боевик',\n",
       "       'триллер,боевик', 'фильм-нуар,триллер,детектив',\n",
       "       'ужасы,триллер,мелодрама', 'военный,драма,история',\n",
       "       'драма,спорт,история', 'документальный,драма,история',\n",
       "       'триллер,мелодрама,детектив', 'детский,семейный',\n",
       "       'мюзикл,семейный,драма', 'биография,военный,драма',\n",
       "       'мультфильм,детский', 'боевик,криминал,драма',\n",
       "       'детектив,фэнтези,триллер', 'драма,боевик,приключения',\n",
       "       'драма,мелодрама,фэнтези', 'детектив,история,драма',\n",
       "       'фэнтези,боевик,ужасы', 'ужасы,фэнтези,мелодрама',\n",
       "       'ужасы,приключения', 'боевик,фантастика',\n",
       "       'ужасы,мелодрама,детектив', 'мелодрама,приключения',\n",
       "       'фантастика,триллер,приключения', 'приключения,боевик,триллер',\n",
       "       'детектив,ужасы,криминал', 'семейный,фэнтези',\n",
       "       'фантастика,драма,приключения', 'криминал',\n",
       "       'приключения,семейный,драма', 'история,драма,боевик',\n",
       "       'мультфильм,приключения,комедия', 'криминал,драма,комедия',\n",
       "       'ужасы,комедия,драма', 'комедия,семейный,приключения',\n",
       "       'мюзикл,фэнтези,драма', 'драма,вестерн,боевик',\n",
       "       'драма,история,детектив', 'фэнтези,семейный',\n",
       "       'мультфильм,приключения,фантастика', 'комедия,триллер',\n",
       "       'мультфильм,приключения,детектив', 'драма,триллер',\n",
       "       'ужасы,триллер,криминал', 'документальный,криминал,военный',\n",
       "       'ужасы,фэнтези,драма', 'фэнтези,комедия', 'ужасы,фэнтези,комедия',\n",
       "       'комедия,музыка,драма', 'мультфильм,приключения,военный',\n",
       "       'мюзикл,фэнтези,комедия', 'боевик,фантастика,приключения',\n",
       "       'триллер,ужасы,криминал', 'ужасы,фантастика,драма',\n",
       "       'фантастика,приключения,семейный', 'короткометражка,музыка',\n",
       "       'мелодрама,детектив,комедия', 'документальный,триллер,биография',\n",
       "       'боевик,фантастика,триллер', 'драма,криминал,приключения',\n",
       "       'спорт,драма,комедия', 'фэнтези,мелодрама,приключения',\n",
       "       'триллер,детектив,криминал', 'мелодрама,криминал',\n",
       "       'мультфильм,семейный,спорт', 'комедия,фэнтези,мелодрама',\n",
       "       'драма,спорт,комедия', 'история,драма,мелодрама',\n",
       "       'драма,боевик,криминал', 'драма,комедия,триллер',\n",
       "       'аниме,мультфильм', 'документальный,ужасы',\n",
       "       'мультфильм,короткометражка', 'драма,история,военный',\n",
       "       'мультфильм,короткометражка,фэнтези', 'комедия,военный,музыка',\n",
       "       'биография,история,драма', 'ужасы,драма,мелодрама',\n",
       "       'драма,комедия,детектив', 'комедия,семейный,фантастика',\n",
       "       'мультфильм,семейный,комедия', 'боевик', 'история,детектив',\n",
       "       'приключения,мелодрама,детектив', 'мюзикл,комедия,мелодрама',\n",
       "       'драма,фантастика,ужасы', 'мультфильм,ужасы,комедия',\n",
       "       'для взрослых,драма,комедия', 'ужасы,комедия,музыка',\n",
       "       'комедия,история,драма', 'семейный,детектив,детский',\n",
       "       'короткометражка,драма', 'документальный,новости,драма',\n",
       "       'триллер,мелодрама', 'ужасы,драма,вестерн',\n",
       "       'мюзикл,фэнтези,семейный', 'вестерн,драма,триллер',\n",
       "       'приключения,вестерн,боевик', 'семейный,комедия,музыка',\n",
       "       'боевик,драма,вестерн', 'фантастика,мелодрама',\n",
       "       'комедия,криминал,биография', 'семейный,мультфильм,комедия',\n",
       "       'комедия,драма,криминал', 'фантастика,боевик,военный',\n",
       "       'приключения,биография,драма', 'приключения,триллер,биография',\n",
       "       'криминал,боевик,триллер', 'боевик,вестерн,приключения',\n",
       "       'история,драма', 'фантастика,фэнтези,комедия',\n",
       "       'мультфильм,детский,комедия', 'мелодрама,комедия,триллер',\n",
       "       'документальный,боевик,приключения', 'драма,приключения',\n",
       "       'мелодрама,военный,драма', 'триллер,фэнтези',\n",
       "       'драма,триллер,биография', 'фэнтези,боевик,семейный',\n",
       "       'фантастика,триллер,комедия', 'документальный,фэнтези',\n",
       "       'комедия,мультфильм,фантастика', 'криминал,биография,комедия',\n",
       "       'биография,спорт,драма', 'мультфильм,семейный,драма',\n",
       "       'документальный,фэнтези,драма', 'комедия,боевик,фантастика',\n",
       "       'семейный,приключения,военный', 'триллер,ужасы,детектив',\n",
       "       'фэнтези,боевик', 'короткометражка', 'мелодрама,триллер,история',\n",
       "       'документальный,история', 'мультфильм,приключения,детский',\n",
       "       'драма,комедия,мультфильм', 'военный,детектив',\n",
       "       'семейный,приключения,документальный', 'детский,фэнтези',\n",
       "       'документальный,комедия', 'комедия,биография', 'криминал,комедия',\n",
       "       'спорт,мелодрама,криминал', 'фантастика,комедия,боевик',\n",
       "       'боевик,приключения,детектив', 'детектив,триллер,драма',\n",
       "       'документальный,фантастика', 'мелодрама,комедия,семейный',\n",
       "       'мультфильм,мелодрама,комедия', 'комедия,криминал,приключения',\n",
       "       'драма,спорт,семейный', 'фантастика,мелодрама,фэнтези',\n",
       "       'мюзикл,комедия,музыка', 'фантастика,триллер,мелодрама',\n",
       "       'приключения,комедия,фэнтези', 'фэнтези,боевик,детектив',\n",
       "       'фэнтези,боевик,мелодрама', 'комедия,военный',\n",
       "       'драма,спорт,боевик', 'мультфильм,боевик,триллер',\n",
       "       'мелодрама,семейный', 'фантастика,боевик,детектив',\n",
       "       'драма,приключения,история', 'документальный,драма,музыка',\n",
       "       'фантастика,триллер,боевик', 'фэнтези,боевик,вестерн',\n",
       "       'драма,комедия,мелодрама', 'ужасы,фэнтези,приключения',\n",
       "       'триллер,фэнтези,драма', 'мультфильм,мюзикл,мелодрама',\n",
       "       'ужасы,триллер,фантастика', 'триллер,мелодрама,комедия',\n",
       "       'фантастика,триллер,детектив', 'ужасы,комедия,семейный',\n",
       "       'приключения,история', 'комедия,приключения,музыка',\n",
       "       'документальный,комедия,криминал', 'мелодрама,детектив',\n",
       "       'детский,приключения,фантастика', 'короткометражка,боевик,драма',\n",
       "       'боевик,комедия,семейный', 'фантастика,боевик,мелодрама',\n",
       "       'фэнтези,триллер,мелодрама', 'драма,детектив,история',\n",
       "       'боевик,криминал,детектив', 'мультфильм,фэнтези,мелодрама',\n",
       "       'мелодрама,драма,боевик', 'драма,вестерн,приключения',\n",
       "       'драма,приключения,мелодрама', 'фэнтези,боевик,криминал',\n",
       "       'фантастика,комедия,семейный', 'детский,фэнтези,приключения',\n",
       "       'ужасы,боевик', 'фантастика,мелодрама,комедия',\n",
       "       'семейный,спорт,боевик', 'триллер,биография,драма',\n",
       "       'ужасы,драма,комедия', 'мультфильм,фэнтези,триллер', 'мюзикл',\n",
       "       'боевик,спорт,драма', 'комедия,приключения,вестерн',\n",
       "       'мелодрама,биография', 'документальный,ужасы,боевик',\n",
       "       'фантастика,боевик,семейный', 'военный,история',\n",
       "       'ужасы,боевик,криминал', 'детектив,триллер',\n",
       "       'драма,семейный,комедия', 'драма,детектив,приключения',\n",
       "       'драма,криминал,история', 'приключения,триллер',\n",
       "       'боевик,драма,биография', 'ужасы,драма,триллер',\n",
       "       'драма,приключения,триллер', 'комедия,фэнтези,приключения',\n",
       "       'фантастика,боевик,ужасы', 'драма,комедия,фантастика',\n",
       "       'детектив,криминал,драма', 'боевик,триллер,фэнтези',\n",
       "       'приключения,детектив,семейный', 'ужасы,комедия,криминал',\n",
       "       'мультфильм,биография,драма', 'история,боевик,фэнтези',\n",
       "       'детектив,криминал,боевик', 'приключения,фэнтези',\n",
       "       'драма,биография,мюзикл', 'комедия,семейный,фэнтези',\n",
       "       'детектив,драма,триллер', 'боевик,приключения,семейный',\n",
       "       'биография,спорт,комедия', 'фантастика,приключения,военный',\n",
       "       'документальный,драма,биография', 'детектив,приключения,драма',\n",
       "       'аниме,мультфильм,приключения', 'семейный,приключения',\n",
       "       'ужасы,фэнтези,детектив', 'семейный,документальный',\n",
       "       'драма,приключения,семейный', 'приключения,история,военный',\n",
       "       'фэнтези,мелодрама', 'фэнтези,триллер,детектив',\n",
       "       'документальный,спорт,биография', 'комедия,триллер,драма',\n",
       "       'драма,ужасы', 'биография,музыка,драма', 'фэнтези,ужасы',\n",
       "       'детектив,мелодрама,фэнтези', 'боевик,военный,история',\n",
       "       'биография,драма,криминал', 'триллер,мелодрама,криминал',\n",
       "       'мюзикл,мелодрама', 'семейный,мелодрама', 'мюзикл,комедия',\n",
       "       'биография,драма', 'военный,история,драма',\n",
       "       'фантастика,детектив,фэнтези', 'детектив,приключения,триллер',\n",
       "       'фантастика,приключения', 'мультфильм,короткометражка,мюзикл',\n",
       "       'мультфильм,детский,семейный', 'драма,комедия,вестерн',\n",
       "       'документальный,драма,комедия', 'комедия,приключения,криминал',\n",
       "       'документальный,семейный,музыка', 'мелодрама,музыка,драма',\n",
       "       'мультфильм,семейный,фэнтези', 'детектив,фантастика,триллер',\n",
       "       'драма,мелодрама,триллер', 'биография,драма,военный',\n",
       "       'приключения,фантастика,драма', 'детектив,фильм-нуар,комедия',\n",
       "       'документальный,спорт', 'триллер,фантастика,драма',\n",
       "       'биография,документальный', 'ужасы,фантастика,мелодрама',\n",
       "       'детектив,комедия', 'история,биография,военный',\n",
       "       'криминал,мелодрама', 'драма,криминал,вестерн',\n",
       "       'мелодрама,семейный,приключения', 'криминал,детектив',\n",
       "       'триллер,ужасы,мелодрама', 'фэнтези,драма,фильм-нуар',\n",
       "       'детектив,мелодрама', 'комедия,драма,биография',\n",
       "       'драма,военный,боевик', 'драма,комедия,ужасы',\n",
       "       'фантастика,драма,криминал', 'документальный,музыка,биография',\n",
       "       'мультфильм,боевик,приключения', 'мультфильм,мелодрама,драма',\n",
       "       'боевик,военный,драма', 'фэнтези,семейный,приключения',\n",
       "       'детский,мультфильм,приключения', 'семейный,фэнтези,комедия',\n",
       "       'фэнтези,ужасы,триллер', 'ужасы,триллер,приключения',\n",
       "       'драма,боевик,история', 'фэнтези,комедия,детектив',\n",
       "       'история,приключения', 'аниме,мультфильм,короткометражка',\n",
       "       'драма,военный,триллер', 'биография,криминал,триллер',\n",
       "       'фантастика,фэнтези,детектив', 'вестерн,биография,драма',\n",
       "       'биография,музыка,мюзикл', 'мелодрама,история',\n",
       "       'драма,история,биография', 'приключения,драма,фантастика',\n",
       "       'комедия,фэнтези,криминал', 'биография,спорт,история',\n",
       "       'драма,криминал,семейный', 'детектив,боевик,история',\n",
       "       'ужасы,комедия,детектив', 'триллер,приключения,драма',\n",
       "       'фэнтези,комедия,криминал', 'триллер,криминал,приключения',\n",
       "       'документальный,музыка,концерт', 'комедия,детектив,приключения',\n",
       "       'фэнтези,драма,ужасы', 'ужасы,драма,военный', 'реальное тв',\n",
       "       'аниме,мультфильм,детектив', 'приключения,фэнтези,семейный',\n",
       "       'драма,биография,комедия', 'триллер,комедия,ужасы',\n",
       "       'музыка,мелодрама,фэнтези', 'мультфильм,история',\n",
       "       'биография,криминал,драма', 'комедия,мелодрама,фантастика',\n",
       "       'криминал,боевик,комедия', 'история,криминал',\n",
       "       'детектив,комедия,драма', 'триллер,фантастика,боевик',\n",
       "       'криминал,боевик', 'комедия,драма,военный',\n",
       "       'драма,триллер,криминал', 'мультфильм,мелодрама,приключения',\n",
       "       'фантастика,фэнтези,триллер', 'короткометражка,драма,триллер',\n",
       "       'военный,боевик,история', 'боевик,драма,триллер',\n",
       "       'документальный,военный,драма', 'драма,криминал,фильм-нуар',\n",
       "       'мультфильм,детский,приключения', 'мелодрама,история,драма',\n",
       "       'комедия,фантастика,мелодрама'], dtype=object)"
      ]
     },
     "execution_count": 44,
     "metadata": {},
     "output_type": "execute_result"
    }
   ],
   "source": [
    "df['genres'] = df['genres'].str.lower()\n",
    "df['genres'].unique()"
   ]
  },
  {
   "cell_type": "code",
   "execution_count": 45,
   "metadata": {},
   "outputs": [
    {
     "data": {
      "text/plain": [
       "array(['сша', 'франция', 'германия-великобритания',\n",
       "       'великобритания - италия', 'сша - франция - турция',\n",
       "       'новая зеландия', 'канада - франция - испания', 'сша-германия',\n",
       "       'сша - великобритания', 'великобритания', 'сша - германия',\n",
       "       'франция - мексика - сша', 'германия',\n",
       "       'великобритания-сша-германия-кнр', 'гонконг, кнр', 'сша - франция',\n",
       "       'сша - япония - франция - великобритания',\n",
       "       'гонконг - сингапур - таиланд - великобритания', 'сша-канада',\n",
       "       'франция - сша', 'ирландия-великобритания-германия',\n",
       "       'сша-австралия', 'сша-франция-великобритания-австрия',\n",
       "       'сша - бельгия', 'сша - ирландия - великобритания',\n",
       "       'люксембург - нидерланды - испания - великобритания - сша - италия',\n",
       "       'великобритания - франция - сша', 'новая зеландия - сша',\n",
       "       'сша - великобритания - чехия',\n",
       "       'канада - франция - великобритания', 'ирландия',\n",
       "       'великобритания - германия - сша',\n",
       "       'сша - франция - великобритания', 'франция - испания',\n",
       "       'канада-франция', 'германия - италия - сша',\n",
       "       'аргентина - бразилия', 'дания - швейцария - бельгия - франция',\n",
       "       'сша - испания', 'германия - сша',\n",
       "       'франция - австрия - германия - италия - сша', 'австрия',\n",
       "       'сша - канада - германия', 'сша - канада', 'россия - казахстан',\n",
       "       'гонконг', 'италия', 'сша - оаэ', 'россия', 'великобритания - сша',\n",
       "       'сша - франция - испания - великобритания',\n",
       "       'великобритания - франция', 'сша-италия-испания-аргентина',\n",
       "       'франция-великобритания', 'кнр - гонконг',\n",
       "       'франция - италия - швейцария', 'сша - новая зеландия',\n",
       "       'франция - бельгия', 'япония', 'кнр',\n",
       "       'германия - великобритания - австрия',\n",
       "       'великобритания - израиль - франция - япония - сша', 'швеция',\n",
       "       'испания', 'дания', 'франция - бельгия - люксембург',\n",
       "       'сша - индия - оаэ',\n",
       "       'германия-канада-великобритания-швейцария-франция',\n",
       "       'мексика - чили', 'аргентина', 'бразилия', 'чили', 'австралия',\n",
       "       'португалия - франция', 'сша - юар', 'исландия-ирландия-германия',\n",
       "       'сша-индонезия', 'южная корея', 'мексика - испания - дания - сша',\n",
       "       'великобритания-сша', 'франция - италия', 'сша-франция',\n",
       "       'сша - венгрия - великобритания', 'бельгия-франция-италия',\n",
       "       'чехия - германия', 'германия - франция', 'сша-нидерланды',\n",
       "       'великобритания - германия', 'сша-франция-испания',\n",
       "       'италия - франция', 'канада', 'швеция-франция-дания',\n",
       "       'германия-франция-польша', 'франция-великобритания - германия',\n",
       "       'сша - бразилия - франция - австралия - великобритания - германия',\n",
       "       'германия-австрия', 'германия-италия- шри-ланка',\n",
       "       'великобритания - испания',\n",
       "       'сша - великобритания - канада - швеция',\n",
       "       'босния и герцеговина - франция - великобритания - германия - словения - бельгия - сербия',\n",
       "       'великобритания - франция - италия - сша', 'франция-бельгия',\n",
       "       'сша-оаэ', 'испания - франция', 'сша-великобритания', 'сша-юар',\n",
       "       'великобритания-австралия - сша',\n",
       "       'норвегия - швеция - дания - германия', 'норвегия', 'швейцария',\n",
       "       'греция - германия - франция', 'норвения', 'южная корея - сша',\n",
       "       'чили - франция - сша', 'австрия - германия - франция',\n",
       "       'швеция - дания', 'великобритания - франция - бельгия - италия',\n",
       "       'франция - германия', 'грузия - франция - люксембург',\n",
       "       'сша - франция - великобритания - бразилия ', 'сша - кнр',\n",
       "       'сша - германия - гонконг - сингапур',\n",
       "       'финляндия - австрия - россия', 'испания - куба',\n",
       "       'великобритания - юар', 'великобритания - ирландия', 'израиль',\n",
       "       'бразилия - германия - порртугалия - франция ',\n",
       "       'франция - канада - бельгия', 'франция-испания',\n",
       "       'испания - канада - япония', 'швеция-куба',\n",
       "       'сша-великобритания-ирландия', 'гонконг - кнр', 'нидерланды',\n",
       "       'испания - канада', 'япония-великобритания',\n",
       "       'великобритания - норвегия - дания - германия',\n",
       "       'финляндия - франция - германия',\n",
       "       'мексика - франция - нидерланды - германия', 'сша - индия',\n",
       "       'сша-великобритания-индия', 'сша-канада-бельгия', 'италия ',\n",
       "       'турция', 'сербия - словения - хорватия - черногория - македония',\n",
       "       'киргизия', 'германия - нидерланды - беларусь - россия - латвия',\n",
       "       'индия', 'нидерланды - россия - германия',\n",
       "       'великобритания - нидерланды - франция - хорватия',\n",
       "       'канада - южная корея',\n",
       "       'великобритания - польша - кнр - индия - норвегия',\n",
       "       'япония - франция - сша - южная корея - турция',\n",
       "       'мексика - аргентина - великобритания', 'израиль - франция',\n",
       "       'польша - португалия - франция - великобритания',\n",
       "       'австралия - сша', 'сша - великобритания ',\n",
       "       'франция - люксембург - бельгия', 'армения',\n",
       "       'бельгия - люксембург - франция - швейцария',\n",
       "       'сша - великобритания - канада', 'норвегия - швеция',\n",
       "       'канада - франция', 'кнр - гонконг - сша', 'украина',\n",
       "       'сша - сингапур - малайзия - индонезия', 'германия - россия',\n",
       "       'япония - канада', 'финляндия - дания - германия - ирландия',\n",
       "       'франция - люксембург - германия - бельгия - швейцария - великобритания ',\n",
       "       'канада - сша', 'сша-италия-испания', 'сша-испания',\n",
       "       'сша - швейцария - франция', 'испания - сша - колумбия',\n",
       "       'канада-юар', 'германия - финляндия - австралия', 'дания - швеция',\n",
       "       'бельгия', 'германия - франция - австрия', 'франция-индия', 'юар',\n",
       "       'франция-перу', 'франция - канада', 'республика беларусь',\n",
       "       'великобритания - австрия - франция - сша',\n",
       "       'австрия-германия-франция', 'сша-россия', 'германия-сша',\n",
       "       'сша - южная корея', 'канада - кнр',\n",
       "       'дания - швеция - италия - франция - германия',\n",
       "       'франция-италия-испания-венгрия', 'франция - германия - бельгия',\n",
       "       'франция-великобритания-чехия', 'румыния - франция - бельгия',\n",
       "       'болгария - франция - изриль',\n",
       "       'израиль - германия - польша - бельгия - франция - люксембург',\n",
       "       'россия, германия, франция, бельгия', 'франция - португалия',\n",
       "       'великобритания - пуэрто-рико', 'россия, республика беларусь',\n",
       "       'франция - австрия', 'бельгия-нидерланды',\n",
       "       'великобритания - сша - индия', 'сша - великобритания - австралия',\n",
       "       'канада - франция - сша - оаэ - великобритания',\n",
       "       'сша - австралия - франция',\n",
       "       'дания-франция-бельгия-германия-великобритания',\n",
       "       'испания - аргентина', 'исландия - финляндия',\n",
       "       'россия-польша-голландия-словакия', 'дания - германия - швеция',\n",
       "       'южная корея - сша - канада', 'таиланд', 'сша-мальта',\n",
       "       'сша -германия',\n",
       "       'великобритания - германия - франция - кипр - сша', 'мексика',\n",
       "       'сша - великобритания - ирландия', 'сша - украина',\n",
       "       'сша - финляндия - испания - великобритания - франция',\n",
       "       'австралия-великобритания', 'франция-канада',\n",
       "       'ирландия - финляндия - бельгия - великобритания - сша - швейцария',\n",
       "       'малайзия - сша', 'германия - италия',\n",
       "       'сша - франция - бельгия - италия', 'франция - ирландия - швеция',\n",
       "       'азербайджан-россия', 'великобритания - италия - швейцария',\n",
       "       'сша - германия - великобритания',\n",
       "       'германия - бельгия - сша -франция', 'сша-китай', 'чили - испания',\n",
       "       'франция - швейцария', 'канада - испания',\n",
       "       'сша - румыния - великобритания', 'сша - япония',\n",
       "       'сша - россия - франция', 'франция-сша', 'парагвай',\n",
       "       'германия - канада', 'сша - канада - великобритания',\n",
       "       'финляндия - канада', 'уругвай-мексика-германия ', 'сша - чили',\n",
       "       'германия - аргентина - нидерланды - чили',\n",
       "       'сша - канада - индонезия', 'армения - казахстан', 'финляндия',\n",
       "       'испания - италия - франция',\n",
       "       'великобритания - франция - швеция - бельгия', 'иран',\n",
       "       'мексика - эквадор - канада - сша - франция - малайзия - италия - аргентина - германия - индия  ',\n",
       "       'франция - бенльгия', 'индия - великобритания',\n",
       "       'япония - великобритания - франция',\n",
       "       'испания - уругвай - аргентина',\n",
       "       'франция - италия - бельгия - люксембург',\n",
       "       'франция - украина - грузия - армения',\n",
       "       'сербия - германия - венгрия', 'франция-польша', 'франция ',\n",
       "       'румыния-сша', 'россия-азербайджан',\n",
       "       'сша - нидерланды - бельгия - венгрия - греция - канада',\n",
       "       'германия - франция - люксембург', 'сша - россия',\n",
       "       'великобритания - сша - франция', 'сша - австралия - дания',\n",
       "       'бельгия-франция', 'сша-мексика',\n",
       "       'норвегия - азербайджан - россия - колумбия - великобритания - венгрия - румыния - франция - грузия',\n",
       "       'сща', 'бразилия - испания', 'россия, франция, латвия',\n",
       "       'нидерланды - сша - германия - канада - франция - ирландия - великобритания',\n",
       "       'уругвай - колумбия', 'сша - испания - болгария',\n",
       "       'армения - германия', 'сша - великобритания- франция - швеция',\n",
       "       'сша - мексика', 'австралия-турция-сша', 'швеция - германия',\n",
       "       'польша - италия - россия', 'франция - бразилия',\n",
       "       'сша - канада - кнр', 'бельгия - германия - люксембург',\n",
       "       'сша - австралия', 'бразилия - сша',\n",
       "       'сша - великобритания - канада - кнр', 'франция - чили',\n",
       "       'франция - сша - великобритания - колумбия - бельгия - россия',\n",
       "       'дания - великобритания - юар', 'россия-сша-канада-люксембург',\n",
       "       'россия - республика кипр', 'германия - сша - швеция - франция',\n",
       "       'великобритания-германия-канада-юар', 'ирландия, канада',\n",
       "       'япония - великобритания - швейцария - ирландия - дания - франция - польша - австралия - канада  ',\n",
       "       'великобритания, канада', 'бельгия - сша',\n",
       "       'великобритания - сша - россия', 'россия-украина',\n",
       "       'германия - сша - великобритания - израиль', 'канада - германия',\n",
       "       'сша- ю.корея',\n",
       "       'великобритания - франция - республика кипр - швейцария - сша - сербия',\n",
       "       'испания - аргентина - индия - сша',\n",
       "       'норвегия - исландия - сша - великобритания ',\n",
       "       'турция - германя - франция', 'германия - великобритания',\n",
       "       'австралия - германия', 'мексика - испания',\n",
       "       'великобритания - сша - германия - бельгия',\n",
       "       'сша - чехия - франция', 'россия - италия', 'франция-россия',\n",
       "       'норвегия - дания - швеция', 'франция - швейцария - германия',\n",
       "       'грузия - украина', 'россия - эстония - финляндия - беларусь',\n",
       "       'сша - франция - юар', 'великобритания - сша - швейцария',\n",
       "       'канада-сша', 'мексика - нидерланды - германия - франция',\n",
       "       'сша - испания - франция', 'сша - великобритания - кнр',\n",
       "       'сша-франция-канада',\n",
       "       'япония, великобритания, австрия, германия, ю.корея',\n",
       "       'великобритания - ирландия - сша', 'бельгия - италия - франция ',\n",
       "       'швейцария-германия-юар', 'великобритания - сша - германия',\n",
       "       'германия - исландия', 'испания - сша', 'хорватия',\n",
       "       'финляндия - исландия - швеция',\n",
       "       'канада - сша - германия - франция',\n",
       "       'сша - великобритания - испания', 'ирландия-великобритания',\n",
       "       'аргентина - испания', 'австрия - германия',\n",
       "       'германия - швейцария - франция - южная корея - сша',\n",
       "       'украина - нидерланды', 'венгрия - германия - швеция',\n",
       "       'германия - франция -  польша - турция - канада - италия - россия ',\n",
       "       'россия-кипр', 'россия, грузия, испания',\n",
       "       'великобритания - нидерланды - германия - франция - бельгия - австрия ',\n",
       "       'испания - великобритания - франция',\n",
       "       'дания - норвегия - великобритания',\n",
       "       'бельгия - франция - люксембург',\n",
       "       'италия - франция - швейцария - великобритания',\n",
       "       'франция - бельгия - великобритания - испания - германия - сша',\n",
       "       'швейцария - израиль - франция - великобритания',\n",
       "       'великобритания - сша - канада - нидерланды - франция',\n",
       "       'россия, италия', 'россия, украина, республика беларусь, литва',\n",
       "       'финляндия - великобритания - германия', 'россия, украина, польша',\n",
       "       'франция - италия - бельгия - кнр',\n",
       "       'германия - бельгия - люксембург - ирландия', 'кнр - сингапур',\n",
       "       'франция - бельгия - великобритания - сша - нидерланды - канада',\n",
       "       'сша - россия - польша - германия - пуэрто рико',\n",
       "       'франция - бельгия - канада', 'сша ', 'мексика - сша',\n",
       "       'сша - гонконг - кнр ', 'греция - россия',\n",
       "       'ирландия - дания - бельгия - люксембург - франция',\n",
       "       'эстония - россия',\n",
       "       'великобритания - исландия - испания - швейцария - сша',\n",
       "       'австралия - великобритания - бельгия - индия',\n",
       "       'швеция - германия - франция - норвегия',\n",
       "       'нидерланды - бельгия - германия - ирландия',\n",
       "       'нидерланды - великобритания - бельгия',\n",
       "       'сша - колумбия - испания', 'франция-испания-бельгия-панама',\n",
       "       'сша-великобритания-чехия-румыния',\n",
       "       'аргентина - уругвай - россия - германия - франция - нидерланды',\n",
       "       'швеция - франция - норвегия - дания',\n",
       "       'италия-франция-великобритания', 'великобритания, франция',\n",
       "       'австралия, сша', 'венесуэла', 'южная корея - кнр',\n",
       "       'аргентина - мексика - бразилия - франция - сша', 'швеция - сша',\n",
       "       'франция - германия - турция - катар', 'франция-китай',\n",
       "       'россия, германия, великобритания',\n",
       "       'великобритания - италия - испания', 'италия - россия',\n",
       "       'япония - кнр - южная корея', 'россия, германия',\n",
       "       'россия-ирландия', 'македония - франция - великобритания',\n",
       "       'франция - бразилия - италия', 'россия-сша', 'армения-россия',\n",
       "       'россия, румыния', 'франция -  бельгия', 'грузия-франция',\n",
       "       'юар - сша', 'великобритания-сша-франция',\n",
       "       'великобритания - сша - германия - канада - австралия',\n",
       "       'сша-ирландия', 'россия, республика кипр',\n",
       "       'германия - люксембург - франция', 'россия-франция',\n",
       "       'сша - нидерланды - финляндия - великобритания - италия',\n",
       "       'республика кипр', 'венгрия', 'франция - сша - норвегия - дания',\n",
       "       'германия - австрия - ирландия', 'сша - финляндия',\n",
       "       'италия-великобритания', 'россия, испания',\n",
       "       'сша - великобритания - болгария', 'великобритания - люксембург',\n",
       "       'индия - сша', 'сша - канада - россия - франция - чили - ирландия',\n",
       "       'грузия-россия',\n",
       "       'дания - австрия - ирландия - финляндия - норвегия - швеция - нидерланды',\n",
       "       'сша-кнр', 'австралия - ирландия', 'великобритания - канада',\n",
       "       'италия - аргентина - словения ',\n",
       "       'испания - франция - нидерланды - германия - бельгия - великобритания - канада',\n",
       "       'франция - чехия - бельгия',\n",
       "       'великобритания - франция - германия - сша',\n",
       "       'ирландия - великобритания - франция - сша - германия - нидерланды',\n",
       "       'сша - канада - япония - кнр', 'италия-франция',\n",
       "       'сша - великобритания - исландия', 'великобритания-франция',\n",
       "       'франция - германия - нидерланды', 'иран ',\n",
       "       'франция - германия - швеция - сша - чехия - словакия - великобритания - нидерланды',\n",
       "       'франция - канада - н.зеландия - сша - нидерланды - германия - швеция - россия',\n",
       "       'турция - сша',\n",
       "       'великобритания - сша - канада - бельгия - нидерланды - австрия - германия',\n",
       "       'израиль - франция - германия - палестина - сша - австрия - великобритания',\n",
       "       'аргентина - франция - испания', 'ссср, россия',\n",
       "       'великобритания - франция - италия - индия - дания - кнр - бангладеш - камбоджа - гаити - уганда',\n",
       "       'италия - франция - швейцария',\n",
       "       'ирландия - великобритания - канада', 'перу', 'сша - норвегия',\n",
       "       'испания-канада', 'китай-гонконг', 'сша - германия - кнр',\n",
       "       'великобритания - новая зеландия',\n",
       "       'франция - дания - швеция - кнр',\n",
       "       'сша - великобритания - германия - бельгия - дания',\n",
       "       'сша - франция - канада - германия - австралия - индия',\n",
       "       'австралия-ирландия', 'сша - китай',\n",
       "       'великобритания - франция - австрия - швеция',\n",
       "       'россия, таджикистан', 'нидерланды - бельгия - болгария',\n",
       "       'великобритания - канада - сша', 'франция - бельгия - испания',\n",
       "       'китай-гонконг-сша', 'франция - великобритания', 'сша - вьетнам',\n",
       "       'сша - германия - франция', 'германия - франция - бельгия',\n",
       "       'сша - италия',\n",
       "       'германия - дания - испания - швеция - канада - эстония - франция',\n",
       "       'княжество андорра - украина', 'германия - люксембург - бельгия',\n",
       "       'великобритания - россия - украина - сша',\n",
       "       'германия - бельгия - люксембург - норвегия',\n",
       "       'сша - австралия - новая зеландия - великобритания',\n",
       "       'сша - франция - канада - великобритания', 'испания-колумбия',\n",
       "       'великобритания - чехия - франция', 'россия, украина', 'исландия',\n",
       "       'великобритания - франция - венгрия',\n",
       "       'россия, франция, германия, бельгия', 'франция - македония',\n",
       "       'нидерланды - франция - германия - бельгия - швеция - великобритания',\n",
       "       'испания - сша - великобритания - канада', 'германия - австрия',\n",
       "       'республика казахстан',\n",
       "       'франция - испания - дания - венгрия - швейцария', 'франция-кнр',\n",
       "       'сша - пуэрто-рико - франция ', 'мексика - тайвань - сша',\n",
       "       'великобритания - испания - непал - индия - венгрия - гонконг - германия - дания - бахрейн',\n",
       "       'великобритания - аргентина - сша - франция - россия - испания',\n",
       "       'кнр - сша', 'италия - сша', 'финляндия - швеция - германия',\n",
       "       'канада- испания', 'франция - бельгия - чехия',\n",
       "       'франция-бельгия-канада', 'франция - германия - сша',\n",
       "       'сша - дания', 'индия - кнр', 'чехия-великобритания-сша',\n",
       "       'сша-фрг-россия', 'ирландия-нидерланды-франция-сша-великобритания',\n",
       "       'россия, грузия, хорватия, испания',\n",
       "       'финляндия - швеция - норвегия', 'сербия - великобритания - сша',\n",
       "       'сша - великобритания - франция - гонконг', 'швейцария - франция',\n",
       "       'швейцария - великобритания', 'оаэ - сша',\n",
       "       'сша - франция - германия - канада - австралия ',\n",
       "       'германия - австралия', 'иран, франция',\n",
       "       'сша - великобритания - новая зеландия', 'сша-колумбия',\n",
       "       'сша-франция-ирландия', 'великобритания - франция - бельгия',\n",
       "       'сша - великобритания - япония', 'сша - франция - германия',\n",
       "       'польша - ирландия', 'ирландия - великобритания - франция - сша',\n",
       "       'сша - бельгия - великобритания',\n",
       "       'испания - франция - сша - великобритания - бельгия',\n",
       "       'франция - дания - сша', 'сша - гонконг', 'бразилия - к;анада',\n",
       "       'франция-германия', 'сша - колумбия',\n",
       "       'сша - ирландия - великобритания - франция', 'чехия',\n",
       "       'великобритания - сша - канада', 'польша - франция', 'индонезия',\n",
       "       'канада - сша - нидерланды - великобритания - аргентина',\n",
       "       'великобритания - дания', 'франция - бельгия - япония',\n",
       "       'россия,  испания', 'франция -бельгия',\n",
       "       'сша - канада - германия - франция', 'сша-канада-франция',\n",
       "       'россия - германия', 'россия-италия', 'китай - гонконг',\n",
       "       'германия-австрия-франция-италия', 'сша-япония',\n",
       "       'сша - германия - канада', 'испания-мексика',\n",
       "       'сша - япония - канада - великобритания - германия - франция',\n",
       "       'сша -великобритания - австралия', 'россия-украина-германия',\n",
       "       'израиль - франция - великобритания - германия',\n",
       "       'россия - болгария', 'сша-индия',\n",
       "       'германия-канада-франция-бельгия', 'ссср', 'грузия',\n",
       "       'франция - монако', 'франция-испания-швейцария',\n",
       "       'австрия-франция-германия', 'румыния',\n",
       "       'сша-великобритания-франция', 'канада-великобритания',\n",
       "       'канада-бразилия-япония', 'германия - дания - норвегия',\n",
       "       'дания - германия', 'ссср - италия',\n",
       "       'ссср - гдр - польша - италия',\n",
       "       'сша - испания - франция - великобритания', 'китай',\n",
       "       'мексика-аргентина',\n",
       "       'германия - великобритания - италия - испания',\n",
       "       'франция-германия-великобритания', 'россия - германия - швейцария',\n",
       "       'голландия', 'швейцария-франция', 'россия-белоруссия',\n",
       "       'франция - испания - тайвань', 'сша-южная корея-новая зеландия',\n",
       "       'великобритания-венгрия', 'россия-германия',\n",
       "       'великобритания-франция-германия', 'франция-германия-италия',\n",
       "       'швеция-финляндия-франция-норвегия', 'франция-италия',\n",
       "       'германия-израиль', 'швеция - германия - дания - норвегия',\n",
       "       'сша-бельгия', 'франция-гонконг-ирландия', 'эстония',\n",
       "       'литва-россия-украина', 'германия - италия - франция',\n",
       "       'бельгия - франция', 'россия-казахстан', 'испания - мальта',\n",
       "       'франция-россия-румыния-италия-бельгия', 'россия - польша',\n",
       "       'испания - мексика', 'сша-аргентина', 'великобритания ',\n",
       "       'израиль-сша-франция', 'сша - новая зеландия - япония',\n",
       "       'франция - чехия - великобритания', 'россия-польша',\n",
       "       'германия-франция-великобритания', 'сша-германия-канада',\n",
       "       'сша-гонконг-китай', 'сша - великобритания - германия',\n",
       "       'сша-канада-австралия', 'япония-сша-франция',\n",
       "       'франция-испания-германия', 'сша - хорватия - босния-герцеговина',\n",
       "       'великобритания - чехия - франция - италия',\n",
       "       'сша - германия - нидерланды', 'германия - франция - канада',\n",
       "       'великобритания - франция - италия', 'россия - сша',\n",
       "       'франция - италия - иран', 'россия - азербайджан', 'греция',\n",
       "       'дания - сша', 'сша-великобритания-новая зеландия',\n",
       "       'сша-германия-австралия', 'сша-канада-италия',\n",
       "       'сша - япония - германия', 'австралия-сша',\n",
       "       'франция - великобритания - багамские острова - сша',\n",
       "       'швейцария - люксембург', 'швейцария - австрия',\n",
       "       'германия - швейцария', 'дания-швеция-франция-германия', 'польша',\n",
       "       'швейцария-австрия', 'бразилия - канада - сша',\n",
       "       'нидерланды - россия', 'португалия', 'франция-аргентина',\n",
       "       'швеция-франция', 'франция-украина', 'германия-украина-нидерланды',\n",
       "       'италия-швейцария', 'сша-германия-великобритания',\n",
       "       'латвия - россия', 'германия-франция-великобритания-сша',\n",
       "       'канада - италия', 'сша - объединенные арабские эмираты',\n",
       "       'сша-венгрия', 'малайзия', 'россия - германия - украина',\n",
       "       'сша - австралия - мексика', 'литва - венгрия', 'германия - китай',\n",
       "       'казахстан', 'республика корея',\n",
       "       'сша - германия - франция - великобритания - канада ',\n",
       "       'бельгия - германия - люксембург - франция', 'франция - греция',\n",
       "       'италия - канада', 'сша - великобритания - франция',\n",
       "       'сша-италия-греция', 'германия - сша - великобритания - ирландия',\n",
       "       'великобритания - франция - германия',\n",
       "       'германия - нидерланды - юар',\n",
       "       'сша-япония-германия-великобритания-нидерланды',\n",
       "       'сша-япония-германия-великобритания',\n",
       "       'германия - франция - польша',\n",
       "       'таиланд-великобритания-франция-германия-испания-нидерланды',\n",
       "       'германия-италия-швейцария',\n",
       "       'дания - швеция - великобритания - франция - германия - нидерланды - норвегия - финляндия',\n",
       "       'франция - великобритания - нидерланды - люксембург',\n",
       "       'нидерланды-великобритания-франция-италия-япония',\n",
       "       'финляндия-дания-германия-ирландия', 'испания-аргентина',\n",
       "       'великобритания - нидерланды - франция - сша', 'канада - мексика',\n",
       "       'сша, франция', 'канада-южная корея-сша',\n",
       "       'великобритания - франция - бельгия - сша', 'кнр - канада - сша',\n",
       "       'италия - франция - германия',\n",
       "       'швеция - германия - франция - дания', 'франция - сша - бельгия',\n",
       "       'украина - германия - латвия - эстония', 'австрия - люксембург',\n",
       "       'великобритания - кнр', 'монголия', 'франция - дания',\n",
       "       'швеция - дания - финляндия',\n",
       "       'сингапур - великобритания - индонезия - канада - сша',\n",
       "       'сша - германия - япония', 'таиланд - сша', 'франция - нидерланды',\n",
       "       'великобритания - румыния', 'корея', 'сша - мальта',\n",
       "       'великобритания - германия - нидерланды - дания',\n",
       "       'франция - германия - литва - нидерланды - россия',\n",
       "       'сша - юар - гонконг', 'австралия - колумбия',\n",
       "       'великобритания - польша', 'сша - великобритания - швеция',\n",
       "       'франция - швеция - дания - норвегия', 'болгария - сша',\n",
       "       'бельгия - нидерланды - франция', 'финляндия - германия',\n",
       "       'болгария', 'грузия - россия - украина - хорватия - германия',\n",
       "       'франция - люксембург', 'франция - германия - австрия',\n",
       "       'норвегия - сша', 'германия-швеция', 'франция - германия - италия',\n",
       "       'франция-германия-австрия', 'кнр-сша',\n",
       "       'великобритания - ирландия - сша ',\n",
       "       'дания - латвия - россия - сша', 'финляндия - польша',\n",
       "       'германия - бельгия', 'германия - сша - франция - испания',\n",
       "       'бельгия-германия-канада-франция-сша-великобритания',\n",
       "       'нидерланды - бельгия - люксембург', 'канада-германия',\n",
       "       'люксембург - бельгия - франция', 'сша-великобритания-австралия',\n",
       "       'великобритания, новая зеландия', 'бельгия, великобритания, сша',\n",
       "       'великобритания, австралия', 'исландия, бельгия',\n",
       "       'испания - швейцария - великобритания - германия - новая зеландия - нидерланды - канада',\n",
       "       'франция, бельгия', 'великобритания, сша', 'киргизия-россия',\n",
       "       'германия, сша', 'великобритания, сша, испания',\n",
       "       'италия - швейцария - германия', 'россия, армения',\n",
       "       'франция, германия', 'китай, канада, сша', 'германия, австралия',\n",
       "       'кнр, сша', 'сша, великобритания, люксембург',\n",
       "       'испания, ирландия, бельгия, франция',\n",
       "       'великобритания - гонконг - венгрия - сша - ирландия',\n",
       "       'сша - пуэрто рико', 'аргентина - испания - уругвай',\n",
       "       'израиль - германия - франция - швейцария',\n",
       "       'великобритания - мексика - сша', 'испания - болгария - сша',\n",
       "       'россия-словакия-чехия',\n",
       "       'швейцария - кнр - сша - россия - республика корея - великобритания',\n",
       "       'россия, нидерланды, финляндия',\n",
       "       'испания - бельгия - франция - португалия - великобритания',\n",
       "       'бразилия - португалия - франция', 'швеция - норвегия',\n",
       "       'франция - польша - бельгия', 'cша', 'китай, сша',\n",
       "       'италия, франция, германия', 'германия - австрия - франция',\n",
       "       'чехия - словакия - хорватия', 'россия, польша, финляндия',\n",
       "       'россия, латвия, чешская республика',\n",
       "       'франция - великобритания - камбоджа - сша - кнр',\n",
       "       'чехия - испания - сша', 'германия - люксембург - дания',\n",
       "       'великобритания - испания - германия', 'дания - исландия',\n",
       "       'германия, франция, великобритания',\n",
       "       'великобритания - испания - италия - латвия - франция - эстония',\n",
       "       'дания, швеция, великобритания, франция, германия, норвегия, финляндия, нидерланды, италия',\n",
       "       'польша - франция - великобритания',\n",
       "       'дания, норвегия, венгрия, чехия',\n",
       "       'дания - франция - германия - швеция',\n",
       "       'великобритания, швеция, сша',\n",
       "       'канада, франция, италия, швейцария, сша', 'сша, индия',\n",
       "       'сша - великобритания - германия - - швеция - канада',\n",
       "       'италия, франция', 'республика беларусь, германия, сша, россия',\n",
       "       'италия-швейцария-франция-германия ',\n",
       "       'россия - франция - великобритания - латвия', 'россия-беларусь',\n",
       "       'франция - испания - румыния - сша - бельгия', 'италия-сша',\n",
       "       'индия - мексика', 'россия, австрия', 'франция - россия',\n",
       "       'ирландия - великобритания - сша',\n",
       "       'швейцария, великобритания, франция, сша, ирландия',\n",
       "       'мексика, франция, германия, дания, швеция', 'нидерланды, бельгия',\n",
       "       'швеция, норвегия, финляндия, франция', 'испания, франция, италия',\n",
       "       'испания-франция-греция-индия-сша-россия-великобритания',\n",
       "       'великобритания - япония - сша',\n",
       "       'дания, канада, норвегия, австралия, сша', 'аргентина, испания',\n",
       "       'россия, германия, казахстан, польша, китай',\n",
       "       'португалия, франция, польша, сша', 'сша - канада - аргентина',\n",
       "       'ливан-сша', 'сша, великобритания', 'япония - сша',\n",
       "       'сша, гонконг ',\n",
       "       'франция - россия - швейцария - румыния - венгрия',\n",
       "       'аргентина-испания', 'россия, сербия', 'сша - болгария - мексика',\n",
       "       'сша - великобритания - швейцария - франция',\n",
       "       'таиланд - кнр - сша',\n",
       "       'великобритания, нидерланды, польша, швейцария, франция',\n",
       "       'ирландия - сша',\n",
       "       'германия - франция - великобритания - польша - сша',\n",
       "       'великобритания-франция-италия', 'сша - австралия - индия',\n",
       "       'франция - кнр', 'великобритания - израиль',\n",
       "       'великобритания - норвегия - кения - хорватия',\n",
       "       'сша - бразилия - великобритания - канада', 'германия, бельгия',\n",
       "       'австралия, канада', 'сша, великобритания, франция',\n",
       "       'кения, германия', 'нидерланды, бельгия, люксембург', 'колумбия',\n",
       "       'латвия - франция', 'ирландия, великобритания',\n",
       "       'франция - израиль - германия', 'швеция, франция, великобритания',\n",
       "       'бельгия - люксембург', 'германия - бельгия - великобритания',\n",
       "       'германия, франция', 'сша, япония',\n",
       "       'сша, великобритания, ирландия, люксембург', 'республика армения',\n",
       "       'сша, франция, япония', 'япония, сша', 'канада, сша',\n",
       "       'республика кипр - россия',\n",
       "       'дания - франция - италия - бельгия - нидерланды',\n",
       "       'россия - грузия', 'италия, германия', 'норвегия, швеция, дания',\n",
       "       'республика кипр, россия', 'кнр, индия, гонконг, сша',\n",
       "       'израиль, украина', 'сша, россия', 'сша - кнр - индия - ю.корея',\n",
       "       'сша - швеция', 'франция, канада', 'россия-китай',\n",
       "       'канада, великобритания', 'сша, германия',\n",
       "       'канада, сша, каймановы острова',\n",
       "       'бразилия, уругвай, дания, норвегия, чили, швеция',\n",
       "       'пуэрто-рико, великобритания, сша',\n",
       "       'уругвай - аргентина - испания', 'сша - канада - франция - индия',\n",
       "       'великобритания - россия - кнр', 'франция, новая зеландия',\n",
       "       'франция, люксембург, бельгия', 'канада, сша, норвегия',\n",
       "       'италия, испания', 'испания - германия - нидерланды',\n",
       "       'бразилия - сша - кнр ', 'великобритания, германия, дания, сша',\n",
       "       '2019', 'италия - фрация - бразилия - германия',\n",
       "       'норвегия - швеция - россия', 'великобритания, япония, сша',\n",
       "       'сша, канада', 'бельгия, канада',\n",
       "       'великобритания - австралия - сша', 'кнр - сша ',\n",
       "       'франция - финляндия', 'колумбия - сша',\n",
       "       'великобритания, франция, бельгия', 'норвегия - нидерланды',\n",
       "       'великобритания, канада, сша', 'япония, великобритания',\n",
       "       'италия - бельгия - франция', 'россия, бельгия, финляндия',\n",
       "       'сша, украина', 'франция, норвегия',\n",
       "       'великобритания, южная корея, канада, сша, индия, китай, япония',\n",
       "       'канада - норвегия', 'республика кипр-россия', 'германия, россия',\n",
       "       'австрия, великобритания, германия', 'франция - сенегал - бельгия',\n",
       "       'франция, бельгия, люксембург', 'финляндия, латвия', 'пакистан',\n",
       "       'германия, франция, сша', 'германия - великобритания - сша',\n",
       "       'кнр - франция', 'дания, норвегия, швеция, исландия',\n",
       "       'республика кипр, сша, россия', 'новая зеландия - кнр',\n",
       "       'дания - канада - швеция - франция - германия - великобритания - сша'],\n",
       "      dtype=object)"
      ]
     },
     "execution_count": 45,
     "metadata": {},
     "output_type": "execute_result"
    }
   ],
   "source": [
    "df['production_country'] = df['production_country'].str.lower()\n",
    "df['production_country'].unique()"
   ]
  },
  {
   "cell_type": "code",
   "execution_count": null,
   "metadata": {},
   "outputs": [],
   "source": []
  },
  {
   "cell_type": "code",
   "execution_count": 46,
   "metadata": {},
   "outputs": [
    {
     "data": {
      "text/plain": [
       "2"
      ]
     },
     "execution_count": 46,
     "metadata": {},
     "output_type": "execute_result"
    }
   ],
   "source": [
    "df['pu_number'].duplicated().sum()"
   ]
  },
  {
   "cell_type": "code",
   "execution_count": 47,
   "metadata": {},
   "outputs": [
    {
     "data": {
      "text/html": [
       "<div>\n",
       "<style scoped>\n",
       "    .dataframe tbody tr th:only-of-type {\n",
       "        vertical-align: middle;\n",
       "    }\n",
       "\n",
       "    .dataframe tbody tr th {\n",
       "        vertical-align: top;\n",
       "    }\n",
       "\n",
       "    .dataframe thead th {\n",
       "        text-align: right;\n",
       "    }\n",
       "</style>\n",
       "<table border=\"1\" class=\"dataframe\">\n",
       "  <thead>\n",
       "    <tr style=\"text-align: right;\">\n",
       "      <th></th>\n",
       "      <th>title</th>\n",
       "      <th>pu_number</th>\n",
       "      <th>show_start_date</th>\n",
       "      <th>type</th>\n",
       "      <th>film_studio</th>\n",
       "      <th>production_country</th>\n",
       "      <th>director</th>\n",
       "      <th>producer</th>\n",
       "      <th>age_restriction</th>\n",
       "      <th>refundable_support</th>\n",
       "      <th>nonrefundable_support</th>\n",
       "      <th>budget</th>\n",
       "      <th>financing_source</th>\n",
       "      <th>ratings</th>\n",
       "      <th>genres</th>\n",
       "      <th>box_office</th>\n",
       "    </tr>\n",
       "  </thead>\n",
       "  <tbody>\n",
       "    <tr>\n",
       "      <th>4159</th>\n",
       "      <td>Иоанна - женщина на папском престоле /По роман...</td>\n",
       "      <td>221154310</td>\n",
       "      <td>2010-12-17 12:00:00</td>\n",
       "      <td>Художественный</td>\n",
       "      <td>константин фильм, а эр ди дегето фильм, дюне ...</td>\n",
       "      <td>германия - великобритания - италия - испания</td>\n",
       "      <td>зенке вортманн</td>\n",
       "      <td>оливер бербен, дорис д.хайнце, фарук элтан</td>\n",
       "      <td>16</td>\n",
       "      <td>NaN</td>\n",
       "      <td>NaN</td>\n",
       "      <td>NaN</td>\n",
       "      <td>unknown</td>\n",
       "      <td>7.60</td>\n",
       "      <td>драма,мелодрама,история</td>\n",
       "      <td>NaN</td>\n",
       "    </tr>\n",
       "    <tr>\n",
       "      <th>4581</th>\n",
       "      <td>Анализируй то!</td>\n",
       "      <td>221054410</td>\n",
       "      <td>2010-05-25 12:00:00</td>\n",
       "      <td>Художественный</td>\n",
       "      <td>уорнер бразерс, виллидж роадшоу пикчерз, эн-пи...</td>\n",
       "      <td>сша</td>\n",
       "      <td>гарольд реймис</td>\n",
       "      <td>джейн розенталь, паул уэйнстейн</td>\n",
       "      <td>12</td>\n",
       "      <td>NaN</td>\n",
       "      <td>NaN</td>\n",
       "      <td>NaN</td>\n",
       "      <td>unknown</td>\n",
       "      <td>6.80</td>\n",
       "      <td>комедия,криминал</td>\n",
       "      <td>NaN</td>\n",
       "    </tr>\n",
       "  </tbody>\n",
       "</table>\n",
       "</div>"
      ],
      "text/plain": [
       "                                                  title  pu_number  \\\n",
       "4159  Иоанна - женщина на папском престоле /По роман...  221154310   \n",
       "4581                                     Анализируй то!  221054410   \n",
       "\n",
       "         show_start_date            type  \\\n",
       "4159 2010-12-17 12:00:00  Художественный   \n",
       "4581 2010-05-25 12:00:00  Художественный   \n",
       "\n",
       "                                            film_studio  \\\n",
       "4159   константин фильм, а эр ди дегето фильм, дюне ...   \n",
       "4581  уорнер бразерс, виллидж роадшоу пикчерз, эн-пи...   \n",
       "\n",
       "                                production_country        director  \\\n",
       "4159  германия - великобритания - италия - испания  зенке вортманн   \n",
       "4581                                           сша  гарольд реймис   \n",
       "\n",
       "                                        producer  age_restriction  \\\n",
       "4159  оливер бербен, дорис д.хайнце, фарук элтан               16   \n",
       "4581             джейн розенталь, паул уэйнстейн               12   \n",
       "\n",
       "      refundable_support  nonrefundable_support  budget financing_source  \\\n",
       "4159                 NaN                    NaN     NaN          unknown   \n",
       "4581                 NaN                    NaN     NaN          unknown   \n",
       "\n",
       "      ratings                   genres  box_office  \n",
       "4159     7.60  драма,мелодрама,история         NaN  \n",
       "4581     6.80         комедия,криминал         NaN  "
      ]
     },
     "execution_count": 47,
     "metadata": {},
     "output_type": "execute_result"
    }
   ],
   "source": [
    "df.loc[df['pu_number'].duplicated()]"
   ]
  },
  {
   "cell_type": "code",
   "execution_count": 48,
   "metadata": {},
   "outputs": [
    {
     "data": {
      "text/html": [
       "<div>\n",
       "<style scoped>\n",
       "    .dataframe tbody tr th:only-of-type {\n",
       "        vertical-align: middle;\n",
       "    }\n",
       "\n",
       "    .dataframe tbody tr th {\n",
       "        vertical-align: top;\n",
       "    }\n",
       "\n",
       "    .dataframe thead th {\n",
       "        text-align: right;\n",
       "    }\n",
       "</style>\n",
       "<table border=\"1\" class=\"dataframe\">\n",
       "  <thead>\n",
       "    <tr style=\"text-align: right;\">\n",
       "      <th></th>\n",
       "      <th>title</th>\n",
       "      <th>pu_number</th>\n",
       "      <th>show_start_date</th>\n",
       "      <th>type</th>\n",
       "      <th>film_studio</th>\n",
       "      <th>production_country</th>\n",
       "      <th>director</th>\n",
       "      <th>producer</th>\n",
       "      <th>age_restriction</th>\n",
       "      <th>refundable_support</th>\n",
       "      <th>nonrefundable_support</th>\n",
       "      <th>budget</th>\n",
       "      <th>financing_source</th>\n",
       "      <th>ratings</th>\n",
       "      <th>genres</th>\n",
       "      <th>box_office</th>\n",
       "    </tr>\n",
       "  </thead>\n",
       "  <tbody>\n",
       "    <tr>\n",
       "      <th>4158</th>\n",
       "      <td>Как жениться и остаться холостым</td>\n",
       "      <td>221154310</td>\n",
       "      <td>2010-12-17 12:00:00</td>\n",
       "      <td>Художественный</td>\n",
       "      <td>ше вам, скрипт ассосье, тэ фэ 1 фильм продюксь...</td>\n",
       "      <td>франция</td>\n",
       "      <td>эрик лартиго</td>\n",
       "      <td>амандин било, алан шаба</td>\n",
       "      <td>16</td>\n",
       "      <td>NaN</td>\n",
       "      <td>NaN</td>\n",
       "      <td>NaN</td>\n",
       "      <td>unknown</td>\n",
       "      <td>7.00</td>\n",
       "      <td>мелодрама,комедия</td>\n",
       "      <td>NaN</td>\n",
       "    </tr>\n",
       "    <tr>\n",
       "      <th>4159</th>\n",
       "      <td>Иоанна - женщина на папском престоле /По роман...</td>\n",
       "      <td>221154310</td>\n",
       "      <td>2010-12-17 12:00:00</td>\n",
       "      <td>Художественный</td>\n",
       "      <td>константин фильм, а эр ди дегето фильм, дюне ...</td>\n",
       "      <td>германия - великобритания - италия - испания</td>\n",
       "      <td>зенке вортманн</td>\n",
       "      <td>оливер бербен, дорис д.хайнце, фарук элтан</td>\n",
       "      <td>16</td>\n",
       "      <td>NaN</td>\n",
       "      <td>NaN</td>\n",
       "      <td>NaN</td>\n",
       "      <td>unknown</td>\n",
       "      <td>7.60</td>\n",
       "      <td>драма,мелодрама,история</td>\n",
       "      <td>NaN</td>\n",
       "    </tr>\n",
       "    <tr>\n",
       "      <th>4580</th>\n",
       "      <td>Анализируй это!</td>\n",
       "      <td>221054410</td>\n",
       "      <td>2010-05-25 12:00:00</td>\n",
       "      <td>Художественный</td>\n",
       "      <td>уорнер бразерс, вилладж роудшоу филмз лтд</td>\n",
       "      <td>сша-австралия</td>\n",
       "      <td>хэрольд рэмис</td>\n",
       "      <td>джейн розенталь, пола уейнстейн</td>\n",
       "      <td>16</td>\n",
       "      <td>NaN</td>\n",
       "      <td>NaN</td>\n",
       "      <td>NaN</td>\n",
       "      <td>unknown</td>\n",
       "      <td>7.40</td>\n",
       "      <td>комедия,криминал</td>\n",
       "      <td>NaN</td>\n",
       "    </tr>\n",
       "    <tr>\n",
       "      <th>4581</th>\n",
       "      <td>Анализируй то!</td>\n",
       "      <td>221054410</td>\n",
       "      <td>2010-05-25 12:00:00</td>\n",
       "      <td>Художественный</td>\n",
       "      <td>уорнер бразерс, виллидж роадшоу пикчерз, эн-пи...</td>\n",
       "      <td>сша</td>\n",
       "      <td>гарольд реймис</td>\n",
       "      <td>джейн розенталь, паул уэйнстейн</td>\n",
       "      <td>12</td>\n",
       "      <td>NaN</td>\n",
       "      <td>NaN</td>\n",
       "      <td>NaN</td>\n",
       "      <td>unknown</td>\n",
       "      <td>6.80</td>\n",
       "      <td>комедия,криминал</td>\n",
       "      <td>NaN</td>\n",
       "    </tr>\n",
       "  </tbody>\n",
       "</table>\n",
       "</div>"
      ],
      "text/plain": [
       "                                                  title  pu_number  \\\n",
       "4158                   Как жениться и остаться холостым  221154310   \n",
       "4159  Иоанна - женщина на папском престоле /По роман...  221154310   \n",
       "4580                                    Анализируй это!  221054410   \n",
       "4581                                     Анализируй то!  221054410   \n",
       "\n",
       "         show_start_date            type  \\\n",
       "4158 2010-12-17 12:00:00  Художественный   \n",
       "4159 2010-12-17 12:00:00  Художественный   \n",
       "4580 2010-05-25 12:00:00  Художественный   \n",
       "4581 2010-05-25 12:00:00  Художественный   \n",
       "\n",
       "                                            film_studio  \\\n",
       "4158  ше вам, скрипт ассосье, тэ фэ 1 фильм продюксь...   \n",
       "4159   константин фильм, а эр ди дегето фильм, дюне ...   \n",
       "4580          уорнер бразерс, вилладж роудшоу филмз лтд   \n",
       "4581  уорнер бразерс, виллидж роадшоу пикчерз, эн-пи...   \n",
       "\n",
       "                                production_country        director  \\\n",
       "4158                                       франция    эрик лартиго   \n",
       "4159  германия - великобритания - италия - испания  зенке вортманн   \n",
       "4580                                 сша-австралия   хэрольд рэмис   \n",
       "4581                                           сша  гарольд реймис   \n",
       "\n",
       "                                        producer  age_restriction  \\\n",
       "4158                     амандин било, алан шаба               16   \n",
       "4159  оливер бербен, дорис д.хайнце, фарук элтан               16   \n",
       "4580             джейн розенталь, пола уейнстейн               16   \n",
       "4581             джейн розенталь, паул уэйнстейн               12   \n",
       "\n",
       "      refundable_support  nonrefundable_support  budget financing_source  \\\n",
       "4158                 NaN                    NaN     NaN          unknown   \n",
       "4159                 NaN                    NaN     NaN          unknown   \n",
       "4580                 NaN                    NaN     NaN          unknown   \n",
       "4581                 NaN                    NaN     NaN          unknown   \n",
       "\n",
       "      ratings                   genres  box_office  \n",
       "4158     7.00        мелодрама,комедия         NaN  \n",
       "4159     7.60  драма,мелодрама,история         NaN  \n",
       "4580     7.40         комедия,криминал         NaN  \n",
       "4581     6.80         комедия,криминал         NaN  "
      ]
     },
     "execution_count": 48,
     "metadata": {},
     "output_type": "execute_result"
    }
   ],
   "source": [
    "df.loc[df['pu_number'].isin([221154310, 221054410])]"
   ]
  },
  {
   "cell_type": "markdown",
   "metadata": {},
   "source": [
    "221054410 это две части фильма, а в случае с 221154310 явно ошибка. Удалю фильмы с pu_number 221154310"
   ]
  },
  {
   "cell_type": "code",
   "execution_count": 49,
   "metadata": {},
   "outputs": [],
   "source": [
    "df = df.loc[df['pu_number'] != '221154310'].reset_index(drop=True)"
   ]
  },
  {
   "cell_type": "markdown",
   "metadata": {},
   "source": [
    "Категориальные данные - данные, которые могут принимать ограниченное число значений. Их нельзя суммировать, отнимать, умножать и тд, даже если они представлены в числовом виде. <br>\n",
    "Нам не удастся корректно сгруппировать данные по столбцам с жанром и страной производства. Хоть это и категориальные данные, но они представленны некорректно. Нужно будет выделить главные данные из них."
   ]
  },
  {
   "cell_type": "markdown",
   "metadata": {
    "id": "XFSN5lrEgFyR"
   },
   "source": [
    "#### Шаг 2.5. Проверьте количественные значения\n",
    "\n",
    "- Проверьте, обнаружились ли в таких столбцах подозрительные данные. Как с такими данными лучше поступить?\n",
    "\n",
    "<div id=\"accordion\">\n",
    "    <div class=\"card\">\n",
    "        <div class=\"card-header\" id=\"headingThree\">\n",
    "            <button class=\"btn btn-link collapsed\" data-toggle=\"collapse\" data-target=\"#collapseHint_budget\" aria-expanded=\"false\" aria-controls=\"collapseHint_budget\">Подсказка</button>\n",
    "        </div>\n",
    "        <div id=\"collapseHint_budget\" class=\"collapse\" aria-labelledby=\"headingThree\" data-parent=\"#accordion\">\n",
    "            <div class=\"card-body\">\n",
    "Обратите внимание на описание столбца <code>budget</code>. Как этот столбец соотносится с двумя другими: <code>refundable_support</code> и <code>nonrefundable_support</code>?\n",
    "            </div>\n",
    "        </div>\n",
    "    </div>\n",
    "</div>"
   ]
  },
  {
   "cell_type": "code",
   "execution_count": 50,
   "metadata": {
    "id": "YbzClBxagFyS"
   },
   "outputs": [
    {
     "data": {
      "text/plain": [
       "17"
      ]
     },
     "execution_count": 50,
     "metadata": {},
     "output_type": "execute_result"
    }
   ],
   "source": [
    "(df['nonrefundable_support'] + df['refundable_support'] >= df['budget']).sum()"
   ]
  },
  {
   "cell_type": "markdown",
   "metadata": {},
   "source": [
    "У некоторых фильмов несостыковка в бюджете. В налоговую пока звонить не буду."
   ]
  },
  {
   "cell_type": "code",
   "execution_count": 51,
   "metadata": {},
   "outputs": [
    {
     "data": {
      "text/html": [
       "<div>\n",
       "<style scoped>\n",
       "    .dataframe tbody tr th:only-of-type {\n",
       "        vertical-align: middle;\n",
       "    }\n",
       "\n",
       "    .dataframe tbody tr th {\n",
       "        vertical-align: top;\n",
       "    }\n",
       "\n",
       "    .dataframe thead th {\n",
       "        text-align: right;\n",
       "    }\n",
       "</style>\n",
       "<table border=\"1\" class=\"dataframe\">\n",
       "  <thead>\n",
       "    <tr style=\"text-align: right;\">\n",
       "      <th></th>\n",
       "      <th>title</th>\n",
       "      <th>pu_number</th>\n",
       "      <th>show_start_date</th>\n",
       "      <th>type</th>\n",
       "      <th>film_studio</th>\n",
       "      <th>production_country</th>\n",
       "      <th>director</th>\n",
       "      <th>producer</th>\n",
       "      <th>age_restriction</th>\n",
       "      <th>refundable_support</th>\n",
       "      <th>nonrefundable_support</th>\n",
       "      <th>budget</th>\n",
       "      <th>financing_source</th>\n",
       "      <th>ratings</th>\n",
       "      <th>genres</th>\n",
       "      <th>box_office</th>\n",
       "    </tr>\n",
       "  </thead>\n",
       "  <tbody>\n",
       "    <tr>\n",
       "      <th>1752</th>\n",
       "      <td>14+</td>\n",
       "      <td>111023614</td>\n",
       "      <td>2014-12-19 12:00:00</td>\n",
       "      <td>Художественный</td>\n",
       "      <td>ооо киностудия  \"сентябрь\"</td>\n",
       "      <td>россия</td>\n",
       "      <td>а.зайцев</td>\n",
       "      <td>о.гранина, а.зайцев</td>\n",
       "      <td>16</td>\n",
       "      <td>0.00</td>\n",
       "      <td>23,000,000.00</td>\n",
       "      <td>0.00</td>\n",
       "      <td>министерство культуры, фонд кино</td>\n",
       "      <td>6.60</td>\n",
       "      <td>мелодрама</td>\n",
       "      <td>10,234,016.10</td>\n",
       "    </tr>\n",
       "    <tr>\n",
       "      <th>1753</th>\n",
       "      <td>Дуxless 2</td>\n",
       "      <td>111000415</td>\n",
       "      <td>2015-01-26 12:00:00</td>\n",
       "      <td>Художественный</td>\n",
       "      <td>ооо \"киностудия \"слово\", ооо \"арт пикчерс студия\"</td>\n",
       "      <td>россия</td>\n",
       "      <td>р.прыгунов</td>\n",
       "      <td>п.ануров, ф.бондарчук, д.рудовский</td>\n",
       "      <td>16</td>\n",
       "      <td>0.00</td>\n",
       "      <td>75,000,000.00</td>\n",
       "      <td>0.00</td>\n",
       "      <td>фонд кино</td>\n",
       "      <td>6.60</td>\n",
       "      <td>драма</td>\n",
       "      <td>446,163,511.00</td>\n",
       "    </tr>\n",
       "    <tr>\n",
       "      <th>2089</th>\n",
       "      <td>Воин (2015)</td>\n",
       "      <td>111017315</td>\n",
       "      <td>2015-09-28 12:00:00</td>\n",
       "      <td>Художественный</td>\n",
       "      <td>ооо \"форпост продакшн\", ооо \"арт пикчерс студия\"</td>\n",
       "      <td>россия</td>\n",
       "      <td>а.андрианов</td>\n",
       "      <td>ооо \"арт пикчерс студия\"</td>\n",
       "      <td>12</td>\n",
       "      <td>10,000,000.00</td>\n",
       "      <td>70,000,000.00</td>\n",
       "      <td>0.00</td>\n",
       "      <td>фонд кино</td>\n",
       "      <td>7.80</td>\n",
       "      <td>боевик,драма,криминал</td>\n",
       "      <td>196,572,438.40</td>\n",
       "    </tr>\n",
       "    <tr>\n",
       "      <th>2148</th>\n",
       "      <td>Бармен.</td>\n",
       "      <td>111009615</td>\n",
       "      <td>2015-05-26 12:00:00</td>\n",
       "      <td>Художественный</td>\n",
       "      <td>ао \"вайт медиа\", ооо \"арт пикчерс студия\"</td>\n",
       "      <td>россия</td>\n",
       "      <td>д.штурманова</td>\n",
       "      <td>т.вайнштейн</td>\n",
       "      <td>16</td>\n",
       "      <td>20,000,000.00</td>\n",
       "      <td>0.00</td>\n",
       "      <td>0.00</td>\n",
       "      <td>фонд кино</td>\n",
       "      <td>6.20</td>\n",
       "      <td>комедия,фэнтези</td>\n",
       "      <td>67,418,974.80</td>\n",
       "    </tr>\n",
       "    <tr>\n",
       "      <th>2213</th>\n",
       "      <td>Савва. Сердце воина</td>\n",
       "      <td>114001715</td>\n",
       "      <td>2015-07-21 12:00:00</td>\n",
       "      <td>Анимационный</td>\n",
       "      <td>ооо \"глюкоза продакшн\", ооо \"арт пикчерс студия\"</td>\n",
       "      <td>россия</td>\n",
       "      <td>м.фадеев</td>\n",
       "      <td>а.чистяков</td>\n",
       "      <td>6</td>\n",
       "      <td>60,000,000.00</td>\n",
       "      <td>100,000,000.00</td>\n",
       "      <td>0.00</td>\n",
       "      <td>фонд кино</td>\n",
       "      <td>4.60</td>\n",
       "      <td>мультфильм,приключения,фэнтези</td>\n",
       "      <td>184,487,551.40</td>\n",
       "    </tr>\n",
       "    <tr>\n",
       "      <th>2279</th>\n",
       "      <td>Тряпичный союз</td>\n",
       "      <td>111010215</td>\n",
       "      <td>2015-06-08 12:00:00</td>\n",
       "      <td>Художественный</td>\n",
       "      <td>ооо \"кинокомпания \"коктебель\"</td>\n",
       "      <td>россия</td>\n",
       "      <td>м.местецкий</td>\n",
       "      <td>р.борисевич, а.кушаев</td>\n",
       "      <td>18</td>\n",
       "      <td>0.00</td>\n",
       "      <td>59,000,000.00</td>\n",
       "      <td>0.00</td>\n",
       "      <td>фонд кино</td>\n",
       "      <td>6.30</td>\n",
       "      <td>комедия,драма</td>\n",
       "      <td>1,957,738.51</td>\n",
       "    </tr>\n",
       "    <tr>\n",
       "      <th>2378</th>\n",
       "      <td>Срочно выйду замуж</td>\n",
       "      <td>111017115</td>\n",
       "      <td>2015-09-30 12:00:00</td>\n",
       "      <td>Художественный</td>\n",
       "      <td>ао \"вайт медиа\", ооо \"арт пикчерс студия\"</td>\n",
       "      <td>россия</td>\n",
       "      <td>с чекалов</td>\n",
       "      <td>ф.бондарчук, т.вайнштейн, д.рудовский</td>\n",
       "      <td>16</td>\n",
       "      <td>0.00</td>\n",
       "      <td>35,000,000.00</td>\n",
       "      <td>0.00</td>\n",
       "      <td>фонд кино</td>\n",
       "      <td>5.10</td>\n",
       "      <td>комедия,мелодрама</td>\n",
       "      <td>72,937,783.20</td>\n",
       "    </tr>\n",
       "    <tr>\n",
       "      <th>2464</th>\n",
       "      <td>Помню - не помню!</td>\n",
       "      <td>111004916</td>\n",
       "      <td>2016-03-01 12:00:00</td>\n",
       "      <td>Художественный</td>\n",
       "      <td>ооо \"кинофирма\"</td>\n",
       "      <td>россия</td>\n",
       "      <td>в.ровенский</td>\n",
       "      <td>ооо \"кинофирма\"</td>\n",
       "      <td>12</td>\n",
       "      <td>0.00</td>\n",
       "      <td>6,000,000.00</td>\n",
       "      <td>0.00</td>\n",
       "      <td>министерство культуры</td>\n",
       "      <td>4.30</td>\n",
       "      <td>комедия</td>\n",
       "      <td>15,362,931.43</td>\n",
       "    </tr>\n",
       "    <tr>\n",
       "      <th>2636</th>\n",
       "      <td>Любовь с ограничениями</td>\n",
       "      <td>111008216</td>\n",
       "      <td>2016-04-29 12:00:00</td>\n",
       "      <td>Художественный</td>\n",
       "      <td>ао \"вайт медиа\", ооо \"арт пикчерс студия\"</td>\n",
       "      <td>россия</td>\n",
       "      <td>д.тюрин</td>\n",
       "      <td>ф.бондарчук, т.вайнштейн, д.рудовский</td>\n",
       "      <td>16</td>\n",
       "      <td>19,000,000.00</td>\n",
       "      <td>51,000,000.00</td>\n",
       "      <td>0.00</td>\n",
       "      <td>фонд кино</td>\n",
       "      <td>6.30</td>\n",
       "      <td>комедия,мелодрама</td>\n",
       "      <td>70,299,052.00</td>\n",
       "    </tr>\n",
       "    <tr>\n",
       "      <th>3121</th>\n",
       "      <td>Притяжение (2016)</td>\n",
       "      <td>111018116</td>\n",
       "      <td>2016-12-16 12:00:00</td>\n",
       "      <td>Художественный</td>\n",
       "      <td>ооо \"водород 2011\",  ооо \"арт пикчерс студия\"</td>\n",
       "      <td>россия</td>\n",
       "      <td>ф.бондарчук</td>\n",
       "      <td>ооо \"арт пикчерс студия\"</td>\n",
       "      <td>12</td>\n",
       "      <td>0.00</td>\n",
       "      <td>250,000,000.00</td>\n",
       "      <td>0.00</td>\n",
       "      <td>фонд кино</td>\n",
       "      <td>5.60</td>\n",
       "      <td>фантастика</td>\n",
       "      <td>1,038,321,489.00</td>\n",
       "    </tr>\n",
       "    <tr>\n",
       "      <th>3229</th>\n",
       "      <td>Чудо-юдо</td>\n",
       "      <td>114001817</td>\n",
       "      <td>2017-06-27 12:00:00</td>\n",
       "      <td>Анимационный</td>\n",
       "      <td>ооо \"кинофирма\"</td>\n",
       "      <td>россия</td>\n",
       "      <td>а.лукичев</td>\n",
       "      <td>ооо \"кинофирма\"</td>\n",
       "      <td>6</td>\n",
       "      <td>20,000,000.00</td>\n",
       "      <td>20,000,000.00</td>\n",
       "      <td>0.00</td>\n",
       "      <td>фонд кино</td>\n",
       "      <td>5.20</td>\n",
       "      <td>мультфильм,фэнтези,семейный</td>\n",
       "      <td>55,108,014.76</td>\n",
       "    </tr>\n",
       "    <tr>\n",
       "      <th>3292</th>\n",
       "      <td>Мифы</td>\n",
       "      <td>111004317</td>\n",
       "      <td>2017-06-07 12:00:00</td>\n",
       "      <td>Художественный</td>\n",
       "      <td>ооо \"хайпфилм\", ооо \"арт пикчерс студия\"</td>\n",
       "      <td>россия</td>\n",
       "      <td>а.молочников</td>\n",
       "      <td>ф.бондарчук, д.рудовский, и.стюарт, м.османн, ...</td>\n",
       "      <td>16</td>\n",
       "      <td>25,000,000.00</td>\n",
       "      <td>20,000,000.00</td>\n",
       "      <td>0.00</td>\n",
       "      <td>фонд кино</td>\n",
       "      <td>4.80</td>\n",
       "      <td>комедия</td>\n",
       "      <td>50,451,949.00</td>\n",
       "    </tr>\n",
       "    <tr>\n",
       "      <th>5135</th>\n",
       "      <td>Селфи</td>\n",
       "      <td>111012117</td>\n",
       "      <td>2018-02-01 12:00:00</td>\n",
       "      <td>Художественный</td>\n",
       "      <td>ооо \"киностудия \"слово\", ооо \"арт пикчерс студия\"</td>\n",
       "      <td>россия</td>\n",
       "      <td>н.хомерики</td>\n",
       "      <td>п.ануров, ф.бондарчук, д.рудовский</td>\n",
       "      <td>16</td>\n",
       "      <td>20,000,000.00</td>\n",
       "      <td>40,000,000.00</td>\n",
       "      <td>0.00</td>\n",
       "      <td>фонд кино</td>\n",
       "      <td>5.80</td>\n",
       "      <td>триллер,драма</td>\n",
       "      <td>225,196,400.03</td>\n",
       "    </tr>\n",
       "    <tr>\n",
       "      <th>5266</th>\n",
       "      <td>Два хвоста</td>\n",
       "      <td>114001018</td>\n",
       "      <td>2018-05-31 12:00:00</td>\n",
       "      <td>Анимационный</td>\n",
       "      <td>ооо \"лицензионные бренды\"</td>\n",
       "      <td>россия</td>\n",
       "      <td>в.ровенский, н.лопато, в.азеев</td>\n",
       "      <td>ооо \"лицензионные бренды\"</td>\n",
       "      <td>6</td>\n",
       "      <td>10,000,000.00</td>\n",
       "      <td>60,000,000.00</td>\n",
       "      <td>0.00</td>\n",
       "      <td>фонд кино</td>\n",
       "      <td>5.00</td>\n",
       "      <td>мультфильм,детский</td>\n",
       "      <td>106,514,301.03</td>\n",
       "    </tr>\n",
       "    <tr>\n",
       "      <th>5467</th>\n",
       "      <td>Принцесса и дракон</td>\n",
       "      <td>114003018</td>\n",
       "      <td>2018-08-23 12:00:00</td>\n",
       "      <td>Анимационный</td>\n",
       "      <td>ооо \"лицензионные бренды\"</td>\n",
       "      <td>россия</td>\n",
       "      <td>м.нефедова</td>\n",
       "      <td>ооо \"лицензионные бренды\"</td>\n",
       "      <td>6</td>\n",
       "      <td>40,000,000.00</td>\n",
       "      <td>40,000,000.00</td>\n",
       "      <td>0.00</td>\n",
       "      <td>фонд кино</td>\n",
       "      <td>5.20</td>\n",
       "      <td>мультфильм,фэнтези,детский</td>\n",
       "      <td>83,366,328.66</td>\n",
       "    </tr>\n",
       "    <tr>\n",
       "      <th>5773</th>\n",
       "      <td>Баба Яга</td>\n",
       "      <td>114006518</td>\n",
       "      <td>2018-11-08 12:00:00</td>\n",
       "      <td>Анимационный</td>\n",
       "      <td>ооо \"арт пикчерс студия\"</td>\n",
       "      <td>россия</td>\n",
       "      <td>в.саков</td>\n",
       "      <td>ооо \"арт пикчерс студия\", ооо \"криэйтив анимэй...</td>\n",
       "      <td>6</td>\n",
       "      <td>0.00</td>\n",
       "      <td>138,969,465.00</td>\n",
       "      <td>0.00</td>\n",
       "      <td>фонд кино</td>\n",
       "      <td>NaN</td>\n",
       "      <td>unknown</td>\n",
       "      <td>1,334,699.40</td>\n",
       "    </tr>\n",
       "    <tr>\n",
       "      <th>6250</th>\n",
       "      <td>Большое путешествие</td>\n",
       "      <td>114002419</td>\n",
       "      <td>2019-04-20 12:00:00</td>\n",
       "      <td>Анимационный</td>\n",
       "      <td>ооо \"лицензионные бренды\"</td>\n",
       "      <td>россия</td>\n",
       "      <td>н.лопато, в.ровенский</td>\n",
       "      <td>ооо \"лицензионные бренды\"</td>\n",
       "      <td>6</td>\n",
       "      <td>60,000,000.00</td>\n",
       "      <td>120,000,000.00</td>\n",
       "      <td>0.00</td>\n",
       "      <td>фонд кино</td>\n",
       "      <td>6.20</td>\n",
       "      <td>мультфильм,комедия,приключения</td>\n",
       "      <td>147,606,826.51</td>\n",
       "    </tr>\n",
       "  </tbody>\n",
       "</table>\n",
       "</div>"
      ],
      "text/plain": [
       "                       title  pu_number     show_start_date            type  \\\n",
       "1752                     14+  111023614 2014-12-19 12:00:00  Художественный   \n",
       "1753               Дуxless 2  111000415 2015-01-26 12:00:00  Художественный   \n",
       "2089             Воин (2015)  111017315 2015-09-28 12:00:00  Художественный   \n",
       "2148                 Бармен.  111009615 2015-05-26 12:00:00  Художественный   \n",
       "2213     Савва. Сердце воина  114001715 2015-07-21 12:00:00    Анимационный   \n",
       "2279          Тряпичный союз  111010215 2015-06-08 12:00:00  Художественный   \n",
       "2378      Срочно выйду замуж  111017115 2015-09-30 12:00:00  Художественный   \n",
       "2464       Помню - не помню!  111004916 2016-03-01 12:00:00  Художественный   \n",
       "2636  Любовь с ограничениями  111008216 2016-04-29 12:00:00  Художественный   \n",
       "3121       Притяжение (2016)  111018116 2016-12-16 12:00:00  Художественный   \n",
       "3229                Чудо-юдо  114001817 2017-06-27 12:00:00    Анимационный   \n",
       "3292                    Мифы  111004317 2017-06-07 12:00:00  Художественный   \n",
       "5135                   Селфи  111012117 2018-02-01 12:00:00  Художественный   \n",
       "5266              Два хвоста  114001018 2018-05-31 12:00:00    Анимационный   \n",
       "5467      Принцесса и дракон  114003018 2018-08-23 12:00:00    Анимационный   \n",
       "5773                Баба Яга  114006518 2018-11-08 12:00:00    Анимационный   \n",
       "6250     Большое путешествие  114002419 2019-04-20 12:00:00    Анимационный   \n",
       "\n",
       "                                            film_studio production_country  \\\n",
       "1752                         ооо киностудия  \"сентябрь\"             россия   \n",
       "1753  ооо \"киностудия \"слово\", ооо \"арт пикчерс студия\"             россия   \n",
       "2089   ооо \"форпост продакшн\", ооо \"арт пикчерс студия\"             россия   \n",
       "2148          ао \"вайт медиа\", ооо \"арт пикчерс студия\"             россия   \n",
       "2213   ооо \"глюкоза продакшн\", ооо \"арт пикчерс студия\"             россия   \n",
       "2279                      ооо \"кинокомпания \"коктебель\"             россия   \n",
       "2378          ао \"вайт медиа\", ооо \"арт пикчерс студия\"             россия   \n",
       "2464                                    ооо \"кинофирма\"             россия   \n",
       "2636          ао \"вайт медиа\", ооо \"арт пикчерс студия\"             россия   \n",
       "3121      ооо \"водород 2011\",  ооо \"арт пикчерс студия\"             россия   \n",
       "3229                                    ооо \"кинофирма\"             россия   \n",
       "3292           ооо \"хайпфилм\", ооо \"арт пикчерс студия\"             россия   \n",
       "5135  ооо \"киностудия \"слово\", ооо \"арт пикчерс студия\"             россия   \n",
       "5266                          ооо \"лицензионные бренды\"             россия   \n",
       "5467                          ооо \"лицензионные бренды\"             россия   \n",
       "5773                           ооо \"арт пикчерс студия\"             россия   \n",
       "6250                          ооо \"лицензионные бренды\"             россия   \n",
       "\n",
       "                            director  \\\n",
       "1752                        а.зайцев   \n",
       "1753                      р.прыгунов   \n",
       "2089                     а.андрианов   \n",
       "2148                    д.штурманова   \n",
       "2213                        м.фадеев   \n",
       "2279                     м.местецкий   \n",
       "2378                       с чекалов   \n",
       "2464                     в.ровенский   \n",
       "2636                         д.тюрин   \n",
       "3121                     ф.бондарчук   \n",
       "3229                       а.лукичев   \n",
       "3292                    а.молочников   \n",
       "5135                      н.хомерики   \n",
       "5266  в.ровенский, н.лопато, в.азеев   \n",
       "5467                      м.нефедова   \n",
       "5773                         в.саков   \n",
       "6250           н.лопато, в.ровенский   \n",
       "\n",
       "                                               producer  age_restriction  \\\n",
       "1752                                о.гранина, а.зайцев               16   \n",
       "1753                 п.ануров, ф.бондарчук, д.рудовский               16   \n",
       "2089                           ооо \"арт пикчерс студия\"               12   \n",
       "2148                                        т.вайнштейн               16   \n",
       "2213                                         а.чистяков                6   \n",
       "2279                              р.борисевич, а.кушаев               18   \n",
       "2378              ф.бондарчук, т.вайнштейн, д.рудовский               16   \n",
       "2464                                    ооо \"кинофирма\"               12   \n",
       "2636              ф.бондарчук, т.вайнштейн, д.рудовский               16   \n",
       "3121                           ооо \"арт пикчерс студия\"               12   \n",
       "3229                                    ооо \"кинофирма\"                6   \n",
       "3292  ф.бондарчук, д.рудовский, и.стюарт, м.османн, ...               16   \n",
       "5135                 п.ануров, ф.бондарчук, д.рудовский               16   \n",
       "5266                          ооо \"лицензионные бренды\"                6   \n",
       "5467                          ооо \"лицензионные бренды\"                6   \n",
       "5773  ооо \"арт пикчерс студия\", ооо \"криэйтив анимэй...                6   \n",
       "6250                          ооо \"лицензионные бренды\"                6   \n",
       "\n",
       "      refundable_support  nonrefundable_support  budget  \\\n",
       "1752                0.00          23,000,000.00    0.00   \n",
       "1753                0.00          75,000,000.00    0.00   \n",
       "2089       10,000,000.00          70,000,000.00    0.00   \n",
       "2148       20,000,000.00                   0.00    0.00   \n",
       "2213       60,000,000.00         100,000,000.00    0.00   \n",
       "2279                0.00          59,000,000.00    0.00   \n",
       "2378                0.00          35,000,000.00    0.00   \n",
       "2464                0.00           6,000,000.00    0.00   \n",
       "2636       19,000,000.00          51,000,000.00    0.00   \n",
       "3121                0.00         250,000,000.00    0.00   \n",
       "3229       20,000,000.00          20,000,000.00    0.00   \n",
       "3292       25,000,000.00          20,000,000.00    0.00   \n",
       "5135       20,000,000.00          40,000,000.00    0.00   \n",
       "5266       10,000,000.00          60,000,000.00    0.00   \n",
       "5467       40,000,000.00          40,000,000.00    0.00   \n",
       "5773                0.00         138,969,465.00    0.00   \n",
       "6250       60,000,000.00         120,000,000.00    0.00   \n",
       "\n",
       "                      financing_source  ratings  \\\n",
       "1752  министерство культуры, фонд кино     6.60   \n",
       "1753                         фонд кино     6.60   \n",
       "2089                         фонд кино     7.80   \n",
       "2148                         фонд кино     6.20   \n",
       "2213                         фонд кино     4.60   \n",
       "2279                         фонд кино     6.30   \n",
       "2378                         фонд кино     5.10   \n",
       "2464             министерство культуры     4.30   \n",
       "2636                         фонд кино     6.30   \n",
       "3121                         фонд кино     5.60   \n",
       "3229                         фонд кино     5.20   \n",
       "3292                         фонд кино     4.80   \n",
       "5135                         фонд кино     5.80   \n",
       "5266                         фонд кино     5.00   \n",
       "5467                         фонд кино     5.20   \n",
       "5773                         фонд кино      NaN   \n",
       "6250                         фонд кино     6.20   \n",
       "\n",
       "                              genres       box_office  \n",
       "1752                       мелодрама    10,234,016.10  \n",
       "1753                           драма   446,163,511.00  \n",
       "2089           боевик,драма,криминал   196,572,438.40  \n",
       "2148                 комедия,фэнтези    67,418,974.80  \n",
       "2213  мультфильм,приключения,фэнтези   184,487,551.40  \n",
       "2279                   комедия,драма     1,957,738.51  \n",
       "2378               комедия,мелодрама    72,937,783.20  \n",
       "2464                         комедия    15,362,931.43  \n",
       "2636               комедия,мелодрама    70,299,052.00  \n",
       "3121                      фантастика 1,038,321,489.00  \n",
       "3229     мультфильм,фэнтези,семейный    55,108,014.76  \n",
       "3292                         комедия    50,451,949.00  \n",
       "5135                   триллер,драма   225,196,400.03  \n",
       "5266              мультфильм,детский   106,514,301.03  \n",
       "5467      мультфильм,фэнтези,детский    83,366,328.66  \n",
       "5773                         unknown     1,334,699.40  \n",
       "6250  мультфильм,комедия,приключения   147,606,826.51  "
      ]
     },
     "execution_count": 51,
     "metadata": {},
     "output_type": "execute_result"
    }
   ],
   "source": [
    "df.loc[df['nonrefundable_support'] + df['refundable_support'] >= df['budget']]"
   ]
  },
  {
   "cell_type": "markdown",
   "metadata": {},
   "source": [
    "В строках не заполнен столбец общего бюджета. Заполним пропуски, считая budget = nonrefundable_support + refundable_support"
   ]
  },
  {
   "cell_type": "code",
   "execution_count": 52,
   "metadata": {},
   "outputs": [],
   "source": [
    "df.loc[df['budget']==0, 'budget'] = df.loc[df['budget']==0, 'refundable_support'] + df.loc[df['budget']==0, 'nonrefundable_support']"
   ]
  },
  {
   "cell_type": "code",
   "execution_count": 53,
   "metadata": {},
   "outputs": [
    {
     "data": {
      "text/plain": [
       "0"
      ]
     },
     "execution_count": 53,
     "metadata": {},
     "output_type": "execute_result"
    }
   ],
   "source": [
    "len(df.loc[df['budget'] == 0])"
   ]
  },
  {
   "cell_type": "markdown",
   "metadata": {
    "id": "Eu6oWp2CgFyS"
   },
   "source": [
    "#### Шаг 2.6. Добавьте новые столбцы\n",
    "\n",
    "\n",
    "\n"
   ]
  },
  {
   "cell_type": "markdown",
   "metadata": {
    "id": "7GgW-UpAgFyS"
   },
   "source": [
    "- Создайте столбец с информацией о годе проката. Выделите год из даты премьеры фильма."
   ]
  },
  {
   "cell_type": "code",
   "execution_count": 54,
   "metadata": {
    "id": "I-yd1DkWgFyT"
   },
   "outputs": [
    {
     "data": {
      "text/plain": [
       "array([2015, 2016, 2014, 2013, 2012, 2017, 2010, 2011, 2018, 2019])"
      ]
     },
     "execution_count": 54,
     "metadata": {},
     "output_type": "execute_result"
    }
   ],
   "source": [
    "df['year_start'] = df['show_start_date'].dt.year\n",
    "df['year_start'].unique()"
   ]
  },
  {
   "cell_type": "markdown",
   "metadata": {
    "id": "nFTDLDYOgFyT"
   },
   "source": [
    "- Создайте два столбца: с именем и фамилией главного режиссёра и основным жанром фильма. В столбцы войдут первые значения из списка режиссёров и жанров соответственно.\n",
    "\n",
    "<div id=\"accordion\">\n",
    "    <div class=\"card\">\n",
    "        <div class=\"card-header\" id=\"headingThree\">\n",
    "            <button class=\"btn btn-link collapsed\" data-toggle=\"collapse\" data-target=\"#collapseHint_2\" aria-expanded=\"false\" aria-controls=\"collapseHint_2\">Подсказка</button>\n",
    "        </div>\n",
    "        <div id=\"collapseHint_2\" class=\"collapse\" aria-labelledby=\"headingThree\" data-parent=\"#accordion\">\n",
    "            <div class=\"card-body\">\n",
    "Чтобы создать такие столбцы, лучше всего использовать собственную функцию. Эту функцию можно применить к двум столбцам сразу. \n",
    "            </div>\n",
    "        </div>\n",
    "    </div>\n",
    "</div>"
   ]
  },
  {
   "cell_type": "code",
   "execution_count": 55,
   "metadata": {},
   "outputs": [],
   "source": [
    "def get_main_value(value):\n",
    "    return value.split(',')[0]"
   ]
  },
  {
   "cell_type": "code",
   "execution_count": 56,
   "metadata": {
    "id": "LSbRZKbMgFyU"
   },
   "outputs": [
    {
     "data": {
      "text/plain": [
       "array(['unknown', 'аниме', 'биография', 'боевик', 'вестерн', 'военный',\n",
       "       'детектив', 'детский', 'для взрослых', 'документальный', 'драма',\n",
       "       'история', 'комедия', 'концерт', 'короткометражка', 'криминал',\n",
       "       'мелодрама', 'музыка', 'мультфильм', 'мюзикл', 'приключения',\n",
       "       'реальное тв', 'семейный', 'спорт', 'триллер', 'ужасы',\n",
       "       'фантастика', 'фильм-нуар', 'фэнтези'], dtype=object)"
      ]
     },
     "execution_count": 56,
     "metadata": {},
     "output_type": "execute_result"
    }
   ],
   "source": [
    "df['main_genre'] = df['genres'].apply(get_main_value)\n",
    "df['main_genre'].sort_values().unique()"
   ]
  },
  {
   "cell_type": "code",
   "execution_count": 57,
   "metadata": {},
   "outputs": [
    {
     "data": {
      "text/plain": [
       "4301"
      ]
     },
     "execution_count": 57,
     "metadata": {},
     "output_type": "execute_result"
    }
   ],
   "source": [
    "df['main_director'] = df['director'].apply(get_main_value)\n",
    "len(df['main_director'].sort_values().unique())"
   ]
  },
  {
   "cell_type": "markdown",
   "metadata": {
    "id": "1FsCXHwdgFyU"
   },
   "source": [
    "- Посчитайте, какую долю от общего бюджета фильма составляет государственная поддержка."
   ]
  },
  {
   "cell_type": "code",
   "execution_count": 58,
   "metadata": {},
   "outputs": [],
   "source": [
    "# данный столбец понадобится в дальнейшем для исследований\n",
    "df['gov_support'] = df['refundable_support'] + df['nonrefundable_support']"
   ]
  },
  {
   "cell_type": "code",
   "execution_count": 59,
   "metadata": {
    "id": "LV6qFuZLgFyV"
   },
   "outputs": [
    {
     "data": {
      "text/plain": [
       "0.5413861681086368"
      ]
     },
     "execution_count": 59,
     "metadata": {},
     "output_type": "execute_result"
    }
   ],
   "source": [
    "df['gov_support_ratio'] = df['gov_support'] / df['budget']\n",
    "df['gov_support_ratio'].mean()"
   ]
  },
  {
   "cell_type": "markdown",
   "metadata": {},
   "source": [
    "**Вывод**:<br> \n",
    "Данные из двух файлов были объединены в один датафрейм путем сопоставления прокатных удостоверений, представленных в двух файлах. Важно упомянуть о наличии одного пропуска в столбце с номером прокатного удостоверения. Соответствующая строка была удалена.<br>\n",
    "Также предприняты следующие действия:<br>\n",
    "\n",
    "1) Удалены строки с пропусками в столбцах film_studio, production_country, director, producer<br>\n",
    "2) Пропуски в столбцах genres и financing_source заполнены 'unknown'<br>\n",
    "3) Пропуски в столбцах refundable_support, nonrefundable_support, budget оставлены без изменений<br>"
   ]
  },
  {
   "cell_type": "markdown",
   "metadata": {
    "id": "6t4EukPLgFyV"
   },
   "source": [
    "### Шаг 3. Проведите исследовательский анализ данных\n"
   ]
  },
  {
   "cell_type": "markdown",
   "metadata": {
    "id": "vAH8WCzugFyV"
   },
   "source": [
    "- Посмотрите, сколько фильмов выходило в прокат каждый год. Обратите внимание, что данные о прокате в кинотеатрах известны не для всех фильмов. Посчитайте, какую долю составляют фильмы с указанной информацией о прокате в кинотеатрах. Проанализируйте, как эта доля менялась по годам. Сделайте вывод о том, какой период полнее всего представлен в данных."
   ]
  },
  {
   "cell_type": "markdown",
   "metadata": {},
   "source": [
    "Под \"информацией о прокате\" я понимаю размер сборов"
   ]
  },
  {
   "cell_type": "markdown",
   "metadata": {},
   "source": [
    "Узнаем распределение количества фиьмов по годам"
   ]
  },
  {
   "cell_type": "code",
   "execution_count": 60,
   "metadata": {
    "id": "ABeV47y7gFyW"
   },
   "outputs": [
    {
     "data": {
      "text/html": [
       "<div>\n",
       "<style scoped>\n",
       "    .dataframe tbody tr th:only-of-type {\n",
       "        vertical-align: middle;\n",
       "    }\n",
       "\n",
       "    .dataframe tbody tr th {\n",
       "        vertical-align: top;\n",
       "    }\n",
       "\n",
       "    .dataframe thead th {\n",
       "        text-align: right;\n",
       "    }\n",
       "</style>\n",
       "<table border=\"1\" class=\"dataframe\">\n",
       "  <thead>\n",
       "    <tr style=\"text-align: right;\">\n",
       "      <th></th>\n",
       "      <th>pu_number</th>\n",
       "    </tr>\n",
       "    <tr>\n",
       "      <th>year_start</th>\n",
       "      <th></th>\n",
       "    </tr>\n",
       "  </thead>\n",
       "  <tbody>\n",
       "    <tr>\n",
       "      <th>2010</th>\n",
       "      <td>943</td>\n",
       "    </tr>\n",
       "    <tr>\n",
       "      <th>2011</th>\n",
       "      <td>605</td>\n",
       "    </tr>\n",
       "    <tr>\n",
       "      <th>2012</th>\n",
       "      <td>566</td>\n",
       "    </tr>\n",
       "    <tr>\n",
       "      <th>2013</th>\n",
       "      <td>539</td>\n",
       "    </tr>\n",
       "    <tr>\n",
       "      <th>2014</th>\n",
       "      <td>615</td>\n",
       "    </tr>\n",
       "    <tr>\n",
       "      <th>2015</th>\n",
       "      <td>626</td>\n",
       "    </tr>\n",
       "    <tr>\n",
       "      <th>2016</th>\n",
       "      <td>762</td>\n",
       "    </tr>\n",
       "    <tr>\n",
       "      <th>2017</th>\n",
       "      <td>471</td>\n",
       "    </tr>\n",
       "    <tr>\n",
       "      <th>2018</th>\n",
       "      <td>864</td>\n",
       "    </tr>\n",
       "    <tr>\n",
       "      <th>2019</th>\n",
       "      <td>896</td>\n",
       "    </tr>\n",
       "  </tbody>\n",
       "</table>\n",
       "</div>"
      ],
      "text/plain": [
       "            pu_number\n",
       "year_start           \n",
       "2010              943\n",
       "2011              605\n",
       "2012              566\n",
       "2013              539\n",
       "2014              615\n",
       "2015              626\n",
       "2016              762\n",
       "2017              471\n",
       "2018              864\n",
       "2019              896"
      ]
     },
     "execution_count": 60,
     "metadata": {},
     "output_type": "execute_result"
    }
   ],
   "source": [
    "(df\n",
    " .pivot_table(\n",
    "     index='year_start', \n",
    "     values='pu_number',\n",
    "     aggfunc='count'\n",
    " )\n",
    ")"
   ]
  },
  {
   "cell_type": "code",
   "execution_count": 61,
   "metadata": {},
   "outputs": [
    {
     "data": {
      "text/plain": [
       "0.4408305503121824"
      ]
     },
     "execution_count": 61,
     "metadata": {},
     "output_type": "execute_result"
    }
   ],
   "source": [
    "len(df.loc[~df['box_office'].isna()]) / len(df)"
   ]
  },
  {
   "cell_type": "markdown",
   "metadata": {},
   "source": [
    "В датасете представленно 44% показов с информацией о сборах, посмотрим, как это значение меняется по годам"
   ]
  },
  {
   "cell_type": "code",
   "execution_count": 62,
   "metadata": {},
   "outputs": [
    {
     "data": {
      "image/png": "[encoded data removed]",
      "text/plain": [
       "<Figure size 432x288 with 1 Axes>"
      ]
     },
     "metadata": {
      "needs_background": "light"
     },
     "output_type": "display_data"
    }
   ],
   "source": [
    "year_list = df['year_start'].sort_values().unique()\n",
    "ratio_list = []\n",
    "year_ratio = 0\n",
    "for year in year_list:\n",
    "    ratio_list.append(len(df.loc[(~df['box_office'].isna()) & (df['year_start']==year)]) / len(df.loc[df['year_start']==year]))\n",
    "\n",
    "fig, ax = plt.subplots()\n",
    "ax.bar(year_list, ratio_list)\n",
    "ax.set_ylabel('Доля фильмов')\n",
    "ax.set_xlabel('Год')\n",
    "ax.set_title('Распределение доли фильмов с информацией о сборах по годам')\n",
    "plt.show()"
   ]
  },
  {
   "cell_type": "markdown",
   "metadata": {},
   "source": [
    "Самым полным периодом следует считать 2015-2017 года. До 2014 включительно информации слишком мало. Начиная с 2018, наблюдается спад осведомленности о сборах."
   ]
  },
  {
   "cell_type": "markdown",
   "metadata": {},
   "source": [
    "Посмотрим на график зависимости количества фильмов по годам"
   ]
  },
  {
   "cell_type": "code",
   "execution_count": 63,
   "metadata": {},
   "outputs": [
    {
     "data": {
      "image/png": "[encoded data removed]",
      "text/plain": [
       "<Figure size 576x360 with 1 Axes>"
      ]
     },
     "metadata": {
      "needs_background": "light"
     },
     "output_type": "display_data"
    }
   ],
   "source": [
    "(df\n",
    " .pivot_table(\n",
    "     index='year_start', \n",
    "     values='pu_number',\n",
    "     aggfunc='count'\n",
    " )\n",
    " .plot(kind='bar',\n",
    "       figsize=(8, 5), \n",
    "       grid=True,\n",
    "       title='Распределение фильмов по годам')\n",
    ");"
   ]
  },
  {
   "cell_type": "markdown",
   "metadata": {},
   "source": [
    "А теперь возьмем только те строки, в которых есть информация о сборах"
   ]
  },
  {
   "cell_type": "code",
   "execution_count": 64,
   "metadata": {},
   "outputs": [
    {
     "data": {
      "text/plain": [
       "<AxesSubplot:title={'center':'Распределение фильмов с информацией о сборах по годам'}, xlabel='year_start'>"
      ]
     },
     "execution_count": 64,
     "metadata": {},
     "output_type": "execute_result"
    },
    {
     "data": {
      "image/png": "[encoded data removed]",
      "text/plain": [
       "<Figure size 576x360 with 1 Axes>"
      ]
     },
     "metadata": {
      "needs_background": "light"
     },
     "output_type": "display_data"
    }
   ],
   "source": [
    "(df\n",
    " .loc[~df['box_office'].isna()]\n",
    " .pivot_table(\n",
    "     index='year_start', \n",
    "     values='pu_number',\n",
    "     aggfunc='count'\n",
    " )\n",
    " .plot(kind='bar', \n",
    "       figsize=(8, 5), \n",
    "       grid=True,\n",
    "       title='Распределение фильмов с информацией о сборах по годам')\n",
    ")"
   ]
  },
  {
   "cell_type": "markdown",
   "metadata": {},
   "source": [
    "Больше всего фильмов было выпущено в 2010 году, но за этот год меньше всего информации о сборах. Аналогичная ситуация продолжается вплоть до 2015 года: фильмов много, информации о них - мало"
   ]
  },
  {
   "cell_type": "markdown",
   "metadata": {
    "id": "BEOdcIrIgFyW"
   },
   "source": [
    "- Изучите, как менялась динамика проката по годам. В каком году сумма сборов была минимальной? А максимальной?"
   ]
  },
  {
   "cell_type": "code",
   "execution_count": 65,
   "metadata": {
    "id": "tfEhofYvgFyX"
   },
   "outputs": [
    {
     "data": {
      "text/plain": [
       "<AxesSubplot:title={'center':'Распределение сумм сборов по годам'}, xlabel='year_start'>"
      ]
     },
     "execution_count": 65,
     "metadata": {},
     "output_type": "execute_result"
    },
    {
     "data": {
      "image/png": "[encoded data removed]",
      "text/plain": [
       "<Figure size 576x360 with 1 Axes>"
      ]
     },
     "metadata": {
      "needs_background": "light"
     },
     "output_type": "display_data"
    }
   ],
   "source": [
    "(df\n",
    " .loc[~df['box_office'].isna()]\n",
    " .pivot_table(\n",
    "     index='year_start', \n",
    "     values='box_office',\n",
    "     aggfunc='sum'\n",
    " )\n",
    " .plot(kind='bar', \n",
    "       figsize=(8, 5), \n",
    "       grid=True,\n",
    "       title='Распределение сумм сборов по годам')\n",
    ")"
   ]
  },
  {
   "cell_type": "code",
   "execution_count": 66,
   "metadata": {},
   "outputs": [
    {
     "data": {
      "text/html": [
       "<div>\n",
       "<style scoped>\n",
       "    .dataframe tbody tr th:only-of-type {\n",
       "        vertical-align: middle;\n",
       "    }\n",
       "\n",
       "    .dataframe tbody tr th {\n",
       "        vertical-align: top;\n",
       "    }\n",
       "\n",
       "    .dataframe thead th {\n",
       "        text-align: right;\n",
       "    }\n",
       "</style>\n",
       "<table border=\"1\" class=\"dataframe\">\n",
       "  <thead>\n",
       "    <tr style=\"text-align: right;\">\n",
       "      <th></th>\n",
       "      <th>box_office</th>\n",
       "    </tr>\n",
       "    <tr>\n",
       "      <th>year_start</th>\n",
       "      <th></th>\n",
       "    </tr>\n",
       "  </thead>\n",
       "  <tbody>\n",
       "    <tr>\n",
       "      <th>2010</th>\n",
       "      <td>2,425,499.00</td>\n",
       "    </tr>\n",
       "    <tr>\n",
       "      <th>2011</th>\n",
       "      <td>14,095,925.00</td>\n",
       "    </tr>\n",
       "    <tr>\n",
       "      <th>2012</th>\n",
       "      <td>6,894,293.00</td>\n",
       "    </tr>\n",
       "    <tr>\n",
       "      <th>2013</th>\n",
       "      <td>29,539,565.20</td>\n",
       "    </tr>\n",
       "    <tr>\n",
       "      <th>2014</th>\n",
       "      <td>7,439,092,059.90</td>\n",
       "    </tr>\n",
       "    <tr>\n",
       "      <th>2015</th>\n",
       "      <td>39,193,073,279.20</td>\n",
       "    </tr>\n",
       "    <tr>\n",
       "      <th>2016</th>\n",
       "      <td>47,864,341,535.91</td>\n",
       "    </tr>\n",
       "    <tr>\n",
       "      <th>2017</th>\n",
       "      <td>48,562,251,655.51</td>\n",
       "    </tr>\n",
       "    <tr>\n",
       "      <th>2018</th>\n",
       "      <td>49,622,654,083.77</td>\n",
       "    </tr>\n",
       "    <tr>\n",
       "      <th>2019</th>\n",
       "      <td>48,366,520,039.88</td>\n",
       "    </tr>\n",
       "  </tbody>\n",
       "</table>\n",
       "</div>"
      ],
      "text/plain": [
       "                  box_office\n",
       "year_start                  \n",
       "2010            2,425,499.00\n",
       "2011           14,095,925.00\n",
       "2012            6,894,293.00\n",
       "2013           29,539,565.20\n",
       "2014        7,439,092,059.90\n",
       "2015       39,193,073,279.20\n",
       "2016       47,864,341,535.91\n",
       "2017       48,562,251,655.51\n",
       "2018       49,622,654,083.77\n",
       "2019       48,366,520,039.88"
      ]
     },
     "execution_count": 66,
     "metadata": {},
     "output_type": "execute_result"
    }
   ],
   "source": [
    "(df\n",
    " .loc[~df['box_office'].isna()]\n",
    " .pivot_table(\n",
    "     index='year_start', \n",
    "     values='box_office',\n",
    "     aggfunc='sum'\n",
    " )\n",
    ")"
   ]
  },
  {
   "cell_type": "markdown",
   "metadata": {},
   "source": [
    "Самым прибыльным годом является 2018 - он принес почти 50 млрд рублей. Меньше всего сборов приходится на 2010 - 2,4 млн рублей."
   ]
  },
  {
   "cell_type": "markdown",
   "metadata": {
    "id": "G-7qS-N-gFyY"
   },
   "source": [
    "- С помощью сводной таблицы посчитайте среднюю и медианную сумму сборов для каждого года."
   ]
  },
  {
   "cell_type": "code",
   "execution_count": 67,
   "metadata": {
    "id": "jmp-rgg9gFyY"
   },
   "outputs": [
    {
     "data": {
      "text/html": [
       "<div>\n",
       "<style scoped>\n",
       "    .dataframe tbody tr th:only-of-type {\n",
       "        vertical-align: middle;\n",
       "    }\n",
       "\n",
       "    .dataframe tbody tr th {\n",
       "        vertical-align: top;\n",
       "    }\n",
       "\n",
       "    .dataframe thead th {\n",
       "        text-align: right;\n",
       "    }\n",
       "</style>\n",
       "<table border=\"1\" class=\"dataframe\">\n",
       "  <thead>\n",
       "    <tr style=\"text-align: right;\">\n",
       "      <th></th>\n",
       "      <th>mean</th>\n",
       "      <th>median</th>\n",
       "    </tr>\n",
       "    <tr>\n",
       "      <th>year_start</th>\n",
       "      <th></th>\n",
       "      <th></th>\n",
       "    </tr>\n",
       "  </thead>\n",
       "  <tbody>\n",
       "    <tr>\n",
       "      <th>2010</th>\n",
       "      <td>23,548.53</td>\n",
       "      <td>1,700.00</td>\n",
       "    </tr>\n",
       "    <tr>\n",
       "      <th>2011</th>\n",
       "      <td>131,737.62</td>\n",
       "      <td>3,000.00</td>\n",
       "    </tr>\n",
       "    <tr>\n",
       "      <th>2012</th>\n",
       "      <td>55,154.34</td>\n",
       "      <td>5,560.00</td>\n",
       "    </tr>\n",
       "    <tr>\n",
       "      <th>2013</th>\n",
       "      <td>191,815.36</td>\n",
       "      <td>4,717.50</td>\n",
       "    </tr>\n",
       "    <tr>\n",
       "      <th>2014</th>\n",
       "      <td>30,740,049.83</td>\n",
       "      <td>69,120.00</td>\n",
       "    </tr>\n",
       "    <tr>\n",
       "      <th>2015</th>\n",
       "      <td>87,484,538.57</td>\n",
       "      <td>5,244,391.50</td>\n",
       "    </tr>\n",
       "    <tr>\n",
       "      <th>2016</th>\n",
       "      <td>92,760,351.81</td>\n",
       "      <td>4,177,689.05</td>\n",
       "    </tr>\n",
       "    <tr>\n",
       "      <th>2017</th>\n",
       "      <td>136,410,819.26</td>\n",
       "      <td>10,177,833.50</td>\n",
       "    </tr>\n",
       "    <tr>\n",
       "      <th>2018</th>\n",
       "      <td>106,031,312.14</td>\n",
       "      <td>8,911,533.94</td>\n",
       "    </tr>\n",
       "    <tr>\n",
       "      <th>2019</th>\n",
       "      <td>93,552,263.13</td>\n",
       "      <td>4,732,610.10</td>\n",
       "    </tr>\n",
       "  </tbody>\n",
       "</table>\n",
       "</div>"
      ],
      "text/plain": [
       "                     mean        median\n",
       "year_start                             \n",
       "2010            23,548.53      1,700.00\n",
       "2011           131,737.62      3,000.00\n",
       "2012            55,154.34      5,560.00\n",
       "2013           191,815.36      4,717.50\n",
       "2014        30,740,049.83     69,120.00\n",
       "2015        87,484,538.57  5,244,391.50\n",
       "2016        92,760,351.81  4,177,689.05\n",
       "2017       136,410,819.26 10,177,833.50\n",
       "2018       106,031,312.14  8,911,533.94\n",
       "2019        93,552,263.13  4,732,610.10"
      ]
     },
     "execution_count": 67,
     "metadata": {},
     "output_type": "execute_result"
    }
   ],
   "source": [
    "(df\n",
    " .loc[~df['box_office'].isna()]\n",
    " .pivot_table(\n",
    "     index='year_start', \n",
    "     values='box_office',\n",
    "     aggfunc={'mean', 'median'}\n",
    " )\n",
    ")"
   ]
  },
  {
   "cell_type": "markdown",
   "metadata": {},
   "source": [
    "Общая тенденция восходящая - сборы растут.<br>\n",
    "Также можно заметить, как средняя на примерно два порядка больше медианной суммы. Это может быть вызвано единичным фильмами, которые \"разорвали\" кассы."
   ]
  },
  {
   "cell_type": "markdown",
   "metadata": {
    "id": "Ok89WFwJgFyZ"
   },
   "source": [
    "- Определите, влияет ли возрастное ограничение аудитории («6+», «12+», «16+», «18+» и т. д.) на сборы фильма в прокате в период с 2015 по 2019 год? Фильмы с каким возрастным ограничением собрали больше всего денег в прокате? Меняется ли картина в зависимости от года? Если да, предположите, с чем это может быть связано."
   ]
  },
  {
   "cell_type": "code",
   "execution_count": 68,
   "metadata": {
    "id": "jsSbEqfjgFya"
   },
   "outputs": [
    {
     "data": {
      "image/png": "[encoded data removed]",
      "text/plain": [
       "<Figure size 576x360 with 1 Axes>"
      ]
     },
     "metadata": {
      "needs_background": "light"
     },
     "output_type": "display_data"
    }
   ],
   "source": [
    "(df\n",
    " .query('2015 <= year_start <= 2019')\n",
    " .loc[~df['box_office'].isna()]\n",
    " .pivot_table(\n",
    "     index='age_restriction', \n",
    "     values='box_office',\n",
    "     aggfunc='sum'\n",
    " )\n",
    " .plot(kind='bar', \n",
    "       figsize=(8, 5), \n",
    "       grid=True,\n",
    "       title='Распределение сумм сборов по возрастным ограничениям')\n",
    ");"
   ]
  },
  {
   "cell_type": "markdown",
   "metadata": {},
   "source": [
    "Лидируют фильмы 16+. <br>\n",
    "Посмотрим, меняется ли картина в зависимости от года"
   ]
  },
  {
   "cell_type": "code",
   "execution_count": 69,
   "metadata": {},
   "outputs": [
    {
     "data": {
      "image/png": "[encoded data removed]",
      "text/plain": [
       "<Figure size 576x360 with 1 Axes>"
      ]
     },
     "metadata": {
      "needs_background": "light"
     },
     "output_type": "display_data"
    },
    {
     "data": {
      "image/png": "[encoded data removed]",
      "text/plain": [
       "<Figure size 576x360 with 1 Axes>"
      ]
     },
     "metadata": {
      "needs_background": "light"
     },
     "output_type": "display_data"
    },
    {
     "data": {
      "image/png": "[encoded data removed]",
      "text/plain": [
       "<Figure size 576x360 with 1 Axes>"
      ]
     },
     "metadata": {
      "needs_background": "light"
     },
     "output_type": "display_data"
    },
    {
     "data": {
      "image/png": "[encoded data removed]",
      "text/plain": [
       "<Figure size 576x360 with 1 Axes>"
      ]
     },
     "metadata": {
      "needs_background": "light"
     },
     "output_type": "display_data"
    },
    {
     "data": {
      "image/png": "[encoded data removed]",
      "text/plain": [
       "<Figure size 576x360 with 1 Axes>"
      ]
     },
     "metadata": {
      "needs_background": "light"
     },
     "output_type": "display_data"
    }
   ],
   "source": [
    "for year in range(2015, 2020):\n",
    "    (df\n",
    "     .query('year_start == @year')\n",
    "     .loc[~df['box_office'].isna()]\n",
    "     .pivot_table(\n",
    "         index='age_restriction', \n",
    "         values='box_office',\n",
    "         aggfunc='sum'\n",
    "     )\n",
    "     .plot(kind='bar', \n",
    "           figsize=(8, 5), \n",
    "           grid=True,\n",
    "           title='Распределение сумм сборов по возрастным ограничениям ' + str(year))\n",
    "    );"
   ]
  },
  {
   "cell_type": "markdown",
   "metadata": {},
   "source": [
    "В 2015 мы видим явное преобладание фильмов 12+, затем три года подряд акцент смещен к фильмам 16+. В 2019 интерес к различным категориям сравнялся (к фильмам 16+ интерес снизился)"
   ]
  },
  {
   "cell_type": "markdown",
   "metadata": {
    "id": "l_Kg6Ku4gFya"
   },
   "source": [
    "### Шаг 4. Исследуйте фильмы, которые получили государственную поддержку\n",
    "\n",
    "На этом этапе нет конкретных инструкций и заданий — поищите интересные закономерности в данных. Посмотрите, сколько выделяют средств на поддержку кино. Проверьте, хорошо ли окупаются такие фильмы, какой у них рейтинг."
   ]
  },
  {
   "cell_type": "code",
   "execution_count": 70,
   "metadata": {
    "id": "W9QKpjUdgFyb"
   },
   "outputs": [
    {
     "data": {
      "image/png": "[encoded data removed]",
      "text/plain": [
       "<Figure size 576x360 with 1 Axes>"
      ]
     },
     "metadata": {
      "needs_background": "light"
     },
     "output_type": "display_data"
    }
   ],
   "source": [
    "(df\n",
    " .loc[~df['gov_support'].isna()]\n",
    " .pivot_table(\n",
    "     index='year_start', \n",
    "     values='gov_support',\n",
    "     aggfunc='sum'\n",
    " )\n",
    " .plot(kind='bar', \n",
    "       figsize=(8, 5), \n",
    "       grid=True,\n",
    "       title='Распределение гос поддержки по годам')\n",
    ");"
   ]
  },
  {
   "cell_type": "markdown",
   "metadata": {},
   "source": [
    "В целом, количество денег, выделяемых на кино с каждым годом растет. Общий максимум по выборке приходится на 2019 год. Есть еще один локальный максимум - 2016.<br>\n",
    "Возможно, данный рост связан с инфляцией. Посмотрим, как менялась доля гос поддержки от общего бюджета."
   ]
  },
  {
   "cell_type": "code",
   "execution_count": 71,
   "metadata": {},
   "outputs": [
    {
     "data": {
      "image/png": "[encoded data removed]",
      "text/plain": [
       "<Figure size 576x360 with 1 Axes>"
      ]
     },
     "metadata": {
      "needs_background": "light"
     },
     "output_type": "display_data"
    }
   ],
   "source": [
    "(df\n",
    " .loc[~df['gov_support'].isna()]\n",
    " .pivot_table(\n",
    "     index='year_start', \n",
    "     values='gov_support_ratio',\n",
    "     aggfunc={'median', 'mean'}\n",
    " )\n",
    " .plot(kind='bar', \n",
    "       figsize=(8, 5), \n",
    "       grid=True,\n",
    "       title='Распределение доли гос поддержки по годам')\n",
    ");"
   ]
  },
  {
   "cell_type": "markdown",
   "metadata": {},
   "source": [
    "Инфляция творит чудеса и приукрашивает графики. На самом деле доля гос поддержки все время оставалась на примерно одинаковом уровне - 50-60%"
   ]
  },
  {
   "cell_type": "markdown",
   "metadata": {},
   "source": [
    "Посмотрим, как отличается медиана рейтингов фильмов с гос поддержкой и без нее"
   ]
  },
  {
   "cell_type": "code",
   "execution_count": 72,
   "metadata": {},
   "outputs": [
    {
     "data": {
      "text/plain": [
       "6.2"
      ]
     },
     "execution_count": 72,
     "metadata": {},
     "output_type": "execute_result"
    }
   ],
   "source": [
    "# с гос поддержкой\n",
    "df.loc[~df['gov_support'].isna()]['ratings'].median()"
   ]
  },
  {
   "cell_type": "code",
   "execution_count": 73,
   "metadata": {},
   "outputs": [
    {
     "data": {
      "text/plain": [
       "6.6"
      ]
     },
     "execution_count": 73,
     "metadata": {},
     "output_type": "execute_result"
    }
   ],
   "source": [
    "# без гос поддержки\n",
    "df.loc[df['gov_support'].isna()]['ratings'].median()"
   ]
  },
  {
   "cell_type": "markdown",
   "metadata": {},
   "source": [
    "Возможно, причина кроется в несопоставимых размерах выборок фильмов с гос поддержкой и без нее, но на данный момент фильмы без гос поддержки набирают больший рейтинг(на 0.4 больше)"
   ]
  },
  {
   "cell_type": "markdown",
   "metadata": {},
   "source": [
    "Посмотрим, как окупаются фильмы с гос поддержкой"
   ]
  },
  {
   "cell_type": "code",
   "execution_count": 74,
   "metadata": {},
   "outputs": [
    {
     "data": {
      "text/plain": [
       "0.8248654737371452"
      ]
     },
     "execution_count": 74,
     "metadata": {},
     "output_type": "execute_result"
    }
   ],
   "source": [
    "(df.loc[~df['gov_support'].isna()]['box_office'] / df.loc[~df['gov_support'].isna()]['budget']).mean()"
   ]
  },
  {
   "cell_type": "code",
   "execution_count": 75,
   "metadata": {},
   "outputs": [
    {
     "data": {
      "text/plain": [
       "count   317.00\n",
       "mean      0.82\n",
       "std       1.69\n",
       "min       0.00\n",
       "25%       0.02\n",
       "50%       0.18\n",
       "75%       0.97\n",
       "max      19.21\n",
       "dtype: float64"
      ]
     },
     "execution_count": 75,
     "metadata": {},
     "output_type": "execute_result"
    }
   ],
   "source": [
    "(df.loc[~df['gov_support'].isna()]['box_office'] / df.loc[~df['gov_support'].isna()]['budget']).describe()"
   ]
  },
  {
   "cell_type": "markdown",
   "metadata": {},
   "source": [
    "В большинстве случаев, фильмы с гос поддержкой не окупаются. В среднем, такие фильмы теряют 20%."
   ]
  },
  {
   "cell_type": "markdown",
   "metadata": {},
   "source": [
    "Исследуем, как распределяются возрастные ограничения на фильмы с гос поддержкой"
   ]
  },
  {
   "cell_type": "code",
   "execution_count": 76,
   "metadata": {},
   "outputs": [
    {
     "data": {
      "image/png": "[encoded data removed]",
      "text/plain": [
       "<Figure size 576x360 with 1 Axes>"
      ]
     },
     "metadata": {
      "needs_background": "light"
     },
     "output_type": "display_data"
    }
   ],
   "source": [
    "(df\n",
    " .loc[~df['gov_support'].isna()]\n",
    " .pivot_table(\n",
    "     index='age_restriction', \n",
    "     values='pu_number',\n",
    "     aggfunc='count'\n",
    " )\n",
    " .plot(kind='bar', \n",
    "       figsize=(8, 5), \n",
    "       grid=True,\n",
    "       title='Распределение возрастных ограничений на фильмы с гос поддержкой')\n",
    ");"
   ]
  },
  {
   "cell_type": "markdown",
   "metadata": {},
   "source": [
    "Большего всего фильмов 16+"
   ]
  },
  {
   "cell_type": "markdown",
   "metadata": {},
   "source": [
    "Посмотрим, какой источник государственного финансирования приносит больше прибыли(или меньше теряет)"
   ]
  },
  {
   "cell_type": "code",
   "execution_count": 77,
   "metadata": {},
   "outputs": [],
   "source": [
    "df['profit'] = df['box_office'] / df['budget']"
   ]
  },
  {
   "cell_type": "code",
   "execution_count": 78,
   "metadata": {},
   "outputs": [
    {
     "data": {
      "image/png": "[encoded data removed]",
      "text/plain": [
       "<Figure size 576x360 with 1 Axes>"
      ]
     },
     "metadata": {
      "needs_background": "light"
     },
     "output_type": "display_data"
    }
   ],
   "source": [
    "(df\n",
    " .loc[~df['gov_support'].isna()]\n",
    " .pivot_table(\n",
    "     index='financing_source', \n",
    "     values='profit',\n",
    "     aggfunc={'mean', 'median'}\n",
    " )\n",
    " .plot(kind='bar', \n",
    "       figsize=(8, 5), \n",
    "       grid=True,\n",
    "       title='Распределение окупаемости в зависимости от источника финансирования')\n",
    ");"
   ]
  },
  {
   "cell_type": "code",
   "execution_count": 79,
   "metadata": {},
   "outputs": [
    {
     "data": {
      "image/png": "[encoded data removed]",
      "text/plain": [
       "<Figure size 576x360 with 1 Axes>"
      ]
     },
     "metadata": {
      "needs_background": "light"
     },
     "output_type": "display_data"
    }
   ],
   "source": [
    "(df\n",
    " .loc[~df['gov_support'].isna()]\n",
    " .pivot_table(\n",
    "     index='financing_source', \n",
    "     values='profit',\n",
    "     aggfunc='max'\n",
    " )\n",
    " .plot(kind='bar', \n",
    "       figsize=(8, 5), \n",
    "       grid=True,\n",
    "       title='Максимальное значение окупаемости в зависимости от источника финансирования')\n",
    ");"
   ]
  },
  {
   "cell_type": "markdown",
   "metadata": {},
   "source": [
    "Проекты Фонда кино более выгодные и успешные по сравнению с проектами министерства культуры и их совместными проектами."
   ]
  },
  {
   "cell_type": "markdown",
   "metadata": {
    "id": "V2gYwMcPgFyd"
   },
   "source": [
    "### Шаг 5. Напишите общий вывод"
   ]
  },
  {
   "cell_type": "markdown",
   "metadata": {
    "id": "AYRg3dzXgFye"
   },
   "source": []
  },
  {
   "cell_type": "markdown",
   "metadata": {},
   "source": [
    "Представленный набор данных содержит информацию о прокатных удостоверениях, сборах и государственной поддержке фильмов, а также информацию с сайта КиноПоиск<br>\n",
    "Первым делом данные из двух файлов были объединены в один датафрейм путем сопоставления прокатных удостоверений, представленных в двух файлах. Важно упомянуть о наличии одного пропуска в столбце с номером прокатного удостоверения. Соответствующая строка была удалена.<br>\n",
    "Затронув тему пропусков, следует отметить следующие действия, предпринятые в отношении пропусков в датафрейме:\n",
    "1) Удалены строки с пропусками в столбцах film_studio, production_country, director, producer<br>\n",
    "2) Пропуски в столбцах genres и financing_source заполнены 'unknown'<br>\n",
    "3) Пропуски в столбцах refundable_support, nonrefundable_support, budget оставлены без изменений <br>\n",
    "<br>\n",
    "Данные в таблице приведены к корректным типам.<br>\n",
    "Для удобства дальнейшего анализа добавлены новые столбцы: год начала проката, имя и фамилия главного режиссёра и основной жанр фильма, доля гос поддержки от общего бюджета и суммарный размер гос поддержки<br><br>\n",
    "В ходе анализа были выявлены следующие закономерности и факты:\n",
    "1) Самым полным периодом следует считать 2015-2017 года. До 2014 включительно информации слишком мало. Начиная с 2018, наблюдается спад осведомленности о сборах.<br>\n",
    "2) Больше всего фильмов было выпущено в 2010 году, но за этот год меньше всего информации о сборах. Аналогичная ситуация продолжается вплоть до 2015 года: фильмов много, информации о них - мало <br>\n",
    "3) Самым прибыльным годом является 2018 - он принес почти 50 млрд рублей. Меньше всего сборов приходится на 2010 - 2,4 млн рублей. <br>\n",
    "4) Общая тенденция сборов восходящая - сборы растут. Также можно заметить, как средняя на примерно два порядка больше медианной суммы. Это может быть вызвано единичным фильмами, которые \"разорвали\" кассы. <br>\n",
    "5) В общем, в прокате лидируют фильмы 16 Если посмотреть статистику по годам, можно увидеть, как в 2015 присутствует явное преобладание фильмов 12+, затем три года подряд акцент смещен к фильмам 16+. В 2019 интерес к различным категориям сравнялся (к фильмам 16+ интерес снизился)<br>\n",
    "6) Доля средств в бюджете, выделенных государством, каждый год остается примерно на одном уровне - 50-60% <br>\n",
    "7) Фильмы без гос поддержки набирают рейтинг больше, в среднем, на 0.4<br>\n",
    "8) В большинстве случаев, фильмы с гос поддержкой не окупаются, а теряют 20% от вложенного бюджета <br>\n",
    "9) Проекты Фонда кино более выгодные и успешные по сравнению с проектами министерства культуры и их совместными проектами.<br>"
   ]
  },
  {
   "cell_type": "code",
   "execution_count": null,
   "metadata": {},
   "outputs": [],
   "source": []
  }
 ],
 "metadata": {
  "ExecuteTimeLog": [
   {
    "duration": 537,
    "start_time": "2021-07-07T10:12:08.634Z"
   },
   {
    "duration": 206,
    "start_time": "2021-07-07T10:12:30.191Z"
   },
   {
    "duration": 227,
    "start_time": "2021-07-07T10:12:33.078Z"
   },
   {
    "duration": 153,
    "start_time": "2021-07-07T10:13:42.146Z"
   },
   {
    "duration": 233,
    "start_time": "2021-07-07T10:30:09.252Z"
   },
   {
    "duration": 19,
    "start_time": "2021-07-07T10:30:15.577Z"
   },
   {
    "duration": 18,
    "start_time": "2021-07-07T10:30:57.348Z"
   },
   {
    "duration": 19,
    "start_time": "2021-07-07T10:31:17.452Z"
   },
   {
    "duration": 21,
    "start_time": "2021-07-07T10:31:32.227Z"
   },
   {
    "duration": 27,
    "start_time": "2021-07-07T10:32:06.588Z"
   },
   {
    "duration": 23,
    "start_time": "2021-07-07T10:32:43.645Z"
   },
   {
    "duration": 24,
    "start_time": "2021-07-07T10:33:06.948Z"
   },
   {
    "duration": 7,
    "start_time": "2021-07-07T10:33:28.558Z"
   },
   {
    "duration": 23,
    "start_time": "2021-07-07T10:33:43.761Z"
   },
   {
    "duration": 28,
    "start_time": "2021-07-07T10:34:13.466Z"
   },
   {
    "duration": 23,
    "start_time": "2021-07-07T10:35:56.187Z"
   },
   {
    "duration": 6,
    "start_time": "2021-07-07T10:36:48.182Z"
   },
   {
    "duration": 14,
    "start_time": "2021-07-07T10:37:49.641Z"
   },
   {
    "duration": 6,
    "start_time": "2021-07-07T10:38:06.694Z"
   },
   {
    "duration": 6,
    "start_time": "2021-07-07T10:38:13.493Z"
   },
   {
    "duration": 19,
    "start_time": "2021-07-07T10:38:44.056Z"
   },
   {
    "duration": 186,
    "start_time": "2021-07-07T10:48:35.618Z"
   },
   {
    "duration": 24,
    "start_time": "2021-07-07T10:48:51.498Z"
   },
   {
    "duration": 20,
    "start_time": "2021-07-07T10:48:59.415Z"
   },
   {
    "duration": 20,
    "start_time": "2021-07-07T10:53:02.195Z"
   },
   {
    "duration": 188,
    "start_time": "2021-07-07T10:54:40.486Z"
   },
   {
    "duration": 115,
    "start_time": "2021-07-07T10:54:52.552Z"
   },
   {
    "duration": 214,
    "start_time": "2021-07-07T10:54:56.354Z"
   },
   {
    "duration": 47,
    "start_time": "2021-07-07T10:54:58.282Z"
   },
   {
    "duration": 217,
    "start_time": "2021-07-07T10:59:16.075Z"
   },
   {
    "duration": 51,
    "start_time": "2021-07-07T10:59:16.243Z"
   },
   {
    "duration": 578,
    "start_time": "2021-07-07T10:59:18.774Z"
   },
   {
    "duration": 161,
    "start_time": "2021-07-07T10:59:21.238Z"
   },
   {
    "duration": 59,
    "start_time": "2021-07-07T10:59:21.453Z"
   },
   {
    "duration": 3,
    "start_time": "2021-07-07T11:02:10.786Z"
   },
   {
    "duration": 13,
    "start_time": "2021-07-07T11:07:07.722Z"
   },
   {
    "duration": 26,
    "start_time": "2021-07-07T11:07:17.958Z"
   },
   {
    "duration": 22,
    "start_time": "2021-07-07T11:08:17.939Z"
   },
   {
    "duration": 212,
    "start_time": "2021-07-07T11:08:19.665Z"
   },
   {
    "duration": 21,
    "start_time": "2021-07-07T11:08:29.945Z"
   },
   {
    "duration": 31,
    "start_time": "2021-07-07T11:08:38.899Z"
   },
   {
    "duration": 23,
    "start_time": "2021-07-07T11:08:54.527Z"
   },
   {
    "duration": 8,
    "start_time": "2021-07-07T11:18:55.974Z"
   },
   {
    "duration": 7,
    "start_time": "2021-07-07T11:19:03.639Z"
   },
   {
    "duration": 7,
    "start_time": "2021-07-07T11:19:06.444Z"
   },
   {
    "duration": 578,
    "start_time": "2021-07-07T12:09:59.576Z"
   },
   {
    "duration": 195,
    "start_time": "2021-07-07T12:10:00.156Z"
   },
   {
    "duration": 115,
    "start_time": "2021-07-07T12:10:00.353Z"
   },
   {
    "duration": 3,
    "start_time": "2021-07-07T12:10:00.470Z"
   },
   {
    "duration": 32,
    "start_time": "2021-07-07T12:10:00.474Z"
   },
   {
    "duration": 23,
    "start_time": "2021-07-07T12:10:00.508Z"
   },
   {
    "duration": 19,
    "start_time": "2021-07-07T12:10:00.533Z"
   },
   {
    "duration": 44,
    "start_time": "2021-07-07T12:10:00.553Z"
   },
   {
    "duration": 7,
    "start_time": "2021-07-07T12:10:00.600Z"
   },
   {
    "duration": 7,
    "start_time": "2021-07-07T12:19:45.761Z"
   },
   {
    "duration": 21,
    "start_time": "2021-07-07T12:21:35.482Z"
   },
   {
    "duration": 21,
    "start_time": "2021-07-07T12:29:23.569Z"
   },
   {
    "duration": 525,
    "start_time": "2021-07-07T12:29:44.542Z"
   },
   {
    "duration": 214,
    "start_time": "2021-07-07T12:29:45.069Z"
   },
   {
    "duration": 92,
    "start_time": "2021-07-07T12:29:45.285Z"
   },
   {
    "duration": 3,
    "start_time": "2021-07-07T12:29:45.379Z"
   },
   {
    "duration": 28,
    "start_time": "2021-07-07T12:29:45.384Z"
   },
   {
    "duration": 23,
    "start_time": "2021-07-07T12:29:45.413Z"
   },
   {
    "duration": 21,
    "start_time": "2021-07-07T12:29:45.437Z"
   },
   {
    "duration": 41,
    "start_time": "2021-07-07T12:29:45.460Z"
   },
   {
    "duration": 7,
    "start_time": "2021-07-07T12:29:45.502Z"
   },
   {
    "duration": 20,
    "start_time": "2021-07-07T12:29:45.511Z"
   },
   {
    "duration": 12,
    "start_time": "2021-07-07T12:34:02.800Z"
   },
   {
    "duration": 7,
    "start_time": "2021-07-07T12:35:10.479Z"
   },
   {
    "duration": 8,
    "start_time": "2021-07-07T12:35:22.440Z"
   },
   {
    "duration": 6,
    "start_time": "2021-07-07T12:35:35.649Z"
   },
   {
    "duration": 6,
    "start_time": "2021-07-07T12:35:43.107Z"
   },
   {
    "duration": 22,
    "start_time": "2021-07-07T12:38:03.029Z"
   },
   {
    "duration": 10,
    "start_time": "2021-07-07T12:38:06.592Z"
   },
   {
    "duration": 563,
    "start_time": "2021-07-07T12:38:46.493Z"
   },
   {
    "duration": 265,
    "start_time": "2021-07-07T12:38:47.058Z"
   },
   {
    "duration": 94,
    "start_time": "2021-07-07T12:38:47.325Z"
   },
   {
    "duration": 3,
    "start_time": "2021-07-07T12:38:47.422Z"
   },
   {
    "duration": 30,
    "start_time": "2021-07-07T12:38:47.427Z"
   },
   {
    "duration": 16,
    "start_time": "2021-07-07T12:38:53.305Z"
   },
   {
    "duration": 10,
    "start_time": "2021-07-07T12:38:53.499Z"
   },
   {
    "duration": 8,
    "start_time": "2021-07-07T12:39:48.161Z"
   },
   {
    "duration": 27,
    "start_time": "2021-07-07T12:41:17.629Z"
   },
   {
    "duration": 17,
    "start_time": "2021-07-07T12:41:17.867Z"
   },
   {
    "duration": 21,
    "start_time": "2021-07-07T12:41:19.310Z"
   },
   {
    "duration": 7,
    "start_time": "2021-07-07T12:41:19.544Z"
   },
   {
    "duration": 20,
    "start_time": "2021-07-07T12:41:20.504Z"
   },
   {
    "duration": 554,
    "start_time": "2021-07-07T12:56:23.696Z"
   },
   {
    "duration": 200,
    "start_time": "2021-07-07T12:56:25.234Z"
   },
   {
    "duration": 119,
    "start_time": "2021-07-07T12:56:25.480Z"
   },
   {
    "duration": 4,
    "start_time": "2021-07-07T12:56:25.762Z"
   },
   {
    "duration": 26,
    "start_time": "2021-07-07T12:56:27.172Z"
   },
   {
    "duration": 12,
    "start_time": "2021-07-07T12:56:29.051Z"
   },
   {
    "duration": 10,
    "start_time": "2021-07-07T12:56:29.291Z"
   },
   {
    "duration": 8,
    "start_time": "2021-07-07T12:56:29.623Z"
   },
   {
    "duration": 28,
    "start_time": "2021-07-07T12:56:32.137Z"
   },
   {
    "duration": 19,
    "start_time": "2021-07-07T12:56:39.785Z"
   },
   {
    "duration": 20,
    "start_time": "2021-07-07T12:56:44.297Z"
   },
   {
    "duration": 7,
    "start_time": "2021-07-07T12:56:45.392Z"
   },
   {
    "duration": 23,
    "start_time": "2021-07-07T12:56:46.615Z"
   },
   {
    "duration": 4,
    "start_time": "2021-07-07T12:57:06.625Z"
   },
   {
    "duration": 32,
    "start_time": "2021-07-07T12:57:36.690Z"
   },
   {
    "duration": 18,
    "start_time": "2021-07-07T12:58:00.149Z"
   },
   {
    "duration": 15,
    "start_time": "2021-07-07T12:59:16.793Z"
   },
   {
    "duration": 7,
    "start_time": "2021-07-07T13:19:22.624Z"
   },
   {
    "duration": 6,
    "start_time": "2021-07-07T14:17:33.527Z"
   },
   {
    "duration": 9,
    "start_time": "2021-07-07T14:17:48.409Z"
   },
   {
    "duration": 8,
    "start_time": "2021-07-07T14:20:13.060Z"
   },
   {
    "duration": 8,
    "start_time": "2021-07-07T14:20:37.957Z"
   },
   {
    "duration": 8,
    "start_time": "2021-07-07T14:20:47.470Z"
   },
   {
    "duration": 9,
    "start_time": "2021-07-07T14:20:54.503Z"
   },
   {
    "duration": 10,
    "start_time": "2021-07-07T14:28:57.763Z"
   },
   {
    "duration": 3,
    "start_time": "2021-07-07T14:30:23.377Z"
   },
   {
    "duration": 3,
    "start_time": "2021-07-07T14:30:36.489Z"
   },
   {
    "duration": 103,
    "start_time": "2021-07-07T14:30:52.351Z"
   },
   {
    "duration": 8,
    "start_time": "2021-07-07T14:30:54.763Z"
   },
   {
    "duration": 8,
    "start_time": "2021-07-07T14:31:29.301Z"
   },
   {
    "duration": 13,
    "start_time": "2021-07-07T14:31:44.516Z"
   },
   {
    "duration": 7,
    "start_time": "2021-07-07T14:33:10.972Z"
   },
   {
    "duration": 11,
    "start_time": "2021-07-07T14:33:27.780Z"
   },
   {
    "duration": 8,
    "start_time": "2021-07-07T14:34:44.588Z"
   },
   {
    "duration": 57,
    "start_time": "2021-07-07T14:35:59.042Z"
   },
   {
    "duration": 3,
    "start_time": "2021-07-07T14:36:28.168Z"
   },
   {
    "duration": 5,
    "start_time": "2021-07-07T14:36:46.254Z"
   },
   {
    "duration": 4,
    "start_time": "2021-07-07T14:36:52.714Z"
   },
   {
    "duration": 3,
    "start_time": "2021-07-07T14:36:56.612Z"
   },
   {
    "duration": 4,
    "start_time": "2021-07-07T14:36:57.049Z"
   },
   {
    "duration": 3,
    "start_time": "2021-07-07T14:39:21.214Z"
   },
   {
    "duration": 7,
    "start_time": "2021-07-07T14:39:52.406Z"
   },
   {
    "duration": 11,
    "start_time": "2021-07-07T14:39:58.576Z"
   },
   {
    "duration": 9,
    "start_time": "2021-07-07T14:40:26.301Z"
   },
   {
    "duration": 10,
    "start_time": "2021-07-07T14:40:31.704Z"
   },
   {
    "duration": 11,
    "start_time": "2021-07-07T14:40:36.249Z"
   },
   {
    "duration": 10,
    "start_time": "2021-07-07T14:40:39.783Z"
   },
   {
    "duration": 9,
    "start_time": "2021-07-07T14:40:48.558Z"
   },
   {
    "duration": 10,
    "start_time": "2021-07-07T14:40:57.143Z"
   },
   {
    "duration": 9,
    "start_time": "2021-07-07T14:41:06.074Z"
   },
   {
    "duration": 4324,
    "start_time": "2021-07-07T14:41:22.004Z"
   },
   {
    "duration": 11,
    "start_time": "2021-07-07T14:41:33.392Z"
   },
   {
    "duration": 9,
    "start_time": "2021-07-07T14:41:39.288Z"
   },
   {
    "duration": 569,
    "start_time": "2021-07-07T14:42:14.387Z"
   },
   {
    "duration": 197,
    "start_time": "2021-07-07T14:42:14.959Z"
   },
   {
    "duration": 84,
    "start_time": "2021-07-07T14:42:16.052Z"
   },
   {
    "duration": 4,
    "start_time": "2021-07-07T14:42:16.900Z"
   },
   {
    "duration": 27,
    "start_time": "2021-07-07T14:42:19.898Z"
   },
   {
    "duration": 12,
    "start_time": "2021-07-07T14:42:21.577Z"
   },
   {
    "duration": 9,
    "start_time": "2021-07-07T14:42:21.813Z"
   },
   {
    "duration": 9,
    "start_time": "2021-07-07T14:42:22.569Z"
   },
   {
    "duration": 29,
    "start_time": "2021-07-07T14:42:25.837Z"
   },
   {
    "duration": 20,
    "start_time": "2021-07-07T14:42:27.003Z"
   },
   {
    "duration": 21,
    "start_time": "2021-07-07T14:42:28.767Z"
   },
   {
    "duration": 7,
    "start_time": "2021-07-07T14:42:29.838Z"
   },
   {
    "duration": 4,
    "start_time": "2021-07-07T14:43:25.493Z"
   },
   {
    "duration": 7,
    "start_time": "2021-07-07T14:43:26.573Z"
   },
   {
    "duration": 10,
    "start_time": "2021-07-07T14:43:31.639Z"
   },
   {
    "duration": 9,
    "start_time": "2021-07-07T14:43:32.046Z"
   },
   {
    "duration": 10,
    "start_time": "2021-07-07T14:43:33.301Z"
   },
   {
    "duration": 12,
    "start_time": "2021-07-07T14:43:33.658Z"
   },
   {
    "duration": 8,
    "start_time": "2021-07-07T14:43:34.552Z"
   },
   {
    "duration": 9,
    "start_time": "2021-07-07T14:43:35.058Z"
   },
   {
    "duration": 12,
    "start_time": "2021-07-07T14:43:35.914Z"
   },
   {
    "duration": 17,
    "start_time": "2021-07-07T14:45:34.368Z"
   },
   {
    "duration": 512,
    "start_time": "2021-07-07T14:51:58.236Z"
   },
   {
    "duration": 223,
    "start_time": "2021-07-07T14:51:58.750Z"
   },
   {
    "duration": 93,
    "start_time": "2021-07-07T14:51:58.977Z"
   },
   {
    "duration": 4,
    "start_time": "2021-07-07T14:51:59.071Z"
   },
   {
    "duration": 37,
    "start_time": "2021-07-07T14:51:59.077Z"
   },
   {
    "duration": 18,
    "start_time": "2021-07-07T14:51:59.116Z"
   },
   {
    "duration": 10,
    "start_time": "2021-07-07T14:51:59.137Z"
   },
   {
    "duration": 8,
    "start_time": "2021-07-07T14:51:59.149Z"
   },
   {
    "duration": 54,
    "start_time": "2021-07-07T14:51:59.158Z"
   },
   {
    "duration": 18,
    "start_time": "2021-07-07T14:51:59.213Z"
   },
   {
    "duration": 22,
    "start_time": "2021-07-07T14:51:59.232Z"
   },
   {
    "duration": 36,
    "start_time": "2021-07-07T14:51:59.255Z"
   },
   {
    "duration": 7,
    "start_time": "2021-07-07T14:51:59.293Z"
   },
   {
    "duration": 10,
    "start_time": "2021-07-07T14:51:59.302Z"
   },
   {
    "duration": 9,
    "start_time": "2021-07-07T14:51:59.313Z"
   },
   {
    "duration": 11,
    "start_time": "2021-07-07T14:51:59.324Z"
   },
   {
    "duration": 8,
    "start_time": "2021-07-07T14:51:59.337Z"
   },
   {
    "duration": 46,
    "start_time": "2021-07-07T14:51:59.347Z"
   },
   {
    "duration": 22,
    "start_time": "2021-07-07T14:51:59.395Z"
   },
   {
    "duration": 24,
    "start_time": "2021-07-07T14:57:32.911Z"
   },
   {
    "duration": 7,
    "start_time": "2021-07-07T14:58:22.070Z"
   },
   {
    "duration": 4,
    "start_time": "2021-07-07T14:59:11.239Z"
   },
   {
    "duration": 25,
    "start_time": "2021-07-07T15:07:22.208Z"
   },
   {
    "duration": 16,
    "start_time": "2021-07-07T15:08:25.560Z"
   },
   {
    "duration": 15,
    "start_time": "2021-07-07T15:08:40.647Z"
   },
   {
    "duration": 14,
    "start_time": "2021-07-07T15:08:46.669Z"
   },
   {
    "duration": 533,
    "start_time": "2021-07-07T15:18:07.440Z"
   },
   {
    "duration": 173,
    "start_time": "2021-07-07T15:18:07.974Z"
   },
   {
    "duration": 84,
    "start_time": "2021-07-07T15:18:08.149Z"
   },
   {
    "duration": 3,
    "start_time": "2021-07-07T15:18:08.235Z"
   },
   {
    "duration": 30,
    "start_time": "2021-07-07T15:18:08.240Z"
   },
   {
    "duration": 22,
    "start_time": "2021-07-07T15:18:08.272Z"
   },
   {
    "duration": 11,
    "start_time": "2021-07-07T15:18:08.295Z"
   },
   {
    "duration": 11,
    "start_time": "2021-07-07T15:18:08.309Z"
   },
   {
    "duration": 40,
    "start_time": "2021-07-07T15:18:08.322Z"
   },
   {
    "duration": 42,
    "start_time": "2021-07-07T15:18:08.364Z"
   },
   {
    "duration": 22,
    "start_time": "2021-07-07T15:18:08.408Z"
   },
   {
    "duration": 5,
    "start_time": "2021-07-07T15:18:08.432Z"
   },
   {
    "duration": 13,
    "start_time": "2021-07-07T15:18:08.439Z"
   },
   {
    "duration": 9,
    "start_time": "2021-07-07T15:18:08.454Z"
   },
   {
    "duration": 32,
    "start_time": "2021-07-07T15:18:08.465Z"
   },
   {
    "duration": 10,
    "start_time": "2021-07-07T15:18:08.501Z"
   },
   {
    "duration": 7,
    "start_time": "2021-07-07T15:18:08.513Z"
   },
   {
    "duration": 11,
    "start_time": "2021-07-07T15:18:08.521Z"
   },
   {
    "duration": 17,
    "start_time": "2021-07-07T15:18:08.534Z"
   },
   {
    "duration": 44,
    "start_time": "2021-07-07T15:18:08.553Z"
   },
   {
    "duration": 22,
    "start_time": "2021-07-07T15:18:08.599Z"
   },
   {
    "duration": 61,
    "start_time": "2021-07-07T15:18:08.622Z"
   },
   {
    "duration": 7,
    "start_time": "2021-07-07T15:18:39.457Z"
   },
   {
    "duration": 5,
    "start_time": "2021-07-07T16:05:17.020Z"
   },
   {
    "duration": 5,
    "start_time": "2021-07-07T16:51:28.794Z"
   },
   {
    "duration": 546,
    "start_time": "2021-07-07T16:52:26.306Z"
   },
   {
    "duration": 203,
    "start_time": "2021-07-07T16:52:27.523Z"
   },
   {
    "duration": 85,
    "start_time": "2021-07-07T16:52:27.736Z"
   },
   {
    "duration": 4,
    "start_time": "2021-07-07T16:52:27.899Z"
   },
   {
    "duration": 25,
    "start_time": "2021-07-07T16:52:28.674Z"
   },
   {
    "duration": 8,
    "start_time": "2021-07-07T16:52:32.956Z"
   },
   {
    "duration": 18,
    "start_time": "2021-07-07T16:52:35.616Z"
   },
   {
    "duration": 6,
    "start_time": "2021-07-07T16:52:36.913Z"
   },
   {
    "duration": 11,
    "start_time": "2021-07-07T16:52:40.258Z"
   },
   {
    "duration": 10,
    "start_time": "2021-07-07T16:52:46.251Z"
   },
   {
    "duration": 8,
    "start_time": "2021-07-07T16:52:47.182Z"
   },
   {
    "duration": 27,
    "start_time": "2021-07-07T16:53:20.391Z"
   },
   {
    "duration": 20,
    "start_time": "2021-07-07T16:53:22.022Z"
   },
   {
    "duration": 23,
    "start_time": "2021-07-07T16:53:23.690Z"
   },
   {
    "duration": 8,
    "start_time": "2021-07-07T16:53:24.261Z"
   },
   {
    "duration": 4,
    "start_time": "2021-07-07T16:53:38.733Z"
   },
   {
    "duration": 7,
    "start_time": "2021-07-07T16:53:40.445Z"
   },
   {
    "duration": 11,
    "start_time": "2021-07-07T16:53:41.348Z"
   },
   {
    "duration": 13,
    "start_time": "2021-07-07T16:53:45.250Z"
   },
   {
    "duration": 12,
    "start_time": "2021-07-07T16:53:45.467Z"
   },
   {
    "duration": 4,
    "start_time": "2021-07-07T16:55:32.704Z"
   },
   {
    "duration": 12,
    "start_time": "2021-07-07T16:55:49.012Z"
   },
   {
    "duration": 18,
    "start_time": "2021-07-07T16:55:49.547Z"
   },
   {
    "duration": 611,
    "start_time": "2021-07-07T16:58:35.156Z"
   },
   {
    "duration": 200,
    "start_time": "2021-07-07T16:58:35.770Z"
   },
   {
    "duration": 86,
    "start_time": "2021-07-07T16:58:35.972Z"
   },
   {
    "duration": 3,
    "start_time": "2021-07-07T16:58:36.060Z"
   },
   {
    "duration": 27,
    "start_time": "2021-07-07T16:58:36.065Z"
   },
   {
    "duration": 8,
    "start_time": "2021-07-07T16:58:36.094Z"
   },
   {
    "duration": 17,
    "start_time": "2021-07-07T16:58:36.103Z"
   },
   {
    "duration": 5,
    "start_time": "2021-07-07T16:58:36.123Z"
   },
   {
    "duration": 11,
    "start_time": "2021-07-07T16:58:36.130Z"
   },
   {
    "duration": 7,
    "start_time": "2021-07-07T16:58:36.143Z"
   },
   {
    "duration": 37,
    "start_time": "2021-07-07T16:58:36.152Z"
   },
   {
    "duration": 27,
    "start_time": "2021-07-07T16:58:36.191Z"
   },
   {
    "duration": 19,
    "start_time": "2021-07-07T16:58:36.219Z"
   },
   {
    "duration": 49,
    "start_time": "2021-07-07T16:58:36.240Z"
   },
   {
    "duration": 6,
    "start_time": "2021-07-07T16:58:36.291Z"
   },
   {
    "duration": 3,
    "start_time": "2021-07-07T16:58:36.299Z"
   },
   {
    "duration": 13,
    "start_time": "2021-07-07T16:58:36.304Z"
   },
   {
    "duration": 10,
    "start_time": "2021-07-07T16:58:36.319Z"
   },
   {
    "duration": 10,
    "start_time": "2021-07-07T16:58:36.331Z"
   },
   {
    "duration": 44,
    "start_time": "2021-07-07T16:58:36.343Z"
   },
   {
    "duration": 4,
    "start_time": "2021-07-07T16:58:36.388Z"
   },
   {
    "duration": 13,
    "start_time": "2021-07-07T16:58:36.394Z"
   },
   {
    "duration": 16,
    "start_time": "2021-07-07T16:58:36.410Z"
   },
   {
    "duration": 8,
    "start_time": "2021-07-07T17:02:31.629Z"
   },
   {
    "duration": 8,
    "start_time": "2021-07-07T17:02:34.308Z"
   },
   {
    "duration": 6,
    "start_time": "2021-07-07T17:05:13.483Z"
   },
   {
    "duration": 17,
    "start_time": "2021-07-07T17:05:20.606Z"
   },
   {
    "duration": 7,
    "start_time": "2021-07-07T17:05:34.638Z"
   },
   {
    "duration": 3,
    "start_time": "2021-07-07T17:06:31.883Z"
   },
   {
    "duration": 570,
    "start_time": "2021-07-07T17:06:37.165Z"
   },
   {
    "duration": 174,
    "start_time": "2021-07-07T17:06:37.737Z"
   },
   {
    "duration": 47,
    "start_time": "2021-07-07T17:06:37.913Z"
   },
   {
    "duration": 3,
    "start_time": "2021-07-07T17:06:37.962Z"
   },
   {
    "duration": 27,
    "start_time": "2021-07-07T17:06:37.967Z"
   },
   {
    "duration": 7,
    "start_time": "2021-07-07T17:06:37.996Z"
   },
   {
    "duration": 16,
    "start_time": "2021-07-07T17:06:38.005Z"
   },
   {
    "duration": 6,
    "start_time": "2021-07-07T17:06:38.024Z"
   },
   {
    "duration": 12,
    "start_time": "2021-07-07T17:06:38.031Z"
   },
   {
    "duration": 41,
    "start_time": "2021-07-07T17:06:38.045Z"
   },
   {
    "duration": 8,
    "start_time": "2021-07-07T17:06:38.088Z"
   },
   {
    "duration": 26,
    "start_time": "2021-07-07T17:06:38.098Z"
   },
   {
    "duration": 17,
    "start_time": "2021-07-07T17:06:38.126Z"
   },
   {
    "duration": 43,
    "start_time": "2021-07-07T17:06:38.144Z"
   },
   {
    "duration": 6,
    "start_time": "2021-07-07T17:06:38.188Z"
   },
   {
    "duration": 5,
    "start_time": "2021-07-07T17:06:38.195Z"
   },
   {
    "duration": 9,
    "start_time": "2021-07-07T17:06:38.201Z"
   },
   {
    "duration": 12,
    "start_time": "2021-07-07T17:06:38.212Z"
   },
   {
    "duration": 11,
    "start_time": "2021-07-07T17:06:38.226Z"
   },
   {
    "duration": 47,
    "start_time": "2021-07-07T17:06:38.239Z"
   },
   {
    "duration": 4,
    "start_time": "2021-07-07T17:06:38.288Z"
   },
   {
    "duration": 13,
    "start_time": "2021-07-07T17:06:38.293Z"
   },
   {
    "duration": 5,
    "start_time": "2021-07-07T17:06:38.309Z"
   },
   {
    "duration": 18,
    "start_time": "2021-07-07T17:06:38.325Z"
   },
   {
    "duration": 20,
    "start_time": "2021-07-07T17:07:02.805Z"
   },
   {
    "duration": 19,
    "start_time": "2021-07-07T17:07:08.527Z"
   },
   {
    "duration": 19,
    "start_time": "2021-07-07T17:07:12.758Z"
   },
   {
    "duration": 22,
    "start_time": "2021-07-07T17:07:17.497Z"
   },
   {
    "duration": 19,
    "start_time": "2021-07-07T17:07:19.645Z"
   },
   {
    "duration": 10,
    "start_time": "2021-07-07T17:07:34.239Z"
   },
   {
    "duration": 17,
    "start_time": "2021-07-07T17:07:54.144Z"
   },
   {
    "duration": 14,
    "start_time": "2021-07-07T17:08:14.357Z"
   },
   {
    "duration": 616,
    "start_time": "2021-07-07T17:08:45.254Z"
   },
   {
    "duration": 178,
    "start_time": "2021-07-07T17:08:45.872Z"
   },
   {
    "duration": 60,
    "start_time": "2021-07-07T17:08:46.054Z"
   },
   {
    "duration": 3,
    "start_time": "2021-07-07T17:08:46.116Z"
   },
   {
    "duration": 26,
    "start_time": "2021-07-07T17:08:46.121Z"
   },
   {
    "duration": 7,
    "start_time": "2021-07-07T17:08:46.149Z"
   },
   {
    "duration": 17,
    "start_time": "2021-07-07T17:08:46.158Z"
   },
   {
    "duration": 14,
    "start_time": "2021-07-07T17:08:46.176Z"
   },
   {
    "duration": 17,
    "start_time": "2021-07-07T17:08:46.193Z"
   },
   {
    "duration": 9,
    "start_time": "2021-07-07T17:08:46.211Z"
   },
   {
    "duration": 21,
    "start_time": "2021-07-07T17:08:46.221Z"
   },
   {
    "duration": 49,
    "start_time": "2021-07-07T17:08:46.244Z"
   },
   {
    "duration": 24,
    "start_time": "2021-07-07T17:08:46.295Z"
   },
   {
    "duration": 22,
    "start_time": "2021-07-07T17:08:46.321Z"
   },
   {
    "duration": 6,
    "start_time": "2021-07-07T17:08:46.345Z"
   },
   {
    "duration": 5,
    "start_time": "2021-07-07T17:08:46.353Z"
   },
   {
    "duration": 13,
    "start_time": "2021-07-07T17:08:46.386Z"
   },
   {
    "duration": 12,
    "start_time": "2021-07-07T17:08:46.402Z"
   },
   {
    "duration": 10,
    "start_time": "2021-07-07T17:08:46.415Z"
   },
   {
    "duration": 7,
    "start_time": "2021-07-07T17:08:46.427Z"
   },
   {
    "duration": 8,
    "start_time": "2021-07-07T17:08:46.435Z"
   },
   {
    "duration": 68,
    "start_time": "2021-07-07T17:08:46.446Z"
   },
   {
    "duration": 13,
    "start_time": "2021-07-07T17:08:46.516Z"
   },
   {
    "duration": 78,
    "start_time": "2021-07-07T17:08:46.530Z"
   },
   {
    "duration": 40,
    "start_time": "2021-07-07T17:09:08.185Z"
   },
   {
    "duration": 16,
    "start_time": "2021-07-07T17:09:19.324Z"
   },
   {
    "duration": 21,
    "start_time": "2021-07-07T17:09:23.290Z"
   },
   {
    "duration": 13,
    "start_time": "2021-07-07T17:09:54.812Z"
   },
   {
    "duration": 13,
    "start_time": "2021-07-07T17:10:02.039Z"
   },
   {
    "duration": 10,
    "start_time": "2021-07-07T17:10:29.632Z"
   },
   {
    "duration": 13,
    "start_time": "2021-07-07T17:10:52.372Z"
   },
   {
    "duration": 13,
    "start_time": "2021-07-07T17:11:17.270Z"
   },
   {
    "duration": 13,
    "start_time": "2021-07-07T17:14:59.284Z"
   },
   {
    "duration": 547,
    "start_time": "2021-07-07T17:18:52.403Z"
   },
   {
    "duration": 163,
    "start_time": "2021-07-07T17:18:52.952Z"
   },
   {
    "duration": 44,
    "start_time": "2021-07-07T17:18:53.117Z"
   },
   {
    "duration": 3,
    "start_time": "2021-07-07T17:18:53.162Z"
   },
   {
    "duration": 26,
    "start_time": "2021-07-07T17:18:53.167Z"
   },
   {
    "duration": 6,
    "start_time": "2021-07-07T17:18:53.195Z"
   },
   {
    "duration": 15,
    "start_time": "2021-07-07T17:18:53.203Z"
   },
   {
    "duration": 5,
    "start_time": "2021-07-07T17:18:53.220Z"
   },
   {
    "duration": 11,
    "start_time": "2021-07-07T17:18:53.228Z"
   },
   {
    "duration": 9,
    "start_time": "2021-07-07T17:18:53.241Z"
   },
   {
    "duration": 41,
    "start_time": "2021-07-07T17:18:53.252Z"
   },
   {
    "duration": 33,
    "start_time": "2021-07-07T17:18:53.295Z"
   },
   {
    "duration": 19,
    "start_time": "2021-07-07T17:18:53.330Z"
   },
   {
    "duration": 49,
    "start_time": "2021-07-07T17:18:53.350Z"
   },
   {
    "duration": 5,
    "start_time": "2021-07-07T17:18:53.401Z"
   },
   {
    "duration": 5,
    "start_time": "2021-07-07T17:18:53.408Z"
   },
   {
    "duration": 11,
    "start_time": "2021-07-07T17:18:53.414Z"
   },
   {
    "duration": 9,
    "start_time": "2021-07-07T17:18:53.427Z"
   },
   {
    "duration": 10,
    "start_time": "2021-07-07T17:18:53.437Z"
   },
   {
    "duration": 39,
    "start_time": "2021-07-07T17:18:53.448Z"
   },
   {
    "duration": 26,
    "start_time": "2021-07-07T17:18:55.799Z"
   },
   {
    "duration": 598,
    "start_time": "2021-07-07T17:20:17.862Z"
   },
   {
    "duration": 161,
    "start_time": "2021-07-07T17:20:18.462Z"
   },
   {
    "duration": 45,
    "start_time": "2021-07-07T17:20:18.626Z"
   },
   {
    "duration": 4,
    "start_time": "2021-07-07T17:20:18.673Z"
   },
   {
    "duration": 38,
    "start_time": "2021-07-07T17:20:26.877Z"
   },
   {
    "duration": 7,
    "start_time": "2021-07-07T17:20:37.405Z"
   },
   {
    "duration": 19,
    "start_time": "2021-07-07T17:20:51.534Z"
   },
   {
    "duration": 5,
    "start_time": "2021-07-07T17:20:57.228Z"
   },
   {
    "duration": 7,
    "start_time": "2021-07-07T17:21:08.235Z"
   },
   {
    "duration": 19,
    "start_time": "2021-07-07T17:21:42.158Z"
   },
   {
    "duration": 14,
    "start_time": "2021-07-07T17:21:50.225Z"
   },
   {
    "duration": 22,
    "start_time": "2021-07-07T17:22:54.104Z"
   },
   {
    "duration": 5,
    "start_time": "2021-07-07T17:22:56.371Z"
   },
   {
    "duration": 14,
    "start_time": "2021-07-07T17:22:58.316Z"
   },
   {
    "duration": 5,
    "start_time": "2021-07-07T17:22:58.493Z"
   },
   {
    "duration": 35,
    "start_time": "2021-07-07T17:22:59.666Z"
   },
   {
    "duration": 6,
    "start_time": "2021-07-07T17:23:02.410Z"
   },
   {
    "duration": 611,
    "start_time": "2021-07-07T17:24:59.664Z"
   },
   {
    "duration": 178,
    "start_time": "2021-07-07T17:25:01.945Z"
   },
   {
    "duration": 47,
    "start_time": "2021-07-07T17:25:02.125Z"
   },
   {
    "duration": 2,
    "start_time": "2021-07-07T17:25:07.903Z"
   },
   {
    "duration": 254,
    "start_time": "2021-07-07T17:25:08.232Z"
   },
   {
    "duration": 182,
    "start_time": "2021-07-07T17:25:08.671Z"
   },
   {
    "duration": 6,
    "start_time": "2021-07-07T17:25:13.104Z"
   },
   {
    "duration": 36,
    "start_time": "2021-07-07T17:25:13.662Z"
   },
   {
    "duration": 7,
    "start_time": "2021-07-07T17:25:14.528Z"
   },
   {
    "duration": 24,
    "start_time": "2021-07-07T17:25:27.982Z"
   },
   {
    "duration": 3,
    "start_time": "2021-07-07T17:25:48.982Z"
   },
   {
    "duration": 165,
    "start_time": "2021-07-07T17:25:48.987Z"
   },
   {
    "duration": 50,
    "start_time": "2021-07-07T17:25:49.154Z"
   },
   {
    "duration": 4,
    "start_time": "2021-07-07T17:25:49.206Z"
   },
   {
    "duration": 26,
    "start_time": "2021-07-07T17:25:49.212Z"
   },
   {
    "duration": 7,
    "start_time": "2021-07-07T17:25:49.240Z"
   },
   {
    "duration": 16,
    "start_time": "2021-07-07T17:25:49.249Z"
   },
   {
    "duration": 22,
    "start_time": "2021-07-07T17:25:49.266Z"
   },
   {
    "duration": 16,
    "start_time": "2021-07-07T17:25:49.291Z"
   },
   {
    "duration": 9,
    "start_time": "2021-07-07T17:25:49.309Z"
   },
   {
    "duration": 7,
    "start_time": "2021-07-07T17:25:49.319Z"
   },
   {
    "duration": 28,
    "start_time": "2021-07-07T17:25:49.328Z"
   },
   {
    "duration": 44,
    "start_time": "2021-07-07T17:25:49.357Z"
   },
   {
    "duration": 22,
    "start_time": "2021-07-07T17:25:49.403Z"
   },
   {
    "duration": 7,
    "start_time": "2021-07-07T17:25:49.427Z"
   },
   {
    "duration": 3,
    "start_time": "2021-07-07T17:25:49.436Z"
   },
   {
    "duration": 44,
    "start_time": "2021-07-07T17:25:49.441Z"
   },
   {
    "duration": 12,
    "start_time": "2021-07-07T17:25:49.488Z"
   },
   {
    "duration": 13,
    "start_time": "2021-07-07T17:25:49.502Z"
   },
   {
    "duration": 10,
    "start_time": "2021-07-07T17:25:49.516Z"
   },
   {
    "duration": 62,
    "start_time": "2021-07-07T17:25:49.527Z"
   },
   {
    "duration": 26,
    "start_time": "2021-07-07T17:26:51.809Z"
   },
   {
    "duration": 26,
    "start_time": "2021-07-07T17:26:55.759Z"
   },
   {
    "duration": 26,
    "start_time": "2021-07-07T17:27:04.501Z"
   },
   {
    "duration": 25,
    "start_time": "2021-07-07T17:28:24.859Z"
   },
   {
    "duration": 21,
    "start_time": "2021-07-07T17:28:55.250Z"
   },
   {
    "duration": 21,
    "start_time": "2021-07-07T17:28:58.885Z"
   },
   {
    "duration": 7,
    "start_time": "2021-07-07T17:45:40.972Z"
   },
   {
    "duration": 13,
    "start_time": "2021-07-07T17:45:42.529Z"
   },
   {
    "duration": 27,
    "start_time": "2021-07-07T17:45:51.026Z"
   },
   {
    "duration": 518,
    "start_time": "2021-07-07T17:46:15.532Z"
   },
   {
    "duration": 235,
    "start_time": "2021-07-07T17:46:16.053Z"
   },
   {
    "duration": 80,
    "start_time": "2021-07-07T17:46:16.292Z"
   },
   {
    "duration": 5,
    "start_time": "2021-07-07T17:46:16.373Z"
   },
   {
    "duration": 26,
    "start_time": "2021-07-07T17:46:16.380Z"
   },
   {
    "duration": 7,
    "start_time": "2021-07-07T17:46:16.408Z"
   },
   {
    "duration": 16,
    "start_time": "2021-07-07T17:46:16.418Z"
   },
   {
    "duration": 5,
    "start_time": "2021-07-07T17:46:16.436Z"
   },
   {
    "duration": 13,
    "start_time": "2021-07-07T17:46:16.442Z"
   },
   {
    "duration": 35,
    "start_time": "2021-07-07T17:46:16.456Z"
   },
   {
    "duration": 8,
    "start_time": "2021-07-07T17:46:16.493Z"
   },
   {
    "duration": 28,
    "start_time": "2021-07-07T17:46:16.502Z"
   },
   {
    "duration": 17,
    "start_time": "2021-07-07T17:46:16.532Z"
   },
   {
    "duration": 44,
    "start_time": "2021-07-07T17:46:16.551Z"
   },
   {
    "duration": 6,
    "start_time": "2021-07-07T17:46:16.597Z"
   },
   {
    "duration": 4,
    "start_time": "2021-07-07T17:46:16.605Z"
   },
   {
    "duration": 9,
    "start_time": "2021-07-07T17:46:16.610Z"
   },
   {
    "duration": 9,
    "start_time": "2021-07-07T17:46:16.621Z"
   },
   {
    "duration": 10,
    "start_time": "2021-07-07T17:46:16.632Z"
   },
   {
    "duration": 43,
    "start_time": "2021-07-07T17:46:16.644Z"
   },
   {
    "duration": 26,
    "start_time": "2021-07-07T17:46:16.689Z"
   },
   {
    "duration": 19,
    "start_time": "2021-07-07T17:46:16.718Z"
   },
   {
    "duration": 8,
    "start_time": "2021-07-07T17:46:16.738Z"
   },
   {
    "duration": 43,
    "start_time": "2021-07-07T17:46:16.747Z"
   },
   {
    "duration": 19,
    "start_time": "2021-07-07T17:46:16.791Z"
   },
   {
    "duration": 9,
    "start_time": "2021-07-07T17:46:16.812Z"
   },
   {
    "duration": 60,
    "start_time": "2021-07-07T17:46:16.822Z"
   },
   {
    "duration": -8,
    "start_time": "2021-07-07T17:46:16.892Z"
   },
   {
    "duration": 12,
    "start_time": "2021-07-07T17:48:47.707Z"
   },
   {
    "duration": 553,
    "start_time": "2021-07-07T18:10:09.350Z"
   },
   {
    "duration": 230,
    "start_time": "2021-07-07T18:10:09.905Z"
   },
   {
    "duration": 97,
    "start_time": "2021-07-07T18:10:10.137Z"
   },
   {
    "duration": 5,
    "start_time": "2021-07-07T18:10:10.236Z"
   },
   {
    "duration": 29,
    "start_time": "2021-07-07T18:10:10.242Z"
   },
   {
    "duration": 7,
    "start_time": "2021-07-07T18:10:10.272Z"
   },
   {
    "duration": 15,
    "start_time": "2021-07-07T18:10:10.281Z"
   },
   {
    "duration": 4,
    "start_time": "2021-07-07T18:10:10.299Z"
   },
   {
    "duration": 14,
    "start_time": "2021-07-07T18:10:10.305Z"
   },
   {
    "duration": 8,
    "start_time": "2021-07-07T18:10:10.321Z"
   },
   {
    "duration": 8,
    "start_time": "2021-07-07T18:10:10.331Z"
   },
   {
    "duration": 56,
    "start_time": "2021-07-07T18:10:10.341Z"
   },
   {
    "duration": 19,
    "start_time": "2021-07-07T18:10:10.399Z"
   },
   {
    "duration": 23,
    "start_time": "2021-07-07T18:10:10.419Z"
   },
   {
    "duration": 6,
    "start_time": "2021-07-07T18:10:10.444Z"
   },
   {
    "duration": 9,
    "start_time": "2021-07-07T18:10:10.451Z"
   },
   {
    "duration": 30,
    "start_time": "2021-07-07T18:10:10.462Z"
   },
   {
    "duration": 9,
    "start_time": "2021-07-07T18:10:10.494Z"
   },
   {
    "duration": 14,
    "start_time": "2021-07-07T18:10:10.505Z"
   },
   {
    "duration": 7,
    "start_time": "2021-07-07T18:10:10.521Z"
   },
   {
    "duration": 26,
    "start_time": "2021-07-07T18:10:10.530Z"
   },
   {
    "duration": 44,
    "start_time": "2021-07-07T18:10:10.558Z"
   },
   {
    "duration": 7,
    "start_time": "2021-07-07T18:10:10.605Z"
   },
   {
    "duration": 11,
    "start_time": "2021-07-07T18:10:10.614Z"
   },
   {
    "duration": 19,
    "start_time": "2021-07-07T18:10:10.626Z"
   },
   {
    "duration": 44,
    "start_time": "2021-07-07T18:10:10.646Z"
   },
   {
    "duration": 516,
    "start_time": "2021-07-07T18:14:00.826Z"
   },
   {
    "duration": 230,
    "start_time": "2021-07-07T18:14:01.344Z"
   },
   {
    "duration": 105,
    "start_time": "2021-07-07T18:14:01.576Z"
   },
   {
    "duration": 5,
    "start_time": "2021-07-07T18:14:01.683Z"
   },
   {
    "duration": 46,
    "start_time": "2021-07-07T18:14:01.690Z"
   },
   {
    "duration": 7,
    "start_time": "2021-07-07T18:14:01.738Z"
   },
   {
    "duration": 20,
    "start_time": "2021-07-07T18:14:01.747Z"
   },
   {
    "duration": 16,
    "start_time": "2021-07-07T18:14:01.769Z"
   },
   {
    "duration": 14,
    "start_time": "2021-07-07T18:14:01.787Z"
   },
   {
    "duration": 15,
    "start_time": "2021-07-07T18:14:01.803Z"
   },
   {
    "duration": 12,
    "start_time": "2021-07-07T18:14:01.820Z"
   },
   {
    "duration": 35,
    "start_time": "2021-07-07T18:14:01.833Z"
   },
   {
    "duration": 31,
    "start_time": "2021-07-07T18:14:01.869Z"
   },
   {
    "duration": 37,
    "start_time": "2021-07-07T18:14:01.902Z"
   },
   {
    "duration": 8,
    "start_time": "2021-07-07T18:14:01.942Z"
   },
   {
    "duration": 16,
    "start_time": "2021-07-07T18:14:01.952Z"
   },
   {
    "duration": 13,
    "start_time": "2021-07-07T18:14:01.970Z"
   },
   {
    "duration": 32,
    "start_time": "2021-07-07T18:14:01.985Z"
   },
   {
    "duration": 11,
    "start_time": "2021-07-07T18:14:02.019Z"
   },
   {
    "duration": 22,
    "start_time": "2021-07-07T18:14:02.031Z"
   },
   {
    "duration": 27,
    "start_time": "2021-07-07T18:14:02.055Z"
   },
   {
    "duration": 18,
    "start_time": "2021-07-07T18:14:02.084Z"
   },
   {
    "duration": 18,
    "start_time": "2021-07-07T18:14:02.106Z"
   },
   {
    "duration": 11,
    "start_time": "2021-07-07T18:14:02.126Z"
   },
   {
    "duration": 21,
    "start_time": "2021-07-07T18:14:02.138Z"
   },
   {
    "duration": 32,
    "start_time": "2021-07-07T18:14:02.161Z"
   },
   {
    "duration": 28,
    "start_time": "2021-07-07T18:14:44.295Z"
   },
   {
    "duration": 6,
    "start_time": "2021-07-07T18:15:05.834Z"
   },
   {
    "duration": 511,
    "start_time": "2021-07-07T18:15:41.541Z"
   },
   {
    "duration": 183,
    "start_time": "2021-07-07T18:15:42.054Z"
   },
   {
    "duration": 50,
    "start_time": "2021-07-07T18:15:42.239Z"
   },
   {
    "duration": 5,
    "start_time": "2021-07-07T18:15:42.291Z"
   },
   {
    "duration": 48,
    "start_time": "2021-07-07T18:15:42.297Z"
   },
   {
    "duration": 8,
    "start_time": "2021-07-07T18:15:42.346Z"
   },
   {
    "duration": 17,
    "start_time": "2021-07-07T18:15:42.356Z"
   },
   {
    "duration": 15,
    "start_time": "2021-07-07T18:15:42.375Z"
   },
   {
    "duration": 12,
    "start_time": "2021-07-07T18:15:42.392Z"
   },
   {
    "duration": 7,
    "start_time": "2021-07-07T18:15:42.406Z"
   },
   {
    "duration": 7,
    "start_time": "2021-07-07T18:15:42.415Z"
   },
   {
    "duration": 29,
    "start_time": "2021-07-07T18:15:42.423Z"
   },
   {
    "duration": 43,
    "start_time": "2021-07-07T18:15:42.453Z"
   },
   {
    "duration": 18,
    "start_time": "2021-07-07T18:15:42.497Z"
   },
   {
    "duration": 6,
    "start_time": "2021-07-07T18:15:42.516Z"
   },
   {
    "duration": 3,
    "start_time": "2021-07-07T18:15:42.523Z"
   },
   {
    "duration": 18,
    "start_time": "2021-07-07T18:15:42.528Z"
   },
   {
    "duration": 10,
    "start_time": "2021-07-07T18:15:42.547Z"
   },
   {
    "duration": 36,
    "start_time": "2021-07-07T18:15:42.559Z"
   },
   {
    "duration": 8,
    "start_time": "2021-07-07T18:15:42.597Z"
   },
   {
    "duration": 28,
    "start_time": "2021-07-07T18:15:42.606Z"
   },
   {
    "duration": 52,
    "start_time": "2021-07-07T18:15:42.635Z"
   },
   {
    "duration": 7,
    "start_time": "2021-07-07T18:15:42.690Z"
   },
   {
    "duration": 10,
    "start_time": "2021-07-07T18:15:42.699Z"
   },
   {
    "duration": 19,
    "start_time": "2021-07-07T18:15:42.711Z"
   },
   {
    "duration": 9,
    "start_time": "2021-07-07T18:15:42.732Z"
   },
   {
    "duration": 5,
    "start_time": "2021-07-07T18:15:42.743Z"
   },
   {
    "duration": 1450,
    "start_time": "2021-07-07T18:15:51.984Z"
   },
   {
    "duration": 161,
    "start_time": "2021-07-07T18:15:53.435Z"
   },
   {
    "duration": 124,
    "start_time": "2021-07-07T18:15:53.598Z"
   },
   {
    "duration": 5,
    "start_time": "2021-07-07T18:15:53.724Z"
   },
   {
    "duration": 34,
    "start_time": "2021-07-07T18:15:53.730Z"
   },
   {
    "duration": 7,
    "start_time": "2021-07-07T18:15:53.765Z"
   },
   {
    "duration": 15,
    "start_time": "2021-07-07T18:15:53.773Z"
   },
   {
    "duration": 5,
    "start_time": "2021-07-07T18:15:53.791Z"
   },
   {
    "duration": 19,
    "start_time": "2021-07-07T18:15:53.798Z"
   },
   {
    "duration": 9,
    "start_time": "2021-07-07T18:15:53.818Z"
   },
   {
    "duration": 19,
    "start_time": "2021-07-07T18:15:53.828Z"
   },
   {
    "duration": 27,
    "start_time": "2021-07-07T18:15:53.848Z"
   },
   {
    "duration": 16,
    "start_time": "2021-07-07T18:15:53.884Z"
   },
   {
    "duration": 29,
    "start_time": "2021-07-07T18:15:53.901Z"
   },
   {
    "duration": 5,
    "start_time": "2021-07-07T18:15:53.932Z"
   },
   {
    "duration": 15,
    "start_time": "2021-07-07T18:15:53.939Z"
   },
   {
    "duration": 13,
    "start_time": "2021-07-07T18:15:53.956Z"
   },
   {
    "duration": 20,
    "start_time": "2021-07-07T18:15:53.971Z"
   },
   {
    "duration": 14,
    "start_time": "2021-07-07T18:15:53.992Z"
   },
   {
    "duration": 9,
    "start_time": "2021-07-07T18:15:54.009Z"
   },
   {
    "duration": 28,
    "start_time": "2021-07-07T18:15:54.020Z"
   },
   {
    "duration": 50,
    "start_time": "2021-07-07T18:15:54.051Z"
   },
   {
    "duration": 8,
    "start_time": "2021-07-07T18:15:54.105Z"
   },
   {
    "duration": 11,
    "start_time": "2021-07-07T18:15:54.115Z"
   },
   {
    "duration": 20,
    "start_time": "2021-07-07T18:15:54.128Z"
   },
   {
    "duration": 13,
    "start_time": "2021-07-07T18:15:54.184Z"
   },
   {
    "duration": 7,
    "start_time": "2021-07-07T18:15:54.199Z"
   },
   {
    "duration": 7,
    "start_time": "2021-07-07T18:17:08.042Z"
   },
   {
    "duration": 8,
    "start_time": "2021-07-07T18:17:21.008Z"
   },
   {
    "duration": 7,
    "start_time": "2021-07-07T18:17:29.003Z"
   },
   {
    "duration": 8,
    "start_time": "2021-07-07T18:17:32.492Z"
   },
   {
    "duration": 9,
    "start_time": "2021-07-07T18:17:41.758Z"
   },
   {
    "duration": 255,
    "start_time": "2021-07-07T18:20:20.897Z"
   },
   {
    "duration": 173,
    "start_time": "2021-07-07T18:20:26.636Z"
   },
   {
    "duration": 7,
    "start_time": "2021-07-07T18:21:47.164Z"
   },
   {
    "duration": 254,
    "start_time": "2021-07-07T18:23:08.703Z"
   },
   {
    "duration": 21,
    "start_time": "2021-07-07T18:23:22.506Z"
   },
   {
    "duration": 315,
    "start_time": "2021-07-07T18:25:54.801Z"
   },
   {
    "duration": 34,
    "start_time": "2021-07-07T18:26:51.817Z"
   },
   {
    "duration": 327,
    "start_time": "2021-07-07T18:26:56.147Z"
   },
   {
    "duration": 342,
    "start_time": "2021-07-07T18:27:15.887Z"
   },
   {
    "duration": 302,
    "start_time": "2021-07-07T18:28:18.569Z"
   },
   {
    "duration": 226,
    "start_time": "2021-07-07T18:29:20.879Z"
   },
   {
    "duration": 207,
    "start_time": "2021-07-07T18:29:58.114Z"
   },
   {
    "duration": 140,
    "start_time": "2021-07-07T18:32:04.372Z"
   },
   {
    "duration": 158,
    "start_time": "2021-07-07T18:32:32.508Z"
   },
   {
    "duration": 145,
    "start_time": "2021-07-07T18:32:41.365Z"
   },
   {
    "duration": 132,
    "start_time": "2021-07-07T18:32:45.199Z"
   },
   {
    "duration": 11,
    "start_time": "2021-07-07T18:35:24.679Z"
   },
   {
    "duration": 268,
    "start_time": "2021-07-07T18:36:16.145Z"
   },
   {
    "duration": 227,
    "start_time": "2021-07-07T18:37:04.918Z"
   },
   {
    "duration": 3,
    "start_time": "2021-07-07T18:37:33.012Z"
   },
   {
    "duration": 671,
    "start_time": "2021-07-07T18:37:38.295Z"
   },
   {
    "duration": 54,
    "start_time": "2021-07-07T18:37:53.406Z"
   },
   {
    "duration": 631,
    "start_time": "2021-07-07T18:37:56.463Z"
   },
   {
    "duration": 19,
    "start_time": "2021-07-07T18:39:40.535Z"
   },
   {
    "duration": 20,
    "start_time": "2021-07-07T18:40:12.236Z"
   },
   {
    "duration": 633,
    "start_time": "2021-07-07T18:42:00.398Z"
   },
   {
    "duration": 218,
    "start_time": "2021-07-07T18:42:01.033Z"
   },
   {
    "duration": 49,
    "start_time": "2021-07-07T18:42:01.253Z"
   },
   {
    "duration": 5,
    "start_time": "2021-07-07T18:42:01.303Z"
   },
   {
    "duration": 27,
    "start_time": "2021-07-07T18:42:01.310Z"
   },
   {
    "duration": 8,
    "start_time": "2021-07-07T18:42:01.339Z"
   },
   {
    "duration": 20,
    "start_time": "2021-07-07T18:42:01.348Z"
   },
   {
    "duration": 6,
    "start_time": "2021-07-07T18:42:01.386Z"
   },
   {
    "duration": 16,
    "start_time": "2021-07-07T18:42:01.394Z"
   },
   {
    "duration": 9,
    "start_time": "2021-07-07T18:42:01.411Z"
   },
   {
    "duration": 11,
    "start_time": "2021-07-07T18:42:01.421Z"
   },
   {
    "duration": 31,
    "start_time": "2021-07-07T18:42:01.434Z"
   },
   {
    "duration": 18,
    "start_time": "2021-07-07T18:42:01.485Z"
   },
   {
    "duration": 23,
    "start_time": "2021-07-07T18:42:01.505Z"
   },
   {
    "duration": 6,
    "start_time": "2021-07-07T18:42:01.530Z"
   },
   {
    "duration": 10,
    "start_time": "2021-07-07T18:42:01.538Z"
   },
   {
    "duration": 13,
    "start_time": "2021-07-07T18:42:01.550Z"
   },
   {
    "duration": 24,
    "start_time": "2021-07-07T18:42:01.564Z"
   },
   {
    "duration": 20,
    "start_time": "2021-07-07T18:42:01.590Z"
   },
   {
    "duration": 8,
    "start_time": "2021-07-07T18:42:01.611Z"
   },
   {
    "duration": 31,
    "start_time": "2021-07-07T18:42:01.620Z"
   },
   {
    "duration": 39,
    "start_time": "2021-07-07T18:42:01.653Z"
   },
   {
    "duration": 8,
    "start_time": "2021-07-07T18:42:01.696Z"
   },
   {
    "duration": 13,
    "start_time": "2021-07-07T18:42:01.705Z"
   },
   {
    "duration": 20,
    "start_time": "2021-07-07T18:42:01.720Z"
   },
   {
    "duration": 12,
    "start_time": "2021-07-07T18:42:01.741Z"
   },
   {
    "duration": 35,
    "start_time": "2021-07-07T18:42:01.755Z"
   },
   {
    "duration": 14,
    "start_time": "2021-07-07T18:42:01.792Z"
   },
   {
    "duration": 188,
    "start_time": "2021-07-07T18:42:01.808Z"
   },
   {
    "duration": 19,
    "start_time": "2021-07-07T18:42:01.998Z"
   },
   {
    "duration": 175,
    "start_time": "2021-07-07T18:42:02.019Z"
   },
   {
    "duration": 134,
    "start_time": "2021-07-07T18:42:02.196Z"
   },
   {
    "duration": 10,
    "start_time": "2021-07-07T18:42:02.331Z"
   },
   {
    "duration": 19,
    "start_time": "2021-07-07T18:42:02.343Z"
   },
   {
    "duration": 628,
    "start_time": "2021-07-07T18:46:30.701Z"
   },
   {
    "duration": 183,
    "start_time": "2021-07-07T18:46:31.331Z"
   },
   {
    "duration": 48,
    "start_time": "2021-07-07T18:46:31.516Z"
   },
   {
    "duration": 5,
    "start_time": "2021-07-07T18:46:31.566Z"
   },
   {
    "duration": 28,
    "start_time": "2021-07-07T18:46:31.572Z"
   },
   {
    "duration": 8,
    "start_time": "2021-07-07T18:46:31.602Z"
   },
   {
    "duration": 19,
    "start_time": "2021-07-07T18:46:31.611Z"
   },
   {
    "duration": 6,
    "start_time": "2021-07-07T18:46:31.633Z"
   },
   {
    "duration": 17,
    "start_time": "2021-07-07T18:46:31.642Z"
   },
   {
    "duration": 10,
    "start_time": "2021-07-07T18:46:31.684Z"
   },
   {
    "duration": 9,
    "start_time": "2021-07-07T18:46:31.695Z"
   },
   {
    "duration": 28,
    "start_time": "2021-07-07T18:46:31.705Z"
   },
   {
    "duration": 18,
    "start_time": "2021-07-07T18:46:31.735Z"
   },
   {
    "duration": 48,
    "start_time": "2021-07-07T18:46:31.755Z"
   },
   {
    "duration": 6,
    "start_time": "2021-07-07T18:46:31.804Z"
   },
   {
    "duration": 4,
    "start_time": "2021-07-07T18:46:31.812Z"
   },
   {
    "duration": 9,
    "start_time": "2021-07-07T18:46:31.817Z"
   },
   {
    "duration": 10,
    "start_time": "2021-07-07T18:46:31.827Z"
   },
   {
    "duration": 12,
    "start_time": "2021-07-07T18:46:31.838Z"
   },
   {
    "duration": 39,
    "start_time": "2021-07-07T18:46:31.851Z"
   },
   {
    "duration": 24,
    "start_time": "2021-07-07T18:46:31.892Z"
   },
   {
    "duration": 15,
    "start_time": "2021-07-07T18:46:31.918Z"
   },
   {
    "duration": 7,
    "start_time": "2021-07-07T18:46:31.936Z"
   },
   {
    "duration": 8,
    "start_time": "2021-07-07T18:46:31.944Z"
   },
   {
    "duration": 19,
    "start_time": "2021-07-07T18:46:31.984Z"
   },
   {
    "duration": 10,
    "start_time": "2021-07-07T18:46:32.004Z"
   },
   {
    "duration": 5,
    "start_time": "2021-07-07T18:46:32.016Z"
   },
   {
    "duration": 9,
    "start_time": "2021-07-07T18:46:32.023Z"
   },
   {
    "duration": 199,
    "start_time": "2021-07-07T18:46:32.033Z"
   },
   {
    "duration": 19,
    "start_time": "2021-07-07T18:46:32.234Z"
   },
   {
    "duration": 159,
    "start_time": "2021-07-07T18:46:32.255Z"
   },
   {
    "duration": 134,
    "start_time": "2021-07-07T18:46:32.416Z"
   },
   {
    "duration": 10,
    "start_time": "2021-07-07T18:46:32.552Z"
   },
   {
    "duration": 34,
    "start_time": "2021-07-07T18:46:32.563Z"
   },
   {
    "duration": 1039,
    "start_time": "2021-07-08T08:41:09.419Z"
   },
   {
    "duration": 333,
    "start_time": "2021-07-08T08:41:10.459Z"
   },
   {
    "duration": 173,
    "start_time": "2021-07-08T08:41:10.794Z"
   },
   {
    "duration": 5,
    "start_time": "2021-07-08T08:41:10.968Z"
   },
   {
    "duration": 25,
    "start_time": "2021-07-08T08:41:10.975Z"
   },
   {
    "duration": 9,
    "start_time": "2021-07-08T08:41:11.002Z"
   },
   {
    "duration": 18,
    "start_time": "2021-07-08T08:41:11.013Z"
   },
   {
    "duration": 6,
    "start_time": "2021-07-08T08:41:11.033Z"
   },
   {
    "duration": 44,
    "start_time": "2021-07-08T08:41:11.042Z"
   },
   {
    "duration": 10,
    "start_time": "2021-07-08T08:41:11.088Z"
   },
   {
    "duration": 9,
    "start_time": "2021-07-08T08:41:11.100Z"
   },
   {
    "duration": 27,
    "start_time": "2021-07-08T08:41:11.111Z"
   },
   {
    "duration": 46,
    "start_time": "2021-07-08T08:41:11.140Z"
   },
   {
    "duration": 17,
    "start_time": "2021-07-08T08:41:11.187Z"
   },
   {
    "duration": 6,
    "start_time": "2021-07-08T08:41:11.206Z"
   },
   {
    "duration": 5,
    "start_time": "2021-07-08T08:41:11.213Z"
   },
   {
    "duration": 10,
    "start_time": "2021-07-08T08:41:11.219Z"
   },
   {
    "duration": 9,
    "start_time": "2021-07-08T08:41:11.230Z"
   },
   {
    "duration": 45,
    "start_time": "2021-07-08T08:41:11.241Z"
   },
   {
    "duration": 7,
    "start_time": "2021-07-08T08:41:11.287Z"
   },
   {
    "duration": 24,
    "start_time": "2021-07-08T08:41:11.296Z"
   },
   {
    "duration": 16,
    "start_time": "2021-07-08T08:41:11.322Z"
   },
   {
    "duration": 7,
    "start_time": "2021-07-08T08:41:11.341Z"
   },
   {
    "duration": 41,
    "start_time": "2021-07-08T08:41:11.349Z"
   },
   {
    "duration": 17,
    "start_time": "2021-07-08T08:41:11.391Z"
   },
   {
    "duration": 9,
    "start_time": "2021-07-08T08:41:11.410Z"
   },
   {
    "duration": 5,
    "start_time": "2021-07-08T08:41:11.421Z"
   },
   {
    "duration": 6,
    "start_time": "2021-07-08T08:41:11.428Z"
   },
   {
    "duration": 198,
    "start_time": "2021-07-08T08:41:11.435Z"
   },
   {
    "duration": 18,
    "start_time": "2021-07-08T08:41:11.635Z"
   },
   {
    "duration": 155,
    "start_time": "2021-07-08T08:41:11.655Z"
   },
   {
    "duration": 138,
    "start_time": "2021-07-08T08:41:11.811Z"
   },
   {
    "duration": 10,
    "start_time": "2021-07-08T08:41:11.950Z"
   },
   {
    "duration": 29,
    "start_time": "2021-07-08T08:41:11.961Z"
   },
   {
    "duration": 171,
    "start_time": "2021-07-08T08:47:44.522Z"
   },
   {
    "duration": 124,
    "start_time": "2021-07-08T08:47:46.872Z"
   },
   {
    "duration": 191,
    "start_time": "2021-07-08T08:47:58.148Z"
   },
   {
    "duration": 191,
    "start_time": "2021-07-08T08:48:07.412Z"
   },
   {
    "duration": 261,
    "start_time": "2021-07-08T08:48:10.385Z"
   },
   {
    "duration": 255,
    "start_time": "2021-07-08T08:48:14.494Z"
   },
   {
    "duration": 219,
    "start_time": "2021-07-08T08:48:22.752Z"
   },
   {
    "duration": 173,
    "start_time": "2021-07-08T08:49:06.395Z"
   },
   {
    "duration": 180,
    "start_time": "2021-07-08T08:49:21.011Z"
   },
   {
    "duration": 6,
    "start_time": "2021-07-08T08:50:31.697Z"
   },
   {
    "duration": 10,
    "start_time": "2021-07-08T08:50:47.394Z"
   },
   {
    "duration": 11,
    "start_time": "2021-07-08T08:53:49.332Z"
   },
   {
    "duration": 171,
    "start_time": "2021-07-08T08:54:28.408Z"
   },
   {
    "duration": 636,
    "start_time": "2021-07-08T09:02:48.385Z"
   },
   {
    "duration": 227,
    "start_time": "2021-07-08T09:02:49.023Z"
   },
   {
    "duration": 104,
    "start_time": "2021-07-08T09:02:49.252Z"
   },
   {
    "duration": 5,
    "start_time": "2021-07-08T09:02:49.358Z"
   },
   {
    "duration": 27,
    "start_time": "2021-07-08T09:02:49.365Z"
   },
   {
    "duration": 8,
    "start_time": "2021-07-08T09:02:49.394Z"
   },
   {
    "duration": 18,
    "start_time": "2021-07-08T09:02:49.404Z"
   },
   {
    "duration": 6,
    "start_time": "2021-07-08T09:02:49.424Z"
   },
   {
    "duration": 11,
    "start_time": "2021-07-08T09:02:49.433Z"
   },
   {
    "duration": 13,
    "start_time": "2021-07-08T09:02:49.485Z"
   },
   {
    "duration": 9,
    "start_time": "2021-07-08T09:02:49.500Z"
   },
   {
    "duration": 38,
    "start_time": "2021-07-08T09:02:49.511Z"
   },
   {
    "duration": 42,
    "start_time": "2021-07-08T09:02:49.551Z"
   },
   {
    "duration": 21,
    "start_time": "2021-07-08T09:02:49.594Z"
   },
   {
    "duration": 6,
    "start_time": "2021-07-08T09:02:49.616Z"
   },
   {
    "duration": 3,
    "start_time": "2021-07-08T09:02:49.623Z"
   },
   {
    "duration": 9,
    "start_time": "2021-07-08T09:02:49.628Z"
   },
   {
    "duration": 52,
    "start_time": "2021-07-08T09:02:49.638Z"
   },
   {
    "duration": 11,
    "start_time": "2021-07-08T09:02:49.692Z"
   },
   {
    "duration": 8,
    "start_time": "2021-07-08T09:02:49.704Z"
   },
   {
    "duration": 27,
    "start_time": "2021-07-08T09:02:49.713Z"
   },
   {
    "duration": 59,
    "start_time": "2021-07-08T09:02:49.741Z"
   },
   {
    "duration": 8,
    "start_time": "2021-07-08T09:02:49.803Z"
   },
   {
    "duration": 14,
    "start_time": "2021-07-08T09:02:49.813Z"
   },
   {
    "duration": 20,
    "start_time": "2021-07-08T09:02:49.829Z"
   },
   {
    "duration": 44,
    "start_time": "2021-07-08T09:02:49.851Z"
   },
   {
    "duration": 14,
    "start_time": "2021-07-08T09:02:49.896Z"
   },
   {
    "duration": 221,
    "start_time": "2021-07-08T09:02:49.912Z"
   },
   {
    "duration": 6,
    "start_time": "2021-07-08T09:02:50.134Z"
   },
   {
    "duration": 206,
    "start_time": "2021-07-08T09:02:50.142Z"
   },
   {
    "duration": 19,
    "start_time": "2021-07-08T09:02:50.350Z"
   },
   {
    "duration": 21,
    "start_time": "2021-07-08T09:02:50.370Z"
   },
   {
    "duration": 20,
    "start_time": "2021-07-08T09:02:50.393Z"
   },
   {
    "duration": 5,
    "start_time": "2021-07-08T09:02:50.414Z"
   },
   {
    "duration": 5,
    "start_time": "2021-07-08T09:03:34.173Z"
   },
   {
    "duration": 6,
    "start_time": "2021-07-08T09:04:49.062Z"
   },
   {
    "duration": 9,
    "start_time": "2021-07-08T09:04:50.118Z"
   },
   {
    "duration": 14,
    "start_time": "2021-07-08T09:04:58.512Z"
   },
   {
    "duration": 9,
    "start_time": "2021-07-08T09:05:10.988Z"
   },
   {
    "duration": 11,
    "start_time": "2021-07-08T09:05:11.743Z"
   },
   {
    "duration": 7,
    "start_time": "2021-07-08T09:05:25.677Z"
   },
   {
    "duration": 13,
    "start_time": "2021-07-08T09:05:47.189Z"
   },
   {
    "duration": 13,
    "start_time": "2021-07-08T09:05:54.755Z"
   },
   {
    "duration": 4,
    "start_time": "2021-07-08T09:06:29.189Z"
   },
   {
    "duration": 244,
    "start_time": "2021-07-08T09:06:29.195Z"
   },
   {
    "duration": 91,
    "start_time": "2021-07-08T09:06:29.441Z"
   },
   {
    "duration": 4,
    "start_time": "2021-07-08T09:06:29.534Z"
   },
   {
    "duration": 28,
    "start_time": "2021-07-08T09:06:29.540Z"
   },
   {
    "duration": 6,
    "start_time": "2021-07-08T09:06:29.570Z"
   },
   {
    "duration": 18,
    "start_time": "2021-07-08T09:06:29.578Z"
   },
   {
    "duration": 5,
    "start_time": "2021-07-08T09:06:29.597Z"
   },
   {
    "duration": 13,
    "start_time": "2021-07-08T09:06:29.605Z"
   },
   {
    "duration": 8,
    "start_time": "2021-07-08T09:06:29.620Z"
   },
   {
    "duration": 7,
    "start_time": "2021-07-08T09:06:29.630Z"
   },
   {
    "duration": 63,
    "start_time": "2021-07-08T09:06:29.639Z"
   },
   {
    "duration": 17,
    "start_time": "2021-07-08T09:06:29.704Z"
   },
   {
    "duration": 20,
    "start_time": "2021-07-08T09:06:29.723Z"
   },
   {
    "duration": 6,
    "start_time": "2021-07-08T09:06:29.745Z"
   },
   {
    "duration": 3,
    "start_time": "2021-07-08T09:06:29.752Z"
   },
   {
    "duration": 7,
    "start_time": "2021-07-08T09:06:29.785Z"
   },
   {
    "duration": 11,
    "start_time": "2021-07-08T09:06:29.794Z"
   },
   {
    "duration": 15,
    "start_time": "2021-07-08T09:06:29.807Z"
   },
   {
    "duration": 8,
    "start_time": "2021-07-08T09:06:29.823Z"
   },
   {
    "duration": 70,
    "start_time": "2021-07-08T09:06:29.832Z"
   },
   {
    "duration": 17,
    "start_time": "2021-07-08T09:06:29.903Z"
   },
   {
    "duration": 9,
    "start_time": "2021-07-08T09:06:29.921Z"
   },
   {
    "duration": 9,
    "start_time": "2021-07-08T09:06:29.932Z"
   },
   {
    "duration": 57,
    "start_time": "2021-07-08T09:06:29.942Z"
   },
   {
    "duration": 11,
    "start_time": "2021-07-08T09:06:30.001Z"
   },
   {
    "duration": 19,
    "start_time": "2021-07-08T09:06:30.016Z"
   },
   {
    "duration": 217,
    "start_time": "2021-07-08T09:06:30.037Z"
   },
   {
    "duration": 6,
    "start_time": "2021-07-08T09:06:30.255Z"
   },
   {
    "duration": 205,
    "start_time": "2021-07-08T09:06:30.263Z"
   },
   {
    "duration": 27,
    "start_time": "2021-07-08T09:06:30.470Z"
   },
   {
    "duration": 11,
    "start_time": "2021-07-08T09:06:30.500Z"
   },
   {
    "duration": 31,
    "start_time": "2021-07-08T09:06:30.513Z"
   },
   {
    "duration": 18,
    "start_time": "2021-07-08T09:06:30.546Z"
   },
   {
    "duration": 11,
    "start_time": "2021-07-08T09:06:30.566Z"
   },
   {
    "duration": 19,
    "start_time": "2021-07-08T09:06:30.579Z"
   },
   {
    "duration": 20,
    "start_time": "2021-07-08T09:06:49.466Z"
   },
   {
    "duration": 9,
    "start_time": "2021-07-08T09:06:51.994Z"
   },
   {
    "duration": 20,
    "start_time": "2021-07-08T09:06:52.273Z"
   },
   {
    "duration": 246,
    "start_time": "2021-07-08T09:10:21.272Z"
   },
   {
    "duration": 84,
    "start_time": "2021-07-08T09:10:21.436Z"
   },
   {
    "duration": 7,
    "start_time": "2021-07-08T09:10:37.608Z"
   },
   {
    "duration": 189,
    "start_time": "2021-07-08T09:10:38.573Z"
   },
   {
    "duration": 185,
    "start_time": "2021-07-08T09:10:53.181Z"
   },
   {
    "duration": 11,
    "start_time": "2021-07-08T09:10:59.549Z"
   },
   {
    "duration": 42,
    "start_time": "2021-07-08T09:10:59.709Z"
   },
   {
    "duration": 12,
    "start_time": "2021-07-08T09:11:02.857Z"
   },
   {
    "duration": 28,
    "start_time": "2021-07-08T09:11:10.062Z"
   },
   {
    "duration": 249,
    "start_time": "2021-07-08T09:11:37.388Z"
   },
   {
    "duration": 232,
    "start_time": "2021-07-08T09:11:49.485Z"
   },
   {
    "duration": 453,
    "start_time": "2021-07-08T09:12:01.546Z"
   },
   {
    "duration": 440,
    "start_time": "2021-07-08T09:12:12.347Z"
   },
   {
    "duration": 213,
    "start_time": "2021-07-08T09:13:32.196Z"
   },
   {
    "duration": 172,
    "start_time": "2021-07-08T09:14:07.400Z"
   },
   {
    "duration": 185,
    "start_time": "2021-07-08T09:14:14.905Z"
   },
   {
    "duration": 209,
    "start_time": "2021-07-08T09:14:40.109Z"
   },
   {
    "duration": 201,
    "start_time": "2021-07-08T09:14:54.506Z"
   },
   {
    "duration": 622,
    "start_time": "2021-07-08T09:18:14.497Z"
   },
   {
    "duration": 220,
    "start_time": "2021-07-08T09:18:15.121Z"
   },
   {
    "duration": 79,
    "start_time": "2021-07-08T09:18:15.343Z"
   },
   {
    "duration": 4,
    "start_time": "2021-07-08T09:18:15.425Z"
   },
   {
    "duration": 24,
    "start_time": "2021-07-08T09:18:15.431Z"
   },
   {
    "duration": 8,
    "start_time": "2021-07-08T09:18:15.457Z"
   },
   {
    "duration": 16,
    "start_time": "2021-07-08T09:18:15.466Z"
   },
   {
    "duration": 5,
    "start_time": "2021-07-08T09:18:15.484Z"
   },
   {
    "duration": 10,
    "start_time": "2021-07-08T09:18:15.493Z"
   },
   {
    "duration": 8,
    "start_time": "2021-07-08T09:18:15.504Z"
   },
   {
    "duration": 7,
    "start_time": "2021-07-08T09:18:15.513Z"
   },
   {
    "duration": 26,
    "start_time": "2021-07-08T09:18:15.522Z"
   },
   {
    "duration": 49,
    "start_time": "2021-07-08T09:18:15.550Z"
   },
   {
    "duration": 21,
    "start_time": "2021-07-08T09:18:15.601Z"
   },
   {
    "duration": 8,
    "start_time": "2021-07-08T09:18:15.624Z"
   },
   {
    "duration": 3,
    "start_time": "2021-07-08T09:18:15.634Z"
   },
   {
    "duration": 8,
    "start_time": "2021-07-08T09:18:15.639Z"
   },
   {
    "duration": 45,
    "start_time": "2021-07-08T09:18:15.649Z"
   },
   {
    "duration": 13,
    "start_time": "2021-07-08T09:18:15.696Z"
   },
   {
    "duration": 10,
    "start_time": "2021-07-08T09:18:15.711Z"
   },
   {
    "duration": 64,
    "start_time": "2021-07-08T09:18:15.722Z"
   },
   {
    "duration": 19,
    "start_time": "2021-07-08T09:18:15.788Z"
   },
   {
    "duration": 9,
    "start_time": "2021-07-08T09:18:15.809Z"
   },
   {
    "duration": 9,
    "start_time": "2021-07-08T09:18:15.820Z"
   },
   {
    "duration": 18,
    "start_time": "2021-07-08T09:18:15.831Z"
   },
   {
    "duration": 43,
    "start_time": "2021-07-08T09:18:15.851Z"
   },
   {
    "duration": 12,
    "start_time": "2021-07-08T09:18:15.897Z"
   },
   {
    "duration": 219,
    "start_time": "2021-07-08T09:18:15.911Z"
   },
   {
    "duration": 8,
    "start_time": "2021-07-08T09:18:16.132Z"
   },
   {
    "duration": 199,
    "start_time": "2021-07-08T09:18:16.141Z"
   },
   {
    "duration": 18,
    "start_time": "2021-07-08T09:18:16.341Z"
   },
   {
    "duration": 24,
    "start_time": "2021-07-08T09:18:16.361Z"
   },
   {
    "duration": 24,
    "start_time": "2021-07-08T09:18:16.387Z"
   },
   {
    "duration": 211,
    "start_time": "2021-07-08T09:18:16.413Z"
   },
   {
    "duration": 18,
    "start_time": "2021-07-08T09:18:16.626Z"
   },
   {
    "duration": 596,
    "start_time": "2021-07-08T10:06:33.623Z"
   },
   {
    "duration": 181,
    "start_time": "2021-07-08T10:06:34.221Z"
   },
   {
    "duration": 176,
    "start_time": "2021-07-08T10:06:34.635Z"
   },
   {
    "duration": 239,
    "start_time": "2021-07-08T10:06:55.572Z"
   },
   {
    "duration": 6,
    "start_time": "2021-07-08T10:06:57.687Z"
   },
   {
    "duration": 4,
    "start_time": "2021-07-08T10:07:03.956Z"
   },
   {
    "duration": 4,
    "start_time": "2021-07-08T10:07:10.376Z"
   },
   {
    "duration": 4,
    "start_time": "2021-07-08T10:17:19.889Z"
   },
   {
    "duration": 3,
    "start_time": "2021-07-08T10:19:19.407Z"
   },
   {
    "duration": 197,
    "start_time": "2021-07-08T10:19:19.412Z"
   },
   {
    "duration": 127,
    "start_time": "2021-07-08T10:19:19.611Z"
   },
   {
    "duration": 4,
    "start_time": "2021-07-08T10:19:19.740Z"
   },
   {
    "duration": 27,
    "start_time": "2021-07-08T10:19:19.746Z"
   },
   {
    "duration": 7,
    "start_time": "2021-07-08T10:19:19.775Z"
   },
   {
    "duration": 30,
    "start_time": "2021-07-08T10:19:19.784Z"
   },
   {
    "duration": 7,
    "start_time": "2021-07-08T10:19:19.817Z"
   },
   {
    "duration": 26,
    "start_time": "2021-07-08T10:19:19.826Z"
   },
   {
    "duration": 18,
    "start_time": "2021-07-08T10:19:19.854Z"
   },
   {
    "duration": 14,
    "start_time": "2021-07-08T10:19:19.874Z"
   },
   {
    "duration": 48,
    "start_time": "2021-07-08T10:19:19.890Z"
   },
   {
    "duration": 17,
    "start_time": "2021-07-08T10:19:19.940Z"
   },
   {
    "duration": 38,
    "start_time": "2021-07-08T10:19:19.959Z"
   },
   {
    "duration": 8,
    "start_time": "2021-07-08T10:19:19.999Z"
   },
   {
    "duration": 15,
    "start_time": "2021-07-08T10:19:20.009Z"
   },
   {
    "duration": 22,
    "start_time": "2021-07-08T10:19:20.026Z"
   },
   {
    "duration": 10,
    "start_time": "2021-07-08T10:19:20.050Z"
   },
   {
    "duration": 10,
    "start_time": "2021-07-08T10:19:20.062Z"
   },
   {
    "duration": 20,
    "start_time": "2021-07-08T10:19:20.073Z"
   },
   {
    "duration": 29,
    "start_time": "2021-07-08T10:19:20.095Z"
   },
   {
    "duration": 17,
    "start_time": "2021-07-08T10:19:20.126Z"
   },
   {
    "duration": 40,
    "start_time": "2021-07-08T10:19:20.146Z"
   },
   {
    "duration": 15,
    "start_time": "2021-07-08T10:19:20.189Z"
   },
   {
    "duration": 19,
    "start_time": "2021-07-08T10:19:20.206Z"
   },
   {
    "duration": 10,
    "start_time": "2021-07-08T10:19:20.226Z"
   },
   {
    "duration": 11,
    "start_time": "2021-07-08T10:19:20.238Z"
   },
   {
    "duration": 297,
    "start_time": "2021-07-08T10:19:20.250Z"
   },
   {
    "duration": 6,
    "start_time": "2021-07-08T10:19:20.549Z"
   },
   {
    "duration": 191,
    "start_time": "2021-07-08T10:19:20.557Z"
   },
   {
    "duration": 19,
    "start_time": "2021-07-08T10:19:20.750Z"
   },
   {
    "duration": 20,
    "start_time": "2021-07-08T10:19:20.771Z"
   },
   {
    "duration": 15,
    "start_time": "2021-07-08T10:19:20.793Z"
   },
   {
    "duration": 222,
    "start_time": "2021-07-08T10:19:20.809Z"
   },
   {
    "duration": 20,
    "start_time": "2021-07-08T10:19:21.033Z"
   },
   {
    "duration": 27,
    "start_time": "2021-07-08T10:45:04.055Z"
   },
   {
    "duration": 8,
    "start_time": "2021-07-08T10:45:08.478Z"
   },
   {
    "duration": 8,
    "start_time": "2021-07-08T10:45:31.982Z"
   },
   {
    "duration": 10,
    "start_time": "2021-07-08T10:46:01.221Z"
   },
   {
    "duration": 17,
    "start_time": "2021-07-08T10:46:40.011Z"
   },
   {
    "duration": 193,
    "start_time": "2021-07-08T10:48:19.471Z"
   },
   {
    "duration": 225,
    "start_time": "2021-07-08T10:49:26.480Z"
   },
   {
    "duration": 204,
    "start_time": "2021-07-08T10:49:59.992Z"
   },
   {
    "duration": 435,
    "start_time": "2021-07-08T10:50:06.779Z"
   },
   {
    "duration": 199,
    "start_time": "2021-07-08T10:50:14.891Z"
   },
   {
    "duration": 204,
    "start_time": "2021-07-08T10:50:18.501Z"
   },
   {
    "duration": 244,
    "start_time": "2021-07-08T10:50:23.359Z"
   },
   {
    "duration": 192,
    "start_time": "2021-07-08T10:50:29.135Z"
   },
   {
    "duration": 218,
    "start_time": "2021-07-08T10:50:33.092Z"
   },
   {
    "duration": 207,
    "start_time": "2021-07-08T10:52:45.381Z"
   },
   {
    "duration": 5,
    "start_time": "2021-07-08T10:53:34.641Z"
   },
   {
    "duration": 196,
    "start_time": "2021-07-08T10:53:41.478Z"
   },
   {
    "duration": 43,
    "start_time": "2021-07-08T10:53:50.335Z"
   },
   {
    "duration": 32,
    "start_time": "2021-07-08T10:53:55.294Z"
   },
   {
    "duration": 55,
    "start_time": "2021-07-08T10:54:09.675Z"
   },
   {
    "duration": 16,
    "start_time": "2021-07-08T10:54:12.260Z"
   },
   {
    "duration": 15,
    "start_time": "2021-07-08T10:54:49.150Z"
   },
   {
    "duration": 20,
    "start_time": "2021-07-08T10:56:07.596Z"
   },
   {
    "duration": 16,
    "start_time": "2021-07-08T10:58:26.276Z"
   },
   {
    "duration": 22,
    "start_time": "2021-07-08T10:59:00.486Z"
   },
   {
    "duration": 18,
    "start_time": "2021-07-08T11:02:09.653Z"
   },
   {
    "duration": 10,
    "start_time": "2021-07-08T11:03:44.331Z"
   },
   {
    "duration": 10,
    "start_time": "2021-07-08T11:03:54.055Z"
   },
   {
    "duration": 12,
    "start_time": "2021-07-08T11:04:41.967Z"
   },
   {
    "duration": 24,
    "start_time": "2021-07-08T11:07:30.732Z"
   },
   {
    "duration": 6,
    "start_time": "2021-07-08T11:07:37.364Z"
   },
   {
    "duration": 16,
    "start_time": "2021-07-08T11:08:01.819Z"
   },
   {
    "duration": 17,
    "start_time": "2021-07-08T11:09:47.488Z"
   },
   {
    "duration": 246,
    "start_time": "2021-07-08T11:10:00.830Z"
   },
   {
    "duration": 18,
    "start_time": "2021-07-08T11:13:55.195Z"
   },
   {
    "duration": 204,
    "start_time": "2021-07-08T11:14:04.951Z"
   },
   {
    "duration": 19,
    "start_time": "2021-07-08T11:15:10.613Z"
   },
   {
    "duration": 680,
    "start_time": "2021-07-08T11:16:25.793Z"
   },
   {
    "duration": 451,
    "start_time": "2021-07-08T11:16:40.313Z"
   },
   {
    "duration": 469,
    "start_time": "2021-07-08T11:17:21.286Z"
   },
   {
    "duration": 20,
    "start_time": "2021-07-08T11:19:12.554Z"
   },
   {
    "duration": 35,
    "start_time": "2021-07-08T11:20:05.484Z"
   },
   {
    "duration": 53,
    "start_time": "2021-07-08T11:21:40.050Z"
   },
   {
    "duration": 13,
    "start_time": "2021-07-08T11:22:26.059Z"
   },
   {
    "duration": 19,
    "start_time": "2021-07-08T11:22:47.419Z"
   },
   {
    "duration": 25,
    "start_time": "2021-07-08T11:23:19.958Z"
   },
   {
    "duration": 29,
    "start_time": "2021-07-08T11:23:25.415Z"
   },
   {
    "duration": 10,
    "start_time": "2021-07-08T11:24:45.138Z"
   },
   {
    "duration": 19,
    "start_time": "2021-07-08T11:24:54.498Z"
   },
   {
    "duration": 12,
    "start_time": "2021-07-08T11:25:32.225Z"
   },
   {
    "duration": 19,
    "start_time": "2021-07-08T11:25:37.092Z"
   },
   {
    "duration": 17,
    "start_time": "2021-07-08T11:25:58.116Z"
   },
   {
    "duration": 15,
    "start_time": "2021-07-08T11:26:02.258Z"
   },
   {
    "duration": 8,
    "start_time": "2021-07-08T11:26:59.682Z"
   },
   {
    "duration": 184,
    "start_time": "2021-07-08T11:27:21.894Z"
   },
   {
    "duration": 8,
    "start_time": "2021-07-08T11:27:23.824Z"
   },
   {
    "duration": 202,
    "start_time": "2021-07-08T11:27:23.962Z"
   },
   {
    "duration": 360,
    "start_time": "2021-07-08T11:28:33.215Z"
   },
   {
    "duration": 231,
    "start_time": "2021-07-08T11:32:05.542Z"
   },
   {
    "duration": 607,
    "start_time": "2021-07-08T11:36:27.854Z"
   },
   {
    "duration": 241,
    "start_time": "2021-07-08T11:36:28.463Z"
   },
   {
    "duration": 67,
    "start_time": "2021-07-08T11:36:28.709Z"
   },
   {
    "duration": 5,
    "start_time": "2021-07-08T11:36:28.778Z"
   },
   {
    "duration": 32,
    "start_time": "2021-07-08T11:36:28.784Z"
   },
   {
    "duration": 11,
    "start_time": "2021-07-08T11:36:28.819Z"
   },
   {
    "duration": 20,
    "start_time": "2021-07-08T11:36:28.834Z"
   },
   {
    "duration": 36,
    "start_time": "2021-07-08T11:36:28.857Z"
   },
   {
    "duration": 16,
    "start_time": "2021-07-08T11:36:28.895Z"
   },
   {
    "duration": 14,
    "start_time": "2021-07-08T11:36:28.913Z"
   },
   {
    "duration": 9,
    "start_time": "2021-07-08T11:36:28.930Z"
   },
   {
    "duration": 55,
    "start_time": "2021-07-08T11:36:28.941Z"
   },
   {
    "duration": 27,
    "start_time": "2021-07-08T11:36:28.999Z"
   },
   {
    "duration": 30,
    "start_time": "2021-07-08T11:36:29.028Z"
   },
   {
    "duration": 31,
    "start_time": "2021-07-08T11:36:29.060Z"
   },
   {
    "duration": 3,
    "start_time": "2021-07-08T11:36:29.093Z"
   },
   {
    "duration": 12,
    "start_time": "2021-07-08T11:36:29.099Z"
   },
   {
    "duration": 11,
    "start_time": "2021-07-08T11:36:29.112Z"
   },
   {
    "duration": 12,
    "start_time": "2021-07-08T11:36:29.125Z"
   },
   {
    "duration": 9,
    "start_time": "2021-07-08T11:36:29.139Z"
   },
   {
    "duration": 31,
    "start_time": "2021-07-08T11:36:29.191Z"
   },
   {
    "duration": 17,
    "start_time": "2021-07-08T11:36:29.226Z"
   },
   {
    "duration": 7,
    "start_time": "2021-07-08T11:36:29.245Z"
   },
   {
    "duration": 10,
    "start_time": "2021-07-08T11:36:29.254Z"
   },
   {
    "duration": 30,
    "start_time": "2021-07-08T11:36:29.292Z"
   },
   {
    "duration": 11,
    "start_time": "2021-07-08T11:36:29.324Z"
   },
   {
    "duration": 11,
    "start_time": "2021-07-08T11:36:29.337Z"
   },
   {
    "duration": 230,
    "start_time": "2021-07-08T11:36:29.349Z"
   },
   {
    "duration": 13,
    "start_time": "2021-07-08T11:36:29.588Z"
   },
   {
    "duration": 205,
    "start_time": "2021-07-08T11:36:29.603Z"
   },
   {
    "duration": 20,
    "start_time": "2021-07-08T11:36:29.810Z"
   },
   {
    "duration": 9,
    "start_time": "2021-07-08T11:36:29.832Z"
   },
   {
    "duration": 16,
    "start_time": "2021-07-08T11:36:29.843Z"
   },
   {
    "duration": 283,
    "start_time": "2021-07-08T11:36:29.861Z"
   },
   {
    "duration": 50,
    "start_time": "2021-07-08T11:36:30.146Z"
   },
   {
    "duration": 14,
    "start_time": "2021-07-08T11:36:30.198Z"
   },
   {
    "duration": 11,
    "start_time": "2021-07-08T11:36:30.214Z"
   },
   {
    "duration": 245,
    "start_time": "2021-07-08T11:36:30.227Z"
   },
   {
    "duration": 439,
    "start_time": "2021-07-08T11:36:30.474Z"
   },
   {
    "duration": 210,
    "start_time": "2021-07-08T11:36:30.915Z"
   },
   {
    "duration": 15,
    "start_time": "2021-07-08T11:36:31.127Z"
   },
   {
    "duration": 17,
    "start_time": "2021-07-08T11:38:20.451Z"
   },
   {
    "duration": 642,
    "start_time": "2021-07-08T11:46:17.881Z"
   },
   {
    "duration": 210,
    "start_time": "2021-07-08T11:46:18.525Z"
   },
   {
    "duration": 104,
    "start_time": "2021-07-08T11:46:18.741Z"
   },
   {
    "duration": 8,
    "start_time": "2021-07-08T11:46:18.847Z"
   },
   {
    "duration": 25,
    "start_time": "2021-07-08T11:46:18.857Z"
   },
   {
    "duration": 14,
    "start_time": "2021-07-08T11:46:18.884Z"
   },
   {
    "duration": 22,
    "start_time": "2021-07-08T11:46:18.900Z"
   },
   {
    "duration": 5,
    "start_time": "2021-07-08T11:46:18.924Z"
   },
   {
    "duration": 13,
    "start_time": "2021-07-08T11:46:18.931Z"
   },
   {
    "duration": 45,
    "start_time": "2021-07-08T11:46:18.946Z"
   },
   {
    "duration": 12,
    "start_time": "2021-07-08T11:46:18.993Z"
   },
   {
    "duration": 38,
    "start_time": "2021-07-08T11:46:19.006Z"
   },
   {
    "duration": 50,
    "start_time": "2021-07-08T11:46:19.046Z"
   },
   {
    "duration": 29,
    "start_time": "2021-07-08T11:46:19.099Z"
   },
   {
    "duration": 7,
    "start_time": "2021-07-08T11:46:19.130Z"
   },
   {
    "duration": 3,
    "start_time": "2021-07-08T11:46:19.139Z"
   },
   {
    "duration": 11,
    "start_time": "2021-07-08T11:46:19.144Z"
   },
   {
    "duration": 40,
    "start_time": "2021-07-08T11:46:19.157Z"
   },
   {
    "duration": 15,
    "start_time": "2021-07-08T11:46:19.199Z"
   },
   {
    "duration": 10,
    "start_time": "2021-07-08T11:46:19.217Z"
   },
   {
    "duration": 68,
    "start_time": "2021-07-08T11:46:19.230Z"
   },
   {
    "duration": 17,
    "start_time": "2021-07-08T11:46:19.301Z"
   },
   {
    "duration": 7,
    "start_time": "2021-07-08T11:46:19.321Z"
   },
   {
    "duration": 11,
    "start_time": "2021-07-08T11:46:19.330Z"
   },
   {
    "duration": 59,
    "start_time": "2021-07-08T11:46:19.343Z"
   },
   {
    "duration": 17,
    "start_time": "2021-07-08T11:46:19.405Z"
   },
   {
    "duration": 16,
    "start_time": "2021-07-08T11:46:19.424Z"
   },
   {
    "duration": 252,
    "start_time": "2021-07-08T11:46:19.443Z"
   },
   {
    "duration": 9,
    "start_time": "2021-07-08T11:46:19.697Z"
   },
   {
    "duration": 224,
    "start_time": "2021-07-08T11:46:19.708Z"
   },
   {
    "duration": 21,
    "start_time": "2021-07-08T11:46:19.934Z"
   },
   {
    "duration": 9,
    "start_time": "2021-07-08T11:46:19.956Z"
   },
   {
    "duration": 32,
    "start_time": "2021-07-08T11:46:19.967Z"
   },
   {
    "duration": 288,
    "start_time": "2021-07-08T11:46:20.004Z"
   },
   {
    "duration": 23,
    "start_time": "2021-07-08T11:46:20.300Z"
   },
   {
    "duration": 11,
    "start_time": "2021-07-08T11:46:20.325Z"
   },
   {
    "duration": 11,
    "start_time": "2021-07-08T11:46:20.339Z"
   },
   {
    "duration": 259,
    "start_time": "2021-07-08T11:46:20.352Z"
   },
   {
    "duration": 438,
    "start_time": "2021-07-08T11:46:20.613Z"
   },
   {
    "duration": 207,
    "start_time": "2021-07-08T11:46:21.054Z"
   },
   {
    "duration": 27,
    "start_time": "2021-07-08T11:46:21.262Z"
   },
   {
    "duration": 19,
    "start_time": "2021-07-08T11:46:21.291Z"
   },
   {
    "duration": 820,
    "start_time": "2021-07-08T11:49:01.655Z"
   },
   {
    "duration": 372,
    "start_time": "2021-07-08T11:49:02.478Z"
   },
   {
    "duration": 98,
    "start_time": "2021-07-08T11:49:02.853Z"
   },
   {
    "duration": 6,
    "start_time": "2021-07-08T11:49:02.953Z"
   },
   {
    "duration": 39,
    "start_time": "2021-07-08T11:49:02.960Z"
   },
   {
    "duration": 9,
    "start_time": "2021-07-08T11:49:03.003Z"
   },
   {
    "duration": 23,
    "start_time": "2021-07-08T11:49:03.014Z"
   },
   {
    "duration": 6,
    "start_time": "2021-07-08T11:49:03.041Z"
   },
   {
    "duration": 20,
    "start_time": "2021-07-08T11:49:03.049Z"
   },
   {
    "duration": 18,
    "start_time": "2021-07-08T11:49:03.084Z"
   },
   {
    "duration": 14,
    "start_time": "2021-07-08T11:49:03.104Z"
   },
   {
    "duration": 39,
    "start_time": "2021-07-08T11:49:03.119Z"
   },
   {
    "duration": 38,
    "start_time": "2021-07-08T11:49:03.160Z"
   },
   {
    "duration": 26,
    "start_time": "2021-07-08T11:49:03.200Z"
   },
   {
    "duration": 7,
    "start_time": "2021-07-08T11:49:03.227Z"
   },
   {
    "duration": 4,
    "start_time": "2021-07-08T11:49:03.236Z"
   },
   {
    "duration": 15,
    "start_time": "2021-07-08T11:49:03.243Z"
   },
   {
    "duration": 21,
    "start_time": "2021-07-08T11:49:03.285Z"
   },
   {
    "duration": 17,
    "start_time": "2021-07-08T11:49:03.309Z"
   },
   {
    "duration": 10,
    "start_time": "2021-07-08T11:49:03.328Z"
   },
   {
    "duration": 65,
    "start_time": "2021-07-08T11:49:03.340Z"
   },
   {
    "duration": 18,
    "start_time": "2021-07-08T11:49:03.407Z"
   },
   {
    "duration": 8,
    "start_time": "2021-07-08T11:49:03.428Z"
   },
   {
    "duration": 15,
    "start_time": "2021-07-08T11:49:03.438Z"
   },
   {
    "duration": 40,
    "start_time": "2021-07-08T11:49:03.455Z"
   },
   {
    "duration": 12,
    "start_time": "2021-07-08T11:49:03.497Z"
   },
   {
    "duration": 29,
    "start_time": "2021-07-08T11:49:03.511Z"
   },
   {
    "duration": 285,
    "start_time": "2021-07-08T11:49:03.542Z"
   },
   {
    "duration": 8,
    "start_time": "2021-07-08T11:49:03.829Z"
   },
   {
    "duration": 227,
    "start_time": "2021-07-08T11:49:03.838Z"
   },
   {
    "duration": 40,
    "start_time": "2021-07-08T11:49:04.066Z"
   },
   {
    "duration": 10,
    "start_time": "2021-07-08T11:49:04.108Z"
   },
   {
    "duration": 26,
    "start_time": "2021-07-08T11:49:04.121Z"
   },
   {
    "duration": 290,
    "start_time": "2021-07-08T11:49:04.149Z"
   },
   {
    "duration": 26,
    "start_time": "2021-07-08T11:49:04.441Z"
   },
   {
    "duration": 31,
    "start_time": "2021-07-08T11:49:04.470Z"
   },
   {
    "duration": 14,
    "start_time": "2021-07-08T11:49:04.503Z"
   },
   {
    "duration": 259,
    "start_time": "2021-07-08T11:49:04.521Z"
   },
   {
    "duration": 480,
    "start_time": "2021-07-08T11:49:04.782Z"
   },
   {
    "duration": 225,
    "start_time": "2021-07-08T11:49:05.264Z"
   },
   {
    "duration": 22,
    "start_time": "2021-07-08T11:49:05.491Z"
   },
   {
    "duration": 24,
    "start_time": "2021-07-08T11:49:05.515Z"
   },
   {
    "duration": 634,
    "start_time": "2021-07-08T11:52:24.960Z"
   },
   {
    "duration": 199,
    "start_time": "2021-07-08T11:52:25.599Z"
   },
   {
    "duration": 106,
    "start_time": "2021-07-08T11:52:25.803Z"
   },
   {
    "duration": 7,
    "start_time": "2021-07-08T11:52:25.911Z"
   },
   {
    "duration": 29,
    "start_time": "2021-07-08T11:52:25.920Z"
   },
   {
    "duration": 7,
    "start_time": "2021-07-08T11:52:25.951Z"
   },
   {
    "duration": 26,
    "start_time": "2021-07-08T11:52:25.961Z"
   },
   {
    "duration": 11,
    "start_time": "2021-07-08T11:52:25.990Z"
   },
   {
    "duration": 29,
    "start_time": "2021-07-08T11:52:26.005Z"
   },
   {
    "duration": 9,
    "start_time": "2021-07-08T11:52:26.036Z"
   },
   {
    "duration": 8,
    "start_time": "2021-07-08T11:52:26.047Z"
   },
   {
    "duration": 63,
    "start_time": "2021-07-08T11:52:26.057Z"
   },
   {
    "duration": 17,
    "start_time": "2021-07-08T11:52:26.122Z"
   },
   {
    "duration": 43,
    "start_time": "2021-07-08T11:52:26.142Z"
   },
   {
    "duration": 17,
    "start_time": "2021-07-08T11:52:26.187Z"
   },
   {
    "duration": 5,
    "start_time": "2021-07-08T11:52:26.206Z"
   },
   {
    "duration": 12,
    "start_time": "2021-07-08T11:52:26.212Z"
   },
   {
    "duration": 11,
    "start_time": "2021-07-08T11:52:26.226Z"
   },
   {
    "duration": 12,
    "start_time": "2021-07-08T11:52:26.238Z"
   },
   {
    "duration": 38,
    "start_time": "2021-07-08T11:52:26.252Z"
   },
   {
    "duration": 40,
    "start_time": "2021-07-08T11:52:26.292Z"
   },
   {
    "duration": 17,
    "start_time": "2021-07-08T11:52:26.336Z"
   },
   {
    "duration": 39,
    "start_time": "2021-07-08T11:52:26.355Z"
   },
   {
    "duration": 11,
    "start_time": "2021-07-08T11:52:26.395Z"
   },
   {
    "duration": 23,
    "start_time": "2021-07-08T11:52:26.408Z"
   },
   {
    "duration": 12,
    "start_time": "2021-07-08T11:52:26.432Z"
   },
   {
    "duration": 41,
    "start_time": "2021-07-08T11:52:26.446Z"
   },
   {
    "duration": 215,
    "start_time": "2021-07-08T11:52:26.493Z"
   },
   {
    "duration": 8,
    "start_time": "2021-07-08T11:52:26.710Z"
   },
   {
    "duration": 228,
    "start_time": "2021-07-08T11:52:26.720Z"
   },
   {
    "duration": 18,
    "start_time": "2021-07-08T11:52:26.950Z"
   },
   {
    "duration": 35,
    "start_time": "2021-07-08T11:52:26.969Z"
   },
   {
    "duration": 23,
    "start_time": "2021-07-08T11:52:27.006Z"
   },
   {
    "duration": 258,
    "start_time": "2021-07-08T11:52:27.030Z"
   },
   {
    "duration": 24,
    "start_time": "2021-07-08T11:52:27.290Z"
   },
   {
    "duration": 12,
    "start_time": "2021-07-08T11:52:27.316Z"
   },
   {
    "duration": 10,
    "start_time": "2021-07-08T11:52:27.329Z"
   },
   {
    "duration": 298,
    "start_time": "2021-07-08T11:52:27.341Z"
   },
   {
    "duration": 436,
    "start_time": "2021-07-08T11:52:27.641Z"
   },
   {
    "duration": 216,
    "start_time": "2021-07-08T11:52:28.079Z"
   },
   {
    "duration": 20,
    "start_time": "2021-07-08T11:52:28.297Z"
   },
   {
    "duration": 17,
    "start_time": "2021-07-08T11:52:28.319Z"
   },
   {
    "duration": 450,
    "start_time": "2024-04-29T06:33:33.151Z"
   },
   {
    "duration": 4519,
    "start_time": "2024-04-29T06:40:42.386Z"
   },
   {
    "duration": 1860,
    "start_time": "2024-04-29T06:41:59.340Z"
   },
   {
    "duration": 2730,
    "start_time": "2024-04-29T06:42:45.646Z"
   },
   {
    "duration": 439,
    "start_time": "2024-04-29T06:43:01.789Z"
   },
   {
    "duration": 162,
    "start_time": "2024-04-29T06:43:02.230Z"
   },
   {
    "duration": 2710,
    "start_time": "2024-04-29T06:43:02.394Z"
   },
   {
    "duration": 1859,
    "start_time": "2024-04-29T06:43:05.107Z"
   },
   {
    "duration": 22,
    "start_time": "2024-04-29T06:46:10.106Z"
   },
   {
    "duration": 71,
    "start_time": "2024-04-29T06:46:21.474Z"
   },
   {
    "duration": 188,
    "start_time": "2024-04-29T06:46:26.355Z"
   },
   {
    "duration": 16,
    "start_time": "2024-04-29T06:46:27.091Z"
   },
   {
    "duration": 10,
    "start_time": "2024-04-29T06:46:27.676Z"
   },
   {
    "duration": 23,
    "start_time": "2024-04-29T06:46:59.795Z"
   },
   {
    "duration": 260,
    "start_time": "2024-04-29T06:48:05.714Z"
   },
   {
    "duration": 434,
    "start_time": "2024-04-29T06:49:47.624Z"
   },
   {
    "duration": 129,
    "start_time": "2024-04-29T06:49:48.060Z"
   },
   {
    "duration": 65,
    "start_time": "2024-04-29T06:49:48.191Z"
   },
   {
    "duration": 0,
    "start_time": "2024-04-29T06:49:48.258Z"
   },
   {
    "duration": 0,
    "start_time": "2024-04-29T06:49:48.259Z"
   },
   {
    "duration": 0,
    "start_time": "2024-04-29T06:49:48.261Z"
   },
   {
    "duration": 461,
    "start_time": "2024-04-29T06:50:13.604Z"
   },
   {
    "duration": 135,
    "start_time": "2024-04-29T06:50:14.068Z"
   },
   {
    "duration": 16,
    "start_time": "2024-04-29T06:50:14.205Z"
   },
   {
    "duration": 30,
    "start_time": "2024-04-29T06:50:14.222Z"
   },
   {
    "duration": 10,
    "start_time": "2024-04-29T06:50:14.254Z"
   },
   {
    "duration": 7,
    "start_time": "2024-04-29T06:50:48.730Z"
   },
   {
    "duration": 50,
    "start_time": "2024-04-29T07:18:16.160Z"
   },
   {
    "duration": 78,
    "start_time": "2024-04-29T07:18:20.563Z"
   },
   {
    "duration": 7,
    "start_time": "2024-04-29T07:19:23.474Z"
   },
   {
    "duration": 9,
    "start_time": "2024-04-29T07:21:32.818Z"
   },
   {
    "duration": 9,
    "start_time": "2024-04-29T07:21:49.785Z"
   },
   {
    "duration": 12,
    "start_time": "2024-04-29T07:22:08.438Z"
   },
   {
    "duration": 11,
    "start_time": "2024-04-29T07:22:25.598Z"
   },
   {
    "duration": 11,
    "start_time": "2024-04-29T07:22:31.237Z"
   },
   {
    "duration": 12,
    "start_time": "2024-04-29T07:22:48.414Z"
   },
   {
    "duration": 12,
    "start_time": "2024-04-29T07:24:10.014Z"
   },
   {
    "duration": 12,
    "start_time": "2024-04-29T07:24:14.816Z"
   },
   {
    "duration": 237,
    "start_time": "2024-04-29T07:24:39.486Z"
   },
   {
    "duration": 196,
    "start_time": "2024-04-29T07:25:35.705Z"
   },
   {
    "duration": 11,
    "start_time": "2024-04-29T07:26:01.197Z"
   },
   {
    "duration": 13,
    "start_time": "2024-04-29T07:26:26.399Z"
   },
   {
    "duration": 18,
    "start_time": "2024-04-29T07:30:49.300Z"
   },
   {
    "duration": 22,
    "start_time": "2024-04-29T07:38:58.496Z"
   },
   {
    "duration": 20,
    "start_time": "2024-04-29T07:42:13.487Z"
   },
   {
    "duration": 7,
    "start_time": "2024-04-29T07:43:09.898Z"
   },
   {
    "duration": 16,
    "start_time": "2024-04-29T07:43:24.167Z"
   },
   {
    "duration": 32,
    "start_time": "2024-04-29T07:45:17.790Z"
   },
   {
    "duration": 13,
    "start_time": "2024-04-29T07:46:04.335Z"
   },
   {
    "duration": 22,
    "start_time": "2024-04-29T07:46:12.001Z"
   },
   {
    "duration": 451,
    "start_time": "2024-04-29T07:46:36.915Z"
   },
   {
    "duration": 132,
    "start_time": "2024-04-29T07:46:37.368Z"
   },
   {
    "duration": 23,
    "start_time": "2024-04-29T07:46:37.502Z"
   },
   {
    "duration": 23,
    "start_time": "2024-04-29T07:46:37.527Z"
   },
   {
    "duration": 10,
    "start_time": "2024-04-29T07:46:37.552Z"
   },
   {
    "duration": 14,
    "start_time": "2024-04-29T07:46:37.564Z"
   },
   {
    "duration": 20,
    "start_time": "2024-04-29T07:46:37.580Z"
   },
   {
    "duration": 43,
    "start_time": "2024-04-29T07:46:37.602Z"
   },
   {
    "duration": 10,
    "start_time": "2024-04-29T07:46:37.646Z"
   },
   {
    "duration": 19,
    "start_time": "2024-04-29T07:46:37.658Z"
   },
   {
    "duration": 40,
    "start_time": "2024-04-29T07:46:37.678Z"
   },
   {
    "duration": 79,
    "start_time": "2024-04-29T07:46:37.729Z"
   },
   {
    "duration": 23,
    "start_time": "2024-04-29T07:46:50.150Z"
   },
   {
    "duration": 5,
    "start_time": "2024-04-29T07:47:37.974Z"
   },
   {
    "duration": 8,
    "start_time": "2024-04-29T07:48:02.966Z"
   },
   {
    "duration": 6,
    "start_time": "2024-04-29T07:48:35.301Z"
   },
   {
    "duration": 433,
    "start_time": "2024-04-29T07:51:53.625Z"
   },
   {
    "duration": 140,
    "start_time": "2024-04-29T07:51:54.060Z"
   },
   {
    "duration": 16,
    "start_time": "2024-04-29T07:51:54.202Z"
   },
   {
    "duration": 33,
    "start_time": "2024-04-29T07:51:54.220Z"
   },
   {
    "duration": 13,
    "start_time": "2024-04-29T07:51:54.255Z"
   },
   {
    "duration": 11,
    "start_time": "2024-04-29T07:51:54.270Z"
   },
   {
    "duration": 19,
    "start_time": "2024-04-29T07:51:54.282Z"
   },
   {
    "duration": 45,
    "start_time": "2024-04-29T07:51:54.303Z"
   },
   {
    "duration": 5,
    "start_time": "2024-04-29T07:51:54.350Z"
   },
   {
    "duration": 20,
    "start_time": "2024-04-29T07:51:54.357Z"
   },
   {
    "duration": 98,
    "start_time": "2024-04-29T07:51:54.378Z"
   },
   {
    "duration": 0,
    "start_time": "2024-04-29T07:51:54.478Z"
   },
   {
    "duration": 22,
    "start_time": "2024-04-29T07:53:30.621Z"
   },
   {
    "duration": 24,
    "start_time": "2024-04-29T07:53:35.964Z"
   },
   {
    "duration": 893,
    "start_time": "2024-04-29T07:53:36.862Z"
   },
   {
    "duration": 24,
    "start_time": "2024-04-29T07:53:40.251Z"
   },
   {
    "duration": 419,
    "start_time": "2024-04-29T07:53:45.960Z"
   },
   {
    "duration": 129,
    "start_time": "2024-04-29T07:53:46.381Z"
   },
   {
    "duration": 15,
    "start_time": "2024-04-29T07:53:46.512Z"
   },
   {
    "duration": 21,
    "start_time": "2024-04-29T07:53:46.529Z"
   },
   {
    "duration": 10,
    "start_time": "2024-04-29T07:53:46.551Z"
   },
   {
    "duration": 18,
    "start_time": "2024-04-29T07:53:46.563Z"
   },
   {
    "duration": 21,
    "start_time": "2024-04-29T07:53:46.583Z"
   },
   {
    "duration": 33,
    "start_time": "2024-04-29T07:53:46.606Z"
   },
   {
    "duration": 5,
    "start_time": "2024-04-29T07:53:46.641Z"
   },
   {
    "duration": 20,
    "start_time": "2024-04-29T07:53:46.648Z"
   },
   {
    "duration": 27,
    "start_time": "2024-04-29T07:53:46.670Z"
   },
   {
    "duration": 4,
    "start_time": "2024-04-29T07:53:46.699Z"
   },
   {
    "duration": 21,
    "start_time": "2024-04-29T08:02:26.962Z"
   },
   {
    "duration": 441,
    "start_time": "2024-04-29T08:02:37.599Z"
   },
   {
    "duration": 127,
    "start_time": "2024-04-29T08:02:38.043Z"
   },
   {
    "duration": 20,
    "start_time": "2024-04-29T08:02:38.172Z"
   },
   {
    "duration": 32,
    "start_time": "2024-04-29T08:02:38.194Z"
   },
   {
    "duration": 15,
    "start_time": "2024-04-29T08:02:38.227Z"
   },
   {
    "duration": 16,
    "start_time": "2024-04-29T08:02:38.244Z"
   },
   {
    "duration": 22,
    "start_time": "2024-04-29T08:02:38.262Z"
   },
   {
    "duration": 34,
    "start_time": "2024-04-29T08:02:38.286Z"
   },
   {
    "duration": 8,
    "start_time": "2024-04-29T08:02:38.322Z"
   },
   {
    "duration": 30,
    "start_time": "2024-04-29T08:02:38.333Z"
   },
   {
    "duration": 37,
    "start_time": "2024-04-29T08:02:38.365Z"
   },
   {
    "duration": 4,
    "start_time": "2024-04-29T08:02:38.404Z"
   },
   {
    "duration": 5,
    "start_time": "2024-04-29T08:03:14.662Z"
   },
   {
    "duration": 5,
    "start_time": "2024-04-29T08:03:34.295Z"
   },
   {
    "duration": 7,
    "start_time": "2024-04-29T08:03:39.679Z"
   },
   {
    "duration": 415,
    "start_time": "2024-04-29T08:16:22.445Z"
   },
   {
    "duration": 129,
    "start_time": "2024-04-29T08:16:22.861Z"
   },
   {
    "duration": 18,
    "start_time": "2024-04-29T08:16:22.992Z"
   },
   {
    "duration": 36,
    "start_time": "2024-04-29T08:16:23.013Z"
   },
   {
    "duration": 12,
    "start_time": "2024-04-29T08:16:23.052Z"
   },
   {
    "duration": 13,
    "start_time": "2024-04-29T08:16:23.066Z"
   },
   {
    "duration": 33,
    "start_time": "2024-04-29T08:16:23.081Z"
   },
   {
    "duration": 28,
    "start_time": "2024-04-29T08:16:23.117Z"
   },
   {
    "duration": 6,
    "start_time": "2024-04-29T08:16:23.147Z"
   },
   {
    "duration": 18,
    "start_time": "2024-04-29T08:16:23.156Z"
   },
   {
    "duration": 22,
    "start_time": "2024-04-29T08:16:23.176Z"
   },
   {
    "duration": 34,
    "start_time": "2024-04-29T08:16:23.200Z"
   },
   {
    "duration": 418,
    "start_time": "2024-04-29T08:16:46.452Z"
   },
   {
    "duration": 138,
    "start_time": "2024-04-29T08:16:46.872Z"
   },
   {
    "duration": 24,
    "start_time": "2024-04-29T08:16:47.013Z"
   },
   {
    "duration": 37,
    "start_time": "2024-04-29T08:16:47.040Z"
   },
   {
    "duration": 10,
    "start_time": "2024-04-29T08:16:47.079Z"
   },
   {
    "duration": 10,
    "start_time": "2024-04-29T08:16:47.091Z"
   },
   {
    "duration": 34,
    "start_time": "2024-04-29T08:16:47.102Z"
   },
   {
    "duration": 22,
    "start_time": "2024-04-29T08:16:47.138Z"
   },
   {
    "duration": 5,
    "start_time": "2024-04-29T08:16:47.161Z"
   },
   {
    "duration": 17,
    "start_time": "2024-04-29T08:16:47.168Z"
   },
   {
    "duration": 29,
    "start_time": "2024-04-29T08:16:47.186Z"
   },
   {
    "duration": 15,
    "start_time": "2024-04-29T08:16:47.217Z"
   },
   {
    "duration": 26,
    "start_time": "2024-04-29T08:17:55.227Z"
   },
   {
    "duration": 21,
    "start_time": "2024-04-29T08:22:12.867Z"
   },
   {
    "duration": 118,
    "start_time": "2024-04-29T08:22:37.450Z"
   },
   {
    "duration": 17,
    "start_time": "2024-04-29T08:23:54.467Z"
   },
   {
    "duration": 26,
    "start_time": "2024-04-29T08:35:17.894Z"
   },
   {
    "duration": 5,
    "start_time": "2024-04-29T08:35:24.446Z"
   },
   {
    "duration": 16,
    "start_time": "2024-04-29T08:37:44.527Z"
   },
   {
    "duration": 540,
    "start_time": "2024-04-29T08:41:19.902Z"
   },
   {
    "duration": 408,
    "start_time": "2024-04-29T08:44:20.380Z"
   },
   {
    "duration": 367,
    "start_time": "2024-04-29T08:44:31.811Z"
   },
   {
    "duration": 942,
    "start_time": "2024-04-29T08:44:41.716Z"
   },
   {
    "duration": 711,
    "start_time": "2024-04-29T08:45:20.482Z"
   },
   {
    "duration": 72,
    "start_time": "2024-04-29T08:47:42.019Z"
   },
   {
    "duration": 597,
    "start_time": "2024-04-29T08:47:49.740Z"
   },
   {
    "duration": 604,
    "start_time": "2024-04-29T08:48:01.586Z"
   },
   {
    "duration": 641,
    "start_time": "2024-04-29T08:48:26.634Z"
   },
   {
    "duration": 404,
    "start_time": "2024-04-29T08:48:37.914Z"
   },
   {
    "duration": 720,
    "start_time": "2024-04-29T08:49:20.941Z"
   },
   {
    "duration": 433,
    "start_time": "2024-04-29T08:50:10.673Z"
   },
   {
    "duration": 460,
    "start_time": "2024-04-29T08:53:31.601Z"
   },
   {
    "duration": 389,
    "start_time": "2024-04-29T08:56:26.439Z"
   },
   {
    "duration": 12,
    "start_time": "2024-04-29T09:01:40.444Z"
   },
   {
    "duration": 59,
    "start_time": "2024-04-29T09:01:49.276Z"
   },
   {
    "duration": 18,
    "start_time": "2024-04-29T10:53:25.006Z"
   },
   {
    "duration": 5,
    "start_time": "2024-04-29T10:55:22.812Z"
   },
   {
    "duration": 6,
    "start_time": "2024-04-29T10:59:18.812Z"
   },
   {
    "duration": 17,
    "start_time": "2024-04-29T10:59:36.005Z"
   },
   {
    "duration": 9,
    "start_time": "2024-04-29T11:02:23.044Z"
   },
   {
    "duration": 14,
    "start_time": "2024-04-29T11:02:32.364Z"
   },
   {
    "duration": 13,
    "start_time": "2024-04-29T11:03:52.773Z"
   },
   {
    "duration": 16,
    "start_time": "2024-04-29T11:03:57.323Z"
   },
   {
    "duration": 14,
    "start_time": "2024-04-29T11:05:10.123Z"
   },
   {
    "duration": 12,
    "start_time": "2024-04-29T11:05:28.368Z"
   },
   {
    "duration": 30,
    "start_time": "2024-04-29T11:06:02.234Z"
   },
   {
    "duration": 32,
    "start_time": "2024-04-29T11:06:32.715Z"
   },
   {
    "duration": 391,
    "start_time": "2024-04-29T11:13:17.265Z"
   },
   {
    "duration": 9,
    "start_time": "2024-04-29T11:13:44.120Z"
   },
   {
    "duration": 44,
    "start_time": "2024-04-29T11:15:41.744Z"
   },
   {
    "duration": 24,
    "start_time": "2024-04-29T11:15:53.018Z"
   },
   {
    "duration": 12,
    "start_time": "2024-04-29T11:16:32.464Z"
   },
   {
    "duration": 5,
    "start_time": "2024-04-29T11:16:35.106Z"
   },
   {
    "duration": 14,
    "start_time": "2024-04-29T11:16:46.144Z"
   },
   {
    "duration": 8,
    "start_time": "2024-04-29T11:36:17.137Z"
   },
   {
    "duration": 25,
    "start_time": "2024-04-29T11:36:27.193Z"
   },
   {
    "duration": 5,
    "start_time": "2024-04-29T11:36:46.209Z"
   },
   {
    "duration": 20,
    "start_time": "2024-04-29T11:40:31.071Z"
   },
   {
    "duration": 5,
    "start_time": "2024-04-29T11:41:41.016Z"
   },
   {
    "duration": 5,
    "start_time": "2024-04-29T11:42:20.608Z"
   },
   {
    "duration": 25,
    "start_time": "2024-04-29T11:42:41.959Z"
   },
   {
    "duration": 421,
    "start_time": "2024-04-29T11:53:07.334Z"
   },
   {
    "duration": 129,
    "start_time": "2024-04-29T11:53:07.757Z"
   },
   {
    "duration": 17,
    "start_time": "2024-04-29T11:53:07.888Z"
   },
   {
    "duration": 22,
    "start_time": "2024-04-29T11:53:07.907Z"
   },
   {
    "duration": 10,
    "start_time": "2024-04-29T11:53:07.930Z"
   },
   {
    "duration": 8,
    "start_time": "2024-04-29T11:53:07.942Z"
   },
   {
    "duration": 29,
    "start_time": "2024-04-29T11:53:07.952Z"
   },
   {
    "duration": 39,
    "start_time": "2024-04-29T11:53:07.982Z"
   },
   {
    "duration": 6,
    "start_time": "2024-04-29T11:53:08.023Z"
   },
   {
    "duration": 29,
    "start_time": "2024-04-29T11:53:08.032Z"
   },
   {
    "duration": 43,
    "start_time": "2024-04-29T11:53:08.063Z"
   },
   {
    "duration": 5,
    "start_time": "2024-04-29T11:53:08.108Z"
   },
   {
    "duration": 18,
    "start_time": "2024-04-29T11:53:08.114Z"
   },
   {
    "duration": 25,
    "start_time": "2024-04-29T11:53:08.133Z"
   },
   {
    "duration": 34,
    "start_time": "2024-04-29T11:53:08.160Z"
   },
   {
    "duration": 34,
    "start_time": "2024-04-29T11:53:08.196Z"
   },
   {
    "duration": 5,
    "start_time": "2024-04-29T11:53:08.232Z"
   },
   {
    "duration": 25,
    "start_time": "2024-04-29T11:53:08.238Z"
   },
   {
    "duration": 5,
    "start_time": "2024-04-29T11:53:08.265Z"
   },
   {
    "duration": 17,
    "start_time": "2024-04-29T11:53:08.272Z"
   },
   {
    "duration": 13,
    "start_time": "2024-04-29T11:53:08.291Z"
   },
   {
    "duration": 30,
    "start_time": "2024-04-29T11:53:08.306Z"
   },
   {
    "duration": 6,
    "start_time": "2024-04-29T13:21:36.624Z"
   },
   {
    "duration": 32,
    "start_time": "2024-04-29T13:23:49.533Z"
   },
   {
    "duration": 4,
    "start_time": "2024-04-29T13:25:53.419Z"
   },
   {
    "duration": 431,
    "start_time": "2024-04-29T13:26:10.533Z"
   },
   {
    "duration": 130,
    "start_time": "2024-04-29T13:26:10.966Z"
   },
   {
    "duration": 3,
    "start_time": "2024-04-29T13:26:11.098Z"
   },
   {
    "duration": 45,
    "start_time": "2024-04-29T13:26:11.103Z"
   },
   {
    "duration": 33,
    "start_time": "2024-04-29T13:26:11.149Z"
   },
   {
    "duration": 10,
    "start_time": "2024-04-29T13:26:11.184Z"
   },
   {
    "duration": 10,
    "start_time": "2024-04-29T13:26:11.196Z"
   },
   {
    "duration": 26,
    "start_time": "2024-04-29T13:26:11.207Z"
   },
   {
    "duration": 21,
    "start_time": "2024-04-29T13:26:11.235Z"
   },
   {
    "duration": 5,
    "start_time": "2024-04-29T13:26:11.258Z"
   },
   {
    "duration": 21,
    "start_time": "2024-04-29T13:26:11.264Z"
   },
   {
    "duration": 43,
    "start_time": "2024-04-29T13:26:11.286Z"
   },
   {
    "duration": 5,
    "start_time": "2024-04-29T13:26:11.332Z"
   },
   {
    "duration": 29,
    "start_time": "2024-04-29T13:26:11.339Z"
   },
   {
    "duration": 25,
    "start_time": "2024-04-29T13:26:11.369Z"
   },
   {
    "duration": 74,
    "start_time": "2024-04-29T13:26:11.396Z"
   },
   {
    "duration": 17,
    "start_time": "2024-04-29T13:26:11.473Z"
   },
   {
    "duration": 11,
    "start_time": "2024-04-29T13:26:11.492Z"
   },
   {
    "duration": 36,
    "start_time": "2024-04-29T13:26:11.505Z"
   },
   {
    "duration": 77,
    "start_time": "2024-04-29T13:26:11.542Z"
   },
   {
    "duration": 48,
    "start_time": "2024-04-29T13:26:11.620Z"
   },
   {
    "duration": 23,
    "start_time": "2024-04-29T13:26:11.670Z"
   },
   {
    "duration": 5,
    "start_time": "2024-04-29T13:26:11.695Z"
   },
   {
    "duration": 38,
    "start_time": "2024-04-29T13:26:11.701Z"
   },
   {
    "duration": 385,
    "start_time": "2024-04-29T13:27:33.670Z"
   },
   {
    "duration": 132,
    "start_time": "2024-04-29T13:27:34.057Z"
   },
   {
    "duration": 9,
    "start_time": "2024-04-29T13:27:34.190Z"
   },
   {
    "duration": 18,
    "start_time": "2024-04-29T13:27:34.201Z"
   },
   {
    "duration": 25,
    "start_time": "2024-04-29T13:27:34.221Z"
   },
   {
    "duration": 11,
    "start_time": "2024-04-29T13:27:34.248Z"
   },
   {
    "duration": 9,
    "start_time": "2024-04-29T13:27:34.261Z"
   },
   {
    "duration": 27,
    "start_time": "2024-04-29T13:27:34.271Z"
   },
   {
    "duration": 39,
    "start_time": "2024-04-29T13:27:34.300Z"
   },
   {
    "duration": 5,
    "start_time": "2024-04-29T13:27:34.341Z"
   },
   {
    "duration": 18,
    "start_time": "2024-04-29T13:27:34.348Z"
   },
   {
    "duration": 34,
    "start_time": "2024-04-29T13:27:34.368Z"
   },
   {
    "duration": 6,
    "start_time": "2024-04-29T13:27:34.429Z"
   },
   {
    "duration": 35,
    "start_time": "2024-04-29T13:27:34.437Z"
   },
   {
    "duration": 26,
    "start_time": "2024-04-29T13:27:34.473Z"
   },
   {
    "duration": 61,
    "start_time": "2024-04-29T13:27:34.501Z"
   },
   {
    "duration": 19,
    "start_time": "2024-04-29T13:27:34.564Z"
   },
   {
    "duration": 6,
    "start_time": "2024-04-29T13:27:34.585Z"
   },
   {
    "duration": 42,
    "start_time": "2024-04-29T13:27:34.593Z"
   },
   {
    "duration": 5,
    "start_time": "2024-04-29T13:27:34.636Z"
   },
   {
    "duration": 6,
    "start_time": "2024-04-29T13:27:34.643Z"
   },
   {
    "duration": 7,
    "start_time": "2024-04-29T13:27:34.651Z"
   },
   {
    "duration": 7,
    "start_time": "2024-04-29T13:27:34.659Z"
   },
   {
    "duration": 73,
    "start_time": "2024-04-29T13:27:34.668Z"
   },
   {
    "duration": 13,
    "start_time": "2024-04-29T14:14:46.095Z"
   },
   {
    "duration": 4,
    "start_time": "2024-04-29T14:16:59.614Z"
   },
   {
    "duration": 65,
    "start_time": "2024-04-29T14:17:16.173Z"
   },
   {
    "duration": 5,
    "start_time": "2024-04-29T14:17:39.605Z"
   },
   {
    "duration": 4,
    "start_time": "2024-04-29T14:17:57.093Z"
   },
   {
    "duration": 442,
    "start_time": "2024-04-29T14:19:49.097Z"
   },
   {
    "duration": 131,
    "start_time": "2024-04-29T14:19:49.541Z"
   },
   {
    "duration": 9,
    "start_time": "2024-04-29T14:19:49.674Z"
   },
   {
    "duration": 21,
    "start_time": "2024-04-29T14:19:49.685Z"
   },
   {
    "duration": 19,
    "start_time": "2024-04-29T14:19:49.708Z"
   },
   {
    "duration": 11,
    "start_time": "2024-04-29T14:19:49.729Z"
   },
   {
    "duration": 19,
    "start_time": "2024-04-29T14:19:49.742Z"
   },
   {
    "duration": 29,
    "start_time": "2024-04-29T14:19:49.763Z"
   },
   {
    "duration": 20,
    "start_time": "2024-04-29T14:19:49.794Z"
   },
   {
    "duration": 6,
    "start_time": "2024-04-29T14:19:49.828Z"
   },
   {
    "duration": 23,
    "start_time": "2024-04-29T14:19:49.836Z"
   },
   {
    "duration": 27,
    "start_time": "2024-04-29T14:19:49.860Z"
   },
   {
    "duration": 5,
    "start_time": "2024-04-29T14:19:49.889Z"
   },
   {
    "duration": 47,
    "start_time": "2024-04-29T14:19:49.896Z"
   },
   {
    "duration": 33,
    "start_time": "2024-04-29T14:19:49.945Z"
   },
   {
    "duration": 53,
    "start_time": "2024-04-29T14:19:49.980Z"
   },
   {
    "duration": 12,
    "start_time": "2024-04-29T14:19:50.035Z"
   },
   {
    "duration": 39,
    "start_time": "2024-04-29T14:19:50.048Z"
   },
   {
    "duration": 56,
    "start_time": "2024-04-29T14:19:50.089Z"
   },
   {
    "duration": 42,
    "start_time": "2024-04-29T14:19:50.147Z"
   },
   {
    "duration": 35,
    "start_time": "2024-04-29T14:19:50.191Z"
   },
   {
    "duration": 6,
    "start_time": "2024-04-29T14:19:50.228Z"
   },
   {
    "duration": 9,
    "start_time": "2024-04-29T14:19:50.235Z"
   },
   {
    "duration": 35,
    "start_time": "2024-04-29T14:19:50.246Z"
   },
   {
    "duration": 9,
    "start_time": "2024-04-29T14:19:50.282Z"
   },
   {
    "duration": 12,
    "start_time": "2024-04-29T14:19:50.293Z"
   },
   {
    "duration": 71,
    "start_time": "2024-04-29T14:22:44.539Z"
   },
   {
    "duration": 23,
    "start_time": "2024-04-29T14:23:21.915Z"
   },
   {
    "duration": 18,
    "start_time": "2024-04-29T14:23:45.011Z"
   },
   {
    "duration": 9,
    "start_time": "2024-04-29T14:30:07.514Z"
   },
   {
    "duration": 473,
    "start_time": "2024-04-29T14:30:19.229Z"
   },
   {
    "duration": 129,
    "start_time": "2024-04-29T14:30:19.703Z"
   },
   {
    "duration": 9,
    "start_time": "2024-04-29T14:30:19.834Z"
   },
   {
    "duration": 20,
    "start_time": "2024-04-29T14:30:19.845Z"
   },
   {
    "duration": 17,
    "start_time": "2024-04-29T14:30:19.867Z"
   },
   {
    "duration": 11,
    "start_time": "2024-04-29T14:30:19.885Z"
   },
   {
    "duration": 35,
    "start_time": "2024-04-29T14:30:19.897Z"
   },
   {
    "duration": 21,
    "start_time": "2024-04-29T14:30:19.934Z"
   },
   {
    "duration": 44,
    "start_time": "2024-04-29T14:30:19.957Z"
   },
   {
    "duration": 6,
    "start_time": "2024-04-29T14:30:20.004Z"
   },
   {
    "duration": 47,
    "start_time": "2024-04-29T14:30:20.011Z"
   },
   {
    "duration": 54,
    "start_time": "2024-04-29T14:30:20.060Z"
   },
   {
    "duration": 10,
    "start_time": "2024-04-29T14:30:20.116Z"
   },
   {
    "duration": 55,
    "start_time": "2024-04-29T14:30:20.127Z"
   },
   {
    "duration": 38,
    "start_time": "2024-04-29T14:30:20.184Z"
   },
   {
    "duration": 35,
    "start_time": "2024-04-29T14:30:20.224Z"
   },
   {
    "duration": 17,
    "start_time": "2024-04-29T14:30:20.261Z"
   },
   {
    "duration": 23,
    "start_time": "2024-04-29T14:30:20.281Z"
   },
   {
    "duration": 42,
    "start_time": "2024-04-29T14:30:20.306Z"
   },
   {
    "duration": 36,
    "start_time": "2024-04-29T14:30:20.350Z"
   },
   {
    "duration": 22,
    "start_time": "2024-04-29T14:30:20.388Z"
   },
   {
    "duration": 35,
    "start_time": "2024-04-29T14:30:20.412Z"
   },
   {
    "duration": 29,
    "start_time": "2024-04-29T14:30:20.449Z"
   },
   {
    "duration": 62,
    "start_time": "2024-04-29T14:30:20.480Z"
   },
   {
    "duration": 11,
    "start_time": "2024-04-29T14:30:20.544Z"
   },
   {
    "duration": 9,
    "start_time": "2024-04-29T14:30:20.557Z"
   },
   {
    "duration": 43,
    "start_time": "2024-04-29T14:30:20.567Z"
   },
   {
    "duration": 374,
    "start_time": "2024-04-30T07:26:26.772Z"
   },
   {
    "duration": 275,
    "start_time": "2024-04-30T07:26:27.148Z"
   },
   {
    "duration": 7,
    "start_time": "2024-04-30T07:26:27.425Z"
   },
   {
    "duration": 23,
    "start_time": "2024-04-30T07:26:27.435Z"
   },
   {
    "duration": 20,
    "start_time": "2024-04-30T07:26:27.459Z"
   },
   {
    "duration": 11,
    "start_time": "2024-04-30T07:26:27.481Z"
   },
   {
    "duration": 12,
    "start_time": "2024-04-30T07:26:27.494Z"
   },
   {
    "duration": 43,
    "start_time": "2024-04-30T07:26:27.508Z"
   },
   {
    "duration": 18,
    "start_time": "2024-04-30T07:26:27.553Z"
   },
   {
    "duration": 5,
    "start_time": "2024-04-30T07:26:27.573Z"
   },
   {
    "duration": 15,
    "start_time": "2024-04-30T07:26:27.579Z"
   },
   {
    "duration": 51,
    "start_time": "2024-04-30T07:26:27.595Z"
   },
   {
    "duration": 4,
    "start_time": "2024-04-30T07:26:27.648Z"
   },
   {
    "duration": 21,
    "start_time": "2024-04-30T07:26:27.654Z"
   },
   {
    "duration": 23,
    "start_time": "2024-04-30T07:26:27.677Z"
   },
   {
    "duration": 50,
    "start_time": "2024-04-30T07:26:27.701Z"
   },
   {
    "duration": 57,
    "start_time": "2024-04-30T07:26:27.753Z"
   },
   {
    "duration": 0,
    "start_time": "2024-04-30T07:26:27.811Z"
   },
   {
    "duration": 0,
    "start_time": "2024-04-30T07:26:27.812Z"
   },
   {
    "duration": 1,
    "start_time": "2024-04-30T07:26:27.813Z"
   },
   {
    "duration": 0,
    "start_time": "2024-04-30T07:26:27.815Z"
   },
   {
    "duration": 0,
    "start_time": "2024-04-30T07:26:27.816Z"
   },
   {
    "duration": 0,
    "start_time": "2024-04-30T07:26:27.817Z"
   },
   {
    "duration": 0,
    "start_time": "2024-04-30T07:26:27.818Z"
   },
   {
    "duration": 0,
    "start_time": "2024-04-30T07:26:27.819Z"
   },
   {
    "duration": 0,
    "start_time": "2024-04-30T07:26:27.820Z"
   },
   {
    "duration": 0,
    "start_time": "2024-04-30T07:26:27.821Z"
   },
   {
    "duration": 11,
    "start_time": "2024-04-30T07:26:41.379Z"
   },
   {
    "duration": 5,
    "start_time": "2024-04-30T07:26:44.058Z"
   },
   {
    "duration": 13,
    "start_time": "2024-04-30T07:26:44.523Z"
   },
   {
    "duration": 369,
    "start_time": "2024-04-30T07:26:57.971Z"
   },
   {
    "duration": 129,
    "start_time": "2024-04-30T07:26:58.342Z"
   },
   {
    "duration": 8,
    "start_time": "2024-04-30T07:26:58.472Z"
   },
   {
    "duration": 16,
    "start_time": "2024-04-30T07:26:58.482Z"
   },
   {
    "duration": 13,
    "start_time": "2024-04-30T07:26:58.500Z"
   },
   {
    "duration": 15,
    "start_time": "2024-04-30T07:26:58.515Z"
   },
   {
    "duration": 8,
    "start_time": "2024-04-30T07:26:58.531Z"
   },
   {
    "duration": 24,
    "start_time": "2024-04-30T07:26:58.540Z"
   },
   {
    "duration": 15,
    "start_time": "2024-04-30T07:26:58.565Z"
   },
   {
    "duration": 4,
    "start_time": "2024-04-30T07:26:58.583Z"
   },
   {
    "duration": 14,
    "start_time": "2024-04-30T07:26:58.589Z"
   },
   {
    "duration": 19,
    "start_time": "2024-04-30T07:26:58.604Z"
   },
   {
    "duration": 4,
    "start_time": "2024-04-30T07:26:58.644Z"
   },
   {
    "duration": 24,
    "start_time": "2024-04-30T07:26:58.650Z"
   },
   {
    "duration": 22,
    "start_time": "2024-04-30T07:26:58.676Z"
   },
   {
    "duration": 52,
    "start_time": "2024-04-30T07:26:58.700Z"
   },
   {
    "duration": 15,
    "start_time": "2024-04-30T07:26:58.753Z"
   },
   {
    "duration": 5,
    "start_time": "2024-04-30T07:26:58.769Z"
   },
   {
    "duration": 25,
    "start_time": "2024-04-30T07:26:58.775Z"
   },
   {
    "duration": 6,
    "start_time": "2024-04-30T07:26:58.801Z"
   },
   {
    "duration": 5,
    "start_time": "2024-04-30T07:26:58.808Z"
   },
   {
    "duration": 31,
    "start_time": "2024-04-30T07:26:58.815Z"
   },
   {
    "duration": 8,
    "start_time": "2024-04-30T07:26:58.848Z"
   },
   {
    "duration": 28,
    "start_time": "2024-04-30T07:26:58.858Z"
   },
   {
    "duration": 9,
    "start_time": "2024-04-30T07:26:58.887Z"
   },
   {
    "duration": 4,
    "start_time": "2024-04-30T07:26:58.897Z"
   },
   {
    "duration": 49,
    "start_time": "2024-04-30T07:26:58.902Z"
   },
   {
    "duration": 4,
    "start_time": "2024-04-30T07:32:44.669Z"
   },
   {
    "duration": 7,
    "start_time": "2024-04-30T07:35:32.742Z"
   },
   {
    "duration": 6,
    "start_time": "2024-04-30T07:36:04.963Z"
   },
   {
    "duration": 3,
    "start_time": "2024-04-30T07:37:08.773Z"
   },
   {
    "duration": 5,
    "start_time": "2024-04-30T07:37:43.461Z"
   },
   {
    "duration": 10,
    "start_time": "2024-04-30T07:42:37.204Z"
   },
   {
    "duration": 9,
    "start_time": "2024-04-30T07:43:16.745Z"
   },
   {
    "duration": 1420,
    "start_time": "2024-04-30T07:48:24.791Z"
   },
   {
    "duration": 5,
    "start_time": "2024-04-30T07:48:42.544Z"
   },
   {
    "duration": 10,
    "start_time": "2024-04-30T07:48:50.162Z"
   },
   {
    "duration": 406,
    "start_time": "2024-04-30T07:50:08.924Z"
   },
   {
    "duration": 130,
    "start_time": "2024-04-30T07:50:09.331Z"
   },
   {
    "duration": 8,
    "start_time": "2024-04-30T07:50:09.463Z"
   },
   {
    "duration": 52,
    "start_time": "2024-04-30T07:50:09.472Z"
   },
   {
    "duration": 30,
    "start_time": "2024-04-30T07:50:09.526Z"
   },
   {
    "duration": 34,
    "start_time": "2024-04-30T07:50:09.557Z"
   },
   {
    "duration": 8,
    "start_time": "2024-04-30T07:50:09.593Z"
   },
   {
    "duration": 20,
    "start_time": "2024-04-30T07:50:09.602Z"
   },
   {
    "duration": 16,
    "start_time": "2024-04-30T07:50:09.623Z"
   },
   {
    "duration": 4,
    "start_time": "2024-04-30T07:50:09.644Z"
   },
   {
    "duration": 19,
    "start_time": "2024-04-30T07:50:09.650Z"
   },
   {
    "duration": 20,
    "start_time": "2024-04-30T07:50:09.670Z"
   },
   {
    "duration": 5,
    "start_time": "2024-04-30T07:50:09.691Z"
   },
   {
    "duration": 16,
    "start_time": "2024-04-30T07:50:09.697Z"
   },
   {
    "duration": 49,
    "start_time": "2024-04-30T07:50:09.714Z"
   },
   {
    "duration": 31,
    "start_time": "2024-04-30T07:50:09.765Z"
   },
   {
    "duration": 12,
    "start_time": "2024-04-30T07:50:09.797Z"
   },
   {
    "duration": 4,
    "start_time": "2024-04-30T07:50:09.810Z"
   },
   {
    "duration": 36,
    "start_time": "2024-04-30T07:50:09.816Z"
   },
   {
    "duration": 4,
    "start_time": "2024-04-30T07:50:09.853Z"
   },
   {
    "duration": 5,
    "start_time": "2024-04-30T07:50:09.858Z"
   },
   {
    "duration": 6,
    "start_time": "2024-04-30T07:50:09.864Z"
   },
   {
    "duration": 5,
    "start_time": "2024-04-30T07:50:09.871Z"
   },
   {
    "duration": 25,
    "start_time": "2024-04-30T07:50:09.878Z"
   },
   {
    "duration": 4,
    "start_time": "2024-04-30T07:50:09.904Z"
   },
   {
    "duration": 43,
    "start_time": "2024-04-30T07:50:09.909Z"
   },
   {
    "duration": 3,
    "start_time": "2024-04-30T07:50:09.954Z"
   },
   {
    "duration": 20,
    "start_time": "2024-04-30T07:50:09.960Z"
   },
   {
    "duration": 3,
    "start_time": "2024-04-30T07:50:09.982Z"
   },
   {
    "duration": 39,
    "start_time": "2024-04-30T07:50:09.986Z"
   },
   {
    "duration": 6,
    "start_time": "2024-04-30T07:50:10.026Z"
   },
   {
    "duration": 25,
    "start_time": "2024-04-30T07:50:10.033Z"
   },
   {
    "duration": 22,
    "start_time": "2024-04-30T07:50:10.059Z"
   },
   {
    "duration": 18,
    "start_time": "2024-04-30T07:50:10.083Z"
   },
   {
    "duration": 56,
    "start_time": "2024-05-02T11:29:49.683Z"
   },
   {
    "duration": 442,
    "start_time": "2024-05-02T11:29:54.162Z"
   },
   {
    "duration": 233,
    "start_time": "2024-05-02T11:29:54.606Z"
   },
   {
    "duration": 9,
    "start_time": "2024-05-02T11:29:54.841Z"
   },
   {
    "duration": 17,
    "start_time": "2024-05-02T11:29:54.852Z"
   },
   {
    "duration": 18,
    "start_time": "2024-05-02T11:29:54.870Z"
   },
   {
    "duration": 11,
    "start_time": "2024-05-02T11:29:54.889Z"
   },
   {
    "duration": 12,
    "start_time": "2024-05-02T11:29:54.901Z"
   },
   {
    "duration": 23,
    "start_time": "2024-05-02T11:29:54.915Z"
   },
   {
    "duration": 19,
    "start_time": "2024-05-02T11:29:54.939Z"
   },
   {
    "duration": 5,
    "start_time": "2024-05-02T11:29:54.983Z"
   },
   {
    "duration": 27,
    "start_time": "2024-05-02T11:29:54.989Z"
   },
   {
    "duration": 26,
    "start_time": "2024-05-02T11:29:55.018Z"
   },
   {
    "duration": 5,
    "start_time": "2024-05-02T11:29:55.046Z"
   },
   {
    "duration": 31,
    "start_time": "2024-05-02T11:29:55.052Z"
   },
   {
    "duration": 44,
    "start_time": "2024-05-02T11:29:55.085Z"
   },
   {
    "duration": 33,
    "start_time": "2024-05-02T11:29:55.131Z"
   },
   {
    "duration": 19,
    "start_time": "2024-05-02T11:29:55.166Z"
   },
   {
    "duration": 6,
    "start_time": "2024-05-02T11:29:55.187Z"
   },
   {
    "duration": 20,
    "start_time": "2024-05-02T11:29:55.194Z"
   },
   {
    "duration": 5,
    "start_time": "2024-05-02T11:29:55.215Z"
   },
   {
    "duration": 7,
    "start_time": "2024-05-02T11:29:55.222Z"
   },
   {
    "duration": 10,
    "start_time": "2024-05-02T11:29:55.231Z"
   },
   {
    "duration": 7,
    "start_time": "2024-05-02T11:29:55.243Z"
   },
   {
    "duration": 65,
    "start_time": "2024-05-02T11:29:55.252Z"
   },
   {
    "duration": 5,
    "start_time": "2024-05-02T11:29:55.319Z"
   },
   {
    "duration": 13,
    "start_time": "2024-05-02T11:29:55.326Z"
   },
   {
    "duration": 4,
    "start_time": "2024-05-02T11:29:55.340Z"
   },
   {
    "duration": 47,
    "start_time": "2024-05-02T11:29:55.348Z"
   },
   {
    "duration": 5,
    "start_time": "2024-05-02T11:29:55.397Z"
   },
   {
    "duration": 10,
    "start_time": "2024-05-02T11:29:55.404Z"
   },
   {
    "duration": 5,
    "start_time": "2024-05-02T11:29:55.416Z"
   },
   {
    "duration": 6,
    "start_time": "2024-05-02T11:29:55.423Z"
   },
   {
    "duration": 13,
    "start_time": "2024-05-02T11:29:55.431Z"
   },
   {
    "duration": 43,
    "start_time": "2024-05-02T11:29:55.446Z"
   },
   {
    "duration": 995,
    "start_time": "2024-05-02T11:29:55.492Z"
   },
   {
    "duration": 7,
    "start_time": "2024-05-02T11:30:03.987Z"
   },
   {
    "duration": 5,
    "start_time": "2024-05-02T11:30:18.435Z"
   },
   {
    "duration": 7,
    "start_time": "2024-05-02T11:30:34.706Z"
   },
   {
    "duration": 27,
    "start_time": "2024-05-02T11:32:46.275Z"
   },
   {
    "duration": 447,
    "start_time": "2024-05-02T11:42:58.660Z"
   },
   {
    "duration": 128,
    "start_time": "2024-05-02T11:42:59.109Z"
   },
   {
    "duration": 8,
    "start_time": "2024-05-02T11:42:59.242Z"
   },
   {
    "duration": 19,
    "start_time": "2024-05-02T11:42:59.252Z"
   },
   {
    "duration": 16,
    "start_time": "2024-05-02T11:42:59.272Z"
   },
   {
    "duration": 14,
    "start_time": "2024-05-02T11:42:59.290Z"
   },
   {
    "duration": 12,
    "start_time": "2024-05-02T11:42:59.306Z"
   },
   {
    "duration": 19,
    "start_time": "2024-05-02T11:42:59.320Z"
   },
   {
    "duration": 28,
    "start_time": "2024-05-02T11:42:59.342Z"
   },
   {
    "duration": 5,
    "start_time": "2024-05-02T11:42:59.371Z"
   },
   {
    "duration": 18,
    "start_time": "2024-05-02T11:42:59.382Z"
   },
   {
    "duration": 22,
    "start_time": "2024-05-02T11:42:59.402Z"
   },
   {
    "duration": 4,
    "start_time": "2024-05-02T11:42:59.426Z"
   },
   {
    "duration": 16,
    "start_time": "2024-05-02T11:42:59.432Z"
   },
   {
    "duration": 47,
    "start_time": "2024-05-02T11:42:59.450Z"
   },
   {
    "duration": 34,
    "start_time": "2024-05-02T11:42:59.499Z"
   },
   {
    "duration": 12,
    "start_time": "2024-05-02T11:42:59.534Z"
   },
   {
    "duration": 5,
    "start_time": "2024-05-02T11:42:59.547Z"
   },
   {
    "duration": 40,
    "start_time": "2024-05-02T11:42:59.554Z"
   },
   {
    "duration": 5,
    "start_time": "2024-05-02T11:42:59.596Z"
   },
   {
    "duration": 5,
    "start_time": "2024-05-02T11:42:59.602Z"
   },
   {
    "duration": 10,
    "start_time": "2024-05-02T11:42:59.609Z"
   },
   {
    "duration": 5,
    "start_time": "2024-05-02T11:42:59.621Z"
   },
   {
    "duration": 25,
    "start_time": "2024-05-02T11:42:59.628Z"
   },
   {
    "duration": 30,
    "start_time": "2024-05-02T11:42:59.655Z"
   },
   {
    "duration": 15,
    "start_time": "2024-05-02T11:42:59.686Z"
   },
   {
    "duration": 10,
    "start_time": "2024-05-02T11:42:59.704Z"
   },
   {
    "duration": 42,
    "start_time": "2024-05-02T11:42:59.716Z"
   },
   {
    "duration": 5,
    "start_time": "2024-05-02T11:42:59.760Z"
   },
   {
    "duration": 19,
    "start_time": "2024-05-02T11:42:59.766Z"
   },
   {
    "duration": 7,
    "start_time": "2024-05-02T11:42:59.786Z"
   },
   {
    "duration": 8,
    "start_time": "2024-05-02T11:42:59.795Z"
   },
   {
    "duration": 14,
    "start_time": "2024-05-02T11:42:59.804Z"
   },
   {
    "duration": 14,
    "start_time": "2024-05-02T11:42:59.819Z"
   },
   {
    "duration": 46,
    "start_time": "2024-05-02T11:42:59.836Z"
   },
   {
    "duration": 5,
    "start_time": "2024-05-02T11:42:59.885Z"
   },
   {
    "duration": 32,
    "start_time": "2024-05-02T11:42:59.892Z"
   },
   {
    "duration": 21,
    "start_time": "2024-05-02T11:44:02.256Z"
   },
   {
    "duration": 26,
    "start_time": "2024-05-02T11:44:04.900Z"
   },
   {
    "duration": 9,
    "start_time": "2024-05-02T13:25:40.425Z"
   },
   {
    "duration": 6,
    "start_time": "2024-05-02T13:25:58.222Z"
   },
   {
    "duration": 425,
    "start_time": "2024-05-02T13:26:16.204Z"
   },
   {
    "duration": 130,
    "start_time": "2024-05-02T13:26:16.631Z"
   },
   {
    "duration": 8,
    "start_time": "2024-05-02T13:26:16.763Z"
   },
   {
    "duration": 25,
    "start_time": "2024-05-02T13:26:16.773Z"
   },
   {
    "duration": 16,
    "start_time": "2024-05-02T13:26:16.800Z"
   },
   {
    "duration": 10,
    "start_time": "2024-05-02T13:26:16.818Z"
   },
   {
    "duration": 9,
    "start_time": "2024-05-02T13:26:16.829Z"
   },
   {
    "duration": 21,
    "start_time": "2024-05-02T13:26:16.840Z"
   },
   {
    "duration": 19,
    "start_time": "2024-05-02T13:26:16.882Z"
   },
   {
    "duration": 5,
    "start_time": "2024-05-02T13:26:16.903Z"
   },
   {
    "duration": 20,
    "start_time": "2024-05-02T13:26:16.909Z"
   },
   {
    "duration": 24,
    "start_time": "2024-05-02T13:26:16.931Z"
   },
   {
    "duration": 28,
    "start_time": "2024-05-02T13:26:16.956Z"
   },
   {
    "duration": 22,
    "start_time": "2024-05-02T13:26:16.986Z"
   },
   {
    "duration": 25,
    "start_time": "2024-05-02T13:26:17.009Z"
   },
   {
    "duration": 53,
    "start_time": "2024-05-02T13:26:17.036Z"
   },
   {
    "duration": 18,
    "start_time": "2024-05-02T13:26:17.091Z"
   },
   {
    "duration": 7,
    "start_time": "2024-05-02T13:26:17.111Z"
   },
   {
    "duration": 18,
    "start_time": "2024-05-02T13:26:17.120Z"
   },
   {
    "duration": 5,
    "start_time": "2024-05-02T13:26:17.139Z"
   },
   {
    "duration": 7,
    "start_time": "2024-05-02T13:26:17.146Z"
   },
   {
    "duration": 6,
    "start_time": "2024-05-02T13:26:17.182Z"
   },
   {
    "duration": 16,
    "start_time": "2024-05-02T13:26:17.190Z"
   },
   {
    "duration": 41,
    "start_time": "2024-05-02T13:26:17.208Z"
   },
   {
    "duration": 5,
    "start_time": "2024-05-02T13:26:17.251Z"
   },
   {
    "duration": 36,
    "start_time": "2024-05-02T13:26:17.258Z"
   },
   {
    "duration": 14,
    "start_time": "2024-05-02T13:26:17.295Z"
   },
   {
    "duration": 28,
    "start_time": "2024-05-02T13:26:17.312Z"
   },
   {
    "duration": 4,
    "start_time": "2024-05-02T13:26:17.342Z"
   },
   {
    "duration": 27,
    "start_time": "2024-05-02T13:26:17.348Z"
   },
   {
    "duration": 36,
    "start_time": "2024-05-02T13:26:17.376Z"
   },
   {
    "duration": 10,
    "start_time": "2024-05-02T13:26:17.414Z"
   },
   {
    "duration": 25,
    "start_time": "2024-05-02T13:26:17.425Z"
   },
   {
    "duration": 14,
    "start_time": "2024-05-02T13:26:17.451Z"
   },
   {
    "duration": 28,
    "start_time": "2024-05-02T13:26:17.466Z"
   },
   {
    "duration": 18,
    "start_time": "2024-05-02T13:26:17.495Z"
   },
   {
    "duration": 53,
    "start_time": "2024-05-02T13:26:17.515Z"
   },
   {
    "duration": 5,
    "start_time": "2024-05-02T13:26:17.570Z"
   },
   {
    "duration": 28,
    "start_time": "2024-05-02T13:26:17.577Z"
   },
   {
    "duration": 79,
    "start_time": "2024-05-02T13:28:56.964Z"
   },
   {
    "duration": 7,
    "start_time": "2024-05-02T13:29:30.755Z"
   },
   {
    "duration": 26,
    "start_time": "2024-05-02T13:29:43.611Z"
   },
   {
    "duration": 20,
    "start_time": "2024-05-02T13:30:18.309Z"
   },
   {
    "duration": 10,
    "start_time": "2024-05-02T13:30:42.763Z"
   },
   {
    "duration": 6,
    "start_time": "2024-05-02T13:31:07.290Z"
   },
   {
    "duration": 5,
    "start_time": "2024-05-02T13:31:21.754Z"
   },
   {
    "duration": 4,
    "start_time": "2024-05-02T13:34:33.879Z"
   },
   {
    "duration": 30,
    "start_time": "2024-05-02T13:34:44.102Z"
   },
   {
    "duration": 6,
    "start_time": "2024-05-02T13:40:21.540Z"
   },
   {
    "duration": 17,
    "start_time": "2024-05-02T13:40:38.692Z"
   },
   {
    "duration": 4,
    "start_time": "2024-05-02T13:42:58.178Z"
   },
   {
    "duration": 10,
    "start_time": "2024-05-02T14:14:14.982Z"
   },
   {
    "duration": 6,
    "start_time": "2024-05-02T14:23:10.732Z"
   },
   {
    "duration": 10,
    "start_time": "2024-05-02T14:24:39.180Z"
   },
   {
    "duration": 29,
    "start_time": "2024-05-02T14:25:13.910Z"
   },
   {
    "duration": 874,
    "start_time": "2024-05-02T14:26:50.836Z"
   },
   {
    "duration": 16,
    "start_time": "2024-05-02T14:27:22.507Z"
   },
   {
    "duration": 9,
    "start_time": "2024-05-02T14:27:47.172Z"
   },
   {
    "duration": 19,
    "start_time": "2024-05-02T14:27:54.003Z"
   },
   {
    "duration": 6,
    "start_time": "2024-05-02T14:30:32.531Z"
   },
   {
    "duration": 11,
    "start_time": "2024-05-02T14:32:01.931Z"
   },
   {
    "duration": 3,
    "start_time": "2024-05-02T14:34:21.587Z"
   },
   {
    "duration": 179,
    "start_time": "2024-05-02T14:34:23.027Z"
   },
   {
    "duration": 17,
    "start_time": "2024-05-02T14:35:04.266Z"
   },
   {
    "duration": 3,
    "start_time": "2024-05-02T14:36:10.842Z"
   },
   {
    "duration": 10,
    "start_time": "2024-05-02T14:36:12.115Z"
   },
   {
    "duration": 13,
    "start_time": "2024-05-02T14:36:34.345Z"
   },
   {
    "duration": 10,
    "start_time": "2024-05-02T14:36:48.219Z"
   },
   {
    "duration": 13,
    "start_time": "2024-05-02T14:36:53.881Z"
   },
   {
    "duration": 12,
    "start_time": "2024-05-02T14:37:04.553Z"
   },
   {
    "duration": 45,
    "start_time": "2024-05-02T14:37:56.489Z"
   },
   {
    "duration": 59,
    "start_time": "2024-05-02T14:38:00.769Z"
   },
   {
    "duration": 12,
    "start_time": "2024-05-02T14:49:14.262Z"
   },
   {
    "duration": 2,
    "start_time": "2024-05-02T14:51:08.149Z"
   },
   {
    "duration": 7,
    "start_time": "2024-05-02T14:51:08.771Z"
   },
   {
    "duration": 15,
    "start_time": "2024-05-02T14:51:21.028Z"
   },
   {
    "duration": 17,
    "start_time": "2024-05-02T14:51:50.372Z"
   },
   {
    "duration": 405,
    "start_time": "2024-05-03T07:35:11.020Z"
   },
   {
    "duration": 386,
    "start_time": "2024-05-03T07:35:11.427Z"
   },
   {
    "duration": 11,
    "start_time": "2024-05-03T07:35:11.815Z"
   },
   {
    "duration": 18,
    "start_time": "2024-05-03T07:35:11.829Z"
   },
   {
    "duration": 17,
    "start_time": "2024-05-03T07:35:11.849Z"
   },
   {
    "duration": 19,
    "start_time": "2024-05-03T07:35:11.867Z"
   },
   {
    "duration": 10,
    "start_time": "2024-05-03T07:35:11.888Z"
   },
   {
    "duration": 20,
    "start_time": "2024-05-03T07:35:11.899Z"
   },
   {
    "duration": 61,
    "start_time": "2024-05-03T07:35:11.921Z"
   },
   {
    "duration": 5,
    "start_time": "2024-05-03T07:35:11.984Z"
   },
   {
    "duration": 22,
    "start_time": "2024-05-03T07:35:11.991Z"
   },
   {
    "duration": 27,
    "start_time": "2024-05-03T07:35:12.015Z"
   },
   {
    "duration": 40,
    "start_time": "2024-05-03T07:35:12.044Z"
   },
   {
    "duration": 18,
    "start_time": "2024-05-03T07:35:12.086Z"
   },
   {
    "duration": 28,
    "start_time": "2024-05-03T07:35:12.105Z"
   },
   {
    "duration": 73,
    "start_time": "2024-05-03T07:35:12.134Z"
   },
   {
    "duration": 18,
    "start_time": "2024-05-03T07:35:12.209Z"
   },
   {
    "duration": 7,
    "start_time": "2024-05-03T07:35:12.230Z"
   },
   {
    "duration": 53,
    "start_time": "2024-05-03T07:35:12.239Z"
   },
   {
    "duration": 5,
    "start_time": "2024-05-03T07:35:12.294Z"
   },
   {
    "duration": 18,
    "start_time": "2024-05-03T07:35:12.301Z"
   },
   {
    "duration": 7,
    "start_time": "2024-05-03T07:35:12.321Z"
   },
   {
    "duration": 6,
    "start_time": "2024-05-03T07:35:12.330Z"
   },
   {
    "duration": 63,
    "start_time": "2024-05-03T07:35:12.338Z"
   },
   {
    "duration": 5,
    "start_time": "2024-05-03T07:35:12.403Z"
   },
   {
    "duration": 17,
    "start_time": "2024-05-03T07:35:12.409Z"
   },
   {
    "duration": 5,
    "start_time": "2024-05-03T07:35:12.428Z"
   },
   {
    "duration": 59,
    "start_time": "2024-05-03T07:35:12.438Z"
   },
   {
    "duration": 6,
    "start_time": "2024-05-03T07:35:12.499Z"
   },
   {
    "duration": 18,
    "start_time": "2024-05-03T07:35:12.507Z"
   },
   {
    "duration": 12,
    "start_time": "2024-05-03T07:35:12.527Z"
   },
   {
    "duration": 48,
    "start_time": "2024-05-03T07:35:12.542Z"
   },
   {
    "duration": 22,
    "start_time": "2024-05-03T07:35:12.593Z"
   },
   {
    "duration": 20,
    "start_time": "2024-05-03T07:35:12.617Z"
   },
   {
    "duration": 60,
    "start_time": "2024-05-03T07:35:12.639Z"
   },
   {
    "duration": 18,
    "start_time": "2024-05-03T07:35:12.700Z"
   },
   {
    "duration": 18,
    "start_time": "2024-05-03T07:35:12.720Z"
   },
   {
    "duration": 6,
    "start_time": "2024-05-03T07:35:12.740Z"
   },
   {
    "duration": 71,
    "start_time": "2024-05-03T07:35:12.748Z"
   },
   {
    "duration": 7,
    "start_time": "2024-05-03T07:35:12.822Z"
   },
   {
    "duration": 10,
    "start_time": "2024-05-03T07:35:12.832Z"
   },
   {
    "duration": 37,
    "start_time": "2024-05-03T07:35:12.844Z"
   },
   {
    "duration": 3,
    "start_time": "2024-05-03T07:35:12.883Z"
   },
   {
    "duration": 21,
    "start_time": "2024-05-03T07:35:12.888Z"
   },
   {
    "duration": 12,
    "start_time": "2024-05-03T07:35:12.911Z"
   },
   {
    "duration": 14,
    "start_time": "2024-05-03T07:35:12.925Z"
   },
   {
    "duration": 8,
    "start_time": "2024-05-03T07:42:51.052Z"
   },
   {
    "duration": 9,
    "start_time": "2024-05-03T07:43:06.373Z"
   },
   {
    "duration": 7,
    "start_time": "2024-05-03T07:43:13.877Z"
   },
   {
    "duration": 13,
    "start_time": "2024-05-03T08:03:28.500Z"
   },
   {
    "duration": 6,
    "start_time": "2024-05-03T08:03:37.059Z"
   },
   {
    "duration": 16,
    "start_time": "2024-05-03T08:07:29.673Z"
   },
   {
    "duration": 3,
    "start_time": "2024-05-03T08:08:57.786Z"
   },
   {
    "duration": 70,
    "start_time": "2024-05-03T08:09:24.504Z"
   },
   {
    "duration": 7,
    "start_time": "2024-05-03T08:09:28.976Z"
   },
   {
    "duration": 80,
    "start_time": "2024-05-03T08:30:42.414Z"
   },
   {
    "duration": 31,
    "start_time": "2024-05-03T08:30:48.544Z"
   },
   {
    "duration": 33,
    "start_time": "2024-05-03T08:31:01.897Z"
   },
   {
    "duration": 25,
    "start_time": "2024-05-03T08:31:15.111Z"
   },
   {
    "duration": 32,
    "start_time": "2024-05-03T08:31:24.159Z"
   },
   {
    "duration": 35,
    "start_time": "2024-05-03T08:32:00.815Z"
   },
   {
    "duration": 53,
    "start_time": "2024-05-03T08:32:23.966Z"
   },
   {
    "duration": 34,
    "start_time": "2024-05-03T08:35:11.822Z"
   },
   {
    "duration": 27,
    "start_time": "2024-05-03T08:35:18.199Z"
   },
   {
    "duration": 30,
    "start_time": "2024-05-03T08:35:43.966Z"
   },
   {
    "duration": 25,
    "start_time": "2024-05-03T08:35:49.230Z"
   },
   {
    "duration": 25,
    "start_time": "2024-05-03T08:36:37.935Z"
   },
   {
    "duration": 29,
    "start_time": "2024-05-03T08:41:30.470Z"
   },
   {
    "duration": 622,
    "start_time": "2024-05-03T08:56:17.792Z"
   },
   {
    "duration": 160,
    "start_time": "2024-05-03T08:57:22.666Z"
   },
   {
    "duration": 182,
    "start_time": "2024-05-03T09:01:22.890Z"
   },
   {
    "duration": 184,
    "start_time": "2024-05-03T09:04:24.680Z"
   },
   {
    "duration": 239,
    "start_time": "2024-05-03T09:04:59.599Z"
   },
   {
    "duration": 185,
    "start_time": "2024-05-03T09:05:09.334Z"
   },
   {
    "duration": 14,
    "start_time": "2024-05-03T09:06:50.829Z"
   },
   {
    "duration": 15,
    "start_time": "2024-05-03T09:07:03.678Z"
   },
   {
    "duration": 189,
    "start_time": "2024-05-03T09:07:53.453Z"
   },
   {
    "duration": 228,
    "start_time": "2024-05-03T09:08:04.142Z"
   },
   {
    "duration": 226,
    "start_time": "2024-05-03T09:08:44.166Z"
   },
   {
    "duration": 206,
    "start_time": "2024-05-03T09:08:51.038Z"
   },
   {
    "duration": 204,
    "start_time": "2024-05-03T09:09:19.575Z"
   },
   {
    "duration": 432,
    "start_time": "2024-05-06T06:58:11.688Z"
   },
   {
    "duration": 251,
    "start_time": "2024-05-06T06:58:12.122Z"
   },
   {
    "duration": 8,
    "start_time": "2024-05-06T06:58:12.375Z"
   },
   {
    "duration": 18,
    "start_time": "2024-05-06T06:58:12.385Z"
   },
   {
    "duration": 17,
    "start_time": "2024-05-06T06:58:12.404Z"
   },
   {
    "duration": 10,
    "start_time": "2024-05-06T06:58:12.423Z"
   },
   {
    "duration": 7,
    "start_time": "2024-05-06T06:58:12.434Z"
   },
   {
    "duration": 53,
    "start_time": "2024-05-06T06:58:12.443Z"
   },
   {
    "duration": 26,
    "start_time": "2024-05-06T06:58:12.498Z"
   },
   {
    "duration": 6,
    "start_time": "2024-05-06T06:58:12.528Z"
   },
   {
    "duration": 36,
    "start_time": "2024-05-06T06:58:12.535Z"
   },
   {
    "duration": 32,
    "start_time": "2024-05-06T06:58:12.573Z"
   },
   {
    "duration": 4,
    "start_time": "2024-05-06T06:58:12.607Z"
   },
   {
    "duration": 15,
    "start_time": "2024-05-06T06:58:12.613Z"
   },
   {
    "duration": 24,
    "start_time": "2024-05-06T06:58:12.630Z"
   },
   {
    "duration": 35,
    "start_time": "2024-05-06T06:58:12.681Z"
   },
   {
    "duration": 12,
    "start_time": "2024-05-06T06:58:12.718Z"
   },
   {
    "duration": 5,
    "start_time": "2024-05-06T06:58:12.731Z"
   },
   {
    "duration": 18,
    "start_time": "2024-05-06T06:58:12.737Z"
   },
   {
    "duration": 28,
    "start_time": "2024-05-06T06:58:12.756Z"
   },
   {
    "duration": 6,
    "start_time": "2024-05-06T06:58:12.785Z"
   },
   {
    "duration": 11,
    "start_time": "2024-05-06T06:58:12.792Z"
   },
   {
    "duration": 9,
    "start_time": "2024-05-06T06:58:12.804Z"
   },
   {
    "duration": 28,
    "start_time": "2024-05-06T06:58:12.815Z"
   },
   {
    "duration": 5,
    "start_time": "2024-05-06T06:58:12.844Z"
   },
   {
    "duration": 38,
    "start_time": "2024-05-06T06:58:12.851Z"
   },
   {
    "duration": 4,
    "start_time": "2024-05-06T06:58:12.891Z"
   },
   {
    "duration": 25,
    "start_time": "2024-05-06T06:58:12.899Z"
   },
   {
    "duration": 4,
    "start_time": "2024-05-06T06:58:12.926Z"
   },
   {
    "duration": 14,
    "start_time": "2024-05-06T06:58:12.932Z"
   },
   {
    "duration": 4,
    "start_time": "2024-05-06T06:58:12.948Z"
   },
   {
    "duration": 8,
    "start_time": "2024-05-06T06:58:12.982Z"
   },
   {
    "duration": 17,
    "start_time": "2024-05-06T06:58:12.992Z"
   },
   {
    "duration": 13,
    "start_time": "2024-05-06T06:58:13.011Z"
   },
   {
    "duration": 21,
    "start_time": "2024-05-06T06:58:13.026Z"
   },
   {
    "duration": 34,
    "start_time": "2024-05-06T06:58:13.049Z"
   },
   {
    "duration": 18,
    "start_time": "2024-05-06T06:58:13.085Z"
   },
   {
    "duration": 5,
    "start_time": "2024-05-06T06:58:13.105Z"
   },
   {
    "duration": 45,
    "start_time": "2024-05-06T06:58:13.112Z"
   },
   {
    "duration": 26,
    "start_time": "2024-05-06T06:58:13.159Z"
   },
   {
    "duration": 6,
    "start_time": "2024-05-06T06:58:13.187Z"
   },
   {
    "duration": 22,
    "start_time": "2024-05-06T06:58:13.194Z"
   },
   {
    "duration": 4,
    "start_time": "2024-05-06T06:58:13.218Z"
   },
   {
    "duration": 15,
    "start_time": "2024-05-06T06:58:13.223Z"
   },
   {
    "duration": 11,
    "start_time": "2024-05-06T06:58:13.239Z"
   },
   {
    "duration": 32,
    "start_time": "2024-05-06T06:58:13.251Z"
   },
   {
    "duration": 11,
    "start_time": "2024-05-06T06:58:13.285Z"
   },
   {
    "duration": 20,
    "start_time": "2024-05-06T06:58:13.297Z"
   },
   {
    "duration": 6,
    "start_time": "2024-05-06T06:58:13.319Z"
   },
   {
    "duration": 29,
    "start_time": "2024-05-06T06:58:13.326Z"
   },
   {
    "duration": 657,
    "start_time": "2024-05-06T06:58:13.357Z"
   },
   {
    "duration": 195,
    "start_time": "2024-05-06T06:58:14.016Z"
   },
   {
    "duration": 207,
    "start_time": "2024-05-06T13:20:05.903Z"
   },
   {
    "duration": 186,
    "start_time": "2024-05-06T13:23:14.644Z"
   },
   {
    "duration": 271,
    "start_time": "2024-05-06T13:23:21.971Z"
   },
   {
    "duration": 21,
    "start_time": "2024-05-06T13:25:39.954Z"
   },
   {
    "duration": 22,
    "start_time": "2024-05-06T13:33:07.918Z"
   },
   {
    "duration": 28,
    "start_time": "2024-05-06T14:02:18.214Z"
   },
   {
    "duration": 204,
    "start_time": "2024-05-06T14:31:03.755Z"
   },
   {
    "duration": 6,
    "start_time": "2024-05-06T14:36:22.144Z"
   },
   {
    "duration": 5,
    "start_time": "2024-05-06T14:36:47.472Z"
   },
   {
    "duration": 5,
    "start_time": "2024-05-06T14:36:55.049Z"
   },
   {
    "duration": 4,
    "start_time": "2024-05-06T14:37:04.193Z"
   },
   {
    "duration": 4,
    "start_time": "2024-05-06T14:38:35.160Z"
   },
   {
    "duration": 10,
    "start_time": "2024-05-06T14:38:37.854Z"
   },
   {
    "duration": 5,
    "start_time": "2024-05-06T14:38:38.703Z"
   },
   {
    "duration": 18,
    "start_time": "2024-05-06T14:38:44.327Z"
   },
   {
    "duration": 436,
    "start_time": "2024-05-06T14:39:02.889Z"
   },
   {
    "duration": 128,
    "start_time": "2024-05-06T14:39:03.326Z"
   },
   {
    "duration": 8,
    "start_time": "2024-05-06T14:39:03.456Z"
   },
   {
    "duration": 19,
    "start_time": "2024-05-06T14:39:03.466Z"
   },
   {
    "duration": 29,
    "start_time": "2024-05-06T14:39:03.487Z"
   },
   {
    "duration": 10,
    "start_time": "2024-05-06T14:39:03.517Z"
   },
   {
    "duration": 7,
    "start_time": "2024-05-06T14:39:03.529Z"
   },
   {
    "duration": 19,
    "start_time": "2024-05-06T14:39:03.537Z"
   },
   {
    "duration": 30,
    "start_time": "2024-05-06T14:39:03.557Z"
   },
   {
    "duration": 5,
    "start_time": "2024-05-06T14:39:03.590Z"
   },
   {
    "duration": 19,
    "start_time": "2024-05-06T14:39:03.596Z"
   },
   {
    "duration": 22,
    "start_time": "2024-05-06T14:39:03.617Z"
   },
   {
    "duration": 4,
    "start_time": "2024-05-06T14:39:03.641Z"
   },
   {
    "duration": 37,
    "start_time": "2024-05-06T14:39:03.646Z"
   },
   {
    "duration": 17,
    "start_time": "2024-05-06T14:39:03.684Z"
   },
   {
    "duration": 25,
    "start_time": "2024-05-06T14:39:03.703Z"
   },
   {
    "duration": 61,
    "start_time": "2024-05-06T14:39:03.730Z"
   },
   {
    "duration": 11,
    "start_time": "2024-05-06T14:39:03.792Z"
   },
   {
    "duration": 4,
    "start_time": "2024-05-06T14:39:03.805Z"
   },
   {
    "duration": 22,
    "start_time": "2024-05-06T14:39:03.810Z"
   },
   {
    "duration": 5,
    "start_time": "2024-05-06T14:39:03.834Z"
   },
   {
    "duration": 10,
    "start_time": "2024-05-06T14:39:03.841Z"
   },
   {
    "duration": 30,
    "start_time": "2024-05-06T14:39:03.852Z"
   },
   {
    "duration": 7,
    "start_time": "2024-05-06T14:39:03.884Z"
   },
   {
    "duration": 35,
    "start_time": "2024-05-06T14:39:03.892Z"
   },
   {
    "duration": 9,
    "start_time": "2024-05-06T14:39:03.929Z"
   },
   {
    "duration": 16,
    "start_time": "2024-05-06T14:39:03.940Z"
   },
   {
    "duration": 5,
    "start_time": "2024-05-06T14:39:03.983Z"
   },
   {
    "duration": 38,
    "start_time": "2024-05-06T14:39:03.990Z"
   },
   {
    "duration": 6,
    "start_time": "2024-05-06T14:39:04.030Z"
   },
   {
    "duration": 13,
    "start_time": "2024-05-06T14:39:04.038Z"
   },
   {
    "duration": 30,
    "start_time": "2024-05-06T14:39:04.052Z"
   },
   {
    "duration": 9,
    "start_time": "2024-05-06T14:39:04.084Z"
   },
   {
    "duration": 28,
    "start_time": "2024-05-06T14:39:04.094Z"
   },
   {
    "duration": 14,
    "start_time": "2024-05-06T14:39:04.124Z"
   },
   {
    "duration": 21,
    "start_time": "2024-05-06T14:39:04.140Z"
   },
   {
    "duration": 5,
    "start_time": "2024-05-06T14:39:04.181Z"
   },
   {
    "duration": 33,
    "start_time": "2024-05-06T14:39:04.188Z"
   },
   {
    "duration": 6,
    "start_time": "2024-05-06T14:39:04.222Z"
   },
   {
    "duration": 31,
    "start_time": "2024-05-06T14:39:04.229Z"
   },
   {
    "duration": 21,
    "start_time": "2024-05-06T14:39:04.261Z"
   },
   {
    "duration": 5,
    "start_time": "2024-05-06T14:39:04.284Z"
   },
   {
    "duration": 8,
    "start_time": "2024-05-06T14:39:04.291Z"
   },
   {
    "duration": 3,
    "start_time": "2024-05-06T14:39:04.300Z"
   },
   {
    "duration": 17,
    "start_time": "2024-05-06T14:39:04.304Z"
   },
   {
    "duration": 11,
    "start_time": "2024-05-06T14:39:04.322Z"
   },
   {
    "duration": 48,
    "start_time": "2024-05-06T14:39:04.335Z"
   },
   {
    "duration": 15,
    "start_time": "2024-05-06T14:39:04.385Z"
   },
   {
    "duration": 18,
    "start_time": "2024-05-06T14:39:04.403Z"
   },
   {
    "duration": 7,
    "start_time": "2024-05-06T14:39:04.423Z"
   },
   {
    "duration": 27,
    "start_time": "2024-05-06T14:39:04.432Z"
   },
   {
    "duration": 419,
    "start_time": "2024-05-06T14:39:04.482Z"
   },
   {
    "duration": 189,
    "start_time": "2024-05-06T14:39:04.903Z"
   },
   {
    "duration": 191,
    "start_time": "2024-05-06T14:39:05.094Z"
   },
   {
    "duration": 15,
    "start_time": "2024-05-06T14:39:05.287Z"
   },
   {
    "duration": 18,
    "start_time": "2024-05-06T14:39:05.304Z"
   },
   {
    "duration": 186,
    "start_time": "2024-05-06T14:39:05.324Z"
   },
   {
    "duration": 219,
    "start_time": "2024-05-06T14:40:51.114Z"
   },
   {
    "duration": 50,
    "start_time": "2024-05-07T11:24:09.142Z"
   },
   {
    "duration": 382,
    "start_time": "2024-05-07T11:24:15.293Z"
   },
   {
    "duration": 233,
    "start_time": "2024-05-07T11:24:15.676Z"
   },
   {
    "duration": 9,
    "start_time": "2024-05-07T11:24:15.910Z"
   },
   {
    "duration": 55,
    "start_time": "2024-05-07T11:24:15.921Z"
   },
   {
    "duration": 22,
    "start_time": "2024-05-07T11:24:15.978Z"
   },
   {
    "duration": 12,
    "start_time": "2024-05-07T11:24:16.001Z"
   },
   {
    "duration": 9,
    "start_time": "2024-05-07T11:24:16.014Z"
   },
   {
    "duration": 45,
    "start_time": "2024-05-07T11:24:16.025Z"
   },
   {
    "duration": 30,
    "start_time": "2024-05-07T11:24:16.072Z"
   },
   {
    "duration": 19,
    "start_time": "2024-05-07T11:24:16.105Z"
   },
   {
    "duration": 27,
    "start_time": "2024-05-07T11:24:16.125Z"
   },
   {
    "duration": 44,
    "start_time": "2024-05-07T11:24:16.153Z"
   },
   {
    "duration": 6,
    "start_time": "2024-05-07T11:24:16.199Z"
   },
   {
    "duration": 36,
    "start_time": "2024-05-07T11:24:16.206Z"
   },
   {
    "duration": 22,
    "start_time": "2024-05-07T11:24:16.244Z"
   },
   {
    "duration": 23,
    "start_time": "2024-05-07T11:24:16.268Z"
   },
   {
    "duration": 49,
    "start_time": "2024-05-07T11:24:16.292Z"
   },
   {
    "duration": 24,
    "start_time": "2024-05-07T11:24:16.344Z"
   },
   {
    "duration": 20,
    "start_time": "2024-05-07T11:24:16.369Z"
   },
   {
    "duration": 27,
    "start_time": "2024-05-07T11:24:16.391Z"
   },
   {
    "duration": 21,
    "start_time": "2024-05-07T11:24:16.420Z"
   },
   {
    "duration": 20,
    "start_time": "2024-05-07T11:24:16.442Z"
   },
   {
    "duration": 28,
    "start_time": "2024-05-07T11:24:16.463Z"
   },
   {
    "duration": 15,
    "start_time": "2024-05-07T11:24:16.492Z"
   },
   {
    "duration": 47,
    "start_time": "2024-05-07T11:24:16.509Z"
   },
   {
    "duration": 5,
    "start_time": "2024-05-07T11:24:16.558Z"
   },
   {
    "duration": 16,
    "start_time": "2024-05-07T11:24:16.564Z"
   },
   {
    "duration": 6,
    "start_time": "2024-05-07T11:24:16.584Z"
   },
   {
    "duration": 52,
    "start_time": "2024-05-07T11:24:16.591Z"
   },
   {
    "duration": 22,
    "start_time": "2024-05-07T11:24:16.645Z"
   },
   {
    "duration": 23,
    "start_time": "2024-05-07T11:24:16.669Z"
   },
   {
    "duration": 11,
    "start_time": "2024-05-07T11:24:16.694Z"
   },
   {
    "duration": 27,
    "start_time": "2024-05-07T11:24:16.707Z"
   },
   {
    "duration": 23,
    "start_time": "2024-05-07T11:24:16.735Z"
   },
   {
    "duration": 45,
    "start_time": "2024-05-07T11:24:16.760Z"
   },
   {
    "duration": 35,
    "start_time": "2024-05-07T11:24:16.806Z"
   },
   {
    "duration": 27,
    "start_time": "2024-05-07T11:24:16.842Z"
   },
   {
    "duration": 26,
    "start_time": "2024-05-07T11:24:16.871Z"
   },
   {
    "duration": 6,
    "start_time": "2024-05-07T11:24:16.899Z"
   },
   {
    "duration": 42,
    "start_time": "2024-05-07T11:24:16.907Z"
   },
   {
    "duration": 25,
    "start_time": "2024-05-07T11:24:16.951Z"
   },
   {
    "duration": 11,
    "start_time": "2024-05-07T11:24:16.978Z"
   },
   {
    "duration": 25,
    "start_time": "2024-05-07T11:24:16.990Z"
   },
   {
    "duration": 23,
    "start_time": "2024-05-07T11:24:17.017Z"
   },
   {
    "duration": 23,
    "start_time": "2024-05-07T11:24:17.041Z"
   },
   {
    "duration": 26,
    "start_time": "2024-05-07T11:24:17.066Z"
   },
   {
    "duration": 35,
    "start_time": "2024-05-07T11:24:17.094Z"
   },
   {
    "duration": 17,
    "start_time": "2024-05-07T11:24:17.130Z"
   },
   {
    "duration": 13,
    "start_time": "2024-05-07T11:24:17.149Z"
   },
   {
    "duration": 5,
    "start_time": "2024-05-07T11:24:17.164Z"
   },
   {
    "duration": 34,
    "start_time": "2024-05-07T11:24:17.170Z"
   },
   {
    "duration": 566,
    "start_time": "2024-05-07T11:24:17.205Z"
   },
   {
    "duration": 216,
    "start_time": "2024-05-07T11:24:17.773Z"
   },
   {
    "duration": 196,
    "start_time": "2024-05-07T11:24:17.991Z"
   },
   {
    "duration": 14,
    "start_time": "2024-05-07T11:24:18.189Z"
   },
   {
    "duration": 29,
    "start_time": "2024-05-07T11:24:18.205Z"
   },
   {
    "duration": 168,
    "start_time": "2024-05-07T11:24:18.235Z"
   },
   {
    "duration": 678,
    "start_time": "2024-05-07T11:24:18.405Z"
   },
   {
    "duration": 49,
    "start_time": "2024-05-07T11:24:57.999Z"
   },
   {
    "duration": 657,
    "start_time": "2024-05-07T11:25:05.894Z"
   },
   {
    "duration": 885,
    "start_time": "2024-05-07T11:25:15.303Z"
   },
   {
    "duration": 15,
    "start_time": "2024-05-07T11:47:41.281Z"
   },
   {
    "duration": 7,
    "start_time": "2024-05-07T11:47:52.496Z"
   },
   {
    "duration": 14,
    "start_time": "2024-05-07T11:47:58.376Z"
   },
   {
    "duration": 874,
    "start_time": "2024-05-07T11:48:33.849Z"
   },
   {
    "duration": 8,
    "start_time": "2024-05-07T11:48:45.897Z"
   },
   {
    "duration": 6,
    "start_time": "2024-05-07T11:49:11.944Z"
   },
   {
    "duration": 7,
    "start_time": "2024-05-07T11:49:25.577Z"
   },
   {
    "duration": 13,
    "start_time": "2024-05-07T11:49:48.904Z"
   },
   {
    "duration": 7,
    "start_time": "2024-05-07T11:49:56.096Z"
   },
   {
    "duration": 7,
    "start_time": "2024-05-07T11:50:01.033Z"
   },
   {
    "duration": 8,
    "start_time": "2024-05-07T11:52:01.959Z"
   },
   {
    "duration": 11,
    "start_time": "2024-05-07T11:56:54.489Z"
   },
   {
    "duration": 432,
    "start_time": "2024-05-07T13:55:12.337Z"
   },
   {
    "duration": 132,
    "start_time": "2024-05-07T13:55:12.775Z"
   },
   {
    "duration": 9,
    "start_time": "2024-05-07T13:55:12.908Z"
   },
   {
    "duration": 70,
    "start_time": "2024-05-07T13:55:12.919Z"
   },
   {
    "duration": 17,
    "start_time": "2024-05-07T13:55:12.990Z"
   },
   {
    "duration": 10,
    "start_time": "2024-05-07T13:55:13.008Z"
   },
   {
    "duration": 60,
    "start_time": "2024-05-07T13:55:13.020Z"
   },
   {
    "duration": 33,
    "start_time": "2024-05-07T13:55:13.081Z"
   },
   {
    "duration": 42,
    "start_time": "2024-05-07T13:55:13.116Z"
   },
   {
    "duration": 13,
    "start_time": "2024-05-07T13:55:13.161Z"
   },
   {
    "duration": 22,
    "start_time": "2024-05-07T13:55:13.176Z"
   },
   {
    "duration": 28,
    "start_time": "2024-05-07T13:55:13.200Z"
   },
   {
    "duration": 4,
    "start_time": "2024-05-07T13:55:13.230Z"
   },
   {
    "duration": 43,
    "start_time": "2024-05-07T13:55:13.236Z"
   },
   {
    "duration": 23,
    "start_time": "2024-05-07T13:55:13.281Z"
   },
   {
    "duration": 30,
    "start_time": "2024-05-07T13:55:13.306Z"
   },
   {
    "duration": 44,
    "start_time": "2024-05-07T13:55:13.338Z"
   },
   {
    "duration": 12,
    "start_time": "2024-05-07T13:55:13.384Z"
   },
   {
    "duration": 30,
    "start_time": "2024-05-07T13:55:13.398Z"
   },
   {
    "duration": 35,
    "start_time": "2024-05-07T13:55:13.429Z"
   },
   {
    "duration": 10,
    "start_time": "2024-05-07T13:55:13.466Z"
   },
   {
    "duration": 17,
    "start_time": "2024-05-07T13:55:13.478Z"
   },
   {
    "duration": 16,
    "start_time": "2024-05-07T13:55:13.497Z"
   },
   {
    "duration": 12,
    "start_time": "2024-05-07T13:55:13.514Z"
   },
   {
    "duration": 38,
    "start_time": "2024-05-07T13:55:13.527Z"
   },
   {
    "duration": 8,
    "start_time": "2024-05-07T13:55:13.567Z"
   },
   {
    "duration": 16,
    "start_time": "2024-05-07T13:55:13.577Z"
   },
   {
    "duration": 6,
    "start_time": "2024-05-07T13:55:13.597Z"
   },
   {
    "duration": 26,
    "start_time": "2024-05-07T13:55:13.604Z"
   },
   {
    "duration": 4,
    "start_time": "2024-05-07T13:55:13.631Z"
   },
   {
    "duration": 38,
    "start_time": "2024-05-07T13:55:13.637Z"
   },
   {
    "duration": 5,
    "start_time": "2024-05-07T13:55:13.677Z"
   },
   {
    "duration": 10,
    "start_time": "2024-05-07T13:55:13.684Z"
   },
   {
    "duration": 25,
    "start_time": "2024-05-07T13:55:13.695Z"
   },
   {
    "duration": 13,
    "start_time": "2024-05-07T13:55:13.721Z"
   },
   {
    "duration": 49,
    "start_time": "2024-05-07T13:55:13.735Z"
   },
   {
    "duration": 5,
    "start_time": "2024-05-07T13:55:13.786Z"
   },
   {
    "duration": 26,
    "start_time": "2024-05-07T13:55:13.793Z"
   },
   {
    "duration": 9,
    "start_time": "2024-05-07T13:55:13.825Z"
   },
   {
    "duration": 63,
    "start_time": "2024-05-07T13:55:13.837Z"
   },
   {
    "duration": 11,
    "start_time": "2024-05-07T13:55:13.902Z"
   },
   {
    "duration": 20,
    "start_time": "2024-05-07T13:55:13.914Z"
   },
   {
    "duration": 28,
    "start_time": "2024-05-07T13:55:13.936Z"
   },
   {
    "duration": 16,
    "start_time": "2024-05-07T13:55:13.966Z"
   },
   {
    "duration": 21,
    "start_time": "2024-05-07T13:55:13.984Z"
   },
   {
    "duration": 12,
    "start_time": "2024-05-07T13:55:14.006Z"
   },
   {
    "duration": 16,
    "start_time": "2024-05-07T13:55:14.020Z"
   },
   {
    "duration": 13,
    "start_time": "2024-05-07T13:55:14.038Z"
   },
   {
    "duration": 27,
    "start_time": "2024-05-07T13:55:14.053Z"
   },
   {
    "duration": 15,
    "start_time": "2024-05-07T13:55:14.081Z"
   },
   {
    "duration": 6,
    "start_time": "2024-05-07T13:55:14.097Z"
   },
   {
    "duration": 52,
    "start_time": "2024-05-07T13:55:14.105Z"
   },
   {
    "duration": 443,
    "start_time": "2024-05-07T13:55:14.158Z"
   },
   {
    "duration": 193,
    "start_time": "2024-05-07T13:55:14.603Z"
   },
   {
    "duration": 204,
    "start_time": "2024-05-07T13:55:14.798Z"
   },
   {
    "duration": 15,
    "start_time": "2024-05-07T13:55:15.004Z"
   },
   {
    "duration": 78,
    "start_time": "2024-05-07T13:55:15.021Z"
   },
   {
    "duration": 187,
    "start_time": "2024-05-07T13:55:15.101Z"
   },
   {
    "duration": 911,
    "start_time": "2024-05-07T13:55:15.290Z"
   },
   {
    "duration": 55,
    "start_time": "2024-05-07T13:55:16.203Z"
   },
   {
    "duration": 168,
    "start_time": "2024-05-07T13:55:40.270Z"
   },
   {
    "duration": 172,
    "start_time": "2024-05-07T13:56:10.604Z"
   },
   {
    "duration": 410,
    "start_time": "2024-05-08T10:53:02.543Z"
   },
   {
    "duration": 227,
    "start_time": "2024-05-08T10:53:02.955Z"
   },
   {
    "duration": 9,
    "start_time": "2024-05-08T10:53:03.183Z"
   },
   {
    "duration": 29,
    "start_time": "2024-05-08T10:53:03.193Z"
   },
   {
    "duration": 20,
    "start_time": "2024-05-08T10:53:03.223Z"
   },
   {
    "duration": 10,
    "start_time": "2024-05-08T10:53:03.244Z"
   },
   {
    "duration": 10,
    "start_time": "2024-05-08T10:53:03.255Z"
   },
   {
    "duration": 25,
    "start_time": "2024-05-08T10:53:03.266Z"
   },
   {
    "duration": 32,
    "start_time": "2024-05-08T10:53:03.293Z"
   },
   {
    "duration": 5,
    "start_time": "2024-05-08T10:53:03.328Z"
   },
   {
    "duration": 24,
    "start_time": "2024-05-08T10:53:03.334Z"
   },
   {
    "duration": 23,
    "start_time": "2024-05-08T10:53:03.360Z"
   },
   {
    "duration": 5,
    "start_time": "2024-05-08T10:53:03.384Z"
   },
   {
    "duration": 13,
    "start_time": "2024-05-08T10:53:03.390Z"
   },
   {
    "duration": 15,
    "start_time": "2024-05-08T10:53:03.405Z"
   },
   {
    "duration": 37,
    "start_time": "2024-05-08T10:53:03.445Z"
   },
   {
    "duration": 36,
    "start_time": "2024-05-08T10:53:03.483Z"
   },
   {
    "duration": 11,
    "start_time": "2024-05-08T10:53:03.521Z"
   },
   {
    "duration": 13,
    "start_time": "2024-05-08T10:53:03.533Z"
   },
   {
    "duration": 19,
    "start_time": "2024-05-08T10:53:03.548Z"
   },
   {
    "duration": 5,
    "start_time": "2024-05-08T10:53:03.569Z"
   },
   {
    "duration": 11,
    "start_time": "2024-05-08T10:53:03.575Z"
   },
   {
    "duration": 10,
    "start_time": "2024-05-08T10:53:03.587Z"
   },
   {
    "duration": 6,
    "start_time": "2024-05-08T10:53:03.598Z"
   },
   {
    "duration": 51,
    "start_time": "2024-05-08T10:53:03.606Z"
   },
   {
    "duration": 4,
    "start_time": "2024-05-08T10:53:03.659Z"
   },
   {
    "duration": 26,
    "start_time": "2024-05-08T10:53:03.664Z"
   },
   {
    "duration": 49,
    "start_time": "2024-05-08T10:53:03.694Z"
   },
   {
    "duration": 43,
    "start_time": "2024-05-08T10:53:03.744Z"
   },
   {
    "duration": 5,
    "start_time": "2024-05-08T10:53:03.788Z"
   },
   {
    "duration": 14,
    "start_time": "2024-05-08T10:53:03.795Z"
   },
   {
    "duration": 6,
    "start_time": "2024-05-08T10:53:03.810Z"
   },
   {
    "duration": 20,
    "start_time": "2024-05-08T10:53:03.817Z"
   },
   {
    "duration": 16,
    "start_time": "2024-05-08T10:53:03.839Z"
   },
   {
    "duration": 14,
    "start_time": "2024-05-08T10:53:03.857Z"
   },
   {
    "duration": 41,
    "start_time": "2024-05-08T10:53:03.873Z"
   },
   {
    "duration": 5,
    "start_time": "2024-05-08T10:53:03.916Z"
   },
   {
    "duration": 26,
    "start_time": "2024-05-08T10:53:03.923Z"
   },
   {
    "duration": 9,
    "start_time": "2024-05-08T10:53:03.951Z"
   },
   {
    "duration": 23,
    "start_time": "2024-05-08T10:53:03.961Z"
   },
   {
    "duration": 5,
    "start_time": "2024-05-08T10:53:03.986Z"
   },
   {
    "duration": 11,
    "start_time": "2024-05-08T10:53:03.992Z"
   },
   {
    "duration": 9,
    "start_time": "2024-05-08T10:53:04.005Z"
   },
   {
    "duration": 5,
    "start_time": "2024-05-08T10:53:04.015Z"
   },
   {
    "duration": 28,
    "start_time": "2024-05-08T10:53:04.021Z"
   },
   {
    "duration": 9,
    "start_time": "2024-05-08T10:53:04.051Z"
   },
   {
    "duration": 42,
    "start_time": "2024-05-08T10:53:04.062Z"
   },
   {
    "duration": 20,
    "start_time": "2024-05-08T10:53:04.105Z"
   },
   {
    "duration": 15,
    "start_time": "2024-05-08T10:53:04.127Z"
   },
   {
    "duration": 17,
    "start_time": "2024-05-08T10:53:04.143Z"
   },
   {
    "duration": 6,
    "start_time": "2024-05-08T10:53:04.161Z"
   },
   {
    "duration": 23,
    "start_time": "2024-05-08T10:53:04.168Z"
   },
   {
    "duration": 579,
    "start_time": "2024-05-08T10:53:04.192Z"
   },
   {
    "duration": 194,
    "start_time": "2024-05-08T10:53:04.773Z"
   },
   {
    "duration": 171,
    "start_time": "2024-05-08T10:53:04.969Z"
   },
   {
    "duration": 14,
    "start_time": "2024-05-08T10:53:05.145Z"
   },
   {
    "duration": 37,
    "start_time": "2024-05-08T10:53:05.161Z"
   },
   {
    "duration": 165,
    "start_time": "2024-05-08T10:53:05.200Z"
   },
   {
    "duration": 819,
    "start_time": "2024-05-08T10:53:05.366Z"
   },
   {
    "duration": 163,
    "start_time": "2024-05-08T10:53:06.187Z"
   },
   {
    "duration": 155,
    "start_time": "2024-05-08T10:53:49.674Z"
   },
   {
    "duration": 161,
    "start_time": "2024-05-08T10:54:36.811Z"
   },
   {
    "duration": 162,
    "start_time": "2024-05-08T10:54:48.466Z"
   },
   {
    "duration": 185,
    "start_time": "2024-05-08T10:55:03.819Z"
   },
   {
    "duration": 7,
    "start_time": "2024-05-08T11:10:03.958Z"
   },
   {
    "duration": 6,
    "start_time": "2024-05-08T11:10:21.592Z"
   },
   {
    "duration": 9,
    "start_time": "2024-05-08T11:11:22.680Z"
   },
   {
    "duration": 10,
    "start_time": "2024-05-08T11:11:31.512Z"
   },
   {
    "duration": 80,
    "start_time": "2024-05-08T11:11:38.097Z"
   },
   {
    "duration": 19,
    "start_time": "2024-05-08T11:11:46.728Z"
   },
   {
    "duration": 12,
    "start_time": "2024-05-08T11:12:07.415Z"
   },
   {
    "duration": 44,
    "start_time": "2024-05-08T11:12:28.671Z"
   },
   {
    "duration": 15,
    "start_time": "2024-05-08T11:12:35.023Z"
   },
   {
    "duration": 20,
    "start_time": "2024-05-08T11:12:43.991Z"
   },
   {
    "duration": 38,
    "start_time": "2024-05-08T11:12:57.343Z"
   },
   {
    "duration": 10,
    "start_time": "2024-05-08T11:13:39.071Z"
   },
   {
    "duration": 8,
    "start_time": "2024-05-08T11:14:10.936Z"
   },
   {
    "duration": 8,
    "start_time": "2024-05-08T11:14:35.230Z"
   },
   {
    "duration": 12,
    "start_time": "2024-05-08T11:14:36.758Z"
   },
   {
    "duration": 7,
    "start_time": "2024-05-08T11:15:13.030Z"
   },
   {
    "duration": 8,
    "start_time": "2024-05-08T11:15:16.142Z"
   },
   {
    "duration": 8,
    "start_time": "2024-05-08T11:15:40.269Z"
   },
   {
    "duration": 5,
    "start_time": "2024-05-08T11:15:44.934Z"
   },
   {
    "duration": 7,
    "start_time": "2024-05-08T11:16:05.885Z"
   },
   {
    "duration": 7,
    "start_time": "2024-05-08T11:16:16.941Z"
   },
   {
    "duration": 8,
    "start_time": "2024-05-08T11:16:23.861Z"
   },
   {
    "duration": 9,
    "start_time": "2024-05-08T11:23:55.081Z"
   },
   {
    "duration": 7,
    "start_time": "2024-05-08T11:24:11.682Z"
   },
   {
    "duration": 11,
    "start_time": "2024-05-08T11:25:21.809Z"
   },
   {
    "duration": 187,
    "start_time": "2024-05-08T11:29:00.873Z"
   },
   {
    "duration": 158,
    "start_time": "2024-05-08T11:29:05.479Z"
   },
   {
    "duration": 371,
    "start_time": "2024-05-08T11:29:11.500Z"
   },
   {
    "duration": 124,
    "start_time": "2024-05-08T11:29:11.873Z"
   },
   {
    "duration": 8,
    "start_time": "2024-05-08T11:29:12.001Z"
   },
   {
    "duration": 25,
    "start_time": "2024-05-08T11:29:12.010Z"
   },
   {
    "duration": 22,
    "start_time": "2024-05-08T11:29:12.037Z"
   },
   {
    "duration": 19,
    "start_time": "2024-05-08T11:29:12.061Z"
   },
   {
    "duration": 16,
    "start_time": "2024-05-08T11:29:12.081Z"
   },
   {
    "duration": 26,
    "start_time": "2024-05-08T11:29:12.098Z"
   },
   {
    "duration": 33,
    "start_time": "2024-05-08T11:29:12.127Z"
   },
   {
    "duration": 5,
    "start_time": "2024-05-08T11:29:12.162Z"
   },
   {
    "duration": 25,
    "start_time": "2024-05-08T11:29:12.168Z"
   },
   {
    "duration": 22,
    "start_time": "2024-05-08T11:29:12.194Z"
   },
   {
    "duration": 4,
    "start_time": "2024-05-08T11:29:12.218Z"
   },
   {
    "duration": 22,
    "start_time": "2024-05-08T11:29:12.223Z"
   },
   {
    "duration": 14,
    "start_time": "2024-05-08T11:29:12.246Z"
   },
   {
    "duration": 40,
    "start_time": "2024-05-08T11:29:12.261Z"
   },
   {
    "duration": 30,
    "start_time": "2024-05-08T11:29:12.303Z"
   },
   {
    "duration": 18,
    "start_time": "2024-05-08T11:29:12.335Z"
   },
   {
    "duration": 7,
    "start_time": "2024-05-08T11:29:12.354Z"
   },
   {
    "duration": 25,
    "start_time": "2024-05-08T11:29:12.362Z"
   },
   {
    "duration": 12,
    "start_time": "2024-05-08T11:29:12.389Z"
   },
   {
    "duration": 16,
    "start_time": "2024-05-08T11:29:12.402Z"
   },
   {
    "duration": 17,
    "start_time": "2024-05-08T11:29:12.419Z"
   },
   {
    "duration": 67,
    "start_time": "2024-05-08T11:29:12.437Z"
   },
   {
    "duration": 67,
    "start_time": "2024-05-08T11:29:12.506Z"
   },
   {
    "duration": 21,
    "start_time": "2024-05-08T11:29:12.574Z"
   },
   {
    "duration": 24,
    "start_time": "2024-05-08T11:29:12.599Z"
   },
   {
    "duration": 31,
    "start_time": "2024-05-08T11:29:12.624Z"
   },
   {
    "duration": 53,
    "start_time": "2024-05-08T11:29:12.656Z"
   },
   {
    "duration": 4,
    "start_time": "2024-05-08T11:29:12.711Z"
   },
   {
    "duration": 32,
    "start_time": "2024-05-08T11:29:12.716Z"
   },
   {
    "duration": 36,
    "start_time": "2024-05-08T11:29:12.750Z"
   },
   {
    "duration": 18,
    "start_time": "2024-05-08T11:29:12.787Z"
   },
   {
    "duration": 30,
    "start_time": "2024-05-08T11:29:12.807Z"
   },
   {
    "duration": 18,
    "start_time": "2024-05-08T11:29:12.839Z"
   },
   {
    "duration": 30,
    "start_time": "2024-05-08T11:29:12.858Z"
   },
   {
    "duration": 10,
    "start_time": "2024-05-08T11:29:12.890Z"
   },
   {
    "duration": 26,
    "start_time": "2024-05-08T11:29:12.901Z"
   },
   {
    "duration": 14,
    "start_time": "2024-05-08T11:29:12.928Z"
   },
   {
    "duration": 61,
    "start_time": "2024-05-08T11:29:12.943Z"
   },
   {
    "duration": 31,
    "start_time": "2024-05-08T11:29:13.005Z"
   },
   {
    "duration": 34,
    "start_time": "2024-05-08T11:29:13.038Z"
   },
   {
    "duration": 16,
    "start_time": "2024-05-08T11:29:13.074Z"
   },
   {
    "duration": 2,
    "start_time": "2024-05-08T11:29:13.092Z"
   },
   {
    "duration": 18,
    "start_time": "2024-05-08T11:29:13.095Z"
   },
   {
    "duration": 16,
    "start_time": "2024-05-08T11:29:13.115Z"
   },
   {
    "duration": 13,
    "start_time": "2024-05-08T11:29:13.132Z"
   },
   {
    "duration": 16,
    "start_time": "2024-05-08T11:29:13.147Z"
   },
   {
    "duration": 9,
    "start_time": "2024-05-08T11:29:13.165Z"
   },
   {
    "duration": 21,
    "start_time": "2024-05-08T11:29:13.176Z"
   },
   {
    "duration": 6,
    "start_time": "2024-05-08T11:29:13.198Z"
   },
   {
    "duration": 32,
    "start_time": "2024-05-08T11:29:13.205Z"
   },
   {
    "duration": 393,
    "start_time": "2024-05-08T11:29:13.238Z"
   },
   {
    "duration": 183,
    "start_time": "2024-05-08T11:29:13.633Z"
   },
   {
    "duration": 204,
    "start_time": "2024-05-08T11:29:13.818Z"
   },
   {
    "duration": 21,
    "start_time": "2024-05-08T11:29:14.024Z"
   },
   {
    "duration": 18,
    "start_time": "2024-05-08T11:29:14.047Z"
   },
   {
    "duration": 167,
    "start_time": "2024-05-08T11:29:14.067Z"
   },
   {
    "duration": 789,
    "start_time": "2024-05-08T11:29:14.236Z"
   },
   {
    "duration": 169,
    "start_time": "2024-05-08T11:29:15.027Z"
   },
   {
    "duration": 194,
    "start_time": "2024-05-08T11:29:15.198Z"
   },
   {
    "duration": 6,
    "start_time": "2024-05-08T11:29:15.393Z"
   },
   {
    "duration": 23,
    "start_time": "2024-05-08T11:29:15.400Z"
   },
   {
    "duration": 34,
    "start_time": "2024-05-08T11:29:15.425Z"
   },
   {
    "duration": 45,
    "start_time": "2024-05-08T11:29:15.460Z"
   },
   {
    "duration": 73,
    "start_time": "2024-05-08T11:31:08.665Z"
   },
   {
    "duration": 142,
    "start_time": "2024-05-08T11:31:16.063Z"
   },
   {
    "duration": 151,
    "start_time": "2024-05-08T11:32:34.944Z"
   },
   {
    "duration": 4,
    "start_time": "2024-05-08T11:36:08.413Z"
   },
   {
    "duration": 165,
    "start_time": "2024-05-08T11:37:21.205Z"
   },
   {
    "duration": 177,
    "start_time": "2024-05-08T11:37:39.309Z"
   },
   {
    "duration": 21,
    "start_time": "2024-05-08T11:37:58.573Z"
   },
   {
    "duration": 209,
    "start_time": "2024-05-08T11:38:08.221Z"
   },
   {
    "duration": 166,
    "start_time": "2024-05-08T11:38:55.316Z"
   },
   {
    "duration": 246,
    "start_time": "2024-05-08T11:40:54.780Z"
   },
   {
    "duration": 171,
    "start_time": "2024-05-08T11:41:21.716Z"
   },
   {
    "duration": 169,
    "start_time": "2024-05-08T11:41:33.899Z"
   },
   {
    "duration": 183,
    "start_time": "2024-05-08T13:14:42.319Z"
   },
   {
    "duration": 156,
    "start_time": "2024-05-08T13:14:55.801Z"
   },
   {
    "duration": 155,
    "start_time": "2024-05-08T13:15:26.566Z"
   },
   {
    "duration": 413,
    "start_time": "2024-05-09T10:04:09.907Z"
   },
   {
    "duration": 374,
    "start_time": "2024-05-09T10:04:10.322Z"
   },
   {
    "duration": 10,
    "start_time": "2024-05-09T10:04:10.697Z"
   },
   {
    "duration": 20,
    "start_time": "2024-05-09T10:04:10.709Z"
   },
   {
    "duration": 17,
    "start_time": "2024-05-09T10:04:10.731Z"
   },
   {
    "duration": 34,
    "start_time": "2024-05-09T10:04:10.749Z"
   },
   {
    "duration": 18,
    "start_time": "2024-05-09T10:04:10.785Z"
   },
   {
    "duration": 31,
    "start_time": "2024-05-09T10:04:10.805Z"
   },
   {
    "duration": 25,
    "start_time": "2024-05-09T10:04:10.838Z"
   },
   {
    "duration": 7,
    "start_time": "2024-05-09T10:04:10.865Z"
   },
   {
    "duration": 32,
    "start_time": "2024-05-09T10:04:10.873Z"
   },
   {
    "duration": 35,
    "start_time": "2024-05-09T10:04:10.906Z"
   },
   {
    "duration": 9,
    "start_time": "2024-05-09T10:04:10.943Z"
   },
   {
    "duration": 18,
    "start_time": "2024-05-09T10:04:10.953Z"
   },
   {
    "duration": 28,
    "start_time": "2024-05-09T10:04:10.972Z"
   },
   {
    "duration": 41,
    "start_time": "2024-05-09T10:04:11.001Z"
   },
   {
    "duration": 34,
    "start_time": "2024-05-09T10:04:11.044Z"
   },
   {
    "duration": 12,
    "start_time": "2024-05-09T10:04:11.079Z"
   },
   {
    "duration": 14,
    "start_time": "2024-05-09T10:04:11.093Z"
   },
   {
    "duration": 30,
    "start_time": "2024-05-09T10:04:11.109Z"
   },
   {
    "duration": 21,
    "start_time": "2024-05-09T10:04:11.141Z"
   },
   {
    "duration": 16,
    "start_time": "2024-05-09T10:04:11.164Z"
   },
   {
    "duration": 15,
    "start_time": "2024-05-09T10:04:11.182Z"
   },
   {
    "duration": 14,
    "start_time": "2024-05-09T10:04:11.199Z"
   },
   {
    "duration": 58,
    "start_time": "2024-05-09T10:04:11.214Z"
   },
   {
    "duration": 6,
    "start_time": "2024-05-09T10:04:11.274Z"
   },
   {
    "duration": 29,
    "start_time": "2024-05-09T10:04:11.282Z"
   },
   {
    "duration": 5,
    "start_time": "2024-05-09T10:04:11.315Z"
   },
   {
    "duration": 43,
    "start_time": "2024-05-09T10:04:11.322Z"
   },
   {
    "duration": 4,
    "start_time": "2024-05-09T10:04:11.367Z"
   },
   {
    "duration": 40,
    "start_time": "2024-05-09T10:04:11.373Z"
   },
   {
    "duration": 10,
    "start_time": "2024-05-09T10:04:11.415Z"
   },
   {
    "duration": 9,
    "start_time": "2024-05-09T10:04:11.427Z"
   },
   {
    "duration": 22,
    "start_time": "2024-05-09T10:04:11.438Z"
   },
   {
    "duration": 14,
    "start_time": "2024-05-09T10:04:11.462Z"
   },
   {
    "duration": 32,
    "start_time": "2024-05-09T10:04:11.477Z"
   },
   {
    "duration": 5,
    "start_time": "2024-05-09T10:04:11.511Z"
   },
   {
    "duration": 45,
    "start_time": "2024-05-09T10:04:11.518Z"
   },
   {
    "duration": 6,
    "start_time": "2024-05-09T10:04:11.565Z"
   },
   {
    "duration": 31,
    "start_time": "2024-05-09T10:04:11.573Z"
   },
   {
    "duration": 5,
    "start_time": "2024-05-09T10:04:11.606Z"
   },
   {
    "duration": 28,
    "start_time": "2024-05-09T10:04:11.613Z"
   },
   {
    "duration": 48,
    "start_time": "2024-05-09T10:04:11.643Z"
   },
   {
    "duration": 9,
    "start_time": "2024-05-09T10:04:11.692Z"
   },
   {
    "duration": 42,
    "start_time": "2024-05-09T10:04:11.703Z"
   },
   {
    "duration": 14,
    "start_time": "2024-05-09T10:04:11.747Z"
   },
   {
    "duration": 15,
    "start_time": "2024-05-09T10:04:11.762Z"
   },
   {
    "duration": 6,
    "start_time": "2024-05-09T10:04:11.779Z"
   },
   {
    "duration": 17,
    "start_time": "2024-05-09T10:04:11.786Z"
   },
   {
    "duration": 35,
    "start_time": "2024-05-09T10:04:11.805Z"
   },
   {
    "duration": 10,
    "start_time": "2024-05-09T10:04:11.841Z"
   },
   {
    "duration": 27,
    "start_time": "2024-05-09T10:04:11.852Z"
   },
   {
    "duration": 649,
    "start_time": "2024-05-09T10:04:11.880Z"
   },
   {
    "duration": 209,
    "start_time": "2024-05-09T10:04:12.531Z"
   },
   {
    "duration": 221,
    "start_time": "2024-05-09T10:04:12.742Z"
   },
   {
    "duration": 20,
    "start_time": "2024-05-09T10:04:12.966Z"
   },
   {
    "duration": 24,
    "start_time": "2024-05-09T10:04:12.988Z"
   },
   {
    "duration": 198,
    "start_time": "2024-05-09T10:04:13.013Z"
   },
   {
    "duration": 890,
    "start_time": "2024-05-09T10:04:13.212Z"
   },
   {
    "duration": 191,
    "start_time": "2024-05-09T10:04:14.104Z"
   },
   {
    "duration": 216,
    "start_time": "2024-05-09T10:04:14.298Z"
   },
   {
    "duration": 8,
    "start_time": "2024-05-09T10:04:14.516Z"
   },
   {
    "duration": 34,
    "start_time": "2024-05-09T10:04:14.526Z"
   },
   {
    "duration": 10,
    "start_time": "2024-05-09T10:04:14.562Z"
   },
   {
    "duration": 10,
    "start_time": "2024-05-09T10:04:14.574Z"
   },
   {
    "duration": 189,
    "start_time": "2024-05-09T10:04:14.586Z"
   },
   {
    "duration": 4,
    "start_time": "2024-05-09T10:04:14.777Z"
   },
   {
    "duration": 209,
    "start_time": "2024-05-09T10:04:14.782Z"
   },
   {
    "duration": 204,
    "start_time": "2024-05-09T10:04:14.992Z"
   },
   {
    "duration": 418,
    "start_time": "2024-05-09T12:38:04.200Z"
   },
   {
    "duration": 369,
    "start_time": "2024-05-09T12:38:04.620Z"
   },
   {
    "duration": 8,
    "start_time": "2024-05-09T12:38:04.991Z"
   },
   {
    "duration": 28,
    "start_time": "2024-05-09T12:38:05.001Z"
   },
   {
    "duration": 37,
    "start_time": "2024-05-09T12:38:05.031Z"
   },
   {
    "duration": 14,
    "start_time": "2024-05-09T12:38:05.070Z"
   },
   {
    "duration": 12,
    "start_time": "2024-05-09T12:38:05.085Z"
   },
   {
    "duration": 59,
    "start_time": "2024-05-09T12:38:05.099Z"
   },
   {
    "duration": 77,
    "start_time": "2024-05-09T12:38:05.160Z"
   },
   {
    "duration": 25,
    "start_time": "2024-05-09T12:38:05.241Z"
   },
   {
    "duration": 41,
    "start_time": "2024-05-09T12:38:05.268Z"
   },
   {
    "duration": 23,
    "start_time": "2024-05-09T12:38:05.311Z"
   },
   {
    "duration": 11,
    "start_time": "2024-05-09T12:38:05.336Z"
   },
   {
    "duration": 18,
    "start_time": "2024-05-09T12:38:05.349Z"
   },
   {
    "duration": 33,
    "start_time": "2024-05-09T12:38:05.368Z"
   },
   {
    "duration": 41,
    "start_time": "2024-05-09T12:38:05.403Z"
   },
   {
    "duration": 36,
    "start_time": "2024-05-09T12:38:05.446Z"
   },
   {
    "duration": 15,
    "start_time": "2024-05-09T12:38:05.484Z"
   },
   {
    "duration": 28,
    "start_time": "2024-05-09T12:38:05.502Z"
   },
   {
    "duration": 45,
    "start_time": "2024-05-09T12:38:05.532Z"
   },
   {
    "duration": 5,
    "start_time": "2024-05-09T12:38:05.578Z"
   },
   {
    "duration": 25,
    "start_time": "2024-05-09T12:38:05.584Z"
   },
   {
    "duration": 6,
    "start_time": "2024-05-09T12:38:05.610Z"
   },
   {
    "duration": 7,
    "start_time": "2024-05-09T12:38:05.617Z"
   },
   {
    "duration": 27,
    "start_time": "2024-05-09T12:38:05.626Z"
   },
   {
    "duration": 4,
    "start_time": "2024-05-09T12:38:05.658Z"
   },
   {
    "duration": 17,
    "start_time": "2024-05-09T12:38:05.663Z"
   },
   {
    "duration": 25,
    "start_time": "2024-05-09T12:38:05.684Z"
   },
   {
    "duration": 30,
    "start_time": "2024-05-09T12:38:05.711Z"
   },
   {
    "duration": 4,
    "start_time": "2024-05-09T12:38:05.742Z"
   },
   {
    "duration": 49,
    "start_time": "2024-05-09T12:38:05.747Z"
   },
   {
    "duration": 22,
    "start_time": "2024-05-09T12:38:05.797Z"
   },
   {
    "duration": 23,
    "start_time": "2024-05-09T12:38:05.821Z"
   },
   {
    "duration": 34,
    "start_time": "2024-05-09T12:38:05.846Z"
   },
   {
    "duration": 34,
    "start_time": "2024-05-09T12:38:05.882Z"
   },
   {
    "duration": 34,
    "start_time": "2024-05-09T12:38:05.917Z"
   },
   {
    "duration": 4,
    "start_time": "2024-05-09T12:38:05.953Z"
   },
   {
    "duration": 38,
    "start_time": "2024-05-09T12:38:05.959Z"
   },
   {
    "duration": 5,
    "start_time": "2024-05-09T12:38:05.999Z"
   },
   {
    "duration": 46,
    "start_time": "2024-05-09T12:38:06.005Z"
   },
   {
    "duration": 13,
    "start_time": "2024-05-09T12:38:06.052Z"
   },
   {
    "duration": 28,
    "start_time": "2024-05-09T12:38:06.066Z"
   },
   {
    "duration": 26,
    "start_time": "2024-05-09T12:38:06.096Z"
   },
   {
    "duration": 8,
    "start_time": "2024-05-09T12:38:06.124Z"
   },
   {
    "duration": 15,
    "start_time": "2024-05-09T12:38:06.134Z"
   },
   {
    "duration": 11,
    "start_time": "2024-05-09T12:38:06.151Z"
   },
   {
    "duration": 14,
    "start_time": "2024-05-09T12:38:06.163Z"
   },
   {
    "duration": 4,
    "start_time": "2024-05-09T12:38:06.179Z"
   },
   {
    "duration": 19,
    "start_time": "2024-05-09T12:38:06.184Z"
   },
   {
    "duration": 35,
    "start_time": "2024-05-09T12:38:06.205Z"
   },
   {
    "duration": 8,
    "start_time": "2024-05-09T12:38:06.242Z"
   },
   {
    "duration": 26,
    "start_time": "2024-05-09T12:38:06.252Z"
   },
   {
    "duration": 487,
    "start_time": "2024-05-09T12:38:06.280Z"
   },
   {
    "duration": 192,
    "start_time": "2024-05-09T12:38:06.768Z"
   },
   {
    "duration": 198,
    "start_time": "2024-05-09T12:38:06.962Z"
   },
   {
    "duration": 16,
    "start_time": "2024-05-09T12:38:07.162Z"
   },
   {
    "duration": 21,
    "start_time": "2024-05-09T12:38:07.180Z"
   },
   {
    "duration": 197,
    "start_time": "2024-05-09T12:38:07.202Z"
   },
   {
    "duration": 933,
    "start_time": "2024-05-09T12:38:07.401Z"
   },
   {
    "duration": 182,
    "start_time": "2024-05-09T12:38:08.337Z"
   },
   {
    "duration": 205,
    "start_time": "2024-05-09T12:38:08.521Z"
   },
   {
    "duration": 6,
    "start_time": "2024-05-09T12:38:08.727Z"
   },
   {
    "duration": 26,
    "start_time": "2024-05-09T12:38:08.735Z"
   },
   {
    "duration": 11,
    "start_time": "2024-05-09T12:38:08.763Z"
   },
   {
    "duration": 23,
    "start_time": "2024-05-09T12:38:08.775Z"
   },
   {
    "duration": 164,
    "start_time": "2024-05-09T12:38:08.800Z"
   },
   {
    "duration": 4,
    "start_time": "2024-05-09T12:38:08.966Z"
   },
   {
    "duration": 206,
    "start_time": "2024-05-09T12:38:08.971Z"
   },
   {
    "duration": 190,
    "start_time": "2024-05-09T12:38:09.179Z"
   },
   {
    "duration": 430,
    "start_time": "2024-05-09T12:39:49.903Z"
   },
   {
    "duration": 133,
    "start_time": "2024-05-09T12:39:50.335Z"
   },
   {
    "duration": 9,
    "start_time": "2024-05-09T12:39:50.470Z"
   },
   {
    "duration": 31,
    "start_time": "2024-05-09T12:39:50.481Z"
   },
   {
    "duration": 22,
    "start_time": "2024-05-09T12:39:50.514Z"
   },
   {
    "duration": 20,
    "start_time": "2024-05-09T12:39:50.538Z"
   },
   {
    "duration": 17,
    "start_time": "2024-05-09T12:39:50.559Z"
   },
   {
    "duration": 48,
    "start_time": "2024-05-09T12:39:50.578Z"
   },
   {
    "duration": 45,
    "start_time": "2024-05-09T12:39:50.629Z"
   },
   {
    "duration": 7,
    "start_time": "2024-05-09T12:39:50.677Z"
   },
   {
    "duration": 25,
    "start_time": "2024-05-09T12:39:50.685Z"
   },
   {
    "duration": 25,
    "start_time": "2024-05-09T12:39:50.712Z"
   },
   {
    "duration": 28,
    "start_time": "2024-05-09T12:39:50.739Z"
   },
   {
    "duration": 42,
    "start_time": "2024-05-09T12:39:50.769Z"
   },
   {
    "duration": 27,
    "start_time": "2024-05-09T12:39:50.813Z"
   },
   {
    "duration": 27,
    "start_time": "2024-05-09T12:39:50.841Z"
   },
   {
    "duration": 40,
    "start_time": "2024-05-09T12:39:50.870Z"
   },
   {
    "duration": 13,
    "start_time": "2024-05-09T12:39:50.911Z"
   },
   {
    "duration": 5,
    "start_time": "2024-05-09T12:39:50.925Z"
   },
   {
    "duration": 38,
    "start_time": "2024-05-09T12:39:50.932Z"
   },
   {
    "duration": 5,
    "start_time": "2024-05-09T12:39:50.972Z"
   },
   {
    "duration": 37,
    "start_time": "2024-05-09T12:39:50.979Z"
   },
   {
    "duration": 11,
    "start_time": "2024-05-09T12:39:51.017Z"
   },
   {
    "duration": 21,
    "start_time": "2024-05-09T12:39:51.030Z"
   },
   {
    "duration": 97,
    "start_time": "2024-05-09T12:39:51.054Z"
   },
   {
    "duration": 5,
    "start_time": "2024-05-09T12:39:51.153Z"
   },
   {
    "duration": 30,
    "start_time": "2024-05-09T12:39:51.159Z"
   },
   {
    "duration": 13,
    "start_time": "2024-05-09T12:39:51.193Z"
   },
   {
    "duration": 46,
    "start_time": "2024-05-09T12:39:51.208Z"
   },
   {
    "duration": 4,
    "start_time": "2024-05-09T12:39:51.256Z"
   },
   {
    "duration": 41,
    "start_time": "2024-05-09T12:39:51.262Z"
   },
   {
    "duration": 29,
    "start_time": "2024-05-09T12:39:51.304Z"
   },
   {
    "duration": 18,
    "start_time": "2024-05-09T12:39:51.335Z"
   },
   {
    "duration": 25,
    "start_time": "2024-05-09T12:39:51.355Z"
   },
   {
    "duration": 34,
    "start_time": "2024-05-09T12:39:51.382Z"
   },
   {
    "duration": 21,
    "start_time": "2024-05-09T12:39:51.417Z"
   },
   {
    "duration": 22,
    "start_time": "2024-05-09T12:39:51.440Z"
   },
   {
    "duration": 28,
    "start_time": "2024-05-09T12:39:51.464Z"
   },
   {
    "duration": 6,
    "start_time": "2024-05-09T12:39:51.494Z"
   },
   {
    "duration": 43,
    "start_time": "2024-05-09T12:39:51.501Z"
   },
   {
    "duration": 17,
    "start_time": "2024-05-09T12:39:51.546Z"
   },
   {
    "duration": 15,
    "start_time": "2024-05-09T12:39:51.565Z"
   },
   {
    "duration": 15,
    "start_time": "2024-05-09T12:39:51.581Z"
   },
   {
    "duration": 15,
    "start_time": "2024-05-09T12:39:51.598Z"
   },
   {
    "duration": 23,
    "start_time": "2024-05-09T12:39:51.615Z"
   },
   {
    "duration": 29,
    "start_time": "2024-05-09T12:39:51.639Z"
   },
   {
    "duration": 16,
    "start_time": "2024-05-09T12:39:51.669Z"
   },
   {
    "duration": 21,
    "start_time": "2024-05-09T12:39:51.686Z"
   },
   {
    "duration": 11,
    "start_time": "2024-05-09T12:39:51.709Z"
   },
   {
    "duration": 14,
    "start_time": "2024-05-09T12:39:51.722Z"
   },
   {
    "duration": 6,
    "start_time": "2024-05-09T12:39:51.738Z"
   },
   {
    "duration": 32,
    "start_time": "2024-05-09T12:39:51.745Z"
   },
   {
    "duration": 461,
    "start_time": "2024-05-09T12:39:51.779Z"
   },
   {
    "duration": 202,
    "start_time": "2024-05-09T12:39:52.241Z"
   },
   {
    "duration": 188,
    "start_time": "2024-05-09T12:39:52.444Z"
   },
   {
    "duration": 15,
    "start_time": "2024-05-09T12:39:52.633Z"
   },
   {
    "duration": 18,
    "start_time": "2024-05-09T12:39:52.659Z"
   },
   {
    "duration": 181,
    "start_time": "2024-05-09T12:39:52.679Z"
   },
   {
    "duration": 908,
    "start_time": "2024-05-09T12:39:52.862Z"
   },
   {
    "duration": 181,
    "start_time": "2024-05-09T12:39:53.772Z"
   },
   {
    "duration": 199,
    "start_time": "2024-05-09T12:39:53.955Z"
   },
   {
    "duration": 7,
    "start_time": "2024-05-09T12:39:54.158Z"
   },
   {
    "duration": 27,
    "start_time": "2024-05-09T12:39:54.166Z"
   },
   {
    "duration": 16,
    "start_time": "2024-05-09T12:39:54.195Z"
   },
   {
    "duration": 11,
    "start_time": "2024-05-09T12:39:54.212Z"
   },
   {
    "duration": 170,
    "start_time": "2024-05-09T12:39:54.225Z"
   },
   {
    "duration": 4,
    "start_time": "2024-05-09T12:39:54.397Z"
   },
   {
    "duration": 204,
    "start_time": "2024-05-09T12:39:54.402Z"
   },
   {
    "duration": 193,
    "start_time": "2024-05-09T12:39:54.607Z"
   },
   {
    "duration": 476,
    "start_time": "2024-05-09T13:02:53.752Z"
   },
   {
    "duration": 128,
    "start_time": "2024-05-09T13:02:54.231Z"
   },
   {
    "duration": 8,
    "start_time": "2024-05-09T13:02:54.361Z"
   },
   {
    "duration": 22,
    "start_time": "2024-05-09T13:02:54.371Z"
   },
   {
    "duration": 18,
    "start_time": "2024-05-09T13:02:54.395Z"
   },
   {
    "duration": 11,
    "start_time": "2024-05-09T13:02:54.414Z"
   },
   {
    "duration": 7,
    "start_time": "2024-05-09T13:02:54.426Z"
   },
   {
    "duration": 19,
    "start_time": "2024-05-09T13:02:54.460Z"
   },
   {
    "duration": 25,
    "start_time": "2024-05-09T13:02:54.481Z"
   },
   {
    "duration": 5,
    "start_time": "2024-05-09T13:02:54.509Z"
   },
   {
    "duration": 19,
    "start_time": "2024-05-09T13:02:54.515Z"
   },
   {
    "duration": 25,
    "start_time": "2024-05-09T13:02:54.558Z"
   },
   {
    "duration": 6,
    "start_time": "2024-05-09T13:02:54.585Z"
   },
   {
    "duration": 11,
    "start_time": "2024-05-09T13:02:54.593Z"
   },
   {
    "duration": 16,
    "start_time": "2024-05-09T13:02:54.605Z"
   },
   {
    "duration": 53,
    "start_time": "2024-05-09T13:02:54.622Z"
   },
   {
    "duration": 34,
    "start_time": "2024-05-09T13:02:54.677Z"
   },
   {
    "duration": 11,
    "start_time": "2024-05-09T13:02:54.713Z"
   },
   {
    "duration": 7,
    "start_time": "2024-05-09T13:02:54.726Z"
   },
   {
    "duration": 36,
    "start_time": "2024-05-09T13:02:54.734Z"
   },
   {
    "duration": 5,
    "start_time": "2024-05-09T13:02:54.772Z"
   },
   {
    "duration": 10,
    "start_time": "2024-05-09T13:02:54.778Z"
   },
   {
    "duration": 11,
    "start_time": "2024-05-09T13:02:54.790Z"
   },
   {
    "duration": 7,
    "start_time": "2024-05-09T13:02:54.802Z"
   },
   {
    "duration": 48,
    "start_time": "2024-05-09T13:02:54.811Z"
   },
   {
    "duration": 6,
    "start_time": "2024-05-09T13:02:54.862Z"
   },
   {
    "duration": 13,
    "start_time": "2024-05-09T13:02:54.869Z"
   },
   {
    "duration": 4,
    "start_time": "2024-05-09T13:02:54.887Z"
   },
   {
    "duration": 25,
    "start_time": "2024-05-09T13:02:54.893Z"
   },
   {
    "duration": 5,
    "start_time": "2024-05-09T13:02:54.920Z"
   },
   {
    "duration": 47,
    "start_time": "2024-05-09T13:02:54.926Z"
   },
   {
    "duration": 4,
    "start_time": "2024-05-09T13:02:54.975Z"
   },
   {
    "duration": 12,
    "start_time": "2024-05-09T13:02:54.980Z"
   },
   {
    "duration": 17,
    "start_time": "2024-05-09T13:02:54.993Z"
   },
   {
    "duration": 17,
    "start_time": "2024-05-09T13:02:55.011Z"
   },
   {
    "duration": 48,
    "start_time": "2024-05-09T13:02:55.029Z"
   },
   {
    "duration": 5,
    "start_time": "2024-05-09T13:02:55.079Z"
   },
   {
    "duration": 34,
    "start_time": "2024-05-09T13:02:55.085Z"
   },
   {
    "duration": 6,
    "start_time": "2024-05-09T13:02:55.120Z"
   },
   {
    "duration": 33,
    "start_time": "2024-05-09T13:02:55.127Z"
   },
   {
    "duration": 22,
    "start_time": "2024-05-09T13:02:55.162Z"
   },
   {
    "duration": 9,
    "start_time": "2024-05-09T13:02:55.185Z"
   },
   {
    "duration": 29,
    "start_time": "2024-05-09T13:02:55.195Z"
   },
   {
    "duration": 3,
    "start_time": "2024-05-09T13:02:55.226Z"
   },
   {
    "duration": 26,
    "start_time": "2024-05-09T13:02:55.230Z"
   },
   {
    "duration": 12,
    "start_time": "2024-05-09T13:02:55.257Z"
   },
   {
    "duration": 17,
    "start_time": "2024-05-09T13:02:55.270Z"
   },
   {
    "duration": 18,
    "start_time": "2024-05-09T13:02:55.289Z"
   },
   {
    "duration": 22,
    "start_time": "2024-05-09T13:02:55.308Z"
   },
   {
    "duration": 30,
    "start_time": "2024-05-09T13:02:55.331Z"
   },
   {
    "duration": 6,
    "start_time": "2024-05-09T13:02:55.362Z"
   },
   {
    "duration": 29,
    "start_time": "2024-05-09T13:02:55.370Z"
   },
   {
    "duration": 474,
    "start_time": "2024-05-09T13:02:55.401Z"
   },
   {
    "duration": 191,
    "start_time": "2024-05-09T13:02:55.877Z"
   },
   {
    "duration": 191,
    "start_time": "2024-05-09T13:02:56.069Z"
   },
   {
    "duration": 15,
    "start_time": "2024-05-09T13:02:56.262Z"
   },
   {
    "duration": 33,
    "start_time": "2024-05-09T13:02:56.278Z"
   },
   {
    "duration": 176,
    "start_time": "2024-05-09T13:02:56.312Z"
   },
   {
    "duration": 900,
    "start_time": "2024-05-09T13:02:56.490Z"
   },
   {
    "duration": 182,
    "start_time": "2024-05-09T13:02:57.392Z"
   },
   {
    "duration": 209,
    "start_time": "2024-05-09T13:02:57.576Z"
   },
   {
    "duration": 8,
    "start_time": "2024-05-09T13:02:57.787Z"
   },
   {
    "duration": 10,
    "start_time": "2024-05-09T13:02:57.796Z"
   },
   {
    "duration": 11,
    "start_time": "2024-05-09T13:02:57.807Z"
   },
   {
    "duration": 10,
    "start_time": "2024-05-09T13:02:57.819Z"
   },
   {
    "duration": 186,
    "start_time": "2024-05-09T13:02:57.830Z"
   },
   {
    "duration": 4,
    "start_time": "2024-05-09T13:02:58.018Z"
   },
   {
    "duration": 204,
    "start_time": "2024-05-09T13:02:58.023Z"
   },
   {
    "duration": 196,
    "start_time": "2024-05-09T13:02:58.229Z"
   },
   {
    "duration": 7,
    "start_time": "2024-05-09T13:06:26.488Z"
   },
   {
    "duration": 6,
    "start_time": "2024-05-09T13:06:34.367Z"
   },
   {
    "duration": 7,
    "start_time": "2024-05-09T13:07:06.956Z"
   },
   {
    "duration": 6,
    "start_time": "2024-05-09T13:08:02.024Z"
   },
   {
    "duration": 42,
    "start_time": "2024-05-09T13:18:54.233Z"
   },
   {
    "duration": 50,
    "start_time": "2024-05-09T15:36:27.810Z"
   },
   {
    "duration": 422,
    "start_time": "2024-05-09T15:36:41.965Z"
   },
   {
    "duration": 224,
    "start_time": "2024-05-09T15:36:42.388Z"
   },
   {
    "duration": 9,
    "start_time": "2024-05-09T15:36:42.614Z"
   },
   {
    "duration": 15,
    "start_time": "2024-05-09T15:36:42.625Z"
   },
   {
    "duration": 15,
    "start_time": "2024-05-09T15:36:42.641Z"
   },
   {
    "duration": 9,
    "start_time": "2024-05-09T15:36:42.657Z"
   },
   {
    "duration": 19,
    "start_time": "2024-05-09T15:36:42.668Z"
   },
   {
    "duration": 16,
    "start_time": "2024-05-09T15:36:42.689Z"
   },
   {
    "duration": 17,
    "start_time": "2024-05-09T15:36:42.706Z"
   },
   {
    "duration": 4,
    "start_time": "2024-05-09T15:36:42.726Z"
   },
   {
    "duration": 32,
    "start_time": "2024-05-09T15:36:42.731Z"
   },
   {
    "duration": 33,
    "start_time": "2024-05-09T15:36:42.764Z"
   },
   {
    "duration": 4,
    "start_time": "2024-05-09T15:36:42.799Z"
   },
   {
    "duration": 9,
    "start_time": "2024-05-09T15:36:42.805Z"
   },
   {
    "duration": 13,
    "start_time": "2024-05-09T15:36:42.816Z"
   },
   {
    "duration": 63,
    "start_time": "2024-05-09T15:36:42.830Z"
   },
   {
    "duration": 63,
    "start_time": "2024-05-09T15:36:42.895Z"
   },
   {
    "duration": 10,
    "start_time": "2024-05-09T15:36:42.960Z"
   },
   {
    "duration": 4,
    "start_time": "2024-05-09T15:36:42.972Z"
   },
   {
    "duration": 21,
    "start_time": "2024-05-09T15:36:42.978Z"
   },
   {
    "duration": 5,
    "start_time": "2024-05-09T15:36:43.000Z"
   },
   {
    "duration": 5,
    "start_time": "2024-05-09T15:36:43.006Z"
   },
   {
    "duration": 10,
    "start_time": "2024-05-09T15:36:43.012Z"
   },
   {
    "duration": 5,
    "start_time": "2024-05-09T15:36:43.024Z"
   },
   {
    "duration": 48,
    "start_time": "2024-05-09T15:36:43.031Z"
   },
   {
    "duration": 5,
    "start_time": "2024-05-09T15:36:43.081Z"
   },
   {
    "duration": 19,
    "start_time": "2024-05-09T15:36:43.088Z"
   },
   {
    "duration": 3,
    "start_time": "2024-05-09T15:36:43.110Z"
   },
   {
    "duration": 42,
    "start_time": "2024-05-09T15:36:43.115Z"
   },
   {
    "duration": 4,
    "start_time": "2024-05-09T15:36:43.159Z"
   },
   {
    "duration": 20,
    "start_time": "2024-05-09T15:36:43.164Z"
   },
   {
    "duration": 4,
    "start_time": "2024-05-09T15:36:43.186Z"
   },
   {
    "duration": 11,
    "start_time": "2024-05-09T15:36:43.191Z"
   },
   {
    "duration": 28,
    "start_time": "2024-05-09T15:36:43.203Z"
   },
   {
    "duration": 26,
    "start_time": "2024-05-09T15:36:43.232Z"
   },
   {
    "duration": 24,
    "start_time": "2024-05-09T15:36:43.260Z"
   },
   {
    "duration": 4,
    "start_time": "2024-05-09T15:36:43.285Z"
   },
   {
    "duration": 15,
    "start_time": "2024-05-09T15:36:43.291Z"
   },
   {
    "duration": 83,
    "start_time": "2024-05-09T15:36:43.307Z"
   },
   {
    "duration": 0,
    "start_time": "2024-05-09T15:36:43.392Z"
   },
   {
    "duration": 0,
    "start_time": "2024-05-09T15:36:43.393Z"
   },
   {
    "duration": 0,
    "start_time": "2024-05-09T15:36:43.394Z"
   },
   {
    "duration": 0,
    "start_time": "2024-05-09T15:36:43.395Z"
   },
   {
    "duration": 0,
    "start_time": "2024-05-09T15:36:43.396Z"
   },
   {
    "duration": 0,
    "start_time": "2024-05-09T15:36:43.397Z"
   },
   {
    "duration": 0,
    "start_time": "2024-05-09T15:36:43.399Z"
   },
   {
    "duration": 0,
    "start_time": "2024-05-09T15:36:43.400Z"
   },
   {
    "duration": 0,
    "start_time": "2024-05-09T15:36:43.401Z"
   },
   {
    "duration": 0,
    "start_time": "2024-05-09T15:36:43.402Z"
   },
   {
    "duration": 0,
    "start_time": "2024-05-09T15:36:43.403Z"
   },
   {
    "duration": 0,
    "start_time": "2024-05-09T15:36:43.404Z"
   },
   {
    "duration": 0,
    "start_time": "2024-05-09T15:36:43.405Z"
   },
   {
    "duration": 0,
    "start_time": "2024-05-09T15:36:43.406Z"
   },
   {
    "duration": 0,
    "start_time": "2024-05-09T15:36:43.407Z"
   },
   {
    "duration": 0,
    "start_time": "2024-05-09T15:36:43.408Z"
   },
   {
    "duration": 0,
    "start_time": "2024-05-09T15:36:43.409Z"
   },
   {
    "duration": 0,
    "start_time": "2024-05-09T15:36:43.410Z"
   },
   {
    "duration": 0,
    "start_time": "2024-05-09T15:36:43.410Z"
   },
   {
    "duration": 0,
    "start_time": "2024-05-09T15:36:43.412Z"
   },
   {
    "duration": 0,
    "start_time": "2024-05-09T15:36:43.412Z"
   },
   {
    "duration": 0,
    "start_time": "2024-05-09T15:36:43.413Z"
   },
   {
    "duration": 0,
    "start_time": "2024-05-09T15:36:43.414Z"
   },
   {
    "duration": 0,
    "start_time": "2024-05-09T15:36:43.415Z"
   },
   {
    "duration": 0,
    "start_time": "2024-05-09T15:36:43.456Z"
   },
   {
    "duration": 0,
    "start_time": "2024-05-09T15:36:43.456Z"
   },
   {
    "duration": 0,
    "start_time": "2024-05-09T15:36:43.458Z"
   },
   {
    "duration": 0,
    "start_time": "2024-05-09T15:36:43.459Z"
   },
   {
    "duration": 0,
    "start_time": "2024-05-09T15:36:43.459Z"
   },
   {
    "duration": 0,
    "start_time": "2024-05-09T15:36:43.460Z"
   },
   {
    "duration": 0,
    "start_time": "2024-05-09T15:36:43.461Z"
   },
   {
    "duration": 9,
    "start_time": "2024-05-09T15:39:41.743Z"
   },
   {
    "duration": 3,
    "start_time": "2024-05-09T15:48:51.129Z"
   },
   {
    "duration": 137,
    "start_time": "2024-05-09T15:48:51.136Z"
   },
   {
    "duration": 4,
    "start_time": "2024-05-09T15:48:51.275Z"
   },
   {
    "duration": 25,
    "start_time": "2024-05-09T15:48:51.280Z"
   },
   {
    "duration": 14,
    "start_time": "2024-05-09T15:48:51.306Z"
   },
   {
    "duration": 17,
    "start_time": "2024-05-09T15:48:51.321Z"
   },
   {
    "duration": 11,
    "start_time": "2024-05-09T15:48:51.340Z"
   },
   {
    "duration": 23,
    "start_time": "2024-05-09T15:48:51.353Z"
   },
   {
    "duration": 23,
    "start_time": "2024-05-09T15:48:51.378Z"
   },
   {
    "duration": 5,
    "start_time": "2024-05-09T15:48:51.403Z"
   },
   {
    "duration": 15,
    "start_time": "2024-05-09T15:48:51.411Z"
   },
   {
    "duration": 41,
    "start_time": "2024-05-09T15:48:51.427Z"
   },
   {
    "duration": 6,
    "start_time": "2024-05-09T15:48:51.470Z"
   },
   {
    "duration": 9,
    "start_time": "2024-05-09T15:48:51.477Z"
   },
   {
    "duration": 20,
    "start_time": "2024-05-09T15:48:51.488Z"
   },
   {
    "duration": 25,
    "start_time": "2024-05-09T15:48:51.510Z"
   },
   {
    "duration": 49,
    "start_time": "2024-05-09T15:48:51.537Z"
   },
   {
    "duration": 10,
    "start_time": "2024-05-09T15:48:51.588Z"
   },
   {
    "duration": 8,
    "start_time": "2024-05-09T15:48:51.599Z"
   },
   {
    "duration": 15,
    "start_time": "2024-05-09T15:48:51.608Z"
   },
   {
    "duration": 5,
    "start_time": "2024-05-09T15:48:51.624Z"
   },
   {
    "duration": 30,
    "start_time": "2024-05-09T15:48:51.630Z"
   },
   {
    "duration": 12,
    "start_time": "2024-05-09T15:48:51.662Z"
   },
   {
    "duration": 14,
    "start_time": "2024-05-09T15:48:51.676Z"
   },
   {
    "duration": 24,
    "start_time": "2024-05-09T15:48:51.692Z"
   },
   {
    "duration": 5,
    "start_time": "2024-05-09T15:48:51.718Z"
   },
   {
    "duration": 35,
    "start_time": "2024-05-09T15:48:51.724Z"
   },
   {
    "duration": 4,
    "start_time": "2024-05-09T15:48:51.761Z"
   },
   {
    "duration": 26,
    "start_time": "2024-05-09T15:48:51.768Z"
   },
   {
    "duration": 4,
    "start_time": "2024-05-09T15:48:51.796Z"
   },
   {
    "duration": 7,
    "start_time": "2024-05-09T15:48:59.574Z"
   },
   {
    "duration": 40,
    "start_time": "2024-05-09T15:49:39.704Z"
   },
   {
    "duration": 51,
    "start_time": "2024-05-10T07:42:12.298Z"
   },
   {
    "duration": 453,
    "start_time": "2024-05-10T07:42:17.340Z"
   },
   {
    "duration": 405,
    "start_time": "2024-05-10T07:42:17.794Z"
   },
   {
    "duration": 9,
    "start_time": "2024-05-10T07:42:18.200Z"
   },
   {
    "duration": 22,
    "start_time": "2024-05-10T07:42:18.211Z"
   },
   {
    "duration": 24,
    "start_time": "2024-05-10T07:42:18.235Z"
   },
   {
    "duration": 11,
    "start_time": "2024-05-10T07:42:18.260Z"
   },
   {
    "duration": 15,
    "start_time": "2024-05-10T07:42:18.273Z"
   },
   {
    "duration": 21,
    "start_time": "2024-05-10T07:42:18.290Z"
   },
   {
    "duration": 11,
    "start_time": "2024-05-10T07:42:18.312Z"
   },
   {
    "duration": 375,
    "start_time": "2024-05-10T07:42:18.325Z"
   },
   {
    "duration": 0,
    "start_time": "2024-05-10T07:42:18.703Z"
   },
   {
    "duration": 0,
    "start_time": "2024-05-10T07:42:18.704Z"
   },
   {
    "duration": 0,
    "start_time": "2024-05-10T07:42:18.705Z"
   },
   {
    "duration": 0,
    "start_time": "2024-05-10T07:42:18.706Z"
   },
   {
    "duration": 0,
    "start_time": "2024-05-10T07:42:18.707Z"
   },
   {
    "duration": 0,
    "start_time": "2024-05-10T07:42:18.708Z"
   },
   {
    "duration": 0,
    "start_time": "2024-05-10T07:42:18.709Z"
   },
   {
    "duration": 0,
    "start_time": "2024-05-10T07:42:18.710Z"
   },
   {
    "duration": 0,
    "start_time": "2024-05-10T07:42:18.711Z"
   },
   {
    "duration": 0,
    "start_time": "2024-05-10T07:42:18.712Z"
   },
   {
    "duration": 0,
    "start_time": "2024-05-10T07:42:18.713Z"
   },
   {
    "duration": 0,
    "start_time": "2024-05-10T07:42:18.714Z"
   },
   {
    "duration": 0,
    "start_time": "2024-05-10T07:42:18.715Z"
   },
   {
    "duration": 0,
    "start_time": "2024-05-10T07:42:18.716Z"
   },
   {
    "duration": 0,
    "start_time": "2024-05-10T07:42:18.717Z"
   },
   {
    "duration": 0,
    "start_time": "2024-05-10T07:42:18.718Z"
   },
   {
    "duration": 0,
    "start_time": "2024-05-10T07:42:18.719Z"
   },
   {
    "duration": 0,
    "start_time": "2024-05-10T07:42:18.720Z"
   },
   {
    "duration": 0,
    "start_time": "2024-05-10T07:42:18.720Z"
   },
   {
    "duration": 0,
    "start_time": "2024-05-10T07:42:18.721Z"
   },
   {
    "duration": 0,
    "start_time": "2024-05-10T07:42:18.722Z"
   },
   {
    "duration": 0,
    "start_time": "2024-05-10T07:42:18.724Z"
   },
   {
    "duration": 0,
    "start_time": "2024-05-10T07:42:18.724Z"
   },
   {
    "duration": 0,
    "start_time": "2024-05-10T07:42:18.725Z"
   },
   {
    "duration": 0,
    "start_time": "2024-05-10T07:42:18.726Z"
   },
   {
    "duration": 0,
    "start_time": "2024-05-10T07:42:18.727Z"
   },
   {
    "duration": 0,
    "start_time": "2024-05-10T07:42:18.728Z"
   },
   {
    "duration": 0,
    "start_time": "2024-05-10T07:42:18.729Z"
   },
   {
    "duration": 0,
    "start_time": "2024-05-10T07:42:18.730Z"
   },
   {
    "duration": 0,
    "start_time": "2024-05-10T07:42:18.731Z"
   },
   {
    "duration": 0,
    "start_time": "2024-05-10T07:42:18.732Z"
   },
   {
    "duration": 0,
    "start_time": "2024-05-10T07:42:18.733Z"
   },
   {
    "duration": 0,
    "start_time": "2024-05-10T07:42:18.734Z"
   },
   {
    "duration": 0,
    "start_time": "2024-05-10T07:42:18.736Z"
   },
   {
    "duration": 0,
    "start_time": "2024-05-10T07:42:18.737Z"
   },
   {
    "duration": 0,
    "start_time": "2024-05-10T07:42:18.738Z"
   },
   {
    "duration": 0,
    "start_time": "2024-05-10T07:42:18.739Z"
   },
   {
    "duration": 0,
    "start_time": "2024-05-10T07:42:18.740Z"
   },
   {
    "duration": 0,
    "start_time": "2024-05-10T07:42:18.773Z"
   },
   {
    "duration": 0,
    "start_time": "2024-05-10T07:42:18.774Z"
   },
   {
    "duration": 0,
    "start_time": "2024-05-10T07:42:18.775Z"
   },
   {
    "duration": 0,
    "start_time": "2024-05-10T07:42:18.776Z"
   },
   {
    "duration": 0,
    "start_time": "2024-05-10T07:42:18.777Z"
   },
   {
    "duration": 0,
    "start_time": "2024-05-10T07:42:18.778Z"
   },
   {
    "duration": 0,
    "start_time": "2024-05-10T07:42:18.779Z"
   },
   {
    "duration": 0,
    "start_time": "2024-05-10T07:42:18.780Z"
   },
   {
    "duration": 0,
    "start_time": "2024-05-10T07:42:18.781Z"
   },
   {
    "duration": 0,
    "start_time": "2024-05-10T07:42:18.782Z"
   },
   {
    "duration": 0,
    "start_time": "2024-05-10T07:42:18.783Z"
   },
   {
    "duration": 0,
    "start_time": "2024-05-10T07:42:18.785Z"
   },
   {
    "duration": 1,
    "start_time": "2024-05-10T07:42:18.786Z"
   },
   {
    "duration": 0,
    "start_time": "2024-05-10T07:42:18.788Z"
   },
   {
    "duration": 0,
    "start_time": "2024-05-10T07:42:18.790Z"
   },
   {
    "duration": 0,
    "start_time": "2024-05-10T07:42:18.791Z"
   },
   {
    "duration": 0,
    "start_time": "2024-05-10T07:42:18.792Z"
   },
   {
    "duration": 0,
    "start_time": "2024-05-10T07:42:18.793Z"
   },
   {
    "duration": 0,
    "start_time": "2024-05-10T07:42:18.794Z"
   },
   {
    "duration": 0,
    "start_time": "2024-05-10T07:42:18.796Z"
   },
   {
    "duration": 0,
    "start_time": "2024-05-10T07:42:18.797Z"
   },
   {
    "duration": 0,
    "start_time": "2024-05-10T07:42:18.798Z"
   },
   {
    "duration": 398,
    "start_time": "2024-05-10T07:43:17.333Z"
   },
   {
    "duration": 127,
    "start_time": "2024-05-10T07:43:17.734Z"
   },
   {
    "duration": 9,
    "start_time": "2024-05-10T07:43:17.862Z"
   },
   {
    "duration": 36,
    "start_time": "2024-05-10T07:43:17.873Z"
   },
   {
    "duration": 17,
    "start_time": "2024-05-10T07:43:17.911Z"
   },
   {
    "duration": 11,
    "start_time": "2024-05-10T07:43:17.930Z"
   },
   {
    "duration": 14,
    "start_time": "2024-05-10T07:43:17.943Z"
   },
   {
    "duration": 32,
    "start_time": "2024-05-10T07:43:17.959Z"
   },
   {
    "duration": 36,
    "start_time": "2024-05-10T07:43:17.993Z"
   },
   {
    "duration": 6,
    "start_time": "2024-05-10T07:43:18.032Z"
   },
   {
    "duration": 34,
    "start_time": "2024-05-10T07:43:18.040Z"
   },
   {
    "duration": 40,
    "start_time": "2024-05-10T07:43:18.076Z"
   },
   {
    "duration": 5,
    "start_time": "2024-05-10T07:43:18.119Z"
   },
   {
    "duration": 33,
    "start_time": "2024-05-10T07:43:18.126Z"
   },
   {
    "duration": 18,
    "start_time": "2024-05-10T07:43:18.161Z"
   },
   {
    "duration": 28,
    "start_time": "2024-05-10T07:43:18.180Z"
   },
   {
    "duration": 34,
    "start_time": "2024-05-10T07:43:18.209Z"
   },
   {
    "duration": 34,
    "start_time": "2024-05-10T07:43:18.245Z"
   },
   {
    "duration": 5,
    "start_time": "2024-05-10T07:43:18.280Z"
   },
   {
    "duration": 17,
    "start_time": "2024-05-10T07:43:18.287Z"
   },
   {
    "duration": 6,
    "start_time": "2024-05-10T07:43:18.306Z"
   },
   {
    "duration": 33,
    "start_time": "2024-05-10T07:43:18.313Z"
   },
   {
    "duration": 6,
    "start_time": "2024-05-10T07:43:18.348Z"
   },
   {
    "duration": 8,
    "start_time": "2024-05-10T07:43:18.355Z"
   },
   {
    "duration": 24,
    "start_time": "2024-05-10T07:43:18.373Z"
   },
   {
    "duration": 5,
    "start_time": "2024-05-10T07:43:18.399Z"
   },
   {
    "duration": 20,
    "start_time": "2024-05-10T07:43:18.405Z"
   },
   {
    "duration": 4,
    "start_time": "2024-05-10T07:43:18.429Z"
   },
   {
    "duration": 43,
    "start_time": "2024-05-10T07:43:18.435Z"
   },
   {
    "duration": 5,
    "start_time": "2024-05-10T07:43:18.480Z"
   },
   {
    "duration": 11,
    "start_time": "2024-05-10T07:43:18.486Z"
   },
   {
    "duration": 493,
    "start_time": "2024-05-10T07:43:18.499Z"
   },
   {
    "duration": 0,
    "start_time": "2024-05-10T07:43:18.994Z"
   },
   {
    "duration": 0,
    "start_time": "2024-05-10T07:43:18.995Z"
   },
   {
    "duration": 0,
    "start_time": "2024-05-10T07:43:18.996Z"
   },
   {
    "duration": 0,
    "start_time": "2024-05-10T07:43:18.998Z"
   },
   {
    "duration": 0,
    "start_time": "2024-05-10T07:43:18.999Z"
   },
   {
    "duration": 0,
    "start_time": "2024-05-10T07:43:19.001Z"
   },
   {
    "duration": 0,
    "start_time": "2024-05-10T07:43:19.002Z"
   },
   {
    "duration": 0,
    "start_time": "2024-05-10T07:43:19.004Z"
   },
   {
    "duration": 0,
    "start_time": "2024-05-10T07:43:19.005Z"
   },
   {
    "duration": 0,
    "start_time": "2024-05-10T07:43:19.007Z"
   },
   {
    "duration": 0,
    "start_time": "2024-05-10T07:43:19.008Z"
   },
   {
    "duration": 0,
    "start_time": "2024-05-10T07:43:19.010Z"
   },
   {
    "duration": 0,
    "start_time": "2024-05-10T07:43:19.011Z"
   },
   {
    "duration": 0,
    "start_time": "2024-05-10T07:43:19.012Z"
   },
   {
    "duration": 0,
    "start_time": "2024-05-10T07:43:19.014Z"
   },
   {
    "duration": 0,
    "start_time": "2024-05-10T07:43:19.015Z"
   },
   {
    "duration": 0,
    "start_time": "2024-05-10T07:43:19.017Z"
   },
   {
    "duration": 0,
    "start_time": "2024-05-10T07:43:19.019Z"
   },
   {
    "duration": 0,
    "start_time": "2024-05-10T07:43:19.020Z"
   },
   {
    "duration": 0,
    "start_time": "2024-05-10T07:43:19.022Z"
   },
   {
    "duration": 0,
    "start_time": "2024-05-10T07:43:19.023Z"
   },
   {
    "duration": 0,
    "start_time": "2024-05-10T07:43:19.024Z"
   },
   {
    "duration": 0,
    "start_time": "2024-05-10T07:43:19.026Z"
   },
   {
    "duration": 0,
    "start_time": "2024-05-10T07:43:19.027Z"
   },
   {
    "duration": 0,
    "start_time": "2024-05-10T07:43:19.028Z"
   },
   {
    "duration": 0,
    "start_time": "2024-05-10T07:43:19.029Z"
   },
   {
    "duration": 0,
    "start_time": "2024-05-10T07:43:19.030Z"
   },
   {
    "duration": 0,
    "start_time": "2024-05-10T07:43:19.031Z"
   },
   {
    "duration": 0,
    "start_time": "2024-05-10T07:43:19.032Z"
   },
   {
    "duration": 0,
    "start_time": "2024-05-10T07:43:19.073Z"
   },
   {
    "duration": 0,
    "start_time": "2024-05-10T07:43:19.074Z"
   },
   {
    "duration": 0,
    "start_time": "2024-05-10T07:43:19.075Z"
   },
   {
    "duration": 0,
    "start_time": "2024-05-10T07:43:19.076Z"
   },
   {
    "duration": 0,
    "start_time": "2024-05-10T07:43:19.077Z"
   },
   {
    "duration": 0,
    "start_time": "2024-05-10T07:43:19.078Z"
   },
   {
    "duration": 0,
    "start_time": "2024-05-10T07:43:19.079Z"
   },
   {
    "duration": 0,
    "start_time": "2024-05-10T07:43:19.080Z"
   },
   {
    "duration": 0,
    "start_time": "2024-05-10T07:43:19.081Z"
   },
   {
    "duration": 1143,
    "start_time": "2024-05-10T07:44:04.074Z"
   },
   {
    "duration": 473,
    "start_time": "2024-05-10T07:44:13.080Z"
   },
   {
    "duration": 137,
    "start_time": "2024-05-10T07:44:13.555Z"
   },
   {
    "duration": 9,
    "start_time": "2024-05-10T07:44:13.693Z"
   },
   {
    "duration": 23,
    "start_time": "2024-05-10T07:44:13.704Z"
   },
   {
    "duration": 17,
    "start_time": "2024-05-10T07:44:13.728Z"
   },
   {
    "duration": 13,
    "start_time": "2024-05-10T07:44:13.747Z"
   },
   {
    "duration": 12,
    "start_time": "2024-05-10T07:44:13.762Z"
   },
   {
    "duration": 29,
    "start_time": "2024-05-10T07:44:13.775Z"
   },
   {
    "duration": 20,
    "start_time": "2024-05-10T07:44:13.806Z"
   },
   {
    "duration": 4,
    "start_time": "2024-05-10T07:44:13.829Z"
   },
   {
    "duration": 17,
    "start_time": "2024-05-10T07:44:13.835Z"
   },
   {
    "duration": 23,
    "start_time": "2024-05-10T07:44:13.873Z"
   },
   {
    "duration": 4,
    "start_time": "2024-05-10T07:44:13.898Z"
   },
   {
    "duration": 26,
    "start_time": "2024-05-10T07:44:13.904Z"
   },
   {
    "duration": 32,
    "start_time": "2024-05-10T07:44:13.932Z"
   },
   {
    "duration": 29,
    "start_time": "2024-05-10T07:44:13.966Z"
   },
   {
    "duration": 36,
    "start_time": "2024-05-10T07:44:13.996Z"
   },
   {
    "duration": 39,
    "start_time": "2024-05-10T07:44:14.034Z"
   },
   {
    "duration": 6,
    "start_time": "2024-05-10T07:44:14.074Z"
   },
   {
    "duration": 30,
    "start_time": "2024-05-10T07:44:14.081Z"
   },
   {
    "duration": 5,
    "start_time": "2024-05-10T07:44:14.113Z"
   },
   {
    "duration": 8,
    "start_time": "2024-05-10T07:44:14.119Z"
   },
   {
    "duration": 9,
    "start_time": "2024-05-10T07:44:14.128Z"
   },
   {
    "duration": 13,
    "start_time": "2024-05-10T07:44:14.139Z"
   },
   {
    "duration": 35,
    "start_time": "2024-05-10T07:44:14.153Z"
   },
   {
    "duration": 5,
    "start_time": "2024-05-10T07:44:14.190Z"
   },
   {
    "duration": 11,
    "start_time": "2024-05-10T07:44:14.197Z"
   },
   {
    "duration": 20,
    "start_time": "2024-05-10T07:44:14.212Z"
   },
   {
    "duration": 27,
    "start_time": "2024-05-10T07:44:14.233Z"
   },
   {
    "duration": 14,
    "start_time": "2024-05-10T07:44:14.261Z"
   },
   {
    "duration": 8,
    "start_time": "2024-05-10T07:44:14.276Z"
   },
   {
    "duration": 75,
    "start_time": "2024-05-10T07:44:14.285Z"
   },
   {
    "duration": 0,
    "start_time": "2024-05-10T07:44:14.361Z"
   },
   {
    "duration": 0,
    "start_time": "2024-05-10T07:44:14.362Z"
   },
   {
    "duration": 0,
    "start_time": "2024-05-10T07:44:14.364Z"
   },
   {
    "duration": 0,
    "start_time": "2024-05-10T07:44:14.365Z"
   },
   {
    "duration": 0,
    "start_time": "2024-05-10T07:44:14.366Z"
   },
   {
    "duration": 0,
    "start_time": "2024-05-10T07:44:14.366Z"
   },
   {
    "duration": 0,
    "start_time": "2024-05-10T07:44:14.367Z"
   },
   {
    "duration": 0,
    "start_time": "2024-05-10T07:44:14.368Z"
   },
   {
    "duration": 0,
    "start_time": "2024-05-10T07:44:14.369Z"
   },
   {
    "duration": 0,
    "start_time": "2024-05-10T07:44:14.370Z"
   },
   {
    "duration": 0,
    "start_time": "2024-05-10T07:44:14.371Z"
   },
   {
    "duration": 0,
    "start_time": "2024-05-10T07:44:14.372Z"
   },
   {
    "duration": 0,
    "start_time": "2024-05-10T07:44:14.373Z"
   },
   {
    "duration": 0,
    "start_time": "2024-05-10T07:44:14.374Z"
   },
   {
    "duration": 0,
    "start_time": "2024-05-10T07:44:14.375Z"
   },
   {
    "duration": 0,
    "start_time": "2024-05-10T07:44:14.376Z"
   },
   {
    "duration": 0,
    "start_time": "2024-05-10T07:44:14.377Z"
   },
   {
    "duration": 0,
    "start_time": "2024-05-10T07:44:14.378Z"
   },
   {
    "duration": 0,
    "start_time": "2024-05-10T07:44:14.379Z"
   },
   {
    "duration": 0,
    "start_time": "2024-05-10T07:44:14.380Z"
   },
   {
    "duration": 0,
    "start_time": "2024-05-10T07:44:14.381Z"
   },
   {
    "duration": 0,
    "start_time": "2024-05-10T07:44:14.382Z"
   },
   {
    "duration": 0,
    "start_time": "2024-05-10T07:44:14.383Z"
   },
   {
    "duration": 0,
    "start_time": "2024-05-10T07:44:14.384Z"
   },
   {
    "duration": 0,
    "start_time": "2024-05-10T07:44:14.385Z"
   },
   {
    "duration": 0,
    "start_time": "2024-05-10T07:44:14.386Z"
   },
   {
    "duration": 0,
    "start_time": "2024-05-10T07:44:14.387Z"
   },
   {
    "duration": 0,
    "start_time": "2024-05-10T07:44:14.388Z"
   },
   {
    "duration": 0,
    "start_time": "2024-05-10T07:44:14.389Z"
   },
   {
    "duration": 0,
    "start_time": "2024-05-10T07:44:14.390Z"
   },
   {
    "duration": 0,
    "start_time": "2024-05-10T07:44:14.391Z"
   },
   {
    "duration": 0,
    "start_time": "2024-05-10T07:44:14.391Z"
   },
   {
    "duration": 0,
    "start_time": "2024-05-10T07:44:14.393Z"
   },
   {
    "duration": 0,
    "start_time": "2024-05-10T07:44:14.394Z"
   },
   {
    "duration": 0,
    "start_time": "2024-05-10T07:44:14.394Z"
   },
   {
    "duration": 0,
    "start_time": "2024-05-10T07:44:14.395Z"
   },
   {
    "duration": 0,
    "start_time": "2024-05-10T07:44:14.397Z"
   },
   {
    "duration": 0,
    "start_time": "2024-05-10T07:44:14.398Z"
   },
   {
    "duration": 453,
    "start_time": "2024-05-10T07:47:14.748Z"
   },
   {
    "duration": 129,
    "start_time": "2024-05-10T07:47:15.203Z"
   },
   {
    "duration": 8,
    "start_time": "2024-05-10T07:47:15.334Z"
   },
   {
    "duration": 61,
    "start_time": "2024-05-10T07:47:15.344Z"
   },
   {
    "duration": 40,
    "start_time": "2024-05-10T07:47:15.407Z"
   },
   {
    "duration": 33,
    "start_time": "2024-05-10T07:47:15.449Z"
   },
   {
    "duration": 23,
    "start_time": "2024-05-10T07:47:15.484Z"
   },
   {
    "duration": 45,
    "start_time": "2024-05-10T07:47:15.509Z"
   },
   {
    "duration": 33,
    "start_time": "2024-05-10T07:47:15.555Z"
   },
   {
    "duration": 8,
    "start_time": "2024-05-10T07:47:15.591Z"
   },
   {
    "duration": 21,
    "start_time": "2024-05-10T07:47:15.601Z"
   },
   {
    "duration": 22,
    "start_time": "2024-05-10T07:47:15.624Z"
   },
   {
    "duration": 4,
    "start_time": "2024-05-10T07:47:15.648Z"
   },
   {
    "duration": 24,
    "start_time": "2024-05-10T07:47:15.654Z"
   },
   {
    "duration": 14,
    "start_time": "2024-05-10T07:47:15.680Z"
   },
   {
    "duration": 35,
    "start_time": "2024-05-10T07:47:15.696Z"
   },
   {
    "duration": 43,
    "start_time": "2024-05-10T07:47:15.732Z"
   },
   {
    "duration": 11,
    "start_time": "2024-05-10T07:47:15.776Z"
   },
   {
    "duration": 29,
    "start_time": "2024-05-10T07:47:15.789Z"
   },
   {
    "duration": 22,
    "start_time": "2024-05-10T07:47:15.819Z"
   },
   {
    "duration": 15,
    "start_time": "2024-05-10T07:47:15.843Z"
   },
   {
    "duration": 15,
    "start_time": "2024-05-10T07:47:15.859Z"
   },
   {
    "duration": 11,
    "start_time": "2024-05-10T07:47:15.876Z"
   },
   {
    "duration": 36,
    "start_time": "2024-05-10T07:47:15.888Z"
   },
   {
    "duration": 41,
    "start_time": "2024-05-10T07:47:15.925Z"
   },
   {
    "duration": 4,
    "start_time": "2024-05-10T07:47:15.968Z"
   },
   {
    "duration": 33,
    "start_time": "2024-05-10T07:47:15.973Z"
   },
   {
    "duration": 15,
    "start_time": "2024-05-10T07:47:16.010Z"
   },
   {
    "duration": 45,
    "start_time": "2024-05-10T07:47:16.026Z"
   },
   {
    "duration": 15,
    "start_time": "2024-05-10T07:47:16.072Z"
   },
   {
    "duration": 18,
    "start_time": "2024-05-10T07:47:16.088Z"
   },
   {
    "duration": 11,
    "start_time": "2024-05-10T07:47:16.108Z"
   },
   {
    "duration": 14,
    "start_time": "2024-05-10T07:47:16.121Z"
   },
   {
    "duration": 27,
    "start_time": "2024-05-10T07:47:16.137Z"
   },
   {
    "duration": 15,
    "start_time": "2024-05-10T07:47:16.165Z"
   },
   {
    "duration": 28,
    "start_time": "2024-05-10T07:47:16.182Z"
   },
   {
    "duration": 11,
    "start_time": "2024-05-10T07:47:16.212Z"
   },
   {
    "duration": 23,
    "start_time": "2024-05-10T07:47:16.225Z"
   },
   {
    "duration": 5,
    "start_time": "2024-05-10T07:47:16.250Z"
   },
   {
    "duration": 48,
    "start_time": "2024-05-10T07:47:16.256Z"
   },
   {
    "duration": 11,
    "start_time": "2024-05-10T07:47:16.305Z"
   },
   {
    "duration": 25,
    "start_time": "2024-05-10T07:47:16.317Z"
   },
   {
    "duration": 18,
    "start_time": "2024-05-10T07:47:16.344Z"
   },
   {
    "duration": 18,
    "start_time": "2024-05-10T07:47:16.364Z"
   },
   {
    "duration": 26,
    "start_time": "2024-05-10T07:47:16.383Z"
   },
   {
    "duration": 15,
    "start_time": "2024-05-10T07:47:16.411Z"
   },
   {
    "duration": 30,
    "start_time": "2024-05-10T07:47:16.427Z"
   },
   {
    "duration": 10,
    "start_time": "2024-05-10T07:47:16.459Z"
   },
   {
    "duration": 21,
    "start_time": "2024-05-10T07:47:16.470Z"
   },
   {
    "duration": 21,
    "start_time": "2024-05-10T07:47:16.493Z"
   },
   {
    "duration": 11,
    "start_time": "2024-05-10T07:47:16.516Z"
   },
   {
    "duration": 37,
    "start_time": "2024-05-10T07:47:16.529Z"
   },
   {
    "duration": 628,
    "start_time": "2024-05-10T07:47:16.568Z"
   },
   {
    "duration": 192,
    "start_time": "2024-05-10T07:47:17.198Z"
   },
   {
    "duration": 190,
    "start_time": "2024-05-10T07:47:17.392Z"
   },
   {
    "duration": 16,
    "start_time": "2024-05-10T07:47:17.584Z"
   },
   {
    "duration": 19,
    "start_time": "2024-05-10T07:47:17.601Z"
   },
   {
    "duration": 201,
    "start_time": "2024-05-10T07:47:17.622Z"
   },
   {
    "duration": 876,
    "start_time": "2024-05-10T07:47:17.824Z"
   },
   {
    "duration": 173,
    "start_time": "2024-05-10T07:47:18.702Z"
   },
   {
    "duration": 204,
    "start_time": "2024-05-10T07:47:18.876Z"
   },
   {
    "duration": 6,
    "start_time": "2024-05-10T07:47:19.082Z"
   },
   {
    "duration": 26,
    "start_time": "2024-05-10T07:47:19.090Z"
   },
   {
    "duration": 47,
    "start_time": "2024-05-10T07:47:19.118Z"
   },
   {
    "duration": 25,
    "start_time": "2024-05-10T07:47:19.167Z"
   },
   {
    "duration": 154,
    "start_time": "2024-05-10T07:47:19.194Z"
   },
   {
    "duration": 4,
    "start_time": "2024-05-10T07:47:19.349Z"
   },
   {
    "duration": 221,
    "start_time": "2024-05-10T07:47:19.354Z"
   },
   {
    "duration": 198,
    "start_time": "2024-05-10T07:47:19.577Z"
   },
   {
    "duration": 434,
    "start_time": "2024-05-10T07:48:15.908Z"
   },
   {
    "duration": 129,
    "start_time": "2024-05-10T07:48:16.344Z"
   },
   {
    "duration": 9,
    "start_time": "2024-05-10T07:48:16.474Z"
   },
   {
    "duration": 32,
    "start_time": "2024-05-10T07:48:16.485Z"
   },
   {
    "duration": 16,
    "start_time": "2024-05-10T07:48:16.518Z"
   },
   {
    "duration": 16,
    "start_time": "2024-05-10T07:48:16.535Z"
   },
   {
    "duration": 11,
    "start_time": "2024-05-10T07:48:16.552Z"
   },
   {
    "duration": 41,
    "start_time": "2024-05-10T07:48:16.565Z"
   },
   {
    "duration": 49,
    "start_time": "2024-05-10T07:48:16.608Z"
   },
   {
    "duration": 5,
    "start_time": "2024-05-10T07:48:16.660Z"
   },
   {
    "duration": 35,
    "start_time": "2024-05-10T07:48:16.666Z"
   },
   {
    "duration": 64,
    "start_time": "2024-05-10T07:48:16.703Z"
   },
   {
    "duration": 4,
    "start_time": "2024-05-10T07:48:16.768Z"
   },
   {
    "duration": 34,
    "start_time": "2024-05-10T07:48:16.774Z"
   },
   {
    "duration": 15,
    "start_time": "2024-05-10T07:48:16.810Z"
   },
   {
    "duration": 26,
    "start_time": "2024-05-10T07:48:16.826Z"
   },
   {
    "duration": 27,
    "start_time": "2024-05-10T07:48:16.853Z"
   },
   {
    "duration": 12,
    "start_time": "2024-05-10T07:48:16.882Z"
   },
   {
    "duration": 19,
    "start_time": "2024-05-10T07:48:16.895Z"
   },
   {
    "duration": 37,
    "start_time": "2024-05-10T07:48:16.916Z"
   },
   {
    "duration": 33,
    "start_time": "2024-05-10T07:48:16.955Z"
   },
   {
    "duration": 6,
    "start_time": "2024-05-10T07:48:16.989Z"
   },
   {
    "duration": 22,
    "start_time": "2024-05-10T07:48:16.997Z"
   },
   {
    "duration": 20,
    "start_time": "2024-05-10T07:48:17.021Z"
   },
   {
    "duration": 44,
    "start_time": "2024-05-10T07:48:17.043Z"
   },
   {
    "duration": 5,
    "start_time": "2024-05-10T07:48:17.088Z"
   },
   {
    "duration": 24,
    "start_time": "2024-05-10T07:48:17.094Z"
   },
   {
    "duration": 10,
    "start_time": "2024-05-10T07:48:17.122Z"
   },
   {
    "duration": 42,
    "start_time": "2024-05-10T07:48:17.134Z"
   },
   {
    "duration": 5,
    "start_time": "2024-05-10T07:48:17.178Z"
   },
   {
    "duration": 9,
    "start_time": "2024-05-10T07:48:17.184Z"
   },
   {
    "duration": 11,
    "start_time": "2024-05-10T07:48:17.195Z"
   },
   {
    "duration": 27,
    "start_time": "2024-05-10T07:48:17.207Z"
   },
   {
    "duration": 19,
    "start_time": "2024-05-10T07:48:17.235Z"
   },
   {
    "duration": 23,
    "start_time": "2024-05-10T07:48:17.256Z"
   },
   {
    "duration": 21,
    "start_time": "2024-05-10T07:48:17.281Z"
   },
   {
    "duration": 9,
    "start_time": "2024-05-10T07:48:17.304Z"
   },
   {
    "duration": 20,
    "start_time": "2024-05-10T07:48:17.315Z"
   },
   {
    "duration": 8,
    "start_time": "2024-05-10T07:48:17.337Z"
   },
   {
    "duration": 38,
    "start_time": "2024-05-10T07:48:17.346Z"
   },
   {
    "duration": 19,
    "start_time": "2024-05-10T07:48:17.385Z"
   },
   {
    "duration": 11,
    "start_time": "2024-05-10T07:48:17.406Z"
   },
   {
    "duration": 10,
    "start_time": "2024-05-10T07:48:17.419Z"
   },
   {
    "duration": 6,
    "start_time": "2024-05-10T07:48:17.430Z"
   },
   {
    "duration": 31,
    "start_time": "2024-05-10T07:48:17.437Z"
   },
   {
    "duration": 19,
    "start_time": "2024-05-10T07:48:17.470Z"
   },
   {
    "duration": 27,
    "start_time": "2024-05-10T07:48:17.491Z"
   },
   {
    "duration": 7,
    "start_time": "2024-05-10T07:48:17.519Z"
   },
   {
    "duration": 14,
    "start_time": "2024-05-10T07:48:17.528Z"
   },
   {
    "duration": 23,
    "start_time": "2024-05-10T07:48:17.544Z"
   },
   {
    "duration": 7,
    "start_time": "2024-05-10T07:48:17.569Z"
   },
   {
    "duration": 32,
    "start_time": "2024-05-10T07:48:17.577Z"
   },
   {
    "duration": 438,
    "start_time": "2024-05-10T07:48:17.611Z"
   },
   {
    "duration": 191,
    "start_time": "2024-05-10T07:48:18.053Z"
   },
   {
    "duration": 195,
    "start_time": "2024-05-10T07:48:18.245Z"
   },
   {
    "duration": 14,
    "start_time": "2024-05-10T07:48:18.442Z"
   },
   {
    "duration": 30,
    "start_time": "2024-05-10T07:48:18.457Z"
   },
   {
    "duration": 175,
    "start_time": "2024-05-10T07:48:18.489Z"
   },
   {
    "duration": 878,
    "start_time": "2024-05-10T07:48:18.666Z"
   },
   {
    "duration": 167,
    "start_time": "2024-05-10T07:48:19.546Z"
   },
   {
    "duration": 194,
    "start_time": "2024-05-10T07:48:19.715Z"
   },
   {
    "duration": 6,
    "start_time": "2024-05-10T07:48:19.911Z"
   },
   {
    "duration": 11,
    "start_time": "2024-05-10T07:48:19.919Z"
   },
   {
    "duration": 11,
    "start_time": "2024-05-10T07:48:19.932Z"
   },
   {
    "duration": 29,
    "start_time": "2024-05-10T07:48:19.945Z"
   },
   {
    "duration": 171,
    "start_time": "2024-05-10T07:48:19.975Z"
   },
   {
    "duration": 4,
    "start_time": "2024-05-10T07:48:20.147Z"
   },
   {
    "duration": 202,
    "start_time": "2024-05-10T07:48:20.152Z"
   },
   {
    "duration": 196,
    "start_time": "2024-05-10T07:48:20.356Z"
   },
   {
    "duration": 3,
    "start_time": "2024-05-10T07:49:55.951Z"
   },
   {
    "duration": 445,
    "start_time": "2024-05-10T07:50:00.745Z"
   },
   {
    "duration": 3,
    "start_time": "2024-05-10T07:50:01.192Z"
   },
   {
    "duration": 277,
    "start_time": "2024-05-10T07:50:01.200Z"
   },
   {
    "duration": 10,
    "start_time": "2024-05-10T07:50:01.478Z"
   },
   {
    "duration": 161,
    "start_time": "2024-05-10T07:50:01.490Z"
   },
   {
    "duration": 178,
    "start_time": "2024-05-10T07:50:01.653Z"
   },
   {
    "duration": 317,
    "start_time": "2024-05-10T07:50:01.834Z"
   },
   {
    "duration": 31,
    "start_time": "2024-05-10T07:50:02.153Z"
   },
   {
    "duration": 55,
    "start_time": "2024-05-10T07:50:02.187Z"
   },
   {
    "duration": 41,
    "start_time": "2024-05-10T07:50:02.243Z"
   },
   {
    "duration": 16,
    "start_time": "2024-05-10T07:50:02.285Z"
   },
   {
    "duration": 43,
    "start_time": "2024-05-10T07:50:02.303Z"
   },
   {
    "duration": 37,
    "start_time": "2024-05-10T07:50:02.348Z"
   },
   {
    "duration": 11,
    "start_time": "2024-05-10T07:50:02.387Z"
   },
   {
    "duration": 39,
    "start_time": "2024-05-10T07:50:02.399Z"
   },
   {
    "duration": 25,
    "start_time": "2024-05-10T07:50:02.440Z"
   },
   {
    "duration": 48,
    "start_time": "2024-05-10T07:50:02.467Z"
   },
   {
    "duration": 29,
    "start_time": "2024-05-10T07:50:02.517Z"
   },
   {
    "duration": 18,
    "start_time": "2024-05-10T07:50:02.547Z"
   },
   {
    "duration": 21,
    "start_time": "2024-05-10T07:50:02.567Z"
   },
   {
    "duration": 33,
    "start_time": "2024-05-10T07:50:02.590Z"
   },
   {
    "duration": 34,
    "start_time": "2024-05-10T07:50:02.625Z"
   },
   {
    "duration": 46,
    "start_time": "2024-05-10T07:50:02.661Z"
   },
   {
    "duration": 33,
    "start_time": "2024-05-10T07:50:02.709Z"
   },
   {
    "duration": 27,
    "start_time": "2024-05-10T07:50:02.744Z"
   },
   {
    "duration": 57,
    "start_time": "2024-05-10T07:50:02.772Z"
   },
   {
    "duration": 5,
    "start_time": "2024-05-10T07:50:02.833Z"
   },
   {
    "duration": 17,
    "start_time": "2024-05-10T07:50:02.840Z"
   },
   {
    "duration": 11,
    "start_time": "2024-05-10T07:50:02.859Z"
   },
   {
    "duration": 52,
    "start_time": "2024-05-10T07:50:02.871Z"
   },
   {
    "duration": 4,
    "start_time": "2024-05-10T07:50:02.925Z"
   },
   {
    "duration": 19,
    "start_time": "2024-05-10T07:50:02.931Z"
   },
   {
    "duration": 7,
    "start_time": "2024-05-10T07:50:02.952Z"
   },
   {
    "duration": 22,
    "start_time": "2024-05-10T07:50:02.961Z"
   },
   {
    "duration": 28,
    "start_time": "2024-05-10T07:50:02.985Z"
   },
   {
    "duration": 39,
    "start_time": "2024-05-10T07:50:03.014Z"
   },
   {
    "duration": 30,
    "start_time": "2024-05-10T07:50:03.055Z"
   },
   {
    "duration": 45,
    "start_time": "2024-05-10T07:50:03.086Z"
   },
   {
    "duration": 19,
    "start_time": "2024-05-10T07:50:03.133Z"
   },
   {
    "duration": 5,
    "start_time": "2024-05-10T07:50:03.154Z"
   },
   {
    "duration": 24,
    "start_time": "2024-05-10T07:50:03.170Z"
   },
   {
    "duration": 6,
    "start_time": "2024-05-10T07:50:03.196Z"
   },
   {
    "duration": 16,
    "start_time": "2024-05-10T07:50:03.203Z"
   },
   {
    "duration": 33,
    "start_time": "2024-05-10T07:50:03.221Z"
   },
   {
    "duration": 3,
    "start_time": "2024-05-10T07:50:03.256Z"
   },
   {
    "duration": 35,
    "start_time": "2024-05-10T07:50:03.261Z"
   },
   {
    "duration": 20,
    "start_time": "2024-05-10T07:50:03.298Z"
   },
   {
    "duration": 21,
    "start_time": "2024-05-10T07:50:03.320Z"
   },
   {
    "duration": 17,
    "start_time": "2024-05-10T07:50:03.343Z"
   },
   {
    "duration": 27,
    "start_time": "2024-05-10T07:50:03.362Z"
   },
   {
    "duration": 48,
    "start_time": "2024-05-10T07:50:03.391Z"
   },
   {
    "duration": 6,
    "start_time": "2024-05-10T07:50:03.441Z"
   },
   {
    "duration": 35,
    "start_time": "2024-05-10T07:50:03.449Z"
   },
   {
    "duration": 497,
    "start_time": "2024-05-10T07:50:03.486Z"
   },
   {
    "duration": 245,
    "start_time": "2024-05-10T07:50:03.985Z"
   },
   {
    "duration": 202,
    "start_time": "2024-05-10T07:50:04.231Z"
   },
   {
    "duration": 19,
    "start_time": "2024-05-10T07:50:04.435Z"
   },
   {
    "duration": 40,
    "start_time": "2024-05-10T07:50:04.456Z"
   },
   {
    "duration": 228,
    "start_time": "2024-05-10T07:50:04.498Z"
   },
   {
    "duration": 887,
    "start_time": "2024-05-10T07:50:04.728Z"
   },
   {
    "duration": 187,
    "start_time": "2024-05-10T07:50:05.617Z"
   },
   {
    "duration": 232,
    "start_time": "2024-05-10T07:50:05.806Z"
   },
   {
    "duration": 8,
    "start_time": "2024-05-10T07:50:06.039Z"
   },
   {
    "duration": 38,
    "start_time": "2024-05-10T07:50:06.049Z"
   },
   {
    "duration": 37,
    "start_time": "2024-05-10T07:50:06.089Z"
   },
   {
    "duration": 44,
    "start_time": "2024-05-10T07:50:06.128Z"
   },
   {
    "duration": 199,
    "start_time": "2024-05-10T07:50:06.174Z"
   },
   {
    "duration": 4,
    "start_time": "2024-05-10T07:50:06.375Z"
   },
   {
    "duration": 224,
    "start_time": "2024-05-10T07:50:06.381Z"
   },
   {
    "duration": 216,
    "start_time": "2024-05-10T07:50:06.607Z"
   },
   {
    "duration": 188,
    "start_time": "2024-05-10T07:51:31.387Z"
   },
   {
    "duration": 78,
    "start_time": "2024-05-10T07:55:50.611Z"
   },
   {
    "duration": 21,
    "start_time": "2024-05-10T07:56:03.660Z"
   },
   {
    "duration": 28,
    "start_time": "2024-05-10T07:56:13.403Z"
   },
   {
    "duration": 8,
    "start_time": "2024-05-10T07:56:51.369Z"
   },
   {
    "duration": 10,
    "start_time": "2024-05-10T07:57:10.936Z"
   },
   {
    "duration": 21,
    "start_time": "2024-05-10T07:57:21.115Z"
   },
   {
    "duration": 22,
    "start_time": "2024-05-10T07:57:40.453Z"
   },
   {
    "duration": 22,
    "start_time": "2024-05-10T07:57:44.555Z"
   },
   {
    "duration": 1092,
    "start_time": "2024-05-10T08:10:03.121Z"
   },
   {
    "duration": 437,
    "start_time": "2024-05-10T08:10:21.497Z"
   },
   {
    "duration": 3,
    "start_time": "2024-05-10T08:10:21.936Z"
   },
   {
    "duration": 139,
    "start_time": "2024-05-10T08:10:21.940Z"
   },
   {
    "duration": 9,
    "start_time": "2024-05-10T08:10:22.082Z"
   },
   {
    "duration": 20,
    "start_time": "2024-05-10T08:10:22.092Z"
   },
   {
    "duration": 17,
    "start_time": "2024-05-10T08:10:22.114Z"
   },
   {
    "duration": 10,
    "start_time": "2024-05-10T08:10:22.133Z"
   },
   {
    "duration": 34,
    "start_time": "2024-05-10T08:10:22.144Z"
   },
   {
    "duration": 43,
    "start_time": "2024-05-10T08:10:22.179Z"
   },
   {
    "duration": 31,
    "start_time": "2024-05-10T08:10:22.224Z"
   },
   {
    "duration": 6,
    "start_time": "2024-05-10T08:10:22.257Z"
   },
   {
    "duration": 22,
    "start_time": "2024-05-10T08:10:22.264Z"
   },
   {
    "duration": 23,
    "start_time": "2024-05-10T08:10:22.288Z"
   },
   {
    "duration": 4,
    "start_time": "2024-05-10T08:10:22.313Z"
   },
   {
    "duration": 9,
    "start_time": "2024-05-10T08:10:22.319Z"
   },
   {
    "duration": 16,
    "start_time": "2024-05-10T08:10:22.330Z"
   },
   {
    "duration": 26,
    "start_time": "2024-05-10T08:10:22.373Z"
   },
   {
    "duration": 29,
    "start_time": "2024-05-10T08:10:22.400Z"
   },
   {
    "duration": 11,
    "start_time": "2024-05-10T08:10:22.430Z"
   },
   {
    "duration": 34,
    "start_time": "2024-05-10T08:10:22.443Z"
   },
   {
    "duration": 17,
    "start_time": "2024-05-10T08:10:22.479Z"
   },
   {
    "duration": 6,
    "start_time": "2024-05-10T08:10:22.497Z"
   },
   {
    "duration": 14,
    "start_time": "2024-05-10T08:10:22.505Z"
   },
   {
    "duration": 7,
    "start_time": "2024-05-10T08:10:22.521Z"
   },
   {
    "duration": 8,
    "start_time": "2024-05-10T08:10:22.530Z"
   },
   {
    "duration": 54,
    "start_time": "2024-05-10T08:10:22.540Z"
   },
   {
    "duration": 5,
    "start_time": "2024-05-10T08:10:22.596Z"
   },
   {
    "duration": 28,
    "start_time": "2024-05-10T08:10:22.606Z"
   },
   {
    "duration": 11,
    "start_time": "2024-05-10T08:10:22.637Z"
   },
   {
    "duration": 33,
    "start_time": "2024-05-10T08:10:22.650Z"
   },
   {
    "duration": 5,
    "start_time": "2024-05-10T08:10:22.685Z"
   },
   {
    "duration": 13,
    "start_time": "2024-05-10T08:10:22.692Z"
   },
   {
    "duration": 5,
    "start_time": "2024-05-10T08:10:22.707Z"
   },
   {
    "duration": 13,
    "start_time": "2024-05-10T08:10:22.714Z"
   },
   {
    "duration": 46,
    "start_time": "2024-05-10T08:10:22.729Z"
   },
   {
    "duration": 15,
    "start_time": "2024-05-10T08:10:22.777Z"
   },
   {
    "duration": 24,
    "start_time": "2024-05-10T08:10:22.794Z"
   },
   {
    "duration": 33,
    "start_time": "2024-05-10T08:10:22.821Z"
   },
   {
    "duration": 36,
    "start_time": "2024-05-10T08:10:22.856Z"
   },
   {
    "duration": 17,
    "start_time": "2024-05-10T08:10:22.894Z"
   },
   {
    "duration": 1161,
    "start_time": "2024-05-10T08:10:22.912Z"
   },
   {
    "duration": 1,
    "start_time": "2024-05-10T08:10:24.075Z"
   },
   {
    "duration": 0,
    "start_time": "2024-05-10T08:10:24.077Z"
   },
   {
    "duration": 0,
    "start_time": "2024-05-10T08:10:24.079Z"
   },
   {
    "duration": 0,
    "start_time": "2024-05-10T08:10:24.080Z"
   },
   {
    "duration": 0,
    "start_time": "2024-05-10T08:10:24.082Z"
   },
   {
    "duration": 0,
    "start_time": "2024-05-10T08:10:24.084Z"
   },
   {
    "duration": 0,
    "start_time": "2024-05-10T08:10:24.085Z"
   },
   {
    "duration": 0,
    "start_time": "2024-05-10T08:10:24.087Z"
   },
   {
    "duration": 0,
    "start_time": "2024-05-10T08:10:24.089Z"
   },
   {
    "duration": 0,
    "start_time": "2024-05-10T08:10:24.090Z"
   },
   {
    "duration": 0,
    "start_time": "2024-05-10T08:10:24.092Z"
   },
   {
    "duration": 0,
    "start_time": "2024-05-10T08:10:24.093Z"
   },
   {
    "duration": 0,
    "start_time": "2024-05-10T08:10:24.095Z"
   },
   {
    "duration": 0,
    "start_time": "2024-05-10T08:10:24.096Z"
   },
   {
    "duration": 0,
    "start_time": "2024-05-10T08:10:24.098Z"
   },
   {
    "duration": 0,
    "start_time": "2024-05-10T08:10:24.099Z"
   },
   {
    "duration": 0,
    "start_time": "2024-05-10T08:10:24.101Z"
   },
   {
    "duration": 0,
    "start_time": "2024-05-10T08:10:24.103Z"
   },
   {
    "duration": 0,
    "start_time": "2024-05-10T08:10:24.104Z"
   },
   {
    "duration": 0,
    "start_time": "2024-05-10T08:10:24.106Z"
   },
   {
    "duration": 0,
    "start_time": "2024-05-10T08:10:24.107Z"
   },
   {
    "duration": 0,
    "start_time": "2024-05-10T08:10:24.109Z"
   },
   {
    "duration": 0,
    "start_time": "2024-05-10T08:10:24.110Z"
   },
   {
    "duration": 0,
    "start_time": "2024-05-10T08:10:24.112Z"
   },
   {
    "duration": 0,
    "start_time": "2024-05-10T08:10:24.114Z"
   },
   {
    "duration": 0,
    "start_time": "2024-05-10T08:10:24.174Z"
   },
   {
    "duration": 0,
    "start_time": "2024-05-10T08:10:24.175Z"
   },
   {
    "duration": 0,
    "start_time": "2024-05-10T08:10:24.176Z"
   },
   {
    "duration": 0,
    "start_time": "2024-05-10T08:10:24.177Z"
   },
   {
    "duration": 0,
    "start_time": "2024-05-10T08:10:24.179Z"
   },
   {
    "duration": 0,
    "start_time": "2024-05-10T08:10:24.180Z"
   },
   {
    "duration": 6,
    "start_time": "2024-05-10T08:11:36.236Z"
   },
   {
    "duration": 6,
    "start_time": "2024-05-10T08:11:44.906Z"
   },
   {
    "duration": 33,
    "start_time": "2024-05-10T08:11:44.914Z"
   },
   {
    "duration": 23,
    "start_time": "2024-05-10T08:11:44.949Z"
   },
   {
    "duration": 10,
    "start_time": "2024-05-10T08:11:44.973Z"
   },
   {
    "duration": 19,
    "start_time": "2024-05-10T08:11:44.986Z"
   },
   {
    "duration": 90,
    "start_time": "2024-05-10T08:11:45.007Z"
   },
   {
    "duration": 49,
    "start_time": "2024-05-10T08:11:45.099Z"
   },
   {
    "duration": 50,
    "start_time": "2024-05-10T08:11:45.149Z"
   },
   {
    "duration": 73,
    "start_time": "2024-05-10T08:11:45.201Z"
   },
   {
    "duration": 57,
    "start_time": "2024-05-10T08:11:45.276Z"
   },
   {
    "duration": 32,
    "start_time": "2024-05-10T08:11:45.336Z"
   },
   {
    "duration": 64,
    "start_time": "2024-05-10T08:11:45.370Z"
   },
   {
    "duration": 6,
    "start_time": "2024-05-10T08:11:45.436Z"
   },
   {
    "duration": 46,
    "start_time": "2024-05-10T08:11:45.443Z"
   },
   {
    "duration": 469,
    "start_time": "2024-05-10T08:11:45.491Z"
   },
   {
    "duration": 219,
    "start_time": "2024-05-10T08:11:45.962Z"
   },
   {
    "duration": 232,
    "start_time": "2024-05-10T08:11:46.182Z"
   },
   {
    "duration": 15,
    "start_time": "2024-05-10T08:11:46.415Z"
   },
   {
    "duration": 23,
    "start_time": "2024-05-10T08:11:46.432Z"
   },
   {
    "duration": 190,
    "start_time": "2024-05-10T08:11:46.457Z"
   },
   {
    "duration": 936,
    "start_time": "2024-05-10T08:11:46.649Z"
   },
   {
    "duration": 186,
    "start_time": "2024-05-10T08:11:47.587Z"
   },
   {
    "duration": 222,
    "start_time": "2024-05-10T08:11:47.775Z"
   },
   {
    "duration": 7,
    "start_time": "2024-05-10T08:11:47.999Z"
   },
   {
    "duration": 17,
    "start_time": "2024-05-10T08:11:48.007Z"
   },
   {
    "duration": 7,
    "start_time": "2024-05-10T08:11:48.026Z"
   },
   {
    "duration": 10,
    "start_time": "2024-05-10T08:11:48.035Z"
   },
   {
    "duration": 188,
    "start_time": "2024-05-10T08:11:48.046Z"
   },
   {
    "duration": 4,
    "start_time": "2024-05-10T08:11:48.238Z"
   },
   {
    "duration": 229,
    "start_time": "2024-05-10T08:11:48.244Z"
   },
   {
    "duration": 201,
    "start_time": "2024-05-10T08:11:48.475Z"
   },
   {
    "duration": 846,
    "start_time": "2024-05-10T08:11:56.330Z"
   },
   {
    "duration": 262,
    "start_time": "2024-05-10T08:12:02.439Z"
   },
   {
    "duration": 26,
    "start_time": "2024-05-10T08:46:53.710Z"
   },
   {
    "duration": 3,
    "start_time": "2024-05-10T08:47:17.309Z"
   },
   {
    "duration": 142,
    "start_time": "2024-05-10T08:48:38.961Z"
   },
   {
    "duration": 183,
    "start_time": "2024-05-10T08:50:25.650Z"
   },
   {
    "duration": 205,
    "start_time": "2024-05-10T08:51:35.268Z"
   },
   {
    "duration": 197,
    "start_time": "2024-05-10T08:51:41.565Z"
   },
   {
    "duration": 161,
    "start_time": "2024-05-10T08:52:00.401Z"
   },
   {
    "duration": 235,
    "start_time": "2024-05-10T08:52:06.992Z"
   },
   {
    "duration": 209,
    "start_time": "2024-05-10T08:52:13.446Z"
   },
   {
    "duration": 772,
    "start_time": "2024-05-10T13:38:02.314Z"
   },
   {
    "duration": 3,
    "start_time": "2024-05-10T13:38:03.088Z"
   },
   {
    "duration": 224,
    "start_time": "2024-05-10T13:38:03.092Z"
   },
   {
    "duration": 4,
    "start_time": "2024-05-10T13:38:03.318Z"
   },
   {
    "duration": 14,
    "start_time": "2024-05-10T13:38:03.324Z"
   },
   {
    "duration": 13,
    "start_time": "2024-05-10T13:38:03.340Z"
   },
   {
    "duration": 9,
    "start_time": "2024-05-10T13:38:03.354Z"
   },
   {
    "duration": 12,
    "start_time": "2024-05-10T13:38:03.364Z"
   },
   {
    "duration": 18,
    "start_time": "2024-05-10T13:38:03.378Z"
   },
   {
    "duration": 17,
    "start_time": "2024-05-10T13:38:03.413Z"
   },
   {
    "duration": 14,
    "start_time": "2024-05-10T13:38:03.431Z"
   },
   {
    "duration": 19,
    "start_time": "2024-05-10T13:38:03.446Z"
   },
   {
    "duration": 19,
    "start_time": "2024-05-10T13:38:03.467Z"
   },
   {
    "duration": 8,
    "start_time": "2024-05-10T13:38:03.487Z"
   },
   {
    "duration": 15,
    "start_time": "2024-05-10T13:38:03.497Z"
   },
   {
    "duration": 14,
    "start_time": "2024-05-10T13:38:03.513Z"
   },
   {
    "duration": 33,
    "start_time": "2024-05-10T13:38:03.528Z"
   },
   {
    "duration": 31,
    "start_time": "2024-05-10T13:38:03.562Z"
   },
   {
    "duration": 30,
    "start_time": "2024-05-10T13:38:03.594Z"
   },
   {
    "duration": 4,
    "start_time": "2024-05-10T13:38:03.626Z"
   },
   {
    "duration": 18,
    "start_time": "2024-05-10T13:38:03.632Z"
   },
   {
    "duration": 4,
    "start_time": "2024-05-10T13:38:03.651Z"
   },
   {
    "duration": 8,
    "start_time": "2024-05-10T13:38:03.656Z"
   },
   {
    "duration": 4,
    "start_time": "2024-05-10T13:38:03.665Z"
   },
   {
    "duration": 4,
    "start_time": "2024-05-10T13:38:03.670Z"
   },
   {
    "duration": 53,
    "start_time": "2024-05-10T13:38:03.675Z"
   },
   {
    "duration": 3,
    "start_time": "2024-05-10T13:38:03.730Z"
   },
   {
    "duration": 12,
    "start_time": "2024-05-10T13:38:03.736Z"
   },
   {
    "duration": 3,
    "start_time": "2024-05-10T13:38:03.750Z"
   },
   {
    "duration": 5,
    "start_time": "2024-05-10T13:52:22.991Z"
   },
   {
    "duration": 2,
    "start_time": "2024-05-10T13:54:04.294Z"
   },
   {
    "duration": 559,
    "start_time": "2024-05-10T13:54:09.361Z"
   },
   {
    "duration": 2,
    "start_time": "2024-05-10T13:54:09.922Z"
   },
   {
    "duration": 129,
    "start_time": "2024-05-10T13:54:09.925Z"
   },
   {
    "duration": 5,
    "start_time": "2024-05-10T13:54:10.056Z"
   },
   {
    "duration": 31,
    "start_time": "2024-05-10T13:54:10.062Z"
   },
   {
    "duration": 14,
    "start_time": "2024-05-10T13:54:10.095Z"
   },
   {
    "duration": 8,
    "start_time": "2024-05-10T13:54:10.110Z"
   },
   {
    "duration": 8,
    "start_time": "2024-05-10T13:54:10.119Z"
   },
   {
    "duration": 17,
    "start_time": "2024-05-10T13:54:10.129Z"
   },
   {
    "duration": 21,
    "start_time": "2024-05-10T13:54:10.148Z"
   },
   {
    "duration": 4,
    "start_time": "2024-05-10T13:54:10.170Z"
   },
   {
    "duration": 18,
    "start_time": "2024-05-10T13:54:10.176Z"
   },
   {
    "duration": 29,
    "start_time": "2024-05-10T13:54:10.195Z"
   },
   {
    "duration": 4,
    "start_time": "2024-05-10T13:54:10.226Z"
   },
   {
    "duration": 8,
    "start_time": "2024-05-10T13:54:10.231Z"
   },
   {
    "duration": 12,
    "start_time": "2024-05-10T13:54:10.240Z"
   },
   {
    "duration": 23,
    "start_time": "2024-05-10T13:54:10.253Z"
   },
   {
    "duration": 46,
    "start_time": "2024-05-10T13:54:10.278Z"
   },
   {
    "duration": 10,
    "start_time": "2024-05-10T13:54:10.326Z"
   },
   {
    "duration": 6,
    "start_time": "2024-05-10T13:54:10.337Z"
   },
   {
    "duration": 11,
    "start_time": "2024-05-10T13:54:10.344Z"
   },
   {
    "duration": 4,
    "start_time": "2024-05-10T13:54:10.356Z"
   },
   {
    "duration": 5,
    "start_time": "2024-05-10T13:54:10.361Z"
   },
   {
    "duration": 6,
    "start_time": "2024-05-10T13:54:10.367Z"
   },
   {
    "duration": 5,
    "start_time": "2024-05-10T13:54:10.374Z"
   },
   {
    "duration": 52,
    "start_time": "2024-05-10T13:54:10.380Z"
   },
   {
    "duration": 4,
    "start_time": "2024-05-10T13:54:10.433Z"
   },
   {
    "duration": 10,
    "start_time": "2024-05-10T13:54:10.441Z"
   },
   {
    "duration": 6,
    "start_time": "2024-05-10T13:54:10.453Z"
   },
   {
    "duration": 29,
    "start_time": "2024-05-10T13:54:10.460Z"
   },
   {
    "duration": 4,
    "start_time": "2024-05-10T13:54:10.490Z"
   },
   {
    "duration": 37,
    "start_time": "2024-05-10T13:54:10.495Z"
   },
   {
    "duration": 4,
    "start_time": "2024-05-10T13:54:10.533Z"
   },
   {
    "duration": 8,
    "start_time": "2024-05-10T13:54:10.538Z"
   },
   {
    "duration": 3,
    "start_time": "2024-05-10T13:54:10.548Z"
   },
   {
    "duration": 10,
    "start_time": "2024-05-10T13:54:10.552Z"
   },
   {
    "duration": 11,
    "start_time": "2024-05-10T13:54:10.564Z"
   },
   {
    "duration": 37,
    "start_time": "2024-05-10T13:54:10.576Z"
   },
   {
    "duration": 3,
    "start_time": "2024-05-10T13:54:10.615Z"
   },
   {
    "duration": 20,
    "start_time": "2024-05-10T13:54:10.620Z"
   },
   {
    "duration": 12,
    "start_time": "2024-05-10T13:54:10.642Z"
   },
   {
    "duration": 6,
    "start_time": "2024-05-10T13:54:10.655Z"
   },
   {
    "duration": 4,
    "start_time": "2024-05-10T13:54:10.663Z"
   },
   {
    "duration": 18,
    "start_time": "2024-05-10T13:54:10.669Z"
   },
   {
    "duration": 24,
    "start_time": "2024-05-10T13:54:10.688Z"
   },
   {
    "duration": 7,
    "start_time": "2024-05-10T13:54:10.713Z"
   },
   {
    "duration": 14,
    "start_time": "2024-05-10T13:54:10.722Z"
   },
   {
    "duration": 2,
    "start_time": "2024-05-10T13:54:10.737Z"
   },
   {
    "duration": 16,
    "start_time": "2024-05-10T13:54:10.740Z"
   },
   {
    "duration": 12,
    "start_time": "2024-05-10T13:54:10.757Z"
   },
   {
    "duration": 3,
    "start_time": "2024-05-10T13:54:10.770Z"
   },
   {
    "duration": 7,
    "start_time": "2024-05-10T13:54:10.775Z"
   },
   {
    "duration": 35,
    "start_time": "2024-05-10T13:54:10.783Z"
   },
   {
    "duration": 5,
    "start_time": "2024-05-10T13:54:10.819Z"
   },
   {
    "duration": 156,
    "start_time": "2024-05-10T13:54:10.825Z"
   },
   {
    "duration": 160,
    "start_time": "2024-05-10T13:54:10.982Z"
   },
   {
    "duration": 169,
    "start_time": "2024-05-10T13:54:11.144Z"
   },
   {
    "duration": 162,
    "start_time": "2024-05-10T13:54:11.315Z"
   },
   {
    "duration": 13,
    "start_time": "2024-05-10T13:54:11.478Z"
   },
   {
    "duration": 30,
    "start_time": "2024-05-10T13:54:11.492Z"
   },
   {
    "duration": 179,
    "start_time": "2024-05-10T13:54:11.523Z"
   },
   {
    "duration": 712,
    "start_time": "2024-05-10T13:54:11.703Z"
   },
   {
    "duration": 155,
    "start_time": "2024-05-10T13:54:12.417Z"
   },
   {
    "duration": 174,
    "start_time": "2024-05-10T13:54:12.574Z"
   },
   {
    "duration": 5,
    "start_time": "2024-05-10T13:54:12.750Z"
   },
   {
    "duration": 8,
    "start_time": "2024-05-10T13:54:12.756Z"
   },
   {
    "duration": 8,
    "start_time": "2024-05-10T13:54:12.765Z"
   },
   {
    "duration": 8,
    "start_time": "2024-05-10T13:54:12.775Z"
   },
   {
    "duration": 163,
    "start_time": "2024-05-10T13:54:12.784Z"
   },
   {
    "duration": 3,
    "start_time": "2024-05-10T13:54:12.949Z"
   },
   {
    "duration": 197,
    "start_time": "2024-05-10T13:54:12.953Z"
   },
   {
    "duration": 168,
    "start_time": "2024-05-10T13:54:13.152Z"
   },
   {
    "duration": 4,
    "start_time": "2024-05-10T13:54:51.978Z"
   },
   {
    "duration": 4,
    "start_time": "2024-05-10T13:55:26.858Z"
   },
   {
    "duration": 595,
    "start_time": "2024-05-10T13:59:13.150Z"
   },
   {
    "duration": 2,
    "start_time": "2024-05-10T13:59:13.747Z"
   },
   {
    "duration": 126,
    "start_time": "2024-05-10T13:59:13.750Z"
   },
   {
    "duration": 5,
    "start_time": "2024-05-10T13:59:13.878Z"
   },
   {
    "duration": 20,
    "start_time": "2024-05-10T13:59:13.884Z"
   },
   {
    "duration": 12,
    "start_time": "2024-05-10T13:59:13.906Z"
   },
   {
    "duration": 9,
    "start_time": "2024-05-10T13:59:13.919Z"
   },
   {
    "duration": 10,
    "start_time": "2024-05-10T13:59:13.929Z"
   },
   {
    "duration": 16,
    "start_time": "2024-05-10T13:59:13.940Z"
   },
   {
    "duration": 15,
    "start_time": "2024-05-10T13:59:13.959Z"
   },
   {
    "duration": 4,
    "start_time": "2024-05-10T13:59:13.976Z"
   },
   {
    "duration": 14,
    "start_time": "2024-05-10T13:59:13.981Z"
   },
   {
    "duration": 32,
    "start_time": "2024-05-10T13:59:13.997Z"
   },
   {
    "duration": 3,
    "start_time": "2024-05-10T13:59:14.031Z"
   },
   {
    "duration": 7,
    "start_time": "2024-05-10T13:59:14.036Z"
   },
   {
    "duration": 11,
    "start_time": "2024-05-10T13:59:14.044Z"
   },
   {
    "duration": 25,
    "start_time": "2024-05-10T13:59:14.056Z"
   },
   {
    "duration": 46,
    "start_time": "2024-05-10T13:59:14.082Z"
   },
   {
    "duration": 10,
    "start_time": "2024-05-10T13:59:14.129Z"
   },
   {
    "duration": 18,
    "start_time": "2024-05-10T13:59:14.140Z"
   },
   {
    "duration": 18,
    "start_time": "2024-05-10T13:59:14.159Z"
   },
   {
    "duration": 4,
    "start_time": "2024-05-10T13:59:14.178Z"
   },
   {
    "duration": 16,
    "start_time": "2024-05-10T13:59:14.183Z"
   },
   {
    "duration": 22,
    "start_time": "2024-05-10T13:59:14.200Z"
   },
   {
    "duration": 9,
    "start_time": "2024-05-10T13:59:14.223Z"
   },
   {
    "duration": 22,
    "start_time": "2024-05-10T13:59:14.234Z"
   },
   {
    "duration": 4,
    "start_time": "2024-05-10T13:59:14.258Z"
   },
   {
    "duration": 11,
    "start_time": "2024-05-10T13:59:14.267Z"
   },
   {
    "duration": 3,
    "start_time": "2024-05-10T13:59:14.279Z"
   },
   {
    "duration": 33,
    "start_time": "2024-05-10T13:59:14.283Z"
   },
   {
    "duration": 3,
    "start_time": "2024-05-10T13:59:14.318Z"
   },
   {
    "duration": 5,
    "start_time": "2024-05-10T13:59:14.323Z"
   },
   {
    "duration": 23,
    "start_time": "2024-05-10T13:59:14.329Z"
   },
   {
    "duration": 34,
    "start_time": "2024-05-10T13:59:14.354Z"
   },
   {
    "duration": 13,
    "start_time": "2024-05-10T13:59:14.389Z"
   },
   {
    "duration": 20,
    "start_time": "2024-05-10T13:59:14.403Z"
   },
   {
    "duration": 8,
    "start_time": "2024-05-10T13:59:14.424Z"
   },
   {
    "duration": 3,
    "start_time": "2024-05-10T13:59:14.433Z"
   },
   {
    "duration": 29,
    "start_time": "2024-05-10T13:59:14.437Z"
   },
   {
    "duration": 18,
    "start_time": "2024-05-10T13:59:14.467Z"
   },
   {
    "duration": 13,
    "start_time": "2024-05-10T13:59:14.486Z"
   },
   {
    "duration": 3,
    "start_time": "2024-05-10T13:59:14.500Z"
   },
   {
    "duration": 16,
    "start_time": "2024-05-10T13:59:14.504Z"
   },
   {
    "duration": 12,
    "start_time": "2024-05-10T13:59:14.521Z"
   },
   {
    "duration": 5,
    "start_time": "2024-05-10T13:59:14.534Z"
   },
   {
    "duration": 4,
    "start_time": "2024-05-10T13:59:14.540Z"
   },
   {
    "duration": 25,
    "start_time": "2024-05-10T13:59:14.545Z"
   },
   {
    "duration": 4,
    "start_time": "2024-05-10T13:59:14.571Z"
   },
   {
    "duration": 6,
    "start_time": "2024-05-10T13:59:14.576Z"
   },
   {
    "duration": 29,
    "start_time": "2024-05-10T13:59:14.583Z"
   },
   {
    "duration": 2,
    "start_time": "2024-05-10T13:59:14.614Z"
   },
   {
    "duration": 14,
    "start_time": "2024-05-10T13:59:14.617Z"
   },
   {
    "duration": 11,
    "start_time": "2024-05-10T13:59:14.633Z"
   },
   {
    "duration": 4,
    "start_time": "2024-05-10T13:59:14.645Z"
   },
   {
    "duration": 6,
    "start_time": "2024-05-10T13:59:14.651Z"
   },
   {
    "duration": 12,
    "start_time": "2024-05-10T13:59:14.658Z"
   },
   {
    "duration": 4,
    "start_time": "2024-05-10T13:59:14.672Z"
   },
   {
    "duration": 171,
    "start_time": "2024-05-10T13:59:14.677Z"
   },
   {
    "duration": 157,
    "start_time": "2024-05-10T13:59:14.849Z"
   },
   {
    "duration": 166,
    "start_time": "2024-05-10T13:59:15.012Z"
   },
   {
    "duration": 164,
    "start_time": "2024-05-10T13:59:15.179Z"
   },
   {
    "duration": 12,
    "start_time": "2024-05-10T13:59:15.344Z"
   },
   {
    "duration": 44,
    "start_time": "2024-05-10T13:59:15.358Z"
   },
   {
    "duration": 172,
    "start_time": "2024-05-10T13:59:15.403Z"
   },
   {
    "duration": 706,
    "start_time": "2024-05-10T13:59:15.576Z"
   },
   {
    "duration": 152,
    "start_time": "2024-05-10T13:59:16.283Z"
   },
   {
    "duration": 172,
    "start_time": "2024-05-10T13:59:16.436Z"
   },
   {
    "duration": 5,
    "start_time": "2024-05-10T13:59:16.611Z"
   },
   {
    "duration": 9,
    "start_time": "2024-05-10T13:59:16.618Z"
   },
   {
    "duration": 15,
    "start_time": "2024-05-10T13:59:16.628Z"
   },
   {
    "duration": 8,
    "start_time": "2024-05-10T13:59:16.645Z"
   },
   {
    "duration": 149,
    "start_time": "2024-05-10T13:59:16.654Z"
   },
   {
    "duration": 4,
    "start_time": "2024-05-10T13:59:16.804Z"
   },
   {
    "duration": 167,
    "start_time": "2024-05-10T13:59:16.812Z"
   },
   {
    "duration": 170,
    "start_time": "2024-05-10T13:59:16.981Z"
   },
   {
    "duration": 41,
    "start_time": "2024-05-10T14:01:10.302Z"
   },
   {
    "duration": 47,
    "start_time": "2024-05-10T16:11:39.028Z"
   },
   {
    "duration": 853,
    "start_time": "2024-05-10T16:11:44.950Z"
   },
   {
    "duration": 4,
    "start_time": "2024-05-10T16:11:45.805Z"
   },
   {
    "duration": 378,
    "start_time": "2024-05-10T16:11:45.811Z"
   },
   {
    "duration": 8,
    "start_time": "2024-05-10T16:11:46.191Z"
   },
   {
    "duration": 24,
    "start_time": "2024-05-10T16:11:46.201Z"
   },
   {
    "duration": 15,
    "start_time": "2024-05-10T16:11:46.227Z"
   },
   {
    "duration": 9,
    "start_time": "2024-05-10T16:11:46.244Z"
   },
   {
    "duration": 40,
    "start_time": "2024-05-10T16:11:46.254Z"
   },
   {
    "duration": 25,
    "start_time": "2024-05-10T16:11:46.299Z"
   },
   {
    "duration": 16,
    "start_time": "2024-05-10T16:11:46.326Z"
   },
   {
    "duration": 5,
    "start_time": "2024-05-10T16:11:46.344Z"
   },
   {
    "duration": 41,
    "start_time": "2024-05-10T16:11:46.351Z"
   },
   {
    "duration": 33,
    "start_time": "2024-05-10T16:11:46.395Z"
   },
   {
    "duration": 5,
    "start_time": "2024-05-10T16:11:46.429Z"
   },
   {
    "duration": 13,
    "start_time": "2024-05-10T16:11:46.435Z"
   },
   {
    "duration": 19,
    "start_time": "2024-05-10T16:11:46.449Z"
   },
   {
    "duration": 48,
    "start_time": "2024-05-10T16:11:46.469Z"
   },
   {
    "duration": 28,
    "start_time": "2024-05-10T16:11:46.519Z"
   },
   {
    "duration": 13,
    "start_time": "2024-05-10T16:11:46.549Z"
   },
   {
    "duration": 6,
    "start_time": "2024-05-10T16:11:46.591Z"
   },
   {
    "duration": 23,
    "start_time": "2024-05-10T16:11:46.600Z"
   },
   {
    "duration": 7,
    "start_time": "2024-05-10T16:11:46.625Z"
   },
   {
    "duration": 12,
    "start_time": "2024-05-10T16:11:46.634Z"
   },
   {
    "duration": 21,
    "start_time": "2024-05-10T16:11:46.647Z"
   },
   {
    "duration": 5,
    "start_time": "2024-05-10T16:11:46.669Z"
   },
   {
    "duration": 49,
    "start_time": "2024-05-10T16:11:46.676Z"
   },
   {
    "duration": 5,
    "start_time": "2024-05-10T16:11:46.727Z"
   },
   {
    "duration": 29,
    "start_time": "2024-05-10T16:11:46.736Z"
   },
   {
    "duration": 4,
    "start_time": "2024-05-10T16:11:46.766Z"
   },
   {
    "duration": 29,
    "start_time": "2024-05-10T16:11:46.772Z"
   },
   {
    "duration": 7,
    "start_time": "2024-05-10T16:11:46.804Z"
   },
   {
    "duration": 11,
    "start_time": "2024-05-10T16:11:46.813Z"
   },
   {
    "duration": 20,
    "start_time": "2024-05-10T16:11:46.826Z"
   },
   {
    "duration": 26,
    "start_time": "2024-05-10T16:11:46.848Z"
   },
   {
    "duration": 15,
    "start_time": "2024-05-10T16:11:46.876Z"
   },
   {
    "duration": 20,
    "start_time": "2024-05-10T16:11:46.893Z"
   },
   {
    "duration": 5,
    "start_time": "2024-05-10T16:11:46.915Z"
   },
   {
    "duration": 9,
    "start_time": "2024-05-10T16:11:46.922Z"
   },
   {
    "duration": 15,
    "start_time": "2024-05-10T16:11:46.932Z"
   },
   {
    "duration": 15,
    "start_time": "2024-05-10T16:11:46.949Z"
   },
   {
    "duration": 26,
    "start_time": "2024-05-10T16:11:46.966Z"
   },
   {
    "duration": 23,
    "start_time": "2024-05-10T16:11:46.994Z"
   },
   {
    "duration": 5,
    "start_time": "2024-05-10T16:11:47.018Z"
   },
   {
    "duration": 16,
    "start_time": "2024-05-10T16:11:47.025Z"
   },
   {
    "duration": 14,
    "start_time": "2024-05-10T16:11:47.043Z"
   },
   {
    "duration": 35,
    "start_time": "2024-05-10T16:11:47.058Z"
   },
   {
    "duration": 13,
    "start_time": "2024-05-10T16:11:47.096Z"
   },
   {
    "duration": 20,
    "start_time": "2024-05-10T16:11:47.112Z"
   },
   {
    "duration": 4,
    "start_time": "2024-05-10T16:11:47.134Z"
   },
   {
    "duration": 22,
    "start_time": "2024-05-10T16:11:47.140Z"
   },
   {
    "duration": 14,
    "start_time": "2024-05-10T16:11:47.164Z"
   },
   {
    "duration": 15,
    "start_time": "2024-05-10T16:11:47.193Z"
   },
   {
    "duration": 16,
    "start_time": "2024-05-10T16:11:47.210Z"
   },
   {
    "duration": 13,
    "start_time": "2024-05-10T16:11:47.228Z"
   },
   {
    "duration": 4,
    "start_time": "2024-05-10T16:11:47.242Z"
   },
   {
    "duration": 20,
    "start_time": "2024-05-10T16:11:47.247Z"
   },
   {
    "duration": 22,
    "start_time": "2024-05-10T16:11:47.269Z"
   },
   {
    "duration": 10,
    "start_time": "2024-05-10T16:11:47.293Z"
   },
   {
    "duration": 186,
    "start_time": "2024-05-10T16:11:47.305Z"
   },
   {
    "duration": 194,
    "start_time": "2024-05-10T16:11:47.493Z"
   },
   {
    "duration": 202,
    "start_time": "2024-05-10T16:11:47.692Z"
   },
   {
    "duration": 200,
    "start_time": "2024-05-10T16:11:47.895Z"
   },
   {
    "duration": 20,
    "start_time": "2024-05-10T16:11:48.096Z"
   },
   {
    "duration": 25,
    "start_time": "2024-05-10T16:11:48.117Z"
   },
   {
    "duration": 274,
    "start_time": "2024-05-10T16:11:48.144Z"
   },
   {
    "duration": 760,
    "start_time": "2024-05-10T16:11:48.419Z"
   },
   {
    "duration": 174,
    "start_time": "2024-05-10T16:11:49.180Z"
   },
   {
    "duration": 192,
    "start_time": "2024-05-10T16:11:49.355Z"
   },
   {
    "duration": 7,
    "start_time": "2024-05-10T16:11:49.548Z"
   },
   {
    "duration": 8,
    "start_time": "2024-05-10T16:11:49.556Z"
   },
   {
    "duration": 27,
    "start_time": "2024-05-10T16:11:49.566Z"
   },
   {
    "duration": 12,
    "start_time": "2024-05-10T16:11:49.595Z"
   },
   {
    "duration": 171,
    "start_time": "2024-05-10T16:11:49.609Z"
   },
   {
    "duration": 19,
    "start_time": "2024-05-10T16:11:49.782Z"
   },
   {
    "duration": 202,
    "start_time": "2024-05-10T16:11:49.808Z"
   },
   {
    "duration": 203,
    "start_time": "2024-05-10T16:11:50.013Z"
   },
   {
    "duration": 93,
    "start_time": "2024-05-10T16:13:04.271Z"
   },
   {
    "duration": 252,
    "start_time": "2024-05-10T16:13:15.576Z"
   },
   {
    "duration": 7,
    "start_time": "2024-05-10T16:15:12.241Z"
   },
   {
    "duration": 27,
    "start_time": "2024-05-10T16:24:36.313Z"
   },
   {
    "duration": 26,
    "start_time": "2024-05-10T16:27:28.308Z"
   },
   {
    "duration": 9,
    "start_time": "2024-05-10T16:28:25.264Z"
   },
   {
    "duration": 11,
    "start_time": "2024-05-10T16:28:34.740Z"
   },
   {
    "duration": 659,
    "start_time": "2024-05-10T16:29:17.526Z"
   },
   {
    "duration": 4,
    "start_time": "2024-05-10T16:29:18.188Z"
   },
   {
    "duration": 143,
    "start_time": "2024-05-10T16:29:18.194Z"
   },
   {
    "duration": 6,
    "start_time": "2024-05-10T16:29:18.339Z"
   },
   {
    "duration": 28,
    "start_time": "2024-05-10T16:29:18.346Z"
   },
   {
    "duration": 18,
    "start_time": "2024-05-10T16:29:18.376Z"
   },
   {
    "duration": 11,
    "start_time": "2024-05-10T16:29:18.396Z"
   },
   {
    "duration": 22,
    "start_time": "2024-05-10T16:29:18.408Z"
   },
   {
    "duration": 32,
    "start_time": "2024-05-10T16:29:18.431Z"
   },
   {
    "duration": 39,
    "start_time": "2024-05-10T16:29:18.466Z"
   },
   {
    "duration": 5,
    "start_time": "2024-05-10T16:29:18.507Z"
   },
   {
    "duration": 17,
    "start_time": "2024-05-10T16:29:18.513Z"
   },
   {
    "duration": 22,
    "start_time": "2024-05-10T16:29:18.532Z"
   },
   {
    "duration": 4,
    "start_time": "2024-05-10T16:29:18.555Z"
   },
   {
    "duration": 31,
    "start_time": "2024-05-10T16:29:18.560Z"
   },
   {
    "duration": 39,
    "start_time": "2024-05-10T16:29:18.593Z"
   },
   {
    "duration": 100,
    "start_time": "2024-05-10T16:29:18.634Z"
   },
   {
    "duration": 31,
    "start_time": "2024-05-10T16:29:18.736Z"
   },
   {
    "duration": 11,
    "start_time": "2024-05-10T16:29:18.769Z"
   },
   {
    "duration": 9,
    "start_time": "2024-05-10T16:29:18.782Z"
   },
   {
    "duration": 23,
    "start_time": "2024-05-10T16:29:18.793Z"
   },
   {
    "duration": 12,
    "start_time": "2024-05-10T16:29:18.818Z"
   },
   {
    "duration": 14,
    "start_time": "2024-05-10T16:29:18.831Z"
   },
   {
    "duration": 7,
    "start_time": "2024-05-10T16:29:18.846Z"
   },
   {
    "duration": 16,
    "start_time": "2024-05-10T16:29:18.854Z"
   },
   {
    "duration": 34,
    "start_time": "2024-05-10T16:29:18.871Z"
   },
   {
    "duration": 5,
    "start_time": "2024-05-10T16:29:18.906Z"
   },
   {
    "duration": 20,
    "start_time": "2024-05-10T16:29:18.915Z"
   },
   {
    "duration": 5,
    "start_time": "2024-05-10T16:29:18.937Z"
   },
   {
    "duration": 40,
    "start_time": "2024-05-10T16:29:18.944Z"
   },
   {
    "duration": 4,
    "start_time": "2024-05-10T16:29:18.986Z"
   },
   {
    "duration": 10,
    "start_time": "2024-05-10T16:29:18.992Z"
   },
   {
    "duration": 21,
    "start_time": "2024-05-10T16:29:19.003Z"
   },
   {
    "duration": 6,
    "start_time": "2024-05-10T16:29:19.025Z"
   },
   {
    "duration": 7,
    "start_time": "2024-05-10T16:29:19.033Z"
   },
   {
    "duration": 8,
    "start_time": "2024-05-10T16:29:19.042Z"
   },
   {
    "duration": 268,
    "start_time": "2024-05-10T16:29:19.051Z"
   },
   {
    "duration": 19,
    "start_time": "2024-05-10T16:29:19.321Z"
   },
   {
    "duration": 15,
    "start_time": "2024-05-10T16:29:19.341Z"
   },
   {
    "duration": 5,
    "start_time": "2024-05-10T16:29:19.358Z"
   },
   {
    "duration": 28,
    "start_time": "2024-05-10T16:29:19.364Z"
   },
   {
    "duration": 9,
    "start_time": "2024-05-10T16:29:19.394Z"
   },
   {
    "duration": 9,
    "start_time": "2024-05-10T16:29:19.404Z"
   },
   {
    "duration": 13,
    "start_time": "2024-05-10T16:29:19.415Z"
   },
   {
    "duration": 29,
    "start_time": "2024-05-10T16:29:19.429Z"
   },
   {
    "duration": 5,
    "start_time": "2024-05-10T16:29:19.460Z"
   },
   {
    "duration": 34,
    "start_time": "2024-05-10T16:29:19.466Z"
   },
   {
    "duration": 56,
    "start_time": "2024-05-10T16:29:19.502Z"
   },
   {
    "duration": 10,
    "start_time": "2024-05-10T16:29:19.560Z"
   },
   {
    "duration": 16,
    "start_time": "2024-05-10T16:29:19.571Z"
   },
   {
    "duration": 65,
    "start_time": "2024-05-10T16:29:19.589Z"
   },
   {
    "duration": 23,
    "start_time": "2024-05-10T16:29:19.655Z"
   },
   {
    "duration": 17,
    "start_time": "2024-05-10T16:29:19.680Z"
   },
   {
    "duration": 15,
    "start_time": "2024-05-10T16:29:19.698Z"
   },
   {
    "duration": 7,
    "start_time": "2024-05-10T16:29:19.715Z"
   },
   {
    "duration": 31,
    "start_time": "2024-05-10T16:29:19.724Z"
   },
   {
    "duration": 19,
    "start_time": "2024-05-10T16:29:19.756Z"
   },
   {
    "duration": 12,
    "start_time": "2024-05-10T16:29:19.777Z"
   },
   {
    "duration": 10,
    "start_time": "2024-05-10T16:29:19.791Z"
   },
   {
    "duration": 14,
    "start_time": "2024-05-10T16:29:19.804Z"
   },
   {
    "duration": 6,
    "start_time": "2024-05-10T16:29:19.820Z"
   },
   {
    "duration": 187,
    "start_time": "2024-05-10T16:29:19.828Z"
   },
   {
    "duration": 187,
    "start_time": "2024-05-10T16:29:20.016Z"
   },
   {
    "duration": 192,
    "start_time": "2024-05-10T16:29:20.205Z"
   },
   {
    "duration": 212,
    "start_time": "2024-05-10T16:29:20.398Z"
   },
   {
    "duration": 16,
    "start_time": "2024-05-10T16:29:20.616Z"
   },
   {
    "duration": 22,
    "start_time": "2024-05-10T16:29:20.634Z"
   },
   {
    "duration": 225,
    "start_time": "2024-05-10T16:29:20.658Z"
   },
   {
    "duration": 869,
    "start_time": "2024-05-10T16:29:20.884Z"
   },
   {
    "duration": 169,
    "start_time": "2024-05-10T16:29:21.754Z"
   },
   {
    "duration": 202,
    "start_time": "2024-05-10T16:29:21.924Z"
   },
   {
    "duration": 6,
    "start_time": "2024-05-10T16:29:22.128Z"
   },
   {
    "duration": 21,
    "start_time": "2024-05-10T16:29:22.135Z"
   },
   {
    "duration": 18,
    "start_time": "2024-05-10T16:29:22.158Z"
   },
   {
    "duration": 11,
    "start_time": "2024-05-10T16:29:22.178Z"
   },
   {
    "duration": 155,
    "start_time": "2024-05-10T16:29:22.190Z"
   },
   {
    "duration": 4,
    "start_time": "2024-05-10T16:29:22.346Z"
   },
   {
    "duration": 207,
    "start_time": "2024-05-10T16:29:22.352Z"
   },
   {
    "duration": 192,
    "start_time": "2024-05-10T16:29:22.561Z"
   }
  ],
  "colab": {
   "name": "DA+. Сборный проект 1. Шаблон (1).ipynb",
   "provenance": []
  },
  "kernelspec": {
   "display_name": "Python 3 (ipykernel)",
   "language": "python",
   "name": "python3"
  },
  "language_info": {
   "codemirror_mode": {
    "name": "ipython",
    "version": 3
   },
   "file_extension": ".py",
   "mimetype": "text/x-python",
   "name": "python",
   "nbconvert_exporter": "python",
   "pygments_lexer": "ipython3",
   "version": "3.9.5"
  },
  "toc": {
   "base_numbering": 1,
   "nav_menu": {
    "height": "308px",
    "width": "382px"
   },
   "number_sections": true,
   "sideBar": true,
   "skip_h1_title": true,
   "title_cell": "Table of Contents",
   "title_sidebar": "Contents",
   "toc_cell": false,
   "toc_position": {
    "height": "calc(100% - 180px)",
    "left": "10px",
    "top": "150px",
    "width": "375.391px"
   },
   "toc_section_display": true,
   "toc_window_display": false
  }
 },
 "nbformat": 4,
 "nbformat_minor": 1
}
