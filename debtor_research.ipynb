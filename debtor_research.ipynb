{
 "cells": [
  {
   "cell_type": "markdown",
   "id": "9523346d",
   "metadata": {
    "deletable": false,
    "editable": false,
    "id": "c81daeeb"
   },
   "source": [
    "# Исследование надежности заемщиков\n"
   ]
  },
  {
   "cell_type": "markdown",
   "id": "30c7fa57",
   "metadata": {
    "deletable": false,
    "editable": false,
    "id": "827c20bf"
   },
   "source": [
    "Во второй части проекта вы выполните шаги 3 и 4. Их вручную проверит ревьюер.\n",
    "Чтобы вам не пришлось писать код заново для шагов 1 и 2, мы добавили авторские решения в ячейки с кодом. \n",
    "\n"
   ]
  },
  {
   "cell_type": "markdown",
   "id": "4c3432a2",
   "metadata": {
    "deletable": false,
    "editable": false,
    "id": "744d7639"
   },
   "source": [
    "## Откройте таблицу и изучите общую информацию о данных"
   ]
  },
  {
   "cell_type": "markdown",
   "id": "baea849c",
   "metadata": {
    "deletable": false,
    "editable": false,
    "id": "e7a14c31"
   },
   "source": [
    "**Задание 1. Импортируйте библиотеку pandas. Считайте данные из csv-файла в датафрейм и сохраните в переменную `data`. Путь к файлу:**\n",
    "\n",
    "`/datasets/data.csv`"
   ]
  },
  {
   "cell_type": "code",
   "execution_count": 1,
   "id": "00449c91",
   "metadata": {
    "deletable": false,
    "id": "7bcf75c9"
   },
   "outputs": [],
   "source": [
    "import pandas as pd\n",
    "\n",
    "try:\n",
    "    data = pd.read_csv('/datasets/data.csv')\n",
    "except:\n",
    "    data = pd.read_csv('https://code.s3.yandex.net/datasets/data.csv')"
   ]
  },
  {
   "cell_type": "markdown",
   "id": "42a24d7a",
   "metadata": {
    "deletable": false,
    "editable": false,
    "id": "b8038fe3"
   },
   "source": [
    "**Задание 2. Выведите первые 20 строчек датафрейма `data` на экран.**"
   ]
  },
  {
   "cell_type": "code",
   "execution_count": 2,
   "id": "5d0e7ff4",
   "metadata": {
    "deletable": false,
    "id": "2a7cab99",
    "outputId": "1a8f3ef2-d323-4ec2-ddf7-89670b5944c4"
   },
   "outputs": [
    {
     "data": {
      "text/html": [
       "<div>\n",
       "<style scoped>\n",
       "    .dataframe tbody tr th:only-of-type {\n",
       "        vertical-align: middle;\n",
       "    }\n",
       "\n",
       "    .dataframe tbody tr th {\n",
       "        vertical-align: top;\n",
       "    }\n",
       "\n",
       "    .dataframe thead th {\n",
       "        text-align: right;\n",
       "    }\n",
       "</style>\n",
       "<table border=\"1\" class=\"dataframe\">\n",
       "  <thead>\n",
       "    <tr style=\"text-align: right;\">\n",
       "      <th></th>\n",
       "      <th>children</th>\n",
       "      <th>days_employed</th>\n",
       "      <th>dob_years</th>\n",
       "      <th>education</th>\n",
       "      <th>education_id</th>\n",
       "      <th>family_status</th>\n",
       "      <th>family_status_id</th>\n",
       "      <th>gender</th>\n",
       "      <th>income_type</th>\n",
       "      <th>debt</th>\n",
       "      <th>total_income</th>\n",
       "      <th>purpose</th>\n",
       "    </tr>\n",
       "  </thead>\n",
       "  <tbody>\n",
       "    <tr>\n",
       "      <th>0</th>\n",
       "      <td>1</td>\n",
       "      <td>-8437.673028</td>\n",
       "      <td>42</td>\n",
       "      <td>высшее</td>\n",
       "      <td>0</td>\n",
       "      <td>женат / замужем</td>\n",
       "      <td>0</td>\n",
       "      <td>F</td>\n",
       "      <td>сотрудник</td>\n",
       "      <td>0</td>\n",
       "      <td>253875.639453</td>\n",
       "      <td>покупка жилья</td>\n",
       "    </tr>\n",
       "    <tr>\n",
       "      <th>1</th>\n",
       "      <td>1</td>\n",
       "      <td>-4024.803754</td>\n",
       "      <td>36</td>\n",
       "      <td>среднее</td>\n",
       "      <td>1</td>\n",
       "      <td>женат / замужем</td>\n",
       "      <td>0</td>\n",
       "      <td>F</td>\n",
       "      <td>сотрудник</td>\n",
       "      <td>0</td>\n",
       "      <td>112080.014102</td>\n",
       "      <td>приобретение автомобиля</td>\n",
       "    </tr>\n",
       "    <tr>\n",
       "      <th>2</th>\n",
       "      <td>0</td>\n",
       "      <td>-5623.422610</td>\n",
       "      <td>33</td>\n",
       "      <td>Среднее</td>\n",
       "      <td>1</td>\n",
       "      <td>женат / замужем</td>\n",
       "      <td>0</td>\n",
       "      <td>M</td>\n",
       "      <td>сотрудник</td>\n",
       "      <td>0</td>\n",
       "      <td>145885.952297</td>\n",
       "      <td>покупка жилья</td>\n",
       "    </tr>\n",
       "    <tr>\n",
       "      <th>3</th>\n",
       "      <td>3</td>\n",
       "      <td>-4124.747207</td>\n",
       "      <td>32</td>\n",
       "      <td>среднее</td>\n",
       "      <td>1</td>\n",
       "      <td>женат / замужем</td>\n",
       "      <td>0</td>\n",
       "      <td>M</td>\n",
       "      <td>сотрудник</td>\n",
       "      <td>0</td>\n",
       "      <td>267628.550329</td>\n",
       "      <td>дополнительное образование</td>\n",
       "    </tr>\n",
       "    <tr>\n",
       "      <th>4</th>\n",
       "      <td>0</td>\n",
       "      <td>340266.072047</td>\n",
       "      <td>53</td>\n",
       "      <td>среднее</td>\n",
       "      <td>1</td>\n",
       "      <td>гражданский брак</td>\n",
       "      <td>1</td>\n",
       "      <td>F</td>\n",
       "      <td>пенсионер</td>\n",
       "      <td>0</td>\n",
       "      <td>158616.077870</td>\n",
       "      <td>сыграть свадьбу</td>\n",
       "    </tr>\n",
       "    <tr>\n",
       "      <th>5</th>\n",
       "      <td>0</td>\n",
       "      <td>-926.185831</td>\n",
       "      <td>27</td>\n",
       "      <td>высшее</td>\n",
       "      <td>0</td>\n",
       "      <td>гражданский брак</td>\n",
       "      <td>1</td>\n",
       "      <td>M</td>\n",
       "      <td>компаньон</td>\n",
       "      <td>0</td>\n",
       "      <td>255763.565419</td>\n",
       "      <td>покупка жилья</td>\n",
       "    </tr>\n",
       "    <tr>\n",
       "      <th>6</th>\n",
       "      <td>0</td>\n",
       "      <td>-2879.202052</td>\n",
       "      <td>43</td>\n",
       "      <td>высшее</td>\n",
       "      <td>0</td>\n",
       "      <td>женат / замужем</td>\n",
       "      <td>0</td>\n",
       "      <td>F</td>\n",
       "      <td>компаньон</td>\n",
       "      <td>0</td>\n",
       "      <td>240525.971920</td>\n",
       "      <td>операции с жильем</td>\n",
       "    </tr>\n",
       "    <tr>\n",
       "      <th>7</th>\n",
       "      <td>0</td>\n",
       "      <td>-152.779569</td>\n",
       "      <td>50</td>\n",
       "      <td>СРЕДНЕЕ</td>\n",
       "      <td>1</td>\n",
       "      <td>женат / замужем</td>\n",
       "      <td>0</td>\n",
       "      <td>M</td>\n",
       "      <td>сотрудник</td>\n",
       "      <td>0</td>\n",
       "      <td>135823.934197</td>\n",
       "      <td>образование</td>\n",
       "    </tr>\n",
       "    <tr>\n",
       "      <th>8</th>\n",
       "      <td>2</td>\n",
       "      <td>-6929.865299</td>\n",
       "      <td>35</td>\n",
       "      <td>ВЫСШЕЕ</td>\n",
       "      <td>0</td>\n",
       "      <td>гражданский брак</td>\n",
       "      <td>1</td>\n",
       "      <td>F</td>\n",
       "      <td>сотрудник</td>\n",
       "      <td>0</td>\n",
       "      <td>95856.832424</td>\n",
       "      <td>на проведение свадьбы</td>\n",
       "    </tr>\n",
       "    <tr>\n",
       "      <th>9</th>\n",
       "      <td>0</td>\n",
       "      <td>-2188.756445</td>\n",
       "      <td>41</td>\n",
       "      <td>среднее</td>\n",
       "      <td>1</td>\n",
       "      <td>женат / замужем</td>\n",
       "      <td>0</td>\n",
       "      <td>M</td>\n",
       "      <td>сотрудник</td>\n",
       "      <td>0</td>\n",
       "      <td>144425.938277</td>\n",
       "      <td>покупка жилья для семьи</td>\n",
       "    </tr>\n",
       "    <tr>\n",
       "      <th>10</th>\n",
       "      <td>2</td>\n",
       "      <td>-4171.483647</td>\n",
       "      <td>36</td>\n",
       "      <td>высшее</td>\n",
       "      <td>0</td>\n",
       "      <td>женат / замужем</td>\n",
       "      <td>0</td>\n",
       "      <td>M</td>\n",
       "      <td>компаньон</td>\n",
       "      <td>0</td>\n",
       "      <td>113943.491460</td>\n",
       "      <td>покупка недвижимости</td>\n",
       "    </tr>\n",
       "    <tr>\n",
       "      <th>11</th>\n",
       "      <td>0</td>\n",
       "      <td>-792.701887</td>\n",
       "      <td>40</td>\n",
       "      <td>среднее</td>\n",
       "      <td>1</td>\n",
       "      <td>женат / замужем</td>\n",
       "      <td>0</td>\n",
       "      <td>F</td>\n",
       "      <td>сотрудник</td>\n",
       "      <td>0</td>\n",
       "      <td>77069.234271</td>\n",
       "      <td>покупка коммерческой недвижимости</td>\n",
       "    </tr>\n",
       "    <tr>\n",
       "      <th>12</th>\n",
       "      <td>0</td>\n",
       "      <td>NaN</td>\n",
       "      <td>65</td>\n",
       "      <td>среднее</td>\n",
       "      <td>1</td>\n",
       "      <td>гражданский брак</td>\n",
       "      <td>1</td>\n",
       "      <td>M</td>\n",
       "      <td>пенсионер</td>\n",
       "      <td>0</td>\n",
       "      <td>NaN</td>\n",
       "      <td>сыграть свадьбу</td>\n",
       "    </tr>\n",
       "    <tr>\n",
       "      <th>13</th>\n",
       "      <td>0</td>\n",
       "      <td>-1846.641941</td>\n",
       "      <td>54</td>\n",
       "      <td>неоконченное высшее</td>\n",
       "      <td>2</td>\n",
       "      <td>женат / замужем</td>\n",
       "      <td>0</td>\n",
       "      <td>F</td>\n",
       "      <td>сотрудник</td>\n",
       "      <td>0</td>\n",
       "      <td>130458.228857</td>\n",
       "      <td>приобретение автомобиля</td>\n",
       "    </tr>\n",
       "    <tr>\n",
       "      <th>14</th>\n",
       "      <td>0</td>\n",
       "      <td>-1844.956182</td>\n",
       "      <td>56</td>\n",
       "      <td>высшее</td>\n",
       "      <td>0</td>\n",
       "      <td>гражданский брак</td>\n",
       "      <td>1</td>\n",
       "      <td>F</td>\n",
       "      <td>компаньон</td>\n",
       "      <td>1</td>\n",
       "      <td>165127.911772</td>\n",
       "      <td>покупка жилой недвижимости</td>\n",
       "    </tr>\n",
       "    <tr>\n",
       "      <th>15</th>\n",
       "      <td>1</td>\n",
       "      <td>-972.364419</td>\n",
       "      <td>26</td>\n",
       "      <td>среднее</td>\n",
       "      <td>1</td>\n",
       "      <td>женат / замужем</td>\n",
       "      <td>0</td>\n",
       "      <td>F</td>\n",
       "      <td>сотрудник</td>\n",
       "      <td>0</td>\n",
       "      <td>116820.904450</td>\n",
       "      <td>строительство собственной недвижимости</td>\n",
       "    </tr>\n",
       "    <tr>\n",
       "      <th>16</th>\n",
       "      <td>0</td>\n",
       "      <td>-1719.934226</td>\n",
       "      <td>35</td>\n",
       "      <td>среднее</td>\n",
       "      <td>1</td>\n",
       "      <td>женат / замужем</td>\n",
       "      <td>0</td>\n",
       "      <td>F</td>\n",
       "      <td>сотрудник</td>\n",
       "      <td>0</td>\n",
       "      <td>289202.704229</td>\n",
       "      <td>недвижимость</td>\n",
       "    </tr>\n",
       "    <tr>\n",
       "      <th>17</th>\n",
       "      <td>0</td>\n",
       "      <td>-2369.999720</td>\n",
       "      <td>33</td>\n",
       "      <td>высшее</td>\n",
       "      <td>0</td>\n",
       "      <td>гражданский брак</td>\n",
       "      <td>1</td>\n",
       "      <td>M</td>\n",
       "      <td>сотрудник</td>\n",
       "      <td>0</td>\n",
       "      <td>90410.586745</td>\n",
       "      <td>строительство недвижимости</td>\n",
       "    </tr>\n",
       "    <tr>\n",
       "      <th>18</th>\n",
       "      <td>0</td>\n",
       "      <td>400281.136913</td>\n",
       "      <td>53</td>\n",
       "      <td>среднее</td>\n",
       "      <td>1</td>\n",
       "      <td>вдовец / вдова</td>\n",
       "      <td>2</td>\n",
       "      <td>F</td>\n",
       "      <td>пенсионер</td>\n",
       "      <td>0</td>\n",
       "      <td>56823.777243</td>\n",
       "      <td>на покупку подержанного автомобиля</td>\n",
       "    </tr>\n",
       "    <tr>\n",
       "      <th>19</th>\n",
       "      <td>0</td>\n",
       "      <td>-10038.818549</td>\n",
       "      <td>48</td>\n",
       "      <td>СРЕДНЕЕ</td>\n",
       "      <td>1</td>\n",
       "      <td>в разводе</td>\n",
       "      <td>3</td>\n",
       "      <td>F</td>\n",
       "      <td>сотрудник</td>\n",
       "      <td>0</td>\n",
       "      <td>242831.107982</td>\n",
       "      <td>на покупку своего автомобиля</td>\n",
       "    </tr>\n",
       "  </tbody>\n",
       "</table>\n",
       "</div>"
      ],
      "text/plain": [
       "    children  days_employed  dob_years            education  education_id  \\\n",
       "0          1   -8437.673028         42               высшее             0   \n",
       "1          1   -4024.803754         36              среднее             1   \n",
       "2          0   -5623.422610         33              Среднее             1   \n",
       "3          3   -4124.747207         32              среднее             1   \n",
       "4          0  340266.072047         53              среднее             1   \n",
       "5          0    -926.185831         27               высшее             0   \n",
       "6          0   -2879.202052         43               высшее             0   \n",
       "7          0    -152.779569         50              СРЕДНЕЕ             1   \n",
       "8          2   -6929.865299         35               ВЫСШЕЕ             0   \n",
       "9          0   -2188.756445         41              среднее             1   \n",
       "10         2   -4171.483647         36               высшее             0   \n",
       "11         0    -792.701887         40              среднее             1   \n",
       "12         0            NaN         65              среднее             1   \n",
       "13         0   -1846.641941         54  неоконченное высшее             2   \n",
       "14         0   -1844.956182         56               высшее             0   \n",
       "15         1    -972.364419         26              среднее             1   \n",
       "16         0   -1719.934226         35              среднее             1   \n",
       "17         0   -2369.999720         33               высшее             0   \n",
       "18         0  400281.136913         53              среднее             1   \n",
       "19         0  -10038.818549         48              СРЕДНЕЕ             1   \n",
       "\n",
       "       family_status  family_status_id gender income_type  debt  \\\n",
       "0    женат / замужем                 0      F   сотрудник     0   \n",
       "1    женат / замужем                 0      F   сотрудник     0   \n",
       "2    женат / замужем                 0      M   сотрудник     0   \n",
       "3    женат / замужем                 0      M   сотрудник     0   \n",
       "4   гражданский брак                 1      F   пенсионер     0   \n",
       "5   гражданский брак                 1      M   компаньон     0   \n",
       "6    женат / замужем                 0      F   компаньон     0   \n",
       "7    женат / замужем                 0      M   сотрудник     0   \n",
       "8   гражданский брак                 1      F   сотрудник     0   \n",
       "9    женат / замужем                 0      M   сотрудник     0   \n",
       "10   женат / замужем                 0      M   компаньон     0   \n",
       "11   женат / замужем                 0      F   сотрудник     0   \n",
       "12  гражданский брак                 1      M   пенсионер     0   \n",
       "13   женат / замужем                 0      F   сотрудник     0   \n",
       "14  гражданский брак                 1      F   компаньон     1   \n",
       "15   женат / замужем                 0      F   сотрудник     0   \n",
       "16   женат / замужем                 0      F   сотрудник     0   \n",
       "17  гражданский брак                 1      M   сотрудник     0   \n",
       "18    вдовец / вдова                 2      F   пенсионер     0   \n",
       "19         в разводе                 3      F   сотрудник     0   \n",
       "\n",
       "     total_income                                 purpose  \n",
       "0   253875.639453                           покупка жилья  \n",
       "1   112080.014102                 приобретение автомобиля  \n",
       "2   145885.952297                           покупка жилья  \n",
       "3   267628.550329              дополнительное образование  \n",
       "4   158616.077870                         сыграть свадьбу  \n",
       "5   255763.565419                           покупка жилья  \n",
       "6   240525.971920                       операции с жильем  \n",
       "7   135823.934197                             образование  \n",
       "8    95856.832424                   на проведение свадьбы  \n",
       "9   144425.938277                 покупка жилья для семьи  \n",
       "10  113943.491460                    покупка недвижимости  \n",
       "11   77069.234271       покупка коммерческой недвижимости  \n",
       "12            NaN                         сыграть свадьбу  \n",
       "13  130458.228857                 приобретение автомобиля  \n",
       "14  165127.911772              покупка жилой недвижимости  \n",
       "15  116820.904450  строительство собственной недвижимости  \n",
       "16  289202.704229                            недвижимость  \n",
       "17   90410.586745              строительство недвижимости  \n",
       "18   56823.777243      на покупку подержанного автомобиля  \n",
       "19  242831.107982            на покупку своего автомобиля  "
      ]
     },
     "execution_count": 2,
     "metadata": {},
     "output_type": "execute_result"
    }
   ],
   "source": [
    "data.head(20)"
   ]
  },
  {
   "cell_type": "markdown",
   "id": "e028714f",
   "metadata": {
    "deletable": false,
    "editable": false,
    "id": "1c12e233"
   },
   "source": [
    "**Задание 3. Выведите основную информацию о датафрейме с помощью метода `info()`.**"
   ]
  },
  {
   "cell_type": "code",
   "execution_count": 3,
   "id": "94c0aa69",
   "metadata": {
    "deletable": false,
    "id": "2b757bca",
    "outputId": "15376089-8dad-46c9-b520-c05248d43158"
   },
   "outputs": [
    {
     "name": "stdout",
     "output_type": "stream",
     "text": [
      "<class 'pandas.core.frame.DataFrame'>\n",
      "RangeIndex: 21525 entries, 0 to 21524\n",
      "Data columns (total 12 columns):\n",
      " #   Column            Non-Null Count  Dtype  \n",
      "---  ------            --------------  -----  \n",
      " 0   children          21525 non-null  int64  \n",
      " 1   days_employed     19351 non-null  float64\n",
      " 2   dob_years         21525 non-null  int64  \n",
      " 3   education         21525 non-null  object \n",
      " 4   education_id      21525 non-null  int64  \n",
      " 5   family_status     21525 non-null  object \n",
      " 6   family_status_id  21525 non-null  int64  \n",
      " 7   gender            21525 non-null  object \n",
      " 8   income_type       21525 non-null  object \n",
      " 9   debt              21525 non-null  int64  \n",
      " 10  total_income      19351 non-null  float64\n",
      " 11  purpose           21525 non-null  object \n",
      "dtypes: float64(2), int64(5), object(5)\n",
      "memory usage: 2.0+ MB\n"
     ]
    }
   ],
   "source": [
    "data.info()"
   ]
  },
  {
   "cell_type": "markdown",
   "id": "ce051abd",
   "metadata": {
    "deletable": false,
    "editable": false,
    "id": "333ec665"
   },
   "source": [
    "## Предобработка данных"
   ]
  },
  {
   "cell_type": "markdown",
   "id": "66c16123",
   "metadata": {
    "deletable": false,
    "editable": false,
    "id": "02d92d53"
   },
   "source": [
    "### Удаление пропусков"
   ]
  },
  {
   "cell_type": "markdown",
   "id": "3bbd67b4",
   "metadata": {
    "deletable": false,
    "editable": false,
    "id": "cd84967c"
   },
   "source": [
    "**Задание 4. Выведите количество пропущенных значений для каждого столбца. Используйте комбинацию двух методов.**"
   ]
  },
  {
   "cell_type": "code",
   "execution_count": 4,
   "id": "74a4361f",
   "metadata": {
    "deletable": false,
    "id": "7f9b2309",
    "outputId": "81f4d817-781c-465c-ed15-91ce4446810d"
   },
   "outputs": [
    {
     "data": {
      "text/plain": [
       "children               0\n",
       "days_employed       2174\n",
       "dob_years              0\n",
       "education              0\n",
       "education_id           0\n",
       "family_status          0\n",
       "family_status_id       0\n",
       "gender                 0\n",
       "income_type            0\n",
       "debt                   0\n",
       "total_income        2174\n",
       "purpose                0\n",
       "dtype: int64"
      ]
     },
     "execution_count": 4,
     "metadata": {},
     "output_type": "execute_result"
    }
   ],
   "source": [
    "data.isna().sum()"
   ]
  },
  {
   "cell_type": "markdown",
   "id": "8e9abb2b",
   "metadata": {
    "deletable": false,
    "editable": false,
    "id": "db86e27b"
   },
   "source": [
    "**Задание 5. В двух столбцах есть пропущенные значения. Один из них — `days_employed`. Пропуски в этом столбце вы обработаете на следующем этапе. Другой столбец с пропущенными значениями — `total_income` — хранит данные о доходах. На сумму дохода сильнее всего влияет тип занятости, поэтому заполнить пропуски в этом столбце нужно медианным значением по каждому типу из столбца `income_type`. Например, у человека с типом занятости `сотрудник` пропуск в столбце `total_income` должен быть заполнен медианным доходом среди всех записей с тем же типом.**"
   ]
  },
  {
   "cell_type": "code",
   "execution_count": 5,
   "id": "8db4b289",
   "metadata": {
    "deletable": false,
    "id": "42006a93"
   },
   "outputs": [],
   "source": [
    "for t in data['income_type'].unique():\n",
    "    data.loc[(data['income_type'] == t) & (data['total_income'].isna()), 'total_income'] = \\\n",
    "    data.loc[(data['income_type'] == t), 'total_income'].median()"
   ]
  },
  {
   "cell_type": "markdown",
   "id": "0d807dbd",
   "metadata": {
    "deletable": false,
    "editable": false,
    "id": "89da5ece"
   },
   "source": [
    "### Обработка аномальных значений"
   ]
  },
  {
   "cell_type": "markdown",
   "id": "58dc5987",
   "metadata": {
    "deletable": false,
    "editable": false,
    "id": "57964554"
   },
   "source": [
    "**Задание 6. В данных могут встречаться артефакты (аномалии) — значения, которые не отражают действительность и появились по какой-то ошибке. таким артефактом будет отрицательное количество дней трудового стажа в столбце `days_employed`. Для реальных данных это нормально. Обработайте значения в этом столбце: замените все отрицательные значения положительными с помощью метода `abs()`.**"
   ]
  },
  {
   "cell_type": "code",
   "execution_count": 6,
   "id": "16c594e8",
   "metadata": {
    "deletable": false,
    "id": "f6f055bf"
   },
   "outputs": [],
   "source": [
    "data['days_employed'] = data['days_employed'].abs()"
   ]
  },
  {
   "cell_type": "markdown",
   "id": "8145f6a3",
   "metadata": {
    "deletable": false,
    "editable": false,
    "id": "6107dd2f"
   },
   "source": [
    "**Задание 7. Для каждого типа занятости выведите медианное значение трудового стажа `days_employed` в днях.**"
   ]
  },
  {
   "cell_type": "code",
   "execution_count": 7,
   "id": "f065d93f",
   "metadata": {
    "deletable": false,
    "id": "85a5faf6",
    "outputId": "801ef80e-522b-4668-f34e-565af7432bcf"
   },
   "outputs": [
    {
     "data": {
      "text/plain": [
       "income_type\n",
       "безработный        366413.652744\n",
       "в декрете            3296.759962\n",
       "госслужащий          2689.368353\n",
       "компаньон            1547.382223\n",
       "пенсионер          365213.306266\n",
       "предприниматель       520.848083\n",
       "сотрудник            1574.202821\n",
       "студент               578.751554\n",
       "Name: days_employed, dtype: float64"
      ]
     },
     "execution_count": 7,
     "metadata": {},
     "output_type": "execute_result"
    }
   ],
   "source": [
    "data.groupby('income_type')['days_employed'].agg('median')"
   ]
  },
  {
   "cell_type": "markdown",
   "id": "0b286566",
   "metadata": {
    "deletable": false,
    "editable": false,
    "id": "38d1a030"
   },
   "source": [
    "У двух типов (безработные и пенсионеры) получатся аномально большие значения. Исправить такие значения сложно, поэтому оставьте их как есть. Тем более этот столбец не понадобится вам для исследования."
   ]
  },
  {
   "cell_type": "markdown",
   "id": "7891f9a9",
   "metadata": {
    "deletable": false,
    "editable": false,
    "id": "d8a9f147"
   },
   "source": [
    "**Задание 8. Выведите перечень уникальных значений столбца `children`.**"
   ]
  },
  {
   "cell_type": "code",
   "execution_count": 8,
   "id": "4ba5278f",
   "metadata": {
    "deletable": false,
    "id": "ef5056eb",
    "outputId": "6975b15c-7f95-4697-d16d-a0c79b657b03"
   },
   "outputs": [
    {
     "data": {
      "text/plain": [
       "array([ 1,  0,  3,  2, -1,  4, 20,  5])"
      ]
     },
     "execution_count": 8,
     "metadata": {},
     "output_type": "execute_result"
    }
   ],
   "source": [
    "data['children'].unique()"
   ]
  },
  {
   "cell_type": "markdown",
   "id": "f85422b8",
   "metadata": {
    "deletable": false,
    "editable": false,
    "id": "40b9ebf2"
   },
   "source": [
    "**Задание 9. В столбце `children` есть два аномальных значения. Удалите строки, в которых встречаются такие аномальные значения из датафрейма `data`.**"
   ]
  },
  {
   "cell_type": "code",
   "execution_count": 9,
   "id": "bbb1a4aa",
   "metadata": {
    "deletable": false,
    "id": "3ff9801d"
   },
   "outputs": [],
   "source": [
    "data = data[(data['children'] != -1) & (data['children'] != 20)]"
   ]
  },
  {
   "cell_type": "markdown",
   "id": "8c8eb6bd",
   "metadata": {
    "deletable": false,
    "editable": false,
    "id": "bbc4d0ce"
   },
   "source": [
    "**Задание 10. Ещё раз выведите перечень уникальных значений столбца `children`, чтобы убедиться, что артефакты удалены.**"
   ]
  },
  {
   "cell_type": "code",
   "execution_count": 10,
   "id": "b6042bd4",
   "metadata": {
    "deletable": false,
    "id": "ad4fa8b7",
    "outputId": "b2097101-d49d-44d9-901b-32a65c9463d1"
   },
   "outputs": [
    {
     "data": {
      "text/plain": [
       "array([1, 0, 3, 2, 4, 5])"
      ]
     },
     "execution_count": 10,
     "metadata": {},
     "output_type": "execute_result"
    }
   ],
   "source": [
    "data['children'].unique()"
   ]
  },
  {
   "cell_type": "markdown",
   "id": "8406d7b5",
   "metadata": {
    "deletable": false,
    "editable": false,
    "id": "75440b63"
   },
   "source": [
    "### Удаление пропусков (продолжение)"
   ]
  },
  {
   "cell_type": "markdown",
   "id": "59b873b8",
   "metadata": {
    "deletable": false,
    "editable": false,
    "id": "f4ea573f"
   },
   "source": [
    "**Задание 11. Заполните пропуски в столбце `days_employed` медианными значениями по каждого типа занятости `income_type`.**"
   ]
  },
  {
   "cell_type": "code",
   "execution_count": 11,
   "id": "7183e713",
   "metadata": {
    "deletable": false,
    "id": "af6b1a7e"
   },
   "outputs": [],
   "source": [
    "for t in data['income_type'].unique():\n",
    "    data.loc[(data['income_type'] == t) & (data['days_employed'].isna()), 'days_employed'] = \\\n",
    "    data.loc[(data['income_type'] == t), 'days_employed'].median()"
   ]
  },
  {
   "cell_type": "markdown",
   "id": "94c49c75",
   "metadata": {
    "deletable": false,
    "editable": false,
    "id": "2753f40d"
   },
   "source": [
    "**Задание 12. Убедитесь, что все пропуски заполнены. Проверьте себя и ещё раз выведите количество пропущенных значений для каждого столбца с помощью двух методов.**"
   ]
  },
  {
   "cell_type": "code",
   "execution_count": 12,
   "id": "7e9eed25",
   "metadata": {
    "deletable": false,
    "id": "55f78bc2",
    "outputId": "8da1e4e1-358e-4e87-98c9-f261bce0a7b2"
   },
   "outputs": [
    {
     "data": {
      "text/plain": [
       "children            0\n",
       "days_employed       0\n",
       "dob_years           0\n",
       "education           0\n",
       "education_id        0\n",
       "family_status       0\n",
       "family_status_id    0\n",
       "gender              0\n",
       "income_type         0\n",
       "debt                0\n",
       "total_income        0\n",
       "purpose             0\n",
       "dtype: int64"
      ]
     },
     "execution_count": 12,
     "metadata": {},
     "output_type": "execute_result"
    }
   ],
   "source": [
    "data.isna().sum()"
   ]
  },
  {
   "cell_type": "markdown",
   "id": "87e3837d",
   "metadata": {
    "deletable": false,
    "editable": false,
    "id": "ddc81e43"
   },
   "source": [
    "### Изменение типов данных"
   ]
  },
  {
   "cell_type": "markdown",
   "id": "0f811b80",
   "metadata": {
    "deletable": false,
    "editable": false,
    "id": "42d19d24"
   },
   "source": [
    "**Задание 13. Замените вещественный тип данных в столбце `total_income` на целочисленный с помощью метода `astype()`.**"
   ]
  },
  {
   "cell_type": "code",
   "execution_count": 13,
   "id": "290be27d",
   "metadata": {
    "deletable": false,
    "id": "920b65ad"
   },
   "outputs": [],
   "source": [
    "data['total_income'] = data['total_income'].astype(int)"
   ]
  },
  {
   "cell_type": "markdown",
   "id": "7fabd472",
   "metadata": {
    "deletable": false,
    "editable": false,
    "id": "80c420ba"
   },
   "source": [
    "### Обработка дубликатов"
   ]
  },
  {
   "cell_type": "markdown",
   "id": "ceb0a716",
   "metadata": {
    "deletable": false,
    "editable": false
   },
   "source": [
    "**Задание 14. Обработайте неявные дубликаты в столбце `education`. В этом столбце есть одни и те же значения, но записанные по-разному: с использованием заглавных и строчных букв. Приведите их к нижнему регистру. Проверьте остальные столбцы.**"
   ]
  },
  {
   "cell_type": "code",
   "execution_count": 14,
   "id": "f5a65b3f",
   "metadata": {
    "deletable": false
   },
   "outputs": [],
   "source": [
    "data['education'] = data['education'].str.lower()"
   ]
  },
  {
   "cell_type": "markdown",
   "id": "5fad8fa5",
   "metadata": {
    "deletable": false,
    "editable": false,
    "id": "dc587695"
   },
   "source": [
    "**Задание 15. Выведите на экран количество строк-дубликатов в данных. Если такие строки присутствуют, удалите их.**"
   ]
  },
  {
   "cell_type": "code",
   "execution_count": 15,
   "id": "10935119",
   "metadata": {
    "deletable": false,
    "id": "3ee445e4",
    "outputId": "9684deba-1934-42d1-99e1-cda61740f822"
   },
   "outputs": [
    {
     "data": {
      "text/plain": [
       "71"
      ]
     },
     "execution_count": 15,
     "metadata": {},
     "output_type": "execute_result"
    }
   ],
   "source": [
    "data.duplicated().sum()"
   ]
  },
  {
   "cell_type": "code",
   "execution_count": 16,
   "id": "b0225663",
   "metadata": {
    "deletable": false,
    "id": "8575fe05"
   },
   "outputs": [],
   "source": [
    "data = data.drop_duplicates()"
   ]
  },
  {
   "cell_type": "markdown",
   "id": "65e527b4",
   "metadata": {
    "deletable": false,
    "editable": false,
    "id": "9904cf55"
   },
   "source": [
    "### Категоризация данных"
   ]
  },
  {
   "cell_type": "markdown",
   "id": "00985e47",
   "metadata": {
    "deletable": false,
    "editable": false,
    "id": "72fcc8a2"
   },
   "source": [
    "**Задание 16. На основании диапазонов, указанных ниже, создайте в датафрейме `data` столбец `total_income_category` с категориями:**\n",
    "\n",
    "- 0–30000 — `'E'`;\n",
    "- 30001–50000 — `'D'`;\n",
    "- 50001–200000 — `'C'`;\n",
    "- 200001–1000000 — `'B'`;\n",
    "- 1000001 и выше — `'A'`.\n",
    "\n",
    "\n",
    "**Например, кредитополучателю с доходом 25000 нужно назначить категорию `'E'`, а клиенту, получающему 235000, — `'B'`. Используйте собственную функцию с именем `categorize_income()` и метод `apply()`.**"
   ]
  },
  {
   "cell_type": "code",
   "execution_count": 17,
   "id": "33081e4b",
   "metadata": {
    "deletable": false,
    "id": "e1771346"
   },
   "outputs": [],
   "source": [
    "def categorize_income(income):\n",
    "    try:\n",
    "        if 0 <= income <= 30000:\n",
    "            return 'E'\n",
    "        elif 30001 <= income <= 50000:\n",
    "            return 'D'\n",
    "        elif 50001 <= income <= 200000:\n",
    "            return 'C'\n",
    "        elif 200001 <= income <= 1000000:\n",
    "            return 'B'\n",
    "        elif income >= 1000001:\n",
    "            return 'A'\n",
    "    except:\n",
    "        pass"
   ]
  },
  {
   "cell_type": "code",
   "execution_count": 18,
   "id": "afb1739c",
   "metadata": {
    "deletable": false,
    "id": "d5f3586d"
   },
   "outputs": [],
   "source": [
    "data['total_income_category'] = data['total_income'].apply(categorize_income)"
   ]
  },
  {
   "cell_type": "markdown",
   "id": "b92bdf73",
   "metadata": {
    "deletable": false,
    "editable": false,
    "id": "dde49b5c"
   },
   "source": [
    "**Задание 17. Выведите на экран перечень уникальных целей взятия кредита из столбца `purpose`.**"
   ]
  },
  {
   "cell_type": "code",
   "execution_count": 19,
   "id": "2bf1febf",
   "metadata": {
    "deletable": false,
    "id": "f67ce9b3",
    "outputId": "673c12d9-7d7e-4ae0-9812-c622c89dd244"
   },
   "outputs": [
    {
     "data": {
      "text/plain": [
       "array(['покупка жилья', 'приобретение автомобиля',\n",
       "       'дополнительное образование', 'сыграть свадьбу',\n",
       "       'операции с жильем', 'образование', 'на проведение свадьбы',\n",
       "       'покупка жилья для семьи', 'покупка недвижимости',\n",
       "       'покупка коммерческой недвижимости', 'покупка жилой недвижимости',\n",
       "       'строительство собственной недвижимости', 'недвижимость',\n",
       "       'строительство недвижимости', 'на покупку подержанного автомобиля',\n",
       "       'на покупку своего автомобиля',\n",
       "       'операции с коммерческой недвижимостью',\n",
       "       'строительство жилой недвижимости', 'жилье',\n",
       "       'операции со своей недвижимостью', 'автомобили',\n",
       "       'заняться образованием', 'сделка с подержанным автомобилем',\n",
       "       'получение образования', 'автомобиль', 'свадьба',\n",
       "       'получение дополнительного образования', 'покупка своего жилья',\n",
       "       'операции с недвижимостью', 'получение высшего образования',\n",
       "       'свой автомобиль', 'сделка с автомобилем',\n",
       "       'профильное образование', 'высшее образование',\n",
       "       'покупка жилья для сдачи', 'на покупку автомобиля', 'ремонт жилью',\n",
       "       'заняться высшим образованием'], dtype=object)"
      ]
     },
     "execution_count": 19,
     "metadata": {},
     "output_type": "execute_result"
    }
   ],
   "source": [
    "data['purpose'].unique()"
   ]
  },
  {
   "cell_type": "markdown",
   "id": "a634f13a",
   "metadata": {
    "deletable": false,
    "editable": false,
    "id": "85d0aef0"
   },
   "source": [
    "**Задание 18. Создайте функцию, которая на основании данных из столбца `purpose` сформирует новый столбец `purpose_category`, в который войдут следующие категории:**\n",
    "\n",
    "- `'операции с автомобилем'`,\n",
    "- `'операции с недвижимостью'`,\n",
    "- `'проведение свадьбы'`,\n",
    "- `'получение образования'`.\n",
    "\n",
    "**Например, если в столбце `purpose` находится подстрока `'на покупку автомобиля'`, то в столбце `purpose_category` должна появиться строка `'операции с автомобилем'`.**\n",
    "\n",
    "**Используйте собственную функцию с именем `categorize_purpose()` и метод `apply()`. Изучите данные в столбце `purpose` и определите, какие подстроки помогут вам правильно определить категорию.**"
   ]
  },
  {
   "cell_type": "code",
   "execution_count": 20,
   "id": "22d63c22",
   "metadata": {
    "deletable": false,
    "id": "e149fab4"
   },
   "outputs": [],
   "source": [
    "def categorize_purpose(row):\n",
    "    try:\n",
    "        if 'автом' in row:\n",
    "            return 'операции с автомобилем'\n",
    "        elif 'жил' in row or 'недвиж' in row:\n",
    "            return 'операции с недвижимостью'\n",
    "        elif 'свад' in row:\n",
    "            return 'проведение свадьбы'\n",
    "        elif 'образов' in row:\n",
    "            return 'получение образования'\n",
    "    except:\n",
    "        return 'нет категории'"
   ]
  },
  {
   "cell_type": "code",
   "execution_count": 21,
   "id": "6a1bd3da",
   "metadata": {
    "deletable": false,
    "id": "bf36e69b"
   },
   "outputs": [],
   "source": [
    "data['purpose_category'] = data['purpose'].apply(categorize_purpose)"
   ]
  },
  {
   "cell_type": "markdown",
   "id": "f6110df3",
   "metadata": {
    "deletable": false,
    "editable": false,
    "id": "09b242bf"
   },
   "source": [
    "### Шаг 3. Исследуйте данные и ответьте на вопросы"
   ]
  },
  {
   "cell_type": "markdown",
   "id": "0bcf3a6d",
   "metadata": {
    "deletable": false,
    "editable": false,
    "id": "c5d66278"
   },
   "source": [
    "#### 3.1 Есть ли зависимость между количеством детей и возвратом кредита в срок?"
   ]
  },
  {
   "cell_type": "code",
   "execution_count": 22,
   "id": "50938dd5",
   "metadata": {
    "deletable": false,
    "id": "2cacfc4a"
   },
   "outputs": [
    {
     "data": {
      "text/plain": [
       "children\n",
       "0    1063\n",
       "1     444\n",
       "2     194\n",
       "3      27\n",
       "4       4\n",
       "5       0\n",
       "Name: debt, dtype: int64"
      ]
     },
     "execution_count": 22,
     "metadata": {},
     "output_type": "execute_result"
    }
   ],
   "source": [
    "# Ваш код будет здесь. Вы можете создавать новые ячейки.\n",
    "data.groupby('children')['debt'].sum()"
   ]
  },
  {
   "cell_type": "markdown",
   "id": "a0a284b8",
   "metadata": {},
   "source": [
    "Первичным подсчетом количества людей с задолженностью в зависимости от количества детей видно, что с увеличением количества детей растет вероятность своевроменного погашения кредита.<br>\n",
    "Однако на этот результат опираться нельзя - нужно вычислить процентное соотношение для каждой группы"
   ]
  },
  {
   "cell_type": "code",
   "execution_count": 23,
   "id": "6a4fa7d4",
   "metadata": {},
   "outputs": [
    {
     "data": {
      "text/html": [
       "<div>\n",
       "<style scoped>\n",
       "    .dataframe tbody tr th:only-of-type {\n",
       "        vertical-align: middle;\n",
       "    }\n",
       "\n",
       "    .dataframe tbody tr th {\n",
       "        vertical-align: top;\n",
       "    }\n",
       "\n",
       "    .dataframe thead tr th {\n",
       "        text-align: left;\n",
       "    }\n",
       "\n",
       "    .dataframe thead tr:last-of-type th {\n",
       "        text-align: right;\n",
       "    }\n",
       "</style>\n",
       "<table border=\"1\" class=\"dataframe\">\n",
       "  <thead>\n",
       "    <tr>\n",
       "      <th></th>\n",
       "      <th colspan=\"2\" halign=\"left\">debt</th>\n",
       "      <th>ratio</th>\n",
       "    </tr>\n",
       "    <tr>\n",
       "      <th></th>\n",
       "      <th>count</th>\n",
       "      <th>sum</th>\n",
       "      <th></th>\n",
       "    </tr>\n",
       "    <tr>\n",
       "      <th>children</th>\n",
       "      <th></th>\n",
       "      <th></th>\n",
       "      <th></th>\n",
       "    </tr>\n",
       "  </thead>\n",
       "  <tbody>\n",
       "    <tr>\n",
       "      <th>4</th>\n",
       "      <td>41</td>\n",
       "      <td>4</td>\n",
       "      <td>0.097561</td>\n",
       "    </tr>\n",
       "    <tr>\n",
       "      <th>2</th>\n",
       "      <td>2052</td>\n",
       "      <td>194</td>\n",
       "      <td>0.094542</td>\n",
       "    </tr>\n",
       "    <tr>\n",
       "      <th>1</th>\n",
       "      <td>4808</td>\n",
       "      <td>444</td>\n",
       "      <td>0.092346</td>\n",
       "    </tr>\n",
       "    <tr>\n",
       "      <th>3</th>\n",
       "      <td>330</td>\n",
       "      <td>27</td>\n",
       "      <td>0.081818</td>\n",
       "    </tr>\n",
       "    <tr>\n",
       "      <th>0</th>\n",
       "      <td>14091</td>\n",
       "      <td>1063</td>\n",
       "      <td>0.075438</td>\n",
       "    </tr>\n",
       "    <tr>\n",
       "      <th>5</th>\n",
       "      <td>9</td>\n",
       "      <td>0</td>\n",
       "      <td>0.000000</td>\n",
       "    </tr>\n",
       "  </tbody>\n",
       "</table>\n",
       "</div>"
      ],
      "text/plain": [
       "           debt           ratio\n",
       "          count   sum          \n",
       "children                       \n",
       "4            41     4  0.097561\n",
       "2          2052   194  0.094542\n",
       "1          4808   444  0.092346\n",
       "3           330    27  0.081818\n",
       "0         14091  1063  0.075438\n",
       "5             9     0  0.000000"
      ]
     },
     "execution_count": 23,
     "metadata": {},
     "output_type": "execute_result"
    }
   ],
   "source": [
    "data_grouped = data.groupby('children').agg({'debt': ['count', 'sum']})\n",
    "data_grouped['ratio'] = data_grouped['debt']['sum'] / data_grouped['debt']['count']\n",
    "data_grouped.sort_values(by='ratio', ascending=False)"
   ]
  },
  {
   "cell_type": "code",
   "execution_count": 39,
   "id": "56e1e5c7",
   "metadata": {},
   "outputs": [
    {
     "data": {
      "text/plain": [
       "children\n",
       "0    AxesSubplot(0.125,0.125;0.775x0.755)\n",
       "1    AxesSubplot(0.125,0.125;0.775x0.755)\n",
       "2    AxesSubplot(0.125,0.125;0.775x0.755)\n",
       "3    AxesSubplot(0.125,0.125;0.775x0.755)\n",
       "4    AxesSubplot(0.125,0.125;0.775x0.755)\n",
       "5    AxesSubplot(0.125,0.125;0.775x0.755)\n",
       "Name: children, dtype: object"
      ]
     },
     "execution_count": 39,
     "metadata": {},
     "output_type": "execute_result"
    },
    {
     "data": {
      "image/png": "[encoded data removed]",
      "text/plain": [
       "<Figure size 432x288 with 1 Axes>"
      ]
     },
     "metadata": {
      "needs_background": "light"
     },
     "output_type": "display_data"
    }
   ],
   "source": [
    "import pylab as pl\n",
    "pl.title(\"Гистограмма распределения заемщиков по количеству детей\")\n",
    "pl.xlabel(\"Количество детей\")\n",
    "pl.ylabel(\"Количество заемщиков\")\n",
    "data.groupby('children')['children'].hist()"
   ]
  },
  {
   "cell_type": "markdown",
   "id": "4d5dd314",
   "metadata": {
    "deletable": false,
    "id": "3a6b99ec"
   },
   "source": [
    "**Вывод:** <br>\n",
    "В результате видно, что первичное предположение было ошибочным.<br>\n",
    "Данные по количеству детей распределены неравномерно: заемщиков без детей 14000, а с пятью детьми - 9. По этой выборке сделать объективный вывод о наличии зависимости между количеством детей и возвратом кредита в срок сложно.<br>\n",
    "Однако на самых многочисленных группах с 0, 1 и 2 детьми видно, что с увеличением количества детей растет вероятность просрочить платеж."
   ]
  },
  {
   "cell_type": "markdown",
   "id": "790dfb29",
   "metadata": {
    "deletable": false,
    "editable": false,
    "id": "97be82ca"
   },
   "source": [
    "#### 3.2 Есть ли зависимость между семейным положением и возвратом кредита в срок?"
   ]
  },
  {
   "cell_type": "code",
   "execution_count": 25,
   "id": "67b2b47c",
   "metadata": {
    "deletable": false,
    "id": "dc3f7ee8"
   },
   "outputs": [
    {
     "data": {
      "text/plain": [
       "family_status\n",
       "Не женат / не замужем    273\n",
       "в разводе                 84\n",
       "вдовец / вдова            63\n",
       "гражданский брак         385\n",
       "женат / замужем          927\n",
       "Name: debt, dtype: int64"
      ]
     },
     "execution_count": 25,
     "metadata": {},
     "output_type": "execute_result"
    }
   ],
   "source": [
    "# Ваш код будет здесь. Вы можете создавать новые ячейки.\n",
    "data.groupby('family_status')['debt'].sum()"
   ]
  },
  {
   "cell_type": "code",
   "execution_count": 26,
   "id": "fcddb703",
   "metadata": {},
   "outputs": [
    {
     "data": {
      "text/html": [
       "<div>\n",
       "<style scoped>\n",
       "    .dataframe tbody tr th:only-of-type {\n",
       "        vertical-align: middle;\n",
       "    }\n",
       "\n",
       "    .dataframe tbody tr th {\n",
       "        vertical-align: top;\n",
       "    }\n",
       "\n",
       "    .dataframe thead tr th {\n",
       "        text-align: left;\n",
       "    }\n",
       "\n",
       "    .dataframe thead tr:last-of-type th {\n",
       "        text-align: right;\n",
       "    }\n",
       "</style>\n",
       "<table border=\"1\" class=\"dataframe\">\n",
       "  <thead>\n",
       "    <tr>\n",
       "      <th></th>\n",
       "      <th colspan=\"2\" halign=\"left\">debt</th>\n",
       "      <th>ratio</th>\n",
       "    </tr>\n",
       "    <tr>\n",
       "      <th></th>\n",
       "      <th>count</th>\n",
       "      <th>sum</th>\n",
       "      <th></th>\n",
       "    </tr>\n",
       "    <tr>\n",
       "      <th>family_status</th>\n",
       "      <th></th>\n",
       "      <th></th>\n",
       "      <th></th>\n",
       "    </tr>\n",
       "  </thead>\n",
       "  <tbody>\n",
       "    <tr>\n",
       "      <th>Не женат / не замужем</th>\n",
       "      <td>2796</td>\n",
       "      <td>273</td>\n",
       "      <td>0.097639</td>\n",
       "    </tr>\n",
       "    <tr>\n",
       "      <th>гражданский брак</th>\n",
       "      <td>4134</td>\n",
       "      <td>385</td>\n",
       "      <td>0.093130</td>\n",
       "    </tr>\n",
       "    <tr>\n",
       "      <th>женат / замужем</th>\n",
       "      <td>12261</td>\n",
       "      <td>927</td>\n",
       "      <td>0.075606</td>\n",
       "    </tr>\n",
       "    <tr>\n",
       "      <th>в разводе</th>\n",
       "      <td>1189</td>\n",
       "      <td>84</td>\n",
       "      <td>0.070648</td>\n",
       "    </tr>\n",
       "    <tr>\n",
       "      <th>вдовец / вдова</th>\n",
       "      <td>951</td>\n",
       "      <td>63</td>\n",
       "      <td>0.066246</td>\n",
       "    </tr>\n",
       "  </tbody>\n",
       "</table>\n",
       "</div>"
      ],
      "text/plain": [
       "                        debt          ratio\n",
       "                       count  sum          \n",
       "family_status                              \n",
       "Не женат / не замужем   2796  273  0.097639\n",
       "гражданский брак        4134  385  0.093130\n",
       "женат / замужем        12261  927  0.075606\n",
       "в разводе               1189   84  0.070648\n",
       "вдовец / вдова           951   63  0.066246"
      ]
     },
     "execution_count": 26,
     "metadata": {},
     "output_type": "execute_result"
    }
   ],
   "source": [
    "data_grouped = data.groupby('family_status').agg({'debt': ['count', 'sum']})\n",
    "data_grouped['ratio'] = data_grouped['debt']['sum'] / data_grouped['debt']['count']\n",
    "data_grouped.sort_values(by='ratio', ascending=False)"
   ]
  },
  {
   "cell_type": "code",
   "execution_count": 40,
   "id": "6b093685",
   "metadata": {},
   "outputs": [
    {
     "data": {
      "text/plain": [
       "family_status\n",
       "Не женат / не замужем    AxesSubplot(0.125,0.125;0.775x0.755)\n",
       "в разводе                AxesSubplot(0.125,0.125;0.775x0.755)\n",
       "вдовец / вдова           AxesSubplot(0.125,0.125;0.775x0.755)\n",
       "гражданский брак         AxesSubplot(0.125,0.125;0.775x0.755)\n",
       "женат / замужем          AxesSubplot(0.125,0.125;0.775x0.755)\n",
       "Name: family_status, dtype: object"
      ]
     },
     "execution_count": 40,
     "metadata": {},
     "output_type": "execute_result"
    },
    {
     "data": {
      "image/png": "[encoded data removed]",
      "text/plain": [
       "<Figure size 432x288 with 1 Axes>"
      ]
     },
     "metadata": {
      "needs_background": "light"
     },
     "output_type": "display_data"
    }
   ],
   "source": [
    "import pylab as pl\n",
    "pl.title(\"Гистограмма распределения заемщиков по семейному положению\")\n",
    "pl.xlabel(\"Семейное положение\")\n",
    "pl.ylabel(\"Количество заемщиков\")\n",
    "data.groupby('family_status')['family_status'].hist(xrot=30)"
   ]
  },
  {
   "cell_type": "markdown",
   "id": "7965a174",
   "metadata": {
    "deletable": false,
    "id": "1cef7837"
   },
   "source": [
    "**Вывод:** <br>\n",
    "Ситуация с распределением данных в зависимости от семейного положения выглядит схожим образом с количеством детей, но минимальное значение распределения - 951 у вдовцов и вдов, что является, на мой взгляд, приемлимым, чтобы делать выводы.<br>\n",
    "Да, зависимость между семейным положением и возвратом кредита в срок есть. Предпочтительнее кредитовать женатых, замужних и тех, кто ранее состоял в браке."
   ]
  },
  {
   "cell_type": "markdown",
   "id": "b09cf385",
   "metadata": {
    "deletable": false,
    "editable": false,
    "id": "1e8b2fca"
   },
   "source": [
    "#### 3.3 Есть ли зависимость между уровнем дохода и возвратом кредита в срок?"
   ]
  },
  {
   "cell_type": "code",
   "execution_count": 28,
   "id": "e52f3f68",
   "metadata": {
    "deletable": false,
    "id": "cd7e3720"
   },
   "outputs": [
    {
     "data": {
      "text/plain": [
       "total_income_category\n",
       "A       2\n",
       "B     354\n",
       "C    1353\n",
       "D      21\n",
       "E       2\n",
       "Name: debt, dtype: int64"
      ]
     },
     "execution_count": 28,
     "metadata": {},
     "output_type": "execute_result"
    }
   ],
   "source": [
    "# Ваш код будет здесь. Вы можете создавать новые ячейки.\n",
    "data.groupby('total_income_category')['debt'].sum()"
   ]
  },
  {
   "cell_type": "code",
   "execution_count": 29,
   "id": "72073e51",
   "metadata": {},
   "outputs": [
    {
     "data": {
      "text/html": [
       "<div>\n",
       "<style scoped>\n",
       "    .dataframe tbody tr th:only-of-type {\n",
       "        vertical-align: middle;\n",
       "    }\n",
       "\n",
       "    .dataframe tbody tr th {\n",
       "        vertical-align: top;\n",
       "    }\n",
       "\n",
       "    .dataframe thead tr th {\n",
       "        text-align: left;\n",
       "    }\n",
       "\n",
       "    .dataframe thead tr:last-of-type th {\n",
       "        text-align: right;\n",
       "    }\n",
       "</style>\n",
       "<table border=\"1\" class=\"dataframe\">\n",
       "  <thead>\n",
       "    <tr>\n",
       "      <th></th>\n",
       "      <th colspan=\"2\" halign=\"left\">debt</th>\n",
       "      <th>ratio</th>\n",
       "    </tr>\n",
       "    <tr>\n",
       "      <th></th>\n",
       "      <th>count</th>\n",
       "      <th>sum</th>\n",
       "      <th></th>\n",
       "    </tr>\n",
       "    <tr>\n",
       "      <th>total_income_category</th>\n",
       "      <th></th>\n",
       "      <th></th>\n",
       "      <th></th>\n",
       "    </tr>\n",
       "  </thead>\n",
       "  <tbody>\n",
       "    <tr>\n",
       "      <th>E</th>\n",
       "      <td>22</td>\n",
       "      <td>2</td>\n",
       "      <td>0.090909</td>\n",
       "    </tr>\n",
       "    <tr>\n",
       "      <th>C</th>\n",
       "      <td>15921</td>\n",
       "      <td>1353</td>\n",
       "      <td>0.084982</td>\n",
       "    </tr>\n",
       "    <tr>\n",
       "      <th>A</th>\n",
       "      <td>25</td>\n",
       "      <td>2</td>\n",
       "      <td>0.080000</td>\n",
       "    </tr>\n",
       "    <tr>\n",
       "      <th>B</th>\n",
       "      <td>5014</td>\n",
       "      <td>354</td>\n",
       "      <td>0.070602</td>\n",
       "    </tr>\n",
       "    <tr>\n",
       "      <th>D</th>\n",
       "      <td>349</td>\n",
       "      <td>21</td>\n",
       "      <td>0.060172</td>\n",
       "    </tr>\n",
       "  </tbody>\n",
       "</table>\n",
       "</div>"
      ],
      "text/plain": [
       "                        debt           ratio\n",
       "                       count   sum          \n",
       "total_income_category                       \n",
       "E                         22     2  0.090909\n",
       "C                      15921  1353  0.084982\n",
       "A                         25     2  0.080000\n",
       "B                       5014   354  0.070602\n",
       "D                        349    21  0.060172"
      ]
     },
     "execution_count": 29,
     "metadata": {},
     "output_type": "execute_result"
    }
   ],
   "source": [
    "data_grouped = data.groupby('total_income_category').agg({'debt': ['count', 'sum']})\n",
    "data_grouped['ratio'] = data_grouped['debt']['sum'] / data_grouped['debt']['count']\n",
    "data_grouped.sort_values(by='ratio', ascending=False)"
   ]
  },
  {
   "cell_type": "code",
   "execution_count": 41,
   "id": "7b43bf1c",
   "metadata": {},
   "outputs": [
    {
     "data": {
      "text/plain": [
       "total_income_category\n",
       "A    AxesSubplot(0.125,0.125;0.775x0.755)\n",
       "B    AxesSubplot(0.125,0.125;0.775x0.755)\n",
       "C    AxesSubplot(0.125,0.125;0.775x0.755)\n",
       "D    AxesSubplot(0.125,0.125;0.775x0.755)\n",
       "E    AxesSubplot(0.125,0.125;0.775x0.755)\n",
       "Name: total_income_category, dtype: object"
      ]
     },
     "execution_count": 41,
     "metadata": {},
     "output_type": "execute_result"
    },
    {
     "data": {
      "image/png": "[encoded data removed]",
      "text/plain": [
       "<Figure size 432x288 with 1 Axes>"
      ]
     },
     "metadata": {
      "needs_background": "light"
     },
     "output_type": "display_data"
    }
   ],
   "source": [
    "import pylab as pl\n",
    "pl.title(\"Гистограмма распределения заемщиков по уровню дохода\")\n",
    "pl.xlabel(\"Категория дохода\")\n",
    "pl.ylabel(\"Количество заемщиков\")\n",
    "data.groupby('total_income_category')['total_income_category'].hist()"
   ]
  },
  {
   "cell_type": "markdown",
   "id": "be47cb26",
   "metadata": {
    "deletable": false,
    "id": "e8593def"
   },
   "source": [
    "**Вывод:** <br>\n",
    "Данные распределены неравномерно с явным преобладанием групп С и B. Поэтому анализу будут подвергаться только данные две группы.<br>\n",
    "С уменьшением уровня дохода растет вероятность просрочить платеж по кредиту."
   ]
  },
  {
   "cell_type": "markdown",
   "id": "b684af00",
   "metadata": {
    "deletable": false,
    "editable": false,
    "id": "99ecbd1f"
   },
   "source": [
    "#### 3.4 Как разные цели кредита влияют на его возврат в срок?"
   ]
  },
  {
   "cell_type": "code",
   "execution_count": 31,
   "id": "5057f3ef",
   "metadata": {
    "deletable": false,
    "id": "2b687290"
   },
   "outputs": [
    {
     "data": {
      "text/plain": [
       "purpose_category\n",
       "операции с автомобилем      400\n",
       "операции с недвижимостью    780\n",
       "получение образования       369\n",
       "проведение свадьбы          183\n",
       "Name: debt, dtype: int64"
      ]
     },
     "execution_count": 31,
     "metadata": {},
     "output_type": "execute_result"
    }
   ],
   "source": [
    "# Ваш код будет здесь. Вы можете создавать новые ячейки.\n",
    "data.groupby('purpose_category')['debt'].sum()"
   ]
  },
  {
   "cell_type": "code",
   "execution_count": 32,
   "id": "634e8352",
   "metadata": {},
   "outputs": [
    {
     "data": {
      "text/html": [
       "<div>\n",
       "<style scoped>\n",
       "    .dataframe tbody tr th:only-of-type {\n",
       "        vertical-align: middle;\n",
       "    }\n",
       "\n",
       "    .dataframe tbody tr th {\n",
       "        vertical-align: top;\n",
       "    }\n",
       "\n",
       "    .dataframe thead tr th {\n",
       "        text-align: left;\n",
       "    }\n",
       "\n",
       "    .dataframe thead tr:last-of-type th {\n",
       "        text-align: right;\n",
       "    }\n",
       "</style>\n",
       "<table border=\"1\" class=\"dataframe\">\n",
       "  <thead>\n",
       "    <tr>\n",
       "      <th></th>\n",
       "      <th colspan=\"2\" halign=\"left\">debt</th>\n",
       "      <th>ratio</th>\n",
       "    </tr>\n",
       "    <tr>\n",
       "      <th></th>\n",
       "      <th>count</th>\n",
       "      <th>sum</th>\n",
       "      <th></th>\n",
       "    </tr>\n",
       "    <tr>\n",
       "      <th>purpose_category</th>\n",
       "      <th></th>\n",
       "      <th></th>\n",
       "      <th></th>\n",
       "    </tr>\n",
       "  </thead>\n",
       "  <tbody>\n",
       "    <tr>\n",
       "      <th>операции с автомобилем</th>\n",
       "      <td>4279</td>\n",
       "      <td>400</td>\n",
       "      <td>0.093480</td>\n",
       "    </tr>\n",
       "    <tr>\n",
       "      <th>получение образования</th>\n",
       "      <td>3988</td>\n",
       "      <td>369</td>\n",
       "      <td>0.092528</td>\n",
       "    </tr>\n",
       "    <tr>\n",
       "      <th>проведение свадьбы</th>\n",
       "      <td>2313</td>\n",
       "      <td>183</td>\n",
       "      <td>0.079118</td>\n",
       "    </tr>\n",
       "    <tr>\n",
       "      <th>операции с недвижимостью</th>\n",
       "      <td>10751</td>\n",
       "      <td>780</td>\n",
       "      <td>0.072551</td>\n",
       "    </tr>\n",
       "  </tbody>\n",
       "</table>\n",
       "</div>"
      ],
      "text/plain": [
       "                           debt          ratio\n",
       "                          count  sum          \n",
       "purpose_category                              \n",
       "операции с автомобилем     4279  400  0.093480\n",
       "получение образования      3988  369  0.092528\n",
       "проведение свадьбы         2313  183  0.079118\n",
       "операции с недвижимостью  10751  780  0.072551"
      ]
     },
     "execution_count": 32,
     "metadata": {},
     "output_type": "execute_result"
    }
   ],
   "source": [
    "data_grouped = data.groupby('purpose_category').agg({'debt': ['count', 'sum']})\n",
    "data_grouped['ratio'] = data_grouped['debt']['sum'] / data_grouped['debt']['count']\n",
    "data_grouped.sort_values(by='ratio', ascending=False)"
   ]
  },
  {
   "cell_type": "code",
   "execution_count": 42,
   "id": "e27b7d9d",
   "metadata": {},
   "outputs": [
    {
     "data": {
      "text/plain": [
       "purpose_category\n",
       "операции с автомобилем      AxesSubplot(0.125,0.125;0.775x0.755)\n",
       "операции с недвижимостью    AxesSubplot(0.125,0.125;0.775x0.755)\n",
       "получение образования       AxesSubplot(0.125,0.125;0.775x0.755)\n",
       "проведение свадьбы          AxesSubplot(0.125,0.125;0.775x0.755)\n",
       "Name: purpose_category, dtype: object"
      ]
     },
     "execution_count": 42,
     "metadata": {},
     "output_type": "execute_result"
    },
    {
     "data": {
      "image/png": "[encoded data removed]",
      "text/plain": [
       "<Figure size 432x288 with 1 Axes>"
      ]
     },
     "metadata": {
      "needs_background": "light"
     },
     "output_type": "display_data"
    }
   ],
   "source": [
    "import pylab as pl\n",
    "pl.title(\"Гистограмма распределения заемщиков по целям кредита\")\n",
    "pl.xlabel(\"Цель кредита\")\n",
    "pl.ylabel(\"Количество заемщиков\")\n",
    "data.groupby('purpose_category')['purpose_category'].hist(xrot=30)"
   ]
  },
  {
   "cell_type": "markdown",
   "id": "de205507",
   "metadata": {
    "deletable": false,
    "id": "b4bb2ce6"
   },
   "source": [
    "**Вывод:** <br>\n",
    "Цель кредита влияет на вероятность погашения кредита в срок. <br><br>\n",
    "Самые стабильные кредитополучатели - те, кто берет кредит для операций с недвижимостью.<br> Предполагемая причина: недвижимость приобретают либо для проживания, либо в коммерческих целях. Неуплата кредита в срок грозит, соответственно, выселением из квартиры/дома и передачи имущества банку, либо лишение источника дохода. Данные причины являются сильными мотиваторами для погашения задолженности в срок<br><br>\n",
    "На втором месте - кредит на свадьбу.<br> Предполагаю, задолженность погашается за счет подаренных средств<br><br>\n",
    "Самые нестабильные кредитополучатели те, кто берут кредит на образование и операции с автомобилем - вероятность задолженности у них примерно одинаковая.<br>\n",
    "Это может быть связано с тем, что автомобили весьма неликвидный товар - он значительно теряет в цене после покупки и продолжает терять стоимость с каждым годом экспллуатации.<br>\n",
    "Что касается образования, человек с ним может ошибиться и не найти работу, чтобы его погасить(или искать слишком долго)"
   ]
  },
  {
   "cell_type": "markdown",
   "id": "2323ce6c",
   "metadata": {
    "deletable": false,
    "editable": false,
    "id": "09c3ac4c"
   },
   "source": [
    "#### 3.5 Приведите возможные причины появления пропусков в исходных данных."
   ]
  },
  {
   "cell_type": "markdown",
   "id": "aefa3881",
   "metadata": {
    "deletable": false,
    "id": "9da2ceda"
   },
   "source": [
    "*Ответ:* <br>\n",
    "Причины появления пропусков в исходных данных делятся на две группы:\n",
    "1) **Технические ошибки**: повреждение файла при выгрузке/копировании, сбой базы данных или сервиса, который собирает данные и т.д.<br>\n",
    "2) Ошибки связанные с **человеческим фактором**: человек описался, отвлекся, заполнил значение в другой системе исчислений и т.д."
   ]
  },
  {
   "cell_type": "markdown",
   "id": "e3c12462",
   "metadata": {
    "deletable": false,
    "editable": false,
    "id": "7b0487d6"
   },
   "source": [
    "#### 3.6 Объясните, почему заполнить пропуски медианным значением — лучшее решение для количественных переменных."
   ]
  },
  {
   "cell_type": "markdown",
   "id": "faa659f5",
   "metadata": {
    "deletable": false,
    "id": "7ecf2b8e"
   },
   "source": [
    "*Ответ:* <br>\n",
    "Есть 4 возможных варианта заполнения пропусков в количественных переменных - поправьте, если забыл про какие-нибудь)))<br><br>\n",
    "Медианное, среднее, максимальное, минимальное.\n",
    "Медианное значение лучше подходит, т.к. не учитывает единичные выбросы в данных.<br>\n",
    "Рассмотрим на примере"
   ]
  },
  {
   "cell_type": "code",
   "execution_count": 34,
   "id": "afae9eaa",
   "metadata": {
    "scrolled": true
   },
   "outputs": [
    {
     "name": "stdout",
     "output_type": "stream",
     "text": [
      "Медиана: 100.0\n",
      "Среднее: 2096.1\n",
      "Максимальное: 100000\n",
      "Минимальное: 5\n"
     ]
    }
   ],
   "source": [
    "from statistics import median, mean\n",
    "\n",
    "test_list = [100] * 48\n",
    "test_list.append(100_000)\n",
    "test_list.append(5)\n",
    "print(f'Медиана: {median(test_list)}')\n",
    "print(f'Среднее: {mean(test_list)}')\n",
    "print(f'Максимальное: {max(test_list)}')\n",
    "print(f'Минимальное: {min(test_list)}')"
   ]
  },
  {
   "cell_type": "markdown",
   "id": "2614159b",
   "metadata": {},
   "source": [
    "Как видно из результата, медианное значение лучше отражает картину в выборке"
   ]
  },
  {
   "cell_type": "markdown",
   "id": "642f7fcb",
   "metadata": {
    "deletable": false,
    "editable": false,
    "id": "6db5255a"
   },
   "source": [
    "### Шаг 4: общий вывод."
   ]
  },
  {
   "cell_type": "markdown",
   "id": "c471d050",
   "metadata": {
    "deletable": false,
    "id": "bad65432"
   },
   "source": [
    "Проведено исследование надежности заемщиков банка.<br>\n",
    "На этапе предобработки данных первым делом были выявлены пропуски в в данных - пропущены значения в общем трудовом стаже(days_employed) и ежемесячном доходе(total_income).<br>\n",
    "Пропуски в столбцах total_income и days_employed заменены медианным значением в соответствии с типом занятости заемщика.<br>\n",
    "Также в ходе исследования в этих солбцах устранены аномалии, а именно отрицательные значения.<br>\n",
    "Из выборки удалены строки, где количество детей указано 20 или -1.<br>\n",
    "Обработаны дубликаты в выборке, в частности, в стобце с образованием все данные приведены к одному(нижнему) регистру.<br>\n",
    "Для наглядности и удобства данные из столбцов с ежемесячным доходом и целью кредита распределены по соответствующим категориям.\n",
    "Категории дохода:\n",
    "1) 0–30000 — 'E'<br>\n",
    "2) 30001–50000 — 'D'<br>\n",
    "3) 50001–200000 — 'C'<br>\n",
    "4) 0001–1000000 — 'B'<br>\n",
    "5) 1000001 и выше — 'A'<br>\n",
    "Категории целей кредита:\n",
    "1) операции с автомобилем<br>\n",
    "2) операции с недвижимостью<br>\n",
    "3) проведение свадьбы<br>\n",
    "4) получение образования<br><br>\n",
    "По результатам проведенного анализа, можно сделать вывод, что самыми стабильными плательщиками являются люди, когда-либо состоящие в браке и берущие кредит для операций с недвижимостью или проведения свадьбы.<br>\n",
    "Зависимость между возвратом кредита в срок и количеством детей так же, как и с уровнем дохода, выявлена частична - данных по заемщикам с 3+ детьми и типом дохода A, D, E недостаточно для анализа.<br>\n",
    "На самых многочисленных группах с 0, 1 и 2 детьми видно, что с увеличением количества детей растет вероятность просрочить платеж.<br>\n",
    "С уменьшением уровня дохода растет вероятность просрочить платеж по кредиту - вывод на основании данных о заемщиках с типом дохода B и С.\n"
   ]
  }
 ],
 "metadata": {
  "ExecuteTimeLog": [
   {
    "duration": 68,
    "start_time": "2024-03-28T13:48:28.573Z"
   },
   {
    "duration": 531,
    "start_time": "2024-03-28T13:48:35.364Z"
   },
   {
    "duration": 25,
    "start_time": "2024-03-28T13:48:35.897Z"
   },
   {
    "duration": 25,
    "start_time": "2024-03-28T13:48:35.924Z"
   },
   {
    "duration": 27,
    "start_time": "2024-03-28T13:48:35.952Z"
   },
   {
    "duration": 41,
    "start_time": "2024-03-28T13:48:35.981Z"
   },
   {
    "duration": 4,
    "start_time": "2024-03-28T13:48:36.024Z"
   },
   {
    "duration": 65,
    "start_time": "2024-03-28T13:48:36.029Z"
   },
   {
    "duration": 36,
    "start_time": "2024-03-28T13:48:36.096Z"
   },
   {
    "duration": 39,
    "start_time": "2024-03-28T13:48:36.134Z"
   },
   {
    "duration": 24,
    "start_time": "2024-03-28T13:48:36.178Z"
   },
   {
    "duration": 76,
    "start_time": "2024-03-28T13:48:36.205Z"
   },
   {
    "duration": 22,
    "start_time": "2024-03-28T13:48:36.282Z"
   },
   {
    "duration": 28,
    "start_time": "2024-03-28T13:48:36.306Z"
   },
   {
    "duration": 25,
    "start_time": "2024-03-28T13:48:36.336Z"
   },
   {
    "duration": 42,
    "start_time": "2024-03-28T13:48:36.363Z"
   },
   {
    "duration": 18,
    "start_time": "2024-03-28T13:48:36.407Z"
   },
   {
    "duration": 5,
    "start_time": "2024-03-28T13:48:36.426Z"
   },
   {
    "duration": 42,
    "start_time": "2024-03-28T13:48:36.432Z"
   },
   {
    "duration": 15,
    "start_time": "2024-03-28T13:48:36.476Z"
   },
   {
    "duration": 5,
    "start_time": "2024-03-28T13:48:36.493Z"
   },
   {
    "duration": 24,
    "start_time": "2024-03-28T13:48:36.499Z"
   },
   {
    "duration": 19,
    "start_time": "2024-03-28T13:48:36.525Z"
   },
   {
    "duration": 8,
    "start_time": "2024-03-28T13:48:36.546Z"
   },
   {
    "duration": 5,
    "start_time": "2024-03-28T13:48:36.557Z"
   },
   {
    "duration": 16,
    "start_time": "2024-03-28T13:48:36.564Z"
   },
   {
    "duration": 7,
    "start_time": "2024-03-28T13:51:42.453Z"
   },
   {
    "duration": 6,
    "start_time": "2024-03-28T13:59:56.675Z"
   },
   {
    "duration": 523,
    "start_time": "2024-03-28T14:00:27.781Z"
   },
   {
    "duration": 24,
    "start_time": "2024-03-28T14:00:28.306Z"
   },
   {
    "duration": 17,
    "start_time": "2024-03-28T14:00:28.332Z"
   },
   {
    "duration": 26,
    "start_time": "2024-03-28T14:00:28.351Z"
   },
   {
    "duration": 56,
    "start_time": "2024-03-28T14:00:28.381Z"
   },
   {
    "duration": 4,
    "start_time": "2024-03-28T14:00:28.439Z"
   },
   {
    "duration": 22,
    "start_time": "2024-03-28T14:00:28.444Z"
   },
   {
    "duration": 25,
    "start_time": "2024-03-28T14:00:28.467Z"
   },
   {
    "duration": 14,
    "start_time": "2024-03-28T14:00:28.494Z"
   },
   {
    "duration": 5,
    "start_time": "2024-03-28T14:00:28.512Z"
   },
   {
    "duration": 78,
    "start_time": "2024-03-28T14:00:28.519Z"
   },
   {
    "duration": 13,
    "start_time": "2024-03-28T14:00:28.599Z"
   },
   {
    "duration": 4,
    "start_time": "2024-03-28T14:00:28.613Z"
   },
   {
    "duration": 32,
    "start_time": "2024-03-28T14:00:28.619Z"
   },
   {
    "duration": 34,
    "start_time": "2024-03-28T14:00:28.654Z"
   },
   {
    "duration": 27,
    "start_time": "2024-03-28T14:00:28.691Z"
   },
   {
    "duration": 4,
    "start_time": "2024-03-28T14:00:28.720Z"
   },
   {
    "duration": 13,
    "start_time": "2024-03-28T14:00:28.726Z"
   },
   {
    "duration": 16,
    "start_time": "2024-03-28T14:00:28.741Z"
   },
   {
    "duration": 22,
    "start_time": "2024-03-28T14:00:28.759Z"
   },
   {
    "duration": 23,
    "start_time": "2024-03-28T14:00:28.782Z"
   },
   {
    "duration": 21,
    "start_time": "2024-03-28T14:00:28.807Z"
   },
   {
    "duration": 13,
    "start_time": "2024-03-28T14:00:28.829Z"
   },
   {
    "duration": 18,
    "start_time": "2024-03-28T14:00:28.844Z"
   },
   {
    "duration": 13,
    "start_time": "2024-03-28T14:00:28.864Z"
   },
   {
    "duration": 1484,
    "start_time": "2024-03-28T14:05:28.973Z"
   },
   {
    "duration": 1496,
    "start_time": "2024-03-28T14:05:34.170Z"
   },
   {
    "duration": 1467,
    "start_time": "2024-03-28T14:06:05.837Z"
   },
   {
    "duration": 6,
    "start_time": "2024-03-28T14:06:25.916Z"
   },
   {
    "duration": 20,
    "start_time": "2024-03-28T14:07:45.693Z"
   },
   {
    "duration": 8,
    "start_time": "2024-03-28T14:09:19.780Z"
   },
   {
    "duration": 16,
    "start_time": "2024-03-28T14:12:47.023Z"
   },
   {
    "duration": 14,
    "start_time": "2024-03-28T14:16:12.360Z"
   },
   {
    "duration": 17,
    "start_time": "2024-03-28T14:16:26.280Z"
   },
   {
    "duration": 81,
    "start_time": "2024-03-28T14:18:56.053Z"
   },
   {
    "duration": 90,
    "start_time": "2024-03-28T14:19:08.574Z"
   },
   {
    "duration": 10,
    "start_time": "2024-03-28T14:20:23.405Z"
   },
   {
    "duration": 515,
    "start_time": "2024-03-28T14:20:38.142Z"
   },
   {
    "duration": 26,
    "start_time": "2024-03-28T14:20:38.659Z"
   },
   {
    "duration": 18,
    "start_time": "2024-03-28T14:20:38.686Z"
   },
   {
    "duration": 17,
    "start_time": "2024-03-28T14:20:38.707Z"
   },
   {
    "duration": 72,
    "start_time": "2024-03-28T14:20:38.726Z"
   },
   {
    "duration": 3,
    "start_time": "2024-03-28T14:20:38.800Z"
   },
   {
    "duration": 10,
    "start_time": "2024-03-28T14:20:38.804Z"
   },
   {
    "duration": 5,
    "start_time": "2024-03-28T14:20:38.815Z"
   },
   {
    "duration": 11,
    "start_time": "2024-03-28T14:20:38.821Z"
   },
   {
    "duration": 4,
    "start_time": "2024-03-28T14:20:38.835Z"
   },
   {
    "duration": 66,
    "start_time": "2024-03-28T14:20:38.841Z"
   },
   {
    "duration": 12,
    "start_time": "2024-03-28T14:20:38.909Z"
   },
   {
    "duration": 5,
    "start_time": "2024-03-28T14:20:38.923Z"
   },
   {
    "duration": 14,
    "start_time": "2024-03-28T14:20:38.929Z"
   },
   {
    "duration": 50,
    "start_time": "2024-03-28T14:20:38.944Z"
   },
   {
    "duration": 19,
    "start_time": "2024-03-28T14:20:38.996Z"
   },
   {
    "duration": 5,
    "start_time": "2024-03-28T14:20:39.016Z"
   },
   {
    "duration": 15,
    "start_time": "2024-03-28T14:20:39.023Z"
   },
   {
    "duration": 8,
    "start_time": "2024-03-28T14:20:39.039Z"
   },
   {
    "duration": 31,
    "start_time": "2024-03-28T14:20:39.049Z"
   },
   {
    "duration": 9,
    "start_time": "2024-03-28T14:20:39.082Z"
   },
   {
    "duration": 13,
    "start_time": "2024-03-28T14:20:39.093Z"
   },
   {
    "duration": 85,
    "start_time": "2024-03-28T14:20:39.108Z"
   },
   {
    "duration": 0,
    "start_time": "2024-03-28T14:20:39.195Z"
   },
   {
    "duration": 0,
    "start_time": "2024-03-28T14:20:39.196Z"
   },
   {
    "duration": 0,
    "start_time": "2024-03-28T14:20:39.197Z"
   },
   {
    "duration": 9,
    "start_time": "2024-03-28T14:22:09.326Z"
   },
   {
    "duration": 506,
    "start_time": "2024-03-28T14:23:49.485Z"
   },
   {
    "duration": 28,
    "start_time": "2024-03-28T14:23:49.994Z"
   },
   {
    "duration": 22,
    "start_time": "2024-03-28T14:23:50.023Z"
   },
   {
    "duration": 18,
    "start_time": "2024-03-28T14:23:50.047Z"
   },
   {
    "duration": 62,
    "start_time": "2024-03-28T14:23:50.066Z"
   },
   {
    "duration": 3,
    "start_time": "2024-03-28T14:23:50.130Z"
   },
   {
    "duration": 27,
    "start_time": "2024-03-28T14:23:50.135Z"
   },
   {
    "duration": 41,
    "start_time": "2024-03-28T14:23:50.164Z"
   },
   {
    "duration": 51,
    "start_time": "2024-03-28T14:23:50.207Z"
   },
   {
    "duration": 23,
    "start_time": "2024-03-28T14:23:50.260Z"
   },
   {
    "duration": 57,
    "start_time": "2024-03-28T14:23:50.284Z"
   },
   {
    "duration": 13,
    "start_time": "2024-03-28T14:23:50.343Z"
   },
   {
    "duration": 25,
    "start_time": "2024-03-28T14:23:50.358Z"
   },
   {
    "duration": 55,
    "start_time": "2024-03-28T14:23:50.385Z"
   },
   {
    "duration": 42,
    "start_time": "2024-03-28T14:23:50.442Z"
   },
   {
    "duration": 20,
    "start_time": "2024-03-28T14:23:50.486Z"
   },
   {
    "duration": 14,
    "start_time": "2024-03-28T14:23:50.508Z"
   },
   {
    "duration": 46,
    "start_time": "2024-03-28T14:23:50.524Z"
   },
   {
    "duration": 26,
    "start_time": "2024-03-28T14:23:50.572Z"
   },
   {
    "duration": 19,
    "start_time": "2024-03-28T14:23:50.600Z"
   },
   {
    "duration": 27,
    "start_time": "2024-03-28T14:23:50.621Z"
   },
   {
    "duration": 15,
    "start_time": "2024-03-28T14:23:50.650Z"
   },
   {
    "duration": 91,
    "start_time": "2024-03-28T14:23:50.666Z"
   },
   {
    "duration": 0,
    "start_time": "2024-03-28T14:23:50.759Z"
   },
   {
    "duration": 0,
    "start_time": "2024-03-28T14:23:50.761Z"
   },
   {
    "duration": 0,
    "start_time": "2024-03-28T14:23:50.763Z"
   },
   {
    "duration": 485,
    "start_time": "2024-03-28T14:26:30.510Z"
   },
   {
    "duration": 25,
    "start_time": "2024-03-28T14:26:30.997Z"
   },
   {
    "duration": 59,
    "start_time": "2024-03-28T14:26:31.024Z"
   },
   {
    "duration": 36,
    "start_time": "2024-03-28T14:26:31.085Z"
   },
   {
    "duration": 94,
    "start_time": "2024-03-28T14:26:31.123Z"
   },
   {
    "duration": 46,
    "start_time": "2024-03-28T14:26:31.219Z"
   },
   {
    "duration": 88,
    "start_time": "2024-03-28T14:26:31.267Z"
   },
   {
    "duration": 100,
    "start_time": "2024-03-28T14:26:31.357Z"
   },
   {
    "duration": 74,
    "start_time": "2024-03-28T14:26:31.458Z"
   },
   {
    "duration": 33,
    "start_time": "2024-03-28T14:26:31.536Z"
   },
   {
    "duration": 72,
    "start_time": "2024-03-28T14:26:31.571Z"
   },
   {
    "duration": 41,
    "start_time": "2024-03-28T14:26:31.645Z"
   },
   {
    "duration": 103,
    "start_time": "2024-03-28T14:26:31.688Z"
   },
   {
    "duration": 245,
    "start_time": "2024-03-28T14:26:31.793Z"
   },
   {
    "duration": 146,
    "start_time": "2024-03-28T14:26:32.040Z"
   },
   {
    "duration": 67,
    "start_time": "2024-03-28T14:26:32.188Z"
   },
   {
    "duration": 56,
    "start_time": "2024-03-28T14:26:32.257Z"
   },
   {
    "duration": 53,
    "start_time": "2024-03-28T14:26:32.314Z"
   },
   {
    "duration": 87,
    "start_time": "2024-03-28T14:26:32.368Z"
   },
   {
    "duration": 39,
    "start_time": "2024-03-28T14:26:32.456Z"
   },
   {
    "duration": 39,
    "start_time": "2024-03-28T14:26:32.496Z"
   },
   {
    "duration": 34,
    "start_time": "2024-03-28T14:26:32.537Z"
   },
   {
    "duration": 23,
    "start_time": "2024-03-28T14:26:32.573Z"
   },
   {
    "duration": 2,
    "start_time": "2024-03-28T14:26:32.598Z"
   },
   {
    "duration": 19,
    "start_time": "2024-03-28T14:26:32.602Z"
   },
   {
    "duration": 24,
    "start_time": "2024-03-28T14:26:32.623Z"
   },
   {
    "duration": 18,
    "start_time": "2024-03-28T14:27:09.939Z"
   },
   {
    "duration": 18,
    "start_time": "2024-03-28T14:27:29.417Z"
   },
   {
    "duration": 19,
    "start_time": "2024-03-28T14:27:42.969Z"
   },
   {
    "duration": 534,
    "start_time": "2024-03-28T14:28:31.570Z"
   },
   {
    "duration": 25,
    "start_time": "2024-03-28T14:28:32.106Z"
   },
   {
    "duration": 35,
    "start_time": "2024-03-28T14:28:32.132Z"
   },
   {
    "duration": 23,
    "start_time": "2024-03-28T14:28:32.170Z"
   },
   {
    "duration": 68,
    "start_time": "2024-03-28T14:28:32.195Z"
   },
   {
    "duration": 3,
    "start_time": "2024-03-28T14:28:32.265Z"
   },
   {
    "duration": 48,
    "start_time": "2024-03-28T14:28:32.270Z"
   },
   {
    "duration": 28,
    "start_time": "2024-03-28T14:28:32.320Z"
   },
   {
    "duration": 14,
    "start_time": "2024-03-28T14:28:32.349Z"
   },
   {
    "duration": 9,
    "start_time": "2024-03-28T14:28:32.366Z"
   },
   {
    "duration": 64,
    "start_time": "2024-03-28T14:28:32.377Z"
   },
   {
    "duration": 15,
    "start_time": "2024-03-28T14:28:32.443Z"
   },
   {
    "duration": 17,
    "start_time": "2024-03-28T14:28:32.460Z"
   },
   {
    "duration": 23,
    "start_time": "2024-03-28T14:28:32.479Z"
   },
   {
    "duration": 41,
    "start_time": "2024-03-28T14:28:32.504Z"
   },
   {
    "duration": 20,
    "start_time": "2024-03-28T14:28:32.546Z"
   },
   {
    "duration": 5,
    "start_time": "2024-03-28T14:28:32.568Z"
   },
   {
    "duration": 13,
    "start_time": "2024-03-28T14:28:32.575Z"
   },
   {
    "duration": 13,
    "start_time": "2024-03-28T14:28:32.590Z"
   },
   {
    "duration": 5,
    "start_time": "2024-03-28T14:28:32.605Z"
   },
   {
    "duration": 46,
    "start_time": "2024-03-28T14:28:32.612Z"
   },
   {
    "duration": 18,
    "start_time": "2024-03-28T14:28:32.660Z"
   },
   {
    "duration": 24,
    "start_time": "2024-03-28T14:28:32.680Z"
   },
   {
    "duration": 3,
    "start_time": "2024-03-28T14:28:32.705Z"
   },
   {
    "duration": 8,
    "start_time": "2024-03-28T14:28:32.710Z"
   },
   {
    "duration": 6,
    "start_time": "2024-03-28T14:28:32.719Z"
   },
   {
    "duration": 6,
    "start_time": "2024-03-28T14:28:59.512Z"
   },
   {
    "duration": 74,
    "start_time": "2024-03-28T14:42:21.604Z"
   },
   {
    "duration": 4355,
    "start_time": "2024-03-28T14:42:31.251Z"
   },
   {
    "duration": 169,
    "start_time": "2024-03-28T14:43:03.556Z"
   },
   {
    "duration": 220,
    "start_time": "2024-03-28T14:43:12.835Z"
   },
   {
    "duration": 221,
    "start_time": "2024-03-28T14:43:59.419Z"
   },
   {
    "duration": 215,
    "start_time": "2024-03-28T14:44:12.131Z"
   },
   {
    "duration": 531,
    "start_time": "2024-03-28T14:51:51.844Z"
   },
   {
    "duration": 23,
    "start_time": "2024-03-28T14:51:52.377Z"
   },
   {
    "duration": 41,
    "start_time": "2024-03-28T14:51:52.402Z"
   },
   {
    "duration": 12,
    "start_time": "2024-03-28T14:51:52.445Z"
   },
   {
    "duration": 39,
    "start_time": "2024-03-28T14:51:52.459Z"
   },
   {
    "duration": 3,
    "start_time": "2024-03-28T14:51:52.500Z"
   },
   {
    "duration": 12,
    "start_time": "2024-03-28T14:51:52.505Z"
   },
   {
    "duration": 28,
    "start_time": "2024-03-28T14:51:52.518Z"
   },
   {
    "duration": 28,
    "start_time": "2024-03-28T14:51:52.548Z"
   },
   {
    "duration": 13,
    "start_time": "2024-03-28T14:51:52.579Z"
   },
   {
    "duration": 58,
    "start_time": "2024-03-28T14:51:52.593Z"
   },
   {
    "duration": 11,
    "start_time": "2024-03-28T14:51:52.652Z"
   },
   {
    "duration": 5,
    "start_time": "2024-03-28T14:51:52.665Z"
   },
   {
    "duration": 30,
    "start_time": "2024-03-28T14:51:52.671Z"
   },
   {
    "duration": 35,
    "start_time": "2024-03-28T14:51:52.702Z"
   },
   {
    "duration": 19,
    "start_time": "2024-03-28T14:51:52.739Z"
   },
   {
    "duration": 4,
    "start_time": "2024-03-28T14:51:52.760Z"
   },
   {
    "duration": 18,
    "start_time": "2024-03-28T14:51:52.766Z"
   },
   {
    "duration": 39,
    "start_time": "2024-03-28T14:51:52.786Z"
   },
   {
    "duration": 22,
    "start_time": "2024-03-28T14:51:52.827Z"
   },
   {
    "duration": 27,
    "start_time": "2024-03-28T14:51:52.851Z"
   },
   {
    "duration": 22,
    "start_time": "2024-03-28T14:51:52.880Z"
   },
   {
    "duration": 33,
    "start_time": "2024-03-28T14:51:52.904Z"
   },
   {
    "duration": 501,
    "start_time": "2024-03-28T14:51:52.938Z"
   },
   {
    "duration": 3,
    "start_time": "2024-03-28T14:51:53.441Z"
   },
   {
    "duration": 3,
    "start_time": "2024-03-28T14:51:53.446Z"
   },
   {
    "duration": 6,
    "start_time": "2024-03-28T14:51:53.451Z"
   },
   {
    "duration": 46,
    "start_time": "2024-03-29T12:35:38.133Z"
   },
   {
    "duration": 596,
    "start_time": "2024-03-29T12:35:44.392Z"
   },
   {
    "duration": 22,
    "start_time": "2024-03-29T12:35:44.989Z"
   },
   {
    "duration": 38,
    "start_time": "2024-03-29T12:35:45.012Z"
   },
   {
    "duration": 30,
    "start_time": "2024-03-29T12:35:45.052Z"
   },
   {
    "duration": 43,
    "start_time": "2024-03-29T12:35:45.083Z"
   },
   {
    "duration": 4,
    "start_time": "2024-03-29T12:35:45.128Z"
   },
   {
    "duration": 47,
    "start_time": "2024-03-29T12:35:45.134Z"
   },
   {
    "duration": 46,
    "start_time": "2024-03-29T12:35:45.183Z"
   },
   {
    "duration": 19,
    "start_time": "2024-03-29T12:35:45.230Z"
   },
   {
    "duration": 11,
    "start_time": "2024-03-29T12:35:45.253Z"
   },
   {
    "duration": 49,
    "start_time": "2024-03-29T12:35:45.265Z"
   },
   {
    "duration": 10,
    "start_time": "2024-03-29T12:35:45.315Z"
   },
   {
    "duration": 26,
    "start_time": "2024-03-29T12:35:45.326Z"
   },
   {
    "duration": 39,
    "start_time": "2024-03-29T12:35:45.353Z"
   },
   {
    "duration": 20,
    "start_time": "2024-03-29T12:35:45.394Z"
   },
   {
    "duration": 16,
    "start_time": "2024-03-29T12:35:45.416Z"
   },
   {
    "duration": 54,
    "start_time": "2024-03-29T12:35:45.434Z"
   },
   {
    "duration": 76,
    "start_time": "2024-03-29T12:35:45.490Z"
   },
   {
    "duration": 27,
    "start_time": "2024-03-29T12:35:45.568Z"
   },
   {
    "duration": 9,
    "start_time": "2024-03-29T12:35:45.597Z"
   },
   {
    "duration": 19,
    "start_time": "2024-03-29T12:35:45.607Z"
   },
   {
    "duration": 13,
    "start_time": "2024-03-29T12:35:45.628Z"
   },
   {
    "duration": 16,
    "start_time": "2024-03-29T12:35:45.643Z"
   },
   {
    "duration": 609,
    "start_time": "2024-03-29T12:35:45.661Z"
   },
   {
    "duration": 9,
    "start_time": "2024-03-29T12:35:46.272Z"
   },
   {
    "duration": 2,
    "start_time": "2024-03-29T12:35:46.283Z"
   },
   {
    "duration": 9,
    "start_time": "2024-03-29T12:35:46.287Z"
   },
   {
    "duration": 18,
    "start_time": "2024-03-29T12:36:30.641Z"
   },
   {
    "duration": 171,
    "start_time": "2024-03-29T12:38:07.320Z"
   },
   {
    "duration": 7,
    "start_time": "2024-03-29T12:45:35.068Z"
   },
   {
    "duration": 20,
    "start_time": "2024-03-29T12:46:42.292Z"
   },
   {
    "duration": 213,
    "start_time": "2024-03-29T12:47:19.132Z"
   },
   {
    "duration": 172,
    "start_time": "2024-03-29T12:48:04.786Z"
   },
   {
    "duration": 173,
    "start_time": "2024-03-29T12:48:27.325Z"
   },
   {
    "duration": 9,
    "start_time": "2024-03-29T12:52:59.760Z"
   },
   {
    "duration": 17,
    "start_time": "2024-03-29T12:53:17.922Z"
   },
   {
    "duration": 155,
    "start_time": "2024-03-29T12:54:47.229Z"
   },
   {
    "duration": 180,
    "start_time": "2024-03-29T12:57:27.662Z"
   },
   {
    "duration": 181,
    "start_time": "2024-03-29T12:57:43.344Z"
   },
   {
    "duration": 213,
    "start_time": "2024-03-29T12:57:50.805Z"
   },
   {
    "duration": 187,
    "start_time": "2024-03-29T12:57:54.785Z"
   },
   {
    "duration": 206,
    "start_time": "2024-03-29T12:58:00.833Z"
   },
   {
    "duration": 198,
    "start_time": "2024-03-29T12:58:07.488Z"
   },
   {
    "duration": 5,
    "start_time": "2024-03-29T13:13:31.210Z"
   },
   {
    "duration": 5,
    "start_time": "2024-03-29T13:14:13.127Z"
   },
   {
    "duration": 67,
    "start_time": "2024-03-29T13:14:41.873Z"
   },
   {
    "duration": 7,
    "start_time": "2024-03-29T13:15:26.465Z"
   },
   {
    "duration": 8,
    "start_time": "2024-03-29T13:16:16.632Z"
   },
   {
    "duration": 4,
    "start_time": "2024-03-29T13:16:36.768Z"
   },
   {
    "duration": 448,
    "start_time": "2024-03-29T13:16:45.748Z"
   },
   {
    "duration": 22,
    "start_time": "2024-03-29T13:16:46.198Z"
   },
   {
    "duration": 14,
    "start_time": "2024-03-29T13:16:46.221Z"
   },
   {
    "duration": 9,
    "start_time": "2024-03-29T13:16:46.237Z"
   },
   {
    "duration": 62,
    "start_time": "2024-03-29T13:16:46.247Z"
   },
   {
    "duration": 3,
    "start_time": "2024-03-29T13:16:46.310Z"
   },
   {
    "duration": 7,
    "start_time": "2024-03-29T13:16:46.317Z"
   },
   {
    "duration": 3,
    "start_time": "2024-03-29T13:16:46.326Z"
   },
   {
    "duration": 6,
    "start_time": "2024-03-29T13:16:46.331Z"
   },
   {
    "duration": 5,
    "start_time": "2024-03-29T13:16:46.342Z"
   },
   {
    "duration": 76,
    "start_time": "2024-03-29T13:16:46.349Z"
   },
   {
    "duration": 9,
    "start_time": "2024-03-29T13:16:46.427Z"
   },
   {
    "duration": 22,
    "start_time": "2024-03-29T13:16:46.438Z"
   },
   {
    "duration": 14,
    "start_time": "2024-03-29T13:16:46.462Z"
   },
   {
    "duration": 19,
    "start_time": "2024-03-29T13:16:46.477Z"
   },
   {
    "duration": 24,
    "start_time": "2024-03-29T13:16:46.498Z"
   },
   {
    "duration": 4,
    "start_time": "2024-03-29T13:16:46.523Z"
   },
   {
    "duration": 13,
    "start_time": "2024-03-29T13:16:46.529Z"
   },
   {
    "duration": 12,
    "start_time": "2024-03-29T13:16:46.543Z"
   },
   {
    "duration": 4,
    "start_time": "2024-03-29T13:16:46.557Z"
   },
   {
    "duration": 25,
    "start_time": "2024-03-29T13:16:46.562Z"
   },
   {
    "duration": 17,
    "start_time": "2024-03-29T13:16:46.589Z"
   },
   {
    "duration": 21,
    "start_time": "2024-03-29T13:16:46.607Z"
   },
   {
    "duration": 502,
    "start_time": "2024-03-29T13:16:46.630Z"
   },
   {
    "duration": 6,
    "start_time": "2024-03-29T13:16:47.134Z"
   },
   {
    "duration": 16,
    "start_time": "2024-03-29T13:16:47.142Z"
   },
   {
    "duration": 212,
    "start_time": "2024-03-29T13:16:47.160Z"
   },
   {
    "duration": 7,
    "start_time": "2024-03-29T13:16:47.376Z"
   },
   {
    "duration": 33,
    "start_time": "2024-03-29T13:16:47.385Z"
   },
   {
    "duration": 191,
    "start_time": "2024-03-29T13:16:47.420Z"
   },
   {
    "duration": 12,
    "start_time": "2024-03-29T13:16:47.612Z"
   },
   {
    "duration": 18,
    "start_time": "2024-03-29T13:16:47.626Z"
   },
   {
    "duration": 239,
    "start_time": "2024-03-29T13:16:47.645Z"
   },
   {
    "duration": 76,
    "start_time": "2024-03-29T13:16:47.886Z"
   },
   {
    "duration": 5,
    "start_time": "2024-03-29T13:16:54.322Z"
   },
   {
    "duration": 4,
    "start_time": "2024-03-29T13:17:19.509Z"
   },
   {
    "duration": 4,
    "start_time": "2024-03-29T13:17:38.610Z"
   },
   {
    "duration": 4,
    "start_time": "2024-03-29T13:18:51.530Z"
   },
   {
    "duration": 5,
    "start_time": "2024-03-29T13:21:33.746Z"
   },
   {
    "duration": 492,
    "start_time": "2024-03-29T13:49:17.411Z"
   },
   {
    "duration": 23,
    "start_time": "2024-03-29T13:49:17.906Z"
   },
   {
    "duration": 19,
    "start_time": "2024-03-29T13:49:17.931Z"
   },
   {
    "duration": 11,
    "start_time": "2024-03-29T13:49:17.951Z"
   },
   {
    "duration": 55,
    "start_time": "2024-03-29T13:49:17.963Z"
   },
   {
    "duration": 3,
    "start_time": "2024-03-29T13:49:18.020Z"
   },
   {
    "duration": 29,
    "start_time": "2024-03-29T13:49:18.024Z"
   },
   {
    "duration": 4,
    "start_time": "2024-03-29T13:49:18.054Z"
   },
   {
    "duration": 16,
    "start_time": "2024-03-29T13:49:18.061Z"
   },
   {
    "duration": 4,
    "start_time": "2024-03-29T13:49:18.079Z"
   },
   {
    "duration": 36,
    "start_time": "2024-03-29T13:49:18.084Z"
   },
   {
    "duration": 10,
    "start_time": "2024-03-29T13:49:18.122Z"
   },
   {
    "duration": 5,
    "start_time": "2024-03-29T13:49:18.133Z"
   },
   {
    "duration": 22,
    "start_time": "2024-03-29T13:49:18.140Z"
   },
   {
    "duration": 21,
    "start_time": "2024-03-29T13:49:18.163Z"
   },
   {
    "duration": 38,
    "start_time": "2024-03-29T13:49:18.185Z"
   },
   {
    "duration": 4,
    "start_time": "2024-03-29T13:49:18.224Z"
   },
   {
    "duration": 25,
    "start_time": "2024-03-29T13:49:18.229Z"
   },
   {
    "duration": 6,
    "start_time": "2024-03-29T13:49:18.256Z"
   },
   {
    "duration": 4,
    "start_time": "2024-03-29T13:49:18.264Z"
   },
   {
    "duration": 14,
    "start_time": "2024-03-29T13:49:18.269Z"
   },
   {
    "duration": 10,
    "start_time": "2024-03-29T13:49:18.284Z"
   },
   {
    "duration": 36,
    "start_time": "2024-03-29T13:49:18.296Z"
   },
   {
    "duration": 473,
    "start_time": "2024-03-29T13:49:18.333Z"
   },
   {
    "duration": 10,
    "start_time": "2024-03-29T13:49:18.808Z"
   },
   {
    "duration": 17,
    "start_time": "2024-03-29T13:49:18.819Z"
   },
   {
    "duration": 210,
    "start_time": "2024-03-29T13:49:18.839Z"
   },
   {
    "duration": 6,
    "start_time": "2024-03-29T13:49:19.051Z"
   },
   {
    "duration": 17,
    "start_time": "2024-03-29T13:49:19.059Z"
   },
   {
    "duration": 197,
    "start_time": "2024-03-29T13:49:19.077Z"
   },
   {
    "duration": 8,
    "start_time": "2024-03-29T13:49:19.275Z"
   },
   {
    "duration": 17,
    "start_time": "2024-03-29T13:49:19.284Z"
   },
   {
    "duration": 182,
    "start_time": "2024-03-29T13:49:19.318Z"
   },
   {
    "duration": 19,
    "start_time": "2024-03-29T13:49:19.501Z"
   },
   {
    "duration": 54,
    "start_time": "2024-04-01T07:17:40.917Z"
   },
   {
    "duration": 622,
    "start_time": "2024-04-01T07:17:48.612Z"
   },
   {
    "duration": 23,
    "start_time": "2024-04-01T07:17:49.235Z"
   },
   {
    "duration": 14,
    "start_time": "2024-04-01T07:17:49.260Z"
   },
   {
    "duration": 10,
    "start_time": "2024-04-01T07:17:49.276Z"
   },
   {
    "duration": 35,
    "start_time": "2024-04-01T07:17:49.287Z"
   },
   {
    "duration": 4,
    "start_time": "2024-04-01T07:17:49.324Z"
   },
   {
    "duration": 37,
    "start_time": "2024-04-01T07:17:49.330Z"
   },
   {
    "duration": 5,
    "start_time": "2024-04-01T07:17:49.369Z"
   },
   {
    "duration": 14,
    "start_time": "2024-04-01T07:17:49.375Z"
   },
   {
    "duration": 5,
    "start_time": "2024-04-01T07:17:49.393Z"
   },
   {
    "duration": 75,
    "start_time": "2024-04-01T07:17:49.399Z"
   },
   {
    "duration": 15,
    "start_time": "2024-04-01T07:17:49.476Z"
   },
   {
    "duration": 7,
    "start_time": "2024-04-01T07:17:49.493Z"
   },
   {
    "duration": 14,
    "start_time": "2024-04-01T07:17:49.502Z"
   },
   {
    "duration": 30,
    "start_time": "2024-04-01T07:17:49.517Z"
   },
   {
    "duration": 34,
    "start_time": "2024-04-01T07:17:49.548Z"
   },
   {
    "duration": 5,
    "start_time": "2024-04-01T07:17:49.584Z"
   },
   {
    "duration": 16,
    "start_time": "2024-04-01T07:17:49.590Z"
   },
   {
    "duration": 12,
    "start_time": "2024-04-01T07:17:49.608Z"
   },
   {
    "duration": 5,
    "start_time": "2024-04-01T07:17:49.623Z"
   },
   {
    "duration": 18,
    "start_time": "2024-04-01T07:17:49.629Z"
   },
   {
    "duration": 6,
    "start_time": "2024-04-01T07:17:49.665Z"
   },
   {
    "duration": 19,
    "start_time": "2024-04-01T07:17:49.673Z"
   },
   {
    "duration": 78,
    "start_time": "2024-04-01T07:17:49.693Z"
   },
   {
    "duration": 0,
    "start_time": "2024-04-01T07:17:49.773Z"
   },
   {
    "duration": 0,
    "start_time": "2024-04-01T07:17:49.775Z"
   },
   {
    "duration": 0,
    "start_time": "2024-04-01T07:17:49.776Z"
   },
   {
    "duration": 0,
    "start_time": "2024-04-01T07:17:49.777Z"
   },
   {
    "duration": 0,
    "start_time": "2024-04-01T07:17:49.779Z"
   },
   {
    "duration": 0,
    "start_time": "2024-04-01T07:17:49.780Z"
   },
   {
    "duration": 0,
    "start_time": "2024-04-01T07:17:49.782Z"
   },
   {
    "duration": 0,
    "start_time": "2024-04-01T07:17:49.783Z"
   },
   {
    "duration": 0,
    "start_time": "2024-04-01T07:17:49.785Z"
   },
   {
    "duration": 0,
    "start_time": "2024-04-01T07:17:49.786Z"
   },
   {
    "duration": 506,
    "start_time": "2024-04-01T07:18:12.169Z"
   },
   {
    "duration": 23,
    "start_time": "2024-04-01T07:18:12.677Z"
   },
   {
    "duration": 17,
    "start_time": "2024-04-01T07:18:12.701Z"
   },
   {
    "duration": 12,
    "start_time": "2024-04-01T07:18:12.720Z"
   },
   {
    "duration": 65,
    "start_time": "2024-04-01T07:18:12.733Z"
   },
   {
    "duration": 5,
    "start_time": "2024-04-01T07:18:12.800Z"
   },
   {
    "duration": 18,
    "start_time": "2024-04-01T07:18:12.810Z"
   },
   {
    "duration": 5,
    "start_time": "2024-04-01T07:18:12.830Z"
   },
   {
    "duration": 10,
    "start_time": "2024-04-01T07:18:12.837Z"
   },
   {
    "duration": 5,
    "start_time": "2024-04-01T07:18:12.864Z"
   },
   {
    "duration": 34,
    "start_time": "2024-04-01T07:18:12.870Z"
   },
   {
    "duration": 10,
    "start_time": "2024-04-01T07:18:12.906Z"
   },
   {
    "duration": 4,
    "start_time": "2024-04-01T07:18:12.918Z"
   },
   {
    "duration": 41,
    "start_time": "2024-04-01T07:18:12.924Z"
   },
   {
    "duration": 20,
    "start_time": "2024-04-01T07:18:12.967Z"
   },
   {
    "duration": 17,
    "start_time": "2024-04-01T07:18:12.988Z"
   },
   {
    "duration": 3,
    "start_time": "2024-04-01T07:18:13.007Z"
   },
   {
    "duration": 16,
    "start_time": "2024-04-01T07:18:13.011Z"
   },
   {
    "duration": 9,
    "start_time": "2024-04-01T07:18:13.029Z"
   },
   {
    "duration": 4,
    "start_time": "2024-04-01T07:18:13.040Z"
   },
   {
    "duration": 9,
    "start_time": "2024-04-01T07:18:13.065Z"
   },
   {
    "duration": 9,
    "start_time": "2024-04-01T07:18:13.075Z"
   },
   {
    "duration": 17,
    "start_time": "2024-04-01T07:18:13.085Z"
   },
   {
    "duration": 556,
    "start_time": "2024-04-01T07:18:13.103Z"
   },
   {
    "duration": 11,
    "start_time": "2024-04-01T07:18:13.661Z"
   },
   {
    "duration": 21,
    "start_time": "2024-04-01T07:18:13.674Z"
   },
   {
    "duration": 264,
    "start_time": "2024-04-01T07:18:13.696Z"
   },
   {
    "duration": 10,
    "start_time": "2024-04-01T07:18:13.967Z"
   },
   {
    "duration": 21,
    "start_time": "2024-04-01T07:18:13.979Z"
   },
   {
    "duration": 217,
    "start_time": "2024-04-01T07:18:14.001Z"
   },
   {
    "duration": 8,
    "start_time": "2024-04-01T07:18:14.219Z"
   },
   {
    "duration": 17,
    "start_time": "2024-04-01T07:18:14.229Z"
   },
   {
    "duration": 237,
    "start_time": "2024-04-01T07:18:14.264Z"
   },
   {
    "duration": 10,
    "start_time": "2024-04-01T07:18:14.502Z"
   },
   {
    "duration": 484,
    "start_time": "2024-04-01T07:18:56.073Z"
   },
   {
    "duration": 23,
    "start_time": "2024-04-01T07:18:56.560Z"
   },
   {
    "duration": 20,
    "start_time": "2024-04-01T07:18:56.585Z"
   },
   {
    "duration": 14,
    "start_time": "2024-04-01T07:18:56.608Z"
   },
   {
    "duration": 77,
    "start_time": "2024-04-01T07:18:56.624Z"
   },
   {
    "duration": 4,
    "start_time": "2024-04-01T07:18:56.703Z"
   },
   {
    "duration": 10,
    "start_time": "2024-04-01T07:18:56.708Z"
   },
   {
    "duration": 4,
    "start_time": "2024-04-01T07:18:56.720Z"
   },
   {
    "duration": 8,
    "start_time": "2024-04-01T07:18:56.726Z"
   },
   {
    "duration": 29,
    "start_time": "2024-04-01T07:18:56.737Z"
   },
   {
    "duration": 37,
    "start_time": "2024-04-01T07:18:56.767Z"
   },
   {
    "duration": 11,
    "start_time": "2024-04-01T07:18:56.805Z"
   },
   {
    "duration": 14,
    "start_time": "2024-04-01T07:18:56.817Z"
   },
   {
    "duration": 21,
    "start_time": "2024-04-01T07:18:56.832Z"
   },
   {
    "duration": 29,
    "start_time": "2024-04-01T07:18:56.865Z"
   },
   {
    "duration": 17,
    "start_time": "2024-04-01T07:18:56.896Z"
   },
   {
    "duration": 4,
    "start_time": "2024-04-01T07:18:56.915Z"
   },
   {
    "duration": 11,
    "start_time": "2024-04-01T07:18:56.920Z"
   },
   {
    "duration": 13,
    "start_time": "2024-04-01T07:18:56.933Z"
   },
   {
    "duration": 13,
    "start_time": "2024-04-01T07:18:56.947Z"
   },
   {
    "duration": 12,
    "start_time": "2024-04-01T07:18:56.961Z"
   },
   {
    "duration": 8,
    "start_time": "2024-04-01T07:18:56.974Z"
   },
   {
    "duration": 15,
    "start_time": "2024-04-01T07:18:56.983Z"
   },
   {
    "duration": 455,
    "start_time": "2024-04-01T07:18:56.999Z"
   },
   {
    "duration": 14,
    "start_time": "2024-04-01T07:18:57.456Z"
   },
   {
    "duration": 22,
    "start_time": "2024-04-01T07:18:57.471Z"
   },
   {
    "duration": 228,
    "start_time": "2024-04-01T07:18:57.495Z"
   },
   {
    "duration": 8,
    "start_time": "2024-04-01T07:18:57.726Z"
   },
   {
    "duration": 35,
    "start_time": "2024-04-01T07:18:57.736Z"
   },
   {
    "duration": 263,
    "start_time": "2024-04-01T07:18:57.773Z"
   },
   {
    "duration": 8,
    "start_time": "2024-04-01T07:18:58.038Z"
   },
   {
    "duration": 32,
    "start_time": "2024-04-01T07:18:58.047Z"
   },
   {
    "duration": 247,
    "start_time": "2024-04-01T07:18:58.081Z"
   },
   {
    "duration": 7,
    "start_time": "2024-04-01T07:18:58.329Z"
   },
   {
    "duration": 288,
    "start_time": "2024-04-01T07:37:59.577Z"
   },
   {
    "duration": 145,
    "start_time": "2024-04-01T07:38:44.711Z"
   },
   {
    "duration": 190,
    "start_time": "2024-04-01T07:42:17.182Z"
   },
   {
    "duration": 211,
    "start_time": "2024-04-01T07:44:19.741Z"
   },
   {
    "duration": 222,
    "start_time": "2024-04-01T07:46:31.135Z"
   },
   {
    "duration": 235,
    "start_time": "2024-04-01T07:54:50.939Z"
   },
   {
    "duration": 323,
    "start_time": "2024-04-01T07:55:38.754Z"
   },
   {
    "duration": 198,
    "start_time": "2024-04-01T08:14:26.276Z"
   }
  ],
  "colab": {
   "name": "dpp_template_part2.ipynb",
   "provenance": []
  },
  "kernelspec": {
   "display_name": "Python 3 (ipykernel)",
   "language": "python",
   "name": "python3"
  },
  "language_info": {
   "codemirror_mode": {
    "name": "ipython",
    "version": 3
   },
   "file_extension": ".py",
   "mimetype": "text/x-python",
   "name": "python",
   "nbconvert_exporter": "python",
   "pygments_lexer": "ipython3",
   "version": "3.9.5"
  },
  "toc": {
   "base_numbering": 1,
   "nav_menu": {},
   "number_sections": true,
   "sideBar": true,
   "skip_h1_title": true,
   "title_cell": "Table of Contents",
   "title_sidebar": "Contents",
   "toc_cell": false,
   "toc_position": {},
   "toc_section_display": true,
   "toc_window_display": false
  }
 },
 "nbformat": 4,
 "nbformat_minor": 5
}
